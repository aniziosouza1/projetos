{
 "cells": [
  {
   "cell_type": "markdown",
   "id": "bf4dba84-c9e2-4068-8c22-3e77f57c5c33",
   "metadata": {},
   "source": [
    "# Projeto\n",
    "- É um projeto clássico para detecção de email span, classico. Utilizando o algoritmo Logistic Regression"
   ]
  },
  {
   "cell_type": "markdown",
   "id": "2c9476f1-f976-4301-8356-37c00268c520",
   "metadata": {},
   "source": [
    "## Objetivo\n",
    "- Ele faz um classificador binário do que é span e não span. Tudo isso baseado nos dados de treino que ele aprendeu. No final exporta um relátório separando o que é epan e não span."
   ]
  },
  {
   "cell_type": "markdown",
   "id": "4114762e-e60f-4395-8ac1-adb1a09b0568",
   "metadata": {},
   "source": [
    "### Importação das Bibliotecas"
   ]
  },
  {
   "cell_type": "code",
   "execution_count": 1,
   "id": "2e9e208e-2cb4-46b5-8c06-b421c27f40d9",
   "metadata": {},
   "outputs": [
    {
     "name": "stderr",
     "output_type": "stream",
     "text": [
      "C:\\Users\\Anizio\\anaconda3\\lib\\site-packages\\pandas\\core\\arrays\\masked.py:60: UserWarning: Pandas requires version '1.3.6' or newer of 'bottleneck' (version '1.3.5' currently installed).\n",
      "  from pandas.core import (\n"
     ]
    }
   ],
   "source": [
    "import pandas as pd \n",
    "import numpy as np \n",
    "from sklearn.model_selection import train_test_split \n",
    "from sklearn.feature_extraction.text import TfidfVectorizer \n",
    "from sklearn.linear_model import LogisticRegression \n",
    "from sklearn.metrics import accuracy_score"
   ]
  },
  {
   "cell_type": "code",
   "execution_count": 2,
   "id": "103c95ae-176d-4132-8674-11ba4f709180",
   "metadata": {},
   "outputs": [],
   "source": [
    "# original data\n",
    "data = pd.read_csv('mail_data.csv')"
   ]
  },
  {
   "cell_type": "markdown",
   "id": "f692b9e7-44c3-4819-bea1-fb463a59719a",
   "metadata": {},
   "source": [
    "__"
   ]
  },
  {
   "cell_type": "markdown",
   "id": "88924ec1-6e7f-4e1f-ae03-ce84da5ed2d8",
   "metadata": {},
   "source": [
    "#### Vendo as primeiras linhas do dataset"
   ]
  },
  {
   "cell_type": "code",
   "execution_count": 3,
   "id": "63ea31dc-1342-465e-b2e8-2769d897546e",
   "metadata": {},
   "outputs": [
    {
     "data": {
      "text/html": [
       "<div>\n",
       "<style scoped>\n",
       "    .dataframe tbody tr th:only-of-type {\n",
       "        vertical-align: middle;\n",
       "    }\n",
       "\n",
       "    .dataframe tbody tr th {\n",
       "        vertical-align: top;\n",
       "    }\n",
       "\n",
       "    .dataframe thead th {\n",
       "        text-align: right;\n",
       "    }\n",
       "</style>\n",
       "<table border=\"1\" class=\"dataframe\">\n",
       "  <thead>\n",
       "    <tr style=\"text-align: right;\">\n",
       "      <th></th>\n",
       "      <th>Category</th>\n",
       "      <th>Message</th>\n",
       "    </tr>\n",
       "  </thead>\n",
       "  <tbody>\n",
       "    <tr>\n",
       "      <th>0</th>\n",
       "      <td>ham</td>\n",
       "      <td>Go until jurong point, crazy.. Available only ...</td>\n",
       "    </tr>\n",
       "    <tr>\n",
       "      <th>1</th>\n",
       "      <td>ham</td>\n",
       "      <td>Ok lar... Joking wif u oni...</td>\n",
       "    </tr>\n",
       "    <tr>\n",
       "      <th>2</th>\n",
       "      <td>spam</td>\n",
       "      <td>Free entry in 2 a wkly comp to win FA Cup fina...</td>\n",
       "    </tr>\n",
       "  </tbody>\n",
       "</table>\n",
       "</div>"
      ],
      "text/plain": [
       "  Category                                            Message\n",
       "0      ham  Go until jurong point, crazy.. Available only ...\n",
       "1      ham                      Ok lar... Joking wif u oni...\n",
       "2     spam  Free entry in 2 a wkly comp to win FA Cup fina..."
      ]
     },
     "execution_count": 3,
     "metadata": {},
     "output_type": "execute_result"
    }
   ],
   "source": [
    "data.head(3)"
   ]
  },
  {
   "cell_type": "markdown",
   "id": "7852e65a-0bc8-43d1-a3f0-8bb128272d5b",
   "metadata": {},
   "source": [
    "#### Vendo informações do dataset"
   ]
  },
  {
   "cell_type": "code",
   "execution_count": 4,
   "id": "c8f7afa7-0727-46e1-b232-5514ca0be5a5",
   "metadata": {},
   "outputs": [
    {
     "name": "stdout",
     "output_type": "stream",
     "text": [
      "<class 'pandas.core.frame.DataFrame'>\n",
      "RangeIndex: 5572 entries, 0 to 5571\n",
      "Data columns (total 2 columns):\n",
      " #   Column    Non-Null Count  Dtype \n",
      "---  ------    --------------  ----- \n",
      " 0   Category  5572 non-null   object\n",
      " 1   Message   5572 non-null   object\n",
      "dtypes: object(2)\n",
      "memory usage: 87.2+ KB\n"
     ]
    }
   ],
   "source": [
    "data.info()"
   ]
  },
  {
   "cell_type": "markdown",
   "id": "052603e3-d011-4874-8d03-22cb467af4c2",
   "metadata": {},
   "source": [
    "#### Substituindo valores categóricos (textos)  por números (codificação de variáveis categóricas ou label encoding - manual"
   ]
  },
  {
   "cell_type": "code",
   "execution_count": 5,
   "id": "87702499-49b8-4ffb-a7da-a2417a815147",
   "metadata": {},
   "outputs": [],
   "source": [
    "data.loc[data['Category'] == 'spam', 'Category'] = 0 \n",
    "data.loc[data['Category'] == 'ham', 'Category'] = 1 "
   ]
  },
  {
   "cell_type": "markdown",
   "id": "5b510770-342f-4123-a2f9-0f81e9c988ae",
   "metadata": {},
   "source": [
    "#### Separando as features e o target/rótulo numérico"
   ]
  },
  {
   "cell_type": "code",
   "execution_count": 6,
   "id": "22f98d91-d3c4-41ba-87a6-850ef65c216d",
   "metadata": {},
   "outputs": [],
   "source": [
    "# textos das mensagens (features)\n",
    "X = data['Message'] \n",
    "\n",
    "\n",
    "# 0 ou 1, que indicam spam ou ham (Target)\n",
    "Y = data['Category']"
   ]
  },
  {
   "cell_type": "markdown",
   "id": "5e9bc403-68ac-4e7a-ae93-83cfd9d97d66",
   "metadata": {},
   "source": [
    "#### dividindo os dados em conjuntos de treino e teste"
   ]
  },
  {
   "cell_type": "code",
   "execution_count": 7,
   "id": "d6a2d8b8-71fd-40aa-bbf0-1a0552622058",
   "metadata": {},
   "outputs": [],
   "source": [
    "X_train, X_test, Y_train, Y_test = train_test_split(X, Y, test_size=0.2, random_state=3)"
   ]
  },
  {
   "cell_type": "markdown",
   "id": "8ba1cd5f-8665-4c84-a863-a5bb0db6120b",
   "metadata": {},
   "source": [
    "- X_train\tDados de entrada (features) para TREINAR o modelo (80% dos dados, aqui) coluna de  texto\n",
    "- X_test\tDados de entrada para TESTAR o modelo (20% dos dados, aqui)\n",
    "- Y_train\tRótulos (labels/targets) correspondentes ao X_train 80% coluna rótulada 0 ou 1\n",
    "- Y_test\tRótulos correspondentes ao X_test 20%"
   ]
  },
  {
   "cell_type": "markdown",
   "id": "28a82f16-cf81-4bff-b26f-ab85e8e4be15",
   "metadata": {},
   "source": [
    "Explicando cada Parâmetros usado\n",
    "- X, Y → seus dados originais (features e labels)\n",
    "- test_size=0.2 → 20% dos dados vão para o teste, 80% para treino.\n",
    "- random_state=3 → semente para o gerador de números aleatórios, garantindo que a divisão seja reproduzível (sempre igual, se você rodar de novo)."
   ]
  },
  {
   "cell_type": "markdown",
   "id": "b7c3c3a1-271e-473d-8722-ae177507e960",
   "metadata": {},
   "source": [
    " Por que isso é importante?\n",
    "- Treinar o modelo com X_train e Y_train.\n",
    "- Testar o modelo com X_test e Y_test para verificar se ele generaliza bem para dados novos.\n",
    "- Evita que o modelo “decore” os dados (overfitting)."
   ]
  },
  {
   "cell_type": "markdown",
   "id": "e29ddc4b-f8c0-483e-8f0b-bd8bbe647967",
   "metadata": {},
   "source": [
    "#### Vendo quantas amostras das features irão para o teste e treino"
   ]
  },
  {
   "cell_type": "code",
   "execution_count": 8,
   "id": "68a6a590-6f18-48e7-80a1-64192dbd3647",
   "metadata": {},
   "outputs": [
    {
     "name": "stdout",
     "output_type": "stream",
     "text": [
      "(5572,)\n",
      "(4457,)\n",
      "(1115,)\n"
     ]
    }
   ],
   "source": [
    "print(X.shape)\n",
    "print(X_train.shape)\n",
    "print(X_test.shape)"
   ]
  },
  {
   "cell_type": "markdown",
   "id": "4b95937b-92cd-4ba7-a290-d95a5a620966",
   "metadata": {},
   "source": [
    "- X é quantas amostras (linhas) e colunas existem no total antes da divisão, são suas features\n",
    "- X_train Mostra quantas amostras foram para o conjunto de treino\n",
    "- X_test.shape Mostra quantas amostras foram para o conjunto de teste"
   ]
  },
  {
   "cell_type": "markdown",
   "id": "0002e72b-f213-4f8d-9ae5-354031fe8c81",
   "metadata": {},
   "source": [
    "#### Vendo quantas  amostras das labels irão para o teste e treino"
   ]
  },
  {
   "cell_type": "code",
   "execution_count": 9,
   "id": "ec6baa8c-b4dc-43a9-ad64-92b70fa52e7c",
   "metadata": {},
   "outputs": [
    {
     "name": "stdout",
     "output_type": "stream",
     "text": [
      "(5572,)\n",
      "(4457,)\n",
      "(1115,)\n"
     ]
    }
   ],
   "source": [
    "print(Y.shape)\n",
    "print(Y_train.shape)\n",
    "print(Y_test.shape)"
   ]
  },
  {
   "cell_type": "markdown",
   "id": "a7eac1b6-05f9-46b0-b2e0-d603d32e0298",
   "metadata": {},
   "source": [
    "- Y é quantas amostras (linhas) e colunas existem no total antes da divisão, são suas labels\n",
    "- Y_train Mostra quantas amostras foram para o conjunto de treino\n",
    "- Y_test.shape Mostra quantas amostras foram para o conjunto de teste"
   ]
  },
  {
   "cell_type": "markdown",
   "id": "0a37b69b-2572-41bf-8c1d-5a050ae4d178",
   "metadata": {},
   "source": [
    "#### Vectorização de texto nas features"
   ]
  },
  {
   "cell_type": "code",
   "execution_count": 38,
   "id": "314ecff9-cfd6-448f-931e-06cedd6b1960",
   "metadata": {},
   "outputs": [],
   "source": [
    "feature_extraction = TfidfVectorizer(min_df = 1, stop_words = 'english', lowercase=True)"
   ]
  },
  {
   "cell_type": "code",
   "execution_count": 39,
   "id": "48b30ed4-0a02-4fd8-a4c6-961f3225e6ff",
   "metadata": {},
   "outputs": [],
   "source": [
    "X_train_features = feature_extraction.fit_transform(X_train)\n",
    "\n",
    "\n",
    "# Transforma os dados de teste (SEM usar fit novamente!)\n",
    "X_test_features = feature_extraction.transform(X_test)"
   ]
  },
  {
   "cell_type": "markdown",
   "id": "78021ddb-35ce-4a57-8f01-67c4ccdf84fc",
   "metadata": {},
   "source": [
    "Por que fazer isso?\n",
    "- Modelos de Machine Learning não conseguem entender texto cru (ex: 'Oi, tudo bem?'). Eles precisam de números.\n",
    "Por isso, transformamos os textos em vetores numéricos que representam as palavras."
   ]
  },
  {
   "cell_type": "markdown",
   "id": "01e5d245-14f2-4e22-aeea-5dcb9d76b9b4",
   "metadata": {},
   "source": [
    "Explicação dos parâmetros:\n",
    "- min_df=1\tInclui palavras que aparecem em pelo menos 1 documento (ou seja, todas).\n",
    "- stop_words='english'\tRemove palavras comuns em inglês, como \"the\", \"is\", \"and\", etc. (chamadas stop words)\n",
    "- lowercase=True\tConverte todas as palavras para minúsculas antes da vetorização"
   ]
  },
  {
   "cell_type": "markdown",
   "id": "2d576120-2970-4205-8005-f7a816d3a85f",
   "metadata": {},
   "source": [
    "#### Mudando o para o formato INT as labels"
   ]
  },
  {
   "cell_type": "code",
   "execution_count": 26,
   "id": "2856be92-bf88-4283-a936-97317f698684",
   "metadata": {},
   "outputs": [],
   "source": [
    "Y_train = Y_train.astype('int')\n",
    "Y_test = Y_test.astype('int')"
   ]
  },
  {
   "cell_type": "markdown",
   "id": "d64b3662-c1c8-4ef1-8390-2e4f60c688a6",
   "metadata": {},
   "source": [
    "Por que fazer isso?\n",
    "- Alguns modelos exigem rótulos numéricos\n",
    "Modelos como LogisticRegression, RandomForest, SVC e outros do scikit-learn esperam que os rótulos (Y) sejam números inteiros (0, 1, 2, etc.)\n",
    "\n",
    "- Se Y estiver como string ('spam', 'ham', ou até '0' como texto), pode gerar erro ou funcionar incorretamente."
   ]
  },
  {
   "cell_type": "markdown",
   "id": "929c1d93-9a29-4ce6-8dac-7f5596b2ad60",
   "metadata": {},
   "source": [
    "#### vendo como ficou a vetorização nas labels"
   ]
  },
  {
   "cell_type": "code",
   "execution_count": 27,
   "id": "598ab6c5-31d2-44b7-ab2c-5905e6522dd4",
   "metadata": {},
   "outputs": [
    {
     "name": "stdout",
     "output_type": "stream",
     "text": [
      "  (0, 5413)\t0.6198254967574347\n",
      "  (0, 4456)\t0.4168658090846482\n",
      "  (0, 2224)\t0.413103377943378\n",
      "  (0, 3811)\t0.34780165336891333\n",
      "  (0, 2329)\t0.38783870336935383\n",
      "  (1, 4080)\t0.18880584110891163\n",
      "  (1, 3185)\t0.29694482957694585\n",
      "  (1, 3325)\t0.31610586766078863\n",
      "  (1, 2957)\t0.3398297002864083\n",
      "  (1, 2746)\t0.3398297002864083\n",
      "  (1, 918)\t0.22871581159877646\n",
      "  (1, 1839)\t0.2784903590561455\n",
      "  (1, 2758)\t0.3226407885943799\n",
      "  (1, 2956)\t0.33036995955537024\n",
      "  (1, 1991)\t0.33036995955537024\n",
      "  (1, 3046)\t0.2503712792613518\n",
      "  (1, 3811)\t0.17419952275504033\n",
      "  (2, 407)\t0.509272536051008\n",
      "  (2, 3156)\t0.4107239318312698\n",
      "  (2, 2404)\t0.45287711070606745\n",
      "  (2, 6601)\t0.6056811524587518\n",
      "  (3, 2870)\t0.5864269879324768\n",
      "  (3, 7414)\t0.8100020912469564\n",
      "  (4, 50)\t0.23633754072626942\n",
      "  (4, 5497)\t0.15743785051118356\n",
      "  :\t:\n",
      "  (4454, 4602)\t0.2669765732445391\n",
      "  (4454, 3142)\t0.32014451677763156\n",
      "  (4455, 2247)\t0.37052851863170466\n",
      "  (4455, 2469)\t0.35441545511837946\n",
      "  (4455, 5646)\t0.33545678464631296\n",
      "  (4455, 6810)\t0.29731757715898277\n",
      "  (4455, 6091)\t0.23103841516927642\n",
      "  (4455, 7113)\t0.30536590342067704\n",
      "  (4455, 3872)\t0.3108911491788658\n",
      "  (4455, 4715)\t0.30714144758811196\n",
      "  (4455, 6916)\t0.19636985317119715\n",
      "  (4455, 3922)\t0.31287563163368587\n",
      "  (4455, 4456)\t0.24920025316220423\n",
      "  (4456, 141)\t0.292943737785358\n",
      "  (4456, 647)\t0.30133182431707617\n",
      "  (4456, 6311)\t0.30133182431707617\n",
      "  (4456, 5569)\t0.4619395404299172\n",
      "  (4456, 6028)\t0.21034888000987115\n",
      "  (4456, 7154)\t0.24083218452280053\n",
      "  (4456, 7150)\t0.3677554681447669\n",
      "  (4456, 6249)\t0.17573831794959716\n",
      "  (4456, 6307)\t0.2752760476857975\n",
      "  (4456, 334)\t0.2220077711654938\n",
      "  (4456, 5778)\t0.16243064490100795\n",
      "  (4456, 2870)\t0.31523196273113385\n"
     ]
    }
   ],
   "source": [
    "print(X_train_features)"
   ]
  },
  {
   "cell_type": "markdown",
   "id": "703b5a7d-e215-40f8-8760-ab0326760364",
   "metadata": {},
   "source": [
    "Explicação\n",
    "- 0\tDocumento/mensagem de índice 0 em X_train\n",
    "- 5413\tPalavra de índice 5413 no vocabulário TF-IDF\n",
    "- 0.6198\té o Peso TF-IDF dessa palavra nesse documento"
   ]
  },
  {
   "cell_type": "markdown",
   "id": "390b3a1e-cb8b-4a6f-89d4-3601a407f086",
   "metadata": {},
   "source": [
    "#### Intanciando o Modelo"
   ]
  },
  {
   "cell_type": "code",
   "execution_count": 28,
   "id": "1331fb1f-be51-4c00-b8ec-53ae21029da5",
   "metadata": {},
   "outputs": [],
   "source": [
    "model = LogisticRegression()"
   ]
  },
  {
   "cell_type": "markdown",
   "id": "12460f43-7d9a-4afb-806c-09755452a42d",
   "metadata": {},
   "source": [
    "Explicação\n",
    "- instanciando (criando) um modelo de Regressão Logística, que na verdade é um classificador, e não um modelo de regressão comum."
   ]
  },
  {
   "cell_type": "markdown",
   "id": "fb620129-5ee7-43e5-b86a-7ff4373deb1a",
   "metadata": {},
   "source": [
    "#### Treinamento do modelo."
   ]
  },
  {
   "cell_type": "code",
   "execution_count": 29,
   "id": "456456c0-6d69-4b06-95eb-8e6ba6883be4",
   "metadata": {},
   "outputs": [
    {
     "data": {
      "text/html": [
       "<style>#sk-container-id-2 {color: black;background-color: white;}#sk-container-id-2 pre{padding: 0;}#sk-container-id-2 div.sk-toggleable {background-color: white;}#sk-container-id-2 label.sk-toggleable__label {cursor: pointer;display: block;width: 100%;margin-bottom: 0;padding: 0.3em;box-sizing: border-box;text-align: center;}#sk-container-id-2 label.sk-toggleable__label-arrow:before {content: \"▸\";float: left;margin-right: 0.25em;color: #696969;}#sk-container-id-2 label.sk-toggleable__label-arrow:hover:before {color: black;}#sk-container-id-2 div.sk-estimator:hover label.sk-toggleable__label-arrow:before {color: black;}#sk-container-id-2 div.sk-toggleable__content {max-height: 0;max-width: 0;overflow: hidden;text-align: left;background-color: #f0f8ff;}#sk-container-id-2 div.sk-toggleable__content pre {margin: 0.2em;color: black;border-radius: 0.25em;background-color: #f0f8ff;}#sk-container-id-2 input.sk-toggleable__control:checked~div.sk-toggleable__content {max-height: 200px;max-width: 100%;overflow: auto;}#sk-container-id-2 input.sk-toggleable__control:checked~label.sk-toggleable__label-arrow:before {content: \"▾\";}#sk-container-id-2 div.sk-estimator input.sk-toggleable__control:checked~label.sk-toggleable__label {background-color: #d4ebff;}#sk-container-id-2 div.sk-label input.sk-toggleable__control:checked~label.sk-toggleable__label {background-color: #d4ebff;}#sk-container-id-2 input.sk-hidden--visually {border: 0;clip: rect(1px 1px 1px 1px);clip: rect(1px, 1px, 1px, 1px);height: 1px;margin: -1px;overflow: hidden;padding: 0;position: absolute;width: 1px;}#sk-container-id-2 div.sk-estimator {font-family: monospace;background-color: #f0f8ff;border: 1px dotted black;border-radius: 0.25em;box-sizing: border-box;margin-bottom: 0.5em;}#sk-container-id-2 div.sk-estimator:hover {background-color: #d4ebff;}#sk-container-id-2 div.sk-parallel-item::after {content: \"\";width: 100%;border-bottom: 1px solid gray;flex-grow: 1;}#sk-container-id-2 div.sk-label:hover label.sk-toggleable__label {background-color: #d4ebff;}#sk-container-id-2 div.sk-serial::before {content: \"\";position: absolute;border-left: 1px solid gray;box-sizing: border-box;top: 0;bottom: 0;left: 50%;z-index: 0;}#sk-container-id-2 div.sk-serial {display: flex;flex-direction: column;align-items: center;background-color: white;padding-right: 0.2em;padding-left: 0.2em;position: relative;}#sk-container-id-2 div.sk-item {position: relative;z-index: 1;}#sk-container-id-2 div.sk-parallel {display: flex;align-items: stretch;justify-content: center;background-color: white;position: relative;}#sk-container-id-2 div.sk-item::before, #sk-container-id-2 div.sk-parallel-item::before {content: \"\";position: absolute;border-left: 1px solid gray;box-sizing: border-box;top: 0;bottom: 0;left: 50%;z-index: -1;}#sk-container-id-2 div.sk-parallel-item {display: flex;flex-direction: column;z-index: 1;position: relative;background-color: white;}#sk-container-id-2 div.sk-parallel-item:first-child::after {align-self: flex-end;width: 50%;}#sk-container-id-2 div.sk-parallel-item:last-child::after {align-self: flex-start;width: 50%;}#sk-container-id-2 div.sk-parallel-item:only-child::after {width: 0;}#sk-container-id-2 div.sk-dashed-wrapped {border: 1px dashed gray;margin: 0 0.4em 0.5em 0.4em;box-sizing: border-box;padding-bottom: 0.4em;background-color: white;}#sk-container-id-2 div.sk-label label {font-family: monospace;font-weight: bold;display: inline-block;line-height: 1.2em;}#sk-container-id-2 div.sk-label-container {text-align: center;}#sk-container-id-2 div.sk-container {/* jupyter's `normalize.less` sets `[hidden] { display: none; }` but bootstrap.min.css set `[hidden] { display: none !important; }` so we also need the `!important` here to be able to override the default hidden behavior on the sphinx rendered scikit-learn.org. See: https://github.com/scikit-learn/scikit-learn/issues/21755 */display: inline-block !important;position: relative;}#sk-container-id-2 div.sk-text-repr-fallback {display: none;}</style><div id=\"sk-container-id-2\" class=\"sk-top-container\"><div class=\"sk-text-repr-fallback\"><pre>LogisticRegression()</pre><b>In a Jupyter environment, please rerun this cell to show the HTML representation or trust the notebook. <br />On GitHub, the HTML representation is unable to render, please try loading this page with nbviewer.org.</b></div><div class=\"sk-container\" hidden><div class=\"sk-item\"><div class=\"sk-estimator sk-toggleable\"><input class=\"sk-toggleable__control sk-hidden--visually\" id=\"sk-estimator-id-2\" type=\"checkbox\" checked><label for=\"sk-estimator-id-2\" class=\"sk-toggleable__label sk-toggleable__label-arrow\">LogisticRegression</label><div class=\"sk-toggleable__content\"><pre>LogisticRegression()</pre></div></div></div></div></div>"
      ],
      "text/plain": [
       "LogisticRegression()"
      ]
     },
     "execution_count": 29,
     "metadata": {},
     "output_type": "execute_result"
    }
   ],
   "source": [
    "model.fit(X_train_features, Y_train)"
   ]
  },
  {
   "cell_type": "markdown",
   "id": "32c53766-3b83-44fc-bb32-61153d0f1199",
   "metadata": {},
   "source": [
    "#### Previsões"
   ]
  },
  {
   "cell_type": "markdown",
   "id": "672c696b-530f-4f09-bd00-b14e48a80c6f",
   "metadata": {},
   "source": [
    "#### Previsões nos próprios 80% de dados de treino (features)"
   ]
  },
  {
   "cell_type": "code",
   "execution_count": 40,
   "id": "bd5847ee-a907-47fe-bac1-60c282c80d80",
   "metadata": {},
   "outputs": [],
   "source": [
    "prediction_on_training_data = model.predict(X_train_features)"
   ]
  },
  {
   "cell_type": "markdown",
   "id": "b6bb11dc-4d0c-48b2-a59f-899330743d55",
   "metadata": {},
   "source": [
    "Explicando:\n",
    "- model.predict(...)\tUsa o modelo treinado para prever os rótulos\n",
    "- X_train_features\tSão os dados de entrada (mensagens vetorizadas) que foram usados no treino\n",
    "- prediction_on_training_data\tResultado: o modelo prevê se cada mensagem é spam (0) ou ham (1)"
   ]
  },
  {
   "cell_type": "markdown",
   "id": "40bde123-ea0c-40d2-a2da-1faef181e7e9",
   "metadata": {},
   "source": [
    "Por que prever nos dados de treino?\n",
    "- Serve para ver se o modelo aprendeu bem os dados que ele estudou.\n",
    "- Se a acurácia nos dados de treino for muito alta (ex: 100%), mas baixa nos testes, pode indicar overfitting (o modelo decorou os dados)."
   ]
  },
  {
   "cell_type": "markdown",
   "id": "36e020c1-caa8-451d-be46-1897b1385382",
   "metadata": {},
   "source": [
    "#### Avaliando o Modelo com os 80% de dados X_train (previsão) comparando com os 80% de dados Y_train (labels)  "
   ]
  },
  {
   "cell_type": "code",
   "execution_count": 43,
   "id": "bd164dd2-cd24-45ca-8678-f54e819992c7",
   "metadata": {},
   "outputs": [],
   "source": [
    "accuracy_on_training_data = accuracy_score(Y_train, prediction_on_training_data)"
   ]
  },
  {
   "cell_type": "markdown",
   "id": "ad3bdce6-1e25-4305-b457-d4bf5a477507",
   "metadata": {},
   "source": [
    "Explicação:\n",
    "- Sim! ✅ Exatamente isso — ele compara os valores reais com os valores previstos para calcular quantas vezes o modelo acertou."
   ]
  },
  {
   "cell_type": "markdown",
   "id": "0cfeff28-1cad-4c1d-a810-0f3580f6fd4d",
   "metadata": {},
   "source": [
    "- Pega Y_train → que são os rótulos reais (spam ou ham) que você deu para o modelo durante o treino.\n",
    "\n",
    "- Pega prediction_on_training_data → que são os rótulos que o modelo previu com base no que ele aprendeu.\n",
    "\n",
    "- Compara cada valor de Y_train com o correspondente em prediction_on_training_data.\n",
    "\n",
    "- Conta quantos ele acertou, divide pelo total → isso dá a acurácia."
   ]
  },
  {
   "cell_type": "code",
   "execution_count": 44,
   "id": "2045a5dc-faac-45a9-ba3a-273ae8f69adb",
   "metadata": {},
   "outputs": [
    {
     "name": "stdout",
     "output_type": "stream",
     "text": [
      "Porcentagem de acertos: 0.9670181736594121\n"
     ]
    }
   ],
   "source": [
    "print(f'Porcentagem de acertos: {accuracy_on_training_data}')"
   ]
  },
  {
   "cell_type": "markdown",
   "id": "af6b99e0-92d3-4196-bf7a-2d8442ccffa7",
   "metadata": {},
   "source": [
    "#### Previsões com dados novos de teste os 20%"
   ]
  },
  {
   "cell_type": "code",
   "execution_count": 47,
   "id": "cabda728-f007-4870-8b79-0f5f6587e0b5",
   "metadata": {},
   "outputs": [],
   "source": [
    "prediction_on_test_data = model.predict(X_test_features)"
   ]
  },
  {
   "cell_type": "markdown",
   "id": "6096f645-a89c-403c-bf25-b4e0f2e4f5eb",
   "metadata": {},
   "source": [
    "#### Avaliando o Modelo com os 20% de dados de test e comparando com os 80% de dados X_train (labels)  "
   ]
  },
  {
   "cell_type": "code",
   "execution_count": 48,
   "id": "a85c7472-6200-47dc-bbd7-9797605175f9",
   "metadata": {},
   "outputs": [],
   "source": [
    "accuracy_on_test_data = accuracy_score(Y_test, prediction_on_test_data)"
   ]
  },
  {
   "cell_type": "code",
   "execution_count": 49,
   "id": "b1dbe8ea-fb51-4100-9223-08261a9bd498",
   "metadata": {},
   "outputs": [
    {
     "name": "stdout",
     "output_type": "stream",
     "text": [
      "Porcentagem de acertos: 0.9659192825112107\n"
     ]
    }
   ],
   "source": [
    "print(f'Porcentagem de acertos: {accuracy_on_test_data}')"
   ]
  },
  {
   "cell_type": "markdown",
   "id": "883265eb-72f3-46e2-b971-ad815d433365",
   "metadata": {},
   "source": [
    "#### prevendo se um novo e-mail é spam ou não."
   ]
  },
  {
   "cell_type": "code",
   "execution_count": 81,
   "id": "c6ce08c0-c058-426e-90a9-8811a3805115",
   "metadata": {},
   "outputs": [],
   "source": [
    "# novo email\n",
    "input_your_mail= ['This is the 2nd time we have  tried to contact u. U have won ÂE400 prize. 2 claim is easy, just call 08710']"
   ]
  },
  {
   "cell_type": "code",
   "execution_count": 82,
   "id": "29971c5e-8c71-41c0-a36b-74a75a660ed3",
   "metadata": {},
   "outputs": [],
   "source": [
    "# vetorização sem o fit\n",
    "input_data_features = feature_extraction.transform(input_your_mail)"
   ]
  },
  {
   "cell_type": "code",
   "execution_count": 83,
   "id": "242bf9ae-8ffa-4bea-94aa-e70b7b3fbb54",
   "metadata": {},
   "outputs": [],
   "source": [
    "# previsão do novo email\n",
    "prediction = model.predict(input_data_features)"
   ]
  },
  {
   "cell_type": "code",
   "execution_count": 84,
   "id": "debe289c-155d-47d0-8438-59d57c2c5910",
   "metadata": {},
   "outputs": [
    {
     "data": {
      "text/plain": [
       "array([0])"
      ]
     },
     "execution_count": 84,
     "metadata": {},
     "output_type": "execute_result"
    }
   ],
   "source": [
    "# saída\n",
    "prediction "
   ]
  },
  {
   "cell_type": "code",
   "execution_count": null,
   "id": "54e06a6d-7a12-4f1c-926c-3def63ada717",
   "metadata": {},
   "outputs": [],
   "source": []
  },
  {
   "cell_type": "code",
   "execution_count": 85,
   "id": "86feb924-91d4-44cd-a958-05831b307fd3",
   "metadata": {},
   "outputs": [
    {
     "name": "stdout",
     "output_type": "stream",
     "text": [
      "Spam mail\n"
     ]
    }
   ],
   "source": [
    "if(prediction[0]==1):\n",
    "    print('Ham mail')\n",
    "else:\n",
    "    print('Spam mail')"
   ]
  },
  {
   "cell_type": "markdown",
   "id": "571a337c-3d43-4e07-a057-9e9755cf7ffe",
   "metadata": {},
   "source": [
    " 📌 prediction[0]\n",
    "- Acessa o primeiro (e único) valor dessa lista.\n",
    "Ou seja, se o modelo previu [1], então prediction[0] é 1."
   ]
  },
  {
   "cell_type": "code",
   "execution_count": null,
   "id": "0762adaa-72ec-4391-9900-bd65752496a7",
   "metadata": {},
   "outputs": [],
   "source": []
  },
  {
   "cell_type": "code",
   "execution_count": null,
   "id": "65c41965-345d-40dc-86c1-a1c85c90ec00",
   "metadata": {},
   "outputs": [],
   "source": []
  },
  {
   "cell_type": "markdown",
   "id": "2c8b4f3c-432e-47df-a877-2333aa44188d",
   "metadata": {},
   "source": [
    "#### Vendo varios emails em resultado de lista"
   ]
  },
  {
   "cell_type": "code",
   "execution_count": 87,
   "id": "7a7e2c19-a0b3-4cd4-8a2f-b85d40c22934",
   "metadata": {},
   "outputs": [],
   "source": [
    "# Transforma todos os 10 e-mails em features com o vectorizer já treinado\n",
    "features_novos_emails = feature_extraction.transform(emails_novos)"
   ]
  },
  {
   "cell_type": "code",
   "execution_count": 88,
   "id": "862a9d0d-1b19-46ef-b141-a4ef1f700563",
   "metadata": {},
   "outputs": [],
   "source": [
    "# Faz a previsão de todos de uma vez\n",
    "predicoes = model.predict(features_novos_emails)"
   ]
  },
  {
   "cell_type": "code",
   "execution_count": 89,
   "id": "91c70367-3907-45fe-b855-bf53ace81281",
   "metadata": {},
   "outputs": [
    {
     "name": "stdout",
     "output_type": "stream",
     "text": [
      "E-mail 1: SPAM → Congratulations! You've won a free iPhone!\n",
      "E-mail 2: SPAM → Please confirm your attendance for the meeting tomorrow.\n",
      "E-mail 3: HAM → You are selected for a prize. Click to claim now!\n",
      "E-mail 4: SPAM → Don't forget to submit the report by 5 PM.\n",
      "E-mail 5: SPAM → Get rich quick!!! Invest now and double your money.\n",
      "E-mail 6: SPAM → Reminder: Your doctor appointment is tomorrow at 10 AM.\n",
      "E-mail 7: SPAM → URGENT! Your account is compromised. Click here to secure.\n",
      "E-mail 8: SPAM → Thanks for your help with the project.\n",
      "E-mail 9: SPAM → Win a brand new car just by entering this contest!\n",
      "E-mail 10: SPAM → Let's schedule lunch for next week.\n"
     ]
    }
   ],
   "source": [
    "# Mostra os resultados um por um\n",
    "for i, email in enumerate(emails_novos):\n",
    "    status = \"SPAM\" if predicoes[i] == 1 else \"HAM\"\n",
    "    print(f\"E-mail {i+1}: {status} → {email}\")"
   ]
  },
  {
   "cell_type": "code",
   "execution_count": null,
   "id": "b7995c77-20bf-401b-b42d-e8504a619204",
   "metadata": {},
   "outputs": [],
   "source": []
  },
  {
   "cell_type": "code",
   "execution_count": null,
   "id": "430f2baf-0955-4cbc-b9a7-1c6dbba18e99",
   "metadata": {},
   "outputs": [],
   "source": []
  },
  {
   "cell_type": "markdown",
   "id": "7e54b214-9df3-41a8-be35-48240b618413",
   "metadata": {},
   "source": [
    "#### Recebendo demando do Chefe"
   ]
  },
  {
   "cell_type": "code",
   "execution_count": null,
   "id": "4a7cfab7-2dfb-4f5e-9834-592f75e1eeb7",
   "metadata": {},
   "outputs": [],
   "source": [
    "# Lê a tabela (troque o nome e caminho se for Excel)\n",
    "df = pd.read_csv(\"emails_recebidos.csv\")  # ou pd.read_excel(\"arquivo.xlsx\")\n",
    "\n",
    "# Extrai a coluna de e-mails como uma lista\n",
    "lista_de_emails = df['Email'].tolist()"
   ]
  },
  {
   "cell_type": "code",
   "execution_count": null,
   "id": "e71e2d5b-b39f-41f9-a731-2974a555c2fe",
   "metadata": {},
   "outputs": [],
   "source": []
  },
  {
   "cell_type": "code",
   "execution_count": null,
   "id": "6b77e10a-42a4-4f70-84e8-aa5ee01bdf3f",
   "metadata": {},
   "outputs": [],
   "source": []
  },
  {
   "cell_type": "markdown",
   "id": "c48d69f1-ad1a-4436-b3ec-2fcddd9590d7",
   "metadata": {},
   "source": [
    "# Fianl do Projeto"
   ]
  },
  {
   "cell_type": "markdown",
   "id": "a1596663-9594-4aef-9c11-16a83699c0b8",
   "metadata": {},
   "source": [
    "#### Entregando Resultado para o Chefe?"
   ]
  },
  {
   "cell_type": "markdown",
   "id": "1cb951f4-4415-4114-b6a9-29e2b6b2e925",
   "metadata": {},
   "source": [
    "\n",
    "Você pode:\n",
    "\n",
    "- Imprimir isso em tela (como acima)\n",
    "\n",
    "- Salvar em um CSV com pandas\n",
    "\n",
    "- Colar em um e-mail ou planilha"
   ]
  },
  {
   "cell_type": "code",
   "execution_count": null,
   "id": "cdbbf1f1-a381-46e1-ae16-e038e8dcc8e4",
   "metadata": {},
   "outputs": [],
   "source": []
  },
  {
   "cell_type": "code",
   "execution_count": null,
   "id": "915679c2-5ba5-4c27-a680-e0c03d2215df",
   "metadata": {},
   "outputs": [],
   "source": []
  },
  {
   "cell_type": "code",
   "execution_count": null,
   "id": "37213f5e-4979-4b0f-b1c3-3c04f6ac0bde",
   "metadata": {},
   "outputs": [],
   "source": []
  },
  {
   "cell_type": "code",
   "execution_count": null,
   "id": "942a9a2c-f9c3-4a77-8bcf-6bf8b06435a5",
   "metadata": {},
   "outputs": [],
   "source": []
  },
  {
   "cell_type": "markdown",
   "id": "650d69a4-b4d7-4268-a310-e00a0eb63691",
   "metadata": {},
   "source": [
    "#### Função"
   ]
  },
  {
   "cell_type": "code",
   "execution_count": 96,
   "id": "ff899da3-8d1f-4f08-b194-2c2fb791050b",
   "metadata": {},
   "outputs": [],
   "source": [
    "def classificar_emails(lista_de_emails):\n",
    "    # Transforma os e-mails em vetores numéricos\n",
    "    features = feature_extraction.transform(lista_de_emails)\n",
    "\n",
    "    # Faz a previsão com o modelo treinado\n",
    "    predicoes = model.predict(features)\n",
    "\n",
    "    # Cria uma lista com os resultados como texto\n",
    "    resultados_texto = ['SPAM' if p == 1 else 'HAM' for p in predicoes]\n",
    "\n",
    "    # Exibe os resultados\n",
    "    for i, email in enumerate(lista_de_emails):\n",
    "        print(f\"E-mail {i+1}: {resultados_texto[i]} → {email}\")\n",
    "\n",
    "    # Salva os resultados em um arquivo CSV\n",
    "    df_resultado = pd.DataFrame({\n",
    "        'Email': lista_de_emails,\n",
    "        'Classificação': resultados_texto\n",
    "    })\n",
    "    df_resultado.to_excel(\"resultado_emails.xlsx\", index=False)"
   ]
  },
  {
   "cell_type": "code",
   "execution_count": 97,
   "id": "729abbd4-ea00-4ccb-b7f9-9b10c1c5da49",
   "metadata": {},
   "outputs": [
    {
     "data": {
      "text/plain": [
       "array([1, 1, 0, 1, 1, 1, 1, 1, 1, 1])"
      ]
     },
     "execution_count": 97,
     "metadata": {},
     "output_type": "execute_result"
    }
   ],
   "source": [
    "predicoes"
   ]
  },
  {
   "cell_type": "code",
   "execution_count": null,
   "id": "108c4849-90c9-4092-a1a1-24daf5ef3178",
   "metadata": {},
   "outputs": [],
   "source": []
  }
 ],
 "metadata": {
  "kernelspec": {
   "display_name": "Python [conda env:base] *",
   "language": "python",
   "name": "conda-base-py"
  },
  "language_info": {
   "codemirror_mode": {
    "name": "ipython",
    "version": 3
   },
   "file_extension": ".py",
   "mimetype": "text/x-python",
   "name": "python",
   "nbconvert_exporter": "python",
   "pygments_lexer": "ipython3",
   "version": "3.13.5"
  }
 },
 "nbformat": 4,
 "nbformat_minor": 5
}
