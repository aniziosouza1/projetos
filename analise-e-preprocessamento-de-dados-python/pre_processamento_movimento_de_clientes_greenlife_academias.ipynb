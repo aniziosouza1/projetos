{
 "cells": [
  {
   "cell_type": "markdown",
   "id": "56c1f2eb-d924-49db-ba30-b7a30aef543d",
   "metadata": {
    "id": "56c1f2eb-d924-49db-ba30-b7a30aef543d"
   },
   "source": [
    "# Projeto\n",
    "- Tratamento de dados e Concatenação de planilhas do movimento de alunos dentro de todas as Unidades da Green Life academais no mês de outubro de 2024"
   ]
  },
  {
   "cell_type": "markdown",
   "id": "eee56cc0-b5c0-4b0f-9acd-ed94f8c5b18c",
   "metadata": {
    "id": "eee56cc0-b5c0-4b0f-9acd-ed94f8c5b18c"
   },
   "source": [
    "### Objetivo\n",
    "- Para saber como anda o movimento das academias para Tomada de Decisões. E fazer futuras comparações mensais do movimento das 17 unidades.Foram feitas limpeza das planilhas de cada unidade. E no final a concatenação de todas as frequencias de alunos de cada academia em uma só planilha contendo todo o movimento da rede Green Life."
   ]
  },
  {
   "cell_type": "code",
   "execution_count": null,
   "id": "e7e24293-973e-4ba8-abdc-e6bef7a36fba",
   "metadata": {
    "id": "e7e24293-973e-4ba8-abdc-e6bef7a36fba"
   },
   "outputs": [],
   "source": []
  },
  {
   "cell_type": "code",
   "execution_count": null,
   "id": "edcd7fda-2306-43cf-8587-a73d14786a18",
   "metadata": {
    "id": "edcd7fda-2306-43cf-8587-a73d14786a18"
   },
   "outputs": [],
   "source": []
  },
  {
   "cell_type": "markdown",
   "id": "37b03a77-b8a2-4794-a53a-edc21f0dc774",
   "metadata": {
    "id": "37b03a77-b8a2-4794-a53a-edc21f0dc774"
   },
   "source": [
    "### Importação das Bibliotecas"
   ]
  },
  {
   "cell_type": "markdown",
   "id": "38b38210-4b2f-4b0b-8dc0-02de0f5b1a3d",
   "metadata": {
    "id": "38b38210-4b2f-4b0b-8dc0-02de0f5b1a3d"
   },
   "source": [
    "Run ALL Cels: Quando você executa o comando \"Run All Cells\" no JupyterLab (ou no Jupyter Notebook), as células não são executadas simultaneamente. Elas são executadas em sequência, de cima para baixo."
   ]
  },
  {
   "cell_type": "markdown",
   "id": "44b73f9a-34b6-45cd-82e3-3a52ad3cf52c",
   "metadata": {
    "id": "44b73f9a-34b6-45cd-82e3-3a52ad3cf52c"
   },
   "source": [
    "Sim, o Pandas é inteligente o suficiente para reconhecer e concatenar colunas com o mesmo nome, mesmo que elas estejam em ordens diferentes nos DataFrames que você está tentando juntar."
   ]
  },
  {
   "cell_type": "markdown",
   "id": "ad598e91-b3df-4c18-b647-66eac08bb274",
   "metadata": {
    "id": "ad598e91-b3df-4c18-b647-66eac08bb274"
   },
   "source": [
    "Se um dos DataFrames que você está concatenando possui colunas que não existem no outro, o Pandas irá preencher os valores correspondentes nessas colunas com NaN (Not a Number) para as linhas do DataFrame que não continha essas colunas."
   ]
  },
  {
   "cell_type": "code",
   "execution_count": 445,
   "id": "bbdae580-185a-498c-ad55-934b06874187",
   "metadata": {
    "id": "bbdae580-185a-498c-ad55-934b06874187"
   },
   "outputs": [],
   "source": [
    "import pandas as pd\n",
    "import plotly.express as px"
   ]
  },
  {
   "cell_type": "markdown",
   "id": "bec5b941-908f-41a7-8aef-63cff52e4ada",
   "metadata": {
    "id": "bec5b941-908f-41a7-8aef-63cff52e4ada"
   },
   "source": [
    "### Inicio: Aprender a ter acesso a cada aba do excel com o código abaixo.\n",
    "- If your Excel file has multiple sheets, you might need to specify the sheet name\n",
    "- Sempre subtraia o número de linhas puladas pelo o total de linhas do dataset"
   ]
  },
  {
   "cell_type": "markdown",
   "id": "32871820-c655-49bd-b9ab-ef1293b723f9",
   "metadata": {
    "id": "32871820-c655-49bd-b9ab-ef1293b723f9"
   },
   "source": [
    "# Messejana [MES] - PREPROCESSING 1"
   ]
  },
  {
   "cell_type": "code",
   "execution_count": 446,
   "id": "2ca05092-8c0b-4cba-ad0b-0c7d165bb535",
   "metadata": {
    "id": "2ca05092-8c0b-4cba-ad0b-0c7d165bb535"
   },
   "outputs": [],
   "source": [
    "data1 = pd.read_excel('base_de_frequencias_green_life_academias_dados_brutos.xlsx', sheet_name='MES', skiprows=1, nrows=98)"
   ]
  },
  {
   "cell_type": "code",
   "execution_count": 447,
   "id": "b83a756f-743f-4a8d-8d6d-33cf86a1168c",
   "metadata": {
    "id": "b83a756f-743f-4a8d-8d6d-33cf86a1168c"
   },
   "outputs": [],
   "source": [
    "dataMES= data1.copy()"
   ]
  },
  {
   "cell_type": "code",
   "execution_count": 448,
   "id": "2bd1f0c5-0d6a-4e77-b073-eaf654a6243c",
   "metadata": {
    "colab": {
     "base_uri": "https://localhost:8080/",
     "height": 516
    },
    "id": "2bd1f0c5-0d6a-4e77-b073-eaf654a6243c",
    "outputId": "4a764dd2-dbbc-4c4f-9ce0-d61838c969f6"
   },
   "outputs": [
    {
     "data": {
      "text/html": [
       "<div>\n",
       "<style scoped>\n",
       "    .dataframe tbody tr th:only-of-type {\n",
       "        vertical-align: middle;\n",
       "    }\n",
       "\n",
       "    .dataframe tbody tr th {\n",
       "        vertical-align: top;\n",
       "    }\n",
       "\n",
       "    .dataframe thead th {\n",
       "        text-align: right;\n",
       "    }\n",
       "</style>\n",
       "<table border=\"1\" class=\"dataframe\">\n",
       "  <thead>\n",
       "    <tr style=\"text-align: right;\">\n",
       "      <th></th>\n",
       "      <th>Unnamed: 0</th>\n",
       "      <th>Unnamed: 1</th>\n",
       "      <th>Unnamed: 2</th>\n",
       "      <th>CATEGORIA</th>\n",
       "      <th>MODALIDADE</th>\n",
       "      <th>DIA DA SEMANA</th>\n",
       "      <th>HORÁRIO</th>\n",
       "      <th>AUX.1</th>\n",
       "      <th>TURNO</th>\n",
       "      <th>AUX 2</th>\n",
       "      <th>...</th>\n",
       "      <th>2024-10-25 00:00:00</th>\n",
       "      <th>2024-10-28 00:00:00</th>\n",
       "      <th>2024-10-29 00:00:00</th>\n",
       "      <th>2024-10-30 00:00:00</th>\n",
       "      <th>2024-10-31 00:00:00</th>\n",
       "      <th>Média alunos p/ professor</th>\n",
       "      <th>Média</th>\n",
       "      <th>Alunos/professor</th>\n",
       "      <th>Ocupação Máxima</th>\n",
       "      <th>Professor</th>\n",
       "    </tr>\n",
       "  </thead>\n",
       "  <tbody>\n",
       "    <tr>\n",
       "      <th>0</th>\n",
       "      <td>NaN</td>\n",
       "      <td>NaN</td>\n",
       "      <td>NaN</td>\n",
       "      <td>QUADRA</td>\n",
       "      <td>BEACH TENNIS - INICIANTE</td>\n",
       "      <td>seg, qua, sex</td>\n",
       "      <td>05:30:00</td>\n",
       "      <td>05:30</td>\n",
       "      <td>MANHÃ</td>\n",
       "      <td>BEACH TENNIS - INICIANTE - 05:30</td>\n",
       "      <td>...</td>\n",
       "      <td>0</td>\n",
       "      <td>0</td>\n",
       "      <td>x</td>\n",
       "      <td>3</td>\n",
       "      <td>x</td>\n",
       "      <td>13.0</td>\n",
       "      <td>0.923077</td>\n",
       "      <td>NaN</td>\n",
       "      <td>NaN</td>\n",
       "      <td>NaN</td>\n",
       "    </tr>\n",
       "    <tr>\n",
       "      <th>1</th>\n",
       "      <td>NaN</td>\n",
       "      <td>NaN</td>\n",
       "      <td>NaN</td>\n",
       "      <td>QUADRA</td>\n",
       "      <td>BEACH TENNIS - INTERMEDIÁRIO</td>\n",
       "      <td>ter, qui</td>\n",
       "      <td>05:30:00</td>\n",
       "      <td>05:30</td>\n",
       "      <td>MANHÃ</td>\n",
       "      <td>BEACH TENNIS - INTERMEDIÁRIO - 05:30</td>\n",
       "      <td>...</td>\n",
       "      <td>x</td>\n",
       "      <td>x</td>\n",
       "      <td>5</td>\n",
       "      <td>x</td>\n",
       "      <td>6</td>\n",
       "      <td>11.0</td>\n",
       "      <td>4.636364</td>\n",
       "      <td>NaN</td>\n",
       "      <td>NaN</td>\n",
       "      <td>NaN</td>\n",
       "    </tr>\n",
       "    <tr>\n",
       "      <th>2</th>\n",
       "      <td>NaN</td>\n",
       "      <td>NaN</td>\n",
       "      <td>NaN</td>\n",
       "      <td>ADULTO</td>\n",
       "      <td>GREEN BIKE</td>\n",
       "      <td>seg, qua,sex</td>\n",
       "      <td>06:00:00</td>\n",
       "      <td>06:00</td>\n",
       "      <td>MANHÃ</td>\n",
       "      <td>GREEN BIKE - 06:00</td>\n",
       "      <td>...</td>\n",
       "      <td>10</td>\n",
       "      <td>7</td>\n",
       "      <td>x</td>\n",
       "      <td>10</td>\n",
       "      <td>x</td>\n",
       "      <td>11.0</td>\n",
       "      <td>7.454545</td>\n",
       "      <td>NaN</td>\n",
       "      <td>NaN</td>\n",
       "      <td>0.0</td>\n",
       "    </tr>\n",
       "    <tr>\n",
       "      <th>3</th>\n",
       "      <td>NaN</td>\n",
       "      <td>NaN</td>\n",
       "      <td>NaN</td>\n",
       "      <td>ADULTO</td>\n",
       "      <td>CROSSFIT</td>\n",
       "      <td>seg, ter,  qua, qui, sex</td>\n",
       "      <td>06:00:00</td>\n",
       "      <td>06:00</td>\n",
       "      <td>MANHÃ</td>\n",
       "      <td>CROSSFIT - 06:00</td>\n",
       "      <td>...</td>\n",
       "      <td>x</td>\n",
       "      <td>1</td>\n",
       "      <td>3</td>\n",
       "      <td>3</td>\n",
       "      <td>4</td>\n",
       "      <td>21.0</td>\n",
       "      <td>1.904762</td>\n",
       "      <td>NaN</td>\n",
       "      <td>NaN</td>\n",
       "      <td>0.0</td>\n",
       "    </tr>\n",
       "    <tr>\n",
       "      <th>4</th>\n",
       "      <td>NaN</td>\n",
       "      <td>NaN</td>\n",
       "      <td>NaN</td>\n",
       "      <td>MUSC - C/P</td>\n",
       "      <td>A - MUSCULAÇÃO COM PERSONAL</td>\n",
       "      <td>seg, ter, qua, qui, sex</td>\n",
       "      <td>06:00:00</td>\n",
       "      <td>06:00</td>\n",
       "      <td>MANHÃ</td>\n",
       "      <td>A - MUSCULAÇÃO COM PERSONAL - 06:00</td>\n",
       "      <td>...</td>\n",
       "      <td>8</td>\n",
       "      <td>8</td>\n",
       "      <td>2</td>\n",
       "      <td>10</td>\n",
       "      <td>8</td>\n",
       "      <td>23.0</td>\n",
       "      <td>6.608696</td>\n",
       "      <td>NaN</td>\n",
       "      <td>NaN</td>\n",
       "      <td>NaN</td>\n",
       "    </tr>\n",
       "  </tbody>\n",
       "</table>\n",
       "<p>5 rows × 40 columns</p>\n",
       "</div>"
      ],
      "text/plain": [
       "  Unnamed: 0  Unnamed: 1  Unnamed: 2   CATEGORIA  \\\n",
       "0        NaN         NaN         NaN      QUADRA   \n",
       "1        NaN         NaN         NaN      QUADRA   \n",
       "2        NaN         NaN         NaN      ADULTO   \n",
       "3        NaN         NaN         NaN      ADULTO   \n",
       "4        NaN         NaN         NaN  MUSC - C/P   \n",
       "\n",
       "                     MODALIDADE             DIA DA SEMANA   HORÁRIO  AUX.1  \\\n",
       "0      BEACH TENNIS - INICIANTE             seg, qua, sex  05:30:00  05:30   \n",
       "1  BEACH TENNIS - INTERMEDIÁRIO                  ter, qui  05:30:00  05:30   \n",
       "2                    GREEN BIKE              seg, qua,sex  06:00:00  06:00   \n",
       "3                      CROSSFIT  seg, ter,  qua, qui, sex  06:00:00  06:00   \n",
       "4   A - MUSCULAÇÃO COM PERSONAL   seg, ter, qua, qui, sex  06:00:00  06:00   \n",
       "\n",
       "   TURNO                                 AUX 2  ... 2024-10-25 00:00:00  \\\n",
       "0  MANHÃ      BEACH TENNIS - INICIANTE - 05:30  ...                   0   \n",
       "1  MANHÃ  BEACH TENNIS - INTERMEDIÁRIO - 05:30  ...                   x   \n",
       "2  MANHÃ                    GREEN BIKE - 06:00  ...                  10   \n",
       "3  MANHÃ                      CROSSFIT - 06:00  ...                   x   \n",
       "4  MANHÃ   A - MUSCULAÇÃO COM PERSONAL - 06:00  ...                   8   \n",
       "\n",
       "  2024-10-28 00:00:00 2024-10-29 00:00:00 2024-10-30 00:00:00  \\\n",
       "0                   0                   x                   3   \n",
       "1                   x                   5                   x   \n",
       "2                   7                   x                  10   \n",
       "3                   1                   3                   3   \n",
       "4                   8                   2                  10   \n",
       "\n",
       "  2024-10-31 00:00:00 Média alunos p/ professor     Média Alunos/professor  \\\n",
       "0                   x                      13.0  0.923077              NaN   \n",
       "1                   6                      11.0  4.636364              NaN   \n",
       "2                   x                      11.0  7.454545              NaN   \n",
       "3                   4                      21.0  1.904762              NaN   \n",
       "4                   8                      23.0  6.608696              NaN   \n",
       "\n",
       "  Ocupação Máxima Professor  \n",
       "0             NaN       NaN  \n",
       "1             NaN       NaN  \n",
       "2             NaN       0.0  \n",
       "3             NaN       0.0  \n",
       "4             NaN       NaN  \n",
       "\n",
       "[5 rows x 40 columns]"
      ]
     },
     "execution_count": 448,
     "metadata": {},
     "output_type": "execute_result"
    }
   ],
   "source": [
    "dataMES.head()"
   ]
  },
  {
   "cell_type": "markdown",
   "id": "7836f40a-8ce1-42e2-8ccf-4a44be756d10",
   "metadata": {
    "id": "7836f40a-8ce1-42e2-8ccf-4a44be756d10"
   },
   "source": [
    "### 1 PASSO: Removendo colunas desnecessárias"
   ]
  },
  {
   "cell_type": "code",
   "execution_count": 449,
   "id": "1627a12f-bfb7-408e-83ca-8f5b90045a1e",
   "metadata": {
    "id": "1627a12f-bfb7-408e-83ca-8f5b90045a1e"
   },
   "outputs": [],
   "source": [
    "del dataMES['Unnamed: 0']\n",
    "del dataMES['Unnamed: 1']\n",
    "del dataMES['Unnamed: 2']"
   ]
  },
  {
   "cell_type": "code",
   "execution_count": 450,
   "id": "12714e1f-338e-4d7b-b91b-4468f687e49a",
   "metadata": {
    "id": "12714e1f-338e-4d7b-b91b-4468f687e49a"
   },
   "outputs": [],
   "source": [
    "del dataMES['HORÁRIO']\n",
    "del dataMES['AUX 2']\n",
    "del dataMES['AUX 3']"
   ]
  },
  {
   "cell_type": "markdown",
   "id": "11285bfb-034e-40a3-9d28-33f974a36f06",
   "metadata": {
    "id": "11285bfb-034e-40a3-9d28-33f974a36f06"
   },
   "source": [
    "- PRECISAMOS RENOMEAR A COLUNA AUX1 COMO HORÁRIO"
   ]
  },
  {
   "cell_type": "code",
   "execution_count": 451,
   "id": "907333e6-a37f-4ddb-a314-f4b8c8f8a8d4",
   "metadata": {
    "id": "907333e6-a37f-4ddb-a314-f4b8c8f8a8d4"
   },
   "outputs": [],
   "source": [
    "dataMES.rename(columns={'AUX 1': 'HORÁRIO'}, inplace=True)"
   ]
  },
  {
   "cell_type": "markdown",
   "id": "cfac43a9-84aa-4fe9-a57c-550f2641632d",
   "metadata": {
    "id": "cfac43a9-84aa-4fe9-a57c-550f2641632d"
   },
   "source": [
    "### 2 PASSO: Renomeando strings de datas, para que o pandas possa aceitar como colunas"
   ]
  },
  {
   "cell_type": "code",
   "execution_count": 452,
   "id": "be6878b6-bcd8-4438-8ca5-77b698baaf29",
   "metadata": {
    "colab": {
     "base_uri": "https://localhost:8080/"
    },
    "id": "be6878b6-bcd8-4438-8ca5-77b698baaf29",
    "outputId": "b6a897e4-cf8d-45db-826e-86995e9e1b47"
   },
   "outputs": [
    {
     "name": "stdout",
     "output_type": "stream",
     "text": [
      "CATEGORIA\n",
      "MODALIDADE\n",
      "DIA DA SEMANA\n",
      "AUX.1\n",
      "TURNO\n",
      "PROFESSOR\n",
      "2024-10-01 00:00:00\n",
      "2024-10-02 00:00:00\n",
      "2024-10-03 00:00:00\n",
      "2024-10-04 00:00:00\n",
      "2024-10-07 00:00:00\n",
      "2024-10-08 00:00:00\n",
      "2024-10-09 00:00:00\n",
      "2024-10-10 00:00:00\n",
      "2024-10-11 00:00:00\n",
      "2024-10-14 00:00:00\n",
      "2024-10-15 00:00:00\n",
      "2024-10-16 00:00:00\n",
      "2024-10-17 00:00:00\n",
      "2024-10-18 00:00:00\n",
      "2024-10-21 00:00:00\n",
      "2024-10-22 00:00:00\n",
      "2024-10-23 00:00:00\n",
      "2024-10-24 00:00:00\n",
      "2024-10-25 00:00:00\n",
      "2024-10-28 00:00:00\n",
      "2024-10-29 00:00:00\n",
      "2024-10-30 00:00:00\n",
      "2024-10-31 00:00:00\n",
      "Média alunos p/ professor\n",
      "Média\n",
      "Alunos/professor\n",
      "Ocupação Máxima\n",
      "Professor\n"
     ]
    }
   ],
   "source": [
    "for i in dataMES.columns:\n",
    "    print(i)"
   ]
  },
  {
   "cell_type": "code",
   "execution_count": 453,
   "id": "ea2c3752-d787-4fd0-956b-afaf5bd820c8",
   "metadata": {
    "id": "ea2c3752-d787-4fd0-956b-afaf5bd820c8"
   },
   "outputs": [],
   "source": [
    "dataMES.columns = [\n",
    "'CATEGORIA',\n",
    "'MODALIDADE',\n",
    "'DIA DA SEMANA',\n",
    "'HORÁRIO',\n",
    "'TURNO',\n",
    "'PROFESSOR',\n",
    "'2024-10-01 00:00:00',\n",
    "'2024-10-02 00:00:00',\n",
    "'2024-10-03 00:00:00',\n",
    "'2024-10-04 00:00:00',\n",
    "'2024-10-07 00:00:00',\n",
    "'2024-10-08 00:00:00',\n",
    "'2024-10-09 00:00:00',\n",
    "'2024-10-10 00:00:00',\n",
    "'2024-10-11 00:00:00',\n",
    "'2024-10-14 00:00:00',\n",
    "'2024-10-15 00:00:00',\n",
    "'2024-10-16 00:00:00',\n",
    "'2024-10-17 00:00:00',\n",
    "'2024-10-18 00:00:00',\n",
    "'2024-10-21 00:00:00',\n",
    "'2024-10-22 00:00:00',\n",
    "'2024-10-23 00:00:00',\n",
    "'2024-10-24 00:00:00',\n",
    "'2024-10-25 00:00:00',\n",
    "'2024-10-28 00:00:00',\n",
    "'2024-10-29 00:00:00',\n",
    "'2024-10-30 00:00:00',\n",
    "'2024-10-31 00:00:00',\n",
    "'Média alunos p/ professor',\n",
    "'Média',\n",
    "'Alunos/professor',\n",
    "'Ocupação Máxima',\n",
    "'Professor']"
   ]
  },
  {
   "cell_type": "code",
   "execution_count": 454,
   "id": "ed08ad72-9d97-4acb-ba7a-80c6cfdfdeb3",
   "metadata": {
    "colab": {
     "base_uri": "https://localhost:8080/"
    },
    "id": "ed08ad72-9d97-4acb-ba7a-80c6cfdfdeb3",
    "outputId": "cce5c8dc-85dc-4149-896b-6cf4868e5c4a"
   },
   "outputs": [
    {
     "data": {
      "text/plain": [
       "Index(['CATEGORIA', 'MODALIDADE', 'DIA DA SEMANA', 'HORÁRIO', 'TURNO',\n",
       "       'PROFESSOR', '2024-10-01 00:00:00', '2024-10-02 00:00:00',\n",
       "       '2024-10-03 00:00:00', '2024-10-04 00:00:00', '2024-10-07 00:00:00',\n",
       "       '2024-10-08 00:00:00', '2024-10-09 00:00:00', '2024-10-10 00:00:00',\n",
       "       '2024-10-11 00:00:00', '2024-10-14 00:00:00', '2024-10-15 00:00:00',\n",
       "       '2024-10-16 00:00:00', '2024-10-17 00:00:00', '2024-10-18 00:00:00',\n",
       "       '2024-10-21 00:00:00', '2024-10-22 00:00:00', '2024-10-23 00:00:00',\n",
       "       '2024-10-24 00:00:00', '2024-10-25 00:00:00', '2024-10-28 00:00:00',\n",
       "       '2024-10-29 00:00:00', '2024-10-30 00:00:00', '2024-10-31 00:00:00',\n",
       "       'Média alunos p/ professor', 'Média', 'Alunos/professor',\n",
       "       'Ocupação Máxima', 'Professor'],\n",
       "      dtype='object')"
      ]
     },
     "execution_count": 454,
     "metadata": {},
     "output_type": "execute_result"
    }
   ],
   "source": [
    "dataMES.columns"
   ]
  },
  {
   "cell_type": "markdown",
   "id": "65aa97ef-b2a5-41c4-86ef-6e03e477d587",
   "metadata": {
    "id": "65aa97ef-b2a5-41c4-86ef-6e03e477d587"
   },
   "source": [
    "### PASSO 3: Escolhendo colunas com o nome de 'datas', para renomear pelo o tipo dia, mês e ano. e removendo os 00 de horas"
   ]
  },
  {
   "cell_type": "code",
   "execution_count": 455,
   "id": "c3c07ea8-069d-4751-a65f-a2b966a35145",
   "metadata": {
    "id": "c3c07ea8-069d-4751-a65f-a2b966a35145"
   },
   "outputs": [],
   "source": [
    "colunas = ['2024-10-01 00:00:00',\n",
    "'2024-10-02 00:00:00',\n",
    "'2024-10-03 00:00:00',\n",
    "'2024-10-04 00:00:00',\n",
    "'2024-10-07 00:00:00',\n",
    "'2024-10-08 00:00:00',\n",
    "'2024-10-09 00:00:00',\n",
    "'2024-10-10 00:00:00',\n",
    "'2024-10-11 00:00:00',\n",
    "'2024-10-14 00:00:00',\n",
    "'2024-10-15 00:00:00',\n",
    "'2024-10-16 00:00:00',\n",
    "'2024-10-17 00:00:00',\n",
    "'2024-10-18 00:00:00',\n",
    "'2024-10-21 00:00:00',\n",
    "'2024-10-22 00:00:00',\n",
    "'2024-10-23 00:00:00',\n",
    "'2024-10-24 00:00:00',\n",
    "'2024-10-25 00:00:00',\n",
    "'2024-10-28 00:00:00',\n",
    "'2024-10-29 00:00:00',\n",
    "'2024-10-30 00:00:00',\n",
    "'2024-10-31 00:00:00',]"
   ]
  },
  {
   "cell_type": "markdown",
   "id": "0a73144e-7a01-42a1-badc-f8dd28d19297",
   "metadata": {
    "id": "0a73144e-7a01-42a1-badc-f8dd28d19297"
   },
   "source": [
    "Usando o loop for para mudar remover os zeros das colunas e alterar o nome para o dia, mês e ano"
   ]
  },
  {
   "cell_type": "code",
   "execution_count": 456,
   "id": "f1a475dd-5302-48f7-87be-60e921e9f0d3",
   "metadata": {
    "id": "f1a475dd-5302-48f7-87be-60e921e9f0d3"
   },
   "outputs": [],
   "source": [
    "novas_colunas = []"
   ]
  },
  {
   "cell_type": "code",
   "execution_count": 457,
   "id": "b46e29a0-7e6b-4402-b2b9-65b07fccdb30",
   "metadata": {
    "id": "b46e29a0-7e6b-4402-b2b9-65b07fccdb30"
   },
   "outputs": [],
   "source": [
    "for columns in colunas:\n",
    "    # Remove a parte da hora\n",
    "    data_sem_hora = columns.split(' ')[0]\n",
    "\n",
    "    # Formata para o formato DD-MM-YYYY\n",
    "    ano, mes, dia = data_sem_hora.split('-')\n",
    "    novo_nome = f'{dia}-{mes}-{ano}'\n",
    "    novas_colunas.append(novo_nome)"
   ]
  },
  {
   "cell_type": "markdown",
   "id": "c973f318-f853-49d2-9bb0-754b93844c7c",
   "metadata": {
    "id": "c973f318-f853-49d2-9bb0-754b93844c7c"
   },
   "source": [
    "colunas renomeadas com sucesso!"
   ]
  },
  {
   "cell_type": "code",
   "execution_count": 458,
   "id": "10b88405-a097-4da6-8c2a-4f9875b53380",
   "metadata": {
    "colab": {
     "base_uri": "https://localhost:8080/"
    },
    "id": "10b88405-a097-4da6-8c2a-4f9875b53380",
    "outputId": "714f9b02-cf8a-49c5-c962-7ca628c6b971"
   },
   "outputs": [
    {
     "data": {
      "text/plain": [
       "['01-10-2024',\n",
       " '02-10-2024',\n",
       " '03-10-2024',\n",
       " '04-10-2024',\n",
       " '07-10-2024',\n",
       " '08-10-2024',\n",
       " '09-10-2024',\n",
       " '10-10-2024',\n",
       " '11-10-2024',\n",
       " '14-10-2024',\n",
       " '15-10-2024',\n",
       " '16-10-2024',\n",
       " '17-10-2024',\n",
       " '18-10-2024',\n",
       " '21-10-2024',\n",
       " '22-10-2024',\n",
       " '23-10-2024',\n",
       " '24-10-2024',\n",
       " '25-10-2024',\n",
       " '28-10-2024',\n",
       " '29-10-2024',\n",
       " '30-10-2024',\n",
       " '31-10-2024']"
      ]
     },
     "execution_count": 458,
     "metadata": {},
     "output_type": "execute_result"
    }
   ],
   "source": [
    "novas_colunas"
   ]
  },
  {
   "cell_type": "markdown",
   "id": "0f5ee4c2-bbf6-4e9e-966b-663fa70b7ebd",
   "metadata": {
    "id": "0f5ee4c2-bbf6-4e9e-966b-663fa70b7ebd"
   },
   "source": [
    "### PASSO 4 renomeando colunas e acrescentando o novo formato"
   ]
  },
  {
   "cell_type": "markdown",
   "id": "28f60051-0722-4b06-afe2-cdbc8483e286",
   "metadata": {
    "id": "28f60051-0722-4b06-afe2-cdbc8483e286"
   },
   "source": [
    "copie as colunas que escolheu para renomear, e cole o formato novo no lugar das velhas"
   ]
  },
  {
   "cell_type": "code",
   "execution_count": 459,
   "id": "e44c318d-4763-435d-a2c0-e4d8c31a94dd",
   "metadata": {
    "id": "e44c318d-4763-435d-a2c0-e4d8c31a94dd"
   },
   "outputs": [],
   "source": [
    "dataMES.columns = [\n",
    "'CATEGORIA',\n",
    "'MODALIDADE',\n",
    "'DIA DA SEMANA',\n",
    "'HORÁRIO',\n",
    "'TURNO',\n",
    "'PROFESSOR',\n",
    "'01-10-2024',\n",
    "'02-10-2024',\n",
    "'03-10-2024',\n",
    "'04-10-2024',\n",
    "'07-10-2024',\n",
    "'08-10-2024',\n",
    "'09-10-2024',\n",
    "'10-10-2024',\n",
    "'11-10-2024',\n",
    "'14-10-2024',\n",
    "'15-10-2024',\n",
    "'16-10-2024',\n",
    "'17-10-2024',\n",
    "'18-10-2024',\n",
    "'21-10-2024',\n",
    "'22-10-2024',\n",
    "'23-10-2024',\n",
    "'24-10-2024',\n",
    "'25-10-2024',\n",
    "'28-10-2024',\n",
    "'29-10-2024',\n",
    "'30-10-2024',\n",
    "'31-10-2024',\n",
    "'Média alunos p/ professor',\n",
    "'Média',\n",
    "'Alunos/professor',\n",
    "'Ocupação Máxima',\n",
    "'Professor']"
   ]
  },
  {
   "cell_type": "markdown",
   "id": "3893aa0f-7c4e-4bbb-a288-9765415016e3",
   "metadata": {
    "id": "3893aa0f-7c4e-4bbb-a288-9765415016e3"
   },
   "source": [
    "### 5 PASSO: Usar o Loop for para substitituir os valores das frequencia de 'x' e 'X' por zero, com o método do pd.to_numeric)"
   ]
  },
  {
   "cell_type": "markdown",
   "id": "eea37cff-3ce1-488b-b24d-6313f179f4b2",
   "metadata": {
    "id": "eea37cff-3ce1-488b-b24d-6313f179f4b2"
   },
   "source": [
    "Escolhendo apenas as colunas de datas"
   ]
  },
  {
   "cell_type": "code",
   "execution_count": 460,
   "id": "06f530ca-f2e7-448a-9aa5-569bb9d24d1f",
   "metadata": {
    "id": "06f530ca-f2e7-448a-9aa5-569bb9d24d1f"
   },
   "outputs": [],
   "source": [
    "colunas = ['01-10-2024',\n",
    "'02-10-2024',\n",
    "'03-10-2024',\n",
    "'04-10-2024',\n",
    "'07-10-2024',\n",
    "'08-10-2024',\n",
    "'09-10-2024',\n",
    "'10-10-2024',\n",
    "'11-10-2024',\n",
    "'14-10-2024',\n",
    "'15-10-2024',\n",
    "'16-10-2024',\n",
    "'17-10-2024',\n",
    "'18-10-2024',\n",
    "'21-10-2024',\n",
    "'22-10-2024',\n",
    "'23-10-2024',\n",
    "'24-10-2024',\n",
    "'25-10-2024',\n",
    "'28-10-2024',\n",
    "'29-10-2024',\n",
    "'30-10-2024',\n",
    "'31-10-2024']"
   ]
  },
  {
   "cell_type": "markdown",
   "id": "81bbd04a-71c7-4e76-b537-9a6e627015c4",
   "metadata": {
    "id": "81bbd04a-71c7-4e76-b537-9a6e627015c4"
   },
   "source": [
    "Fazendo a limpeza profunda, formatando valores para numeros, preenchendo com zeros os nulos e transformando em inteiros"
   ]
  },
  {
   "cell_type": "code",
   "execution_count": 461,
   "id": "46ad72f7-eec1-4dab-8a55-f14aeb7669c0",
   "metadata": {
    "id": "46ad72f7-eec1-4dab-8a55-f14aeb7669c0"
   },
   "outputs": [],
   "source": [
    "for columns in colunas:\n",
    "    # dataMES[columns] = pd.to_numeric(dataMES[columns], errors='coerce')\n",
    "    dataMES[columns] = pd.to_numeric(dataMES[columns], errors='coerce').fillna(0).astype(int)"
   ]
  },
  {
   "cell_type": "code",
   "execution_count": 462,
   "id": "52be2d70-9eb6-4c3c-bc4f-f57b854dd753",
   "metadata": {
    "colab": {
     "base_uri": "https://localhost:8080/"
    },
    "id": "52be2d70-9eb6-4c3c-bc4f-f57b854dd753",
    "outputId": "7f4fb6b0-a124-480b-87dd-8876a15a7312"
   },
   "outputs": [
    {
     "data": {
      "text/plain": [
       "Index(['CATEGORIA', 'MODALIDADE', 'DIA DA SEMANA', 'HORÁRIO', 'TURNO',\n",
       "       'PROFESSOR', '01-10-2024', '02-10-2024', '03-10-2024', '04-10-2024',\n",
       "       '07-10-2024', '08-10-2024', '09-10-2024', '10-10-2024', '11-10-2024',\n",
       "       '14-10-2024', '15-10-2024', '16-10-2024', '17-10-2024', '18-10-2024',\n",
       "       '21-10-2024', '22-10-2024', '23-10-2024', '24-10-2024', '25-10-2024',\n",
       "       '28-10-2024', '29-10-2024', '30-10-2024', '31-10-2024',\n",
       "       'Média alunos p/ professor', 'Média', 'Alunos/professor',\n",
       "       'Ocupação Máxima', 'Professor'],\n",
       "      dtype='object')"
      ]
     },
     "execution_count": 462,
     "metadata": {},
     "output_type": "execute_result"
    }
   ],
   "source": [
    "dataMES.columns"
   ]
  },
  {
   "cell_type": "markdown",
   "id": "1fe86457-3f40-446f-977a-265bdbd6adaf",
   "metadata": {
    "id": "1fe86457-3f40-446f-977a-265bdbd6adaf"
   },
   "source": [
    "### PASSO 6: MELT derretendo as colunas em formato de datas"
   ]
  },
  {
   "cell_type": "markdown",
   "id": "7aac0ddf-d147-4c7a-9058-53d9ad34fcf3",
   "metadata": {
    "id": "7aac0ddf-d147-4c7a-9058-53d9ad34fcf3"
   },
   "source": [
    "o MELT ele pega as colunas que estão na horizontal e cria uma coluna de categorias, e depois ele cria outra coluna com os valores dessas colunas que foram transformadas em dados categóricos"
   ]
  },
  {
   "cell_type": "markdown",
   "id": "038e4283-c133-4815-8a4d-bc62f3ef6158",
   "metadata": {
    "id": "038e4283-c133-4815-8a4d-bc62f3ef6158"
   },
   "source": [
    "#### Selecionando colunas para o MELT"
   ]
  },
  {
   "cell_type": "code",
   "execution_count": 463,
   "id": "d0921dcf-047e-4874-af98-23c5957de201",
   "metadata": {
    "id": "d0921dcf-047e-4874-af98-23c5957de201"
   },
   "outputs": [],
   "source": [
    "colunas_para_melt = [\n",
    "    '01-10-2024',\n",
    "    '02-10-2024',\n",
    "    '03-10-2024',\n",
    "    '04-10-2024',\n",
    "    '07-10-2024',\n",
    "    '08-10-2024',\n",
    "    '09-10-2024',\n",
    "    '10-10-2024',\n",
    "    '11-10-2024',\n",
    "    '14-10-2024',\n",
    "    '15-10-2024',\n",
    "    '16-10-2024',\n",
    "    '17-10-2024',\n",
    "    '18-10-2024',\n",
    "    '21-10-2024',\n",
    "    '22-10-2024',\n",
    "    '23-10-2024',\n",
    "    '24-10-2024',\n",
    "    '25-10-2024',\n",
    "    '28-10-2024',\n",
    "    '29-10-2024',\n",
    "    '30-10-2024',\n",
    "    '31-10-2024']"
   ]
  },
  {
   "cell_type": "markdown",
   "id": "be71967a-50a6-40d7-8c1d-20e56bc1fcc8",
   "metadata": {
    "id": "be71967a-50a6-40d7-8c1d-20e56bc1fcc8"
   },
   "source": [
    "#### Indentificando as colunas que Eu quero manter em meu dataframe"
   ]
  },
  {
   "cell_type": "code",
   "execution_count": 464,
   "id": "2aa99a52-67bf-4d09-93cc-de8f9c2bcb11",
   "metadata": {
    "id": "2aa99a52-67bf-4d09-93cc-de8f9c2bcb11"
   },
   "outputs": [],
   "source": [
    "# Identifica as colunas que você quer manter como identificadoras (id_vars)\n",
    "# São as colunas que não serão \"unpivoted\"\n",
    "id_vars_cols = [columns for columns in dataMES.columns if columns not in colunas_para_melt]"
   ]
  },
  {
   "cell_type": "markdown",
   "id": "dd9ee5ed-6fdd-435b-9828-66fe1a84657a",
   "metadata": {
    "id": "dd9ee5ed-6fdd-435b-9828-66fe1a84657a"
   },
   "source": [
    "#### Realiza o melt apenas nas colunas de datas"
   ]
  },
  {
   "cell_type": "code",
   "execution_count": 465,
   "id": "ebf1862c-99cf-4bab-a825-c1e0e344c2e1",
   "metadata": {
    "id": "ebf1862c-99cf-4bab-a825-c1e0e344c2e1"
   },
   "outputs": [],
   "source": [
    "dataMES_melted = pd.melt(dataMES,\n",
    "                      id_vars=id_vars_cols, #colunas que Eu deixei, que ficaram.\n",
    "                      value_vars=colunas_para_melt, #colunas que vão se transformar.\n",
    "                      var_name='Dias de Aulas', # nome da coluna categorica\n",
    "                      value_name='Frequencia de Alunos') # nome da coluna de valores"
   ]
  },
  {
   "cell_type": "code",
   "execution_count": 466,
   "id": "706863de-a48e-4457-bbdf-e8866f16097d",
   "metadata": {
    "colab": {
     "base_uri": "https://localhost:8080/",
     "height": 230
    },
    "id": "706863de-a48e-4457-bbdf-e8866f16097d",
    "outputId": "8979dfb4-d366-4ddb-e5f8-3608c8612735"
   },
   "outputs": [
    {
     "data": {
      "text/html": [
       "<div>\n",
       "<style scoped>\n",
       "    .dataframe tbody tr th:only-of-type {\n",
       "        vertical-align: middle;\n",
       "    }\n",
       "\n",
       "    .dataframe tbody tr th {\n",
       "        vertical-align: top;\n",
       "    }\n",
       "\n",
       "    .dataframe thead th {\n",
       "        text-align: right;\n",
       "    }\n",
       "</style>\n",
       "<table border=\"1\" class=\"dataframe\">\n",
       "  <thead>\n",
       "    <tr style=\"text-align: right;\">\n",
       "      <th></th>\n",
       "      <th>CATEGORIA</th>\n",
       "      <th>MODALIDADE</th>\n",
       "      <th>DIA DA SEMANA</th>\n",
       "      <th>HORÁRIO</th>\n",
       "      <th>TURNO</th>\n",
       "      <th>PROFESSOR</th>\n",
       "      <th>Média alunos p/ professor</th>\n",
       "      <th>Média</th>\n",
       "      <th>Alunos/professor</th>\n",
       "      <th>Ocupação Máxima</th>\n",
       "      <th>Professor</th>\n",
       "      <th>Dias de Aulas</th>\n",
       "      <th>Frequencia de Alunos</th>\n",
       "    </tr>\n",
       "  </thead>\n",
       "  <tbody>\n",
       "    <tr>\n",
       "      <th>0</th>\n",
       "      <td>QUADRA</td>\n",
       "      <td>BEACH TENNIS - INICIANTE</td>\n",
       "      <td>seg, qua, sex</td>\n",
       "      <td>05:30</td>\n",
       "      <td>MANHÃ</td>\n",
       "      <td>KELY</td>\n",
       "      <td>13.0</td>\n",
       "      <td>0.923077</td>\n",
       "      <td>NaN</td>\n",
       "      <td>NaN</td>\n",
       "      <td>NaN</td>\n",
       "      <td>01-10-2024</td>\n",
       "      <td>0</td>\n",
       "    </tr>\n",
       "    <tr>\n",
       "      <th>1</th>\n",
       "      <td>QUADRA</td>\n",
       "      <td>BEACH TENNIS - INTERMEDIÁRIO</td>\n",
       "      <td>ter, qui</td>\n",
       "      <td>05:30</td>\n",
       "      <td>MANHÃ</td>\n",
       "      <td>KELY</td>\n",
       "      <td>11.0</td>\n",
       "      <td>4.636364</td>\n",
       "      <td>NaN</td>\n",
       "      <td>NaN</td>\n",
       "      <td>NaN</td>\n",
       "      <td>01-10-2024</td>\n",
       "      <td>4</td>\n",
       "    </tr>\n",
       "    <tr>\n",
       "      <th>2</th>\n",
       "      <td>ADULTO</td>\n",
       "      <td>GREEN BIKE</td>\n",
       "      <td>seg, qua,sex</td>\n",
       "      <td>06:00</td>\n",
       "      <td>MANHÃ</td>\n",
       "      <td>LINDY</td>\n",
       "      <td>11.0</td>\n",
       "      <td>7.454545</td>\n",
       "      <td>NaN</td>\n",
       "      <td>NaN</td>\n",
       "      <td>0.0</td>\n",
       "      <td>01-10-2024</td>\n",
       "      <td>0</td>\n",
       "    </tr>\n",
       "  </tbody>\n",
       "</table>\n",
       "</div>"
      ],
      "text/plain": [
       "  CATEGORIA                    MODALIDADE  DIA DA SEMANA HORÁRIO  TURNO  \\\n",
       "0    QUADRA      BEACH TENNIS - INICIANTE  seg, qua, sex   05:30  MANHÃ   \n",
       "1    QUADRA  BEACH TENNIS - INTERMEDIÁRIO       ter, qui   05:30  MANHÃ   \n",
       "2    ADULTO                    GREEN BIKE   seg, qua,sex   06:00  MANHÃ   \n",
       "\n",
       "  PROFESSOR  Média alunos p/ professor     Média  Alunos/professor  \\\n",
       "0      KELY                       13.0  0.923077               NaN   \n",
       "1      KELY                       11.0  4.636364               NaN   \n",
       "2     LINDY                       11.0  7.454545               NaN   \n",
       "\n",
       "   Ocupação Máxima  Professor Dias de Aulas  Frequencia de Alunos  \n",
       "0              NaN        NaN    01-10-2024                     0  \n",
       "1              NaN        NaN    01-10-2024                     4  \n",
       "2              NaN        0.0    01-10-2024                     0  "
      ]
     },
     "execution_count": 466,
     "metadata": {},
     "output_type": "execute_result"
    }
   ],
   "source": [
    "dataMES_melted.head(3)"
   ]
  },
  {
   "cell_type": "code",
   "execution_count": 467,
   "id": "2a280553-08b5-4ae3-a8e8-b2a3f53c88bb",
   "metadata": {
    "colab": {
     "base_uri": "https://localhost:8080/"
    },
    "id": "2a280553-08b5-4ae3-a8e8-b2a3f53c88bb",
    "outputId": "181ece88-59f7-415f-cdbd-a93f6c5b9278"
   },
   "outputs": [
    {
     "data": {
      "text/plain": [
       "np.int64(26782)"
      ]
     },
     "execution_count": 467,
     "metadata": {},
     "output_type": "execute_result"
    }
   ],
   "source": [
    "dataMES_melted['Frequencia de Alunos'].sum()"
   ]
  },
  {
   "cell_type": "markdown",
   "id": "519f7139-2ec7-48ac-8403-14ee3944ccf7",
   "metadata": {
    "id": "519f7139-2ec7-48ac-8403-14ee3944ccf7"
   },
   "source": [
    "# Aldeota [ALD] - PREPROCESSING 2"
   ]
  },
  {
   "cell_type": "code",
   "execution_count": 468,
   "id": "7b5ba781-3f2c-44c3-b784-cd2522d18b8e",
   "metadata": {
    "id": "7b5ba781-3f2c-44c3-b784-cd2522d18b8e"
   },
   "outputs": [],
   "source": [
    "data2 = pd.read_excel('base_de_frequencias_green_life_academias_dados_brutos.xlsx', sheet_name='ALD', skiprows=1, nrows=204)"
   ]
  },
  {
   "cell_type": "code",
   "execution_count": 469,
   "id": "c1d4d70c-fdbf-4bbf-b458-6e81055f001b",
   "metadata": {
    "id": "c1d4d70c-fdbf-4bbf-b458-6e81055f001b"
   },
   "outputs": [],
   "source": [
    "dataALD= data2.copy()"
   ]
  },
  {
   "cell_type": "markdown",
   "id": "60da4852-9333-408a-bb19-0b18510c9767",
   "metadata": {
    "id": "60da4852-9333-408a-bb19-0b18510c9767"
   },
   "source": [
    "### 1 PASSO: Removendo colunas desnecessárias"
   ]
  },
  {
   "cell_type": "code",
   "execution_count": 470,
   "id": "3a28d5b1-5639-4415-b5fc-252d334da40c",
   "metadata": {
    "colab": {
     "base_uri": "https://localhost:8080/",
     "height": 401
    },
    "id": "3a28d5b1-5639-4415-b5fc-252d334da40c",
    "outputId": "9d81df96-14a9-49e9-db5f-291308052792"
   },
   "outputs": [
    {
     "data": {
      "text/html": [
       "<div>\n",
       "<style scoped>\n",
       "    .dataframe tbody tr th:only-of-type {\n",
       "        vertical-align: middle;\n",
       "    }\n",
       "\n",
       "    .dataframe tbody tr th {\n",
       "        vertical-align: top;\n",
       "    }\n",
       "\n",
       "    .dataframe thead th {\n",
       "        text-align: right;\n",
       "    }\n",
       "</style>\n",
       "<table border=\"1\" class=\"dataframe\">\n",
       "  <thead>\n",
       "    <tr style=\"text-align: right;\">\n",
       "      <th></th>\n",
       "      <th></th>\n",
       "      <th>CATEGORIA</th>\n",
       "      <th>MODALIDADE</th>\n",
       "      <th>DIA DA SEMANA</th>\n",
       "      <th>HORÁRIO</th>\n",
       "      <th>TURNO</th>\n",
       "      <th>AUX 1</th>\n",
       "      <th>AUX 2</th>\n",
       "      <th>PROFESSOR</th>\n",
       "      <th>AUX 3</th>\n",
       "      <th>...</th>\n",
       "      <th>2024-10-25 00:00:00</th>\n",
       "      <th>2024-10-28 00:00:00</th>\n",
       "      <th>2024-10-29 00:00:00</th>\n",
       "      <th>2024-10-30 00:00:00</th>\n",
       "      <th>2024-10-31 00:00:00</th>\n",
       "      <th>Média alunos p/ professor</th>\n",
       "      <th>Média</th>\n",
       "      <th>Alunos/professor</th>\n",
       "      <th>Ocupação Máxima</th>\n",
       "      <th>Professor</th>\n",
       "    </tr>\n",
       "  </thead>\n",
       "  <tbody>\n",
       "    <tr>\n",
       "      <th>0</th>\n",
       "      <td>NaN</td>\n",
       "      <td>ADULTO</td>\n",
       "      <td>BEACH GYM</td>\n",
       "      <td>seg, ter, qua, qui, sex</td>\n",
       "      <td>06:00:00</td>\n",
       "      <td>06:00</td>\n",
       "      <td>MANHÃ</td>\n",
       "      <td>BEACH GYM - 06:00</td>\n",
       "      <td>ISABELLE VERMONTT</td>\n",
       "      <td>BEACH GYM - ISABELLE VERMONTT</td>\n",
       "      <td>...</td>\n",
       "      <td>0</td>\n",
       "      <td>0</td>\n",
       "      <td>2</td>\n",
       "      <td>0</td>\n",
       "      <td>2</td>\n",
       "      <td>17</td>\n",
       "      <td>1.470588</td>\n",
       "      <td>NaN</td>\n",
       "      <td>NaN</td>\n",
       "      <td>NaN</td>\n",
       "    </tr>\n",
       "    <tr>\n",
       "      <th>1</th>\n",
       "      <td>NaN</td>\n",
       "      <td>ADULTO</td>\n",
       "      <td>GREEN BIKE</td>\n",
       "      <td>seg, qua, sex</td>\n",
       "      <td>06:00:00</td>\n",
       "      <td>06:00</td>\n",
       "      <td>MANHÃ</td>\n",
       "      <td>GREEN BIKE - 06:00</td>\n",
       "      <td>GIL</td>\n",
       "      <td>GREEN BIKE - GIL</td>\n",
       "      <td>...</td>\n",
       "      <td>12</td>\n",
       "      <td>10</td>\n",
       "      <td>x</td>\n",
       "      <td>10</td>\n",
       "      <td>x</td>\n",
       "      <td>11</td>\n",
       "      <td>14.181818</td>\n",
       "      <td>NaN</td>\n",
       "      <td>NaN</td>\n",
       "      <td>0.0</td>\n",
       "    </tr>\n",
       "    <tr>\n",
       "      <th>2</th>\n",
       "      <td>NaN</td>\n",
       "      <td>QUADRA</td>\n",
       "      <td>BEACH TENIS</td>\n",
       "      <td>seg, ter, qua, qui, sex</td>\n",
       "      <td>06:00:00</td>\n",
       "      <td>06:00</td>\n",
       "      <td>MANHÃ</td>\n",
       "      <td>BEACH TENIS - 06:00</td>\n",
       "      <td>LUCAS</td>\n",
       "      <td>BEACH TENIS - LUCAS</td>\n",
       "      <td>...</td>\n",
       "      <td>4</td>\n",
       "      <td>2</td>\n",
       "      <td>8</td>\n",
       "      <td>3</td>\n",
       "      <td>8</td>\n",
       "      <td>20</td>\n",
       "      <td>5.400000</td>\n",
       "      <td>NaN</td>\n",
       "      <td>NaN</td>\n",
       "      <td>0.0</td>\n",
       "    </tr>\n",
       "  </tbody>\n",
       "</table>\n",
       "<p>3 rows × 38 columns</p>\n",
       "</div>"
      ],
      "text/plain": [
       "       CATEGORIA   MODALIDADE            DIA DA SEMANA   HORÁRIO  TURNO  \\\n",
       "0  NaN    ADULTO    BEACH GYM  seg, ter, qua, qui, sex  06:00:00  06:00   \n",
       "1  NaN    ADULTO   GREEN BIKE            seg, qua, sex  06:00:00  06:00   \n",
       "2  NaN    QUADRA  BEACH TENIS  seg, ter, qua, qui, sex  06:00:00  06:00   \n",
       "\n",
       "   AUX 1                AUX 2           PROFESSOR  \\\n",
       "0  MANHÃ    BEACH GYM - 06:00  ISABELLE VERMONTT    \n",
       "1  MANHÃ   GREEN BIKE - 06:00                 GIL   \n",
       "2  MANHÃ  BEACH TENIS - 06:00               LUCAS   \n",
       "\n",
       "                            AUX 3  ... 2024-10-25 00:00:00  \\\n",
       "0  BEACH GYM - ISABELLE VERMONTT   ...                   0   \n",
       "1                GREEN BIKE - GIL  ...                  12   \n",
       "2             BEACH TENIS - LUCAS  ...                   4   \n",
       "\n",
       "  2024-10-28 00:00:00 2024-10-29 00:00:00 2024-10-30 00:00:00  \\\n",
       "0                   0                   2                   0   \n",
       "1                  10                   x                  10   \n",
       "2                   2                   8                   3   \n",
       "\n",
       "  2024-10-31 00:00:00 Média alunos p/ professor      Média Alunos/professor  \\\n",
       "0                   2                        17   1.470588              NaN   \n",
       "1                   x                        11  14.181818              NaN   \n",
       "2                   8                        20   5.400000              NaN   \n",
       "\n",
       "  Ocupação Máxima Professor  \n",
       "0             NaN       NaN  \n",
       "1             NaN       0.0  \n",
       "2             NaN       0.0  \n",
       "\n",
       "[3 rows x 38 columns]"
      ]
     },
     "execution_count": 470,
     "metadata": {},
     "output_type": "execute_result"
    }
   ],
   "source": [
    "dataALD.head(3)"
   ]
  },
  {
   "cell_type": "code",
   "execution_count": 471,
   "id": "316786df-e223-4782-a68e-75256578ee15",
   "metadata": {
    "id": "316786df-e223-4782-a68e-75256578ee15"
   },
   "outputs": [],
   "source": [
    "del dataALD[' ']\n",
    "del dataALD['HORÁRIO']\n",
    "del dataALD['AUX 2']\n",
    "del dataALD['AUX 3']"
   ]
  },
  {
   "cell_type": "markdown",
   "id": "7351ff8b-ebfd-4057-bce1-4d54a8b02f73",
   "metadata": {
    "id": "7351ff8b-ebfd-4057-bce1-4d54a8b02f73"
   },
   "source": [
    "- PRECISAMOS RENOMEAR A COLUNA TURNO COMO HORARIO, DEPOIS\n",
    "- PRECISAMOS RENOMEAR A COLUNA AUX1 COMO TURNO"
   ]
  },
  {
   "cell_type": "code",
   "execution_count": 472,
   "id": "f258a846-433a-4c49-a233-d7cc500fabc1",
   "metadata": {
    "id": "f258a846-433a-4c49-a233-d7cc500fabc1"
   },
   "outputs": [],
   "source": [
    "\n",
    "dataALD.rename(columns={'TURNO': 'HORÁRIO',\n",
    "                    'AUX 1': 'TURNO'}, inplace=True)"
   ]
  },
  {
   "cell_type": "code",
   "execution_count": 473,
   "id": "d643a115-fd6d-4708-9c2a-8efe64399692",
   "metadata": {
    "colab": {
     "base_uri": "https://localhost:8080/",
     "height": 401
    },
    "id": "d643a115-fd6d-4708-9c2a-8efe64399692",
    "outputId": "df0edcd7-7ad5-4ef7-cc66-10be24d076d1"
   },
   "outputs": [
    {
     "data": {
      "text/html": [
       "<div>\n",
       "<style scoped>\n",
       "    .dataframe tbody tr th:only-of-type {\n",
       "        vertical-align: middle;\n",
       "    }\n",
       "\n",
       "    .dataframe tbody tr th {\n",
       "        vertical-align: top;\n",
       "    }\n",
       "\n",
       "    .dataframe thead th {\n",
       "        text-align: right;\n",
       "    }\n",
       "</style>\n",
       "<table border=\"1\" class=\"dataframe\">\n",
       "  <thead>\n",
       "    <tr style=\"text-align: right;\">\n",
       "      <th></th>\n",
       "      <th>CATEGORIA</th>\n",
       "      <th>MODALIDADE</th>\n",
       "      <th>DIA DA SEMANA</th>\n",
       "      <th>HORÁRIO</th>\n",
       "      <th>TURNO</th>\n",
       "      <th>PROFESSOR</th>\n",
       "      <th>2024-10-01 00:00:00</th>\n",
       "      <th>2024-10-02 00:00:00</th>\n",
       "      <th>2024-10-03 00:00:00</th>\n",
       "      <th>2024-10-04 00:00:00</th>\n",
       "      <th>...</th>\n",
       "      <th>2024-10-25 00:00:00</th>\n",
       "      <th>2024-10-28 00:00:00</th>\n",
       "      <th>2024-10-29 00:00:00</th>\n",
       "      <th>2024-10-30 00:00:00</th>\n",
       "      <th>2024-10-31 00:00:00</th>\n",
       "      <th>Média alunos p/ professor</th>\n",
       "      <th>Média</th>\n",
       "      <th>Alunos/professor</th>\n",
       "      <th>Ocupação Máxima</th>\n",
       "      <th>Professor</th>\n",
       "    </tr>\n",
       "  </thead>\n",
       "  <tbody>\n",
       "    <tr>\n",
       "      <th>0</th>\n",
       "      <td>ADULTO</td>\n",
       "      <td>BEACH GYM</td>\n",
       "      <td>seg, ter, qua, qui, sex</td>\n",
       "      <td>06:00</td>\n",
       "      <td>MANHÃ</td>\n",
       "      <td>ISABELLE VERMONTT</td>\n",
       "      <td>s/p</td>\n",
       "      <td>0</td>\n",
       "      <td>4</td>\n",
       "      <td>1</td>\n",
       "      <td>...</td>\n",
       "      <td>0</td>\n",
       "      <td>0</td>\n",
       "      <td>2</td>\n",
       "      <td>0</td>\n",
       "      <td>2</td>\n",
       "      <td>17</td>\n",
       "      <td>1.470588</td>\n",
       "      <td>NaN</td>\n",
       "      <td>NaN</td>\n",
       "      <td>NaN</td>\n",
       "    </tr>\n",
       "    <tr>\n",
       "      <th>1</th>\n",
       "      <td>ADULTO</td>\n",
       "      <td>GREEN BIKE</td>\n",
       "      <td>seg, qua, sex</td>\n",
       "      <td>06:00</td>\n",
       "      <td>MANHÃ</td>\n",
       "      <td>GIL</td>\n",
       "      <td>x</td>\n",
       "      <td>14</td>\n",
       "      <td>x</td>\n",
       "      <td>20</td>\n",
       "      <td>...</td>\n",
       "      <td>12</td>\n",
       "      <td>10</td>\n",
       "      <td>x</td>\n",
       "      <td>10</td>\n",
       "      <td>x</td>\n",
       "      <td>11</td>\n",
       "      <td>14.181818</td>\n",
       "      <td>NaN</td>\n",
       "      <td>NaN</td>\n",
       "      <td>0.0</td>\n",
       "    </tr>\n",
       "    <tr>\n",
       "      <th>2</th>\n",
       "      <td>QUADRA</td>\n",
       "      <td>BEACH TENIS</td>\n",
       "      <td>seg, ter, qua, qui, sex</td>\n",
       "      <td>06:00</td>\n",
       "      <td>MANHÃ</td>\n",
       "      <td>LUCAS</td>\n",
       "      <td>6</td>\n",
       "      <td>6</td>\n",
       "      <td>8</td>\n",
       "      <td>5</td>\n",
       "      <td>...</td>\n",
       "      <td>4</td>\n",
       "      <td>2</td>\n",
       "      <td>8</td>\n",
       "      <td>3</td>\n",
       "      <td>8</td>\n",
       "      <td>20</td>\n",
       "      <td>5.400000</td>\n",
       "      <td>NaN</td>\n",
       "      <td>NaN</td>\n",
       "      <td>0.0</td>\n",
       "    </tr>\n",
       "  </tbody>\n",
       "</table>\n",
       "<p>3 rows × 34 columns</p>\n",
       "</div>"
      ],
      "text/plain": [
       "  CATEGORIA   MODALIDADE            DIA DA SEMANA HORÁRIO  TURNO  \\\n",
       "0    ADULTO    BEACH GYM  seg, ter, qua, qui, sex   06:00  MANHÃ   \n",
       "1    ADULTO   GREEN BIKE            seg, qua, sex   06:00  MANHÃ   \n",
       "2    QUADRA  BEACH TENIS  seg, ter, qua, qui, sex   06:00  MANHÃ   \n",
       "\n",
       "            PROFESSOR 2024-10-01 00:00:00 2024-10-02 00:00:00  \\\n",
       "0  ISABELLE VERMONTT                  s/p                   0   \n",
       "1                 GIL                   x                  14   \n",
       "2               LUCAS                   6                   6   \n",
       "\n",
       "  2024-10-03 00:00:00 2024-10-04 00:00:00  ... 2024-10-25 00:00:00  \\\n",
       "0                   4                   1  ...                   0   \n",
       "1                   x                  20  ...                  12   \n",
       "2                   8                   5  ...                   4   \n",
       "\n",
       "  2024-10-28 00:00:00 2024-10-29 00:00:00 2024-10-30 00:00:00  \\\n",
       "0                   0                   2                   0   \n",
       "1                  10                   x                  10   \n",
       "2                   2                   8                   3   \n",
       "\n",
       "  2024-10-31 00:00:00 Média alunos p/ professor      Média Alunos/professor  \\\n",
       "0                   2                        17   1.470588              NaN   \n",
       "1                   x                        11  14.181818              NaN   \n",
       "2                   8                        20   5.400000              NaN   \n",
       "\n",
       "  Ocupação Máxima Professor  \n",
       "0             NaN       NaN  \n",
       "1             NaN       0.0  \n",
       "2             NaN       0.0  \n",
       "\n",
       "[3 rows x 34 columns]"
      ]
     },
     "execution_count": 473,
     "metadata": {},
     "output_type": "execute_result"
    }
   ],
   "source": [
    "dataALD.head(3)"
   ]
  },
  {
   "cell_type": "markdown",
   "id": "1ba73df3-656b-4f52-845c-f53635be59d7",
   "metadata": {
    "id": "1ba73df3-656b-4f52-845c-f53635be59d7"
   },
   "source": [
    "### 2 PASSO: Renomeando strings de datas, para que o pandas possa aceitar como colunas"
   ]
  },
  {
   "cell_type": "code",
   "execution_count": 474,
   "id": "216aa572-b472-4f00-8181-f879a9911703",
   "metadata": {
    "colab": {
     "base_uri": "https://localhost:8080/"
    },
    "id": "216aa572-b472-4f00-8181-f879a9911703",
    "outputId": "fe4e7884-7da3-4336-94b8-2f68c11e5fe2"
   },
   "outputs": [
    {
     "name": "stdout",
     "output_type": "stream",
     "text": [
      "CATEGORIA\n",
      "MODALIDADE\n",
      "DIA DA SEMANA\n",
      "HORÁRIO\n",
      "TURNO\n",
      "PROFESSOR\n",
      "2024-10-01 00:00:00\n",
      "2024-10-02 00:00:00\n",
      "2024-10-03 00:00:00\n",
      "2024-10-04 00:00:00\n",
      "2024-10-07 00:00:00\n",
      "2024-10-08 00:00:00\n",
      "2024-10-09 00:00:00\n",
      "2024-10-10 00:00:00\n",
      "2024-10-11 00:00:00\n",
      "2024-10-14 00:00:00\n",
      "2024-10-15 00:00:00\n",
      "2024-10-16 00:00:00\n",
      "2024-10-17 00:00:00\n",
      "2024-10-18 00:00:00\n",
      "2024-10-21 00:00:00\n",
      "2024-10-22 00:00:00\n",
      "2024-10-23 00:00:00\n",
      "2024-10-24 00:00:00\n",
      "2024-10-25 00:00:00\n",
      "2024-10-28 00:00:00\n",
      "2024-10-29 00:00:00\n",
      "2024-10-30 00:00:00\n",
      "2024-10-31 00:00:00\n",
      "Média alunos p/ professor\n",
      "Média\n",
      "Alunos/professor\n",
      "Ocupação Máxima\n",
      "Professor\n"
     ]
    }
   ],
   "source": [
    "for columns in dataALD.columns:\n",
    "    print(columns)"
   ]
  },
  {
   "cell_type": "code",
   "execution_count": 475,
   "id": "6cf63a6e-1a94-47f9-afe0-0004c2df06ad",
   "metadata": {
    "id": "6cf63a6e-1a94-47f9-afe0-0004c2df06ad"
   },
   "outputs": [],
   "source": [
    "dataALD.columns = [\n",
    "'CATEGORIA',\n",
    "'MODALIDADE',\n",
    "'DIA DA SEMANA',\n",
    "'HORÁRIO',\n",
    "'TURNO',\n",
    "'PROFESSOR',\n",
    "'2024-10-01 00:00:00',\n",
    "'2024-10-02 00:00:00',\n",
    "'2024-10-03 00:00:00',\n",
    "'2024-10-04 00:00:00',\n",
    "'2024-10-07 00:00:00',\n",
    "'2024-10-08 00:00:00',\n",
    "'2024-10-09 00:00:00',\n",
    "'2024-10-10 00:00:00',\n",
    "'2024-10-11 00:00:00',\n",
    "'2024-10-14 00:00:00',\n",
    "'2024-10-15 00:00:00',\n",
    "'2024-10-16 00:00:00',\n",
    "'2024-10-17 00:00:00',\n",
    "'2024-10-18 00:00:00',\n",
    "'2024-10-21 00:00:00',\n",
    "'2024-10-22 00:00:00',\n",
    "'2024-10-23 00:00:00',\n",
    "'2024-10-24 00:00:00',\n",
    "'2024-10-25 00:00:00',\n",
    "'2024-10-28 00:00:00',\n",
    "'2024-10-29 00:00:00',\n",
    "'2024-10-30 00:00:00',\n",
    "'2024-10-31 00:00:00',\n",
    "'Média alunos p/ professor',\n",
    "'Média',\n",
    "'Alunos/professor',\n",
    "'Ocupação Máxima',\n",
    "'Professor'\n",
    "]"
   ]
  },
  {
   "cell_type": "code",
   "execution_count": 476,
   "id": "3d4ff43b-3217-4ef7-8800-63478d44afb5",
   "metadata": {
    "colab": {
     "base_uri": "https://localhost:8080/"
    },
    "id": "3d4ff43b-3217-4ef7-8800-63478d44afb5",
    "outputId": "4c358641-69a8-4d00-d89b-e822d2bad3b0"
   },
   "outputs": [
    {
     "data": {
      "text/plain": [
       "Index(['CATEGORIA', 'MODALIDADE', 'DIA DA SEMANA', 'HORÁRIO', 'TURNO',\n",
       "       'PROFESSOR', '2024-10-01 00:00:00', '2024-10-02 00:00:00',\n",
       "       '2024-10-03 00:00:00', '2024-10-04 00:00:00', '2024-10-07 00:00:00',\n",
       "       '2024-10-08 00:00:00', '2024-10-09 00:00:00', '2024-10-10 00:00:00',\n",
       "       '2024-10-11 00:00:00', '2024-10-14 00:00:00', '2024-10-15 00:00:00',\n",
       "       '2024-10-16 00:00:00', '2024-10-17 00:00:00', '2024-10-18 00:00:00',\n",
       "       '2024-10-21 00:00:00', '2024-10-22 00:00:00', '2024-10-23 00:00:00',\n",
       "       '2024-10-24 00:00:00', '2024-10-25 00:00:00', '2024-10-28 00:00:00',\n",
       "       '2024-10-29 00:00:00', '2024-10-30 00:00:00', '2024-10-31 00:00:00',\n",
       "       'Média alunos p/ professor', 'Média', 'Alunos/professor',\n",
       "       'Ocupação Máxima', 'Professor'],\n",
       "      dtype='object')"
      ]
     },
     "execution_count": 476,
     "metadata": {},
     "output_type": "execute_result"
    }
   ],
   "source": [
    "dataALD.columns"
   ]
  },
  {
   "cell_type": "markdown",
   "id": "680518fe-8a12-4dd1-8865-4bae7f626fb0",
   "metadata": {
    "id": "680518fe-8a12-4dd1-8865-4bae7f626fb0"
   },
   "source": [
    "### PASSO 3: Escolhendo colunas com o nome de 'datas', para renomear pelo o tipo dia, mês e ano. e removendo os 00 de horas"
   ]
  },
  {
   "cell_type": "code",
   "execution_count": 477,
   "id": "11008dce-49f0-4d98-a755-83170e152783",
   "metadata": {
    "id": "11008dce-49f0-4d98-a755-83170e152783"
   },
   "outputs": [],
   "source": [
    "colunas = ['2024-10-01 00:00:00',\n",
    "'2024-10-02 00:00:00',\n",
    "'2024-10-03 00:00:00',\n",
    "'2024-10-04 00:00:00',\n",
    "'2024-10-07 00:00:00',\n",
    "'2024-10-08 00:00:00',\n",
    "'2024-10-09 00:00:00',\n",
    "'2024-10-10 00:00:00',\n",
    "'2024-10-11 00:00:00',\n",
    "'2024-10-14 00:00:00',\n",
    "'2024-10-15 00:00:00',\n",
    "'2024-10-16 00:00:00',\n",
    "'2024-10-17 00:00:00',\n",
    "'2024-10-18 00:00:00',\n",
    "'2024-10-21 00:00:00',\n",
    "'2024-10-22 00:00:00',\n",
    "'2024-10-23 00:00:00',\n",
    "'2024-10-24 00:00:00',\n",
    "'2024-10-25 00:00:00',\n",
    "'2024-10-28 00:00:00',\n",
    "'2024-10-29 00:00:00',\n",
    "'2024-10-30 00:00:00',\n",
    "'2024-10-31 00:00:00'\n",
    "]"
   ]
  },
  {
   "cell_type": "code",
   "execution_count": 478,
   "id": "bcb6cd46-c8df-416d-892d-152d4ca9ea1a",
   "metadata": {
    "id": "bcb6cd46-c8df-416d-892d-152d4ca9ea1a"
   },
   "outputs": [],
   "source": [
    "novas_colunas_ALD = []"
   ]
  },
  {
   "cell_type": "code",
   "execution_count": 479,
   "id": "20479440-e6bb-429f-bda6-56460afc016b",
   "metadata": {
    "id": "20479440-e6bb-429f-bda6-56460afc016b"
   },
   "outputs": [],
   "source": [
    "for columns in colunas:\n",
    "    # Remove a parte da hora\n",
    "    data_sem_hora = columns.split(' ')[0]\n",
    "\n",
    "    # Formata para o formato DD-MM-YYYY\n",
    "    ano, mes, dia = data_sem_hora.split('-')\n",
    "    novo_nome = f'{dia}-{mes}-{ano}'\n",
    "    novas_colunas_ALD.append(novo_nome)"
   ]
  },
  {
   "cell_type": "markdown",
   "id": "98d93826-42b6-441b-a28a-f313b3a29e3f",
   "metadata": {
    "id": "98d93826-42b6-441b-a28a-f313b3a29e3f"
   },
   "source": [
    "### PASSO 4 renomeando colunas e acrescentando o novo formato"
   ]
  },
  {
   "cell_type": "markdown",
   "id": "65718a0a-8f90-4a30-a5e0-9745c335c544",
   "metadata": {
    "id": "65718a0a-8f90-4a30-a5e0-9745c335c544"
   },
   "source": [
    "copie as colunas que escolheu para renomear, e cole o formato novo no lugar das velhas"
   ]
  },
  {
   "cell_type": "code",
   "execution_count": 480,
   "id": "0dd77089-6bf3-4f34-893f-c83793e594bf",
   "metadata": {
    "colab": {
     "base_uri": "https://localhost:8080/"
    },
    "id": "0dd77089-6bf3-4f34-893f-c83793e594bf",
    "outputId": "f4e2b2a1-c593-4fde-d4b6-fca0dc09272a"
   },
   "outputs": [
    {
     "name": "stdout",
     "output_type": "stream",
     "text": [
      "CATEGORIA\n",
      "MODALIDADE\n",
      "DIA DA SEMANA\n",
      "HORÁRIO\n",
      "TURNO\n",
      "PROFESSOR\n",
      "2024-10-01 00:00:00\n",
      "2024-10-02 00:00:00\n",
      "2024-10-03 00:00:00\n",
      "2024-10-04 00:00:00\n",
      "2024-10-07 00:00:00\n",
      "2024-10-08 00:00:00\n",
      "2024-10-09 00:00:00\n",
      "2024-10-10 00:00:00\n",
      "2024-10-11 00:00:00\n",
      "2024-10-14 00:00:00\n",
      "2024-10-15 00:00:00\n",
      "2024-10-16 00:00:00\n",
      "2024-10-17 00:00:00\n",
      "2024-10-18 00:00:00\n",
      "2024-10-21 00:00:00\n",
      "2024-10-22 00:00:00\n",
      "2024-10-23 00:00:00\n",
      "2024-10-24 00:00:00\n",
      "2024-10-25 00:00:00\n",
      "2024-10-28 00:00:00\n",
      "2024-10-29 00:00:00\n",
      "2024-10-30 00:00:00\n",
      "2024-10-31 00:00:00\n",
      "Média alunos p/ professor\n",
      "Média\n",
      "Alunos/professor\n",
      "Ocupação Máxima\n",
      "Professor\n"
     ]
    }
   ],
   "source": [
    "for columns in dataALD.columns:\n",
    "    print (columns)"
   ]
  },
  {
   "cell_type": "code",
   "execution_count": 481,
   "id": "703ad0df-5418-433c-93a2-1e6d81df5b22",
   "metadata": {
    "id": "703ad0df-5418-433c-93a2-1e6d81df5b22"
   },
   "outputs": [],
   "source": [
    "dataALD.columns= [\n",
    "'CATEGORIA',\n",
    "'MODALIDADE',\n",
    "'DIA DA SEMANA',\n",
    "'HORÁRIO',\n",
    "'TURNO',\n",
    "'PROFESSOR',\n",
    "'01-10-2024',\n",
    "'02-10-2024',\n",
    "'03-10-2024',\n",
    "'04-10-2024',\n",
    "'07-10-2024',\n",
    "'08-10-2024',\n",
    "'09-10-2024',\n",
    "'10-10-2024',\n",
    "'11-10-2024',\n",
    "'14-10-2024',\n",
    "'15-10-2024',\n",
    "'16-10-2024',\n",
    "'17-10-2024',\n",
    "'18-10-2024',\n",
    "'21-10-2024',\n",
    "'22-10-2024',\n",
    "'23-10-2024',\n",
    "'24-10-2024',\n",
    "'25-10-2024',\n",
    "'28-10-2024',\n",
    "'29-10-2024',\n",
    "'30-10-2024',\n",
    "'31-10-2024',\n",
    "'Média alunos p/ professor',\n",
    "'Média',\n",
    "'Alunos/professor',\n",
    "'Ocupação Máxima',\n",
    "'Professor']"
   ]
  },
  {
   "cell_type": "code",
   "execution_count": 482,
   "id": "d88c26d7-42bb-44a9-9fd5-ccb40ab1b8e2",
   "metadata": {
    "colab": {
     "base_uri": "https://localhost:8080/"
    },
    "id": "d88c26d7-42bb-44a9-9fd5-ccb40ab1b8e2",
    "outputId": "28350778-0015-4d55-96c7-056e16733ea8"
   },
   "outputs": [
    {
     "data": {
      "text/plain": [
       "['01-10-2024',\n",
       " '02-10-2024',\n",
       " '03-10-2024',\n",
       " '04-10-2024',\n",
       " '07-10-2024',\n",
       " '08-10-2024',\n",
       " '09-10-2024',\n",
       " '10-10-2024',\n",
       " '11-10-2024',\n",
       " '14-10-2024',\n",
       " '15-10-2024',\n",
       " '16-10-2024',\n",
       " '17-10-2024',\n",
       " '18-10-2024',\n",
       " '21-10-2024',\n",
       " '22-10-2024',\n",
       " '23-10-2024',\n",
       " '24-10-2024',\n",
       " '25-10-2024',\n",
       " '28-10-2024',\n",
       " '29-10-2024',\n",
       " '30-10-2024',\n",
       " '31-10-2024']"
      ]
     },
     "execution_count": 482,
     "metadata": {},
     "output_type": "execute_result"
    }
   ],
   "source": [
    "# Novas colunas\n",
    "novas_colunas_ALD"
   ]
  },
  {
   "cell_type": "markdown",
   "id": "6a1079dc-131f-4dc6-bc2d-646884631408",
   "metadata": {
    "id": "6a1079dc-131f-4dc6-bc2d-646884631408"
   },
   "source": [
    "### 5 PASSO: Usar o Loop for para substitituir os valores das frequencia de 'x' e 'X' por zero, com o método do pd.to_numeric)"
   ]
  },
  {
   "cell_type": "markdown",
   "id": "9f095107-7a24-483e-bd79-8cd72b2f5092",
   "metadata": {
    "id": "9f095107-7a24-483e-bd79-8cd72b2f5092"
   },
   "source": [
    "Escolhendo apenas as colunas de datas"
   ]
  },
  {
   "cell_type": "code",
   "execution_count": 483,
   "id": "7dde4749-160c-4a86-bc35-29c948e351fa",
   "metadata": {
    "id": "7dde4749-160c-4a86-bc35-29c948e351fa"
   },
   "outputs": [],
   "source": [
    "colunas = [\n",
    "'01-10-2024',\n",
    "'02-10-2024',\n",
    "'03-10-2024',\n",
    "'04-10-2024',\n",
    "'07-10-2024',\n",
    "'08-10-2024',\n",
    "'09-10-2024',\n",
    "'10-10-2024',\n",
    "'11-10-2024',\n",
    "'14-10-2024',\n",
    "'15-10-2024',\n",
    "'16-10-2024',\n",
    "'17-10-2024',\n",
    "'18-10-2024',\n",
    "'21-10-2024',\n",
    "'22-10-2024',\n",
    "'23-10-2024',\n",
    "'24-10-2024',\n",
    "'25-10-2024',\n",
    "'28-10-2024',\n",
    "'29-10-2024',\n",
    "'30-10-2024',\n",
    "'31-10-2024'\n",
    "]"
   ]
  },
  {
   "cell_type": "markdown",
   "id": "4550d3f1-f057-4276-b5fb-a175fdcfa4df",
   "metadata": {
    "id": "4550d3f1-f057-4276-b5fb-a175fdcfa4df"
   },
   "source": [
    "Fazendo a limpeza profunda, formatando valores para numeros, preenchendo com zeros os nulos e transformando em inteiros"
   ]
  },
  {
   "cell_type": "code",
   "execution_count": 484,
   "id": "0e6deba3-a691-42d1-aa5d-20e9cb7c6603",
   "metadata": {
    "id": "0e6deba3-a691-42d1-aa5d-20e9cb7c6603"
   },
   "outputs": [],
   "source": [
    "for columns in colunas:\n",
    "    # dataMES[columns] = pd.to_numeric(dataMES[columns], errors='coerce')\n",
    "    dataALD[columns] = pd.to_numeric(dataALD[columns], errors='coerce').fillna(0).astype(int)"
   ]
  },
  {
   "cell_type": "markdown",
   "id": "ab16325c-9527-4c3a-b6c0-ad48e72b2986",
   "metadata": {
    "id": "ab16325c-9527-4c3a-b6c0-ad48e72b2986"
   },
   "source": [
    "### PASSO 6: MELT derretendo as colunas em formato de datas"
   ]
  },
  {
   "cell_type": "markdown",
   "id": "8c348286-80cc-4e62-a757-82ee16c427cb",
   "metadata": {
    "id": "8c348286-80cc-4e62-a757-82ee16c427cb"
   },
   "source": [
    "o MELT ele pega as colunas que estão na horizontal e cria uma coluna de categorias, e depois ele cria outra coluna com os valores dessas colunas que foram transformadas em dados categóricos"
   ]
  },
  {
   "cell_type": "code",
   "execution_count": 485,
   "id": "ffdaa6bc-6bf9-42f0-8f08-e56656d24939",
   "metadata": {
    "id": "ffdaa6bc-6bf9-42f0-8f08-e56656d24939"
   },
   "outputs": [],
   "source": [
    "colunas_para_melt = [\n",
    "'01-10-2024',\n",
    "'02-10-2024',\n",
    "'03-10-2024',\n",
    "'04-10-2024',\n",
    "'07-10-2024',\n",
    "'08-10-2024',\n",
    "'09-10-2024',\n",
    "'10-10-2024',\n",
    "'11-10-2024',\n",
    "'14-10-2024',\n",
    "'15-10-2024',\n",
    "'16-10-2024',\n",
    "'17-10-2024',\n",
    "'18-10-2024',\n",
    "'21-10-2024',\n",
    "'22-10-2024',\n",
    "'23-10-2024',\n",
    "'24-10-2024',\n",
    "'25-10-2024',\n",
    "'28-10-2024',\n",
    "'29-10-2024',\n",
    "'30-10-2024',\n",
    "'31-10-2024'\n",
    "]"
   ]
  },
  {
   "cell_type": "markdown",
   "id": "e2fc86ae-d26c-4c17-8cea-d0fcefff0389",
   "metadata": {
    "id": "e2fc86ae-d26c-4c17-8cea-d0fcefff0389"
   },
   "source": [
    "#### Indentificando as colunas que Eu quero manter em meu dataframe"
   ]
  },
  {
   "cell_type": "code",
   "execution_count": 486,
   "id": "4dc5b859-05ee-48c5-ab93-9d56f8c74da2",
   "metadata": {
    "id": "4dc5b859-05ee-48c5-ab93-9d56f8c74da2"
   },
   "outputs": [],
   "source": [
    "# Identifica as colunas que você quer manter como identificadoras (id_vars)\n",
    "# São as colunas que não serão \"unpivoted\"\n",
    "id_vars_cols = [columns for columns in dataALD.columns if columns not in colunas_para_melt]"
   ]
  },
  {
   "cell_type": "markdown",
   "id": "52ef1b78-5007-41ea-a76a-2cf6784af174",
   "metadata": {
    "id": "52ef1b78-5007-41ea-a76a-2cf6784af174"
   },
   "source": [
    "#### Realiza o melt apenas nas colunas de datas"
   ]
  },
  {
   "cell_type": "code",
   "execution_count": 487,
   "id": "3b8afb4b-d3b9-4d31-963c-adc38e62b453",
   "metadata": {
    "id": "3b8afb4b-d3b9-4d31-963c-adc38e62b453"
   },
   "outputs": [],
   "source": [
    "dataALD_melted = pd.melt(dataALD,\n",
    "                      id_vars=id_vars_cols, #colunas que Eu deixei, que ficaram.\n",
    "                      value_vars=colunas_para_melt, #colunas que vão se transformar.\n",
    "                      var_name='Dias de Aulas', # nome da coluna categorica\n",
    "                      value_name='Frequencia de Alunos') # nome da coluna de valores"
   ]
  },
  {
   "cell_type": "code",
   "execution_count": 488,
   "id": "c8574433-5f79-4be8-9ed2-973e9868ae2d",
   "metadata": {
    "colab": {
     "base_uri": "https://localhost:8080/",
     "height": 265
    },
    "id": "c8574433-5f79-4be8-9ed2-973e9868ae2d",
    "outputId": "1b6b7eed-04dc-4ef3-e981-25b2ce1a326c"
   },
   "outputs": [
    {
     "data": {
      "text/html": [
       "<div>\n",
       "<style scoped>\n",
       "    .dataframe tbody tr th:only-of-type {\n",
       "        vertical-align: middle;\n",
       "    }\n",
       "\n",
       "    .dataframe tbody tr th {\n",
       "        vertical-align: top;\n",
       "    }\n",
       "\n",
       "    .dataframe thead th {\n",
       "        text-align: right;\n",
       "    }\n",
       "</style>\n",
       "<table border=\"1\" class=\"dataframe\">\n",
       "  <thead>\n",
       "    <tr style=\"text-align: right;\">\n",
       "      <th></th>\n",
       "      <th>CATEGORIA</th>\n",
       "      <th>MODALIDADE</th>\n",
       "      <th>DIA DA SEMANA</th>\n",
       "      <th>HORÁRIO</th>\n",
       "      <th>TURNO</th>\n",
       "      <th>PROFESSOR</th>\n",
       "      <th>Média alunos p/ professor</th>\n",
       "      <th>Média</th>\n",
       "      <th>Alunos/professor</th>\n",
       "      <th>Ocupação Máxima</th>\n",
       "      <th>Professor</th>\n",
       "      <th>Dias de Aulas</th>\n",
       "      <th>Frequencia de Alunos</th>\n",
       "    </tr>\n",
       "  </thead>\n",
       "  <tbody>\n",
       "    <tr>\n",
       "      <th>0</th>\n",
       "      <td>ADULTO</td>\n",
       "      <td>BEACH GYM</td>\n",
       "      <td>seg, ter, qua, qui, sex</td>\n",
       "      <td>06:00</td>\n",
       "      <td>MANHÃ</td>\n",
       "      <td>ISABELLE VERMONTT</td>\n",
       "      <td>17</td>\n",
       "      <td>1.470588</td>\n",
       "      <td>NaN</td>\n",
       "      <td>NaN</td>\n",
       "      <td>NaN</td>\n",
       "      <td>01-10-2024</td>\n",
       "      <td>0</td>\n",
       "    </tr>\n",
       "    <tr>\n",
       "      <th>1</th>\n",
       "      <td>ADULTO</td>\n",
       "      <td>GREEN BIKE</td>\n",
       "      <td>seg, qua, sex</td>\n",
       "      <td>06:00</td>\n",
       "      <td>MANHÃ</td>\n",
       "      <td>GIL</td>\n",
       "      <td>11</td>\n",
       "      <td>14.181818</td>\n",
       "      <td>NaN</td>\n",
       "      <td>NaN</td>\n",
       "      <td>0.0</td>\n",
       "      <td>01-10-2024</td>\n",
       "      <td>0</td>\n",
       "    </tr>\n",
       "    <tr>\n",
       "      <th>2</th>\n",
       "      <td>QUADRA</td>\n",
       "      <td>BEACH TENIS</td>\n",
       "      <td>seg, ter, qua, qui, sex</td>\n",
       "      <td>06:00</td>\n",
       "      <td>MANHÃ</td>\n",
       "      <td>LUCAS</td>\n",
       "      <td>20</td>\n",
       "      <td>5.400000</td>\n",
       "      <td>NaN</td>\n",
       "      <td>NaN</td>\n",
       "      <td>0.0</td>\n",
       "      <td>01-10-2024</td>\n",
       "      <td>6</td>\n",
       "    </tr>\n",
       "  </tbody>\n",
       "</table>\n",
       "</div>"
      ],
      "text/plain": [
       "  CATEGORIA   MODALIDADE            DIA DA SEMANA HORÁRIO  TURNO  \\\n",
       "0    ADULTO    BEACH GYM  seg, ter, qua, qui, sex   06:00  MANHÃ   \n",
       "1    ADULTO   GREEN BIKE            seg, qua, sex   06:00  MANHÃ   \n",
       "2    QUADRA  BEACH TENIS  seg, ter, qua, qui, sex   06:00  MANHÃ   \n",
       "\n",
       "            PROFESSOR  Média alunos p/ professor      Média  Alunos/professor  \\\n",
       "0  ISABELLE VERMONTT                          17   1.470588               NaN   \n",
       "1                 GIL                         11  14.181818               NaN   \n",
       "2               LUCAS                         20   5.400000               NaN   \n",
       "\n",
       "   Ocupação Máxima  Professor Dias de Aulas  Frequencia de Alunos  \n",
       "0              NaN        NaN    01-10-2024                     0  \n",
       "1              NaN        0.0    01-10-2024                     0  \n",
       "2              NaN        0.0    01-10-2024                     6  "
      ]
     },
     "execution_count": 488,
     "metadata": {},
     "output_type": "execute_result"
    }
   ],
   "source": [
    "dataALD_melted.head(3)"
   ]
  },
  {
   "cell_type": "code",
   "execution_count": 489,
   "id": "fa4d12bf-b3f2-410d-907d-b176bb3f32da",
   "metadata": {
    "colab": {
     "base_uri": "https://localhost:8080/"
    },
    "id": "fa4d12bf-b3f2-410d-907d-b176bb3f32da",
    "outputId": "30985530-f60f-4cc0-ce28-771d28b7e24f"
   },
   "outputs": [
    {
     "data": {
      "text/plain": [
       "np.int64(40971)"
      ]
     },
     "execution_count": 489,
     "metadata": {},
     "output_type": "execute_result"
    }
   ],
   "source": [
    "dataALD_melted['Frequencia de Alunos'].sum()"
   ]
  },
  {
   "cell_type": "markdown",
   "id": "dba4ed48-a96d-4397-a314-fabd709f3459",
   "metadata": {
    "id": "dba4ed48-a96d-4397-a314-fabd709f3459"
   },
   "source": [
    "# Fatima [FAT] - PREPROCESSING 3"
   ]
  },
  {
   "cell_type": "code",
   "execution_count": 490,
   "id": "beab34bb-5abb-4d30-a09c-e1aa2414ba35",
   "metadata": {
    "id": "beab34bb-5abb-4d30-a09c-e1aa2414ba35"
   },
   "outputs": [],
   "source": [
    "data3 = pd.read_excel('base_de_frequencias_green_life_academias_dados_brutos.xlsx', sheet_name='FAT', skiprows=1, nrows=88)"
   ]
  },
  {
   "cell_type": "code",
   "execution_count": 491,
   "id": "d5167ddb-052f-49a1-88f2-8491c7aaf831",
   "metadata": {
    "id": "d5167ddb-052f-49a1-88f2-8491c7aaf831"
   },
   "outputs": [],
   "source": [
    "dataFAT = data3.copy()"
   ]
  },
  {
   "cell_type": "markdown",
   "id": "a807e7e2-2f4c-4f48-9cdb-d9bb141406c8",
   "metadata": {
    "id": "a807e7e2-2f4c-4f48-9cdb-d9bb141406c8"
   },
   "source": [
    "### 1 PASSO: Removendo colunas desnecessárias"
   ]
  },
  {
   "cell_type": "code",
   "execution_count": 492,
   "id": "91f89634-2217-4469-a9b5-81f5c00c5106",
   "metadata": {
    "colab": {
     "base_uri": "https://localhost:8080/",
     "height": 401
    },
    "id": "91f89634-2217-4469-a9b5-81f5c00c5106",
    "outputId": "531c4071-b962-4d5b-981b-28f9c25519b2"
   },
   "outputs": [
    {
     "data": {
      "text/html": [
       "<div>\n",
       "<style scoped>\n",
       "    .dataframe tbody tr th:only-of-type {\n",
       "        vertical-align: middle;\n",
       "    }\n",
       "\n",
       "    .dataframe tbody tr th {\n",
       "        vertical-align: top;\n",
       "    }\n",
       "\n",
       "    .dataframe thead th {\n",
       "        text-align: right;\n",
       "    }\n",
       "</style>\n",
       "<table border=\"1\" class=\"dataframe\">\n",
       "  <thead>\n",
       "    <tr style=\"text-align: right;\">\n",
       "      <th></th>\n",
       "      <th>Unnamed: 0</th>\n",
       "      <th>Unnamed: 1</th>\n",
       "      <th>Unnamed: 2</th>\n",
       "      <th>CATEGORIA</th>\n",
       "      <th>MODALIDADE</th>\n",
       "      <th>DIA DA SEMANA</th>\n",
       "      <th>HORÁRIO</th>\n",
       "      <th>AUX.1</th>\n",
       "      <th>TURNO</th>\n",
       "      <th>AUX 2</th>\n",
       "      <th>...</th>\n",
       "      <th>2024-10-25 00:00:00</th>\n",
       "      <th>2024-10-28 00:00:00</th>\n",
       "      <th>2024-10-29 00:00:00</th>\n",
       "      <th>2024-10-30 00:00:00</th>\n",
       "      <th>2024-10-31 00:00:00</th>\n",
       "      <th>Aulas/mês</th>\n",
       "      <th>Média</th>\n",
       "      <th>Alunos/professor</th>\n",
       "      <th>Ocupação Máxima</th>\n",
       "      <th>Professor</th>\n",
       "    </tr>\n",
       "  </thead>\n",
       "  <tbody>\n",
       "    <tr>\n",
       "      <th>0</th>\n",
       "      <td>NaN</td>\n",
       "      <td>NaN</td>\n",
       "      <td>NaN</td>\n",
       "      <td>MUSC - C/P</td>\n",
       "      <td>A - MUSCULAÇÃO COM PERSONAL</td>\n",
       "      <td>seg, ter, qua, qui, sex</td>\n",
       "      <td>06:00:00</td>\n",
       "      <td>06:00</td>\n",
       "      <td>MANHÃ</td>\n",
       "      <td>A - MUSCULAÇÃO COM PERSONAL - 06:00</td>\n",
       "      <td>...</td>\n",
       "      <td>36</td>\n",
       "      <td>30</td>\n",
       "      <td>36</td>\n",
       "      <td>47</td>\n",
       "      <td>37</td>\n",
       "      <td>23</td>\n",
       "      <td>35.913043</td>\n",
       "      <td>NaN</td>\n",
       "      <td>NaN</td>\n",
       "      <td>0.0</td>\n",
       "    </tr>\n",
       "    <tr>\n",
       "      <th>1</th>\n",
       "      <td>NaN</td>\n",
       "      <td>NaN</td>\n",
       "      <td>NaN</td>\n",
       "      <td>MUSC - S/P</td>\n",
       "      <td>A - MUSCULAÇÃO SEM PERSONAL</td>\n",
       "      <td>seg, ter, qua, qui, sex</td>\n",
       "      <td>06:00:00</td>\n",
       "      <td>06:00</td>\n",
       "      <td>MANHÃ</td>\n",
       "      <td>A - MUSCULAÇÃO SEM PERSONAL - 06:00</td>\n",
       "      <td>...</td>\n",
       "      <td>50</td>\n",
       "      <td>44</td>\n",
       "      <td>71</td>\n",
       "      <td>40</td>\n",
       "      <td>44</td>\n",
       "      <td>23</td>\n",
       "      <td>44.565217</td>\n",
       "      <td>11.5</td>\n",
       "      <td>NaN</td>\n",
       "      <td>2.0</td>\n",
       "    </tr>\n",
       "    <tr>\n",
       "      <th>2</th>\n",
       "      <td>NaN</td>\n",
       "      <td>NaN</td>\n",
       "      <td>NaN</td>\n",
       "      <td>ADULTO</td>\n",
       "      <td>CROSSFIT</td>\n",
       "      <td>seg, qua, sex</td>\n",
       "      <td>06:00:00</td>\n",
       "      <td>06:00</td>\n",
       "      <td>MANHÃ</td>\n",
       "      <td>CROSSFIT - 06:00</td>\n",
       "      <td>...</td>\n",
       "      <td>7</td>\n",
       "      <td>6</td>\n",
       "      <td>x</td>\n",
       "      <td>4</td>\n",
       "      <td>x</td>\n",
       "      <td>13</td>\n",
       "      <td>7.153846</td>\n",
       "      <td>NaN</td>\n",
       "      <td>NaN</td>\n",
       "      <td>0.0</td>\n",
       "    </tr>\n",
       "  </tbody>\n",
       "</table>\n",
       "<p>3 rows × 40 columns</p>\n",
       "</div>"
      ],
      "text/plain": [
       "   Unnamed: 0  Unnamed: 1  Unnamed: 2   CATEGORIA  \\\n",
       "0         NaN         NaN         NaN  MUSC - C/P   \n",
       "1         NaN         NaN         NaN  MUSC - S/P   \n",
       "2         NaN         NaN         NaN      ADULTO   \n",
       "\n",
       "                    MODALIDADE            DIA DA SEMANA   HORÁRIO  AUX.1  \\\n",
       "0  A - MUSCULAÇÃO COM PERSONAL  seg, ter, qua, qui, sex  06:00:00  06:00   \n",
       "1  A - MUSCULAÇÃO SEM PERSONAL  seg, ter, qua, qui, sex  06:00:00  06:00   \n",
       "2                     CROSSFIT            seg, qua, sex  06:00:00  06:00   \n",
       "\n",
       "   TURNO                                AUX 2  ... 2024-10-25 00:00:00  \\\n",
       "0  MANHÃ  A - MUSCULAÇÃO COM PERSONAL - 06:00  ...                  36   \n",
       "1  MANHÃ  A - MUSCULAÇÃO SEM PERSONAL - 06:00  ...                  50   \n",
       "2  MANHÃ                     CROSSFIT - 06:00  ...                   7   \n",
       "\n",
       "  2024-10-28 00:00:00 2024-10-29 00:00:00 2024-10-30 00:00:00  \\\n",
       "0                  30                  36                  47   \n",
       "1                  44                  71                  40   \n",
       "2                   6                   x                   4   \n",
       "\n",
       "  2024-10-31 00:00:00 Aulas/mês      Média Alunos/professor Ocupação Máxima  \\\n",
       "0                  37        23  35.913043              NaN             NaN   \n",
       "1                  44        23  44.565217             11.5             NaN   \n",
       "2                   x        13   7.153846              NaN             NaN   \n",
       "\n",
       "  Professor  \n",
       "0       0.0  \n",
       "1       2.0  \n",
       "2       0.0  \n",
       "\n",
       "[3 rows x 40 columns]"
      ]
     },
     "execution_count": 492,
     "metadata": {},
     "output_type": "execute_result"
    }
   ],
   "source": [
    "dataFAT.head(3)"
   ]
  },
  {
   "cell_type": "code",
   "execution_count": 493,
   "id": "8e4ce178-6130-4adf-a4e4-96be27e36205",
   "metadata": {
    "id": "8e4ce178-6130-4adf-a4e4-96be27e36205"
   },
   "outputs": [],
   "source": [
    "del dataFAT['Unnamed: 0']\n",
    "del dataFAT['Unnamed: 1']\n",
    "del dataFAT['Unnamed: 2']"
   ]
  },
  {
   "cell_type": "code",
   "execution_count": 494,
   "id": "b31877f4-5f03-4f0a-9871-6d577e0e5e2d",
   "metadata": {
    "id": "b31877f4-5f03-4f0a-9871-6d577e0e5e2d"
   },
   "outputs": [],
   "source": [
    "del dataFAT['HORÁRIO']\n",
    "del dataFAT['AUX 2']\n",
    "del dataFAT['AUX 3']"
   ]
  },
  {
   "cell_type": "markdown",
   "id": "e17c9903-58ad-47b3-884e-be9cd4804ad9",
   "metadata": {
    "id": "e17c9903-58ad-47b3-884e-be9cd4804ad9"
   },
   "source": [
    "- PRECISAMOS RENOMEAR A COLUNA AUX.1 COMO HORARIO"
   ]
  },
  {
   "cell_type": "code",
   "execution_count": 495,
   "id": "3ce043a9-2c10-4f71-b64d-c11ffd9791d0",
   "metadata": {
    "id": "3ce043a9-2c10-4f71-b64d-c11ffd9791d0"
   },
   "outputs": [],
   "source": [
    "dataFAT.rename(columns={'AUX.1': 'HORÁRIO'}, inplace=True)"
   ]
  },
  {
   "cell_type": "code",
   "execution_count": 496,
   "id": "34d88247-21a1-4228-abdb-050a11d97226",
   "metadata": {
    "colab": {
     "base_uri": "https://localhost:8080/",
     "height": 401
    },
    "id": "34d88247-21a1-4228-abdb-050a11d97226",
    "outputId": "543541c4-2806-482d-905a-3e001a129c1b"
   },
   "outputs": [
    {
     "data": {
      "text/html": [
       "<div>\n",
       "<style scoped>\n",
       "    .dataframe tbody tr th:only-of-type {\n",
       "        vertical-align: middle;\n",
       "    }\n",
       "\n",
       "    .dataframe tbody tr th {\n",
       "        vertical-align: top;\n",
       "    }\n",
       "\n",
       "    .dataframe thead th {\n",
       "        text-align: right;\n",
       "    }\n",
       "</style>\n",
       "<table border=\"1\" class=\"dataframe\">\n",
       "  <thead>\n",
       "    <tr style=\"text-align: right;\">\n",
       "      <th></th>\n",
       "      <th>CATEGORIA</th>\n",
       "      <th>MODALIDADE</th>\n",
       "      <th>DIA DA SEMANA</th>\n",
       "      <th>HORÁRIO</th>\n",
       "      <th>TURNO</th>\n",
       "      <th>PROFESSOR</th>\n",
       "      <th>2024-10-01 00:00:00</th>\n",
       "      <th>2024-10-02 00:00:00</th>\n",
       "      <th>2024-10-03 00:00:00</th>\n",
       "      <th>2024-10-04 00:00:00</th>\n",
       "      <th>...</th>\n",
       "      <th>2024-10-25 00:00:00</th>\n",
       "      <th>2024-10-28 00:00:00</th>\n",
       "      <th>2024-10-29 00:00:00</th>\n",
       "      <th>2024-10-30 00:00:00</th>\n",
       "      <th>2024-10-31 00:00:00</th>\n",
       "      <th>Aulas/mês</th>\n",
       "      <th>Média</th>\n",
       "      <th>Alunos/professor</th>\n",
       "      <th>Ocupação Máxima</th>\n",
       "      <th>Professor</th>\n",
       "    </tr>\n",
       "  </thead>\n",
       "  <tbody>\n",
       "    <tr>\n",
       "      <th>0</th>\n",
       "      <td>MUSC - C/P</td>\n",
       "      <td>A - MUSCULAÇÃO COM PERSONAL</td>\n",
       "      <td>seg, ter, qua, qui, sex</td>\n",
       "      <td>06:00</td>\n",
       "      <td>MANHÃ</td>\n",
       "      <td>LEONARDO JOSE</td>\n",
       "      <td>24</td>\n",
       "      <td>39</td>\n",
       "      <td>38</td>\n",
       "      <td>40</td>\n",
       "      <td>...</td>\n",
       "      <td>36</td>\n",
       "      <td>30</td>\n",
       "      <td>36</td>\n",
       "      <td>47</td>\n",
       "      <td>37</td>\n",
       "      <td>23</td>\n",
       "      <td>35.913043</td>\n",
       "      <td>NaN</td>\n",
       "      <td>NaN</td>\n",
       "      <td>0.0</td>\n",
       "    </tr>\n",
       "    <tr>\n",
       "      <th>1</th>\n",
       "      <td>MUSC - S/P</td>\n",
       "      <td>A - MUSCULAÇÃO SEM PERSONAL</td>\n",
       "      <td>seg, ter, qua, qui, sex</td>\n",
       "      <td>06:00</td>\n",
       "      <td>MANHÃ</td>\n",
       "      <td>LEONARDO JOSE</td>\n",
       "      <td>38</td>\n",
       "      <td>41</td>\n",
       "      <td>48</td>\n",
       "      <td>32</td>\n",
       "      <td>...</td>\n",
       "      <td>50</td>\n",
       "      <td>44</td>\n",
       "      <td>71</td>\n",
       "      <td>40</td>\n",
       "      <td>44</td>\n",
       "      <td>23</td>\n",
       "      <td>44.565217</td>\n",
       "      <td>11.5</td>\n",
       "      <td>NaN</td>\n",
       "      <td>2.0</td>\n",
       "    </tr>\n",
       "    <tr>\n",
       "      <th>2</th>\n",
       "      <td>ADULTO</td>\n",
       "      <td>CROSSFIT</td>\n",
       "      <td>seg, qua, sex</td>\n",
       "      <td>06:00</td>\n",
       "      <td>MANHÃ</td>\n",
       "      <td>EVELINE CASTRO</td>\n",
       "      <td>x</td>\n",
       "      <td>10</td>\n",
       "      <td>x</td>\n",
       "      <td>7</td>\n",
       "      <td>...</td>\n",
       "      <td>7</td>\n",
       "      <td>6</td>\n",
       "      <td>x</td>\n",
       "      <td>4</td>\n",
       "      <td>x</td>\n",
       "      <td>13</td>\n",
       "      <td>7.153846</td>\n",
       "      <td>NaN</td>\n",
       "      <td>NaN</td>\n",
       "      <td>0.0</td>\n",
       "    </tr>\n",
       "  </tbody>\n",
       "</table>\n",
       "<p>3 rows × 34 columns</p>\n",
       "</div>"
      ],
      "text/plain": [
       "    CATEGORIA                   MODALIDADE            DIA DA SEMANA HORÁRIO  \\\n",
       "0  MUSC - C/P  A - MUSCULAÇÃO COM PERSONAL  seg, ter, qua, qui, sex   06:00   \n",
       "1  MUSC - S/P  A - MUSCULAÇÃO SEM PERSONAL  seg, ter, qua, qui, sex   06:00   \n",
       "2      ADULTO                     CROSSFIT            seg, qua, sex   06:00   \n",
       "\n",
       "   TURNO       PROFESSOR 2024-10-01 00:00:00 2024-10-02 00:00:00  \\\n",
       "0  MANHÃ   LEONARDO JOSE                  24                  39   \n",
       "1  MANHÃ   LEONARDO JOSE                  38                  41   \n",
       "2  MANHÃ  EVELINE CASTRO                   x                  10   \n",
       "\n",
       "  2024-10-03 00:00:00 2024-10-04 00:00:00  ... 2024-10-25 00:00:00  \\\n",
       "0                  38                  40  ...                  36   \n",
       "1                  48                  32  ...                  50   \n",
       "2                   x                   7  ...                   7   \n",
       "\n",
       "  2024-10-28 00:00:00 2024-10-29 00:00:00 2024-10-30 00:00:00  \\\n",
       "0                  30                  36                  47   \n",
       "1                  44                  71                  40   \n",
       "2                   6                   x                   4   \n",
       "\n",
       "  2024-10-31 00:00:00 Aulas/mês      Média Alunos/professor Ocupação Máxima  \\\n",
       "0                  37        23  35.913043              NaN             NaN   \n",
       "1                  44        23  44.565217             11.5             NaN   \n",
       "2                   x        13   7.153846              NaN             NaN   \n",
       "\n",
       "  Professor  \n",
       "0       0.0  \n",
       "1       2.0  \n",
       "2       0.0  \n",
       "\n",
       "[3 rows x 34 columns]"
      ]
     },
     "execution_count": 496,
     "metadata": {},
     "output_type": "execute_result"
    }
   ],
   "source": [
    "dataFAT.head(3)"
   ]
  },
  {
   "cell_type": "markdown",
   "id": "2ec4f9ad-bc44-4ba2-842b-726e03604a4b",
   "metadata": {
    "id": "2ec4f9ad-bc44-4ba2-842b-726e03604a4b"
   },
   "source": [
    "### 2 PASSO: Renomeando strings de datas, para que o pandas possa aceitar como colunas"
   ]
  },
  {
   "cell_type": "code",
   "execution_count": 497,
   "id": "e27ae539-3abd-4066-bd4d-f53ae89557f0",
   "metadata": {
    "colab": {
     "base_uri": "https://localhost:8080/"
    },
    "id": "e27ae539-3abd-4066-bd4d-f53ae89557f0",
    "outputId": "2a0d8077-2187-4187-b01a-18524fc3058b"
   },
   "outputs": [
    {
     "name": "stdout",
     "output_type": "stream",
     "text": [
      "CATEGORIA\n",
      "MODALIDADE\n",
      "DIA DA SEMANA\n",
      "HORÁRIO\n",
      "TURNO\n",
      "PROFESSOR\n",
      "2024-10-01 00:00:00\n",
      "2024-10-02 00:00:00\n",
      "2024-10-03 00:00:00\n",
      "2024-10-04 00:00:00\n",
      "2024-10-07 00:00:00\n",
      "2024-10-08 00:00:00\n",
      "2024-10-09 00:00:00\n",
      "2024-10-10 00:00:00\n",
      "2024-10-11 00:00:00\n",
      "2024-10-14 00:00:00\n",
      "2024-10-15 00:00:00\n",
      "2024-10-16 00:00:00\n",
      "2024-10-17 00:00:00\n",
      "2024-10-18 00:00:00\n",
      "2024-10-21 00:00:00\n",
      "2024-10-22 00:00:00\n",
      "2024-10-23 00:00:00\n",
      "2024-10-24 00:00:00\n",
      "2024-10-25 00:00:00\n",
      "2024-10-28 00:00:00\n",
      "2024-10-29 00:00:00\n",
      "2024-10-30 00:00:00\n",
      "2024-10-31 00:00:00\n",
      "Aulas/mês\n",
      "Média\n",
      "Alunos/professor\n",
      "Ocupação Máxima\n",
      "Professor\n"
     ]
    }
   ],
   "source": [
    "for columns in dataFAT.columns:\n",
    "    print(columns)"
   ]
  },
  {
   "cell_type": "code",
   "execution_count": 498,
   "id": "bdd39022-08de-4657-8fb0-de35f4cf76ad",
   "metadata": {
    "id": "bdd39022-08de-4657-8fb0-de35f4cf76ad"
   },
   "outputs": [],
   "source": [
    "dataFAT.columns = [\n",
    "'CATEGORIA',\n",
    "'MODALIDADE',\n",
    "'DIA DA SEMANA',\n",
    "'HORÁRIO',\n",
    "'TURNO',\n",
    "'PROFESSOR',\n",
    "'2024-10-01 00:00:00',\n",
    "'2024-10-02 00:00:00',\n",
    "'2024-10-03 00:00:00',\n",
    "'2024-10-04 00:00:00',\n",
    "'2024-10-07 00:00:00',\n",
    "'2024-10-08 00:00:00',\n",
    "'2024-10-09 00:00:00',\n",
    "'2024-10-10 00:00:00',\n",
    "'2024-10-11 00:00:00',\n",
    "'2024-10-14 00:00:00',\n",
    "'2024-10-15 00:00:00',\n",
    "'2024-10-16 00:00:00',\n",
    "'2024-10-17 00:00:00',\n",
    "'2024-10-18 00:00:00',\n",
    "'2024-10-21 00:00:00',\n",
    "'2024-10-22 00:00:00',\n",
    "'2024-10-23 00:00:00',\n",
    "'2024-10-24 00:00:00',\n",
    "'2024-10-25 00:00:00',\n",
    "'2024-10-28 00:00:00',\n",
    "'2024-10-29 00:00:00',\n",
    "'2024-10-30 00:00:00',\n",
    "'2024-10-31 00:00:00',\n",
    "'Aulas/mês',\n",
    "'Média',\n",
    "'Alunos/professor',\n",
    "'Ocupação Máxima',\n",
    "'Professor']"
   ]
  },
  {
   "cell_type": "code",
   "execution_count": 499,
   "id": "eafe6b76-c814-49b7-9d3e-e9a04d3d2746",
   "metadata": {
    "colab": {
     "base_uri": "https://localhost:8080/"
    },
    "id": "eafe6b76-c814-49b7-9d3e-e9a04d3d2746",
    "outputId": "4c7c7f13-d76f-46f0-8332-3e8a8720e8ca"
   },
   "outputs": [
    {
     "data": {
      "text/plain": [
       "Index(['CATEGORIA', 'MODALIDADE', 'DIA DA SEMANA', 'HORÁRIO', 'TURNO',\n",
       "       'PROFESSOR', '2024-10-01 00:00:00', '2024-10-02 00:00:00',\n",
       "       '2024-10-03 00:00:00', '2024-10-04 00:00:00', '2024-10-07 00:00:00',\n",
       "       '2024-10-08 00:00:00', '2024-10-09 00:00:00', '2024-10-10 00:00:00',\n",
       "       '2024-10-11 00:00:00', '2024-10-14 00:00:00', '2024-10-15 00:00:00',\n",
       "       '2024-10-16 00:00:00', '2024-10-17 00:00:00', '2024-10-18 00:00:00',\n",
       "       '2024-10-21 00:00:00', '2024-10-22 00:00:00', '2024-10-23 00:00:00',\n",
       "       '2024-10-24 00:00:00', '2024-10-25 00:00:00', '2024-10-28 00:00:00',\n",
       "       '2024-10-29 00:00:00', '2024-10-30 00:00:00', '2024-10-31 00:00:00',\n",
       "       'Aulas/mês', 'Média', 'Alunos/professor', 'Ocupação Máxima',\n",
       "       'Professor'],\n",
       "      dtype='object')"
      ]
     },
     "execution_count": 499,
     "metadata": {},
     "output_type": "execute_result"
    }
   ],
   "source": [
    "dataFAT.columns"
   ]
  },
  {
   "cell_type": "markdown",
   "id": "c3cf5782-f2dd-4e62-9abc-f15f49c07db5",
   "metadata": {
    "id": "c3cf5782-f2dd-4e62-9abc-f15f49c07db5"
   },
   "source": [
    "### PASSO 3: Escolhendo colunas com o nome de 'datas', para renomear pelo o tipo dia, mês e ano. e removendo os 00 de horas"
   ]
  },
  {
   "cell_type": "code",
   "execution_count": 500,
   "id": "78679603-2562-4063-a62c-5b5e9a944f19",
   "metadata": {
    "id": "78679603-2562-4063-a62c-5b5e9a944f19"
   },
   "outputs": [],
   "source": [
    "colunas = [\n",
    "'2024-10-01 00:00:00',\n",
    "'2024-10-02 00:00:00',\n",
    "'2024-10-03 00:00:00',\n",
    "'2024-10-04 00:00:00',\n",
    "'2024-10-07 00:00:00',\n",
    "'2024-10-08 00:00:00',\n",
    "'2024-10-09 00:00:00',\n",
    "'2024-10-10 00:00:00',\n",
    "'2024-10-11 00:00:00',\n",
    "'2024-10-14 00:00:00',\n",
    "'2024-10-15 00:00:00',\n",
    "'2024-10-16 00:00:00',\n",
    "'2024-10-17 00:00:00',\n",
    "'2024-10-18 00:00:00',\n",
    "'2024-10-21 00:00:00',\n",
    "'2024-10-22 00:00:00',\n",
    "'2024-10-23 00:00:00',\n",
    "'2024-10-24 00:00:00',\n",
    "'2024-10-25 00:00:00',\n",
    "'2024-10-28 00:00:00',\n",
    "'2024-10-29 00:00:00',\n",
    "'2024-10-30 00:00:00',\n",
    "'2024-10-31 00:00:00']"
   ]
  },
  {
   "cell_type": "code",
   "execution_count": 501,
   "id": "02943baa-5335-4e9a-8e2a-5553ade2f5da",
   "metadata": {
    "id": "02943baa-5335-4e9a-8e2a-5553ade2f5da"
   },
   "outputs": [],
   "source": [
    "novas_colunas_FAT = []"
   ]
  },
  {
   "cell_type": "code",
   "execution_count": 502,
   "id": "18ad9d22-c269-4bbd-aa72-94d597e56b3f",
   "metadata": {
    "id": "18ad9d22-c269-4bbd-aa72-94d597e56b3f"
   },
   "outputs": [],
   "source": [
    "for columns in colunas:\n",
    "    # Remove a parte da hora\n",
    "    data_sem_hora = columns.split(' ')[0]\n",
    "\n",
    "    # Formata para o formato DD-MM-YYYY\n",
    "    ano, mes, dia = data_sem_hora.split('-')\n",
    "    novo_nome = f'{dia}-{mes}-{ano}'\n",
    "    novas_colunas_FAT.append(novo_nome)"
   ]
  },
  {
   "cell_type": "code",
   "execution_count": 503,
   "id": "1ad02430-7459-4de3-b005-943bd004cb25",
   "metadata": {
    "colab": {
     "base_uri": "https://localhost:8080/"
    },
    "id": "1ad02430-7459-4de3-b005-943bd004cb25",
    "outputId": "9c6489d8-d23c-4fa1-c616-994211ae6202"
   },
   "outputs": [
    {
     "data": {
      "text/plain": [
       "['01-10-2024',\n",
       " '02-10-2024',\n",
       " '03-10-2024',\n",
       " '04-10-2024',\n",
       " '07-10-2024',\n",
       " '08-10-2024',\n",
       " '09-10-2024',\n",
       " '10-10-2024',\n",
       " '11-10-2024',\n",
       " '14-10-2024',\n",
       " '15-10-2024',\n",
       " '16-10-2024',\n",
       " '17-10-2024',\n",
       " '18-10-2024',\n",
       " '21-10-2024',\n",
       " '22-10-2024',\n",
       " '23-10-2024',\n",
       " '24-10-2024',\n",
       " '25-10-2024',\n",
       " '28-10-2024',\n",
       " '29-10-2024',\n",
       " '30-10-2024',\n",
       " '31-10-2024']"
      ]
     },
     "execution_count": 503,
     "metadata": {},
     "output_type": "execute_result"
    }
   ],
   "source": [
    "novas_colunas_FAT"
   ]
  },
  {
   "cell_type": "markdown",
   "id": "5ec9173d-deed-4001-aee8-6c1409d6529c",
   "metadata": {
    "id": "5ec9173d-deed-4001-aee8-6c1409d6529c"
   },
   "source": [
    "### PASSO 4 renomeando colunas e acrescentando o novo formato"
   ]
  },
  {
   "cell_type": "markdown",
   "id": "c5fb8ce2-ab76-44d4-9c64-234d142e050a",
   "metadata": {
    "id": "c5fb8ce2-ab76-44d4-9c64-234d142e050a"
   },
   "source": [
    "copie as colunas que escolheu para renomear, e cole o formato novo no lugar das velhas"
   ]
  },
  {
   "cell_type": "code",
   "execution_count": 504,
   "id": "b6a17498-e501-4971-9373-628356d557bf",
   "metadata": {
    "colab": {
     "base_uri": "https://localhost:8080/"
    },
    "id": "b6a17498-e501-4971-9373-628356d557bf",
    "outputId": "2f510c53-c1c4-421e-ab59-747ee478705c"
   },
   "outputs": [
    {
     "name": "stdout",
     "output_type": "stream",
     "text": [
      "CATEGORIA\n",
      "MODALIDADE\n",
      "DIA DA SEMANA\n",
      "HORÁRIO\n",
      "TURNO\n",
      "PROFESSOR\n",
      "2024-10-01 00:00:00\n",
      "2024-10-02 00:00:00\n",
      "2024-10-03 00:00:00\n",
      "2024-10-04 00:00:00\n",
      "2024-10-07 00:00:00\n",
      "2024-10-08 00:00:00\n",
      "2024-10-09 00:00:00\n",
      "2024-10-10 00:00:00\n",
      "2024-10-11 00:00:00\n",
      "2024-10-14 00:00:00\n",
      "2024-10-15 00:00:00\n",
      "2024-10-16 00:00:00\n",
      "2024-10-17 00:00:00\n",
      "2024-10-18 00:00:00\n",
      "2024-10-21 00:00:00\n",
      "2024-10-22 00:00:00\n",
      "2024-10-23 00:00:00\n",
      "2024-10-24 00:00:00\n",
      "2024-10-25 00:00:00\n",
      "2024-10-28 00:00:00\n",
      "2024-10-29 00:00:00\n",
      "2024-10-30 00:00:00\n",
      "2024-10-31 00:00:00\n",
      "Aulas/mês\n",
      "Média\n",
      "Alunos/professor\n",
      "Ocupação Máxima\n",
      "Professor\n"
     ]
    }
   ],
   "source": [
    "for columns in dataFAT.columns:\n",
    "    print (columns)"
   ]
  },
  {
   "cell_type": "code",
   "execution_count": 505,
   "id": "f452cc38-799f-4f3d-9782-ee5888394fd3",
   "metadata": {
    "id": "f452cc38-799f-4f3d-9782-ee5888394fd3"
   },
   "outputs": [],
   "source": [
    "# Adicionando as datas formatadas as colunas, copiando e colando"
   ]
  },
  {
   "cell_type": "code",
   "execution_count": 506,
   "id": "00a4eb65-ce9d-40cf-9c23-cb92c2dbe7c9",
   "metadata": {
    "id": "00a4eb65-ce9d-40cf-9c23-cb92c2dbe7c9"
   },
   "outputs": [],
   "source": [
    "dataFAT.columns = [\n",
    "'CATEGORIA',\n",
    "'MODALIDADE',\n",
    "'DIA DA SEMANA',\n",
    "'HORÁRIO',\n",
    "'TURNO',\n",
    "'PROFESSOR',\n",
    "'01-10-2024',\n",
    "'02-10-2024',\n",
    "'03-10-2024',\n",
    "'04-10-2024',\n",
    "'07-10-2024',\n",
    "'08-10-2024',\n",
    "'09-10-2024',\n",
    "'10-10-2024',\n",
    "'11-10-2024',\n",
    "'14-10-2024',\n",
    "'15-10-2024',\n",
    "'16-10-2024',\n",
    "'17-10-2024',\n",
    "'18-10-2024',\n",
    "'21-10-2024',\n",
    "'22-10-2024',\n",
    "'23-10-2024',\n",
    "'24-10-2024',\n",
    "'25-10-2024',\n",
    "'28-10-2024',\n",
    "'29-10-2024',\n",
    "'30-10-2024',\n",
    "'31-10-2024',\n",
    "'Aulas/mês',\n",
    "'Média',\n",
    "'Alunos/professor',\n",
    "'Ocupação Máxima0',\n",
    "'Professor'\n",
    "]"
   ]
  },
  {
   "cell_type": "markdown",
   "id": "f8a2e1c9-bcfc-4970-923d-6238223902db",
   "metadata": {
    "id": "f8a2e1c9-bcfc-4970-923d-6238223902db"
   },
   "source": [
    "### 5 PASSO: Usar o Loop for para substitituir os valores das frequencia de 'x' e 'X' por zero, com o método do pd.to_numeric)"
   ]
  },
  {
   "cell_type": "markdown",
   "id": "3c3ff16a-cc1a-4000-bb01-cbb50857f7c0",
   "metadata": {
    "id": "3c3ff16a-cc1a-4000-bb01-cbb50857f7c0"
   },
   "source": [
    "Escolhendo apenas as colunas de datas"
   ]
  },
  {
   "cell_type": "code",
   "execution_count": 507,
   "id": "e35400e2-bf1d-4e36-914a-24b35b67e8c4",
   "metadata": {
    "id": "e35400e2-bf1d-4e36-914a-24b35b67e8c4"
   },
   "outputs": [],
   "source": [
    "colunas = [\n",
    "'01-10-2024',\n",
    "'02-10-2024',\n",
    "'03-10-2024',\n",
    "'04-10-2024',\n",
    "'07-10-2024',\n",
    "'08-10-2024',\n",
    "'09-10-2024',\n",
    "'10-10-2024',\n",
    "'11-10-2024',\n",
    "'14-10-2024',\n",
    "'15-10-2024',\n",
    "'16-10-2024',\n",
    "'17-10-2024',\n",
    "'18-10-2024',\n",
    "'21-10-2024',\n",
    "'22-10-2024',\n",
    "'23-10-2024',\n",
    "'24-10-2024',\n",
    "'25-10-2024',\n",
    "'28-10-2024',\n",
    "'29-10-2024',\n",
    "'30-10-2024',\n",
    "'31-10-2024'\n",
    "]"
   ]
  },
  {
   "cell_type": "markdown",
   "id": "c95e679b-2873-433c-b74a-ecf7bcc03862",
   "metadata": {
    "id": "c95e679b-2873-433c-b74a-ecf7bcc03862"
   },
   "source": [
    "Fazendo a limpeza profunda, formatando valores para numeros, preenchendo com zeros os nulos e transformando em inteiros"
   ]
  },
  {
   "cell_type": "code",
   "execution_count": 508,
   "id": "8498fe9c-8495-489c-ace8-168b96a99b58",
   "metadata": {
    "id": "8498fe9c-8495-489c-ace8-168b96a99b58"
   },
   "outputs": [],
   "source": [
    "for columns in colunas:\n",
    "    # dataMES[columns] = pd.to_numeric(dataMES[columns], errors='coerce')\n",
    "    dataFAT[columns] = pd.to_numeric(dataFAT[columns], errors='coerce').fillna(0).astype(int)"
   ]
  },
  {
   "cell_type": "markdown",
   "id": "3f6054d4-a1bf-4b53-977d-f68b9a36aa98",
   "metadata": {
    "id": "3f6054d4-a1bf-4b53-977d-f68b9a36aa98"
   },
   "source": [
    "### PASSO 6: MELT derretendo as colunas em formato de datas"
   ]
  },
  {
   "cell_type": "markdown",
   "id": "4d721ca5-689d-4379-96df-5549012bf2db",
   "metadata": {
    "id": "4d721ca5-689d-4379-96df-5549012bf2db"
   },
   "source": [
    "o MELT ele pega as colunas que estão na horizontal e cria uma coluna de categorias, e depois ele cria outra coluna com os valores dessas colunas que foram transformadas em dados categóricos"
   ]
  },
  {
   "cell_type": "code",
   "execution_count": 509,
   "id": "276a5e63-dde1-43ee-aa5b-91222cb7d235",
   "metadata": {
    "id": "276a5e63-dde1-43ee-aa5b-91222cb7d235"
   },
   "outputs": [],
   "source": [
    "colunas_para_melt = [\n",
    "'01-10-2024',\n",
    "'02-10-2024',\n",
    "'03-10-2024',\n",
    "'04-10-2024',\n",
    "'07-10-2024',\n",
    "'08-10-2024',\n",
    "'09-10-2024',\n",
    "'10-10-2024',\n",
    "'11-10-2024',\n",
    "'14-10-2024',\n",
    "'15-10-2024',\n",
    "'16-10-2024',\n",
    "'17-10-2024',\n",
    "'18-10-2024',\n",
    "'21-10-2024',\n",
    "'22-10-2024',\n",
    "'23-10-2024',\n",
    "'24-10-2024',\n",
    "'25-10-2024',\n",
    "'28-10-2024',\n",
    "'29-10-2024',\n",
    "'30-10-2024',\n",
    "'31-10-2024'\n",
    "]"
   ]
  },
  {
   "cell_type": "markdown",
   "id": "7570c34f-3baf-4fa9-872a-8bf3a6b6dabf",
   "metadata": {
    "id": "7570c34f-3baf-4fa9-872a-8bf3a6b6dabf"
   },
   "source": [
    "#### Indentificando as colunas que Eu quero manter em meu dataframe"
   ]
  },
  {
   "cell_type": "code",
   "execution_count": 510,
   "id": "003631f6-ff54-4284-9a01-a1460a49c429",
   "metadata": {
    "id": "003631f6-ff54-4284-9a01-a1460a49c429"
   },
   "outputs": [],
   "source": [
    "# Identifica as colunas que você quer manter como identificadoras (id_vars)\n",
    "# São as colunas que não serão \"unpivoted\"\n",
    "id_vars_cols = [columns for columns in dataFAT.columns if columns not in colunas_para_melt]"
   ]
  },
  {
   "cell_type": "markdown",
   "id": "950f66b0-66c6-4419-ac1a-8f70d23a6720",
   "metadata": {
    "id": "950f66b0-66c6-4419-ac1a-8f70d23a6720"
   },
   "source": [
    "#### Realiza o melt apenas nas colunas de datas"
   ]
  },
  {
   "cell_type": "code",
   "execution_count": 511,
   "id": "66529be3-e617-4f88-b84e-107449f057d3",
   "metadata": {
    "id": "66529be3-e617-4f88-b84e-107449f057d3"
   },
   "outputs": [],
   "source": [
    "dataFAT_melted = pd.melt(dataFAT,\n",
    "                      id_vars=id_vars_cols, #colunas que Eu deixei, que ficaram.\n",
    "                      value_vars=colunas_para_melt, #colunas que vão se transformar.\n",
    "                      var_name='Dias de Aulas', # nome da coluna categorica\n",
    "                      value_name='Frequencia de Alunos') # nome da coluna de valores"
   ]
  },
  {
   "cell_type": "code",
   "execution_count": 512,
   "id": "e8816f24-6cb6-40a2-894e-2fed263a7a11",
   "metadata": {
    "colab": {
     "base_uri": "https://localhost:8080/",
     "height": 265
    },
    "id": "e8816f24-6cb6-40a2-894e-2fed263a7a11",
    "outputId": "c311f0b2-9f55-4bb8-86c8-bd161db0e4b9"
   },
   "outputs": [
    {
     "data": {
      "text/html": [
       "<div>\n",
       "<style scoped>\n",
       "    .dataframe tbody tr th:only-of-type {\n",
       "        vertical-align: middle;\n",
       "    }\n",
       "\n",
       "    .dataframe tbody tr th {\n",
       "        vertical-align: top;\n",
       "    }\n",
       "\n",
       "    .dataframe thead th {\n",
       "        text-align: right;\n",
       "    }\n",
       "</style>\n",
       "<table border=\"1\" class=\"dataframe\">\n",
       "  <thead>\n",
       "    <tr style=\"text-align: right;\">\n",
       "      <th></th>\n",
       "      <th>CATEGORIA</th>\n",
       "      <th>MODALIDADE</th>\n",
       "      <th>DIA DA SEMANA</th>\n",
       "      <th>HORÁRIO</th>\n",
       "      <th>TURNO</th>\n",
       "      <th>PROFESSOR</th>\n",
       "      <th>Aulas/mês</th>\n",
       "      <th>Média</th>\n",
       "      <th>Alunos/professor</th>\n",
       "      <th>Ocupação Máxima0</th>\n",
       "      <th>Professor</th>\n",
       "      <th>Dias de Aulas</th>\n",
       "      <th>Frequencia de Alunos</th>\n",
       "    </tr>\n",
       "  </thead>\n",
       "  <tbody>\n",
       "    <tr>\n",
       "      <th>0</th>\n",
       "      <td>MUSC - C/P</td>\n",
       "      <td>A - MUSCULAÇÃO COM PERSONAL</td>\n",
       "      <td>seg, ter, qua, qui, sex</td>\n",
       "      <td>06:00</td>\n",
       "      <td>MANHÃ</td>\n",
       "      <td>LEONARDO JOSE</td>\n",
       "      <td>23</td>\n",
       "      <td>35.913043</td>\n",
       "      <td>NaN</td>\n",
       "      <td>NaN</td>\n",
       "      <td>0.0</td>\n",
       "      <td>01-10-2024</td>\n",
       "      <td>24</td>\n",
       "    </tr>\n",
       "    <tr>\n",
       "      <th>1</th>\n",
       "      <td>MUSC - S/P</td>\n",
       "      <td>A - MUSCULAÇÃO SEM PERSONAL</td>\n",
       "      <td>seg, ter, qua, qui, sex</td>\n",
       "      <td>06:00</td>\n",
       "      <td>MANHÃ</td>\n",
       "      <td>LEONARDO JOSE</td>\n",
       "      <td>23</td>\n",
       "      <td>44.565217</td>\n",
       "      <td>11.5</td>\n",
       "      <td>NaN</td>\n",
       "      <td>2.0</td>\n",
       "      <td>01-10-2024</td>\n",
       "      <td>38</td>\n",
       "    </tr>\n",
       "    <tr>\n",
       "      <th>2</th>\n",
       "      <td>ADULTO</td>\n",
       "      <td>CROSSFIT</td>\n",
       "      <td>seg, qua, sex</td>\n",
       "      <td>06:00</td>\n",
       "      <td>MANHÃ</td>\n",
       "      <td>EVELINE CASTRO</td>\n",
       "      <td>13</td>\n",
       "      <td>7.153846</td>\n",
       "      <td>NaN</td>\n",
       "      <td>NaN</td>\n",
       "      <td>0.0</td>\n",
       "      <td>01-10-2024</td>\n",
       "      <td>0</td>\n",
       "    </tr>\n",
       "  </tbody>\n",
       "</table>\n",
       "</div>"
      ],
      "text/plain": [
       "    CATEGORIA                   MODALIDADE            DIA DA SEMANA HORÁRIO  \\\n",
       "0  MUSC - C/P  A - MUSCULAÇÃO COM PERSONAL  seg, ter, qua, qui, sex   06:00   \n",
       "1  MUSC - S/P  A - MUSCULAÇÃO SEM PERSONAL  seg, ter, qua, qui, sex   06:00   \n",
       "2      ADULTO                     CROSSFIT            seg, qua, sex   06:00   \n",
       "\n",
       "   TURNO       PROFESSOR  Aulas/mês      Média  Alunos/professor  \\\n",
       "0  MANHÃ   LEONARDO JOSE         23  35.913043               NaN   \n",
       "1  MANHÃ   LEONARDO JOSE         23  44.565217              11.5   \n",
       "2  MANHÃ  EVELINE CASTRO         13   7.153846               NaN   \n",
       "\n",
       "   Ocupação Máxima0  Professor Dias de Aulas  Frequencia de Alunos  \n",
       "0               NaN        0.0    01-10-2024                    24  \n",
       "1               NaN        2.0    01-10-2024                    38  \n",
       "2               NaN        0.0    01-10-2024                     0  "
      ]
     },
     "execution_count": 512,
     "metadata": {},
     "output_type": "execute_result"
    }
   ],
   "source": [
    "dataFAT_melted.head(3)"
   ]
  },
  {
   "cell_type": "code",
   "execution_count": 513,
   "id": "1dd408ff-bd89-4440-8f31-c68007040e3a",
   "metadata": {
    "colab": {
     "base_uri": "https://localhost:8080/"
    },
    "id": "1dd408ff-bd89-4440-8f31-c68007040e3a",
    "outputId": "25e7c943-cca7-4976-8e36-3698922d2bb3"
   },
   "outputs": [
    {
     "data": {
      "text/plain": [
       "np.int64(26660)"
      ]
     },
     "execution_count": 513,
     "metadata": {},
     "output_type": "execute_result"
    }
   ],
   "source": [
    "dataFAT_melted['Frequencia de Alunos'].sum()"
   ]
  },
  {
   "cell_type": "markdown",
   "id": "85051b72-da87-4f47-b12c-2ef1ea0c6b37",
   "metadata": {
    "id": "85051b72-da87-4f47-b12c-2ef1ea0c6b37"
   },
   "source": [
    "# BOOTCAMP [BOOT] - PREPROCESSING 4"
   ]
  },
  {
   "cell_type": "code",
   "execution_count": 514,
   "id": "0a7a5b25-2654-430d-a5c8-cbebfc9b3bb2",
   "metadata": {
    "id": "0a7a5b25-2654-430d-a5c8-cbebfc9b3bb2"
   },
   "outputs": [],
   "source": [
    "data4 = pd.read_excel('base_de_frequencias_green_life_academias_dados_brutos.xlsx', sheet_name='BOOTCAMP', skiprows=1, nrows=41)"
   ]
  },
  {
   "cell_type": "code",
   "execution_count": 515,
   "id": "1bb1411f-17eb-4036-8c44-e88d915db23f",
   "metadata": {
    "id": "1bb1411f-17eb-4036-8c44-e88d915db23f"
   },
   "outputs": [],
   "source": [
    "dataBOOT = data4.copy()"
   ]
  },
  {
   "cell_type": "markdown",
   "id": "4fe1d05e-e070-4a02-bf5c-41246063dbe3",
   "metadata": {
    "id": "4fe1d05e-e070-4a02-bf5c-41246063dbe3"
   },
   "source": [
    "### 1 PASSO: Removendo colunas desnecessárias"
   ]
  },
  {
   "cell_type": "code",
   "execution_count": 516,
   "id": "c6a55cb1-fd4e-4faa-a093-32b37f757f00",
   "metadata": {
    "colab": {
     "base_uri": "https://localhost:8080/",
     "height": 349
    },
    "id": "c6a55cb1-fd4e-4faa-a093-32b37f757f00",
    "outputId": "fc9332fc-9248-404c-cfb4-90ef8ebe224c"
   },
   "outputs": [
    {
     "data": {
      "text/html": [
       "<div>\n",
       "<style scoped>\n",
       "    .dataframe tbody tr th:only-of-type {\n",
       "        vertical-align: middle;\n",
       "    }\n",
       "\n",
       "    .dataframe tbody tr th {\n",
       "        vertical-align: top;\n",
       "    }\n",
       "\n",
       "    .dataframe thead th {\n",
       "        text-align: right;\n",
       "    }\n",
       "</style>\n",
       "<table border=\"1\" class=\"dataframe\">\n",
       "  <thead>\n",
       "    <tr style=\"text-align: right;\">\n",
       "      <th></th>\n",
       "      <th>Unnamed: 0</th>\n",
       "      <th>Unnamed: 1</th>\n",
       "      <th>Unnamed: 2</th>\n",
       "      <th>MODALIDADE</th>\n",
       "      <th>DIA DA SEMANA</th>\n",
       "      <th>HORÁRIO</th>\n",
       "      <th>AUX1</th>\n",
       "      <th>2024-10-01 00:00:00</th>\n",
       "      <th>2024-10-02 00:00:00</th>\n",
       "      <th>2024-10-03 00:00:00</th>\n",
       "      <th>...</th>\n",
       "      <th>2024-10-24 00:00:00</th>\n",
       "      <th>2024-10-25 00:00:00</th>\n",
       "      <th>2024-10-26 00:00:00</th>\n",
       "      <th>2024-10-27 00:00:00</th>\n",
       "      <th>2024-10-28 00:00:00</th>\n",
       "      <th>2024-10-29 00:00:00</th>\n",
       "      <th>2024-10-30 00:00:00</th>\n",
       "      <th>2024-10-31 00:00:00</th>\n",
       "      <th>MÉDIA</th>\n",
       "      <th>Unnamed: 39</th>\n",
       "    </tr>\n",
       "  </thead>\n",
       "  <tbody>\n",
       "    <tr>\n",
       "      <th>0</th>\n",
       "      <td>NaN</td>\n",
       "      <td>NaN</td>\n",
       "      <td>NaN</td>\n",
       "      <td>A - MUSCULAÇÃO</td>\n",
       "      <td>seg, ter, qua, qui, sex</td>\n",
       "      <td>05:30:00</td>\n",
       "      <td>05:30</td>\n",
       "      <td>4</td>\n",
       "      <td>3</td>\n",
       "      <td>4</td>\n",
       "      <td>...</td>\n",
       "      <td>0</td>\n",
       "      <td>2</td>\n",
       "      <td>x</td>\n",
       "      <td>x</td>\n",
       "      <td>NaN</td>\n",
       "      <td>4</td>\n",
       "      <td>4</td>\n",
       "      <td>NaN</td>\n",
       "      <td>2.333333</td>\n",
       "      <td>NaN</td>\n",
       "    </tr>\n",
       "    <tr>\n",
       "      <th>1</th>\n",
       "      <td>NaN</td>\n",
       "      <td>NaN</td>\n",
       "      <td>NaN</td>\n",
       "      <td>BOOTCAMP</td>\n",
       "      <td>seg, ter, qua, sex</td>\n",
       "      <td>05:30:00</td>\n",
       "      <td>05:30</td>\n",
       "      <td>2</td>\n",
       "      <td>0</td>\n",
       "      <td>0</td>\n",
       "      <td>...</td>\n",
       "      <td>8</td>\n",
       "      <td>1</td>\n",
       "      <td>x</td>\n",
       "      <td>x</td>\n",
       "      <td>NaN</td>\n",
       "      <td>2</td>\n",
       "      <td>3</td>\n",
       "      <td>NaN</td>\n",
       "      <td>2.666667</td>\n",
       "      <td>NaN</td>\n",
       "    </tr>\n",
       "    <tr>\n",
       "      <th>2</th>\n",
       "      <td>NaN</td>\n",
       "      <td>NaN</td>\n",
       "      <td>NaN</td>\n",
       "      <td>HIGH FORCE</td>\n",
       "      <td>qui</td>\n",
       "      <td>05:30:00</td>\n",
       "      <td>05:30</td>\n",
       "      <td>x</td>\n",
       "      <td>x</td>\n",
       "      <td>4</td>\n",
       "      <td>...</td>\n",
       "      <td>0</td>\n",
       "      <td>x</td>\n",
       "      <td>x</td>\n",
       "      <td>x</td>\n",
       "      <td>x</td>\n",
       "      <td>x</td>\n",
       "      <td>x</td>\n",
       "      <td>NaN</td>\n",
       "      <td>0.000000</td>\n",
       "      <td>NaN</td>\n",
       "    </tr>\n",
       "  </tbody>\n",
       "</table>\n",
       "<p>3 rows × 40 columns</p>\n",
       "</div>"
      ],
      "text/plain": [
       "   Unnamed: 0  Unnamed: 1  Unnamed: 2      MODALIDADE  \\\n",
       "0         NaN         NaN         NaN  A - MUSCULAÇÃO   \n",
       "1         NaN         NaN         NaN        BOOTCAMP   \n",
       "2         NaN         NaN         NaN      HIGH FORCE   \n",
       "\n",
       "             DIA DA SEMANA   HORÁRIO   AUX1 2024-10-01 00:00:00  \\\n",
       "0  seg, ter, qua, qui, sex  05:30:00  05:30                   4   \n",
       "1       seg, ter, qua, sex  05:30:00  05:30                   2   \n",
       "2                      qui  05:30:00  05:30                   x   \n",
       "\n",
       "  2024-10-02 00:00:00 2024-10-03 00:00:00  ... 2024-10-24 00:00:00  \\\n",
       "0                   3                   4  ...                   0   \n",
       "1                   0                   0  ...                   8   \n",
       "2                   x                   4  ...                   0   \n",
       "\n",
       "  2024-10-25 00:00:00 2024-10-26 00:00:00 2024-10-27 00:00:00  \\\n",
       "0                   2                   x                   x   \n",
       "1                   1                   x                   x   \n",
       "2                   x                   x                   x   \n",
       "\n",
       "  2024-10-28 00:00:00 2024-10-29 00:00:00 2024-10-30 00:00:00  \\\n",
       "0                 NaN                   4                   4   \n",
       "1                 NaN                   2                   3   \n",
       "2                   x                   x                   x   \n",
       "\n",
       "  2024-10-31 00:00:00     MÉDIA Unnamed: 39  \n",
       "0                 NaN  2.333333         NaN  \n",
       "1                 NaN  2.666667         NaN  \n",
       "2                 NaN  0.000000         NaN  \n",
       "\n",
       "[3 rows x 40 columns]"
      ]
     },
     "execution_count": 516,
     "metadata": {},
     "output_type": "execute_result"
    }
   ],
   "source": [
    "dataBOOT.head(3)"
   ]
  },
  {
   "cell_type": "code",
   "execution_count": 517,
   "id": "159fac55-3931-4580-af38-68df1115f1a3",
   "metadata": {
    "colab": {
     "base_uri": "https://localhost:8080/",
     "height": 1000
    },
    "id": "159fac55-3931-4580-af38-68df1115f1a3",
    "outputId": "71fcd5ce-6787-4ee8-e225-6b5823c7bec2"
   },
   "outputs": [
    {
     "data": {
      "text/plain": [
       "Unnamed: 0                                 NaN\n",
       "Unnamed: 1                                 NaN\n",
       "Unnamed: 2                                 NaN\n",
       "MODALIDADE                      A - MUSCULAÇÃO\n",
       "DIA DA SEMANA          seg, ter, qua, qui, sex\n",
       "HORÁRIO                               05:30:00\n",
       "AUX1                                     05:30\n",
       "2024-10-01 00:00:00                          4\n",
       "2024-10-02 00:00:00                          3\n",
       "2024-10-03 00:00:00                          4\n",
       "2024-10-04 00:00:00                          3\n",
       "2024-10-05 00:00:00                          x\n",
       "2024-10-06 00:00:00                          x\n",
       "2024-10-07 00:00:00                          3\n",
       "2024-10-08 00:00:00                          3\n",
       "2024-10-09 00:00:00                          3\n",
       "2024-10-10 00:00:00                          2\n",
       "2024-10-11 00:00:00                          1\n",
       "2024-10-12 00:00:00                          x\n",
       "2024-10-13 00:00:00                          x\n",
       "2024-10-14 00:00:00                          1\n",
       "2024-10-15 00:00:00                          3\n",
       "2024-10-16 00:00:00                          2\n",
       "2024-10-17 00:00:00                          1\n",
       "2024-10-18 00:00:00                          1\n",
       "2024-10-19 00:00:00                          x\n",
       "2024-10-20 00:00:00                          x\n",
       "2024-10-21 00:00:00                          4\n",
       "2024-10-22 00:00:00                          3\n",
       "2024-10-23 00:00:00                          3\n",
       "2024-10-24 00:00:00                          0\n",
       "2024-10-25 00:00:00                          2\n",
       "2024-10-26 00:00:00                          x\n",
       "2024-10-27 00:00:00                          x\n",
       "2024-10-28 00:00:00                        NaN\n",
       "2024-10-29 00:00:00                          4\n",
       "2024-10-30 00:00:00                          4\n",
       "2024-10-31 00:00:00                        NaN\n",
       "MÉDIA                                 2.333333\n",
       "Unnamed: 39                                NaN\n",
       "Name: 0, dtype: object"
      ]
     },
     "execution_count": 517,
     "metadata": {},
     "output_type": "execute_result"
    }
   ],
   "source": [
    "dataBOOT.iloc[0]"
   ]
  },
  {
   "cell_type": "code",
   "execution_count": 518,
   "id": "372d2b81-746d-4531-bc0b-1ef10def8c27",
   "metadata": {
    "colab": {
     "base_uri": "https://localhost:8080/",
     "height": 1000
    },
    "id": "372d2b81-746d-4531-bc0b-1ef10def8c27",
    "outputId": "56a41415-3144-4a5a-9270-a433cd467d38"
   },
   "outputs": [
    {
     "data": {
      "text/plain": [
       "Unnamed: 0                                  NaN\n",
       "Unnamed: 1                                  NaN\n",
       "Unnamed: 2                                  NaN\n",
       "MODALIDADE                             BOOTCAMP\n",
       "DIA DA SEMANA          seg, ter, qua, qui, sex,\n",
       "HORÁRIO                                20:30:00\n",
       "AUX1                                      20:30\n",
       "2024-10-01 00:00:00                           0\n",
       "2024-10-02 00:00:00                           0\n",
       "2024-10-03 00:00:00                           1\n",
       "2024-10-04 00:00:00                           0\n",
       "2024-10-05 00:00:00                           x\n",
       "2024-10-06 00:00:00                           x\n",
       "2024-10-07 00:00:00                           2\n",
       "2024-10-08 00:00:00                           0\n",
       "2024-10-09 00:00:00                           1\n",
       "2024-10-10 00:00:00                           0\n",
       "2024-10-11 00:00:00                           1\n",
       "2024-10-12 00:00:00                           x\n",
       "2024-10-13 00:00:00                           x\n",
       "2024-10-14 00:00:00                           3\n",
       "2024-10-15 00:00:00                         NaN\n",
       "2024-10-16 00:00:00                           2\n",
       "2024-10-17 00:00:00                           0\n",
       "2024-10-18 00:00:00                         NaN\n",
       "2024-10-19 00:00:00                           x\n",
       "2024-10-20 00:00:00                           x\n",
       "2024-10-21 00:00:00                           2\n",
       "2024-10-22 00:00:00                           0\n",
       "2024-10-23 00:00:00                           1\n",
       "2024-10-24 00:00:00                         NaN\n",
       "2024-10-25 00:00:00                           0\n",
       "2024-10-26 00:00:00                           x\n",
       "2024-10-27 00:00:00                           x\n",
       "2024-10-28 00:00:00                           1\n",
       "2024-10-29 00:00:00                           0\n",
       "2024-10-30 00:00:00                           0\n",
       "2024-10-31 00:00:00                         NaN\n",
       "MÉDIA                                       0.9\n",
       "Unnamed: 39                                 NaN\n",
       "Name: 38, dtype: object"
      ]
     },
     "execution_count": 518,
     "metadata": {},
     "output_type": "execute_result"
    }
   ],
   "source": [
    "dataBOOT.iloc[-1]"
   ]
  },
  {
   "cell_type": "code",
   "execution_count": 519,
   "id": "15eef118-4c45-4d20-873d-23a90b229490",
   "metadata": {
    "colab": {
     "base_uri": "https://localhost:8080/"
    },
    "id": "15eef118-4c45-4d20-873d-23a90b229490",
    "outputId": "a41758e0-8231-4cfb-b937-e9747f056655"
   },
   "outputs": [
    {
     "data": {
      "text/plain": [
       "Index([       'Unnamed: 0',        'Unnamed: 1',        'Unnamed: 2',\n",
       "              'MODALIDADE',     'DIA DA SEMANA',           'HORÁRIO',\n",
       "                    'AUX1', 2024-10-01 00:00:00, 2024-10-02 00:00:00,\n",
       "       2024-10-03 00:00:00, 2024-10-04 00:00:00, 2024-10-05 00:00:00,\n",
       "       2024-10-06 00:00:00, 2024-10-07 00:00:00, 2024-10-08 00:00:00,\n",
       "       2024-10-09 00:00:00, 2024-10-10 00:00:00, 2024-10-11 00:00:00,\n",
       "       2024-10-12 00:00:00, 2024-10-13 00:00:00, 2024-10-14 00:00:00,\n",
       "       2024-10-15 00:00:00, 2024-10-16 00:00:00, 2024-10-17 00:00:00,\n",
       "       2024-10-18 00:00:00, 2024-10-19 00:00:00, 2024-10-20 00:00:00,\n",
       "       2024-10-21 00:00:00, 2024-10-22 00:00:00, 2024-10-23 00:00:00,\n",
       "       2024-10-24 00:00:00, 2024-10-25 00:00:00, 2024-10-26 00:00:00,\n",
       "       2024-10-27 00:00:00, 2024-10-28 00:00:00, 2024-10-29 00:00:00,\n",
       "       2024-10-30 00:00:00, 2024-10-31 00:00:00,             'MÉDIA',\n",
       "             'Unnamed: 39'],\n",
       "      dtype='object')"
      ]
     },
     "execution_count": 519,
     "metadata": {},
     "output_type": "execute_result"
    }
   ],
   "source": [
    "dataBOOT.columns"
   ]
  },
  {
   "cell_type": "code",
   "execution_count": 520,
   "id": "3853a646-3dd8-4886-8612-480b805db79e",
   "metadata": {
    "id": "3853a646-3dd8-4886-8612-480b805db79e"
   },
   "outputs": [],
   "source": [
    "del dataBOOT['Unnamed: 0']\n",
    "del dataBOOT['Unnamed: 1']\n",
    "del dataBOOT['Unnamed: 2']\n",
    "del dataBOOT['Unnamed: 39']"
   ]
  },
  {
   "cell_type": "code",
   "execution_count": 521,
   "id": "f974e243-8772-4d46-9482-10d195fe583a",
   "metadata": {
    "id": "f974e243-8772-4d46-9482-10d195fe583a"
   },
   "outputs": [],
   "source": [
    "del dataBOOT['HORÁRIO']"
   ]
  },
  {
   "cell_type": "markdown",
   "id": "bc1c8739-3fcd-4815-9299-94a8a3fde656",
   "metadata": {
    "id": "bc1c8739-3fcd-4815-9299-94a8a3fde656"
   },
   "source": [
    "- PRECISAMOS RENOMEAR A COLUNA AUX.1 COMO HORARIO"
   ]
  },
  {
   "cell_type": "code",
   "execution_count": 522,
   "id": "63901f5a-650e-48c5-a7a8-71a1468b7969",
   "metadata": {
    "id": "63901f5a-650e-48c5-a7a8-71a1468b7969"
   },
   "outputs": [],
   "source": [
    "dataBOOT.rename(columns={'AUX1': 'HORÁRIO'}, inplace=True)\n",
    "# Ajeitando o nome da média\n",
    "dataBOOT.rename(columns={'MÉDIA': 'Média'}, inplace=True)"
   ]
  },
  {
   "cell_type": "code",
   "execution_count": 523,
   "id": "e7cd371d-e5f9-4151-960a-563afee9c10c",
   "metadata": {
    "colab": {
     "base_uri": "https://localhost:8080/",
     "height": 349
    },
    "id": "e7cd371d-e5f9-4151-960a-563afee9c10c",
    "outputId": "4d12589d-637d-49b9-db26-f038d82882c4"
   },
   "outputs": [
    {
     "data": {
      "text/html": [
       "<div>\n",
       "<style scoped>\n",
       "    .dataframe tbody tr th:only-of-type {\n",
       "        vertical-align: middle;\n",
       "    }\n",
       "\n",
       "    .dataframe tbody tr th {\n",
       "        vertical-align: top;\n",
       "    }\n",
       "\n",
       "    .dataframe thead th {\n",
       "        text-align: right;\n",
       "    }\n",
       "</style>\n",
       "<table border=\"1\" class=\"dataframe\">\n",
       "  <thead>\n",
       "    <tr style=\"text-align: right;\">\n",
       "      <th></th>\n",
       "      <th>MODALIDADE</th>\n",
       "      <th>DIA DA SEMANA</th>\n",
       "      <th>HORÁRIO</th>\n",
       "      <th>2024-10-01 00:00:00</th>\n",
       "      <th>2024-10-02 00:00:00</th>\n",
       "      <th>2024-10-03 00:00:00</th>\n",
       "      <th>2024-10-04 00:00:00</th>\n",
       "      <th>2024-10-05 00:00:00</th>\n",
       "      <th>2024-10-06 00:00:00</th>\n",
       "      <th>2024-10-07 00:00:00</th>\n",
       "      <th>...</th>\n",
       "      <th>2024-10-23 00:00:00</th>\n",
       "      <th>2024-10-24 00:00:00</th>\n",
       "      <th>2024-10-25 00:00:00</th>\n",
       "      <th>2024-10-26 00:00:00</th>\n",
       "      <th>2024-10-27 00:00:00</th>\n",
       "      <th>2024-10-28 00:00:00</th>\n",
       "      <th>2024-10-29 00:00:00</th>\n",
       "      <th>2024-10-30 00:00:00</th>\n",
       "      <th>2024-10-31 00:00:00</th>\n",
       "      <th>Média</th>\n",
       "    </tr>\n",
       "  </thead>\n",
       "  <tbody>\n",
       "    <tr>\n",
       "      <th>0</th>\n",
       "      <td>A - MUSCULAÇÃO</td>\n",
       "      <td>seg, ter, qua, qui, sex</td>\n",
       "      <td>05:30</td>\n",
       "      <td>4</td>\n",
       "      <td>3</td>\n",
       "      <td>4</td>\n",
       "      <td>3</td>\n",
       "      <td>x</td>\n",
       "      <td>x</td>\n",
       "      <td>3</td>\n",
       "      <td>...</td>\n",
       "      <td>3</td>\n",
       "      <td>0</td>\n",
       "      <td>2</td>\n",
       "      <td>x</td>\n",
       "      <td>x</td>\n",
       "      <td>NaN</td>\n",
       "      <td>4</td>\n",
       "      <td>4</td>\n",
       "      <td>NaN</td>\n",
       "      <td>2.333333</td>\n",
       "    </tr>\n",
       "    <tr>\n",
       "      <th>1</th>\n",
       "      <td>BOOTCAMP</td>\n",
       "      <td>seg, ter, qua, sex</td>\n",
       "      <td>05:30</td>\n",
       "      <td>2</td>\n",
       "      <td>0</td>\n",
       "      <td>0</td>\n",
       "      <td>0</td>\n",
       "      <td>x</td>\n",
       "      <td>x</td>\n",
       "      <td>5</td>\n",
       "      <td>...</td>\n",
       "      <td>3</td>\n",
       "      <td>8</td>\n",
       "      <td>1</td>\n",
       "      <td>x</td>\n",
       "      <td>x</td>\n",
       "      <td>NaN</td>\n",
       "      <td>2</td>\n",
       "      <td>3</td>\n",
       "      <td>NaN</td>\n",
       "      <td>2.666667</td>\n",
       "    </tr>\n",
       "    <tr>\n",
       "      <th>2</th>\n",
       "      <td>HIGH FORCE</td>\n",
       "      <td>qui</td>\n",
       "      <td>05:30</td>\n",
       "      <td>x</td>\n",
       "      <td>x</td>\n",
       "      <td>4</td>\n",
       "      <td>x</td>\n",
       "      <td>x</td>\n",
       "      <td>x</td>\n",
       "      <td>x</td>\n",
       "      <td>...</td>\n",
       "      <td>x</td>\n",
       "      <td>0</td>\n",
       "      <td>x</td>\n",
       "      <td>x</td>\n",
       "      <td>x</td>\n",
       "      <td>x</td>\n",
       "      <td>x</td>\n",
       "      <td>x</td>\n",
       "      <td>NaN</td>\n",
       "      <td>0.000000</td>\n",
       "    </tr>\n",
       "  </tbody>\n",
       "</table>\n",
       "<p>3 rows × 35 columns</p>\n",
       "</div>"
      ],
      "text/plain": [
       "       MODALIDADE            DIA DA SEMANA HORÁRIO 2024-10-01 00:00:00  \\\n",
       "0  A - MUSCULAÇÃO  seg, ter, qua, qui, sex   05:30                   4   \n",
       "1        BOOTCAMP       seg, ter, qua, sex   05:30                   2   \n",
       "2      HIGH FORCE                      qui   05:30                   x   \n",
       "\n",
       "  2024-10-02 00:00:00 2024-10-03 00:00:00 2024-10-04 00:00:00  \\\n",
       "0                   3                   4                   3   \n",
       "1                   0                   0                   0   \n",
       "2                   x                   4                   x   \n",
       "\n",
       "  2024-10-05 00:00:00 2024-10-06 00:00:00 2024-10-07 00:00:00  ...  \\\n",
       "0                   x                   x                   3  ...   \n",
       "1                   x                   x                   5  ...   \n",
       "2                   x                   x                   x  ...   \n",
       "\n",
       "  2024-10-23 00:00:00 2024-10-24 00:00:00 2024-10-25 00:00:00  \\\n",
       "0                   3                   0                   2   \n",
       "1                   3                   8                   1   \n",
       "2                   x                   0                   x   \n",
       "\n",
       "  2024-10-26 00:00:00 2024-10-27 00:00:00 2024-10-28 00:00:00  \\\n",
       "0                   x                   x                 NaN   \n",
       "1                   x                   x                 NaN   \n",
       "2                   x                   x                   x   \n",
       "\n",
       "  2024-10-29 00:00:00 2024-10-30 00:00:00 2024-10-31 00:00:00     Média  \n",
       "0                   4                   4                 NaN  2.333333  \n",
       "1                   2                   3                 NaN  2.666667  \n",
       "2                   x                   x                 NaN  0.000000  \n",
       "\n",
       "[3 rows x 35 columns]"
      ]
     },
     "execution_count": 523,
     "metadata": {},
     "output_type": "execute_result"
    }
   ],
   "source": [
    "dataBOOT.head(3)"
   ]
  },
  {
   "cell_type": "markdown",
   "id": "8d697497-a872-44f8-ad52-2e4ea5235d85",
   "metadata": {
    "id": "8d697497-a872-44f8-ad52-2e4ea5235d85"
   },
   "source": [
    "### 2 PASSO: Renomeando strings de datas, para que o pandas possa aceitar como colunas"
   ]
  },
  {
   "cell_type": "code",
   "execution_count": 524,
   "id": "ecf137cc-4da2-46cc-a9df-721613256bc7",
   "metadata": {
    "colab": {
     "base_uri": "https://localhost:8080/"
    },
    "id": "ecf137cc-4da2-46cc-a9df-721613256bc7",
    "outputId": "8617bdc0-3e21-4fd0-c303-602f5373524f"
   },
   "outputs": [
    {
     "name": "stdout",
     "output_type": "stream",
     "text": [
      "MODALIDADE\n",
      "DIA DA SEMANA\n",
      "HORÁRIO\n",
      "2024-10-01 00:00:00\n",
      "2024-10-02 00:00:00\n",
      "2024-10-03 00:00:00\n",
      "2024-10-04 00:00:00\n",
      "2024-10-05 00:00:00\n",
      "2024-10-06 00:00:00\n",
      "2024-10-07 00:00:00\n",
      "2024-10-08 00:00:00\n",
      "2024-10-09 00:00:00\n",
      "2024-10-10 00:00:00\n",
      "2024-10-11 00:00:00\n",
      "2024-10-12 00:00:00\n",
      "2024-10-13 00:00:00\n",
      "2024-10-14 00:00:00\n",
      "2024-10-15 00:00:00\n",
      "2024-10-16 00:00:00\n",
      "2024-10-17 00:00:00\n",
      "2024-10-18 00:00:00\n",
      "2024-10-19 00:00:00\n",
      "2024-10-20 00:00:00\n",
      "2024-10-21 00:00:00\n",
      "2024-10-22 00:00:00\n",
      "2024-10-23 00:00:00\n",
      "2024-10-24 00:00:00\n",
      "2024-10-25 00:00:00\n",
      "2024-10-26 00:00:00\n",
      "2024-10-27 00:00:00\n",
      "2024-10-28 00:00:00\n",
      "2024-10-29 00:00:00\n",
      "2024-10-30 00:00:00\n",
      "2024-10-31 00:00:00\n",
      "Média\n"
     ]
    }
   ],
   "source": [
    "for columns in dataBOOT.columns:\n",
    "    print(columns)"
   ]
  },
  {
   "cell_type": "code",
   "execution_count": 525,
   "id": "bf6f4c82-ee41-42ac-83b0-538b37b51237",
   "metadata": {
    "id": "bf6f4c82-ee41-42ac-83b0-538b37b51237"
   },
   "outputs": [],
   "source": [
    "dataBOOT.columns = [\n",
    "'MODALIDADE',\n",
    "'DIA DA SEMANA',\n",
    "'HORÁRIO',\n",
    "'2024-10-01 00:00:00',\n",
    "'2024-10-02 00:00:00',\n",
    "'2024-10-03 00:00:00',\n",
    "'2024-10-04 00:00:00',\n",
    "'2024-10-05 00:00:00',\n",
    "'2024-10-06 00:00:00',\n",
    "'2024-10-07 00:00:00',\n",
    "'2024-10-08 00:00:00',\n",
    "'2024-10-09 00:00:00',\n",
    "'2024-10-10 00:00:00',\n",
    "'2024-10-11 00:00:00',\n",
    "'2024-10-12 00:00:00',\n",
    "'2024-10-13 00:00:00',\n",
    "'2024-10-14 00:00:00',\n",
    "'2024-10-15 00:00:00',\n",
    "'2024-10-16 00:00:00',\n",
    "'2024-10-17 00:00:00',\n",
    "'2024-10-18 00:00:00',\n",
    "'2024-10-19 00:00:00',\n",
    "'2024-10-20 00:00:00',\n",
    "'2024-10-21 00:00:00',\n",
    "'2024-10-22 00:00:00',\n",
    "'2024-10-23 00:00:00',\n",
    "'2024-10-24 00:00:00',\n",
    "'2024-10-25 00:00:00',\n",
    "'2024-10-26 00:00:00',\n",
    "'2024-10-27 00:00:00',\n",
    "'2024-10-28 00:00:00',\n",
    "'2024-10-29 00:00:00',\n",
    "'2024-10-30 00:00:00',\n",
    "'2024-10-31 00:00:00',\n",
    "'Média'\n",
    "]"
   ]
  },
  {
   "cell_type": "code",
   "execution_count": 526,
   "id": "d6f20cc4-7d9d-4eb7-99bc-444c17187757",
   "metadata": {
    "colab": {
     "base_uri": "https://localhost:8080/"
    },
    "id": "d6f20cc4-7d9d-4eb7-99bc-444c17187757",
    "outputId": "9f48ae17-c1a2-4a98-e373-f9787cf0bc57"
   },
   "outputs": [
    {
     "data": {
      "text/plain": [
       "Index(['MODALIDADE', 'DIA DA SEMANA', 'HORÁRIO', '2024-10-01 00:00:00',\n",
       "       '2024-10-02 00:00:00', '2024-10-03 00:00:00', '2024-10-04 00:00:00',\n",
       "       '2024-10-05 00:00:00', '2024-10-06 00:00:00', '2024-10-07 00:00:00',\n",
       "       '2024-10-08 00:00:00', '2024-10-09 00:00:00', '2024-10-10 00:00:00',\n",
       "       '2024-10-11 00:00:00', '2024-10-12 00:00:00', '2024-10-13 00:00:00',\n",
       "       '2024-10-14 00:00:00', '2024-10-15 00:00:00', '2024-10-16 00:00:00',\n",
       "       '2024-10-17 00:00:00', '2024-10-18 00:00:00', '2024-10-19 00:00:00',\n",
       "       '2024-10-20 00:00:00', '2024-10-21 00:00:00', '2024-10-22 00:00:00',\n",
       "       '2024-10-23 00:00:00', '2024-10-24 00:00:00', '2024-10-25 00:00:00',\n",
       "       '2024-10-26 00:00:00', '2024-10-27 00:00:00', '2024-10-28 00:00:00',\n",
       "       '2024-10-29 00:00:00', '2024-10-30 00:00:00', '2024-10-31 00:00:00',\n",
       "       'Média'],\n",
       "      dtype='object')"
      ]
     },
     "execution_count": 526,
     "metadata": {},
     "output_type": "execute_result"
    }
   ],
   "source": [
    "dataBOOT.columns"
   ]
  },
  {
   "cell_type": "markdown",
   "id": "ed560528-62a3-4db6-84cd-c350a4332e6e",
   "metadata": {
    "id": "ed560528-62a3-4db6-84cd-c350a4332e6e"
   },
   "source": [
    "### PASSO 3: Escolhendo colunas com o nome de 'datas', para renomear pelo o tipo dia, mês e ano. e removendo os 00 de horas"
   ]
  },
  {
   "cell_type": "code",
   "execution_count": 527,
   "id": "af9fcd00-43c1-4e43-b365-9ce7d715d2e7",
   "metadata": {
    "id": "af9fcd00-43c1-4e43-b365-9ce7d715d2e7"
   },
   "outputs": [],
   "source": [
    "colunas = [\n",
    "'2024-10-01 00:00:00',\n",
    "'2024-10-02 00:00:00',\n",
    "'2024-10-03 00:00:00',\n",
    "'2024-10-04 00:00:00',\n",
    "'2024-10-05 00:00:00',\n",
    "'2024-10-06 00:00:00',\n",
    "'2024-10-07 00:00:00',\n",
    "'2024-10-08 00:00:00',\n",
    "'2024-10-09 00:00:00',\n",
    "'2024-10-10 00:00:00',\n",
    "'2024-10-11 00:00:00',\n",
    "'2024-10-12 00:00:00',\n",
    "'2024-10-13 00:00:00',\n",
    "'2024-10-14 00:00:00',\n",
    "'2024-10-15 00:00:00',\n",
    "'2024-10-16 00:00:00',\n",
    "'2024-10-17 00:00:00',\n",
    "'2024-10-18 00:00:00',\n",
    "'2024-10-19 00:00:00',\n",
    "'2024-10-20 00:00:00',\n",
    "'2024-10-21 00:00:00',\n",
    "'2024-10-22 00:00:00',\n",
    "'2024-10-23 00:00:00',\n",
    "'2024-10-24 00:00:00',\n",
    "'2024-10-25 00:00:00',\n",
    "'2024-10-26 00:00:00',\n",
    "'2024-10-27 00:00:00',\n",
    "'2024-10-28 00:00:00',\n",
    "'2024-10-29 00:00:00',\n",
    "'2024-10-30 00:00:00',\n",
    "'2024-10-31 00:00:00',\n",
    "]"
   ]
  },
  {
   "cell_type": "code",
   "execution_count": 528,
   "id": "5db1c6d8-e69d-4334-ab7b-750c00a6c21d",
   "metadata": {
    "id": "5db1c6d8-e69d-4334-ab7b-750c00a6c21d"
   },
   "outputs": [],
   "source": [
    "novas_colunas_BOOT = []"
   ]
  },
  {
   "cell_type": "code",
   "execution_count": 529,
   "id": "fbed4f27-151b-4977-bb9e-b36b5c03f23e",
   "metadata": {
    "id": "fbed4f27-151b-4977-bb9e-b36b5c03f23e"
   },
   "outputs": [],
   "source": [
    "for columns in colunas:\n",
    "    # Remove a parte da hora\n",
    "    data_sem_hora = columns.split(' ')[0]\n",
    "\n",
    "    # Formata para o formato DD-MM-YYYY\n",
    "    ano, mes, dia = data_sem_hora.split('-')\n",
    "    novo_nome = f'{dia}-{mes}-{ano}'\n",
    "    novas_colunas_BOOT.append(novo_nome)"
   ]
  },
  {
   "cell_type": "code",
   "execution_count": 530,
   "id": "b2768632-c1f9-46ba-a1a0-df437773d58e",
   "metadata": {
    "colab": {
     "base_uri": "https://localhost:8080/"
    },
    "id": "b2768632-c1f9-46ba-a1a0-df437773d58e",
    "outputId": "85df7f08-aed7-440c-ad53-68f6b603186c"
   },
   "outputs": [
    {
     "data": {
      "text/plain": [
       "['01-10-2024',\n",
       " '02-10-2024',\n",
       " '03-10-2024',\n",
       " '04-10-2024',\n",
       " '05-10-2024',\n",
       " '06-10-2024',\n",
       " '07-10-2024',\n",
       " '08-10-2024',\n",
       " '09-10-2024',\n",
       " '10-10-2024',\n",
       " '11-10-2024',\n",
       " '12-10-2024',\n",
       " '13-10-2024',\n",
       " '14-10-2024',\n",
       " '15-10-2024',\n",
       " '16-10-2024',\n",
       " '17-10-2024',\n",
       " '18-10-2024',\n",
       " '19-10-2024',\n",
       " '20-10-2024',\n",
       " '21-10-2024',\n",
       " '22-10-2024',\n",
       " '23-10-2024',\n",
       " '24-10-2024',\n",
       " '25-10-2024',\n",
       " '26-10-2024',\n",
       " '27-10-2024',\n",
       " '28-10-2024',\n",
       " '29-10-2024',\n",
       " '30-10-2024',\n",
       " '31-10-2024']"
      ]
     },
     "execution_count": 530,
     "metadata": {},
     "output_type": "execute_result"
    }
   ],
   "source": [
    "novas_colunas_BOOT"
   ]
  },
  {
   "cell_type": "markdown",
   "id": "e665811f-d401-4e8d-b89b-7e3cd95a8872",
   "metadata": {
    "id": "e665811f-d401-4e8d-b89b-7e3cd95a8872"
   },
   "source": [
    "### PASSO 4 renomeando colunas e acrescentando o novo formato"
   ]
  },
  {
   "cell_type": "markdown",
   "id": "760c6290-cf06-4af9-b5a2-740257dc9301",
   "metadata": {
    "id": "760c6290-cf06-4af9-b5a2-740257dc9301"
   },
   "source": [
    "copie as colunas que escolheu para renomear, e cole o formato novo no lugar das velhas"
   ]
  },
  {
   "cell_type": "code",
   "execution_count": 531,
   "id": "0a2210ed-3e58-4063-91c4-d9f01f7c1007",
   "metadata": {
    "colab": {
     "base_uri": "https://localhost:8080/"
    },
    "id": "0a2210ed-3e58-4063-91c4-d9f01f7c1007",
    "outputId": "5385a97b-aabe-4d7d-eb14-fb7dc6880155"
   },
   "outputs": [
    {
     "name": "stdout",
     "output_type": "stream",
     "text": [
      "MODALIDADE\n",
      "DIA DA SEMANA\n",
      "HORÁRIO\n",
      "2024-10-01 00:00:00\n",
      "2024-10-02 00:00:00\n",
      "2024-10-03 00:00:00\n",
      "2024-10-04 00:00:00\n",
      "2024-10-05 00:00:00\n",
      "2024-10-06 00:00:00\n",
      "2024-10-07 00:00:00\n",
      "2024-10-08 00:00:00\n",
      "2024-10-09 00:00:00\n",
      "2024-10-10 00:00:00\n",
      "2024-10-11 00:00:00\n",
      "2024-10-12 00:00:00\n",
      "2024-10-13 00:00:00\n",
      "2024-10-14 00:00:00\n",
      "2024-10-15 00:00:00\n",
      "2024-10-16 00:00:00\n",
      "2024-10-17 00:00:00\n",
      "2024-10-18 00:00:00\n",
      "2024-10-19 00:00:00\n",
      "2024-10-20 00:00:00\n",
      "2024-10-21 00:00:00\n",
      "2024-10-22 00:00:00\n",
      "2024-10-23 00:00:00\n",
      "2024-10-24 00:00:00\n",
      "2024-10-25 00:00:00\n",
      "2024-10-26 00:00:00\n",
      "2024-10-27 00:00:00\n",
      "2024-10-28 00:00:00\n",
      "2024-10-29 00:00:00\n",
      "2024-10-30 00:00:00\n",
      "2024-10-31 00:00:00\n",
      "Média\n"
     ]
    }
   ],
   "source": [
    "for columns in dataBOOT.columns:\n",
    "    print (columns)"
   ]
  },
  {
   "cell_type": "code",
   "execution_count": 532,
   "id": "be1ebadc-0f8a-41ad-9e90-e7a0b896bede",
   "metadata": {
    "id": "be1ebadc-0f8a-41ad-9e90-e7a0b896bede"
   },
   "outputs": [],
   "source": [
    "# Adicionando as datas formatadas as colunas, copiando e colando"
   ]
  },
  {
   "cell_type": "code",
   "execution_count": 533,
   "id": "ef3a67fe-82d7-4ce5-8c19-8e5e41f5b491",
   "metadata": {
    "id": "ef3a67fe-82d7-4ce5-8c19-8e5e41f5b491"
   },
   "outputs": [],
   "source": [
    "dataBOOT.columns = [\n",
    "'MODALIDADE',\n",
    "'DIA DA SEMANA',\n",
    "'HORÁRIO',\n",
    "'01-10-2024',\n",
    "'02-10-2024',\n",
    "'03-10-2024',\n",
    "'04-10-2024',\n",
    "'05-10-2024',\n",
    "'06-10-2024',\n",
    "'07-10-2024',\n",
    "'08-10-2024',\n",
    "'09-10-2024',\n",
    "'10-10-2024',\n",
    "'11-10-2024',\n",
    "'12-10-2024',\n",
    "'13-10-2024',\n",
    "'14-10-2024',\n",
    "'15-10-2024',\n",
    "'16-10-2024',\n",
    "'17-10-2024',\n",
    "'18-10-2024',\n",
    "'19-10-2024',\n",
    "'20-10-2024',\n",
    "'21-10-2024',\n",
    "'22-10-2024',\n",
    "'23-10-2024',\n",
    "'24-10-2024',\n",
    "'25-10-2024',\n",
    "'26-10-2024',\n",
    "'27-10-2024',\n",
    "'28-10-2024',\n",
    "'29-10-2024',\n",
    "'30-10-2024',\n",
    "'31-10-2024',\n",
    "'Média'\n",
    "]"
   ]
  },
  {
   "cell_type": "markdown",
   "id": "b5a66cdd-e093-4b07-9775-a5e4f78fd519",
   "metadata": {
    "id": "b5a66cdd-e093-4b07-9775-a5e4f78fd519"
   },
   "source": [
    "### 5 PASSO: Usar o Loop for para substitituir os valores das frequencia de 'x' e 'X' por zero, com o método do pd.to_numeric)"
   ]
  },
  {
   "cell_type": "markdown",
   "id": "1304da5b-8409-4334-b0c3-180fcc913863",
   "metadata": {
    "id": "1304da5b-8409-4334-b0c3-180fcc913863"
   },
   "source": [
    "Escolhendo apenas as colunas de datas"
   ]
  },
  {
   "cell_type": "code",
   "execution_count": 534,
   "id": "83ba2480-97af-4fda-b20f-2aeb48dc5629",
   "metadata": {
    "id": "83ba2480-97af-4fda-b20f-2aeb48dc5629"
   },
   "outputs": [],
   "source": [
    "colunas = [\n",
    "'01-10-2024',\n",
    "'02-10-2024',\n",
    "'03-10-2024',\n",
    "'04-10-2024',\n",
    "'05-10-2024',\n",
    "'06-10-2024',\n",
    "'07-10-2024',\n",
    "'08-10-2024',\n",
    "'09-10-2024',\n",
    "'10-10-2024',\n",
    "'11-10-2024',\n",
    "'12-10-2024',\n",
    "'13-10-2024',\n",
    "'14-10-2024',\n",
    "'15-10-2024',\n",
    "'16-10-2024',\n",
    "'17-10-2024',\n",
    "'18-10-2024',\n",
    "'19-10-2024',\n",
    "'20-10-2024',\n",
    "'21-10-2024',\n",
    "'22-10-2024',\n",
    "'23-10-2024',\n",
    "'24-10-2024',\n",
    "'25-10-2024',\n",
    "'26-10-2024',\n",
    "'27-10-2024',\n",
    "'28-10-2024',\n",
    "'29-10-2024',\n",
    "'30-10-2024',\n",
    "'31-10-2024',\n",
    "]"
   ]
  },
  {
   "cell_type": "markdown",
   "id": "34938ccc-210e-4b91-ac9d-02e14317ff90",
   "metadata": {
    "id": "34938ccc-210e-4b91-ac9d-02e14317ff90"
   },
   "source": [
    "Fazendo a limpeza profunda, formatando valores para numeros, preenchendo com zeros os nulos e transformando em inteiros"
   ]
  },
  {
   "cell_type": "code",
   "execution_count": 535,
   "id": "f10e274e-d16c-42aa-bf29-2638b5991a08",
   "metadata": {
    "id": "f10e274e-d16c-42aa-bf29-2638b5991a08"
   },
   "outputs": [],
   "source": [
    "for columns in colunas:\n",
    "    # dataMES[columns] = pd.to_numeric(dataMES[columns], errors='coerce')\n",
    "    dataBOOT[columns] = pd.to_numeric(dataBOOT[columns], errors='coerce').fillna(0).astype(int)"
   ]
  },
  {
   "cell_type": "markdown",
   "id": "1df55daf-ebe5-4e53-9806-fd745cd49b05",
   "metadata": {
    "id": "1df55daf-ebe5-4e53-9806-fd745cd49b05"
   },
   "source": [
    "### PASSO 6: MELT derretendo as colunas em formato de datas"
   ]
  },
  {
   "cell_type": "markdown",
   "id": "16db611e-21a4-4707-b0a9-72041d1da079",
   "metadata": {
    "id": "16db611e-21a4-4707-b0a9-72041d1da079"
   },
   "source": [
    "o MELT ele pega as colunas que estão na horizontal e cria uma coluna de categorias, e depois ele cria outra coluna com os valores dessas colunas que foram transformadas em dados categóricos"
   ]
  },
  {
   "cell_type": "code",
   "execution_count": 536,
   "id": "5a21b2fe-4170-4697-9abd-71463e51e838",
   "metadata": {
    "id": "5a21b2fe-4170-4697-9abd-71463e51e838"
   },
   "outputs": [],
   "source": [
    "colunas_para_melt = [\n",
    "'01-10-2024',\n",
    "'02-10-2024',\n",
    "'03-10-2024',\n",
    "'04-10-2024',\n",
    "'05-10-2024',\n",
    "'06-10-2024',\n",
    "'07-10-2024',\n",
    "'08-10-2024',\n",
    "'09-10-2024',\n",
    "'10-10-2024',\n",
    "'11-10-2024',\n",
    "'12-10-2024',\n",
    "'13-10-2024',\n",
    "'14-10-2024',\n",
    "'15-10-2024',\n",
    "'16-10-2024',\n",
    "'17-10-2024',\n",
    "'18-10-2024',\n",
    "'19-10-2024',\n",
    "'20-10-2024',\n",
    "'21-10-2024',\n",
    "'22-10-2024',\n",
    "'23-10-2024',\n",
    "'24-10-2024',\n",
    "'25-10-2024',\n",
    "'26-10-2024',\n",
    "'27-10-2024',\n",
    "'28-10-2024',\n",
    "'29-10-2024',\n",
    "'30-10-2024',\n",
    "'31-10-2024',\n",
    "]"
   ]
  },
  {
   "cell_type": "markdown",
   "id": "d8a0bd47-ae08-42ea-b16c-87aa92b6479a",
   "metadata": {
    "id": "d8a0bd47-ae08-42ea-b16c-87aa92b6479a"
   },
   "source": [
    "#### Indentificando as colunas que Eu quero manter em meu dataframe"
   ]
  },
  {
   "cell_type": "code",
   "execution_count": 537,
   "id": "8d2fa714-665d-4285-88ae-85c55c1ca630",
   "metadata": {
    "id": "8d2fa714-665d-4285-88ae-85c55c1ca630"
   },
   "outputs": [],
   "source": [
    "# Identifica as colunas que você quer manter como identificadoras (id_vars)\n",
    "# São as colunas que não serão \"unpivoted\"\n",
    "id_vars_cols = [columns for columns in dataBOOT.columns if columns not in colunas_para_melt]"
   ]
  },
  {
   "cell_type": "markdown",
   "id": "6c2f7046-76dc-4ea0-a497-363d24d35c82",
   "metadata": {
    "id": "6c2f7046-76dc-4ea0-a497-363d24d35c82"
   },
   "source": [
    "#### Realiza o melt apenas nas colunas de datas"
   ]
  },
  {
   "cell_type": "code",
   "execution_count": 538,
   "id": "37461d57-a8ac-4e50-b265-91d355a39e91",
   "metadata": {
    "id": "37461d57-a8ac-4e50-b265-91d355a39e91"
   },
   "outputs": [],
   "source": [
    "dataBOOT_melted = pd.melt(dataBOOT,\n",
    "                      id_vars=id_vars_cols, #colunas que Eu deixei, que ficaram.\n",
    "                      value_vars=colunas_para_melt, #colunas que vão se transformar.\n",
    "                      var_name='Dias de Aulas', # nome da coluna categorica\n",
    "                      value_name='Frequencia de Alunos') # nome da coluna de valores"
   ]
  },
  {
   "cell_type": "code",
   "execution_count": 539,
   "id": "969c3727-b466-420f-92b0-c0db73b5b8ef",
   "metadata": {
    "colab": {
     "base_uri": "https://localhost:8080/",
     "height": 143
    },
    "id": "969c3727-b466-420f-92b0-c0db73b5b8ef",
    "outputId": "8b235ed4-8958-428e-90cd-9830cc4a28ba"
   },
   "outputs": [
    {
     "data": {
      "text/html": [
       "<div>\n",
       "<style scoped>\n",
       "    .dataframe tbody tr th:only-of-type {\n",
       "        vertical-align: middle;\n",
       "    }\n",
       "\n",
       "    .dataframe tbody tr th {\n",
       "        vertical-align: top;\n",
       "    }\n",
       "\n",
       "    .dataframe thead th {\n",
       "        text-align: right;\n",
       "    }\n",
       "</style>\n",
       "<table border=\"1\" class=\"dataframe\">\n",
       "  <thead>\n",
       "    <tr style=\"text-align: right;\">\n",
       "      <th></th>\n",
       "      <th>MODALIDADE</th>\n",
       "      <th>DIA DA SEMANA</th>\n",
       "      <th>HORÁRIO</th>\n",
       "      <th>Média</th>\n",
       "      <th>Dias de Aulas</th>\n",
       "      <th>Frequencia de Alunos</th>\n",
       "    </tr>\n",
       "  </thead>\n",
       "  <tbody>\n",
       "    <tr>\n",
       "      <th>0</th>\n",
       "      <td>A - MUSCULAÇÃO</td>\n",
       "      <td>seg, ter, qua, qui, sex</td>\n",
       "      <td>05:30</td>\n",
       "      <td>2.333333</td>\n",
       "      <td>01-10-2024</td>\n",
       "      <td>4</td>\n",
       "    </tr>\n",
       "    <tr>\n",
       "      <th>1</th>\n",
       "      <td>BOOTCAMP</td>\n",
       "      <td>seg, ter, qua, sex</td>\n",
       "      <td>05:30</td>\n",
       "      <td>2.666667</td>\n",
       "      <td>01-10-2024</td>\n",
       "      <td>2</td>\n",
       "    </tr>\n",
       "    <tr>\n",
       "      <th>2</th>\n",
       "      <td>HIGH FORCE</td>\n",
       "      <td>qui</td>\n",
       "      <td>05:30</td>\n",
       "      <td>0.000000</td>\n",
       "      <td>01-10-2024</td>\n",
       "      <td>0</td>\n",
       "    </tr>\n",
       "  </tbody>\n",
       "</table>\n",
       "</div>"
      ],
      "text/plain": [
       "       MODALIDADE            DIA DA SEMANA HORÁRIO     Média Dias de Aulas  \\\n",
       "0  A - MUSCULAÇÃO  seg, ter, qua, qui, sex   05:30  2.333333    01-10-2024   \n",
       "1        BOOTCAMP       seg, ter, qua, sex   05:30  2.666667    01-10-2024   \n",
       "2      HIGH FORCE                      qui   05:30  0.000000    01-10-2024   \n",
       "\n",
       "   Frequencia de Alunos  \n",
       "0                     4  \n",
       "1                     2  \n",
       "2                     0  "
      ]
     },
     "execution_count": 539,
     "metadata": {},
     "output_type": "execute_result"
    }
   ],
   "source": [
    "dataBOOT_melted.head(3)"
   ]
  },
  {
   "cell_type": "code",
   "execution_count": 540,
   "id": "e6e40198-bc1c-43e0-8f16-bc514f65797f",
   "metadata": {
    "colab": {
     "base_uri": "https://localhost:8080/"
    },
    "id": "e6e40198-bc1c-43e0-8f16-bc514f65797f",
    "outputId": "50780e01-5a5e-464b-dfb2-663e48bae799"
   },
   "outputs": [
    {
     "data": {
      "text/plain": [
       "np.int64(1310)"
      ]
     },
     "execution_count": 540,
     "metadata": {},
     "output_type": "execute_result"
    }
   ],
   "source": [
    "dataBOOT_melted['Frequencia de Alunos'].sum()"
   ]
  },
  {
   "cell_type": "markdown",
   "id": "f29a8d4b-9302-4e2b-9505-4bc75a33f773",
   "metadata": {
    "id": "f29a8d4b-9302-4e2b-9505-4bc75a33f773"
   },
   "source": [
    "### Adicionando colunas Faltantes"
   ]
  },
  {
   "cell_type": "markdown",
   "id": "8f4e4e38-02fe-45ae-b5b8-ca3e8c433538",
   "metadata": {
    "id": "8f4e4e38-02fe-45ae-b5b8-ca3e8c433538"
   },
   "source": [
    "Adicionando uma colunas condicional para o TURNO no BOOTCAMPE"
   ]
  },
  {
   "cell_type": "code",
   "execution_count": 541,
   "id": "dfb861f1-13fc-49af-b205-4d48944bcb81",
   "metadata": {
    "id": "dfb861f1-13fc-49af-b205-4d48944bcb81"
   },
   "outputs": [],
   "source": [
    "# Aplica a lógica condicional para criar a coluna 'TURNO' usando .loc e comparação de strings\n",
    "dataBOOT_melted.loc[dataBOOT_melted['HORÁRIO'] <= '12:30', 'TURNO'] = 'MANHÃ'\n",
    "dataBOOT_melted.loc[dataBOOT_melted['HORÁRIO'] > '12:30', 'TURNO'] = 'NOITE'"
   ]
  },
  {
   "cell_type": "code",
   "execution_count": 542,
   "id": "20d9973a-37bd-494c-b724-f99cdf695b37",
   "metadata": {
    "id": "20d9973a-37bd-494c-b724-f99cdf695b37"
   },
   "outputs": [],
   "source": [
    "# Adicionando a coluna de PROFESSOR\n",
    "dataBOOT_melted['PROFESSOR'] = 'SEM NOME'"
   ]
  },
  {
   "cell_type": "code",
   "execution_count": 543,
   "id": "204a3059-0663-4a0a-8f24-32a75170f41e",
   "metadata": {
    "colab": {
     "base_uri": "https://localhost:8080/",
     "height": 112
    },
    "id": "204a3059-0663-4a0a-8f24-32a75170f41e",
    "outputId": "f3660f07-8c5e-4e16-b520-c01e7a8c5885"
   },
   "outputs": [
    {
     "data": {
      "text/html": [
       "<div>\n",
       "<style scoped>\n",
       "    .dataframe tbody tr th:only-of-type {\n",
       "        vertical-align: middle;\n",
       "    }\n",
       "\n",
       "    .dataframe tbody tr th {\n",
       "        vertical-align: top;\n",
       "    }\n",
       "\n",
       "    .dataframe thead th {\n",
       "        text-align: right;\n",
       "    }\n",
       "</style>\n",
       "<table border=\"1\" class=\"dataframe\">\n",
       "  <thead>\n",
       "    <tr style=\"text-align: right;\">\n",
       "      <th></th>\n",
       "      <th>MODALIDADE</th>\n",
       "      <th>DIA DA SEMANA</th>\n",
       "      <th>HORÁRIO</th>\n",
       "      <th>Média</th>\n",
       "      <th>Dias de Aulas</th>\n",
       "      <th>Frequencia de Alunos</th>\n",
       "      <th>TURNO</th>\n",
       "      <th>PROFESSOR</th>\n",
       "    </tr>\n",
       "  </thead>\n",
       "  <tbody>\n",
       "    <tr>\n",
       "      <th>0</th>\n",
       "      <td>A - MUSCULAÇÃO</td>\n",
       "      <td>seg, ter, qua, qui, sex</td>\n",
       "      <td>05:30</td>\n",
       "      <td>2.333333</td>\n",
       "      <td>01-10-2024</td>\n",
       "      <td>4</td>\n",
       "      <td>MANHÃ</td>\n",
       "      <td>SEM NOME</td>\n",
       "    </tr>\n",
       "    <tr>\n",
       "      <th>1</th>\n",
       "      <td>BOOTCAMP</td>\n",
       "      <td>seg, ter, qua, sex</td>\n",
       "      <td>05:30</td>\n",
       "      <td>2.666667</td>\n",
       "      <td>01-10-2024</td>\n",
       "      <td>2</td>\n",
       "      <td>MANHÃ</td>\n",
       "      <td>SEM NOME</td>\n",
       "    </tr>\n",
       "  </tbody>\n",
       "</table>\n",
       "</div>"
      ],
      "text/plain": [
       "       MODALIDADE            DIA DA SEMANA HORÁRIO     Média Dias de Aulas  \\\n",
       "0  A - MUSCULAÇÃO  seg, ter, qua, qui, sex   05:30  2.333333    01-10-2024   \n",
       "1        BOOTCAMP       seg, ter, qua, sex   05:30  2.666667    01-10-2024   \n",
       "\n",
       "   Frequencia de Alunos  TURNO PROFESSOR  \n",
       "0                     4  MANHÃ  SEM NOME  \n",
       "1                     2  MANHÃ  SEM NOME  "
      ]
     },
     "execution_count": 543,
     "metadata": {},
     "output_type": "execute_result"
    }
   ],
   "source": [
    "dataBOOT_melted.head(2)"
   ]
  },
  {
   "cell_type": "markdown",
   "id": "df45b2f8-49e7-475b-a4cd-a5853fd14525",
   "metadata": {
    "id": "df45b2f8-49e7-475b-a4cd-a5853fd14525"
   },
   "source": [
    "# CAMBEBA [CAMB] - PREPROCESSING 5"
   ]
  },
  {
   "cell_type": "code",
   "execution_count": 544,
   "id": "25c130d7-a0f1-4e1e-a56d-16e61d127512",
   "metadata": {
    "id": "25c130d7-a0f1-4e1e-a56d-16e61d127512"
   },
   "outputs": [],
   "source": [
    "data5 = pd.read_excel('base_de_frequencias_green_life_academias_dados_brutos.xlsx', sheet_name='CAMB', skiprows=1, nrows=88)"
   ]
  },
  {
   "cell_type": "code",
   "execution_count": 545,
   "id": "ea6d66a4-f9d4-40c4-9273-e1d7c353e1db",
   "metadata": {
    "id": "ea6d66a4-f9d4-40c4-9273-e1d7c353e1db"
   },
   "outputs": [],
   "source": [
    "dataCAMB = data5.copy()"
   ]
  },
  {
   "cell_type": "markdown",
   "id": "53fab99f-9b9c-45aa-993b-f628959d0a60",
   "metadata": {
    "id": "53fab99f-9b9c-45aa-993b-f628959d0a60"
   },
   "source": [
    "### 1 PASSO: Removendo colunas desnecessárias"
   ]
  },
  {
   "cell_type": "code",
   "execution_count": 546,
   "id": "58fdb748-2f18-4d23-aa12-0628becc8332",
   "metadata": {
    "colab": {
     "base_uri": "https://localhost:8080/",
     "height": 620
    },
    "id": "58fdb748-2f18-4d23-aa12-0628becc8332",
    "outputId": "0f18655f-051e-49e3-85c1-fc73e953de13"
   },
   "outputs": [
    {
     "data": {
      "text/html": [
       "<div>\n",
       "<style scoped>\n",
       "    .dataframe tbody tr th:only-of-type {\n",
       "        vertical-align: middle;\n",
       "    }\n",
       "\n",
       "    .dataframe tbody tr th {\n",
       "        vertical-align: top;\n",
       "    }\n",
       "\n",
       "    .dataframe thead th {\n",
       "        text-align: right;\n",
       "    }\n",
       "</style>\n",
       "<table border=\"1\" class=\"dataframe\">\n",
       "  <thead>\n",
       "    <tr style=\"text-align: right;\">\n",
       "      <th></th>\n",
       "      <th>Unnamed: 0</th>\n",
       "      <th>Unnamed: 1</th>\n",
       "      <th>Unnamed: 2</th>\n",
       "      <th>CATEGORIA</th>\n",
       "      <th>MODALIDADE</th>\n",
       "      <th>DIA DA SEMANA</th>\n",
       "      <th>HORÁRIO</th>\n",
       "      <th>AUX.1</th>\n",
       "      <th>TURNO</th>\n",
       "      <th>AUX 2</th>\n",
       "      <th>...</th>\n",
       "      <th>Ocupação Máxima</th>\n",
       "      <th>Professor</th>\n",
       "      <th>Unnamed: 40</th>\n",
       "      <th>Unnamed: 41</th>\n",
       "      <th>Unnamed: 42</th>\n",
       "      <th>Unnamed: 43</th>\n",
       "      <th>Unnamed: 44</th>\n",
       "      <th>Unnamed: 45</th>\n",
       "      <th>Unnamed: 46</th>\n",
       "      <th>Unnamed: 47</th>\n",
       "    </tr>\n",
       "  </thead>\n",
       "  <tbody>\n",
       "    <tr>\n",
       "      <th>82</th>\n",
       "      <td>NaN</td>\n",
       "      <td>NaN</td>\n",
       "      <td>NaN</td>\n",
       "      <td>MUSC - C/P</td>\n",
       "      <td>A - MUSCULAÇÃO COM PERSONAL</td>\n",
       "      <td>seg, ter, qua, qui, sex</td>\n",
       "      <td>21:00:00</td>\n",
       "      <td>21:00</td>\n",
       "      <td>NOITE</td>\n",
       "      <td>A - MUSCULAÇÃO COM PERSONAL - 21:00</td>\n",
       "      <td>...</td>\n",
       "      <td>NaN</td>\n",
       "      <td>NaN</td>\n",
       "      <td>NaN</td>\n",
       "      <td>NaN</td>\n",
       "      <td>NaN</td>\n",
       "      <td>NaN</td>\n",
       "      <td>NaN</td>\n",
       "      <td>NaN</td>\n",
       "      <td>NaN</td>\n",
       "      <td>NaN</td>\n",
       "    </tr>\n",
       "    <tr>\n",
       "      <th>83</th>\n",
       "      <td>NaN</td>\n",
       "      <td>NaN</td>\n",
       "      <td>NaN</td>\n",
       "      <td>MUSC - S/P</td>\n",
       "      <td>A - MUSCULAÇÃO SEM PERSONAL</td>\n",
       "      <td>seg, ter, qua, qui, sex</td>\n",
       "      <td>21:00:00</td>\n",
       "      <td>21:00</td>\n",
       "      <td>NOITE</td>\n",
       "      <td>A - MUSCULAÇÃO SEM PERSONAL - 21:00</td>\n",
       "      <td>...</td>\n",
       "      <td>NaN</td>\n",
       "      <td>NaN</td>\n",
       "      <td>NaN</td>\n",
       "      <td>NaN</td>\n",
       "      <td>NaN</td>\n",
       "      <td>NaN</td>\n",
       "      <td>NaN</td>\n",
       "      <td>NaN</td>\n",
       "      <td>NaN</td>\n",
       "      <td>NaN</td>\n",
       "    </tr>\n",
       "    <tr>\n",
       "      <th>84</th>\n",
       "      <td>NaN</td>\n",
       "      <td>NaN</td>\n",
       "      <td>NaN</td>\n",
       "      <td>MUSC - S/P</td>\n",
       "      <td>A - MUSCULAÇÃO SEM PERSONAL</td>\n",
       "      <td>seg, ter, qua, qui, sex</td>\n",
       "      <td>22:00:00</td>\n",
       "      <td>22:00</td>\n",
       "      <td>NOITE</td>\n",
       "      <td>A - MUSCULAÇÃO SEM PERSONAL - 22:00</td>\n",
       "      <td>...</td>\n",
       "      <td>NaN</td>\n",
       "      <td>NaN</td>\n",
       "      <td>NaN</td>\n",
       "      <td>NaN</td>\n",
       "      <td>NaN</td>\n",
       "      <td>NaN</td>\n",
       "      <td>NaN</td>\n",
       "      <td>NaN</td>\n",
       "      <td>NaN</td>\n",
       "      <td>NaN</td>\n",
       "    </tr>\n",
       "    <tr>\n",
       "      <th>85</th>\n",
       "      <td>NaN</td>\n",
       "      <td>NaN</td>\n",
       "      <td>NaN</td>\n",
       "      <td>MUSC - C/P</td>\n",
       "      <td>A - MUSCULAÇÃO COM PERSONAL</td>\n",
       "      <td>seg, ter, qua, qui, sex</td>\n",
       "      <td>22:00:00</td>\n",
       "      <td>22:00</td>\n",
       "      <td>NOITE</td>\n",
       "      <td>A - MUSCULAÇÃO COM PERSONAL - 22:00</td>\n",
       "      <td>...</td>\n",
       "      <td>NaN</td>\n",
       "      <td>NaN</td>\n",
       "      <td>NaN</td>\n",
       "      <td>NaN</td>\n",
       "      <td>NaN</td>\n",
       "      <td>NaN</td>\n",
       "      <td>NaN</td>\n",
       "      <td>NaN</td>\n",
       "      <td>NaN</td>\n",
       "      <td>NaN</td>\n",
       "    </tr>\n",
       "    <tr>\n",
       "      <th>86</th>\n",
       "      <td>NaN</td>\n",
       "      <td>NaN</td>\n",
       "      <td>NaN</td>\n",
       "      <td>MUSC - C/P</td>\n",
       "      <td>A - MUSCULAÇÃO COM PERSONAL</td>\n",
       "      <td>seg, ter, qua, qui, sex</td>\n",
       "      <td>22:30:00</td>\n",
       "      <td>22:30</td>\n",
       "      <td>NOITE</td>\n",
       "      <td>A - MUSCULAÇÃO COM PERSONAL - 22:30</td>\n",
       "      <td>...</td>\n",
       "      <td>NaN</td>\n",
       "      <td>NaN</td>\n",
       "      <td>NaN</td>\n",
       "      <td>NaN</td>\n",
       "      <td>NaN</td>\n",
       "      <td>NaN</td>\n",
       "      <td>NaN</td>\n",
       "      <td>NaN</td>\n",
       "      <td>NaN</td>\n",
       "      <td>NaN</td>\n",
       "    </tr>\n",
       "  </tbody>\n",
       "</table>\n",
       "<p>5 rows × 48 columns</p>\n",
       "</div>"
      ],
      "text/plain": [
       "    Unnamed: 0  Unnamed: 1  Unnamed: 2   CATEGORIA  \\\n",
       "82         NaN         NaN         NaN  MUSC - C/P   \n",
       "83         NaN         NaN         NaN  MUSC - S/P   \n",
       "84         NaN         NaN         NaN  MUSC - S/P   \n",
       "85         NaN         NaN         NaN  MUSC - C/P   \n",
       "86         NaN         NaN         NaN  MUSC - C/P   \n",
       "\n",
       "                     MODALIDADE            DIA DA SEMANA   HORÁRIO  AUX.1  \\\n",
       "82  A - MUSCULAÇÃO COM PERSONAL  seg, ter, qua, qui, sex  21:00:00  21:00   \n",
       "83  A - MUSCULAÇÃO SEM PERSONAL  seg, ter, qua, qui, sex  21:00:00  21:00   \n",
       "84  A - MUSCULAÇÃO SEM PERSONAL  seg, ter, qua, qui, sex  22:00:00  22:00   \n",
       "85  A - MUSCULAÇÃO COM PERSONAL  seg, ter, qua, qui, sex  22:00:00  22:00   \n",
       "86  A - MUSCULAÇÃO COM PERSONAL  seg, ter, qua, qui, sex  22:30:00  22:30   \n",
       "\n",
       "    TURNO                                AUX 2  ... Ocupação Máxima Professor  \\\n",
       "82  NOITE  A - MUSCULAÇÃO COM PERSONAL - 21:00  ...             NaN       NaN   \n",
       "83  NOITE  A - MUSCULAÇÃO SEM PERSONAL - 21:00  ...             NaN       NaN   \n",
       "84  NOITE  A - MUSCULAÇÃO SEM PERSONAL - 22:00  ...             NaN       NaN   \n",
       "85  NOITE  A - MUSCULAÇÃO COM PERSONAL - 22:00  ...             NaN       NaN   \n",
       "86  NOITE  A - MUSCULAÇÃO COM PERSONAL - 22:30  ...             NaN       NaN   \n",
       "\n",
       "   Unnamed: 40 Unnamed: 41 Unnamed: 42 Unnamed: 43 Unnamed: 44 Unnamed: 45  \\\n",
       "82         NaN         NaN         NaN         NaN         NaN         NaN   \n",
       "83         NaN         NaN         NaN         NaN         NaN         NaN   \n",
       "84         NaN         NaN         NaN         NaN         NaN         NaN   \n",
       "85         NaN         NaN         NaN         NaN         NaN         NaN   \n",
       "86         NaN         NaN         NaN         NaN         NaN         NaN   \n",
       "\n",
       "   Unnamed: 46 Unnamed: 47  \n",
       "82         NaN         NaN  \n",
       "83         NaN         NaN  \n",
       "84         NaN         NaN  \n",
       "85         NaN         NaN  \n",
       "86         NaN         NaN  \n",
       "\n",
       "[5 rows x 48 columns]"
      ]
     },
     "execution_count": 546,
     "metadata": {},
     "output_type": "execute_result"
    }
   ],
   "source": [
    "dataCAMB.tail()"
   ]
  },
  {
   "cell_type": "code",
   "execution_count": 547,
   "id": "703b5c45-2997-436a-a410-262341f45f6f",
   "metadata": {
    "colab": {
     "base_uri": "https://localhost:8080/",
     "height": 1000
    },
    "id": "703b5c45-2997-436a-a410-262341f45f6f",
    "outputId": "f1744d44-8129-4372-fd79-4ab25c3ffd7e"
   },
   "outputs": [
    {
     "data": {
      "text/plain": [
       "Unnamed: 0                                                   NaN\n",
       "Unnamed: 1                                                   NaN\n",
       "Unnamed: 2                                                   NaN\n",
       "CATEGORIA                                             MUSC - C/P\n",
       "MODALIDADE                           A - MUSCULAÇÃO COM PERSONAL\n",
       "DIA DA SEMANA                            seg, ter, qua, qui, sex\n",
       "HORÁRIO                                                 22:00:00\n",
       "AUX.1                                                      22:00\n",
       "TURNO                                                      NOITE\n",
       "AUX 2                        A - MUSCULAÇÃO COM PERSONAL - 22:00\n",
       "PROFESSOR                                                  ADLEY\n",
       "AUX 3                        A - MUSCULAÇÃO COM PERSONAL - ADLEY\n",
       "2024-10-01 00:00:00                                            2\n",
       "2024-10-02 00:00:00                                            0\n",
       "2024-10-03 00:00:00                                            0\n",
       "2024-10-04 00:00:00                                            0\n",
       "2024-10-07 00:00:00                                            0\n",
       "2024-10-08 00:00:00                                            2\n",
       "2024-10-09 00:00:00                                            0\n",
       "2024-10-10 00:00:00                                            0\n",
       "2024-10-11 00:00:00                                            0\n",
       "2024-10-14 00:00:00                                            0\n",
       "2024-10-15 00:00:00                                            0\n",
       "2024-10-16 00:00:00                                            2\n",
       "2024-10-17 00:00:00                                            0\n",
       "2024-10-18 00:00:00                                            0\n",
       "2024-10-21 00:00:00                                            0\n",
       "2024-10-22 00:00:00                                            2\n",
       "2024-10-23 00:00:00                                            2\n",
       "2024-10-24 00:00:00                                            0\n",
       "2024-10-25 00:00:00                                            3\n",
       "2024-10-28 00:00:00                                            3\n",
       "2024-10-29 00:00:00                                            0\n",
       "2024-10-30 00:00:00                                            3\n",
       "2024-10-31 00:00:00                                          NaN\n",
       "Média alunos p/ professor                                     22\n",
       "Média                                                   0.863636\n",
       "Alunos/professor                                             NaN\n",
       "Ocupação Máxima                                              NaN\n",
       "Professor                                                    NaN\n",
       "Unnamed: 40                                                  NaN\n",
       "Unnamed: 41                                                  NaN\n",
       "Unnamed: 42                                                  NaN\n",
       "Unnamed: 43                                                  NaN\n",
       "Unnamed: 44                                                  NaN\n",
       "Unnamed: 45                                                  NaN\n",
       "Unnamed: 46                                                  NaN\n",
       "Unnamed: 47                                                  NaN\n",
       "Name: 85, dtype: object"
      ]
     },
     "execution_count": 547,
     "metadata": {},
     "output_type": "execute_result"
    }
   ],
   "source": [
    "# verificando a series de index pra saber a ultima linha\n",
    "dataCAMB.iloc[-2]"
   ]
  },
  {
   "cell_type": "code",
   "execution_count": 548,
   "id": "16ac072a-5c2c-4484-b644-f95929345975",
   "metadata": {
    "id": "16ac072a-5c2c-4484-b644-f95929345975"
   },
   "outputs": [],
   "source": [
    "# selecionando colunas para o drop\n",
    "dropColumns = ['Unnamed: 0', 'Unnamed: 1', 'Unnamed: 2', 'HORÁRIO', 'AUX 2', 'AUX 3',\n",
    "           'Unnamed: 40', 'Unnamed: 41', 'Unnamed: 42', 'Unnamed: 43', 'Unnamed: 44', 'Unnamed: 45', 'Unnamed: 46', 'Unnamed: 47']"
   ]
  },
  {
   "cell_type": "code",
   "execution_count": 549,
   "id": "4c93f0fc-4e34-49e1-b7c2-356ccc1715be",
   "metadata": {
    "id": "4c93f0fc-4e34-49e1-b7c2-356ccc1715be"
   },
   "outputs": [],
   "source": [
    "dataCAMB.drop(columns= dropColumns, inplace=True)"
   ]
  },
  {
   "cell_type": "markdown",
   "id": "111f646c-9a9c-486d-a471-5b7222777a78",
   "metadata": {
    "id": "111f646c-9a9c-486d-a471-5b7222777a78"
   },
   "source": [
    "- PRECISAMOS RENOMEAR A COLUNA AUX.1 COMO HORARIO"
   ]
  },
  {
   "cell_type": "code",
   "execution_count": 550,
   "id": "5474bcc1-c951-4221-a13c-b3601760a190",
   "metadata": {
    "id": "5474bcc1-c951-4221-a13c-b3601760a190"
   },
   "outputs": [],
   "source": [
    "dataCAMB.rename(columns={'AUX.1': 'HORÁRIO'}, inplace=True)"
   ]
  },
  {
   "cell_type": "code",
   "execution_count": 551,
   "id": "c2ba9093-285b-434f-8053-da5aa78ad533",
   "metadata": {
    "colab": {
     "base_uri": "https://localhost:8080/",
     "height": 1000
    },
    "id": "c2ba9093-285b-434f-8053-da5aa78ad533",
    "outputId": "4681733b-3e4f-480c-de2b-ae41ce332e53"
   },
   "outputs": [
    {
     "data": {
      "text/html": [
       "<div>\n",
       "<style scoped>\n",
       "    .dataframe tbody tr th:only-of-type {\n",
       "        vertical-align: middle;\n",
       "    }\n",
       "\n",
       "    .dataframe tbody tr th {\n",
       "        vertical-align: top;\n",
       "    }\n",
       "\n",
       "    .dataframe thead th {\n",
       "        text-align: right;\n",
       "    }\n",
       "</style>\n",
       "<table border=\"1\" class=\"dataframe\">\n",
       "  <thead>\n",
       "    <tr style=\"text-align: right;\">\n",
       "      <th></th>\n",
       "      <th>CATEGORIA</th>\n",
       "      <th>MODALIDADE</th>\n",
       "      <th>DIA DA SEMANA</th>\n",
       "      <th>HORÁRIO</th>\n",
       "      <th>TURNO</th>\n",
       "      <th>PROFESSOR</th>\n",
       "      <th>2024-10-01 00:00:00</th>\n",
       "      <th>2024-10-02 00:00:00</th>\n",
       "      <th>2024-10-03 00:00:00</th>\n",
       "      <th>2024-10-04 00:00:00</th>\n",
       "      <th>...</th>\n",
       "      <th>2024-10-25 00:00:00</th>\n",
       "      <th>2024-10-28 00:00:00</th>\n",
       "      <th>2024-10-29 00:00:00</th>\n",
       "      <th>2024-10-30 00:00:00</th>\n",
       "      <th>2024-10-31 00:00:00</th>\n",
       "      <th>Média alunos p/ professor</th>\n",
       "      <th>Média</th>\n",
       "      <th>Alunos/professor</th>\n",
       "      <th>Ocupação Máxima</th>\n",
       "      <th>Professor</th>\n",
       "    </tr>\n",
       "  </thead>\n",
       "  <tbody>\n",
       "    <tr>\n",
       "      <th>0</th>\n",
       "      <td>QUADRA</td>\n",
       "      <td>BEACH TENNIS</td>\n",
       "      <td>seg, ter,  qua, qui, sex</td>\n",
       "      <td>05:30</td>\n",
       "      <td>MANHÃ</td>\n",
       "      <td>WASHINGTON</td>\n",
       "      <td>3</td>\n",
       "      <td>4</td>\n",
       "      <td>3</td>\n",
       "      <td>5</td>\n",
       "      <td>...</td>\n",
       "      <td>5</td>\n",
       "      <td>5</td>\n",
       "      <td>3</td>\n",
       "      <td>3</td>\n",
       "      <td>NaN</td>\n",
       "      <td>22</td>\n",
       "      <td>4.000000</td>\n",
       "      <td>NaN</td>\n",
       "      <td>NaN</td>\n",
       "      <td>0.0</td>\n",
       "    </tr>\n",
       "    <tr>\n",
       "      <th>1</th>\n",
       "      <td>MUSC - C/P</td>\n",
       "      <td>A - MUSCULAÇÃO COM PERSONAL</td>\n",
       "      <td>seg, ter, qua, qui, sex</td>\n",
       "      <td>06:00</td>\n",
       "      <td>MANHÃ</td>\n",
       "      <td>TAYNAN</td>\n",
       "      <td>20</td>\n",
       "      <td>35</td>\n",
       "      <td>29</td>\n",
       "      <td>15</td>\n",
       "      <td>...</td>\n",
       "      <td>28</td>\n",
       "      <td>33</td>\n",
       "      <td>37</td>\n",
       "      <td>33</td>\n",
       "      <td>NaN</td>\n",
       "      <td>22</td>\n",
       "      <td>27.181818</td>\n",
       "      <td>NaN</td>\n",
       "      <td>NaN</td>\n",
       "      <td>NaN</td>\n",
       "    </tr>\n",
       "    <tr>\n",
       "      <th>2</th>\n",
       "      <td>MUSC - S/P</td>\n",
       "      <td>A - MUSCULAÇÃO SEM PERSONAL</td>\n",
       "      <td>seg, ter, qua, qui, sex</td>\n",
       "      <td>06:00</td>\n",
       "      <td>MANHÃ</td>\n",
       "      <td>TAYNAN</td>\n",
       "      <td>76</td>\n",
       "      <td>60</td>\n",
       "      <td>63</td>\n",
       "      <td>48</td>\n",
       "      <td>...</td>\n",
       "      <td>45</td>\n",
       "      <td>64</td>\n",
       "      <td>71</td>\n",
       "      <td>65</td>\n",
       "      <td>NaN</td>\n",
       "      <td>22</td>\n",
       "      <td>58.909091</td>\n",
       "      <td>NaN</td>\n",
       "      <td>NaN</td>\n",
       "      <td>NaN</td>\n",
       "    </tr>\n",
       "    <tr>\n",
       "      <th>3</th>\n",
       "      <td>ADULTO</td>\n",
       "      <td>CROSSFIT</td>\n",
       "      <td>seg, ter, qua, qui, sex</td>\n",
       "      <td>06:00</td>\n",
       "      <td>MANHÃ</td>\n",
       "      <td>SAULLO</td>\n",
       "      <td>11</td>\n",
       "      <td>13</td>\n",
       "      <td>12</td>\n",
       "      <td>11</td>\n",
       "      <td>...</td>\n",
       "      <td>9</td>\n",
       "      <td>7</td>\n",
       "      <td>8</td>\n",
       "      <td>NaN</td>\n",
       "      <td>NaN</td>\n",
       "      <td>21</td>\n",
       "      <td>10.619048</td>\n",
       "      <td>NaN</td>\n",
       "      <td>NaN</td>\n",
       "      <td>NaN</td>\n",
       "    </tr>\n",
       "    <tr>\n",
       "      <th>4</th>\n",
       "      <td>ADULTO</td>\n",
       "      <td>GREENZONE</td>\n",
       "      <td>seg, ter, qua, qui, sex</td>\n",
       "      <td>06:00</td>\n",
       "      <td>MANHÃ</td>\n",
       "      <td>RARISSON</td>\n",
       "      <td>6</td>\n",
       "      <td>7</td>\n",
       "      <td>2</td>\n",
       "      <td>4</td>\n",
       "      <td>...</td>\n",
       "      <td>4</td>\n",
       "      <td>3</td>\n",
       "      <td>5</td>\n",
       "      <td>3</td>\n",
       "      <td>NaN</td>\n",
       "      <td>22</td>\n",
       "      <td>5.363636</td>\n",
       "      <td>NaN</td>\n",
       "      <td>NaN</td>\n",
       "      <td>0.0</td>\n",
       "    </tr>\n",
       "    <tr>\n",
       "      <th>...</th>\n",
       "      <td>...</td>\n",
       "      <td>...</td>\n",
       "      <td>...</td>\n",
       "      <td>...</td>\n",
       "      <td>...</td>\n",
       "      <td>...</td>\n",
       "      <td>...</td>\n",
       "      <td>...</td>\n",
       "      <td>...</td>\n",
       "      <td>...</td>\n",
       "      <td>...</td>\n",
       "      <td>...</td>\n",
       "      <td>...</td>\n",
       "      <td>...</td>\n",
       "      <td>...</td>\n",
       "      <td>...</td>\n",
       "      <td>...</td>\n",
       "      <td>...</td>\n",
       "      <td>...</td>\n",
       "      <td>...</td>\n",
       "      <td>...</td>\n",
       "    </tr>\n",
       "    <tr>\n",
       "      <th>82</th>\n",
       "      <td>MUSC - C/P</td>\n",
       "      <td>A - MUSCULAÇÃO COM PERSONAL</td>\n",
       "      <td>seg, ter, qua, qui, sex</td>\n",
       "      <td>21:00</td>\n",
       "      <td>NOITE</td>\n",
       "      <td>ADLEY</td>\n",
       "      <td>14</td>\n",
       "      <td>8</td>\n",
       "      <td>4</td>\n",
       "      <td>0</td>\n",
       "      <td>...</td>\n",
       "      <td>3</td>\n",
       "      <td>6</td>\n",
       "      <td>2</td>\n",
       "      <td>8</td>\n",
       "      <td>NaN</td>\n",
       "      <td>22</td>\n",
       "      <td>4.909091</td>\n",
       "      <td>NaN</td>\n",
       "      <td>NaN</td>\n",
       "      <td>NaN</td>\n",
       "    </tr>\n",
       "    <tr>\n",
       "      <th>83</th>\n",
       "      <td>MUSC - S/P</td>\n",
       "      <td>A - MUSCULAÇÃO SEM PERSONAL</td>\n",
       "      <td>seg, ter, qua, qui, sex</td>\n",
       "      <td>21:00</td>\n",
       "      <td>NOITE</td>\n",
       "      <td>ADLEY</td>\n",
       "      <td>62</td>\n",
       "      <td>52</td>\n",
       "      <td>36</td>\n",
       "      <td>46</td>\n",
       "      <td>...</td>\n",
       "      <td>17</td>\n",
       "      <td>51</td>\n",
       "      <td>58</td>\n",
       "      <td>46</td>\n",
       "      <td>NaN</td>\n",
       "      <td>22</td>\n",
       "      <td>49.136364</td>\n",
       "      <td>NaN</td>\n",
       "      <td>NaN</td>\n",
       "      <td>NaN</td>\n",
       "    </tr>\n",
       "    <tr>\n",
       "      <th>84</th>\n",
       "      <td>MUSC - S/P</td>\n",
       "      <td>A - MUSCULAÇÃO SEM PERSONAL</td>\n",
       "      <td>seg, ter, qua, qui, sex</td>\n",
       "      <td>22:00</td>\n",
       "      <td>NOITE</td>\n",
       "      <td>ADLEY</td>\n",
       "      <td>26</td>\n",
       "      <td>28</td>\n",
       "      <td>13</td>\n",
       "      <td>13</td>\n",
       "      <td>...</td>\n",
       "      <td>8</td>\n",
       "      <td>22</td>\n",
       "      <td>16</td>\n",
       "      <td>10</td>\n",
       "      <td>NaN</td>\n",
       "      <td>22</td>\n",
       "      <td>19.363636</td>\n",
       "      <td>NaN</td>\n",
       "      <td>NaN</td>\n",
       "      <td>NaN</td>\n",
       "    </tr>\n",
       "    <tr>\n",
       "      <th>85</th>\n",
       "      <td>MUSC - C/P</td>\n",
       "      <td>A - MUSCULAÇÃO COM PERSONAL</td>\n",
       "      <td>seg, ter, qua, qui, sex</td>\n",
       "      <td>22:00</td>\n",
       "      <td>NOITE</td>\n",
       "      <td>ADLEY</td>\n",
       "      <td>2</td>\n",
       "      <td>0</td>\n",
       "      <td>0</td>\n",
       "      <td>0</td>\n",
       "      <td>...</td>\n",
       "      <td>3</td>\n",
       "      <td>3</td>\n",
       "      <td>0</td>\n",
       "      <td>3</td>\n",
       "      <td>NaN</td>\n",
       "      <td>22</td>\n",
       "      <td>0.863636</td>\n",
       "      <td>NaN</td>\n",
       "      <td>NaN</td>\n",
       "      <td>NaN</td>\n",
       "    </tr>\n",
       "    <tr>\n",
       "      <th>86</th>\n",
       "      <td>MUSC - C/P</td>\n",
       "      <td>A - MUSCULAÇÃO COM PERSONAL</td>\n",
       "      <td>seg, ter, qua, qui, sex</td>\n",
       "      <td>22:30</td>\n",
       "      <td>NOITE</td>\n",
       "      <td>ADLEY</td>\n",
       "      <td>0</td>\n",
       "      <td>0</td>\n",
       "      <td>0</td>\n",
       "      <td>0</td>\n",
       "      <td>...</td>\n",
       "      <td>0</td>\n",
       "      <td>0</td>\n",
       "      <td>0</td>\n",
       "      <td>0</td>\n",
       "      <td>NaN</td>\n",
       "      <td>22</td>\n",
       "      <td>0.000000</td>\n",
       "      <td>NaN</td>\n",
       "      <td>NaN</td>\n",
       "      <td>NaN</td>\n",
       "    </tr>\n",
       "  </tbody>\n",
       "</table>\n",
       "<p>87 rows × 34 columns</p>\n",
       "</div>"
      ],
      "text/plain": [
       "     CATEGORIA                   MODALIDADE             DIA DA SEMANA HORÁRIO  \\\n",
       "0       QUADRA                BEACH TENNIS   seg, ter,  qua, qui, sex   05:30   \n",
       "1   MUSC - C/P  A - MUSCULAÇÃO COM PERSONAL   seg, ter, qua, qui, sex   06:00   \n",
       "2   MUSC - S/P  A - MUSCULAÇÃO SEM PERSONAL   seg, ter, qua, qui, sex   06:00   \n",
       "3       ADULTO                     CROSSFIT   seg, ter, qua, qui, sex   06:00   \n",
       "4       ADULTO                    GREENZONE   seg, ter, qua, qui, sex   06:00   \n",
       "..         ...                          ...                       ...     ...   \n",
       "82  MUSC - C/P  A - MUSCULAÇÃO COM PERSONAL   seg, ter, qua, qui, sex   21:00   \n",
       "83  MUSC - S/P  A - MUSCULAÇÃO SEM PERSONAL   seg, ter, qua, qui, sex   21:00   \n",
       "84  MUSC - S/P  A - MUSCULAÇÃO SEM PERSONAL   seg, ter, qua, qui, sex   22:00   \n",
       "85  MUSC - C/P  A - MUSCULAÇÃO COM PERSONAL   seg, ter, qua, qui, sex   22:00   \n",
       "86  MUSC - C/P  A - MUSCULAÇÃO COM PERSONAL   seg, ter, qua, qui, sex   22:30   \n",
       "\n",
       "    TURNO   PROFESSOR 2024-10-01 00:00:00 2024-10-02 00:00:00  \\\n",
       "0   MANHÃ  WASHINGTON                   3                   4   \n",
       "1   MANHÃ      TAYNAN                  20                  35   \n",
       "2   MANHÃ      TAYNAN                  76                  60   \n",
       "3   MANHÃ      SAULLO                  11                  13   \n",
       "4   MANHÃ   RARISSON                    6                   7   \n",
       "..    ...         ...                 ...                 ...   \n",
       "82  NOITE       ADLEY                  14                   8   \n",
       "83  NOITE       ADLEY                  62                  52   \n",
       "84  NOITE       ADLEY                  26                  28   \n",
       "85  NOITE       ADLEY                   2                   0   \n",
       "86  NOITE       ADLEY                   0                   0   \n",
       "\n",
       "   2024-10-03 00:00:00 2024-10-04 00:00:00  ... 2024-10-25 00:00:00  \\\n",
       "0                    3                   5  ...                   5   \n",
       "1                   29                  15  ...                  28   \n",
       "2                   63                  48  ...                  45   \n",
       "3                   12                  11  ...                   9   \n",
       "4                    2                   4  ...                   4   \n",
       "..                 ...                 ...  ...                 ...   \n",
       "82                   4                   0  ...                   3   \n",
       "83                  36                  46  ...                  17   \n",
       "84                  13                  13  ...                   8   \n",
       "85                   0                   0  ...                   3   \n",
       "86                   0                   0  ...                   0   \n",
       "\n",
       "   2024-10-28 00:00:00 2024-10-29 00:00:00 2024-10-30 00:00:00  \\\n",
       "0                    5                   3                   3   \n",
       "1                   33                  37                  33   \n",
       "2                   64                  71                  65   \n",
       "3                    7                   8                 NaN   \n",
       "4                    3                   5                   3   \n",
       "..                 ...                 ...                 ...   \n",
       "82                   6                   2                   8   \n",
       "83                  51                  58                  46   \n",
       "84                  22                  16                  10   \n",
       "85                   3                   0                   3   \n",
       "86                   0                   0                   0   \n",
       "\n",
       "   2024-10-31 00:00:00 Média alunos p/ professor      Média Alunos/professor  \\\n",
       "0                  NaN                        22   4.000000              NaN   \n",
       "1                  NaN                        22  27.181818              NaN   \n",
       "2                  NaN                        22  58.909091              NaN   \n",
       "3                  NaN                        21  10.619048              NaN   \n",
       "4                  NaN                        22   5.363636              NaN   \n",
       "..                 ...                       ...        ...              ...   \n",
       "82                 NaN                        22   4.909091              NaN   \n",
       "83                 NaN                        22  49.136364              NaN   \n",
       "84                 NaN                        22  19.363636              NaN   \n",
       "85                 NaN                        22   0.863636              NaN   \n",
       "86                 NaN                        22   0.000000              NaN   \n",
       "\n",
       "   Ocupação Máxima Professor  \n",
       "0              NaN       0.0  \n",
       "1              NaN       NaN  \n",
       "2              NaN       NaN  \n",
       "3              NaN       NaN  \n",
       "4              NaN       0.0  \n",
       "..             ...       ...  \n",
       "82             NaN       NaN  \n",
       "83             NaN       NaN  \n",
       "84             NaN       NaN  \n",
       "85             NaN       NaN  \n",
       "86             NaN       NaN  \n",
       "\n",
       "[87 rows x 34 columns]"
      ]
     },
     "execution_count": 551,
     "metadata": {},
     "output_type": "execute_result"
    }
   ],
   "source": [
    "dataCAMB"
   ]
  },
  {
   "cell_type": "markdown",
   "id": "94ec032a-4d7c-449e-be0a-bc22c7d74f5f",
   "metadata": {
    "id": "94ec032a-4d7c-449e-be0a-bc22c7d74f5f"
   },
   "source": [
    "### 2 PASSO: Renomeando strings de datas, para que o pandas possa aceitar como colunas"
   ]
  },
  {
   "cell_type": "code",
   "execution_count": 552,
   "id": "a743675e-3291-4b5a-95fb-281191c53814",
   "metadata": {
    "colab": {
     "base_uri": "https://localhost:8080/"
    },
    "id": "a743675e-3291-4b5a-95fb-281191c53814",
    "outputId": "15db33cf-5395-441c-ddd1-3e9e1c941a2b"
   },
   "outputs": [
    {
     "name": "stdout",
     "output_type": "stream",
     "text": [
      "CATEGORIA\n",
      "MODALIDADE\n",
      "DIA DA SEMANA\n",
      "HORÁRIO\n",
      "TURNO\n",
      "PROFESSOR\n",
      "2024-10-01 00:00:00\n",
      "2024-10-02 00:00:00\n",
      "2024-10-03 00:00:00\n",
      "2024-10-04 00:00:00\n",
      "2024-10-07 00:00:00\n",
      "2024-10-08 00:00:00\n",
      "2024-10-09 00:00:00\n",
      "2024-10-10 00:00:00\n",
      "2024-10-11 00:00:00\n",
      "2024-10-14 00:00:00\n",
      "2024-10-15 00:00:00\n",
      "2024-10-16 00:00:00\n",
      "2024-10-17 00:00:00\n",
      "2024-10-18 00:00:00\n",
      "2024-10-21 00:00:00\n",
      "2024-10-22 00:00:00\n",
      "2024-10-23 00:00:00\n",
      "2024-10-24 00:00:00\n",
      "2024-10-25 00:00:00\n",
      "2024-10-28 00:00:00\n",
      "2024-10-29 00:00:00\n",
      "2024-10-30 00:00:00\n",
      "2024-10-31 00:00:00\n",
      "Média alunos p/ professor\n",
      "Média\n",
      "Alunos/professor\n",
      "Ocupação Máxima\n",
      "Professor\n"
     ]
    }
   ],
   "source": [
    "for columns in dataCAMB.columns:\n",
    "    print(columns)"
   ]
  },
  {
   "cell_type": "code",
   "execution_count": 553,
   "id": "0fd94681-fc02-4f16-a102-82b536bd6ba5",
   "metadata": {
    "id": "0fd94681-fc02-4f16-a102-82b536bd6ba5"
   },
   "outputs": [],
   "source": [
    "dataCAMB.columns = [\n",
    "'CATEGORIA',\n",
    "'MODALIDADE',\n",
    "'DIA DA SEMANA',\n",
    "'HORÁRIO',\n",
    "'TURNO',\n",
    "'PROFESSOR',\n",
    "'2024-10-01 00:00:00',\n",
    "'2024-10-02 00:00:00',\n",
    "'2024-10-03 00:00:00',\n",
    "'2024-10-04 00:00:00',\n",
    "'2024-10-07 00:00:00',\n",
    "'2024-10-08 00:00:00',\n",
    "'2024-10-09 00:00:00',\n",
    "'2024-10-10 00:00:00',\n",
    "'2024-10-11 00:00:00',\n",
    "'2024-10-14 00:00:00',\n",
    "'2024-10-15 00:00:00',\n",
    "'2024-10-16 00:00:00',\n",
    "'2024-10-17 00:00:00',\n",
    "'2024-10-18 00:00:00',\n",
    "'2024-10-21 00:00:00',\n",
    "'2024-10-22 00:00:00',\n",
    "'2024-10-23 00:00:00',\n",
    "'2024-10-24 00:00:00',\n",
    "'2024-10-25 00:00:00',\n",
    "'2024-10-28 00:00:00',\n",
    "'2024-10-29 00:00:00',\n",
    "'2024-10-30 00:00:00',\n",
    "'2024-10-31 00:00:00',\n",
    "'Média alunos p/ professor',\n",
    "'Média',\n",
    "'Alunos/professor',\n",
    "'Ocupação Máxima',\n",
    "'Professor']"
   ]
  },
  {
   "cell_type": "code",
   "execution_count": 554,
   "id": "1cec6606-b1fe-4b04-ab84-f28440eff685",
   "metadata": {
    "colab": {
     "base_uri": "https://localhost:8080/"
    },
    "id": "1cec6606-b1fe-4b04-ab84-f28440eff685",
    "outputId": "f48baa80-bd1b-4d28-d19b-f6e0790597df"
   },
   "outputs": [
    {
     "data": {
      "text/plain": [
       "Index(['CATEGORIA', 'MODALIDADE', 'DIA DA SEMANA', 'HORÁRIO', 'TURNO',\n",
       "       'PROFESSOR', '2024-10-01 00:00:00', '2024-10-02 00:00:00',\n",
       "       '2024-10-03 00:00:00', '2024-10-04 00:00:00', '2024-10-07 00:00:00',\n",
       "       '2024-10-08 00:00:00', '2024-10-09 00:00:00', '2024-10-10 00:00:00',\n",
       "       '2024-10-11 00:00:00', '2024-10-14 00:00:00', '2024-10-15 00:00:00',\n",
       "       '2024-10-16 00:00:00', '2024-10-17 00:00:00', '2024-10-18 00:00:00',\n",
       "       '2024-10-21 00:00:00', '2024-10-22 00:00:00', '2024-10-23 00:00:00',\n",
       "       '2024-10-24 00:00:00', '2024-10-25 00:00:00', '2024-10-28 00:00:00',\n",
       "       '2024-10-29 00:00:00', '2024-10-30 00:00:00', '2024-10-31 00:00:00',\n",
       "       'Média alunos p/ professor', 'Média', 'Alunos/professor',\n",
       "       'Ocupação Máxima', 'Professor'],\n",
       "      dtype='object')"
      ]
     },
     "execution_count": 554,
     "metadata": {},
     "output_type": "execute_result"
    }
   ],
   "source": [
    "dataCAMB.columns"
   ]
  },
  {
   "cell_type": "markdown",
   "id": "c7f89d6d-81bd-4341-a95f-bcb5feddbb30",
   "metadata": {
    "id": "c7f89d6d-81bd-4341-a95f-bcb5feddbb30"
   },
   "source": [
    "### PASSO 3: Escolhendo colunas com o nome de 'datas', para renomear pelo o tipo dia, mês e ano. e removendo os 00 de horas"
   ]
  },
  {
   "cell_type": "code",
   "execution_count": 555,
   "id": "70a61dee-a19c-4f83-a75a-0dc407719814",
   "metadata": {
    "id": "70a61dee-a19c-4f83-a75a-0dc407719814"
   },
   "outputs": [],
   "source": [
    "colunas = [\n",
    "'2024-10-01 00:00:00',\n",
    "'2024-10-02 00:00:00',\n",
    "'2024-10-03 00:00:00',\n",
    "'2024-10-04 00:00:00',\n",
    "'2024-10-07 00:00:00',\n",
    "'2024-10-08 00:00:00',\n",
    "'2024-10-09 00:00:00',\n",
    "'2024-10-10 00:00:00',\n",
    "'2024-10-11 00:00:00',\n",
    "'2024-10-14 00:00:00',\n",
    "'2024-10-15 00:00:00',\n",
    "'2024-10-16 00:00:00',\n",
    "'2024-10-17 00:00:00',\n",
    "'2024-10-18 00:00:00',\n",
    "'2024-10-21 00:00:00',\n",
    "'2024-10-22 00:00:00',\n",
    "'2024-10-23 00:00:00',\n",
    "'2024-10-24 00:00:00',\n",
    "'2024-10-25 00:00:00',\n",
    "'2024-10-28 00:00:00',\n",
    "'2024-10-29 00:00:00',\n",
    "'2024-10-30 00:00:00',\n",
    "'2024-10-31 00:00:00',\n",
    "]"
   ]
  },
  {
   "cell_type": "code",
   "execution_count": 556,
   "id": "44f41f87-0991-45b1-890b-8fd61041d9d1",
   "metadata": {
    "id": "44f41f87-0991-45b1-890b-8fd61041d9d1"
   },
   "outputs": [],
   "source": [
    "novas_colunas_CAMB = []"
   ]
  },
  {
   "cell_type": "code",
   "execution_count": 557,
   "id": "4a147306-4de3-4647-8788-db1ffa0fed74",
   "metadata": {
    "id": "4a147306-4de3-4647-8788-db1ffa0fed74"
   },
   "outputs": [],
   "source": [
    "for columns in colunas:\n",
    "    # Remove a parte da hora\n",
    "    data_sem_hora = columns.split(' ')[0]\n",
    "\n",
    "    # Formata para o formato DD-MM-YYYY\n",
    "    ano, mes, dia = data_sem_hora.split('-')\n",
    "    novo_nome = f'{dia}-{mes}-{ano}'\n",
    "    novas_colunas_CAMB.append(novo_nome)"
   ]
  },
  {
   "cell_type": "code",
   "execution_count": 558,
   "id": "c792dfb8-109d-47c5-b02f-ba8aef4325a3",
   "metadata": {
    "colab": {
     "base_uri": "https://localhost:8080/"
    },
    "id": "c792dfb8-109d-47c5-b02f-ba8aef4325a3",
    "outputId": "fc9dd953-e69c-40ef-a2ea-5746c83bce90"
   },
   "outputs": [
    {
     "data": {
      "text/plain": [
       "['01-10-2024',\n",
       " '02-10-2024',\n",
       " '03-10-2024',\n",
       " '04-10-2024',\n",
       " '07-10-2024',\n",
       " '08-10-2024',\n",
       " '09-10-2024',\n",
       " '10-10-2024',\n",
       " '11-10-2024',\n",
       " '14-10-2024',\n",
       " '15-10-2024',\n",
       " '16-10-2024',\n",
       " '17-10-2024',\n",
       " '18-10-2024',\n",
       " '21-10-2024',\n",
       " '22-10-2024',\n",
       " '23-10-2024',\n",
       " '24-10-2024',\n",
       " '25-10-2024',\n",
       " '28-10-2024',\n",
       " '29-10-2024',\n",
       " '30-10-2024',\n",
       " '31-10-2024']"
      ]
     },
     "execution_count": 558,
     "metadata": {},
     "output_type": "execute_result"
    }
   ],
   "source": [
    "novas_colunas_CAMB"
   ]
  },
  {
   "cell_type": "markdown",
   "id": "5624e154-221d-44c5-bfd6-1981b2a095f1",
   "metadata": {
    "id": "5624e154-221d-44c5-bfd6-1981b2a095f1"
   },
   "source": [
    "### PASSO 4 renomeando colunas e acrescentando o novo formato"
   ]
  },
  {
   "cell_type": "markdown",
   "id": "cb0b0a65-5f98-4a79-8d1f-70a7d921c521",
   "metadata": {
    "id": "cb0b0a65-5f98-4a79-8d1f-70a7d921c521"
   },
   "source": [
    "copie as colunas que escolheu para renomear, e cole o formato novo no lugar das velhas"
   ]
  },
  {
   "cell_type": "code",
   "execution_count": 559,
   "id": "1cd5d63f-674a-4aa1-8a7b-9e7e27a212b6",
   "metadata": {
    "colab": {
     "base_uri": "https://localhost:8080/"
    },
    "id": "1cd5d63f-674a-4aa1-8a7b-9e7e27a212b6",
    "outputId": "d7bfb7fb-d08a-4dd7-b734-9f750773f4ad"
   },
   "outputs": [
    {
     "name": "stdout",
     "output_type": "stream",
     "text": [
      "CATEGORIA\n",
      "MODALIDADE\n",
      "DIA DA SEMANA\n",
      "HORÁRIO\n",
      "TURNO\n",
      "PROFESSOR\n",
      "2024-10-01 00:00:00\n",
      "2024-10-02 00:00:00\n",
      "2024-10-03 00:00:00\n",
      "2024-10-04 00:00:00\n",
      "2024-10-07 00:00:00\n",
      "2024-10-08 00:00:00\n",
      "2024-10-09 00:00:00\n",
      "2024-10-10 00:00:00\n",
      "2024-10-11 00:00:00\n",
      "2024-10-14 00:00:00\n",
      "2024-10-15 00:00:00\n",
      "2024-10-16 00:00:00\n",
      "2024-10-17 00:00:00\n",
      "2024-10-18 00:00:00\n",
      "2024-10-21 00:00:00\n",
      "2024-10-22 00:00:00\n",
      "2024-10-23 00:00:00\n",
      "2024-10-24 00:00:00\n",
      "2024-10-25 00:00:00\n",
      "2024-10-28 00:00:00\n",
      "2024-10-29 00:00:00\n",
      "2024-10-30 00:00:00\n",
      "2024-10-31 00:00:00\n",
      "Média alunos p/ professor\n",
      "Média\n",
      "Alunos/professor\n",
      "Ocupação Máxima\n",
      "Professor\n"
     ]
    }
   ],
   "source": [
    "for columns in dataCAMB.columns:\n",
    "    print (columns)"
   ]
  },
  {
   "cell_type": "code",
   "execution_count": 560,
   "id": "393d290e-0c83-4c0e-814b-1e58c16aacbd",
   "metadata": {
    "id": "393d290e-0c83-4c0e-814b-1e58c16aacbd"
   },
   "outputs": [],
   "source": [
    "# Adicionando as datas formatadas as colunas, copiando e colando"
   ]
  },
  {
   "cell_type": "code",
   "execution_count": 561,
   "id": "0a200933-2e84-4012-8571-29987b0056c5",
   "metadata": {
    "id": "0a200933-2e84-4012-8571-29987b0056c5"
   },
   "outputs": [],
   "source": [
    "dataCAMB.columns = [\n",
    "'CATEGORIA',\n",
    "'MODALIDADE',\n",
    "'DIA DA SEMANA',\n",
    "'HORÁRIO',\n",
    "'TURNO',\n",
    "'PROFESSOR',\n",
    "'01-10-2024',\n",
    "'02-10-2024',\n",
    "'03-10-2024',\n",
    "'04-10-2024',\n",
    "'07-10-2024',\n",
    "'08-10-2024',\n",
    "'09-10-2024',\n",
    "'10-10-2024',\n",
    "'11-10-2024',\n",
    "'14-10-2024',\n",
    "'15-10-2024',\n",
    "'16-10-2024',\n",
    "'17-10-2024',\n",
    "'18-10-2024',\n",
    "'21-10-2024',\n",
    "'22-10-2024',\n",
    "'23-10-2024',\n",
    "'24-10-2024',\n",
    "'25-10-2024',\n",
    "'28-10-2024',\n",
    "'29-10-2024',\n",
    "'30-10-2024',\n",
    "'31-10-2024',\n",
    "'Média alunos p/ professor',\n",
    "'Média',\n",
    "'Alunos/professor',\n",
    "'Ocupação Máxima',\n",
    "'Professor'\n",
    "]"
   ]
  },
  {
   "cell_type": "markdown",
   "id": "96db1918-47ac-4396-94b7-5d79bc40c716",
   "metadata": {
    "id": "96db1918-47ac-4396-94b7-5d79bc40c716"
   },
   "source": [
    "### 5 PASSO: Usar o Loop for para substitituir os valores das frequencia de 'x' e 'X' por zero, com o método do pd.to_numeric)"
   ]
  },
  {
   "cell_type": "markdown",
   "id": "a4f0fd38-1ca2-431a-a169-ae618cfc23ec",
   "metadata": {
    "id": "a4f0fd38-1ca2-431a-a169-ae618cfc23ec"
   },
   "source": [
    "Escolhendo apenas as colunas de datas"
   ]
  },
  {
   "cell_type": "code",
   "execution_count": 562,
   "id": "5eb4b0e1-288d-49d7-9754-2e4603c58023",
   "metadata": {
    "id": "5eb4b0e1-288d-49d7-9754-2e4603c58023"
   },
   "outputs": [],
   "source": [
    "colunas = [\n",
    "'01-10-2024',\n",
    "'02-10-2024',\n",
    "'03-10-2024',\n",
    "'04-10-2024',\n",
    "'07-10-2024',\n",
    "'08-10-2024',\n",
    "'09-10-2024',\n",
    "'10-10-2024',\n",
    "'11-10-2024',\n",
    "'14-10-2024',\n",
    "'15-10-2024',\n",
    "'16-10-2024',\n",
    "'17-10-2024',\n",
    "'18-10-2024',\n",
    "'21-10-2024',\n",
    "'22-10-2024',\n",
    "'23-10-2024',\n",
    "'24-10-2024',\n",
    "'25-10-2024',\n",
    "'28-10-2024',\n",
    "'29-10-2024',\n",
    "'30-10-2024',\n",
    "'31-10-2024',\n",
    "]"
   ]
  },
  {
   "cell_type": "markdown",
   "id": "53303d86-7866-494d-9bee-3c9808447224",
   "metadata": {
    "id": "53303d86-7866-494d-9bee-3c9808447224"
   },
   "source": [
    "Fazendo a limpeza profunda, formatando valores para numeros, preenchendo com zeros os nulos e transformando em inteiros"
   ]
  },
  {
   "cell_type": "code",
   "execution_count": 563,
   "id": "988f493f-634a-4b04-8c1a-9d414b31ce6f",
   "metadata": {
    "id": "988f493f-634a-4b04-8c1a-9d414b31ce6f"
   },
   "outputs": [],
   "source": [
    "for columns in colunas:\n",
    "    # dataMES[columns] = pd.to_numeric(dataMES[columns], errors='coerce')\n",
    "    dataCAMB[columns] = pd.to_numeric(dataCAMB[columns], errors='coerce').fillna(0).astype(int)"
   ]
  },
  {
   "cell_type": "markdown",
   "id": "708835c9-74fd-40ea-a16a-4d7e4ddd6853",
   "metadata": {
    "id": "708835c9-74fd-40ea-a16a-4d7e4ddd6853"
   },
   "source": [
    "### PASSO 6: MELT derretendo as colunas em formato de datas"
   ]
  },
  {
   "cell_type": "markdown",
   "id": "6e9cc97e-34dc-46b6-bab0-7c7af71b2694",
   "metadata": {
    "id": "6e9cc97e-34dc-46b6-bab0-7c7af71b2694"
   },
   "source": [
    "o MELT ele pega as colunas que estão na horizontal e cria uma coluna de categorias, e depois ele cria outra coluna com os valores dessas colunas que foram transformadas em dados categóricos"
   ]
  },
  {
   "cell_type": "code",
   "execution_count": 564,
   "id": "f72b212d-18ec-4464-b52d-22b88e1f1874",
   "metadata": {
    "id": "f72b212d-18ec-4464-b52d-22b88e1f1874"
   },
   "outputs": [],
   "source": [
    "colunas_para_melt = [\n",
    "'01-10-2024',\n",
    "'02-10-2024',\n",
    "'03-10-2024',\n",
    "'04-10-2024',\n",
    "'07-10-2024',\n",
    "'08-10-2024',\n",
    "'09-10-2024',\n",
    "'10-10-2024',\n",
    "'11-10-2024',\n",
    "'14-10-2024',\n",
    "'15-10-2024',\n",
    "'16-10-2024',\n",
    "'17-10-2024',\n",
    "'18-10-2024',\n",
    "'21-10-2024',\n",
    "'22-10-2024',\n",
    "'23-10-2024',\n",
    "'24-10-2024',\n",
    "'25-10-2024',\n",
    "'28-10-2024',\n",
    "'29-10-2024',\n",
    "'30-10-2024',\n",
    "'31-10-2024',\n",
    "]"
   ]
  },
  {
   "cell_type": "markdown",
   "id": "ecba9fc4-962d-4353-a10b-873cc709ff1c",
   "metadata": {
    "id": "ecba9fc4-962d-4353-a10b-873cc709ff1c"
   },
   "source": [
    "#### Indentificando as colunas que Eu quero manter em meu dataframe"
   ]
  },
  {
   "cell_type": "code",
   "execution_count": 565,
   "id": "5b7b0d1e-5b51-45d8-8977-f00f05e3f4dd",
   "metadata": {
    "id": "5b7b0d1e-5b51-45d8-8977-f00f05e3f4dd"
   },
   "outputs": [],
   "source": [
    "# Identifica as colunas que você quer manter como identificadoras (id_vars)\n",
    "# São as colunas que não serão \"unpivoted\"\n",
    "id_vars_cols = [columns for columns in dataCAMB.columns if columns not in colunas_para_melt]"
   ]
  },
  {
   "cell_type": "markdown",
   "id": "31d27408-2fe6-4450-959a-4b65812246c9",
   "metadata": {
    "id": "31d27408-2fe6-4450-959a-4b65812246c9"
   },
   "source": [
    "#### Realiza o melt apenas nas colunas de datas"
   ]
  },
  {
   "cell_type": "code",
   "execution_count": 566,
   "id": "dfc300f0-d2ff-408c-b205-8cf5c3468ee2",
   "metadata": {
    "id": "dfc300f0-d2ff-408c-b205-8cf5c3468ee2"
   },
   "outputs": [],
   "source": [
    "dataCAMB_melted = pd.melt(dataCAMB,\n",
    "                      id_vars=id_vars_cols, #colunas que Eu deixei, que ficaram.\n",
    "                      value_vars=colunas_para_melt, #colunas que vão se transformar.\n",
    "                      var_name='Dias de Aulas', # nome da coluna categorica\n",
    "                      value_name='Frequencia de Alunos') # nome da coluna de valores"
   ]
  },
  {
   "cell_type": "code",
   "execution_count": 567,
   "id": "62e11cc5-5c55-4fea-b621-428eb8b93c48",
   "metadata": {
    "colab": {
     "base_uri": "https://localhost:8080/",
     "height": 282
    },
    "id": "62e11cc5-5c55-4fea-b621-428eb8b93c48",
    "outputId": "d2773d09-5e0d-4d70-89cb-7123ae1a225e"
   },
   "outputs": [
    {
     "data": {
      "text/html": [
       "<div>\n",
       "<style scoped>\n",
       "    .dataframe tbody tr th:only-of-type {\n",
       "        vertical-align: middle;\n",
       "    }\n",
       "\n",
       "    .dataframe tbody tr th {\n",
       "        vertical-align: top;\n",
       "    }\n",
       "\n",
       "    .dataframe thead th {\n",
       "        text-align: right;\n",
       "    }\n",
       "</style>\n",
       "<table border=\"1\" class=\"dataframe\">\n",
       "  <thead>\n",
       "    <tr style=\"text-align: right;\">\n",
       "      <th></th>\n",
       "      <th>CATEGORIA</th>\n",
       "      <th>MODALIDADE</th>\n",
       "      <th>DIA DA SEMANA</th>\n",
       "      <th>HORÁRIO</th>\n",
       "      <th>TURNO</th>\n",
       "      <th>PROFESSOR</th>\n",
       "      <th>Média alunos p/ professor</th>\n",
       "      <th>Média</th>\n",
       "      <th>Alunos/professor</th>\n",
       "      <th>Ocupação Máxima</th>\n",
       "      <th>Professor</th>\n",
       "      <th>Dias de Aulas</th>\n",
       "      <th>Frequencia de Alunos</th>\n",
       "    </tr>\n",
       "  </thead>\n",
       "  <tbody>\n",
       "    <tr>\n",
       "      <th>0</th>\n",
       "      <td>QUADRA</td>\n",
       "      <td>BEACH TENNIS</td>\n",
       "      <td>seg, ter,  qua, qui, sex</td>\n",
       "      <td>05:30</td>\n",
       "      <td>MANHÃ</td>\n",
       "      <td>WASHINGTON</td>\n",
       "      <td>22</td>\n",
       "      <td>4.000000</td>\n",
       "      <td>NaN</td>\n",
       "      <td>NaN</td>\n",
       "      <td>0.0</td>\n",
       "      <td>01-10-2024</td>\n",
       "      <td>3</td>\n",
       "    </tr>\n",
       "    <tr>\n",
       "      <th>1</th>\n",
       "      <td>MUSC - C/P</td>\n",
       "      <td>A - MUSCULAÇÃO COM PERSONAL</td>\n",
       "      <td>seg, ter, qua, qui, sex</td>\n",
       "      <td>06:00</td>\n",
       "      <td>MANHÃ</td>\n",
       "      <td>TAYNAN</td>\n",
       "      <td>22</td>\n",
       "      <td>27.181818</td>\n",
       "      <td>NaN</td>\n",
       "      <td>NaN</td>\n",
       "      <td>NaN</td>\n",
       "      <td>01-10-2024</td>\n",
       "      <td>20</td>\n",
       "    </tr>\n",
       "    <tr>\n",
       "      <th>2</th>\n",
       "      <td>MUSC - S/P</td>\n",
       "      <td>A - MUSCULAÇÃO SEM PERSONAL</td>\n",
       "      <td>seg, ter, qua, qui, sex</td>\n",
       "      <td>06:00</td>\n",
       "      <td>MANHÃ</td>\n",
       "      <td>TAYNAN</td>\n",
       "      <td>22</td>\n",
       "      <td>58.909091</td>\n",
       "      <td>NaN</td>\n",
       "      <td>NaN</td>\n",
       "      <td>NaN</td>\n",
       "      <td>01-10-2024</td>\n",
       "      <td>76</td>\n",
       "    </tr>\n",
       "  </tbody>\n",
       "</table>\n",
       "</div>"
      ],
      "text/plain": [
       "    CATEGORIA                   MODALIDADE             DIA DA SEMANA HORÁRIO  \\\n",
       "0      QUADRA                BEACH TENNIS   seg, ter,  qua, qui, sex   05:30   \n",
       "1  MUSC - C/P  A - MUSCULAÇÃO COM PERSONAL   seg, ter, qua, qui, sex   06:00   \n",
       "2  MUSC - S/P  A - MUSCULAÇÃO SEM PERSONAL   seg, ter, qua, qui, sex   06:00   \n",
       "\n",
       "   TURNO   PROFESSOR  Média alunos p/ professor      Média  Alunos/professor  \\\n",
       "0  MANHÃ  WASHINGTON                         22   4.000000               NaN   \n",
       "1  MANHÃ      TAYNAN                         22  27.181818               NaN   \n",
       "2  MANHÃ      TAYNAN                         22  58.909091               NaN   \n",
       "\n",
       "   Ocupação Máxima  Professor Dias de Aulas  Frequencia de Alunos  \n",
       "0              NaN        0.0    01-10-2024                     3  \n",
       "1              NaN        NaN    01-10-2024                    20  \n",
       "2              NaN        NaN    01-10-2024                    76  "
      ]
     },
     "execution_count": 567,
     "metadata": {},
     "output_type": "execute_result"
    }
   ],
   "source": [
    "dataCAMB_melted.head(3)"
   ]
  },
  {
   "cell_type": "code",
   "execution_count": 568,
   "id": "6df2065c-d761-4d36-8835-1418e234f30c",
   "metadata": {
    "colab": {
     "base_uri": "https://localhost:8080/"
    },
    "id": "6df2065c-d761-4d36-8835-1418e234f30c",
    "outputId": "cbdcd3fc-0ff1-4110-b8d2-f2fa15236fe6"
   },
   "outputs": [
    {
     "data": {
      "text/plain": [
       "np.int64(33220)"
      ]
     },
     "execution_count": 568,
     "metadata": {},
     "output_type": "execute_result"
    }
   ],
   "source": [
    "dataCAMB_melted['Frequencia de Alunos'].sum()"
   ]
  },
  {
   "cell_type": "markdown",
   "id": "87d85787-bbaa-4fdc-b017-c3469f98253e",
   "metadata": {
    "id": "87d85787-bbaa-4fdc-b017-c3469f98253e"
   },
   "source": [
    "# EUSEBIO [EUS] - PREPROCESSING 6"
   ]
  },
  {
   "cell_type": "code",
   "execution_count": 569,
   "id": "11ac01a9-3a94-4056-9f27-6f32c43dea03",
   "metadata": {
    "id": "11ac01a9-3a94-4056-9f27-6f32c43dea03"
   },
   "outputs": [],
   "source": [
    "data6 = pd.read_excel('base_de_frequencias_green_life_academias_dados_brutos.xlsx', sheet_name='EUS', skiprows=1, nrows=100)"
   ]
  },
  {
   "cell_type": "code",
   "execution_count": 570,
   "id": "d27ba71e-fd79-44b4-9148-7c6517b8fd82",
   "metadata": {
    "id": "d27ba71e-fd79-44b4-9148-7c6517b8fd82"
   },
   "outputs": [],
   "source": [
    "dataEUS = data6.copy()"
   ]
  },
  {
   "cell_type": "markdown",
   "id": "efae5397-f5f2-4d7c-a4dc-baab74a1e43a",
   "metadata": {
    "id": "efae5397-f5f2-4d7c-a4dc-baab74a1e43a"
   },
   "source": [
    "### 1 PASSO: Removendo colunas desnecessárias"
   ]
  },
  {
   "cell_type": "code",
   "execution_count": 571,
   "id": "72c3a116-90bc-454c-aaec-08a897fc4e31",
   "metadata": {
    "colab": {
     "base_uri": "https://localhost:8080/",
     "height": 435
    },
    "id": "72c3a116-90bc-454c-aaec-08a897fc4e31",
    "outputId": "34a9b139-a1cc-466c-bddd-00241f77138e"
   },
   "outputs": [
    {
     "data": {
      "text/html": [
       "<div>\n",
       "<style scoped>\n",
       "    .dataframe tbody tr th:only-of-type {\n",
       "        vertical-align: middle;\n",
       "    }\n",
       "\n",
       "    .dataframe tbody tr th {\n",
       "        vertical-align: top;\n",
       "    }\n",
       "\n",
       "    .dataframe thead th {\n",
       "        text-align: right;\n",
       "    }\n",
       "</style>\n",
       "<table border=\"1\" class=\"dataframe\">\n",
       "  <thead>\n",
       "    <tr style=\"text-align: right;\">\n",
       "      <th></th>\n",
       "      <th>Unnamed: 0</th>\n",
       "      <th>Unnamed: 1</th>\n",
       "      <th>Unnamed: 2</th>\n",
       "      <th>CATEGORIA</th>\n",
       "      <th>MODALIDADE</th>\n",
       "      <th>DIA DA SEMANA</th>\n",
       "      <th>HORÁRIO</th>\n",
       "      <th>AUX.1</th>\n",
       "      <th>TURNO</th>\n",
       "      <th>AUX 2</th>\n",
       "      <th>...</th>\n",
       "      <th>2024-10-25 00:00:00</th>\n",
       "      <th>2024-10-28 00:00:00</th>\n",
       "      <th>2024-10-29 00:00:00</th>\n",
       "      <th>2024-10-30 00:00:00</th>\n",
       "      <th>2024-10-31 00:00:00</th>\n",
       "      <th>Média alunos p/ professor</th>\n",
       "      <th>Média</th>\n",
       "      <th>Alunos/professor</th>\n",
       "      <th>Ocupação Máxima</th>\n",
       "      <th>Professor</th>\n",
       "    </tr>\n",
       "  </thead>\n",
       "  <tbody>\n",
       "    <tr>\n",
       "      <th>95</th>\n",
       "      <td>NaN</td>\n",
       "      <td>NaN</td>\n",
       "      <td>NaN</td>\n",
       "      <td>MUSC - C/P</td>\n",
       "      <td>A - MUSCULAÇÃO COM PERSONAL</td>\n",
       "      <td>seg, ter, qua, qui, sex</td>\n",
       "      <td>21:00:00</td>\n",
       "      <td>21:00</td>\n",
       "      <td>NOITE</td>\n",
       "      <td>A - MUSCULAÇÃO COM PERSONAL - 21:00</td>\n",
       "      <td>...</td>\n",
       "      <td>7</td>\n",
       "      <td>6</td>\n",
       "      <td>8</td>\n",
       "      <td>NaN</td>\n",
       "      <td>NaN</td>\n",
       "      <td>21</td>\n",
       "      <td>7.380952</td>\n",
       "      <td>NaN</td>\n",
       "      <td>NaN</td>\n",
       "      <td>0.0</td>\n",
       "    </tr>\n",
       "    <tr>\n",
       "      <th>96</th>\n",
       "      <td>NaN</td>\n",
       "      <td>NaN</td>\n",
       "      <td>NaN</td>\n",
       "      <td>MUSC - S/P</td>\n",
       "      <td>A - MUSCULAÇÃO SEM PERSONAL</td>\n",
       "      <td>seg, ter, qua, qui, sex</td>\n",
       "      <td>21:00:00</td>\n",
       "      <td>21:00</td>\n",
       "      <td>NOITE</td>\n",
       "      <td>A - MUSCULAÇÃO SEM PERSONAL - 21:00</td>\n",
       "      <td>...</td>\n",
       "      <td>25</td>\n",
       "      <td>29</td>\n",
       "      <td>35</td>\n",
       "      <td>NaN</td>\n",
       "      <td>NaN</td>\n",
       "      <td>21</td>\n",
       "      <td>30.095238</td>\n",
       "      <td>10.5</td>\n",
       "      <td>NaN</td>\n",
       "      <td>2.0</td>\n",
       "    </tr>\n",
       "    <tr>\n",
       "      <th>97</th>\n",
       "      <td>NaN</td>\n",
       "      <td>NaN</td>\n",
       "      <td>NaN</td>\n",
       "      <td>MUSC - S/P</td>\n",
       "      <td>A - MUSCULAÇÃO SEM PERSONAL</td>\n",
       "      <td>seg, ter, qua, qui, sex</td>\n",
       "      <td>22:00:00</td>\n",
       "      <td>22:00</td>\n",
       "      <td>NOITE</td>\n",
       "      <td>A - MUSCULAÇÃO SEM PERSONAL - 22:00</td>\n",
       "      <td>...</td>\n",
       "      <td>6</td>\n",
       "      <td>11</td>\n",
       "      <td>12</td>\n",
       "      <td>NaN</td>\n",
       "      <td>NaN</td>\n",
       "      <td>21</td>\n",
       "      <td>9.619048</td>\n",
       "      <td>21.0</td>\n",
       "      <td>NaN</td>\n",
       "      <td>1.0</td>\n",
       "    </tr>\n",
       "  </tbody>\n",
       "</table>\n",
       "<p>3 rows × 40 columns</p>\n",
       "</div>"
      ],
      "text/plain": [
       "    Unnamed: 0  Unnamed: 1  Unnamed: 2   CATEGORIA  \\\n",
       "95         NaN         NaN         NaN  MUSC - C/P   \n",
       "96         NaN         NaN         NaN  MUSC - S/P   \n",
       "97         NaN         NaN         NaN  MUSC - S/P   \n",
       "\n",
       "                     MODALIDADE            DIA DA SEMANA   HORÁRIO  AUX.1  \\\n",
       "95  A - MUSCULAÇÃO COM PERSONAL  seg, ter, qua, qui, sex  21:00:00  21:00   \n",
       "96  A - MUSCULAÇÃO SEM PERSONAL  seg, ter, qua, qui, sex  21:00:00  21:00   \n",
       "97  A - MUSCULAÇÃO SEM PERSONAL  seg, ter, qua, qui, sex  22:00:00  22:00   \n",
       "\n",
       "    TURNO                                AUX 2  ... 2024-10-25 00:00:00  \\\n",
       "95  NOITE  A - MUSCULAÇÃO COM PERSONAL - 21:00  ...                   7   \n",
       "96  NOITE  A - MUSCULAÇÃO SEM PERSONAL - 21:00  ...                  25   \n",
       "97  NOITE  A - MUSCULAÇÃO SEM PERSONAL - 22:00  ...                   6   \n",
       "\n",
       "   2024-10-28 00:00:00 2024-10-29 00:00:00 2024-10-30 00:00:00  \\\n",
       "95                   6                   8                 NaN   \n",
       "96                  29                  35                 NaN   \n",
       "97                  11                  12                 NaN   \n",
       "\n",
       "   2024-10-31 00:00:00 Média alunos p/ professor      Média Alunos/professor  \\\n",
       "95                 NaN                        21   7.380952              NaN   \n",
       "96                 NaN                        21  30.095238             10.5   \n",
       "97                 NaN                        21   9.619048             21.0   \n",
       "\n",
       "   Ocupação Máxima Professor  \n",
       "95             NaN       0.0  \n",
       "96             NaN       2.0  \n",
       "97             NaN       1.0  \n",
       "\n",
       "[3 rows x 40 columns]"
      ]
     },
     "execution_count": 571,
     "metadata": {},
     "output_type": "execute_result"
    }
   ],
   "source": [
    "dataEUS.tail(3)"
   ]
  },
  {
   "cell_type": "code",
   "execution_count": 572,
   "id": "557ffebc-07d5-4a5b-a806-85ef4c5fff45",
   "metadata": {
    "colab": {
     "base_uri": "https://localhost:8080/",
     "height": 1000
    },
    "id": "557ffebc-07d5-4a5b-a806-85ef4c5fff45",
    "outputId": "64bad94d-2ece-441c-9c6a-14c007ae4f28"
   },
   "outputs": [
    {
     "data": {
      "text/plain": [
       "Unnamed: 0                                                   NaN\n",
       "Unnamed: 1                                                   NaN\n",
       "Unnamed: 2                                                   NaN\n",
       "CATEGORIA                                             MUSC - S/P\n",
       "MODALIDADE                           A - MUSCULAÇÃO SEM PERSONAL\n",
       "DIA DA SEMANA                            seg, ter, qua, qui, sex\n",
       "HORÁRIO                                                 22:00:00\n",
       "AUX.1                                                      22:00\n",
       "TURNO                                                      NOITE\n",
       "AUX 2                        A - MUSCULAÇÃO SEM PERSONAL - 22:00\n",
       "PROFESSOR                                                   JUAN\n",
       "AUX 3                         A - MUSCULAÇÃO SEM PERSONAL - JUAN\n",
       "2024-10-01 00:00:00                                           15\n",
       "2024-10-02 00:00:00                                           10\n",
       "2024-10-03 00:00:00                                           19\n",
       "2024-10-04 00:00:00                                           12\n",
       "2024-10-07 00:00:00                                            8\n",
       "2024-10-08 00:00:00                                            7\n",
       "2024-10-09 00:00:00                                           10\n",
       "2024-10-10 00:00:00                                            7\n",
       "2024-10-11 00:00:00                                            9\n",
       "2024-10-14 00:00:00                                           12\n",
       "2024-10-15 00:00:00                                            8\n",
       "2024-10-16 00:00:00                                           11\n",
       "2024-10-17 00:00:00                                            7\n",
       "2024-10-18 00:00:00                                            6\n",
       "2024-10-21 00:00:00                                            6\n",
       "2024-10-22 00:00:00                                            8\n",
       "2024-10-23 00:00:00                                           11\n",
       "2024-10-24 00:00:00                                            7\n",
       "2024-10-25 00:00:00                                            6\n",
       "2024-10-28 00:00:00                                           11\n",
       "2024-10-29 00:00:00                                           12\n",
       "2024-10-30 00:00:00                                          NaN\n",
       "2024-10-31 00:00:00                                          NaN\n",
       "Média alunos p/ professor                                     21\n",
       "Média                                                   9.619048\n",
       "Alunos/professor                                            21.0\n",
       "Ocupação Máxima                                              NaN\n",
       "Professor                                                    1.0\n",
       "Name: 97, dtype: object"
      ]
     },
     "execution_count": 572,
     "metadata": {},
     "output_type": "execute_result"
    }
   ],
   "source": [
    "dataEUS.iloc[97]"
   ]
  },
  {
   "cell_type": "code",
   "execution_count": 573,
   "id": "4df8bf4e-d156-487b-a36e-9ec51c858f23",
   "metadata": {
    "colab": {
     "base_uri": "https://localhost:8080/"
    },
    "id": "4df8bf4e-d156-487b-a36e-9ec51c858f23",
    "outputId": "8b6dbedc-01b8-4e55-e80a-836f27a239bd"
   },
   "outputs": [
    {
     "data": {
      "text/plain": [
       "Index([               'Unnamed: 0',                'Unnamed: 1',\n",
       "                      'Unnamed: 2',                 'CATEGORIA',\n",
       "                      'MODALIDADE',             'DIA DA SEMANA',\n",
       "                         'HORÁRIO',                     'AUX.1',\n",
       "                           'TURNO',                     'AUX 2',\n",
       "                       'PROFESSOR',                     'AUX 3',\n",
       "               2024-10-01 00:00:00,         2024-10-02 00:00:00,\n",
       "               2024-10-03 00:00:00,         2024-10-04 00:00:00,\n",
       "               2024-10-07 00:00:00,         2024-10-08 00:00:00,\n",
       "               2024-10-09 00:00:00,         2024-10-10 00:00:00,\n",
       "               2024-10-11 00:00:00,         2024-10-14 00:00:00,\n",
       "               2024-10-15 00:00:00,         2024-10-16 00:00:00,\n",
       "               2024-10-17 00:00:00,         2024-10-18 00:00:00,\n",
       "               2024-10-21 00:00:00,         2024-10-22 00:00:00,\n",
       "               2024-10-23 00:00:00,         2024-10-24 00:00:00,\n",
       "               2024-10-25 00:00:00,         2024-10-28 00:00:00,\n",
       "               2024-10-29 00:00:00,         2024-10-30 00:00:00,\n",
       "               2024-10-31 00:00:00, 'Média alunos p/ professor',\n",
       "                           'Média',          'Alunos/professor',\n",
       "                 'Ocupação Máxima',                 'Professor'],\n",
       "      dtype='object')"
      ]
     },
     "execution_count": 573,
     "metadata": {},
     "output_type": "execute_result"
    }
   ],
   "source": [
    "dataEUS.columns"
   ]
  },
  {
   "cell_type": "code",
   "execution_count": 574,
   "id": "7914ac8c-d922-435f-81f4-db6c18927e7b",
   "metadata": {
    "colab": {
     "base_uri": "https://localhost:8080/",
     "height": 143
    },
    "id": "7914ac8c-d922-435f-81f4-db6c18927e7b",
    "outputId": "33e54ee0-a62c-4b50-d410-095b7181ba62"
   },
   "outputs": [
    {
     "data": {
      "text/html": [
       "<div>\n",
       "<style scoped>\n",
       "    .dataframe tbody tr th:only-of-type {\n",
       "        vertical-align: middle;\n",
       "    }\n",
       "\n",
       "    .dataframe tbody tr th {\n",
       "        vertical-align: top;\n",
       "    }\n",
       "\n",
       "    .dataframe thead th {\n",
       "        text-align: right;\n",
       "    }\n",
       "</style>\n",
       "<table border=\"1\" class=\"dataframe\">\n",
       "  <thead>\n",
       "    <tr style=\"text-align: right;\">\n",
       "      <th></th>\n",
       "      <th>Unnamed: 0</th>\n",
       "      <th>Unnamed: 1</th>\n",
       "      <th>Unnamed: 2</th>\n",
       "      <th>HORÁRIO</th>\n",
       "      <th>AUX 2</th>\n",
       "      <th>AUX 3</th>\n",
       "    </tr>\n",
       "  </thead>\n",
       "  <tbody>\n",
       "    <tr>\n",
       "      <th>0</th>\n",
       "      <td>NaN</td>\n",
       "      <td>NaN</td>\n",
       "      <td>NaN</td>\n",
       "      <td>06:00:00</td>\n",
       "      <td>A - MUSCULAÇÃO COM PERSONAL - 06:00</td>\n",
       "      <td>A - MUSCULAÇÃO COM PERSONAL - ISAQUIEL</td>\n",
       "    </tr>\n",
       "    <tr>\n",
       "      <th>1</th>\n",
       "      <td>NaN</td>\n",
       "      <td>NaN</td>\n",
       "      <td>NaN</td>\n",
       "      <td>06:00:00</td>\n",
       "      <td>A - MUSCULAÇÃO SEM PERSONAL - 06:00</td>\n",
       "      <td>A - MUSCULAÇÃO SEM PERSONAL - ISAQUIEL</td>\n",
       "    </tr>\n",
       "    <tr>\n",
       "      <th>2</th>\n",
       "      <td>NaN</td>\n",
       "      <td>NaN</td>\n",
       "      <td>NaN</td>\n",
       "      <td>06:00:00</td>\n",
       "      <td>CROSSFIT - 06:00</td>\n",
       "      <td>CROSSFIT - BRUNO</td>\n",
       "    </tr>\n",
       "  </tbody>\n",
       "</table>\n",
       "</div>"
      ],
      "text/plain": [
       "   Unnamed: 0  Unnamed: 1  Unnamed: 2   HORÁRIO  \\\n",
       "0         NaN         NaN         NaN  06:00:00   \n",
       "1         NaN         NaN         NaN  06:00:00   \n",
       "2         NaN         NaN         NaN  06:00:00   \n",
       "\n",
       "                                 AUX 2                                   AUX 3  \n",
       "0  A - MUSCULAÇÃO COM PERSONAL - 06:00  A - MUSCULAÇÃO COM PERSONAL - ISAQUIEL  \n",
       "1  A - MUSCULAÇÃO SEM PERSONAL - 06:00  A - MUSCULAÇÃO SEM PERSONAL - ISAQUIEL  \n",
       "2                     CROSSFIT - 06:00                        CROSSFIT - BRUNO  "
      ]
     },
     "execution_count": 574,
     "metadata": {},
     "output_type": "execute_result"
    }
   ],
   "source": [
    "dataEUS[['Unnamed: 0', 'Unnamed: 1', 'Unnamed: 2', 'HORÁRIO', 'AUX 2', 'AUX 3']].head(3)"
   ]
  },
  {
   "cell_type": "code",
   "execution_count": 575,
   "id": "28f54317-be52-4a0a-b99b-110560ff04dc",
   "metadata": {
    "id": "28f54317-be52-4a0a-b99b-110560ff04dc"
   },
   "outputs": [],
   "source": [
    "dropColumns = ['Unnamed: 0', 'Unnamed: 1', 'Unnamed: 2', 'HORÁRIO', 'AUX 2', 'AUX 3']"
   ]
  },
  {
   "cell_type": "code",
   "execution_count": 576,
   "id": "4243755b-f3fa-4712-8072-b4e59dca4367",
   "metadata": {
    "id": "4243755b-f3fa-4712-8072-b4e59dca4367"
   },
   "outputs": [],
   "source": [
    "dataEUS.drop(columns=dropColumns, inplace=True)"
   ]
  },
  {
   "cell_type": "markdown",
   "id": "12c86ca0-1f8e-4cff-9f4e-af7a0d31636c",
   "metadata": {
    "id": "12c86ca0-1f8e-4cff-9f4e-af7a0d31636c"
   },
   "source": [
    "- PRECISAMOS RENOMEAR A COLUNA AUX.1 COMO HORARIO"
   ]
  },
  {
   "cell_type": "code",
   "execution_count": 577,
   "id": "5b7a2f11-f16b-4635-babd-c481fb71e823",
   "metadata": {
    "id": "5b7a2f11-f16b-4635-babd-c481fb71e823"
   },
   "outputs": [],
   "source": [
    "dataEUS.rename(columns={'AUX.1': 'HORÁRIO'}, inplace=True)"
   ]
  },
  {
   "cell_type": "code",
   "execution_count": 578,
   "id": "d072e6f3-8456-4243-8485-5756074bf37d",
   "metadata": {
    "colab": {
     "base_uri": "https://localhost:8080/",
     "height": 435
    },
    "id": "d072e6f3-8456-4243-8485-5756074bf37d",
    "outputId": "a3cb8c96-0b59-4fdd-e34a-fbb929ae92c6"
   },
   "outputs": [
    {
     "data": {
      "text/html": [
       "<div>\n",
       "<style scoped>\n",
       "    .dataframe tbody tr th:only-of-type {\n",
       "        vertical-align: middle;\n",
       "    }\n",
       "\n",
       "    .dataframe tbody tr th {\n",
       "        vertical-align: top;\n",
       "    }\n",
       "\n",
       "    .dataframe thead th {\n",
       "        text-align: right;\n",
       "    }\n",
       "</style>\n",
       "<table border=\"1\" class=\"dataframe\">\n",
       "  <thead>\n",
       "    <tr style=\"text-align: right;\">\n",
       "      <th></th>\n",
       "      <th>CATEGORIA</th>\n",
       "      <th>MODALIDADE</th>\n",
       "      <th>DIA DA SEMANA</th>\n",
       "      <th>HORÁRIO</th>\n",
       "      <th>TURNO</th>\n",
       "      <th>PROFESSOR</th>\n",
       "      <th>2024-10-01 00:00:00</th>\n",
       "      <th>2024-10-02 00:00:00</th>\n",
       "      <th>2024-10-03 00:00:00</th>\n",
       "      <th>2024-10-04 00:00:00</th>\n",
       "      <th>...</th>\n",
       "      <th>2024-10-25 00:00:00</th>\n",
       "      <th>2024-10-28 00:00:00</th>\n",
       "      <th>2024-10-29 00:00:00</th>\n",
       "      <th>2024-10-30 00:00:00</th>\n",
       "      <th>2024-10-31 00:00:00</th>\n",
       "      <th>Média alunos p/ professor</th>\n",
       "      <th>Média</th>\n",
       "      <th>Alunos/professor</th>\n",
       "      <th>Ocupação Máxima</th>\n",
       "      <th>Professor</th>\n",
       "    </tr>\n",
       "  </thead>\n",
       "  <tbody>\n",
       "    <tr>\n",
       "      <th>0</th>\n",
       "      <td>MUSC - C/P</td>\n",
       "      <td>A - MUSCULAÇÃO COM PERSONAL</td>\n",
       "      <td>seg, ter, qua, qui, sex</td>\n",
       "      <td>06:00</td>\n",
       "      <td>MANHÃ</td>\n",
       "      <td>ISAQUIEL</td>\n",
       "      <td>47</td>\n",
       "      <td>58</td>\n",
       "      <td>52</td>\n",
       "      <td>50</td>\n",
       "      <td>...</td>\n",
       "      <td>52</td>\n",
       "      <td>44</td>\n",
       "      <td>37</td>\n",
       "      <td>NaN</td>\n",
       "      <td>16</td>\n",
       "      <td>22</td>\n",
       "      <td>41.727273</td>\n",
       "      <td>NaN</td>\n",
       "      <td>NaN</td>\n",
       "      <td>0.0</td>\n",
       "    </tr>\n",
       "    <tr>\n",
       "      <th>1</th>\n",
       "      <td>MUSC - S/P</td>\n",
       "      <td>A - MUSCULAÇÃO SEM PERSONAL</td>\n",
       "      <td>seg, ter, qua, qui, sex</td>\n",
       "      <td>06:00</td>\n",
       "      <td>MANHÃ</td>\n",
       "      <td>ISAQUIEL</td>\n",
       "      <td>40</td>\n",
       "      <td>66</td>\n",
       "      <td>39</td>\n",
       "      <td>42</td>\n",
       "      <td>...</td>\n",
       "      <td>50</td>\n",
       "      <td>40</td>\n",
       "      <td>42</td>\n",
       "      <td>NaN</td>\n",
       "      <td>24</td>\n",
       "      <td>22</td>\n",
       "      <td>37.636364</td>\n",
       "      <td>7.333333</td>\n",
       "      <td>NaN</td>\n",
       "      <td>3.0</td>\n",
       "    </tr>\n",
       "    <tr>\n",
       "      <th>2</th>\n",
       "      <td>ADULTO</td>\n",
       "      <td>CROSSFIT</td>\n",
       "      <td>seg, ter, qua, qui, sex</td>\n",
       "      <td>06:00</td>\n",
       "      <td>MANHÃ</td>\n",
       "      <td>BRUNO</td>\n",
       "      <td>10</td>\n",
       "      <td>12</td>\n",
       "      <td>11</td>\n",
       "      <td>8</td>\n",
       "      <td>...</td>\n",
       "      <td>11</td>\n",
       "      <td>10</td>\n",
       "      <td>9</td>\n",
       "      <td>NaN</td>\n",
       "      <td>NaN</td>\n",
       "      <td>21</td>\n",
       "      <td>10.285714</td>\n",
       "      <td>NaN</td>\n",
       "      <td>NaN</td>\n",
       "      <td>0.0</td>\n",
       "    </tr>\n",
       "  </tbody>\n",
       "</table>\n",
       "<p>3 rows × 34 columns</p>\n",
       "</div>"
      ],
      "text/plain": [
       "    CATEGORIA                   MODALIDADE            DIA DA SEMANA HORÁRIO  \\\n",
       "0  MUSC - C/P  A - MUSCULAÇÃO COM PERSONAL  seg, ter, qua, qui, sex   06:00   \n",
       "1  MUSC - S/P  A - MUSCULAÇÃO SEM PERSONAL  seg, ter, qua, qui, sex   06:00   \n",
       "2      ADULTO                     CROSSFIT  seg, ter, qua, qui, sex   06:00   \n",
       "\n",
       "   TURNO PROFESSOR 2024-10-01 00:00:00 2024-10-02 00:00:00  \\\n",
       "0  MANHÃ  ISAQUIEL                  47                  58   \n",
       "1  MANHÃ  ISAQUIEL                  40                  66   \n",
       "2  MANHÃ     BRUNO                  10                  12   \n",
       "\n",
       "  2024-10-03 00:00:00 2024-10-04 00:00:00  ... 2024-10-25 00:00:00  \\\n",
       "0                  52                  50  ...                  52   \n",
       "1                  39                  42  ...                  50   \n",
       "2                  11                   8  ...                  11   \n",
       "\n",
       "  2024-10-28 00:00:00 2024-10-29 00:00:00 2024-10-30 00:00:00  \\\n",
       "0                  44                  37                 NaN   \n",
       "1                  40                  42                 NaN   \n",
       "2                  10                   9                 NaN   \n",
       "\n",
       "  2024-10-31 00:00:00 Média alunos p/ professor      Média Alunos/professor  \\\n",
       "0                  16                        22  41.727273              NaN   \n",
       "1                  24                        22  37.636364         7.333333   \n",
       "2                 NaN                        21  10.285714              NaN   \n",
       "\n",
       "  Ocupação Máxima Professor  \n",
       "0             NaN       0.0  \n",
       "1             NaN       3.0  \n",
       "2             NaN       0.0  \n",
       "\n",
       "[3 rows x 34 columns]"
      ]
     },
     "execution_count": 578,
     "metadata": {},
     "output_type": "execute_result"
    }
   ],
   "source": [
    "dataEUS.head(3)"
   ]
  },
  {
   "cell_type": "markdown",
   "id": "99cc950d-b611-4fe7-8c56-3c61894df8fd",
   "metadata": {
    "id": "99cc950d-b611-4fe7-8c56-3c61894df8fd"
   },
   "source": [
    "### 2 PASSO: Renomeando strings de datas, para que o pandas possa aceitar como colunas"
   ]
  },
  {
   "cell_type": "code",
   "execution_count": 579,
   "id": "77024e6e-a061-4fb1-938b-0cacb5885b76",
   "metadata": {
    "colab": {
     "base_uri": "https://localhost:8080/"
    },
    "id": "77024e6e-a061-4fb1-938b-0cacb5885b76",
    "outputId": "cc44d96e-54f2-44c5-bb2d-91008788cd8d"
   },
   "outputs": [
    {
     "name": "stdout",
     "output_type": "stream",
     "text": [
      "CATEGORIA\n",
      "MODALIDADE\n",
      "DIA DA SEMANA\n",
      "HORÁRIO\n",
      "TURNO\n",
      "PROFESSOR\n",
      "2024-10-01 00:00:00\n",
      "2024-10-02 00:00:00\n",
      "2024-10-03 00:00:00\n",
      "2024-10-04 00:00:00\n",
      "2024-10-07 00:00:00\n",
      "2024-10-08 00:00:00\n",
      "2024-10-09 00:00:00\n",
      "2024-10-10 00:00:00\n",
      "2024-10-11 00:00:00\n",
      "2024-10-14 00:00:00\n",
      "2024-10-15 00:00:00\n",
      "2024-10-16 00:00:00\n",
      "2024-10-17 00:00:00\n",
      "2024-10-18 00:00:00\n",
      "2024-10-21 00:00:00\n",
      "2024-10-22 00:00:00\n",
      "2024-10-23 00:00:00\n",
      "2024-10-24 00:00:00\n",
      "2024-10-25 00:00:00\n",
      "2024-10-28 00:00:00\n",
      "2024-10-29 00:00:00\n",
      "2024-10-30 00:00:00\n",
      "2024-10-31 00:00:00\n",
      "Média alunos p/ professor\n",
      "Média\n",
      "Alunos/professor\n",
      "Ocupação Máxima\n",
      "Professor\n"
     ]
    }
   ],
   "source": [
    "for columns in dataEUS.columns:\n",
    "    print(columns)"
   ]
  },
  {
   "cell_type": "code",
   "execution_count": 580,
   "id": "53772efa-e03f-4a2e-90e4-4c42cd1a0647",
   "metadata": {
    "id": "53772efa-e03f-4a2e-90e4-4c42cd1a0647"
   },
   "outputs": [],
   "source": [
    "dataEUS.columns = [\n",
    "'CATEGORIA',\n",
    "'MODALIDADE',\n",
    "'DIA DA SEMANA',\n",
    "'HORÁRIO',\n",
    "'TURNO',\n",
    "'PROFESSOR',\n",
    "'2024-10-01 00:00:00',\n",
    "'2024-10-02 00:00:00',\n",
    "'2024-10-03 00:00:00',\n",
    "'2024-10-04 00:00:00',\n",
    "'2024-10-07 00:00:00',\n",
    "'2024-10-08 00:00:00',\n",
    "'2024-10-09 00:00:00',\n",
    "'2024-10-10 00:00:00',\n",
    "'2024-10-11 00:00:00',\n",
    "'2024-10-14 00:00:00',\n",
    "'2024-10-15 00:00:00',\n",
    "'2024-10-16 00:00:00',\n",
    "'2024-10-17 00:00:00',\n",
    "'2024-10-18 00:00:00',\n",
    "'2024-10-21 00:00:00',\n",
    "'2024-10-22 00:00:00',\n",
    "'2024-10-23 00:00:00',\n",
    "'2024-10-24 00:00:00',\n",
    "'2024-10-25 00:00:00',\n",
    "'2024-10-28 00:00:00',\n",
    "'2024-10-29 00:00:00',\n",
    "'2024-10-30 00:00:00',\n",
    "'2024-10-31 00:00:00',\n",
    "'Média alunos p/ professor',\n",
    "'Média',\n",
    "'Alunos/professor',\n",
    "'Ocupação Máxima',\n",
    "'Professor',\n",
    "]"
   ]
  },
  {
   "cell_type": "code",
   "execution_count": 581,
   "id": "cced19a1-0dc3-4a97-a012-1d22535dffc0",
   "metadata": {
    "colab": {
     "base_uri": "https://localhost:8080/"
    },
    "id": "cced19a1-0dc3-4a97-a012-1d22535dffc0",
    "outputId": "193638eb-1874-4ad8-db7d-58e5bc0053f2"
   },
   "outputs": [
    {
     "data": {
      "text/plain": [
       "Index(['CATEGORIA', 'MODALIDADE', 'DIA DA SEMANA', 'HORÁRIO', 'TURNO',\n",
       "       'PROFESSOR', '2024-10-01 00:00:00', '2024-10-02 00:00:00',\n",
       "       '2024-10-03 00:00:00', '2024-10-04 00:00:00', '2024-10-07 00:00:00',\n",
       "       '2024-10-08 00:00:00', '2024-10-09 00:00:00', '2024-10-10 00:00:00',\n",
       "       '2024-10-11 00:00:00', '2024-10-14 00:00:00', '2024-10-15 00:00:00',\n",
       "       '2024-10-16 00:00:00', '2024-10-17 00:00:00', '2024-10-18 00:00:00',\n",
       "       '2024-10-21 00:00:00', '2024-10-22 00:00:00', '2024-10-23 00:00:00',\n",
       "       '2024-10-24 00:00:00', '2024-10-25 00:00:00', '2024-10-28 00:00:00',\n",
       "       '2024-10-29 00:00:00', '2024-10-30 00:00:00', '2024-10-31 00:00:00',\n",
       "       'Média alunos p/ professor', 'Média', 'Alunos/professor',\n",
       "       'Ocupação Máxima', 'Professor'],\n",
       "      dtype='object')"
      ]
     },
     "execution_count": 581,
     "metadata": {},
     "output_type": "execute_result"
    }
   ],
   "source": [
    "dataEUS.columns"
   ]
  },
  {
   "cell_type": "markdown",
   "id": "cf40e3b9-8005-4fad-bb16-f611d120ecf5",
   "metadata": {
    "id": "cf40e3b9-8005-4fad-bb16-f611d120ecf5"
   },
   "source": [
    "### PASSO 3: Escolhendo colunas com o nome de 'datas', para renomear pelo o tipo dia, mês e ano. e removendo os 00 de horas"
   ]
  },
  {
   "cell_type": "code",
   "execution_count": 582,
   "id": "b0e94cb3-5f25-444d-a926-6f0302739eda",
   "metadata": {
    "id": "b0e94cb3-5f25-444d-a926-6f0302739eda"
   },
   "outputs": [],
   "source": [
    "colunas = [\n",
    "'2024-10-01 00:00:00',\n",
    "'2024-10-02 00:00:00',\n",
    "'2024-10-03 00:00:00',\n",
    "'2024-10-04 00:00:00',\n",
    "'2024-10-07 00:00:00',\n",
    "'2024-10-08 00:00:00',\n",
    "'2024-10-09 00:00:00',\n",
    "'2024-10-10 00:00:00',\n",
    "'2024-10-11 00:00:00',\n",
    "'2024-10-14 00:00:00',\n",
    "'2024-10-15 00:00:00',\n",
    "'2024-10-16 00:00:00',\n",
    "'2024-10-17 00:00:00',\n",
    "'2024-10-18 00:00:00',\n",
    "'2024-10-21 00:00:00',\n",
    "'2024-10-22 00:00:00',\n",
    "'2024-10-23 00:00:00',\n",
    "'2024-10-24 00:00:00',\n",
    "'2024-10-25 00:00:00',\n",
    "'2024-10-28 00:00:00',\n",
    "'2024-10-29 00:00:00',\n",
    "'2024-10-30 00:00:00',\n",
    "'2024-10-31 00:00:00',\n",
    "]"
   ]
  },
  {
   "cell_type": "code",
   "execution_count": 583,
   "id": "7b7343b5-8b3d-43a1-a942-9558448938ed",
   "metadata": {
    "id": "7b7343b5-8b3d-43a1-a942-9558448938ed"
   },
   "outputs": [],
   "source": [
    "novas_colunas_EUS = []"
   ]
  },
  {
   "cell_type": "code",
   "execution_count": 584,
   "id": "e53a61e3-3b7e-48f6-91b6-a672ff695608",
   "metadata": {
    "id": "e53a61e3-3b7e-48f6-91b6-a672ff695608"
   },
   "outputs": [],
   "source": [
    "for columns in colunas:\n",
    "    # Remove a parte da hora\n",
    "    data_sem_hora = columns.split(' ')[0]\n",
    "\n",
    "    # Formata para o formato DD-MM-YYYY\n",
    "    ano, mes, dia = data_sem_hora.split('-')\n",
    "    novo_nome = f'{dia}-{mes}-{ano}'\n",
    "    novas_colunas_EUS.append(novo_nome)"
   ]
  },
  {
   "cell_type": "code",
   "execution_count": 585,
   "id": "0b5c50eb-d19f-43df-9fd4-7e385553eec7",
   "metadata": {
    "colab": {
     "base_uri": "https://localhost:8080/"
    },
    "id": "0b5c50eb-d19f-43df-9fd4-7e385553eec7",
    "outputId": "95fa9e95-2b1f-402e-b1e3-6be15b0ac8a4"
   },
   "outputs": [
    {
     "data": {
      "text/plain": [
       "['01-10-2024',\n",
       " '02-10-2024',\n",
       " '03-10-2024',\n",
       " '04-10-2024',\n",
       " '07-10-2024',\n",
       " '08-10-2024',\n",
       " '09-10-2024',\n",
       " '10-10-2024',\n",
       " '11-10-2024',\n",
       " '14-10-2024',\n",
       " '15-10-2024',\n",
       " '16-10-2024',\n",
       " '17-10-2024',\n",
       " '18-10-2024',\n",
       " '21-10-2024',\n",
       " '22-10-2024',\n",
       " '23-10-2024',\n",
       " '24-10-2024',\n",
       " '25-10-2024',\n",
       " '28-10-2024',\n",
       " '29-10-2024',\n",
       " '30-10-2024',\n",
       " '31-10-2024']"
      ]
     },
     "execution_count": 585,
     "metadata": {},
     "output_type": "execute_result"
    }
   ],
   "source": [
    "novas_colunas_EUS"
   ]
  },
  {
   "cell_type": "markdown",
   "id": "a3b285a9-cc05-46a8-9bbb-4e31f5cf9e2b",
   "metadata": {
    "id": "a3b285a9-cc05-46a8-9bbb-4e31f5cf9e2b"
   },
   "source": [
    "### PASSO 4 renomeando colunas e acrescentando o novo formato"
   ]
  },
  {
   "cell_type": "markdown",
   "id": "e9f0f8ce-47fd-4b09-a61f-c8ed53ab74e6",
   "metadata": {
    "id": "e9f0f8ce-47fd-4b09-a61f-c8ed53ab74e6"
   },
   "source": [
    "copie as colunas que escolheu para renomear, e cole o formato novo no lugar das velhas"
   ]
  },
  {
   "cell_type": "code",
   "execution_count": 586,
   "id": "c25bc84e-9608-455c-bb66-11de5b017a16",
   "metadata": {
    "id": "c25bc84e-9608-455c-bb66-11de5b017a16"
   },
   "outputs": [],
   "source": [
    "# Adicionando as datas formatadas as colunas, copiando e colando"
   ]
  },
  {
   "cell_type": "code",
   "execution_count": 587,
   "id": "fdf91e1f-8659-4dcc-a9e3-164fda4abbda",
   "metadata": {
    "colab": {
     "base_uri": "https://localhost:8080/"
    },
    "id": "fdf91e1f-8659-4dcc-a9e3-164fda4abbda",
    "outputId": "8c0e43d7-385c-494c-cfa7-902410513751"
   },
   "outputs": [
    {
     "name": "stdout",
     "output_type": "stream",
     "text": [
      "CATEGORIA\n",
      "MODALIDADE\n",
      "DIA DA SEMANA\n",
      "HORÁRIO\n",
      "TURNO\n",
      "PROFESSOR\n",
      "2024-10-01 00:00:00\n",
      "2024-10-02 00:00:00\n",
      "2024-10-03 00:00:00\n",
      "2024-10-04 00:00:00\n",
      "2024-10-07 00:00:00\n",
      "2024-10-08 00:00:00\n",
      "2024-10-09 00:00:00\n",
      "2024-10-10 00:00:00\n",
      "2024-10-11 00:00:00\n",
      "2024-10-14 00:00:00\n",
      "2024-10-15 00:00:00\n",
      "2024-10-16 00:00:00\n",
      "2024-10-17 00:00:00\n",
      "2024-10-18 00:00:00\n",
      "2024-10-21 00:00:00\n",
      "2024-10-22 00:00:00\n",
      "2024-10-23 00:00:00\n",
      "2024-10-24 00:00:00\n",
      "2024-10-25 00:00:00\n",
      "2024-10-28 00:00:00\n",
      "2024-10-29 00:00:00\n",
      "2024-10-30 00:00:00\n",
      "2024-10-31 00:00:00\n",
      "Média alunos p/ professor\n",
      "Média\n",
      "Alunos/professor\n",
      "Ocupação Máxima\n",
      "Professor\n"
     ]
    }
   ],
   "source": [
    "for columns in dataEUS.columns:\n",
    "    print (columns)"
   ]
  },
  {
   "cell_type": "code",
   "execution_count": 588,
   "id": "e9d5557e-0d72-417c-82f4-5744f645e525",
   "metadata": {
    "id": "e9d5557e-0d72-417c-82f4-5744f645e525"
   },
   "outputs": [],
   "source": [
    "dataEUS.columns = [\n",
    "'CATEGORIA',\n",
    "'MODALIDADE',\n",
    "'DIA DA SEMANA',\n",
    "'HORÁRIO',\n",
    "'TURNO',\n",
    "'PROFESSOR',\n",
    "'01-10-2024',\n",
    "'02-10-2024',\n",
    "'03-10-2024',\n",
    "'04-10-2024',\n",
    "'07-10-2024',\n",
    "'08-10-2024',\n",
    "'09-10-2024',\n",
    "'10-10-2024',\n",
    "'11-10-2024',\n",
    "'14-10-2024',\n",
    "'15-10-2024',\n",
    "'16-10-2024',\n",
    "'17-10-2024',\n",
    "'18-10-2024',\n",
    "'21-10-2024',\n",
    "'22-10-2024',\n",
    "'23-10-2024',\n",
    "'24-10-2024',\n",
    "'25-10-2024',\n",
    "'28-10-2024',\n",
    "'29-10-2024',\n",
    "'30-10-2024',\n",
    "'31-10-2024',\n",
    "'Média alunos p/ professor',\n",
    "'Média',\n",
    "'Alunos/professor',\n",
    "'Ocupação Máxima',\n",
    "'Professor'\n",
    "]"
   ]
  },
  {
   "cell_type": "markdown",
   "id": "5f566854-af4a-432f-8329-7f0bdc50adf5",
   "metadata": {
    "id": "5f566854-af4a-432f-8329-7f0bdc50adf5"
   },
   "source": [
    "### 5 PASSO: Usar o Loop for para substitituir os valores das frequencia de 'x' e 'X' por zero, com o método do pd.to_numeric)"
   ]
  },
  {
   "cell_type": "markdown",
   "id": "1bd4592b-bae0-4b0f-a0f0-f805078074a0",
   "metadata": {
    "id": "1bd4592b-bae0-4b0f-a0f0-f805078074a0"
   },
   "source": [
    "Escolhendo apenas as colunas de datas"
   ]
  },
  {
   "cell_type": "code",
   "execution_count": 589,
   "id": "938457d4-a736-44f7-aa97-cea7bb574665",
   "metadata": {
    "id": "938457d4-a736-44f7-aa97-cea7bb574665"
   },
   "outputs": [],
   "source": [
    "colunas = [\n",
    "'01-10-2024',\n",
    "'02-10-2024',\n",
    "'03-10-2024',\n",
    "'04-10-2024',\n",
    "'07-10-2024',\n",
    "'08-10-2024',\n",
    "'09-10-2024',\n",
    "'10-10-2024',\n",
    "'11-10-2024',\n",
    "'14-10-2024',\n",
    "'15-10-2024',\n",
    "'16-10-2024',\n",
    "'17-10-2024',\n",
    "'18-10-2024',\n",
    "'21-10-2024',\n",
    "'22-10-2024',\n",
    "'23-10-2024',\n",
    "'24-10-2024',\n",
    "'25-10-2024',\n",
    "'28-10-2024',\n",
    "'29-10-2024',\n",
    "'30-10-2024',\n",
    "'31-10-2024',\n",
    "]"
   ]
  },
  {
   "cell_type": "markdown",
   "id": "fd677226-00db-4e03-b1de-a05767afe9ec",
   "metadata": {
    "id": "fd677226-00db-4e03-b1de-a05767afe9ec"
   },
   "source": [
    "Fazendo a limpeza profunda, formatando valores para numeros, preenchendo com zeros os nulos e transformando em inteiros"
   ]
  },
  {
   "cell_type": "code",
   "execution_count": 590,
   "id": "c85dbb00-0fa2-4228-8043-f9c511880e52",
   "metadata": {
    "id": "c85dbb00-0fa2-4228-8043-f9c511880e52"
   },
   "outputs": [],
   "source": [
    "for columns in colunas:\n",
    "    # dataMES[columns] = pd.to_numeric(dataMES[columns], errors='coerce')\n",
    "    dataEUS[columns] = pd.to_numeric(dataEUS[columns], errors='coerce').fillna(0).astype(int)"
   ]
  },
  {
   "cell_type": "markdown",
   "id": "a6866763-c7f0-4342-998b-6849b492e134",
   "metadata": {
    "id": "a6866763-c7f0-4342-998b-6849b492e134"
   },
   "source": [
    "### PASSO 6: MELT derretendo as colunas em formato de datas"
   ]
  },
  {
   "cell_type": "markdown",
   "id": "b4c0906c-6bfa-4722-bc87-e4de3646f73f",
   "metadata": {
    "id": "b4c0906c-6bfa-4722-bc87-e4de3646f73f"
   },
   "source": [
    "o MELT ele pega as colunas que estão na horizontal e cria uma coluna de categorias, e depois ele cria outra coluna com os valores dessas colunas que foram transformadas em dados categóricos"
   ]
  },
  {
   "cell_type": "code",
   "execution_count": 591,
   "id": "7796d794-158a-4de6-8da8-15889f529c03",
   "metadata": {
    "id": "7796d794-158a-4de6-8da8-15889f529c03"
   },
   "outputs": [],
   "source": [
    "colunas_para_melt = [\n",
    "'01-10-2024',\n",
    "'02-10-2024',\n",
    "'03-10-2024',\n",
    "'04-10-2024',\n",
    "'07-10-2024',\n",
    "'08-10-2024',\n",
    "'09-10-2024',\n",
    "'10-10-2024',\n",
    "'11-10-2024',\n",
    "'14-10-2024',\n",
    "'15-10-2024',\n",
    "'16-10-2024',\n",
    "'17-10-2024',\n",
    "'18-10-2024',\n",
    "'21-10-2024',\n",
    "'22-10-2024',\n",
    "'23-10-2024',\n",
    "'24-10-2024',\n",
    "'25-10-2024',\n",
    "'28-10-2024',\n",
    "'29-10-2024',\n",
    "'30-10-2024',\n",
    "'31-10-2024',\n",
    "]"
   ]
  },
  {
   "cell_type": "markdown",
   "id": "013df1b5-c6c5-4d40-973f-f7bac02ceb8c",
   "metadata": {
    "id": "013df1b5-c6c5-4d40-973f-f7bac02ceb8c"
   },
   "source": [
    "#### Indentificando as colunas que Eu quero manter em meu dataframe"
   ]
  },
  {
   "cell_type": "code",
   "execution_count": 592,
   "id": "7076e282-f6d1-4ee4-ad0e-35ec9ebd9f9a",
   "metadata": {
    "id": "7076e282-f6d1-4ee4-ad0e-35ec9ebd9f9a"
   },
   "outputs": [],
   "source": [
    "# Identifica as colunas que você quer manter como identificadoras (id_vars)\n",
    "# São as colunas que não serão \"unpivoted\"\n",
    "id_vars_cols = [columns for columns in dataEUS.columns if columns not in colunas_para_melt]"
   ]
  },
  {
   "cell_type": "code",
   "execution_count": 593,
   "id": "1a5e5d91-0830-4e2f-942f-9b81e00829a9",
   "metadata": {
    "id": "1a5e5d91-0830-4e2f-942f-9b81e00829a9"
   },
   "outputs": [],
   "source": [
    "dataEUS_melted = pd.melt(dataEUS,\n",
    "                      id_vars=id_vars_cols, #colunas que Eu deixei, que ficaram.\n",
    "                      value_vars=colunas_para_melt, #colunas que vão se transformar.\n",
    "                      var_name='Dias de Aulas', # nome da coluna categorica\n",
    "                      value_name='Frequencia de Alunos') # nome da coluna de valores"
   ]
  },
  {
   "cell_type": "code",
   "execution_count": 594,
   "id": "4a6acde6-e45f-4c4e-8fca-9858a6b3ef19",
   "metadata": {
    "colab": {
     "base_uri": "https://localhost:8080/",
     "height": 282
    },
    "id": "4a6acde6-e45f-4c4e-8fca-9858a6b3ef19",
    "outputId": "f6d357a4-79c2-4294-bf1d-27e8472274b2"
   },
   "outputs": [
    {
     "data": {
      "text/html": [
       "<div>\n",
       "<style scoped>\n",
       "    .dataframe tbody tr th:only-of-type {\n",
       "        vertical-align: middle;\n",
       "    }\n",
       "\n",
       "    .dataframe tbody tr th {\n",
       "        vertical-align: top;\n",
       "    }\n",
       "\n",
       "    .dataframe thead th {\n",
       "        text-align: right;\n",
       "    }\n",
       "</style>\n",
       "<table border=\"1\" class=\"dataframe\">\n",
       "  <thead>\n",
       "    <tr style=\"text-align: right;\">\n",
       "      <th></th>\n",
       "      <th>CATEGORIA</th>\n",
       "      <th>MODALIDADE</th>\n",
       "      <th>DIA DA SEMANA</th>\n",
       "      <th>HORÁRIO</th>\n",
       "      <th>TURNO</th>\n",
       "      <th>PROFESSOR</th>\n",
       "      <th>Média alunos p/ professor</th>\n",
       "      <th>Média</th>\n",
       "      <th>Alunos/professor</th>\n",
       "      <th>Ocupação Máxima</th>\n",
       "      <th>Professor</th>\n",
       "      <th>Dias de Aulas</th>\n",
       "      <th>Frequencia de Alunos</th>\n",
       "    </tr>\n",
       "  </thead>\n",
       "  <tbody>\n",
       "    <tr>\n",
       "      <th>0</th>\n",
       "      <td>MUSC - C/P</td>\n",
       "      <td>A - MUSCULAÇÃO COM PERSONAL</td>\n",
       "      <td>seg, ter, qua, qui, sex</td>\n",
       "      <td>06:00</td>\n",
       "      <td>MANHÃ</td>\n",
       "      <td>ISAQUIEL</td>\n",
       "      <td>22</td>\n",
       "      <td>41.727273</td>\n",
       "      <td>NaN</td>\n",
       "      <td>NaN</td>\n",
       "      <td>0.0</td>\n",
       "      <td>01-10-2024</td>\n",
       "      <td>47</td>\n",
       "    </tr>\n",
       "    <tr>\n",
       "      <th>1</th>\n",
       "      <td>MUSC - S/P</td>\n",
       "      <td>A - MUSCULAÇÃO SEM PERSONAL</td>\n",
       "      <td>seg, ter, qua, qui, sex</td>\n",
       "      <td>06:00</td>\n",
       "      <td>MANHÃ</td>\n",
       "      <td>ISAQUIEL</td>\n",
       "      <td>22</td>\n",
       "      <td>37.636364</td>\n",
       "      <td>7.333333</td>\n",
       "      <td>NaN</td>\n",
       "      <td>3.0</td>\n",
       "      <td>01-10-2024</td>\n",
       "      <td>40</td>\n",
       "    </tr>\n",
       "    <tr>\n",
       "      <th>2</th>\n",
       "      <td>ADULTO</td>\n",
       "      <td>CROSSFIT</td>\n",
       "      <td>seg, ter, qua, qui, sex</td>\n",
       "      <td>06:00</td>\n",
       "      <td>MANHÃ</td>\n",
       "      <td>BRUNO</td>\n",
       "      <td>21</td>\n",
       "      <td>10.285714</td>\n",
       "      <td>NaN</td>\n",
       "      <td>NaN</td>\n",
       "      <td>0.0</td>\n",
       "      <td>01-10-2024</td>\n",
       "      <td>10</td>\n",
       "    </tr>\n",
       "  </tbody>\n",
       "</table>\n",
       "</div>"
      ],
      "text/plain": [
       "    CATEGORIA                   MODALIDADE            DIA DA SEMANA HORÁRIO  \\\n",
       "0  MUSC - C/P  A - MUSCULAÇÃO COM PERSONAL  seg, ter, qua, qui, sex   06:00   \n",
       "1  MUSC - S/P  A - MUSCULAÇÃO SEM PERSONAL  seg, ter, qua, qui, sex   06:00   \n",
       "2      ADULTO                     CROSSFIT  seg, ter, qua, qui, sex   06:00   \n",
       "\n",
       "   TURNO PROFESSOR  Média alunos p/ professor      Média  Alunos/professor  \\\n",
       "0  MANHÃ  ISAQUIEL                         22  41.727273               NaN   \n",
       "1  MANHÃ  ISAQUIEL                         22  37.636364          7.333333   \n",
       "2  MANHÃ     BRUNO                         21  10.285714               NaN   \n",
       "\n",
       "   Ocupação Máxima  Professor Dias de Aulas  Frequencia de Alunos  \n",
       "0              NaN        0.0    01-10-2024                    47  \n",
       "1              NaN        3.0    01-10-2024                    40  \n",
       "2              NaN        0.0    01-10-2024                    10  "
      ]
     },
     "execution_count": 594,
     "metadata": {},
     "output_type": "execute_result"
    }
   ],
   "source": [
    "dataEUS_melted.head(3)"
   ]
  },
  {
   "cell_type": "code",
   "execution_count": 595,
   "id": "f84ccd53-f581-46a6-b9a9-9cd8909f5766",
   "metadata": {
    "colab": {
     "base_uri": "https://localhost:8080/"
    },
    "id": "f84ccd53-f581-46a6-b9a9-9cd8909f5766",
    "outputId": "9a1ccb2c-67c9-4a90-8b61-738872766a94"
   },
   "outputs": [
    {
     "data": {
      "text/plain": [
       "np.int64(25089)"
      ]
     },
     "execution_count": 595,
     "metadata": {},
     "output_type": "execute_result"
    }
   ],
   "source": [
    "dataEUS_melted['Frequencia de Alunos'].sum()"
   ]
  },
  {
   "cell_type": "markdown",
   "id": "69f46955-95b7-48a8-ba79-9f81ef427161",
   "metadata": {
    "id": "69f46955-95b7-48a8-ba79-9f81ef427161"
   },
   "source": [
    "# GUARARÁPES [GUA] - PREPROCESSING 7"
   ]
  },
  {
   "cell_type": "code",
   "execution_count": 596,
   "id": "9a2daf45-ff16-4aef-8292-1c3597c9b6b0",
   "metadata": {
    "id": "9a2daf45-ff16-4aef-8292-1c3597c9b6b0"
   },
   "outputs": [],
   "source": [
    "data7 = pd.read_excel('base_de_frequencias_green_life_academias_dados_brutos.xlsx', sheet_name='GUA', skiprows=1, nrows=165)"
   ]
  },
  {
   "cell_type": "code",
   "execution_count": 597,
   "id": "9c96e6f4-c9d6-41c8-9f99-fb40a0fd16f3",
   "metadata": {
    "id": "9c96e6f4-c9d6-41c8-9f99-fb40a0fd16f3"
   },
   "outputs": [],
   "source": [
    "dataGUA = data7.copy()"
   ]
  },
  {
   "cell_type": "markdown",
   "id": "d41d649c-a822-4fb4-bb49-ebf2f86425a1",
   "metadata": {
    "id": "d41d649c-a822-4fb4-bb49-ebf2f86425a1"
   },
   "source": [
    "### 1 PASSO: Removendo colunas desnecessárias"
   ]
  },
  {
   "cell_type": "code",
   "execution_count": 598,
   "id": "9026dc42-754b-45aa-b2ae-c938558de2cd",
   "metadata": {
    "colab": {
     "base_uri": "https://localhost:8080/",
     "height": 435
    },
    "id": "9026dc42-754b-45aa-b2ae-c938558de2cd",
    "outputId": "64e0c488-423a-4045-d267-9cd24b425961"
   },
   "outputs": [
    {
     "data": {
      "text/html": [
       "<div>\n",
       "<style scoped>\n",
       "    .dataframe tbody tr th:only-of-type {\n",
       "        vertical-align: middle;\n",
       "    }\n",
       "\n",
       "    .dataframe tbody tr th {\n",
       "        vertical-align: top;\n",
       "    }\n",
       "\n",
       "    .dataframe thead th {\n",
       "        text-align: right;\n",
       "    }\n",
       "</style>\n",
       "<table border=\"1\" class=\"dataframe\">\n",
       "  <thead>\n",
       "    <tr style=\"text-align: right;\">\n",
       "      <th></th>\n",
       "      <th></th>\n",
       "      <th>Unnamed: 1</th>\n",
       "      <th>Unnamed: 2</th>\n",
       "      <th>CATEGORIA</th>\n",
       "      <th>MODALIDADE</th>\n",
       "      <th>DIA DA SEMANA</th>\n",
       "      <th>HORÁRIO</th>\n",
       "      <th>AUX.1</th>\n",
       "      <th>TURNO</th>\n",
       "      <th>AUX 2</th>\n",
       "      <th>...</th>\n",
       "      <th>2024-10-25 00:00:00</th>\n",
       "      <th>2024-10-28 00:00:00</th>\n",
       "      <th>2024-10-29 00:00:00</th>\n",
       "      <th>2024-10-30 00:00:00</th>\n",
       "      <th>2024-10-31 00:00:00</th>\n",
       "      <th>Média alunos p/ professor</th>\n",
       "      <th>Média</th>\n",
       "      <th>Alunos/professor</th>\n",
       "      <th>Ocupação Máxima</th>\n",
       "      <th>Professor</th>\n",
       "    </tr>\n",
       "  </thead>\n",
       "  <tbody>\n",
       "    <tr>\n",
       "      <th>161</th>\n",
       "      <td>NaN</td>\n",
       "      <td>NaN</td>\n",
       "      <td>NaN</td>\n",
       "      <td>MUSC - C/P</td>\n",
       "      <td>A - MUSCULAÇÃO COM PERSONAL</td>\n",
       "      <td>seg, ter, qua, qui, sex</td>\n",
       "      <td>21:00:00</td>\n",
       "      <td>21:00</td>\n",
       "      <td>NOITE</td>\n",
       "      <td>A - MUSCULAÇÃO COM PERSONAL - 21:00</td>\n",
       "      <td>...</td>\n",
       "      <td>0</td>\n",
       "      <td>0</td>\n",
       "      <td>6</td>\n",
       "      <td>NaN</td>\n",
       "      <td>NaN</td>\n",
       "      <td>21</td>\n",
       "      <td>2.190476</td>\n",
       "      <td>NaN</td>\n",
       "      <td>NaN</td>\n",
       "      <td>0.0</td>\n",
       "    </tr>\n",
       "    <tr>\n",
       "      <th>162</th>\n",
       "      <td>NaN</td>\n",
       "      <td>NaN</td>\n",
       "      <td>NaN</td>\n",
       "      <td>MUSC - S/P</td>\n",
       "      <td>A - MUSCULAÇÃO SEM PERSONAL</td>\n",
       "      <td>seg, ter, qua, qui, sex</td>\n",
       "      <td>21:00:00</td>\n",
       "      <td>21:00</td>\n",
       "      <td>NOITE</td>\n",
       "      <td>A - MUSCULAÇÃO SEM PERSONAL - 21:00</td>\n",
       "      <td>...</td>\n",
       "      <td>20</td>\n",
       "      <td>25</td>\n",
       "      <td>17</td>\n",
       "      <td>NaN</td>\n",
       "      <td>NaN</td>\n",
       "      <td>21</td>\n",
       "      <td>19.619048</td>\n",
       "      <td>10.500000</td>\n",
       "      <td>NaN</td>\n",
       "      <td>2.0</td>\n",
       "    </tr>\n",
       "    <tr>\n",
       "      <th>163</th>\n",
       "      <td>NaN</td>\n",
       "      <td>NaN</td>\n",
       "      <td>NaN</td>\n",
       "      <td>MUSC - S/P</td>\n",
       "      <td>A - MUSCULAÇÃO SEM PERSONAL</td>\n",
       "      <td>seg, ter, qua, qui, sex</td>\n",
       "      <td>22:00:00</td>\n",
       "      <td>22:00</td>\n",
       "      <td>NOITE</td>\n",
       "      <td>A - MUSCULAÇÃO SEM PERSONAL - 22:00</td>\n",
       "      <td>...</td>\n",
       "      <td>3</td>\n",
       "      <td>23</td>\n",
       "      <td>13</td>\n",
       "      <td>NaN</td>\n",
       "      <td>NaN</td>\n",
       "      <td>21</td>\n",
       "      <td>9.428571</td>\n",
       "      <td>4.714286</td>\n",
       "      <td>NaN</td>\n",
       "      <td>2.0</td>\n",
       "    </tr>\n",
       "  </tbody>\n",
       "</table>\n",
       "<p>3 rows × 40 columns</p>\n",
       "</div>"
      ],
      "text/plain": [
       "          Unnamed: 1 Unnamed: 2   CATEGORIA                   MODALIDADE  \\\n",
       "161  NaN         NaN        NaN  MUSC - C/P  A - MUSCULAÇÃO COM PERSONAL   \n",
       "162  NaN         NaN        NaN  MUSC - S/P  A - MUSCULAÇÃO SEM PERSONAL   \n",
       "163  NaN         NaN        NaN  MUSC - S/P  A - MUSCULAÇÃO SEM PERSONAL   \n",
       "\n",
       "               DIA DA SEMANA   HORÁRIO  AUX.1  TURNO  \\\n",
       "161  seg, ter, qua, qui, sex  21:00:00  21:00  NOITE   \n",
       "162  seg, ter, qua, qui, sex  21:00:00  21:00  NOITE   \n",
       "163  seg, ter, qua, qui, sex  22:00:00  22:00  NOITE   \n",
       "\n",
       "                                   AUX 2  ... 2024-10-25 00:00:00  \\\n",
       "161  A - MUSCULAÇÃO COM PERSONAL - 21:00  ...                   0   \n",
       "162  A - MUSCULAÇÃO SEM PERSONAL - 21:00  ...                  20   \n",
       "163  A - MUSCULAÇÃO SEM PERSONAL - 22:00  ...                   3   \n",
       "\n",
       "    2024-10-28 00:00:00 2024-10-29 00:00:00 2024-10-30 00:00:00  \\\n",
       "161                   0                   6                 NaN   \n",
       "162                  25                  17                 NaN   \n",
       "163                  23                  13                 NaN   \n",
       "\n",
       "    2024-10-31 00:00:00 Média alunos p/ professor      Média Alunos/professor  \\\n",
       "161                 NaN                        21   2.190476              NaN   \n",
       "162                 NaN                        21  19.619048        10.500000   \n",
       "163                 NaN                        21   9.428571         4.714286   \n",
       "\n",
       "    Ocupação Máxima Professor  \n",
       "161             NaN       0.0  \n",
       "162             NaN       2.0  \n",
       "163             NaN       2.0  \n",
       "\n",
       "[3 rows x 40 columns]"
      ]
     },
     "execution_count": 598,
     "metadata": {},
     "output_type": "execute_result"
    }
   ],
   "source": [
    "dataGUA.tail(3)"
   ]
  },
  {
   "cell_type": "code",
   "execution_count": 599,
   "id": "83cb35ea-44df-4558-9af5-f5ac1079106e",
   "metadata": {
    "colab": {
     "base_uri": "https://localhost:8080/",
     "height": 1000
    },
    "id": "83cb35ea-44df-4558-9af5-f5ac1079106e",
    "outputId": "c2877980-5251-4b46-a313-525ecb4cd857"
   },
   "outputs": [
    {
     "data": {
      "text/plain": [
       "                                                               NaN\n",
       "Unnamed: 1                                                     NaN\n",
       "Unnamed: 2                                                     NaN\n",
       "CATEGORIA                                               MUSC - S/P\n",
       "MODALIDADE                             A - MUSCULAÇÃO SEM PERSONAL\n",
       "DIA DA SEMANA                              seg, ter, qua, qui, sex\n",
       "HORÁRIO                                                   22:00:00\n",
       "AUX.1                                                        22:00\n",
       "TURNO                                                        NOITE\n",
       "AUX 2                          A - MUSCULAÇÃO SEM PERSONAL - 22:00\n",
       "PROFESSOR                                                  GILJOAN\n",
       "AUX 3                        A - MUSCULAÇÃO SEM PERSONAL - GILJOAN\n",
       "2024-10-01 00:00:00                                              8\n",
       "2024-10-02 00:00:00                                             11\n",
       "2024-10-03 00:00:00                                             14\n",
       "2024-10-04 00:00:00                                              4\n",
       "2024-10-07 00:00:00                                             14\n",
       "2024-10-08 00:00:00                                              7\n",
       "2024-10-09 00:00:00                                              6\n",
       "2024-10-10 00:00:00                                              7\n",
       "2024-10-11 00:00:00                                              7\n",
       "2024-10-14 00:00:00                                             12\n",
       "2024-10-15 00:00:00                                             13\n",
       "2024-10-16 00:00:00                                              6\n",
       "2024-10-17 00:00:00                                             10\n",
       "2024-10-18 00:00:00                                              8\n",
       "2024-10-21 00:00:00                                             10\n",
       "2024-10-22 00:00:00                                             12\n",
       "2024-10-23 00:00:00                                              3\n",
       "2024-10-24 00:00:00                                              7\n",
       "2024-10-25 00:00:00                                              3\n",
       "2024-10-28 00:00:00                                             23\n",
       "2024-10-29 00:00:00                                             13\n",
       "2024-10-30 00:00:00                                            NaN\n",
       "2024-10-31 00:00:00                                            NaN\n",
       "Média alunos p/ professor                                       21\n",
       "Média                                                     9.428571\n",
       "Alunos/professor                                          4.714286\n",
       "Ocupação Máxima                                                NaN\n",
       "Professor                                                      2.0\n",
       "Name: 163, dtype: object"
      ]
     },
     "execution_count": 599,
     "metadata": {},
     "output_type": "execute_result"
    }
   ],
   "source": [
    "dataGUA.iloc[-1]"
   ]
  },
  {
   "cell_type": "code",
   "execution_count": 600,
   "id": "042737c0-5a5f-40f9-b05d-759a0de36870",
   "metadata": {
    "colab": {
     "base_uri": "https://localhost:8080/",
     "height": 112
    },
    "id": "042737c0-5a5f-40f9-b05d-759a0de36870",
    "outputId": "927cf558-71c1-4ee6-8557-4fd76a44c732"
   },
   "outputs": [
    {
     "data": {
      "text/html": [
       "<div>\n",
       "<style scoped>\n",
       "    .dataframe tbody tr th:only-of-type {\n",
       "        vertical-align: middle;\n",
       "    }\n",
       "\n",
       "    .dataframe tbody tr th {\n",
       "        vertical-align: top;\n",
       "    }\n",
       "\n",
       "    .dataframe thead th {\n",
       "        text-align: right;\n",
       "    }\n",
       "</style>\n",
       "<table border=\"1\" class=\"dataframe\">\n",
       "  <thead>\n",
       "    <tr style=\"text-align: right;\">\n",
       "      <th></th>\n",
       "      <th></th>\n",
       "      <th>Unnamed: 1</th>\n",
       "      <th>Unnamed: 2</th>\n",
       "      <th>AUX 2</th>\n",
       "      <th>AUX 3</th>\n",
       "    </tr>\n",
       "  </thead>\n",
       "  <tbody>\n",
       "    <tr>\n",
       "      <th>0</th>\n",
       "      <td>NaN</td>\n",
       "      <td>NaN</td>\n",
       "      <td>NaN</td>\n",
       "      <td>CROSSFIT - 05:30</td>\n",
       "      <td>CROSSFIT - WESLEY NATAN</td>\n",
       "    </tr>\n",
       "    <tr>\n",
       "      <th>1</th>\n",
       "      <td>NaN</td>\n",
       "      <td>NaN</td>\n",
       "      <td>NaN</td>\n",
       "      <td>A - MUSCULAÇÃO COM PERSONAL - 06:00</td>\n",
       "      <td>A - MUSCULAÇÃO COM PERSONAL - GILJOAN</td>\n",
       "    </tr>\n",
       "  </tbody>\n",
       "</table>\n",
       "</div>"
      ],
      "text/plain": [
       "        Unnamed: 1 Unnamed: 2                                AUX 2  \\\n",
       "0  NaN         NaN        NaN                     CROSSFIT - 05:30   \n",
       "1  NaN         NaN        NaN  A - MUSCULAÇÃO COM PERSONAL - 06:00   \n",
       "\n",
       "                                   AUX 3  \n",
       "0                CROSSFIT - WESLEY NATAN  \n",
       "1  A - MUSCULAÇÃO COM PERSONAL - GILJOAN  "
      ]
     },
     "execution_count": 600,
     "metadata": {},
     "output_type": "execute_result"
    }
   ],
   "source": [
    "dataGUA[[' ', 'Unnamed: 1', 'Unnamed: 2', 'AUX 2', 'AUX 3']].head(2)"
   ]
  },
  {
   "cell_type": "code",
   "execution_count": 601,
   "id": "2fdd30dc-5410-420f-a364-30245445b4ba",
   "metadata": {
    "id": "2fdd30dc-5410-420f-a364-30245445b4ba"
   },
   "outputs": [],
   "source": [
    "dropColuns = [' ', 'Unnamed: 1', 'Unnamed: 2', 'AUX 2', 'AUX 3', 'HORÁRIO']"
   ]
  },
  {
   "cell_type": "code",
   "execution_count": 602,
   "id": "869b90d3-53e2-4003-8f25-69b7cacb35c3",
   "metadata": {
    "id": "869b90d3-53e2-4003-8f25-69b7cacb35c3"
   },
   "outputs": [],
   "source": [
    "dataGUA.drop(columns=dropColuns, inplace=True)"
   ]
  },
  {
   "cell_type": "markdown",
   "id": "cb1c40ac-8fe8-4729-9452-94edbb4e0add",
   "metadata": {
    "id": "cb1c40ac-8fe8-4729-9452-94edbb4e0add"
   },
   "source": [
    "- PRECISAMOS RENOMEAR A COLUNA AUX.1 COMO HORARIO"
   ]
  },
  {
   "cell_type": "code",
   "execution_count": 603,
   "id": "e291ff6b-4ef3-4db6-99a9-43228532343b",
   "metadata": {
    "id": "e291ff6b-4ef3-4db6-99a9-43228532343b"
   },
   "outputs": [],
   "source": [
    "dataGUA.rename(columns={'AUX.1': 'HORÁRIO'}, inplace=True)"
   ]
  },
  {
   "cell_type": "code",
   "execution_count": 604,
   "id": "b9ba64d2-9ad5-41ac-8c89-cb63004aeeb9",
   "metadata": {
    "colab": {
     "base_uri": "https://localhost:8080/",
     "height": 335
    },
    "id": "b9ba64d2-9ad5-41ac-8c89-cb63004aeeb9",
    "outputId": "7070ba09-35f7-44a2-b798-ff14435ce1df"
   },
   "outputs": [
    {
     "data": {
      "text/html": [
       "<div>\n",
       "<style scoped>\n",
       "    .dataframe tbody tr th:only-of-type {\n",
       "        vertical-align: middle;\n",
       "    }\n",
       "\n",
       "    .dataframe tbody tr th {\n",
       "        vertical-align: top;\n",
       "    }\n",
       "\n",
       "    .dataframe thead th {\n",
       "        text-align: right;\n",
       "    }\n",
       "</style>\n",
       "<table border=\"1\" class=\"dataframe\">\n",
       "  <thead>\n",
       "    <tr style=\"text-align: right;\">\n",
       "      <th></th>\n",
       "      <th>CATEGORIA</th>\n",
       "      <th>MODALIDADE</th>\n",
       "      <th>DIA DA SEMANA</th>\n",
       "      <th>HORÁRIO</th>\n",
       "      <th>TURNO</th>\n",
       "      <th>PROFESSOR</th>\n",
       "      <th>2024-10-01 00:00:00</th>\n",
       "      <th>2024-10-02 00:00:00</th>\n",
       "      <th>2024-10-03 00:00:00</th>\n",
       "      <th>2024-10-04 00:00:00</th>\n",
       "      <th>...</th>\n",
       "      <th>2024-10-25 00:00:00</th>\n",
       "      <th>2024-10-28 00:00:00</th>\n",
       "      <th>2024-10-29 00:00:00</th>\n",
       "      <th>2024-10-30 00:00:00</th>\n",
       "      <th>2024-10-31 00:00:00</th>\n",
       "      <th>Média alunos p/ professor</th>\n",
       "      <th>Média</th>\n",
       "      <th>Alunos/professor</th>\n",
       "      <th>Ocupação Máxima</th>\n",
       "      <th>Professor</th>\n",
       "    </tr>\n",
       "  </thead>\n",
       "  <tbody>\n",
       "    <tr>\n",
       "      <th>0</th>\n",
       "      <td>ADULTO</td>\n",
       "      <td>CROSSFIT</td>\n",
       "      <td>seg, ter, qua, qui, sex</td>\n",
       "      <td>05:30</td>\n",
       "      <td>MANHÃ</td>\n",
       "      <td>WESLEY NATAN</td>\n",
       "      <td>10</td>\n",
       "      <td>5</td>\n",
       "      <td>10</td>\n",
       "      <td>12</td>\n",
       "      <td>...</td>\n",
       "      <td>11</td>\n",
       "      <td>10</td>\n",
       "      <td>12</td>\n",
       "      <td>10</td>\n",
       "      <td>NaN</td>\n",
       "      <td>22</td>\n",
       "      <td>11.227273</td>\n",
       "      <td>NaN</td>\n",
       "      <td>NaN</td>\n",
       "      <td>0.0</td>\n",
       "    </tr>\n",
       "    <tr>\n",
       "      <th>1</th>\n",
       "      <td>MUSC - C/P</td>\n",
       "      <td>A - MUSCULAÇÃO COM PERSONAL</td>\n",
       "      <td>seg, ter, qua, qui, sex</td>\n",
       "      <td>06:00</td>\n",
       "      <td>MANHÃ</td>\n",
       "      <td>GILJOAN</td>\n",
       "      <td>26</td>\n",
       "      <td>20</td>\n",
       "      <td>22</td>\n",
       "      <td>24</td>\n",
       "      <td>...</td>\n",
       "      <td>24</td>\n",
       "      <td>28</td>\n",
       "      <td>34</td>\n",
       "      <td>28</td>\n",
       "      <td>NaN</td>\n",
       "      <td>22</td>\n",
       "      <td>26.772727</td>\n",
       "      <td>NaN</td>\n",
       "      <td>NaN</td>\n",
       "      <td>0.0</td>\n",
       "    </tr>\n",
       "  </tbody>\n",
       "</table>\n",
       "<p>2 rows × 34 columns</p>\n",
       "</div>"
      ],
      "text/plain": [
       "    CATEGORIA                   MODALIDADE            DIA DA SEMANA HORÁRIO  \\\n",
       "0      ADULTO                     CROSSFIT  seg, ter, qua, qui, sex   05:30   \n",
       "1  MUSC - C/P  A - MUSCULAÇÃO COM PERSONAL  seg, ter, qua, qui, sex   06:00   \n",
       "\n",
       "   TURNO     PROFESSOR 2024-10-01 00:00:00 2024-10-02 00:00:00  \\\n",
       "0  MANHÃ  WESLEY NATAN                  10                   5   \n",
       "1  MANHÃ       GILJOAN                  26                  20   \n",
       "\n",
       "  2024-10-03 00:00:00 2024-10-04 00:00:00  ... 2024-10-25 00:00:00  \\\n",
       "0                  10                  12  ...                  11   \n",
       "1                  22                  24  ...                  24   \n",
       "\n",
       "  2024-10-28 00:00:00 2024-10-29 00:00:00 2024-10-30 00:00:00  \\\n",
       "0                  10                  12                  10   \n",
       "1                  28                  34                  28   \n",
       "\n",
       "  2024-10-31 00:00:00 Média alunos p/ professor      Média Alunos/professor  \\\n",
       "0                 NaN                        22  11.227273              NaN   \n",
       "1                 NaN                        22  26.772727              NaN   \n",
       "\n",
       "  Ocupação Máxima Professor  \n",
       "0             NaN       0.0  \n",
       "1             NaN       0.0  \n",
       "\n",
       "[2 rows x 34 columns]"
      ]
     },
     "execution_count": 604,
     "metadata": {},
     "output_type": "execute_result"
    }
   ],
   "source": [
    "dataGUA.head(2)"
   ]
  },
  {
   "cell_type": "markdown",
   "id": "2fb99fb0-cd6a-47af-bc0b-4c0999d42fde",
   "metadata": {
    "id": "2fb99fb0-cd6a-47af-bc0b-4c0999d42fde"
   },
   "source": [
    "### 2 PASSO: Renomeando strings de datas, para que o pandas possa aceitar como colunas"
   ]
  },
  {
   "cell_type": "code",
   "execution_count": 605,
   "id": "353b1fc3-a219-4275-8c1d-128ec3d00ff5",
   "metadata": {
    "colab": {
     "base_uri": "https://localhost:8080/"
    },
    "id": "353b1fc3-a219-4275-8c1d-128ec3d00ff5",
    "outputId": "e8484de7-fe46-426a-a4a0-df39ec42d81c"
   },
   "outputs": [
    {
     "name": "stdout",
     "output_type": "stream",
     "text": [
      "CATEGORIA\n",
      "MODALIDADE\n",
      "DIA DA SEMANA\n",
      "HORÁRIO\n",
      "TURNO\n",
      "PROFESSOR\n",
      "2024-10-01 00:00:00\n",
      "2024-10-02 00:00:00\n",
      "2024-10-03 00:00:00\n",
      "2024-10-04 00:00:00\n",
      "2024-10-07 00:00:00\n",
      "2024-10-08 00:00:00\n",
      "2024-10-09 00:00:00\n",
      "2024-10-10 00:00:00\n",
      "2024-10-11 00:00:00\n",
      "2024-10-14 00:00:00\n",
      "2024-10-15 00:00:00\n",
      "2024-10-16 00:00:00\n",
      "2024-10-17 00:00:00\n",
      "2024-10-18 00:00:00\n",
      "2024-10-21 00:00:00\n",
      "2024-10-22 00:00:00\n",
      "2024-10-23 00:00:00\n",
      "2024-10-24 00:00:00\n",
      "2024-10-25 00:00:00\n",
      "2024-10-28 00:00:00\n",
      "2024-10-29 00:00:00\n",
      "2024-10-30 00:00:00\n",
      "2024-10-31 00:00:00\n",
      "Média alunos p/ professor\n",
      "Média\n",
      "Alunos/professor\n",
      "Ocupação Máxima\n",
      "Professor\n"
     ]
    }
   ],
   "source": [
    "for columns in dataGUA.columns:\n",
    "    print(columns)"
   ]
  },
  {
   "cell_type": "code",
   "execution_count": 606,
   "id": "6828a99b-aeee-4768-9ca6-a8a5d3a21a39",
   "metadata": {
    "id": "6828a99b-aeee-4768-9ca6-a8a5d3a21a39"
   },
   "outputs": [],
   "source": [
    "dataGUA.columns = [\n",
    "'CATEGORIA',\n",
    "'MODALIDADE',\n",
    "'DIA DA SEMANA',\n",
    "'HORÁRIO',\n",
    "'TURNO',\n",
    "'PROFESSOR',\n",
    "'2024-10-01 00:00:00',\n",
    "'2024-10-02 00:00:00',\n",
    "'2024-10-03 00:00:00',\n",
    "'2024-10-04 00:00:00',\n",
    "'2024-10-07 00:00:00',\n",
    "'2024-10-08 00:00:00',\n",
    "'2024-10-09 00:00:00',\n",
    "'2024-10-10 00:00:00',\n",
    "'2024-10-11 00:00:00',\n",
    "'2024-10-14 00:00:00',\n",
    "'2024-10-15 00:00:00',\n",
    "'2024-10-16 00:00:00',\n",
    "'2024-10-17 00:00:00',\n",
    "'2024-10-18 00:00:00',\n",
    "'2024-10-21 00:00:00',\n",
    "'2024-10-22 00:00:00',\n",
    "'2024-10-23 00:00:00',\n",
    "'2024-10-24 00:00:00',\n",
    "'2024-10-25 00:00:00',\n",
    "'2024-10-28 00:00:00',\n",
    "'2024-10-29 00:00:00',\n",
    "'2024-10-30 00:00:00',\n",
    "'2024-10-31 00:00:00',\n",
    "'Média alunos p/ professor',\n",
    "'Média',\n",
    "'Alunos/professor',\n",
    "'Ocupação Máxima',\n",
    "'Professor',\n",
    "]"
   ]
  },
  {
   "cell_type": "code",
   "execution_count": 607,
   "id": "514806e3-4a6a-4893-8fd2-fb8e237f7251",
   "metadata": {
    "colab": {
     "base_uri": "https://localhost:8080/"
    },
    "id": "514806e3-4a6a-4893-8fd2-fb8e237f7251",
    "outputId": "b4235913-4563-4c46-f7ee-77c129238a59"
   },
   "outputs": [
    {
     "data": {
      "text/plain": [
       "Index(['CATEGORIA', 'MODALIDADE', 'DIA DA SEMANA', 'HORÁRIO', 'TURNO',\n",
       "       'PROFESSOR', '2024-10-01 00:00:00', '2024-10-02 00:00:00',\n",
       "       '2024-10-03 00:00:00', '2024-10-04 00:00:00', '2024-10-07 00:00:00',\n",
       "       '2024-10-08 00:00:00', '2024-10-09 00:00:00', '2024-10-10 00:00:00',\n",
       "       '2024-10-11 00:00:00', '2024-10-14 00:00:00', '2024-10-15 00:00:00',\n",
       "       '2024-10-16 00:00:00', '2024-10-17 00:00:00', '2024-10-18 00:00:00',\n",
       "       '2024-10-21 00:00:00', '2024-10-22 00:00:00', '2024-10-23 00:00:00',\n",
       "       '2024-10-24 00:00:00', '2024-10-25 00:00:00', '2024-10-28 00:00:00',\n",
       "       '2024-10-29 00:00:00', '2024-10-30 00:00:00', '2024-10-31 00:00:00',\n",
       "       'Média alunos p/ professor', 'Média', 'Alunos/professor',\n",
       "       'Ocupação Máxima', 'Professor'],\n",
       "      dtype='object')"
      ]
     },
     "execution_count": 607,
     "metadata": {},
     "output_type": "execute_result"
    }
   ],
   "source": [
    "dataGUA.columns"
   ]
  },
  {
   "cell_type": "markdown",
   "id": "4747c28b-c3cb-43ab-a8e5-d6a0b68e5cc6",
   "metadata": {
    "id": "4747c28b-c3cb-43ab-a8e5-d6a0b68e5cc6"
   },
   "source": [
    "### PASSO 3: Escolhendo colunas com o nome de 'datas', para renomear pelo o tipo dia, mês e ano. e removendo os 00 de horas"
   ]
  },
  {
   "cell_type": "code",
   "execution_count": 608,
   "id": "a12de310-f3fd-4ff4-a082-b9b6c133c87f",
   "metadata": {
    "id": "a12de310-f3fd-4ff4-a082-b9b6c133c87f"
   },
   "outputs": [],
   "source": [
    "colunas = [\n",
    "'2024-10-01 00:00:00',\n",
    "'2024-10-02 00:00:00',\n",
    "'2024-10-03 00:00:00',\n",
    "'2024-10-04 00:00:00',\n",
    "'2024-10-07 00:00:00',\n",
    "'2024-10-08 00:00:00',\n",
    "'2024-10-09 00:00:00',\n",
    "'2024-10-10 00:00:00',\n",
    "'2024-10-11 00:00:00',\n",
    "'2024-10-14 00:00:00',\n",
    "'2024-10-15 00:00:00',\n",
    "'2024-10-16 00:00:00',\n",
    "'2024-10-17 00:00:00',\n",
    "'2024-10-18 00:00:00',\n",
    "'2024-10-21 00:00:00',\n",
    "'2024-10-22 00:00:00',\n",
    "'2024-10-23 00:00:00',\n",
    "'2024-10-24 00:00:00',\n",
    "'2024-10-25 00:00:00',\n",
    "'2024-10-28 00:00:00',\n",
    "'2024-10-29 00:00:00',\n",
    "'2024-10-30 00:00:00',\n",
    "'2024-10-31 00:00:00',\n",
    "]"
   ]
  },
  {
   "cell_type": "code",
   "execution_count": 609,
   "id": "75e6351f-0208-40fc-b681-69dc3140b053",
   "metadata": {
    "id": "75e6351f-0208-40fc-b681-69dc3140b053"
   },
   "outputs": [],
   "source": [
    "novas_colunas_GUA = []"
   ]
  },
  {
   "cell_type": "code",
   "execution_count": 610,
   "id": "bb33cf96-eb5e-4a66-99ab-849244a65b71",
   "metadata": {
    "id": "bb33cf96-eb5e-4a66-99ab-849244a65b71"
   },
   "outputs": [],
   "source": [
    "for columns in colunas:\n",
    "    # Remove a parte da hora\n",
    "    data_sem_hora = columns.split(' ')[0]\n",
    "\n",
    "    # Formata para o formato DD-MM-YYYY\n",
    "    ano, mes, dia = data_sem_hora.split('-')\n",
    "    novo_nome = f'{dia}-{mes}-{ano}'\n",
    "    novas_colunas_GUA.append(novo_nome)"
   ]
  },
  {
   "cell_type": "code",
   "execution_count": 611,
   "id": "4e591f02-69ed-4467-8c40-d9bbe1093f32",
   "metadata": {
    "colab": {
     "base_uri": "https://localhost:8080/"
    },
    "id": "4e591f02-69ed-4467-8c40-d9bbe1093f32",
    "outputId": "10f5fe6e-c4db-4e38-bc8b-ac8a1280b41c"
   },
   "outputs": [
    {
     "data": {
      "text/plain": [
       "['01-10-2024',\n",
       " '02-10-2024',\n",
       " '03-10-2024',\n",
       " '04-10-2024',\n",
       " '07-10-2024',\n",
       " '08-10-2024',\n",
       " '09-10-2024',\n",
       " '10-10-2024',\n",
       " '11-10-2024',\n",
       " '14-10-2024',\n",
       " '15-10-2024',\n",
       " '16-10-2024',\n",
       " '17-10-2024',\n",
       " '18-10-2024',\n",
       " '21-10-2024',\n",
       " '22-10-2024',\n",
       " '23-10-2024',\n",
       " '24-10-2024',\n",
       " '25-10-2024',\n",
       " '28-10-2024',\n",
       " '29-10-2024',\n",
       " '30-10-2024',\n",
       " '31-10-2024']"
      ]
     },
     "execution_count": 611,
     "metadata": {},
     "output_type": "execute_result"
    }
   ],
   "source": [
    "novas_colunas_GUA"
   ]
  },
  {
   "cell_type": "markdown",
   "id": "255d7f5a-3972-4b6b-9dcd-b2a7ad231438",
   "metadata": {
    "id": "255d7f5a-3972-4b6b-9dcd-b2a7ad231438"
   },
   "source": [
    "### PASSO 4 renomeando colunas e acrescentando o novo formato"
   ]
  },
  {
   "cell_type": "markdown",
   "id": "eafc71f4-f836-4318-9a50-a5ef6b313826",
   "metadata": {
    "id": "eafc71f4-f836-4318-9a50-a5ef6b313826"
   },
   "source": [
    "copie as colunas que escolheu para renomear, e cole o formato novo no lugar das velhas"
   ]
  },
  {
   "cell_type": "code",
   "execution_count": 612,
   "id": "6038f1fc-a11b-4cdc-b92b-37171f843552",
   "metadata": {
    "id": "6038f1fc-a11b-4cdc-b92b-37171f843552"
   },
   "outputs": [],
   "source": [
    "# Adicionando as datas formatadas as colunas, copiando e colando"
   ]
  },
  {
   "cell_type": "code",
   "execution_count": 613,
   "id": "53378b8c-0c57-481d-8b65-58c726877e4d",
   "metadata": {
    "colab": {
     "base_uri": "https://localhost:8080/"
    },
    "id": "53378b8c-0c57-481d-8b65-58c726877e4d",
    "outputId": "88d23de5-dd0e-4da3-a110-62a60526fc82"
   },
   "outputs": [
    {
     "name": "stdout",
     "output_type": "stream",
     "text": [
      "CATEGORIA\n",
      "MODALIDADE\n",
      "DIA DA SEMANA\n",
      "HORÁRIO\n",
      "TURNO\n",
      "PROFESSOR\n",
      "2024-10-01 00:00:00\n",
      "2024-10-02 00:00:00\n",
      "2024-10-03 00:00:00\n",
      "2024-10-04 00:00:00\n",
      "2024-10-07 00:00:00\n",
      "2024-10-08 00:00:00\n",
      "2024-10-09 00:00:00\n",
      "2024-10-10 00:00:00\n",
      "2024-10-11 00:00:00\n",
      "2024-10-14 00:00:00\n",
      "2024-10-15 00:00:00\n",
      "2024-10-16 00:00:00\n",
      "2024-10-17 00:00:00\n",
      "2024-10-18 00:00:00\n",
      "2024-10-21 00:00:00\n",
      "2024-10-22 00:00:00\n",
      "2024-10-23 00:00:00\n",
      "2024-10-24 00:00:00\n",
      "2024-10-25 00:00:00\n",
      "2024-10-28 00:00:00\n",
      "2024-10-29 00:00:00\n",
      "2024-10-30 00:00:00\n",
      "2024-10-31 00:00:00\n",
      "Média alunos p/ professor\n",
      "Média\n",
      "Alunos/professor\n",
      "Ocupação Máxima\n",
      "Professor\n"
     ]
    }
   ],
   "source": [
    "for columns in dataGUA.columns:\n",
    "    print (columns)"
   ]
  },
  {
   "cell_type": "code",
   "execution_count": 614,
   "id": "b0db46a6-9630-4804-94bc-c1237b02d81a",
   "metadata": {
    "id": "b0db46a6-9630-4804-94bc-c1237b02d81a"
   },
   "outputs": [],
   "source": [
    "dataGUA.columns = [\n",
    "'CATEGORIA',\n",
    "'MODALIDADE',\n",
    "'DIA DA SEMANA',\n",
    "'HORÁRIO',\n",
    "'TURNO',\n",
    "'PROFESSOR',\n",
    "'01-10-2024',\n",
    "'02-10-2024',\n",
    "'03-10-2024',\n",
    "'04-10-2024',\n",
    "'07-10-2024',\n",
    "'08-10-2024',\n",
    "'09-10-2024',\n",
    "'10-10-2024',\n",
    "'11-10-2024',\n",
    "'14-10-2024',\n",
    "'15-10-2024',\n",
    "'16-10-2024',\n",
    "'17-10-2024',\n",
    "'18-10-2024',\n",
    "'21-10-2024',\n",
    "'22-10-2024',\n",
    "'23-10-2024',\n",
    "'24-10-2024',\n",
    "'25-10-2024',\n",
    "'28-10-2024',\n",
    "'29-10-2024',\n",
    "'30-10-2024',\n",
    "'31-10-2024',\n",
    "'Média alunos p/ professor',\n",
    "'Média',\n",
    "'Alunos/professor',\n",
    "'Ocupação Máxima',\n",
    "'Professor',\n",
    "]"
   ]
  },
  {
   "cell_type": "markdown",
   "id": "2b05aae9-72ba-44be-a967-436c6628b121",
   "metadata": {
    "id": "2b05aae9-72ba-44be-a967-436c6628b121"
   },
   "source": [
    "### 5 PASSO: Usar o Loop for para substitituir os valores das frequencia de 'x' e 'X' por zero, com o método do pd.to_numeric)"
   ]
  },
  {
   "cell_type": "code",
   "execution_count": 615,
   "id": "d7845f1a-c71f-4d77-ade5-2acf9e119d8d",
   "metadata": {
    "id": "d7845f1a-c71f-4d77-ade5-2acf9e119d8d"
   },
   "outputs": [],
   "source": [
    "colunas = [\n",
    "'01-10-2024',\n",
    "'02-10-2024',\n",
    "'03-10-2024',\n",
    "'04-10-2024',\n",
    "'07-10-2024',\n",
    "'08-10-2024',\n",
    "'09-10-2024',\n",
    "'10-10-2024',\n",
    "'11-10-2024',\n",
    "'14-10-2024',\n",
    "'15-10-2024',\n",
    "'16-10-2024',\n",
    "'17-10-2024',\n",
    "'18-10-2024',\n",
    "'21-10-2024',\n",
    "'22-10-2024',\n",
    "'23-10-2024',\n",
    "'24-10-2024',\n",
    "'25-10-2024',\n",
    "'28-10-2024',\n",
    "'29-10-2024',\n",
    "'30-10-2024',\n",
    "'31-10-2024',\n",
    "]"
   ]
  },
  {
   "cell_type": "markdown",
   "id": "2e88a9ff-c784-4d38-bd39-fba9740641a9",
   "metadata": {
    "id": "2e88a9ff-c784-4d38-bd39-fba9740641a9"
   },
   "source": [
    "Fazendo a limpeza profunda, formatando valores para numeros, preenchendo com zeros os nulos e transformando em inteiros"
   ]
  },
  {
   "cell_type": "code",
   "execution_count": 616,
   "id": "b97b9bc8-cc39-49ba-92ab-3d18a91e7dd1",
   "metadata": {
    "id": "b97b9bc8-cc39-49ba-92ab-3d18a91e7dd1"
   },
   "outputs": [],
   "source": [
    "for columns in colunas:\n",
    "    # dataMES[columns] = pd.to_numeric(dataMES[columns], errors='coerce')\n",
    "    dataGUA[columns] = pd.to_numeric(dataGUA[columns], errors='coerce').fillna(0).astype(int)"
   ]
  },
  {
   "cell_type": "markdown",
   "id": "6163db65-1a12-44d7-a4c6-fef111e45d08",
   "metadata": {
    "id": "6163db65-1a12-44d7-a4c6-fef111e45d08"
   },
   "source": [
    "### PASSO 6: MELT derretendo as colunas em formato de datas"
   ]
  },
  {
   "cell_type": "markdown",
   "id": "da634d18-47c0-40db-8263-892cb2a57e64",
   "metadata": {
    "id": "da634d18-47c0-40db-8263-892cb2a57e64"
   },
   "source": [
    "o MELT ele pega as colunas que estão na horizontal e cria uma coluna de categorias, e depois ele cria outra coluna com os valores dessas colunas que foram transformadas em dados categóricos"
   ]
  },
  {
   "cell_type": "code",
   "execution_count": 617,
   "id": "2694d505-6e05-415b-8485-193f07bf6566",
   "metadata": {
    "id": "2694d505-6e05-415b-8485-193f07bf6566"
   },
   "outputs": [],
   "source": [
    "colunas_para_melt = [\n",
    "'01-10-2024',\n",
    "'02-10-2024',\n",
    "'03-10-2024',\n",
    "'04-10-2024',\n",
    "'07-10-2024',\n",
    "'08-10-2024',\n",
    "'09-10-2024',\n",
    "'10-10-2024',\n",
    "'11-10-2024',\n",
    "'14-10-2024',\n",
    "'15-10-2024',\n",
    "'16-10-2024',\n",
    "'17-10-2024',\n",
    "'18-10-2024',\n",
    "'21-10-2024',\n",
    "'22-10-2024',\n",
    "'23-10-2024',\n",
    "'24-10-2024',\n",
    "'25-10-2024',\n",
    "'28-10-2024',\n",
    "'29-10-2024',\n",
    "'30-10-2024',\n",
    "'31-10-2024',\n",
    "]"
   ]
  },
  {
   "cell_type": "markdown",
   "id": "c8b3efd9-7ae6-47bd-a36f-d02966062c7c",
   "metadata": {
    "id": "c8b3efd9-7ae6-47bd-a36f-d02966062c7c"
   },
   "source": [
    "#### Indentificando as colunas que Eu quero manter em meu dataframe"
   ]
  },
  {
   "cell_type": "code",
   "execution_count": 618,
   "id": "92f1e827-38c4-4f28-8e04-a862386f3079",
   "metadata": {
    "id": "92f1e827-38c4-4f28-8e04-a862386f3079"
   },
   "outputs": [],
   "source": [
    "# Identifica as colunas que você quer manter como identificadoras (id_vars)\n",
    "# São as colunas que não serão \"unpivoted\"\n",
    "id_vars_cols = [columns for columns in dataGUA.columns if columns not in colunas_para_melt]"
   ]
  },
  {
   "cell_type": "code",
   "execution_count": 619,
   "id": "9d980ebb-cecb-44a0-a2ff-565f9c546d84",
   "metadata": {
    "id": "9d980ebb-cecb-44a0-a2ff-565f9c546d84"
   },
   "outputs": [],
   "source": [
    "dataGUA_melted = pd.melt(dataGUA,\n",
    "                      id_vars=id_vars_cols, #colunas que Eu deixei, que ficaram.\n",
    "                      value_vars=colunas_para_melt, #colunas que vão se transformar.\n",
    "                      var_name='Dias de Aulas', # nome da coluna categorica\n",
    "                      value_name='Frequencia de Alunos') # nome da coluna de valores"
   ]
  },
  {
   "cell_type": "code",
   "execution_count": 620,
   "id": "0bbc0acf-4749-40ea-ba93-ff2795505dc0",
   "metadata": {
    "colab": {
     "base_uri": "https://localhost:8080/",
     "height": 282
    },
    "id": "0bbc0acf-4749-40ea-ba93-ff2795505dc0",
    "outputId": "bb89b779-ad74-44ca-ddf6-a8075744f03a"
   },
   "outputs": [
    {
     "data": {
      "text/html": [
       "<div>\n",
       "<style scoped>\n",
       "    .dataframe tbody tr th:only-of-type {\n",
       "        vertical-align: middle;\n",
       "    }\n",
       "\n",
       "    .dataframe tbody tr th {\n",
       "        vertical-align: top;\n",
       "    }\n",
       "\n",
       "    .dataframe thead th {\n",
       "        text-align: right;\n",
       "    }\n",
       "</style>\n",
       "<table border=\"1\" class=\"dataframe\">\n",
       "  <thead>\n",
       "    <tr style=\"text-align: right;\">\n",
       "      <th></th>\n",
       "      <th>CATEGORIA</th>\n",
       "      <th>MODALIDADE</th>\n",
       "      <th>DIA DA SEMANA</th>\n",
       "      <th>HORÁRIO</th>\n",
       "      <th>TURNO</th>\n",
       "      <th>PROFESSOR</th>\n",
       "      <th>Média alunos p/ professor</th>\n",
       "      <th>Média</th>\n",
       "      <th>Alunos/professor</th>\n",
       "      <th>Ocupação Máxima</th>\n",
       "      <th>Professor</th>\n",
       "      <th>Dias de Aulas</th>\n",
       "      <th>Frequencia de Alunos</th>\n",
       "    </tr>\n",
       "  </thead>\n",
       "  <tbody>\n",
       "    <tr>\n",
       "      <th>0</th>\n",
       "      <td>ADULTO</td>\n",
       "      <td>CROSSFIT</td>\n",
       "      <td>seg, ter, qua, qui, sex</td>\n",
       "      <td>05:30</td>\n",
       "      <td>MANHÃ</td>\n",
       "      <td>WESLEY NATAN</td>\n",
       "      <td>22</td>\n",
       "      <td>11.227273</td>\n",
       "      <td>NaN</td>\n",
       "      <td>NaN</td>\n",
       "      <td>0.0</td>\n",
       "      <td>01-10-2024</td>\n",
       "      <td>10</td>\n",
       "    </tr>\n",
       "    <tr>\n",
       "      <th>1</th>\n",
       "      <td>MUSC - C/P</td>\n",
       "      <td>A - MUSCULAÇÃO COM PERSONAL</td>\n",
       "      <td>seg, ter, qua, qui, sex</td>\n",
       "      <td>06:00</td>\n",
       "      <td>MANHÃ</td>\n",
       "      <td>GILJOAN</td>\n",
       "      <td>22</td>\n",
       "      <td>26.772727</td>\n",
       "      <td>NaN</td>\n",
       "      <td>NaN</td>\n",
       "      <td>0.0</td>\n",
       "      <td>01-10-2024</td>\n",
       "      <td>26</td>\n",
       "    </tr>\n",
       "    <tr>\n",
       "      <th>2</th>\n",
       "      <td>MUSC - S/P</td>\n",
       "      <td>A - MUSCULAÇÃO SEM PERSONAL</td>\n",
       "      <td>seg, ter, qua, qui, sex</td>\n",
       "      <td>06:00</td>\n",
       "      <td>MANHÃ</td>\n",
       "      <td>GILJOAN</td>\n",
       "      <td>22</td>\n",
       "      <td>30.590909</td>\n",
       "      <td>7.333333</td>\n",
       "      <td>NaN</td>\n",
       "      <td>3.0</td>\n",
       "      <td>01-10-2024</td>\n",
       "      <td>40</td>\n",
       "    </tr>\n",
       "  </tbody>\n",
       "</table>\n",
       "</div>"
      ],
      "text/plain": [
       "    CATEGORIA                   MODALIDADE            DIA DA SEMANA HORÁRIO  \\\n",
       "0      ADULTO                     CROSSFIT  seg, ter, qua, qui, sex   05:30   \n",
       "1  MUSC - C/P  A - MUSCULAÇÃO COM PERSONAL  seg, ter, qua, qui, sex   06:00   \n",
       "2  MUSC - S/P  A - MUSCULAÇÃO SEM PERSONAL  seg, ter, qua, qui, sex   06:00   \n",
       "\n",
       "   TURNO     PROFESSOR  Média alunos p/ professor      Média  \\\n",
       "0  MANHÃ  WESLEY NATAN                         22  11.227273   \n",
       "1  MANHÃ       GILJOAN                         22  26.772727   \n",
       "2  MANHÃ       GILJOAN                         22  30.590909   \n",
       "\n",
       "   Alunos/professor  Ocupação Máxima  Professor Dias de Aulas  \\\n",
       "0               NaN              NaN        0.0    01-10-2024   \n",
       "1               NaN              NaN        0.0    01-10-2024   \n",
       "2          7.333333              NaN        3.0    01-10-2024   \n",
       "\n",
       "   Frequencia de Alunos  \n",
       "0                    10  \n",
       "1                    26  \n",
       "2                    40  "
      ]
     },
     "execution_count": 620,
     "metadata": {},
     "output_type": "execute_result"
    }
   ],
   "source": [
    "dataGUA_melted.head(3)"
   ]
  },
  {
   "cell_type": "code",
   "execution_count": 621,
   "id": "399f3a1a-9ee1-470d-8ccf-d87122c731e7",
   "metadata": {
    "colab": {
     "base_uri": "https://localhost:8080/"
    },
    "id": "399f3a1a-9ee1-470d-8ccf-d87122c731e7",
    "outputId": "cb2037aa-953a-4b8d-e85e-5f9e10db16a5"
   },
   "outputs": [
    {
     "data": {
      "text/plain": [
       "np.int64(23860)"
      ]
     },
     "execution_count": 621,
     "metadata": {},
     "output_type": "execute_result"
    }
   ],
   "source": [
    "dataGUA_melted['Frequencia de Alunos'].sum()"
   ]
  },
  {
   "cell_type": "code",
   "execution_count": 622,
   "id": "7ebfdaf1-dbb5-4aa2-9970-539cb25c5127",
   "metadata": {
    "id": "7ebfdaf1-dbb5-4aa2-9970-539cb25c5127"
   },
   "outputs": [],
   "source": [
    "# Aplica a lógica condicional para criar a coluna 'TURNO' usando .loc e comparação de strings\n",
    "dataGUA_melted.loc[dataGUA_melted['HORÁRIO'] <= '12:30', 'TURNO'] = 'MANHÃ'\n",
    "dataGUA_melted.loc[dataGUA_melted['HORÁRIO'] > '12:30', 'TURNO'] = 'NOITE'"
   ]
  },
  {
   "cell_type": "code",
   "execution_count": 623,
   "id": "daec9347-4502-49d5-9ece-fd45a3f85ba8",
   "metadata": {
    "colab": {
     "base_uri": "https://localhost:8080/",
     "height": 216
    },
    "id": "daec9347-4502-49d5-9ece-fd45a3f85ba8",
    "outputId": "10699e0b-deca-4328-d416-ee549ab5c41a"
   },
   "outputs": [
    {
     "data": {
      "text/html": [
       "<div>\n",
       "<style scoped>\n",
       "    .dataframe tbody tr th:only-of-type {\n",
       "        vertical-align: middle;\n",
       "    }\n",
       "\n",
       "    .dataframe tbody tr th {\n",
       "        vertical-align: top;\n",
       "    }\n",
       "\n",
       "    .dataframe thead th {\n",
       "        text-align: right;\n",
       "    }\n",
       "</style>\n",
       "<table border=\"1\" class=\"dataframe\">\n",
       "  <thead>\n",
       "    <tr style=\"text-align: right;\">\n",
       "      <th></th>\n",
       "      <th>CATEGORIA</th>\n",
       "      <th>MODALIDADE</th>\n",
       "      <th>DIA DA SEMANA</th>\n",
       "      <th>HORÁRIO</th>\n",
       "      <th>TURNO</th>\n",
       "      <th>PROFESSOR</th>\n",
       "      <th>Média alunos p/ professor</th>\n",
       "      <th>Média</th>\n",
       "      <th>Alunos/professor</th>\n",
       "      <th>Ocupação Máxima</th>\n",
       "      <th>Professor</th>\n",
       "      <th>Dias de Aulas</th>\n",
       "      <th>Frequencia de Alunos</th>\n",
       "    </tr>\n",
       "  </thead>\n",
       "  <tbody>\n",
       "    <tr>\n",
       "      <th>0</th>\n",
       "      <td>ADULTO</td>\n",
       "      <td>CROSSFIT</td>\n",
       "      <td>seg, ter, qua, qui, sex</td>\n",
       "      <td>05:30</td>\n",
       "      <td>MANHÃ</td>\n",
       "      <td>WESLEY NATAN</td>\n",
       "      <td>22</td>\n",
       "      <td>11.227273</td>\n",
       "      <td>NaN</td>\n",
       "      <td>NaN</td>\n",
       "      <td>0.0</td>\n",
       "      <td>01-10-2024</td>\n",
       "      <td>10</td>\n",
       "    </tr>\n",
       "    <tr>\n",
       "      <th>1</th>\n",
       "      <td>MUSC - C/P</td>\n",
       "      <td>A - MUSCULAÇÃO COM PERSONAL</td>\n",
       "      <td>seg, ter, qua, qui, sex</td>\n",
       "      <td>06:00</td>\n",
       "      <td>MANHÃ</td>\n",
       "      <td>GILJOAN</td>\n",
       "      <td>22</td>\n",
       "      <td>26.772727</td>\n",
       "      <td>NaN</td>\n",
       "      <td>NaN</td>\n",
       "      <td>0.0</td>\n",
       "      <td>01-10-2024</td>\n",
       "      <td>26</td>\n",
       "    </tr>\n",
       "  </tbody>\n",
       "</table>\n",
       "</div>"
      ],
      "text/plain": [
       "    CATEGORIA                   MODALIDADE            DIA DA SEMANA HORÁRIO  \\\n",
       "0      ADULTO                     CROSSFIT  seg, ter, qua, qui, sex   05:30   \n",
       "1  MUSC - C/P  A - MUSCULAÇÃO COM PERSONAL  seg, ter, qua, qui, sex   06:00   \n",
       "\n",
       "   TURNO     PROFESSOR  Média alunos p/ professor      Média  \\\n",
       "0  MANHÃ  WESLEY NATAN                         22  11.227273   \n",
       "1  MANHÃ       GILJOAN                         22  26.772727   \n",
       "\n",
       "   Alunos/professor  Ocupação Máxima  Professor Dias de Aulas  \\\n",
       "0               NaN              NaN        0.0    01-10-2024   \n",
       "1               NaN              NaN        0.0    01-10-2024   \n",
       "\n",
       "   Frequencia de Alunos  \n",
       "0                    10  \n",
       "1                    26  "
      ]
     },
     "execution_count": 623,
     "metadata": {},
     "output_type": "execute_result"
    }
   ],
   "source": [
    "dataGUA_melted.head(2)"
   ]
  },
  {
   "cell_type": "markdown",
   "id": "ccfe4952-c415-4663-b15d-39cdfdcb855a",
   "metadata": {
    "id": "ccfe4952-c415-4663-b15d-39cdfdcb855a"
   },
   "source": [
    "# KENNEDY [KEN] - PREPROCESSING 8"
   ]
  },
  {
   "cell_type": "code",
   "execution_count": 624,
   "id": "1d30ece4-d895-4593-b7c5-f45cfeab39ad",
   "metadata": {
    "id": "1d30ece4-d895-4593-b7c5-f45cfeab39ad"
   },
   "outputs": [],
   "source": [
    "data8 = pd.read_excel('base_de_frequencias_green_life_academias_dados_brutos.xlsx', sheet_name='KEN', skiprows=1, nrows=99)"
   ]
  },
  {
   "cell_type": "code",
   "execution_count": 625,
   "id": "73c53335-0b0c-4840-b759-02a36f21b727",
   "metadata": {
    "id": "73c53335-0b0c-4840-b759-02a36f21b727"
   },
   "outputs": [],
   "source": [
    "dataKEN = data8.copy()"
   ]
  },
  {
   "cell_type": "markdown",
   "id": "02c90be0-bec6-45d8-9372-9d571b43c897",
   "metadata": {
    "id": "02c90be0-bec6-45d8-9372-9d571b43c897"
   },
   "source": [
    "### 1 PASSO: Removendo colunas desnecessárias"
   ]
  },
  {
   "cell_type": "code",
   "execution_count": 626,
   "id": "7cd641da-5a53-48b1-bbe1-7532df529a89",
   "metadata": {
    "colab": {
     "base_uri": "https://localhost:8080/",
     "height": 418
    },
    "id": "7cd641da-5a53-48b1-bbe1-7532df529a89",
    "outputId": "341987bd-fafb-4933-bbcc-3d9bff043a5e"
   },
   "outputs": [
    {
     "data": {
      "text/html": [
       "<div>\n",
       "<style scoped>\n",
       "    .dataframe tbody tr th:only-of-type {\n",
       "        vertical-align: middle;\n",
       "    }\n",
       "\n",
       "    .dataframe tbody tr th {\n",
       "        vertical-align: top;\n",
       "    }\n",
       "\n",
       "    .dataframe thead th {\n",
       "        text-align: right;\n",
       "    }\n",
       "</style>\n",
       "<table border=\"1\" class=\"dataframe\">\n",
       "  <thead>\n",
       "    <tr style=\"text-align: right;\">\n",
       "      <th></th>\n",
       "      <th>Unnamed: 0</th>\n",
       "      <th>Unnamed: 1</th>\n",
       "      <th>Unnamed: 2</th>\n",
       "      <th>CATEGORIA</th>\n",
       "      <th>MODALIDADE</th>\n",
       "      <th>DIA DA SEMANA</th>\n",
       "      <th>HORÁRIO</th>\n",
       "      <th>AUX.1</th>\n",
       "      <th>TURNO</th>\n",
       "      <th>AUX 2</th>\n",
       "      <th>...</th>\n",
       "      <th>Ocupação Máxima</th>\n",
       "      <th>Professor</th>\n",
       "      <th>Unnamed: 40</th>\n",
       "      <th>Unnamed: 41</th>\n",
       "      <th>Unnamed: 42</th>\n",
       "      <th>Unnamed: 43</th>\n",
       "      <th>Unnamed: 44</th>\n",
       "      <th>Unnamed: 45</th>\n",
       "      <th>Unnamed: 46</th>\n",
       "      <th>Unnamed: 47</th>\n",
       "    </tr>\n",
       "  </thead>\n",
       "  <tbody>\n",
       "    <tr>\n",
       "      <th>96</th>\n",
       "      <td>NaN</td>\n",
       "      <td>NaN</td>\n",
       "      <td>NaN</td>\n",
       "      <td>QUADRA</td>\n",
       "      <td>BEACH TENIS INICIANTE</td>\n",
       "      <td>seg, ter, qua, qui, sex</td>\n",
       "      <td>21:00:00</td>\n",
       "      <td>21:00</td>\n",
       "      <td>NOITE</td>\n",
       "      <td>BEACH TENIS INICIANTE - 21:00</td>\n",
       "      <td>...</td>\n",
       "      <td>NaN</td>\n",
       "      <td>0.0</td>\n",
       "      <td>NaN</td>\n",
       "      <td>NaN</td>\n",
       "      <td>NaN</td>\n",
       "      <td>NaN</td>\n",
       "      <td>NaN</td>\n",
       "      <td>NaN</td>\n",
       "      <td>NaN</td>\n",
       "      <td>NaN</td>\n",
       "    </tr>\n",
       "    <tr>\n",
       "      <th>97</th>\n",
       "      <td>NaN</td>\n",
       "      <td>NaN</td>\n",
       "      <td>NaN</td>\n",
       "      <td>MUSC - C/P</td>\n",
       "      <td>A - MUSCULAÇÃO COM PERSONAL</td>\n",
       "      <td>seg, ter, qua, qui, sex</td>\n",
       "      <td>22:00:00</td>\n",
       "      <td>22:00</td>\n",
       "      <td>NOITE</td>\n",
       "      <td>A - MUSCULAÇÃO COM PERSONAL - 22:00</td>\n",
       "      <td>...</td>\n",
       "      <td>NaN</td>\n",
       "      <td>NaN</td>\n",
       "      <td>NaN</td>\n",
       "      <td>NaN</td>\n",
       "      <td>NaN</td>\n",
       "      <td>NaN</td>\n",
       "      <td>NaN</td>\n",
       "      <td>NaN</td>\n",
       "      <td>NaN</td>\n",
       "      <td>NaN</td>\n",
       "    </tr>\n",
       "    <tr>\n",
       "      <th>98</th>\n",
       "      <td>NaN</td>\n",
       "      <td>NaN</td>\n",
       "      <td>NaN</td>\n",
       "      <td>MUSC - S/P</td>\n",
       "      <td>A - MUSCULAÇÃO SEM PERSONAL</td>\n",
       "      <td>seg, ter, qua, qui, sex</td>\n",
       "      <td>22:00:00</td>\n",
       "      <td>22:00</td>\n",
       "      <td>NOITE</td>\n",
       "      <td>A - MUSCULAÇÃO SEM PERSONAL - 22:00</td>\n",
       "      <td>...</td>\n",
       "      <td>NaN</td>\n",
       "      <td>NaN</td>\n",
       "      <td>NaN</td>\n",
       "      <td>NaN</td>\n",
       "      <td>NaN</td>\n",
       "      <td>NaN</td>\n",
       "      <td>NaN</td>\n",
       "      <td>NaN</td>\n",
       "      <td>NaN</td>\n",
       "      <td>NaN</td>\n",
       "    </tr>\n",
       "  </tbody>\n",
       "</table>\n",
       "<p>3 rows × 48 columns</p>\n",
       "</div>"
      ],
      "text/plain": [
       "    Unnamed: 0  Unnamed: 1  Unnamed: 2   CATEGORIA  \\\n",
       "96         NaN         NaN         NaN      QUADRA   \n",
       "97         NaN         NaN         NaN  MUSC - C/P   \n",
       "98         NaN         NaN         NaN  MUSC - S/P   \n",
       "\n",
       "                     MODALIDADE            DIA DA SEMANA   HORÁRIO  AUX.1  \\\n",
       "96        BEACH TENIS INICIANTE  seg, ter, qua, qui, sex  21:00:00  21:00   \n",
       "97  A - MUSCULAÇÃO COM PERSONAL  seg, ter, qua, qui, sex  22:00:00  22:00   \n",
       "98  A - MUSCULAÇÃO SEM PERSONAL  seg, ter, qua, qui, sex  22:00:00  22:00   \n",
       "\n",
       "    TURNO                                AUX 2  ... Ocupação Máxima Professor  \\\n",
       "96  NOITE        BEACH TENIS INICIANTE - 21:00  ...             NaN       0.0   \n",
       "97  NOITE  A - MUSCULAÇÃO COM PERSONAL - 22:00  ...             NaN       NaN   \n",
       "98  NOITE  A - MUSCULAÇÃO SEM PERSONAL - 22:00  ...             NaN       NaN   \n",
       "\n",
       "   Unnamed: 40 Unnamed: 41 Unnamed: 42 Unnamed: 43 Unnamed: 44 Unnamed: 45  \\\n",
       "96         NaN         NaN         NaN         NaN         NaN         NaN   \n",
       "97         NaN         NaN         NaN         NaN         NaN         NaN   \n",
       "98         NaN         NaN         NaN         NaN         NaN         NaN   \n",
       "\n",
       "   Unnamed: 46 Unnamed: 47  \n",
       "96         NaN         NaN  \n",
       "97         NaN         NaN  \n",
       "98         NaN         NaN  \n",
       "\n",
       "[3 rows x 48 columns]"
      ]
     },
     "execution_count": 626,
     "metadata": {},
     "output_type": "execute_result"
    }
   ],
   "source": [
    "dataKEN.tail(3)"
   ]
  },
  {
   "cell_type": "code",
   "execution_count": 627,
   "id": "35df1dc0-7cc9-4916-b1dd-a4e0465bd980",
   "metadata": {
    "colab": {
     "base_uri": "https://localhost:8080/",
     "height": 1000
    },
    "id": "35df1dc0-7cc9-4916-b1dd-a4e0465bd980",
    "outputId": "7d69c997-5906-4197-a81e-62cc7bace80a"
   },
   "outputs": [
    {
     "data": {
      "text/plain": [
       "Unnamed: 0                                               NaN\n",
       "Unnamed: 1                                               NaN\n",
       "Unnamed: 2                                               NaN\n",
       "CATEGORIA                                         MUSC - S/P\n",
       "MODALIDADE                       A - MUSCULAÇÃO SEM PERSONAL\n",
       "DIA DA SEMANA                        seg, ter, qua, qui, sex\n",
       "HORÁRIO                                             22:00:00\n",
       "AUX.1                                                  22:00\n",
       "TURNO                                                  NOITE\n",
       "AUX 2                    A - MUSCULAÇÃO SEM PERSONAL - 22:00\n",
       "PROFESSOR                                            DOUGLAS\n",
       "AUX 3                  A - MUSCULAÇÃO SEM PERSONAL - DOUGLAS\n",
       "2024-10-01 00:00:00                                       52\n",
       "2024-10-02 00:00:00                                        6\n",
       "2024-10-03 00:00:00                                       38\n",
       "2024-10-04 00:00:00                                        3\n",
       "2024-10-07 00:00:00                                        2\n",
       "2024-10-08 00:00:00                                        6\n",
       "2024-10-09 00:00:00                                       35\n",
       "2024-10-10 00:00:00                                       39\n",
       "2024-10-11 00:00:00                                       28\n",
       "2024-10-14 00:00:00                                       29\n",
       "2024-10-15 00:00:00                                       41\n",
       "2024-10-16 00:00:00                                       30\n",
       "2024-10-17 00:00:00                                       35\n",
       "2024-10-18 00:00:00                                       28\n",
       "2024-10-21 00:00:00                                       42\n",
       "2024-10-22 00:00:00                                       31\n",
       "2024-10-23 00:00:00                                       33\n",
       "2024-10-24 00:00:00                                       22\n",
       "2024-10-25 00:00:00                                       26\n",
       "2024-10-28 00:00:00                                       35\n",
       "2024-10-29 00:00:00                                       24\n",
       "2024-10-30 00:00:00                                       35\n",
       "2024-10-31 00:00:00                                      NaN\n",
       "Aulas/mês                                                 22\n",
       "Média                                              28.181818\n",
       "Alunos/professor                                         NaN\n",
       "Ocupação Máxima                                          NaN\n",
       "Professor                                                NaN\n",
       "Unnamed: 40                                              NaN\n",
       "Unnamed: 41                                              NaN\n",
       "Unnamed: 42                                              NaN\n",
       "Unnamed: 43                                              NaN\n",
       "Unnamed: 44                                              NaN\n",
       "Unnamed: 45                                              NaN\n",
       "Unnamed: 46                                              NaN\n",
       "Unnamed: 47                                              NaN\n",
       "Name: 98, dtype: object"
      ]
     },
     "execution_count": 627,
     "metadata": {},
     "output_type": "execute_result"
    }
   ],
   "source": [
    "dataKEN.iloc[-1]"
   ]
  },
  {
   "cell_type": "code",
   "execution_count": 628,
   "id": "7c8a3ace-161b-44d9-8f5d-44ed69e20c14",
   "metadata": {
    "id": "7c8a3ace-161b-44d9-8f5d-44ed69e20c14"
   },
   "outputs": [],
   "source": [
    "dropColumns = ['Unnamed: 0', 'Unnamed: 1','Unnamed: 2', 'HORÁRIO', 'AUX 2', 'AUX 3',\n",
    "              'Unnamed: 40', 'Unnamed: 41', 'Unnamed: 42', 'Unnamed: 43', 'Unnamed: 44', 'Unnamed: 45', 'Unnamed: 46','Unnamed: 47']"
   ]
  },
  {
   "cell_type": "code",
   "execution_count": 629,
   "id": "b607583c-cb77-4697-bc77-d140832f7fea",
   "metadata": {
    "id": "b607583c-cb77-4697-bc77-d140832f7fea"
   },
   "outputs": [],
   "source": [
    "dataKEN.drop(columns=dropColumns, inplace=True)"
   ]
  },
  {
   "cell_type": "markdown",
   "id": "7a1bc7fc-6608-4116-90a2-234d0b1d87e1",
   "metadata": {
    "id": "7a1bc7fc-6608-4116-90a2-234d0b1d87e1"
   },
   "source": [
    "- PRECISAMOS RENOMEAR A COLUNA AUX.1 COMO HORARIO"
   ]
  },
  {
   "cell_type": "code",
   "execution_count": 630,
   "id": "e1dbeb4e-ce04-40bd-b40d-d4dbe66544d0",
   "metadata": {
    "id": "e1dbeb4e-ce04-40bd-b40d-d4dbe66544d0"
   },
   "outputs": [],
   "source": [
    "dataKEN.rename(columns={'AUX.1': 'HORÁRIO'}, inplace=True)"
   ]
  },
  {
   "cell_type": "code",
   "execution_count": 631,
   "id": "383c6048-98f1-40cd-8621-25214b809dc2",
   "metadata": {
    "colab": {
     "base_uri": "https://localhost:8080/",
     "height": 335
    },
    "id": "383c6048-98f1-40cd-8621-25214b809dc2",
    "outputId": "132eaf8c-c4ec-4277-a449-3ad36d9dbd0e"
   },
   "outputs": [
    {
     "data": {
      "text/html": [
       "<div>\n",
       "<style scoped>\n",
       "    .dataframe tbody tr th:only-of-type {\n",
       "        vertical-align: middle;\n",
       "    }\n",
       "\n",
       "    .dataframe tbody tr th {\n",
       "        vertical-align: top;\n",
       "    }\n",
       "\n",
       "    .dataframe thead th {\n",
       "        text-align: right;\n",
       "    }\n",
       "</style>\n",
       "<table border=\"1\" class=\"dataframe\">\n",
       "  <thead>\n",
       "    <tr style=\"text-align: right;\">\n",
       "      <th></th>\n",
       "      <th>CATEGORIA</th>\n",
       "      <th>MODALIDADE</th>\n",
       "      <th>DIA DA SEMANA</th>\n",
       "      <th>HORÁRIO</th>\n",
       "      <th>TURNO</th>\n",
       "      <th>PROFESSOR</th>\n",
       "      <th>2024-10-01 00:00:00</th>\n",
       "      <th>2024-10-02 00:00:00</th>\n",
       "      <th>2024-10-03 00:00:00</th>\n",
       "      <th>2024-10-04 00:00:00</th>\n",
       "      <th>...</th>\n",
       "      <th>2024-10-25 00:00:00</th>\n",
       "      <th>2024-10-28 00:00:00</th>\n",
       "      <th>2024-10-29 00:00:00</th>\n",
       "      <th>2024-10-30 00:00:00</th>\n",
       "      <th>2024-10-31 00:00:00</th>\n",
       "      <th>Aulas/mês</th>\n",
       "      <th>Média</th>\n",
       "      <th>Alunos/professor</th>\n",
       "      <th>Ocupação Máxima</th>\n",
       "      <th>Professor</th>\n",
       "    </tr>\n",
       "  </thead>\n",
       "  <tbody>\n",
       "    <tr>\n",
       "      <th>0</th>\n",
       "      <td>MUSC - C/P</td>\n",
       "      <td>A - MUSCULAÇÃO COM PERSONAL</td>\n",
       "      <td>seg, ter, qua, qui, sex</td>\n",
       "      <td>06:00</td>\n",
       "      <td>MANHÃ</td>\n",
       "      <td>FRANCYS JOADMAR</td>\n",
       "      <td>30</td>\n",
       "      <td>28</td>\n",
       "      <td>28</td>\n",
       "      <td>34</td>\n",
       "      <td>...</td>\n",
       "      <td>26</td>\n",
       "      <td>24</td>\n",
       "      <td>22</td>\n",
       "      <td>26</td>\n",
       "      <td>22</td>\n",
       "      <td>23</td>\n",
       "      <td>25.782609</td>\n",
       "      <td>NaN</td>\n",
       "      <td>NaN</td>\n",
       "      <td>0.0</td>\n",
       "    </tr>\n",
       "    <tr>\n",
       "      <th>1</th>\n",
       "      <td>MUSC - S/P</td>\n",
       "      <td>A - MUSCULAÇÃO SEM PERSONAL</td>\n",
       "      <td>seg, ter, qua, qui, sex</td>\n",
       "      <td>06:00</td>\n",
       "      <td>MANHÃ</td>\n",
       "      <td>FRANCYS JOADMAR</td>\n",
       "      <td>75</td>\n",
       "      <td>80</td>\n",
       "      <td>70</td>\n",
       "      <td>55</td>\n",
       "      <td>...</td>\n",
       "      <td>55</td>\n",
       "      <td>69</td>\n",
       "      <td>64</td>\n",
       "      <td>60</td>\n",
       "      <td>55</td>\n",
       "      <td>23</td>\n",
       "      <td>65.826087</td>\n",
       "      <td>NaN</td>\n",
       "      <td>NaN</td>\n",
       "      <td>NaN</td>\n",
       "    </tr>\n",
       "  </tbody>\n",
       "</table>\n",
       "<p>2 rows × 34 columns</p>\n",
       "</div>"
      ],
      "text/plain": [
       "    CATEGORIA                   MODALIDADE            DIA DA SEMANA HORÁRIO  \\\n",
       "0  MUSC - C/P  A - MUSCULAÇÃO COM PERSONAL  seg, ter, qua, qui, sex   06:00   \n",
       "1  MUSC - S/P  A - MUSCULAÇÃO SEM PERSONAL  seg, ter, qua, qui, sex   06:00   \n",
       "\n",
       "   TURNO        PROFESSOR 2024-10-01 00:00:00 2024-10-02 00:00:00  \\\n",
       "0  MANHÃ  FRANCYS JOADMAR                  30                  28   \n",
       "1  MANHÃ  FRANCYS JOADMAR                  75                  80   \n",
       "\n",
       "  2024-10-03 00:00:00 2024-10-04 00:00:00  ... 2024-10-25 00:00:00  \\\n",
       "0                  28                  34  ...                  26   \n",
       "1                  70                  55  ...                  55   \n",
       "\n",
       "  2024-10-28 00:00:00 2024-10-29 00:00:00 2024-10-30 00:00:00  \\\n",
       "0                  24                  22                  26   \n",
       "1                  69                  64                  60   \n",
       "\n",
       "  2024-10-31 00:00:00 Aulas/mês      Média Alunos/professor Ocupação Máxima  \\\n",
       "0                  22        23  25.782609              NaN             NaN   \n",
       "1                  55        23  65.826087              NaN             NaN   \n",
       "\n",
       "  Professor  \n",
       "0       0.0  \n",
       "1       NaN  \n",
       "\n",
       "[2 rows x 34 columns]"
      ]
     },
     "execution_count": 631,
     "metadata": {},
     "output_type": "execute_result"
    }
   ],
   "source": [
    "dataKEN.head(2)"
   ]
  },
  {
   "cell_type": "markdown",
   "id": "92c91215-39cf-454a-80e8-c16c4c85939d",
   "metadata": {
    "id": "92c91215-39cf-454a-80e8-c16c4c85939d"
   },
   "source": [
    "### 2 PASSO: Renomeando strings de datas, para que o pandas possa aceitar como colunas"
   ]
  },
  {
   "cell_type": "code",
   "execution_count": 632,
   "id": "3fed63cc-1bab-4f0c-9da8-38dec90f0057",
   "metadata": {
    "colab": {
     "base_uri": "https://localhost:8080/"
    },
    "id": "3fed63cc-1bab-4f0c-9da8-38dec90f0057",
    "outputId": "18cf3639-4901-43fe-ba8f-dfb55f447cae"
   },
   "outputs": [
    {
     "name": "stdout",
     "output_type": "stream",
     "text": [
      "CATEGORIA\n",
      "MODALIDADE\n",
      "DIA DA SEMANA\n",
      "HORÁRIO\n",
      "TURNO\n",
      "PROFESSOR\n",
      "2024-10-01 00:00:00\n",
      "2024-10-02 00:00:00\n",
      "2024-10-03 00:00:00\n",
      "2024-10-04 00:00:00\n",
      "2024-10-07 00:00:00\n",
      "2024-10-08 00:00:00\n",
      "2024-10-09 00:00:00\n",
      "2024-10-10 00:00:00\n",
      "2024-10-11 00:00:00\n",
      "2024-10-14 00:00:00\n",
      "2024-10-15 00:00:00\n",
      "2024-10-16 00:00:00\n",
      "2024-10-17 00:00:00\n",
      "2024-10-18 00:00:00\n",
      "2024-10-21 00:00:00\n",
      "2024-10-22 00:00:00\n",
      "2024-10-23 00:00:00\n",
      "2024-10-24 00:00:00\n",
      "2024-10-25 00:00:00\n",
      "2024-10-28 00:00:00\n",
      "2024-10-29 00:00:00\n",
      "2024-10-30 00:00:00\n",
      "2024-10-31 00:00:00\n",
      "Aulas/mês\n",
      "Média\n",
      "Alunos/professor\n",
      "Ocupação Máxima\n",
      "Professor\n"
     ]
    }
   ],
   "source": [
    "for columns in dataKEN.columns:\n",
    "    print(columns)"
   ]
  },
  {
   "cell_type": "code",
   "execution_count": 633,
   "id": "249fd77d-4bf2-459e-8275-d463845f866f",
   "metadata": {
    "id": "249fd77d-4bf2-459e-8275-d463845f866f"
   },
   "outputs": [],
   "source": [
    "dataKEN.columns = [\n",
    "'CATEGORIA',\n",
    "'MODALIDADE',\n",
    "'DIA DA SEMANA',\n",
    "'HORÁRIO',\n",
    "'TURNO',\n",
    "'PROFESSOR',\n",
    "'2024-10-01 00:00:00',\n",
    "'2024-10-02 00:00:00',\n",
    "'2024-10-03 00:00:00',\n",
    "'2024-10-04 00:00:00',\n",
    "'2024-10-07 00:00:00',\n",
    "'2024-10-08 00:00:00',\n",
    "'2024-10-09 00:00:00',\n",
    "'2024-10-10 00:00:00',\n",
    "'2024-10-11 00:00:00',\n",
    "'2024-10-14 00:00:00',\n",
    "'2024-10-15 00:00:00',\n",
    "'2024-10-16 00:00:00',\n",
    "'2024-10-17 00:00:00',\n",
    "'2024-10-18 00:00:00',\n",
    "'2024-10-21 00:00:00',\n",
    "'2024-10-22 00:00:00',\n",
    "'2024-10-23 00:00:00',\n",
    "'2024-10-24 00:00:00',\n",
    "'2024-10-25 00:00:00',\n",
    "'2024-10-28 00:00:00',\n",
    "'2024-10-29 00:00:00',\n",
    "'2024-10-30 00:00:00',\n",
    "'2024-10-31 00:00:00',\n",
    "'Aulas/mês',\n",
    "'Média',\n",
    "'Alunos/professor',\n",
    "'Ocupação Máxima',\n",
    "'Professor',\n",
    "]"
   ]
  },
  {
   "cell_type": "code",
   "execution_count": 634,
   "id": "9bf4df5e-e0f3-45c6-9fda-1846b00da13d",
   "metadata": {
    "colab": {
     "base_uri": "https://localhost:8080/"
    },
    "id": "9bf4df5e-e0f3-45c6-9fda-1846b00da13d",
    "outputId": "c28e38e4-5bdd-4a9e-ba5a-2535ca75332b"
   },
   "outputs": [
    {
     "data": {
      "text/plain": [
       "Index(['CATEGORIA', 'MODALIDADE', 'DIA DA SEMANA', 'HORÁRIO', 'TURNO',\n",
       "       'PROFESSOR', '2024-10-01 00:00:00', '2024-10-02 00:00:00',\n",
       "       '2024-10-03 00:00:00', '2024-10-04 00:00:00', '2024-10-07 00:00:00',\n",
       "       '2024-10-08 00:00:00', '2024-10-09 00:00:00', '2024-10-10 00:00:00',\n",
       "       '2024-10-11 00:00:00', '2024-10-14 00:00:00', '2024-10-15 00:00:00',\n",
       "       '2024-10-16 00:00:00', '2024-10-17 00:00:00', '2024-10-18 00:00:00',\n",
       "       '2024-10-21 00:00:00', '2024-10-22 00:00:00', '2024-10-23 00:00:00',\n",
       "       '2024-10-24 00:00:00', '2024-10-25 00:00:00', '2024-10-28 00:00:00',\n",
       "       '2024-10-29 00:00:00', '2024-10-30 00:00:00', '2024-10-31 00:00:00',\n",
       "       'Aulas/mês', 'Média', 'Alunos/professor', 'Ocupação Máxima',\n",
       "       'Professor'],\n",
       "      dtype='object')"
      ]
     },
     "execution_count": 634,
     "metadata": {},
     "output_type": "execute_result"
    }
   ],
   "source": [
    "dataKEN.columns"
   ]
  },
  {
   "cell_type": "markdown",
   "id": "3a8f6dc6-5b12-4eb4-bdf6-565851b0a624",
   "metadata": {
    "id": "3a8f6dc6-5b12-4eb4-bdf6-565851b0a624"
   },
   "source": [
    "### PASSO 3: Escolhendo colunas com o nome de 'datas', para renomear pelo o tipo dia, mês e ano. e removendo os 00 de horas"
   ]
  },
  {
   "cell_type": "code",
   "execution_count": 635,
   "id": "91cb8d17-3918-483f-aab2-2e93d30c4303",
   "metadata": {
    "id": "91cb8d17-3918-483f-aab2-2e93d30c4303"
   },
   "outputs": [],
   "source": [
    "colunas = [\n",
    "'2024-10-01 00:00:00',\n",
    "'2024-10-02 00:00:00',\n",
    "'2024-10-03 00:00:00',\n",
    "'2024-10-04 00:00:00',\n",
    "'2024-10-07 00:00:00',\n",
    "'2024-10-08 00:00:00',\n",
    "'2024-10-09 00:00:00',\n",
    "'2024-10-10 00:00:00',\n",
    "'2024-10-11 00:00:00',\n",
    "'2024-10-14 00:00:00',\n",
    "'2024-10-15 00:00:00',\n",
    "'2024-10-16 00:00:00',\n",
    "'2024-10-17 00:00:00',\n",
    "'2024-10-18 00:00:00',\n",
    "'2024-10-21 00:00:00',\n",
    "'2024-10-22 00:00:00',\n",
    "'2024-10-23 00:00:00',\n",
    "'2024-10-24 00:00:00',\n",
    "'2024-10-25 00:00:00',\n",
    "'2024-10-28 00:00:00',\n",
    "'2024-10-29 00:00:00',\n",
    "'2024-10-30 00:00:00',\n",
    "'2024-10-31 00:00:00',\n",
    "]"
   ]
  },
  {
   "cell_type": "code",
   "execution_count": 636,
   "id": "33ff7f4a-2f44-4360-bf1e-65a55468ad4e",
   "metadata": {
    "id": "33ff7f4a-2f44-4360-bf1e-65a55468ad4e"
   },
   "outputs": [],
   "source": [
    "novas_colunas_KEN = []"
   ]
  },
  {
   "cell_type": "code",
   "execution_count": 637,
   "id": "74247604-cdf1-4e6a-8b45-58888fab054e",
   "metadata": {
    "id": "74247604-cdf1-4e6a-8b45-58888fab054e"
   },
   "outputs": [],
   "source": [
    "for columns in colunas:\n",
    "    # Remove a parte da hora\n",
    "    data_sem_hora = columns.split(' ')[0]\n",
    "\n",
    "    # Formata para o formato DD-MM-YYYY\n",
    "    ano, mes, dia = data_sem_hora.split('-')\n",
    "    novo_nome = f'{dia}-{mes}-{ano}'\n",
    "    novas_colunas_KEN.append(novo_nome)"
   ]
  },
  {
   "cell_type": "code",
   "execution_count": 638,
   "id": "7f650718-7e2c-4375-9965-1c40f8eb3faa",
   "metadata": {
    "colab": {
     "base_uri": "https://localhost:8080/"
    },
    "id": "7f650718-7e2c-4375-9965-1c40f8eb3faa",
    "outputId": "31bdd4c2-2e82-4685-a5c6-a85d9daccccd"
   },
   "outputs": [
    {
     "data": {
      "text/plain": [
       "['01-10-2024',\n",
       " '02-10-2024',\n",
       " '03-10-2024',\n",
       " '04-10-2024',\n",
       " '07-10-2024',\n",
       " '08-10-2024',\n",
       " '09-10-2024',\n",
       " '10-10-2024',\n",
       " '11-10-2024',\n",
       " '14-10-2024',\n",
       " '15-10-2024',\n",
       " '16-10-2024',\n",
       " '17-10-2024',\n",
       " '18-10-2024',\n",
       " '21-10-2024',\n",
       " '22-10-2024',\n",
       " '23-10-2024',\n",
       " '24-10-2024',\n",
       " '25-10-2024',\n",
       " '28-10-2024',\n",
       " '29-10-2024',\n",
       " '30-10-2024',\n",
       " '31-10-2024']"
      ]
     },
     "execution_count": 638,
     "metadata": {},
     "output_type": "execute_result"
    }
   ],
   "source": [
    "novas_colunas_KEN"
   ]
  },
  {
   "cell_type": "markdown",
   "id": "5bbe2776-8ebd-4587-afaa-d89301cef612",
   "metadata": {
    "id": "5bbe2776-8ebd-4587-afaa-d89301cef612"
   },
   "source": [
    "### PASSO 4 renomeando colunas e acrescentando o novo formato"
   ]
  },
  {
   "cell_type": "markdown",
   "id": "17ef14be-b003-4aab-b4dd-58db6f2b4e7e",
   "metadata": {
    "id": "17ef14be-b003-4aab-b4dd-58db6f2b4e7e"
   },
   "source": [
    "copie as colunas que escolheu para renomear, e cole o formato novo no lugar das velhas"
   ]
  },
  {
   "cell_type": "code",
   "execution_count": 639,
   "id": "d116071a-bebb-485c-af94-29ec20017be7",
   "metadata": {
    "id": "d116071a-bebb-485c-af94-29ec20017be7"
   },
   "outputs": [],
   "source": [
    "# Adicionando as datas formatadas as colunas, copiando e colando"
   ]
  },
  {
   "cell_type": "code",
   "execution_count": 640,
   "id": "8a5b9f01-df4d-4595-b2e9-19c863e267a9",
   "metadata": {
    "colab": {
     "base_uri": "https://localhost:8080/"
    },
    "id": "8a5b9f01-df4d-4595-b2e9-19c863e267a9",
    "outputId": "09de0b03-3977-4148-9daf-9a5ad6968be8"
   },
   "outputs": [
    {
     "name": "stdout",
     "output_type": "stream",
     "text": [
      "CATEGORIA\n",
      "MODALIDADE\n",
      "DIA DA SEMANA\n",
      "HORÁRIO\n",
      "TURNO\n",
      "PROFESSOR\n",
      "2024-10-01 00:00:00\n",
      "2024-10-02 00:00:00\n",
      "2024-10-03 00:00:00\n",
      "2024-10-04 00:00:00\n",
      "2024-10-07 00:00:00\n",
      "2024-10-08 00:00:00\n",
      "2024-10-09 00:00:00\n",
      "2024-10-10 00:00:00\n",
      "2024-10-11 00:00:00\n",
      "2024-10-14 00:00:00\n",
      "2024-10-15 00:00:00\n",
      "2024-10-16 00:00:00\n",
      "2024-10-17 00:00:00\n",
      "2024-10-18 00:00:00\n",
      "2024-10-21 00:00:00\n",
      "2024-10-22 00:00:00\n",
      "2024-10-23 00:00:00\n",
      "2024-10-24 00:00:00\n",
      "2024-10-25 00:00:00\n",
      "2024-10-28 00:00:00\n",
      "2024-10-29 00:00:00\n",
      "2024-10-30 00:00:00\n",
      "2024-10-31 00:00:00\n",
      "Aulas/mês\n",
      "Média\n",
      "Alunos/professor\n",
      "Ocupação Máxima\n",
      "Professor\n"
     ]
    }
   ],
   "source": [
    "for columns in dataKEN.columns:\n",
    "    print (columns)"
   ]
  },
  {
   "cell_type": "code",
   "execution_count": 641,
   "id": "dd0e51ff-09e2-4da4-81ab-d872284dc2f5",
   "metadata": {
    "id": "dd0e51ff-09e2-4da4-81ab-d872284dc2f5"
   },
   "outputs": [],
   "source": [
    "dataKEN.columns =[\n",
    "'CATEGORIA',\n",
    "'MODALIDADE',\n",
    "'DIA DA SEMANA',\n",
    "'HORÁRIO',\n",
    "'TURNO',\n",
    "'PROFESSOR',\n",
    "'01-10-2024',\n",
    "'02-10-2024',\n",
    "'03-10-2024',\n",
    "'04-10-2024',\n",
    "'07-10-2024',\n",
    "'08-10-2024',\n",
    "'09-10-2024',\n",
    "'10-10-2024',\n",
    "'11-10-2024',\n",
    "'14-10-2024',\n",
    "'15-10-2024',\n",
    "'16-10-2024',\n",
    "'17-10-2024',\n",
    "'18-10-2024',\n",
    "'21-10-2024',\n",
    "'22-10-2024',\n",
    "'23-10-2024',\n",
    "'24-10-2024',\n",
    "'25-10-2024',\n",
    "'28-10-2024',\n",
    "'29-10-2024',\n",
    "'30-10-2024',\n",
    "'31-10-2024',\n",
    "'Aulas/mês',\n",
    "'Média',\n",
    "'Alunos/professor',\n",
    "'Ocupação Máxima',\n",
    "'Professor'\n",
    "]"
   ]
  },
  {
   "cell_type": "markdown",
   "id": "88ada582-d271-4c3f-9c22-07b10db4c2b3",
   "metadata": {
    "id": "88ada582-d271-4c3f-9c22-07b10db4c2b3"
   },
   "source": [
    "### 5 PASSO: Usar o Loop for para substitituir os valores das frequencia de 'x' e 'X' por zero, com o método do pd.to_numeric)"
   ]
  },
  {
   "cell_type": "code",
   "execution_count": 642,
   "id": "32fd90e8-f096-4810-a73d-7a473407089d",
   "metadata": {
    "id": "32fd90e8-f096-4810-a73d-7a473407089d"
   },
   "outputs": [],
   "source": [
    "colunas = [\n",
    "'01-10-2024',\n",
    "'02-10-2024',\n",
    "'03-10-2024',\n",
    "'04-10-2024',\n",
    "'07-10-2024',\n",
    "'08-10-2024',\n",
    "'09-10-2024',\n",
    "'10-10-2024',\n",
    "'11-10-2024',\n",
    "'14-10-2024',\n",
    "'15-10-2024',\n",
    "'16-10-2024',\n",
    "'17-10-2024',\n",
    "'18-10-2024',\n",
    "'21-10-2024',\n",
    "'22-10-2024',\n",
    "'23-10-2024',\n",
    "'24-10-2024',\n",
    "'25-10-2024',\n",
    "'28-10-2024',\n",
    "'29-10-2024',\n",
    "'30-10-2024',\n",
    "'31-10-2024'\n",
    "]"
   ]
  },
  {
   "cell_type": "markdown",
   "id": "639f85cb-131b-4eae-820f-34435e514bb4",
   "metadata": {
    "id": "639f85cb-131b-4eae-820f-34435e514bb4"
   },
   "source": [
    "Fazendo a limpeza profunda, formatando valores para numeros, preenchendo com zeros os nulos e transformando em inteiros"
   ]
  },
  {
   "cell_type": "code",
   "execution_count": 643,
   "id": "c18e3578-8b2d-40f0-9023-81d34d3e1559",
   "metadata": {
    "id": "c18e3578-8b2d-40f0-9023-81d34d3e1559"
   },
   "outputs": [],
   "source": [
    "for columns in colunas:\n",
    "    # dataMES[columns] = pd.to_numeric(dataMES[columns], errors='coerce')\n",
    "    dataKEN[columns] = pd.to_numeric(dataKEN[columns], errors='coerce').fillna(0).astype(int)"
   ]
  },
  {
   "cell_type": "markdown",
   "id": "469ac1a0-9343-4a0d-ab0d-48f0a8da86ed",
   "metadata": {
    "id": "469ac1a0-9343-4a0d-ab0d-48f0a8da86ed"
   },
   "source": [
    "### PASSO 6: MELT derretendo as colunas em formato de datas"
   ]
  },
  {
   "cell_type": "markdown",
   "id": "18c1d767-b667-4238-b0e0-f150d00011ad",
   "metadata": {
    "id": "18c1d767-b667-4238-b0e0-f150d00011ad"
   },
   "source": [
    "o MELT ele pega as colunas que estão na horizontal e cria uma coluna de categorias, e depois ele cria outra coluna com os valores dessas colunas que foram transformadas em dados categóricos"
   ]
  },
  {
   "cell_type": "code",
   "execution_count": 644,
   "id": "7e00057c-8c89-447f-9026-a869aa1c7292",
   "metadata": {
    "id": "7e00057c-8c89-447f-9026-a869aa1c7292"
   },
   "outputs": [],
   "source": [
    "colunas_para_melt = [\n",
    "'01-10-2024',\n",
    "'02-10-2024',\n",
    "'03-10-2024',\n",
    "'04-10-2024',\n",
    "'07-10-2024',\n",
    "'08-10-2024',\n",
    "'09-10-2024',\n",
    "'10-10-2024',\n",
    "'11-10-2024',\n",
    "'14-10-2024',\n",
    "'15-10-2024',\n",
    "'16-10-2024',\n",
    "'17-10-2024',\n",
    "'18-10-2024',\n",
    "'21-10-2024',\n",
    "'22-10-2024',\n",
    "'23-10-2024',\n",
    "'24-10-2024',\n",
    "'25-10-2024',\n",
    "'28-10-2024',\n",
    "'29-10-2024',\n",
    "'30-10-2024',\n",
    "'31-10-2024'\n",
    "]"
   ]
  },
  {
   "cell_type": "markdown",
   "id": "7b43f1f9-5715-492b-9e4c-d1ab083c3ffe",
   "metadata": {
    "id": "7b43f1f9-5715-492b-9e4c-d1ab083c3ffe"
   },
   "source": [
    "#### Indentificando as colunas que Eu quero manter em meu dataframe"
   ]
  },
  {
   "cell_type": "code",
   "execution_count": 645,
   "id": "fef0cfa9-0bd2-4937-97a4-f13d2b3bd868",
   "metadata": {
    "id": "fef0cfa9-0bd2-4937-97a4-f13d2b3bd868"
   },
   "outputs": [],
   "source": [
    "# Identifica as colunas que você quer manter como identificadoras (id_vars)\n",
    "# São as colunas que não serão \"unpivoted\"\n",
    "id_vars_cols = [columns for columns in dataKEN.columns if columns not in colunas_para_melt]"
   ]
  },
  {
   "cell_type": "code",
   "execution_count": 646,
   "id": "9968f605-4b4d-4495-80ec-31c91290f859",
   "metadata": {
    "id": "9968f605-4b4d-4495-80ec-31c91290f859"
   },
   "outputs": [],
   "source": [
    "dataKEN_melted = pd.melt(dataKEN,\n",
    "                      id_vars=id_vars_cols, #colunas que Eu deixei, que ficaram.\n",
    "                      value_vars=colunas_para_melt, #colunas que vão se transformar.\n",
    "                      var_name='Dias de Aulas', # nome da coluna categorica\n",
    "                      value_name='Frequencia de Alunos') # nome da coluna de valores"
   ]
  },
  {
   "cell_type": "code",
   "execution_count": 647,
   "id": "2924027a-d0d3-4211-9d62-51d5386e6540",
   "metadata": {
    "colab": {
     "base_uri": "https://localhost:8080/",
     "height": 216
    },
    "id": "2924027a-d0d3-4211-9d62-51d5386e6540",
    "outputId": "60bb7396-6ec7-436a-b74f-df0cb1c35285"
   },
   "outputs": [
    {
     "data": {
      "text/html": [
       "<div>\n",
       "<style scoped>\n",
       "    .dataframe tbody tr th:only-of-type {\n",
       "        vertical-align: middle;\n",
       "    }\n",
       "\n",
       "    .dataframe tbody tr th {\n",
       "        vertical-align: top;\n",
       "    }\n",
       "\n",
       "    .dataframe thead th {\n",
       "        text-align: right;\n",
       "    }\n",
       "</style>\n",
       "<table border=\"1\" class=\"dataframe\">\n",
       "  <thead>\n",
       "    <tr style=\"text-align: right;\">\n",
       "      <th></th>\n",
       "      <th>CATEGORIA</th>\n",
       "      <th>MODALIDADE</th>\n",
       "      <th>DIA DA SEMANA</th>\n",
       "      <th>HORÁRIO</th>\n",
       "      <th>TURNO</th>\n",
       "      <th>PROFESSOR</th>\n",
       "      <th>Aulas/mês</th>\n",
       "      <th>Média</th>\n",
       "      <th>Alunos/professor</th>\n",
       "      <th>Ocupação Máxima</th>\n",
       "      <th>Professor</th>\n",
       "      <th>Dias de Aulas</th>\n",
       "      <th>Frequencia de Alunos</th>\n",
       "    </tr>\n",
       "  </thead>\n",
       "  <tbody>\n",
       "    <tr>\n",
       "      <th>0</th>\n",
       "      <td>MUSC - C/P</td>\n",
       "      <td>A - MUSCULAÇÃO COM PERSONAL</td>\n",
       "      <td>seg, ter, qua, qui, sex</td>\n",
       "      <td>06:00</td>\n",
       "      <td>MANHÃ</td>\n",
       "      <td>FRANCYS JOADMAR</td>\n",
       "      <td>23</td>\n",
       "      <td>25.782609</td>\n",
       "      <td>NaN</td>\n",
       "      <td>NaN</td>\n",
       "      <td>0.0</td>\n",
       "      <td>01-10-2024</td>\n",
       "      <td>30</td>\n",
       "    </tr>\n",
       "    <tr>\n",
       "      <th>1</th>\n",
       "      <td>MUSC - S/P</td>\n",
       "      <td>A - MUSCULAÇÃO SEM PERSONAL</td>\n",
       "      <td>seg, ter, qua, qui, sex</td>\n",
       "      <td>06:00</td>\n",
       "      <td>MANHÃ</td>\n",
       "      <td>FRANCYS JOADMAR</td>\n",
       "      <td>23</td>\n",
       "      <td>65.826087</td>\n",
       "      <td>NaN</td>\n",
       "      <td>NaN</td>\n",
       "      <td>NaN</td>\n",
       "      <td>01-10-2024</td>\n",
       "      <td>75</td>\n",
       "    </tr>\n",
       "  </tbody>\n",
       "</table>\n",
       "</div>"
      ],
      "text/plain": [
       "    CATEGORIA                   MODALIDADE            DIA DA SEMANA HORÁRIO  \\\n",
       "0  MUSC - C/P  A - MUSCULAÇÃO COM PERSONAL  seg, ter, qua, qui, sex   06:00   \n",
       "1  MUSC - S/P  A - MUSCULAÇÃO SEM PERSONAL  seg, ter, qua, qui, sex   06:00   \n",
       "\n",
       "   TURNO        PROFESSOR  Aulas/mês      Média  Alunos/professor  \\\n",
       "0  MANHÃ  FRANCYS JOADMAR         23  25.782609               NaN   \n",
       "1  MANHÃ  FRANCYS JOADMAR         23  65.826087               NaN   \n",
       "\n",
       "   Ocupação Máxima  Professor Dias de Aulas  Frequencia de Alunos  \n",
       "0              NaN        0.0    01-10-2024                    30  \n",
       "1              NaN        NaN    01-10-2024                    75  "
      ]
     },
     "execution_count": 647,
     "metadata": {},
     "output_type": "execute_result"
    }
   ],
   "source": [
    "dataKEN_melted.head(2)"
   ]
  },
  {
   "cell_type": "code",
   "execution_count": 648,
   "id": "9e8e13b2-1400-43c6-a09f-a26d2c84234b",
   "metadata": {
    "colab": {
     "base_uri": "https://localhost:8080/"
    },
    "id": "9e8e13b2-1400-43c6-a09f-a26d2c84234b",
    "outputId": "766a59eb-2ee2-4383-d3f8-eb05dfa6c13c"
   },
   "outputs": [
    {
     "data": {
      "text/plain": [
       "np.int64(45687)"
      ]
     },
     "execution_count": 648,
     "metadata": {},
     "output_type": "execute_result"
    }
   ],
   "source": [
    "dataKEN_melted['Frequencia de Alunos'].sum()"
   ]
  },
  {
   "cell_type": "markdown",
   "id": "39fffdf1-ae18-4f08-848b-178da1110f5e",
   "metadata": {
    "id": "39fffdf1-ae18-4f08-848b-178da1110f5e"
   },
   "source": [
    "# MARANGUAPE [MPE] - PREPROCESSING 9"
   ]
  },
  {
   "cell_type": "code",
   "execution_count": 649,
   "id": "428af907-4a34-4987-bca0-4d5f16d74ed7",
   "metadata": {
    "id": "428af907-4a34-4987-bca0-4d5f16d74ed7"
   },
   "outputs": [],
   "source": [
    "data9 = pd.read_excel('base_de_frequencias_green_life_academias_dados_brutos.xlsx', sheet_name='MPE', skiprows=1, nrows=77)"
   ]
  },
  {
   "cell_type": "code",
   "execution_count": 650,
   "id": "9dad8a1b-d7b2-49f3-ae9e-68a93b0ae130",
   "metadata": {
    "id": "9dad8a1b-d7b2-49f3-ae9e-68a93b0ae130"
   },
   "outputs": [],
   "source": [
    "dataMPE = data9.copy()"
   ]
  },
  {
   "cell_type": "markdown",
   "id": "68be9f0b-7998-488c-bfbf-e194fc077e78",
   "metadata": {
    "id": "68be9f0b-7998-488c-bfbf-e194fc077e78"
   },
   "source": [
    "### 1 PASSO: Removendo colunas desnecessárias"
   ]
  },
  {
   "cell_type": "code",
   "execution_count": 651,
   "id": "ccd297e8-2587-4e1a-8691-bb5f6979234a",
   "metadata": {
    "colab": {
     "base_uri": "https://localhost:8080/",
     "height": 418
    },
    "id": "ccd297e8-2587-4e1a-8691-bb5f6979234a",
    "outputId": "a514d4e9-2b9c-41bb-85e4-e860aef22234"
   },
   "outputs": [
    {
     "data": {
      "text/html": [
       "<div>\n",
       "<style scoped>\n",
       "    .dataframe tbody tr th:only-of-type {\n",
       "        vertical-align: middle;\n",
       "    }\n",
       "\n",
       "    .dataframe tbody tr th {\n",
       "        vertical-align: top;\n",
       "    }\n",
       "\n",
       "    .dataframe thead th {\n",
       "        text-align: right;\n",
       "    }\n",
       "</style>\n",
       "<table border=\"1\" class=\"dataframe\">\n",
       "  <thead>\n",
       "    <tr style=\"text-align: right;\">\n",
       "      <th></th>\n",
       "      <th>Unnamed: 0</th>\n",
       "      <th>Unnamed: 1</th>\n",
       "      <th>Unnamed: 2</th>\n",
       "      <th>CATEGORIA</th>\n",
       "      <th>MODALIDADE</th>\n",
       "      <th>DIA DA SEMANA</th>\n",
       "      <th>HORÁRIO</th>\n",
       "      <th>AUX.1</th>\n",
       "      <th>TURNO</th>\n",
       "      <th>AUX 2</th>\n",
       "      <th>...</th>\n",
       "      <th>2024-10-25 00:00:00</th>\n",
       "      <th>2024-10-28 00:00:00</th>\n",
       "      <th>2024-10-29 00:00:00</th>\n",
       "      <th>2024-10-30 00:00:00</th>\n",
       "      <th>2024-10-31 00:00:00</th>\n",
       "      <th>Aulas/mês</th>\n",
       "      <th>Média</th>\n",
       "      <th>Alunos/professor</th>\n",
       "      <th>Ocupação Máxima</th>\n",
       "      <th>Professor</th>\n",
       "    </tr>\n",
       "  </thead>\n",
       "  <tbody>\n",
       "    <tr>\n",
       "      <th>72</th>\n",
       "      <td>NaN</td>\n",
       "      <td>NaN</td>\n",
       "      <td>NaN</td>\n",
       "      <td>QUADRA</td>\n",
       "      <td>BEACH TENNIS INICIANTE</td>\n",
       "      <td>seg,ter,qua,qui,sex</td>\n",
       "      <td>21:00:00</td>\n",
       "      <td>21:00</td>\n",
       "      <td>NOITE</td>\n",
       "      <td>BEACH TENNIS INICIANTE - 21:00</td>\n",
       "      <td>...</td>\n",
       "      <td>10</td>\n",
       "      <td>15</td>\n",
       "      <td>16</td>\n",
       "      <td>9</td>\n",
       "      <td>NaN</td>\n",
       "      <td>22</td>\n",
       "      <td>15.000000</td>\n",
       "      <td>NaN</td>\n",
       "      <td>NaN</td>\n",
       "      <td>0.0</td>\n",
       "    </tr>\n",
       "    <tr>\n",
       "      <th>73</th>\n",
       "      <td>NaN</td>\n",
       "      <td>NaN</td>\n",
       "      <td>NaN</td>\n",
       "      <td>MUSC - C/P</td>\n",
       "      <td>A - MUSCULAÇÃO COM PERSONAL</td>\n",
       "      <td>seg, ter, qua, qui, sex</td>\n",
       "      <td>22:00:00</td>\n",
       "      <td>22:00</td>\n",
       "      <td>NOITE</td>\n",
       "      <td>A - MUSCULAÇÃO COM PERSONAL - 22:00</td>\n",
       "      <td>...</td>\n",
       "      <td>0</td>\n",
       "      <td>0</td>\n",
       "      <td>0</td>\n",
       "      <td>2</td>\n",
       "      <td>NaN</td>\n",
       "      <td>22</td>\n",
       "      <td>1.090909</td>\n",
       "      <td>NaN</td>\n",
       "      <td>NaN</td>\n",
       "      <td>0.0</td>\n",
       "    </tr>\n",
       "    <tr>\n",
       "      <th>74</th>\n",
       "      <td>NaN</td>\n",
       "      <td>NaN</td>\n",
       "      <td>NaN</td>\n",
       "      <td>MUSC - S/P</td>\n",
       "      <td>A - MUSCULAÇÃO SEM PERSONAL</td>\n",
       "      <td>seg, ter, qua, qui, sex</td>\n",
       "      <td>22:00:00</td>\n",
       "      <td>22:00</td>\n",
       "      <td>NOITE</td>\n",
       "      <td>A - MUSCULAÇÃO SEM PERSONAL - 22:00</td>\n",
       "      <td>...</td>\n",
       "      <td>3</td>\n",
       "      <td>16</td>\n",
       "      <td>31</td>\n",
       "      <td>14</td>\n",
       "      <td>NaN</td>\n",
       "      <td>22</td>\n",
       "      <td>12.318182</td>\n",
       "      <td>6.159091</td>\n",
       "      <td>NaN</td>\n",
       "      <td>2.0</td>\n",
       "    </tr>\n",
       "  </tbody>\n",
       "</table>\n",
       "<p>3 rows × 40 columns</p>\n",
       "</div>"
      ],
      "text/plain": [
       "    Unnamed: 0  Unnamed: 1  Unnamed: 2   CATEGORIA  \\\n",
       "72         NaN         NaN         NaN      QUADRA   \n",
       "73         NaN         NaN         NaN  MUSC - C/P   \n",
       "74         NaN         NaN         NaN  MUSC - S/P   \n",
       "\n",
       "                     MODALIDADE            DIA DA SEMANA   HORÁRIO  AUX.1  \\\n",
       "72       BEACH TENNIS INICIANTE      seg,ter,qua,qui,sex  21:00:00  21:00   \n",
       "73  A - MUSCULAÇÃO COM PERSONAL  seg, ter, qua, qui, sex  22:00:00  22:00   \n",
       "74  A - MUSCULAÇÃO SEM PERSONAL  seg, ter, qua, qui, sex  22:00:00  22:00   \n",
       "\n",
       "    TURNO                                AUX 2  ... 2024-10-25 00:00:00  \\\n",
       "72  NOITE       BEACH TENNIS INICIANTE - 21:00  ...                  10   \n",
       "73  NOITE  A - MUSCULAÇÃO COM PERSONAL - 22:00  ...                   0   \n",
       "74  NOITE  A - MUSCULAÇÃO SEM PERSONAL - 22:00  ...                   3   \n",
       "\n",
       "   2024-10-28 00:00:00 2024-10-29 00:00:00 2024-10-30 00:00:00  \\\n",
       "72                  15                  16                   9   \n",
       "73                   0                   0                   2   \n",
       "74                  16                  31                  14   \n",
       "\n",
       "   2024-10-31 00:00:00 Aulas/mês      Média Alunos/professor Ocupação Máxima  \\\n",
       "72                 NaN        22  15.000000              NaN             NaN   \n",
       "73                 NaN        22   1.090909              NaN             NaN   \n",
       "74                 NaN        22  12.318182         6.159091             NaN   \n",
       "\n",
       "   Professor  \n",
       "72       0.0  \n",
       "73       0.0  \n",
       "74       2.0  \n",
       "\n",
       "[3 rows x 40 columns]"
      ]
     },
     "execution_count": 651,
     "metadata": {},
     "output_type": "execute_result"
    }
   ],
   "source": [
    "dataMPE.tail(3)"
   ]
  },
  {
   "cell_type": "code",
   "execution_count": 652,
   "id": "9979f4b7-70a9-410f-89e7-efd581ebccb8",
   "metadata": {
    "colab": {
     "base_uri": "https://localhost:8080/",
     "height": 1000
    },
    "id": "9979f4b7-70a9-410f-89e7-efd581ebccb8",
    "outputId": "e9d8cd6d-2d0b-4686-f968-d0df3632a591"
   },
   "outputs": [
    {
     "data": {
      "text/plain": [
       "Unnamed: 0                                             NaN\n",
       "Unnamed: 1                                             NaN\n",
       "Unnamed: 2                                             NaN\n",
       "CATEGORIA                                       MUSC - S/P\n",
       "MODALIDADE                     A - MUSCULAÇÃO SEM PERSONAL\n",
       "DIA DA SEMANA                      seg, ter, qua, qui, sex\n",
       "HORÁRIO                                           22:00:00\n",
       "AUX.1                                                22:00\n",
       "TURNO                                                NOITE\n",
       "AUX 2                  A - MUSCULAÇÃO SEM PERSONAL - 22:00\n",
       "PROFESSOR                                             NILO\n",
       "AUX 3                   A - MUSCULAÇÃO SEM PERSONAL - NILO\n",
       "2024-10-01 00:00:00                                     14\n",
       "2024-10-02 00:00:00                                     11\n",
       "2024-10-03 00:00:00                                      5\n",
       "2024-10-04 00:00:00                                      3\n",
       "2024-10-07 00:00:00                                     12\n",
       "2024-10-08 00:00:00                                     19\n",
       "2024-10-09 00:00:00                                     11\n",
       "2024-10-10 00:00:00                                     11\n",
       "2024-10-11 00:00:00                                      6\n",
       "2024-10-14 00:00:00                                     26\n",
       "2024-10-15 00:00:00                                     13\n",
       "2024-10-16 00:00:00                                     14\n",
       "2024-10-17 00:00:00                                      2\n",
       "2024-10-18 00:00:00                                     10\n",
       "2024-10-21 00:00:00                                     15\n",
       "2024-10-22 00:00:00                                      7\n",
       "2024-10-23 00:00:00                                     21\n",
       "2024-10-24 00:00:00                                      7\n",
       "2024-10-25 00:00:00                                      3\n",
       "2024-10-28 00:00:00                                     16\n",
       "2024-10-29 00:00:00                                     31\n",
       "2024-10-30 00:00:00                                     14\n",
       "2024-10-31 00:00:00                                    NaN\n",
       "Aulas/mês                                               22\n",
       "Média                                            12.318182\n",
       "Alunos/professor                                  6.159091\n",
       "Ocupação Máxima                                        NaN\n",
       "Professor                                              2.0\n",
       "Name: 74, dtype: object"
      ]
     },
     "execution_count": 652,
     "metadata": {},
     "output_type": "execute_result"
    }
   ],
   "source": [
    "dataMPE.iloc[-1]"
   ]
  },
  {
   "cell_type": "code",
   "execution_count": 653,
   "id": "b6d718d8-1f46-420f-be35-6124df358c65",
   "metadata": {
    "colab": {
     "base_uri": "https://localhost:8080/"
    },
    "id": "b6d718d8-1f46-420f-be35-6124df358c65",
    "outputId": "993d5763-31f8-4900-bb3d-21ec8eac6d19"
   },
   "outputs": [
    {
     "data": {
      "text/plain": [
       "Index([       'Unnamed: 0',        'Unnamed: 1',        'Unnamed: 2',\n",
       "               'CATEGORIA',        'MODALIDADE',     'DIA DA SEMANA',\n",
       "                 'HORÁRIO',             'AUX.1',             'TURNO',\n",
       "                   'AUX 2',         'PROFESSOR',             'AUX 3',\n",
       "       2024-10-01 00:00:00, 2024-10-02 00:00:00, 2024-10-03 00:00:00,\n",
       "       2024-10-04 00:00:00, 2024-10-07 00:00:00, 2024-10-08 00:00:00,\n",
       "       2024-10-09 00:00:00, 2024-10-10 00:00:00, 2024-10-11 00:00:00,\n",
       "       2024-10-14 00:00:00, 2024-10-15 00:00:00, 2024-10-16 00:00:00,\n",
       "       2024-10-17 00:00:00, 2024-10-18 00:00:00, 2024-10-21 00:00:00,\n",
       "       2024-10-22 00:00:00, 2024-10-23 00:00:00, 2024-10-24 00:00:00,\n",
       "       2024-10-25 00:00:00, 2024-10-28 00:00:00, 2024-10-29 00:00:00,\n",
       "       2024-10-30 00:00:00, 2024-10-31 00:00:00,         'Aulas/mês',\n",
       "                   'Média',  'Alunos/professor',   'Ocupação Máxima',\n",
       "               'Professor'],\n",
       "      dtype='object')"
      ]
     },
     "execution_count": 653,
     "metadata": {},
     "output_type": "execute_result"
    }
   ],
   "source": [
    "dataMPE.columns"
   ]
  },
  {
   "cell_type": "code",
   "execution_count": 654,
   "id": "7fd5911a-c3ae-431e-bf5c-508822caf54b",
   "metadata": {
    "id": "7fd5911a-c3ae-431e-bf5c-508822caf54b"
   },
   "outputs": [],
   "source": [
    "dropColumns = ['Unnamed: 0', 'Unnamed: 1', 'Unnamed: 2', 'AUX 2', 'AUX 3', 'HORÁRIO']"
   ]
  },
  {
   "cell_type": "code",
   "execution_count": 655,
   "id": "24455c72-d3bc-4ffb-b112-752981cf4b49",
   "metadata": {
    "id": "24455c72-d3bc-4ffb-b112-752981cf4b49"
   },
   "outputs": [],
   "source": [
    "dataMPE.drop(columns=dropColumns, inplace=True)"
   ]
  },
  {
   "cell_type": "markdown",
   "id": "835ef168-0c4b-4d52-859a-c97ad8fbff3b",
   "metadata": {
    "id": "835ef168-0c4b-4d52-859a-c97ad8fbff3b"
   },
   "source": [
    "- PRECISAMOS RENOMEAR A COLUNA AUX.1 COMO HORARIO"
   ]
  },
  {
   "cell_type": "code",
   "execution_count": 656,
   "id": "c1cd8fbe-db66-424c-97b9-e1eeefa9314d",
   "metadata": {
    "id": "c1cd8fbe-db66-424c-97b9-e1eeefa9314d"
   },
   "outputs": [],
   "source": [
    "dataMPE.rename(columns={'AUX.1': 'HORÁRIO'}, inplace=True)"
   ]
  },
  {
   "cell_type": "code",
   "execution_count": 657,
   "id": "06911d51-15b3-49c2-8e01-4329bd6adf96",
   "metadata": {
    "colab": {
     "base_uri": "https://localhost:8080/",
     "height": 335
    },
    "id": "06911d51-15b3-49c2-8e01-4329bd6adf96",
    "outputId": "a94e15f9-3579-4e9b-aac5-3fdc0a460db6"
   },
   "outputs": [
    {
     "data": {
      "text/html": [
       "<div>\n",
       "<style scoped>\n",
       "    .dataframe tbody tr th:only-of-type {\n",
       "        vertical-align: middle;\n",
       "    }\n",
       "\n",
       "    .dataframe tbody tr th {\n",
       "        vertical-align: top;\n",
       "    }\n",
       "\n",
       "    .dataframe thead th {\n",
       "        text-align: right;\n",
       "    }\n",
       "</style>\n",
       "<table border=\"1\" class=\"dataframe\">\n",
       "  <thead>\n",
       "    <tr style=\"text-align: right;\">\n",
       "      <th></th>\n",
       "      <th>CATEGORIA</th>\n",
       "      <th>MODALIDADE</th>\n",
       "      <th>DIA DA SEMANA</th>\n",
       "      <th>HORÁRIO</th>\n",
       "      <th>TURNO</th>\n",
       "      <th>PROFESSOR</th>\n",
       "      <th>2024-10-01 00:00:00</th>\n",
       "      <th>2024-10-02 00:00:00</th>\n",
       "      <th>2024-10-03 00:00:00</th>\n",
       "      <th>2024-10-04 00:00:00</th>\n",
       "      <th>...</th>\n",
       "      <th>2024-10-25 00:00:00</th>\n",
       "      <th>2024-10-28 00:00:00</th>\n",
       "      <th>2024-10-29 00:00:00</th>\n",
       "      <th>2024-10-30 00:00:00</th>\n",
       "      <th>2024-10-31 00:00:00</th>\n",
       "      <th>Aulas/mês</th>\n",
       "      <th>Média</th>\n",
       "      <th>Alunos/professor</th>\n",
       "      <th>Ocupação Máxima</th>\n",
       "      <th>Professor</th>\n",
       "    </tr>\n",
       "  </thead>\n",
       "  <tbody>\n",
       "    <tr>\n",
       "      <th>0</th>\n",
       "      <td>MUSC - C/P</td>\n",
       "      <td>A - MUSCULAÇÃO COM PERSONAL</td>\n",
       "      <td>seg, ter, qua, qui, sex</td>\n",
       "      <td>06:00</td>\n",
       "      <td>MANHÃ</td>\n",
       "      <td>NELSON</td>\n",
       "      <td>12</td>\n",
       "      <td>12</td>\n",
       "      <td>13</td>\n",
       "      <td>12</td>\n",
       "      <td>...</td>\n",
       "      <td>10</td>\n",
       "      <td>17</td>\n",
       "      <td>12</td>\n",
       "      <td>17</td>\n",
       "      <td>7</td>\n",
       "      <td>23</td>\n",
       "      <td>12.652174</td>\n",
       "      <td>NaN</td>\n",
       "      <td>NaN</td>\n",
       "      <td>0.0</td>\n",
       "    </tr>\n",
       "    <tr>\n",
       "      <th>1</th>\n",
       "      <td>MUSC - S/P</td>\n",
       "      <td>A - MUSCULAÇÃO SEM PERSONAL</td>\n",
       "      <td>seg, ter, qua, qui, sex</td>\n",
       "      <td>06:00</td>\n",
       "      <td>MANHÃ</td>\n",
       "      <td>NELSON</td>\n",
       "      <td>56</td>\n",
       "      <td>48</td>\n",
       "      <td>45</td>\n",
       "      <td>60</td>\n",
       "      <td>...</td>\n",
       "      <td>48</td>\n",
       "      <td>57</td>\n",
       "      <td>48</td>\n",
       "      <td>51</td>\n",
       "      <td>42</td>\n",
       "      <td>23</td>\n",
       "      <td>49.565217</td>\n",
       "      <td>24.782609</td>\n",
       "      <td>NaN</td>\n",
       "      <td>2.0</td>\n",
       "    </tr>\n",
       "  </tbody>\n",
       "</table>\n",
       "<p>2 rows × 34 columns</p>\n",
       "</div>"
      ],
      "text/plain": [
       "    CATEGORIA                   MODALIDADE            DIA DA SEMANA HORÁRIO  \\\n",
       "0  MUSC - C/P  A - MUSCULAÇÃO COM PERSONAL  seg, ter, qua, qui, sex   06:00   \n",
       "1  MUSC - S/P  A - MUSCULAÇÃO SEM PERSONAL  seg, ter, qua, qui, sex   06:00   \n",
       "\n",
       "   TURNO PROFESSOR 2024-10-01 00:00:00 2024-10-02 00:00:00  \\\n",
       "0  MANHÃ    NELSON                  12                  12   \n",
       "1  MANHÃ    NELSON                  56                  48   \n",
       "\n",
       "  2024-10-03 00:00:00 2024-10-04 00:00:00  ... 2024-10-25 00:00:00  \\\n",
       "0                  13                  12  ...                  10   \n",
       "1                  45                  60  ...                  48   \n",
       "\n",
       "  2024-10-28 00:00:00 2024-10-29 00:00:00 2024-10-30 00:00:00  \\\n",
       "0                  17                  12                  17   \n",
       "1                  57                  48                  51   \n",
       "\n",
       "  2024-10-31 00:00:00 Aulas/mês      Média Alunos/professor Ocupação Máxima  \\\n",
       "0                   7        23  12.652174              NaN             NaN   \n",
       "1                  42        23  49.565217        24.782609             NaN   \n",
       "\n",
       "  Professor  \n",
       "0       0.0  \n",
       "1       2.0  \n",
       "\n",
       "[2 rows x 34 columns]"
      ]
     },
     "execution_count": 657,
     "metadata": {},
     "output_type": "execute_result"
    }
   ],
   "source": [
    "dataMPE.head(2)"
   ]
  },
  {
   "cell_type": "markdown",
   "id": "c12388bb-1510-4603-9f4e-574d88970c00",
   "metadata": {
    "id": "c12388bb-1510-4603-9f4e-574d88970c00"
   },
   "source": [
    "### 2 PASSO: Renomeando strings de datas, para que o pandas possa aceitar como colunas"
   ]
  },
  {
   "cell_type": "code",
   "execution_count": 658,
   "id": "234eda33-d6e3-47b0-9e5e-4001f475225a",
   "metadata": {
    "colab": {
     "base_uri": "https://localhost:8080/"
    },
    "id": "234eda33-d6e3-47b0-9e5e-4001f475225a",
    "outputId": "8c014d37-2381-4a4f-c4bd-7167c3954953"
   },
   "outputs": [
    {
     "name": "stdout",
     "output_type": "stream",
     "text": [
      "CATEGORIA\n",
      "MODALIDADE\n",
      "DIA DA SEMANA\n",
      "HORÁRIO\n",
      "TURNO\n",
      "PROFESSOR\n",
      "2024-10-01 00:00:00\n",
      "2024-10-02 00:00:00\n",
      "2024-10-03 00:00:00\n",
      "2024-10-04 00:00:00\n",
      "2024-10-07 00:00:00\n",
      "2024-10-08 00:00:00\n",
      "2024-10-09 00:00:00\n",
      "2024-10-10 00:00:00\n",
      "2024-10-11 00:00:00\n",
      "2024-10-14 00:00:00\n",
      "2024-10-15 00:00:00\n",
      "2024-10-16 00:00:00\n",
      "2024-10-17 00:00:00\n",
      "2024-10-18 00:00:00\n",
      "2024-10-21 00:00:00\n",
      "2024-10-22 00:00:00\n",
      "2024-10-23 00:00:00\n",
      "2024-10-24 00:00:00\n",
      "2024-10-25 00:00:00\n",
      "2024-10-28 00:00:00\n",
      "2024-10-29 00:00:00\n",
      "2024-10-30 00:00:00\n",
      "2024-10-31 00:00:00\n",
      "Aulas/mês\n",
      "Média\n",
      "Alunos/professor\n",
      "Ocupação Máxima\n",
      "Professor\n"
     ]
    }
   ],
   "source": [
    "for columns in dataMPE.columns:\n",
    "    print(columns)"
   ]
  },
  {
   "cell_type": "code",
   "execution_count": 659,
   "id": "cccf6cc2-305e-4b78-bc30-baeed98eeaa5",
   "metadata": {
    "id": "cccf6cc2-305e-4b78-bc30-baeed98eeaa5"
   },
   "outputs": [],
   "source": [
    "dataMPE.columns = [\n",
    "'CATEGORIA',\n",
    "'MODALIDADE',\n",
    "'DIA DA SEMANA',\n",
    "'HORÁRIO',\n",
    "'TURNO',\n",
    "'PROFESSOR',\n",
    "'2024-10-01 00:00:00',\n",
    "'2024-10-02 00:00:00',\n",
    "'2024-10-03 00:00:00',\n",
    "'2024-10-04 00:00:00',\n",
    "'2024-10-07 00:00:00',\n",
    "'2024-10-08 00:00:00',\n",
    "'2024-10-09 00:00:00',\n",
    "'2024-10-10 00:00:00',\n",
    "'2024-10-11 00:00:00',\n",
    "'2024-10-14 00:00:00',\n",
    "'2024-10-15 00:00:00',\n",
    "'2024-10-16 00:00:00',\n",
    "'2024-10-17 00:00:00',\n",
    "'2024-10-18 00:00:00',\n",
    "'2024-10-21 00:00:00',\n",
    "'2024-10-22 00:00:00',\n",
    "'2024-10-23 00:00:00',\n",
    "'2024-10-24 00:00:00',\n",
    "'2024-10-25 00:00:00',\n",
    "'2024-10-28 00:00:00',\n",
    "'2024-10-29 00:00:00',\n",
    "'2024-10-30 00:00:00',\n",
    "'2024-10-31 00:00:00',\n",
    "'Aulas/mês',\n",
    "'Média',\n",
    "'Alunos/professor',\n",
    "'Ocupação Máxima',\n",
    "'Professor'\n",
    "]"
   ]
  },
  {
   "cell_type": "code",
   "execution_count": 660,
   "id": "c9c1bfa5-9166-4ebb-a2c8-64a151a38c8d",
   "metadata": {
    "colab": {
     "base_uri": "https://localhost:8080/"
    },
    "id": "c9c1bfa5-9166-4ebb-a2c8-64a151a38c8d",
    "outputId": "b3ac0e02-3407-4eca-98f1-f162a94b2f6c"
   },
   "outputs": [
    {
     "data": {
      "text/plain": [
       "Index(['CATEGORIA', 'MODALIDADE', 'DIA DA SEMANA', 'HORÁRIO', 'TURNO',\n",
       "       'PROFESSOR', '2024-10-01 00:00:00', '2024-10-02 00:00:00',\n",
       "       '2024-10-03 00:00:00', '2024-10-04 00:00:00', '2024-10-07 00:00:00',\n",
       "       '2024-10-08 00:00:00', '2024-10-09 00:00:00', '2024-10-10 00:00:00',\n",
       "       '2024-10-11 00:00:00', '2024-10-14 00:00:00', '2024-10-15 00:00:00',\n",
       "       '2024-10-16 00:00:00', '2024-10-17 00:00:00', '2024-10-18 00:00:00',\n",
       "       '2024-10-21 00:00:00', '2024-10-22 00:00:00', '2024-10-23 00:00:00',\n",
       "       '2024-10-24 00:00:00', '2024-10-25 00:00:00', '2024-10-28 00:00:00',\n",
       "       '2024-10-29 00:00:00', '2024-10-30 00:00:00', '2024-10-31 00:00:00',\n",
       "       'Aulas/mês', 'Média', 'Alunos/professor', 'Ocupação Máxima',\n",
       "       'Professor'],\n",
       "      dtype='object')"
      ]
     },
     "execution_count": 660,
     "metadata": {},
     "output_type": "execute_result"
    }
   ],
   "source": [
    "dataMPE.columns"
   ]
  },
  {
   "cell_type": "markdown",
   "id": "30025253-12e9-4a7a-a48e-651362421250",
   "metadata": {
    "id": "30025253-12e9-4a7a-a48e-651362421250"
   },
   "source": [
    "### PASSO 3: Escolhendo colunas com o nome de 'datas', para renomear pelo o tipo dia, mês e ano. e removendo os 00 de horas"
   ]
  },
  {
   "cell_type": "code",
   "execution_count": 661,
   "id": "252aa052-419b-4c65-b0d9-864ce3c662a6",
   "metadata": {
    "id": "252aa052-419b-4c65-b0d9-864ce3c662a6"
   },
   "outputs": [],
   "source": [
    "colunas = [\n",
    "'2024-10-01 00:00:00',\n",
    "'2024-10-02 00:00:00',\n",
    "'2024-10-03 00:00:00',\n",
    "'2024-10-04 00:00:00',\n",
    "'2024-10-07 00:00:00',\n",
    "'2024-10-08 00:00:00',\n",
    "'2024-10-09 00:00:00',\n",
    "'2024-10-10 00:00:00',\n",
    "'2024-10-11 00:00:00',\n",
    "'2024-10-14 00:00:00',\n",
    "'2024-10-15 00:00:00',\n",
    "'2024-10-16 00:00:00',\n",
    "'2024-10-17 00:00:00',\n",
    "'2024-10-18 00:00:00',\n",
    "'2024-10-21 00:00:00',\n",
    "'2024-10-22 00:00:00',\n",
    "'2024-10-23 00:00:00',\n",
    "'2024-10-24 00:00:00',\n",
    "'2024-10-25 00:00:00',\n",
    "'2024-10-28 00:00:00',\n",
    "'2024-10-29 00:00:00',\n",
    "'2024-10-30 00:00:00',\n",
    "'2024-10-31 00:00:00',\n",
    "]"
   ]
  },
  {
   "cell_type": "code",
   "execution_count": 662,
   "id": "0c17aba7-685f-4508-8761-c625adeb4fcf",
   "metadata": {
    "id": "0c17aba7-685f-4508-8761-c625adeb4fcf"
   },
   "outputs": [],
   "source": [
    "novas_colunas_MPE = []"
   ]
  },
  {
   "cell_type": "code",
   "execution_count": 663,
   "id": "0ed67f71-c4d7-407b-8407-5c92ea450419",
   "metadata": {
    "id": "0ed67f71-c4d7-407b-8407-5c92ea450419"
   },
   "outputs": [],
   "source": [
    "for columns in colunas:\n",
    "    # Remove a parte da hora\n",
    "    data_sem_hora = columns.split(' ')[0]\n",
    "\n",
    "    # Formata para o formato DD-MM-YYYY\n",
    "    ano, mes, dia = data_sem_hora.split('-')\n",
    "    novo_nome = f'{dia}-{mes}-{ano}'\n",
    "    novas_colunas_MPE.append(novo_nome)"
   ]
  },
  {
   "cell_type": "code",
   "execution_count": 664,
   "id": "76c4b11f-fdb3-45b3-9644-973fbee36d1d",
   "metadata": {
    "colab": {
     "base_uri": "https://localhost:8080/"
    },
    "id": "76c4b11f-fdb3-45b3-9644-973fbee36d1d",
    "outputId": "46168d64-2880-4e20-dc18-8cd5b1092384"
   },
   "outputs": [
    {
     "data": {
      "text/plain": [
       "['01-10-2024',\n",
       " '02-10-2024',\n",
       " '03-10-2024',\n",
       " '04-10-2024',\n",
       " '07-10-2024',\n",
       " '08-10-2024',\n",
       " '09-10-2024',\n",
       " '10-10-2024',\n",
       " '11-10-2024',\n",
       " '14-10-2024',\n",
       " '15-10-2024',\n",
       " '16-10-2024',\n",
       " '17-10-2024',\n",
       " '18-10-2024',\n",
       " '21-10-2024',\n",
       " '22-10-2024',\n",
       " '23-10-2024',\n",
       " '24-10-2024',\n",
       " '25-10-2024',\n",
       " '28-10-2024',\n",
       " '29-10-2024',\n",
       " '30-10-2024',\n",
       " '31-10-2024']"
      ]
     },
     "execution_count": 664,
     "metadata": {},
     "output_type": "execute_result"
    }
   ],
   "source": [
    "novas_colunas_MPE"
   ]
  },
  {
   "cell_type": "markdown",
   "id": "a68620c8-1ff9-4331-87cb-b4bb23f59df9",
   "metadata": {
    "id": "a68620c8-1ff9-4331-87cb-b4bb23f59df9"
   },
   "source": [
    "### PASSO 4 renomeando colunas e acrescentando o novo formato"
   ]
  },
  {
   "cell_type": "markdown",
   "id": "b2069b69-89fa-4833-8eb0-0db52479a81c",
   "metadata": {
    "id": "b2069b69-89fa-4833-8eb0-0db52479a81c"
   },
   "source": [
    "copie as colunas que escolheu para renomear, e cole o formato novo no lugar das velhas"
   ]
  },
  {
   "cell_type": "code",
   "execution_count": 665,
   "id": "fc2e6524-99e1-4606-87c7-929d41752125",
   "metadata": {
    "id": "fc2e6524-99e1-4606-87c7-929d41752125"
   },
   "outputs": [],
   "source": [
    "# Adicionando as datas formatadas as colunas, copiando e colando"
   ]
  },
  {
   "cell_type": "code",
   "execution_count": 666,
   "id": "3c51cc7e-be96-4a4e-b7aa-2e5d6fe0f6db",
   "metadata": {
    "colab": {
     "base_uri": "https://localhost:8080/"
    },
    "id": "3c51cc7e-be96-4a4e-b7aa-2e5d6fe0f6db",
    "outputId": "b4da4f3d-925b-437b-cb08-329c27b6d235"
   },
   "outputs": [
    {
     "name": "stdout",
     "output_type": "stream",
     "text": [
      "CATEGORIA\n",
      "MODALIDADE\n",
      "DIA DA SEMANA\n",
      "HORÁRIO\n",
      "TURNO\n",
      "PROFESSOR\n",
      "2024-10-01 00:00:00\n",
      "2024-10-02 00:00:00\n",
      "2024-10-03 00:00:00\n",
      "2024-10-04 00:00:00\n",
      "2024-10-07 00:00:00\n",
      "2024-10-08 00:00:00\n",
      "2024-10-09 00:00:00\n",
      "2024-10-10 00:00:00\n",
      "2024-10-11 00:00:00\n",
      "2024-10-14 00:00:00\n",
      "2024-10-15 00:00:00\n",
      "2024-10-16 00:00:00\n",
      "2024-10-17 00:00:00\n",
      "2024-10-18 00:00:00\n",
      "2024-10-21 00:00:00\n",
      "2024-10-22 00:00:00\n",
      "2024-10-23 00:00:00\n",
      "2024-10-24 00:00:00\n",
      "2024-10-25 00:00:00\n",
      "2024-10-28 00:00:00\n",
      "2024-10-29 00:00:00\n",
      "2024-10-30 00:00:00\n",
      "2024-10-31 00:00:00\n",
      "Aulas/mês\n",
      "Média\n",
      "Alunos/professor\n",
      "Ocupação Máxima\n",
      "Professor\n"
     ]
    }
   ],
   "source": [
    "for columns in dataMPE.columns:\n",
    "    print (columns)"
   ]
  },
  {
   "cell_type": "code",
   "execution_count": 667,
   "id": "7d5a43a3-f5ec-4c2a-ba20-3c8e50118714",
   "metadata": {
    "id": "7d5a43a3-f5ec-4c2a-ba20-3c8e50118714"
   },
   "outputs": [],
   "source": [
    "dataMPE.columns = [\n",
    "'CATEGORIA',\n",
    "'MODALIDADE',\n",
    "'DIA DA SEMANA',\n",
    "'HORÁRIO',\n",
    "'TURNO',\n",
    "'PROFESSOR',\n",
    "'01-10-2024',\n",
    "'02-10-2024',\n",
    "'03-10-2024',\n",
    "'04-10-2024',\n",
    "'07-10-2024',\n",
    "'08-10-2024',\n",
    "'09-10-2024',\n",
    "'10-10-2024',\n",
    "'11-10-2024',\n",
    "'14-10-2024',\n",
    "'15-10-2024',\n",
    "'16-10-2024',\n",
    "'17-10-2024',\n",
    "'18-10-2024',\n",
    "'21-10-2024',\n",
    "'22-10-2024',\n",
    "'23-10-2024',\n",
    "'24-10-2024',\n",
    "'25-10-2024',\n",
    "'28-10-2024',\n",
    "'29-10-2024',\n",
    "'30-10-2024',\n",
    "'31-10-2024',\n",
    "'Aulas/mês',\n",
    "'Média',\n",
    "'Alunos/professor',\n",
    "'Ocupação Máxima',\n",
    "'Professor'\n",
    "]"
   ]
  },
  {
   "cell_type": "markdown",
   "id": "0af9e70f-71fe-4e2f-8ee7-0a63b404db87",
   "metadata": {
    "id": "0af9e70f-71fe-4e2f-8ee7-0a63b404db87"
   },
   "source": [
    "### 5 PASSO: Usar o Loop for para substitituir os valores das frequencia de 'x' e 'X' por zero, com o método do pd.to_numeric)"
   ]
  },
  {
   "cell_type": "code",
   "execution_count": 668,
   "id": "ee2721f2-9964-4eba-98e3-814300e87b94",
   "metadata": {
    "id": "ee2721f2-9964-4eba-98e3-814300e87b94"
   },
   "outputs": [],
   "source": [
    "colunas = [\n",
    "'01-10-2024',\n",
    "'02-10-2024',\n",
    "'03-10-2024',\n",
    "'04-10-2024',\n",
    "'07-10-2024',\n",
    "'08-10-2024',\n",
    "'09-10-2024',\n",
    "'10-10-2024',\n",
    "'11-10-2024',\n",
    "'14-10-2024',\n",
    "'15-10-2024',\n",
    "'16-10-2024',\n",
    "'17-10-2024',\n",
    "'18-10-2024',\n",
    "'21-10-2024',\n",
    "'22-10-2024',\n",
    "'23-10-2024',\n",
    "'24-10-2024',\n",
    "'25-10-2024',\n",
    "'28-10-2024',\n",
    "'29-10-2024',\n",
    "'30-10-2024',\n",
    "'31-10-2024'\n",
    "]"
   ]
  },
  {
   "cell_type": "markdown",
   "id": "af7111be-9418-43fe-bdbf-9367f1c79ede",
   "metadata": {
    "id": "af7111be-9418-43fe-bdbf-9367f1c79ede"
   },
   "source": [
    "Fazendo a limpeza profunda, formatando valores para numeros, preenchendo com zeros os nulos e transformando em inteiros"
   ]
  },
  {
   "cell_type": "code",
   "execution_count": 669,
   "id": "6c60f26e-04b8-45ca-b97b-48c7274e56ca",
   "metadata": {
    "id": "6c60f26e-04b8-45ca-b97b-48c7274e56ca"
   },
   "outputs": [],
   "source": [
    "for columns in colunas:\n",
    "    # dataMES[columns] = pd.to_numeric(dataMES[columns], errors='coerce')\n",
    "    dataMPE[columns] = pd.to_numeric(dataMPE[columns], errors='coerce').fillna(0).astype(int)"
   ]
  },
  {
   "cell_type": "markdown",
   "id": "a6274c9e-c224-48f9-991a-f88e37d59958",
   "metadata": {
    "id": "a6274c9e-c224-48f9-991a-f88e37d59958"
   },
   "source": [
    "### PASSO 6: MELT derretendo as colunas em formato de datas"
   ]
  },
  {
   "cell_type": "markdown",
   "id": "026d9403-2956-4ebe-9bed-a2ee790cdcc2",
   "metadata": {
    "id": "026d9403-2956-4ebe-9bed-a2ee790cdcc2"
   },
   "source": [
    "o MELT ele pega as colunas que estão na horizontal e cria uma coluna de categorias, e depois ele cria outra coluna com os valores dessas colunas que foram transformadas em dados categóricos"
   ]
  },
  {
   "cell_type": "code",
   "execution_count": 670,
   "id": "037c7675-37b2-4191-af9b-7bc80a3de158",
   "metadata": {
    "id": "037c7675-37b2-4191-af9b-7bc80a3de158"
   },
   "outputs": [],
   "source": [
    "colunas_para_melt = [\n",
    "'01-10-2024',\n",
    "'02-10-2024',\n",
    "'03-10-2024',\n",
    "'04-10-2024',\n",
    "'07-10-2024',\n",
    "'08-10-2024',\n",
    "'09-10-2024',\n",
    "'10-10-2024',\n",
    "'11-10-2024',\n",
    "'14-10-2024',\n",
    "'15-10-2024',\n",
    "'16-10-2024',\n",
    "'17-10-2024',\n",
    "'18-10-2024',\n",
    "'21-10-2024',\n",
    "'22-10-2024',\n",
    "'23-10-2024',\n",
    "'24-10-2024',\n",
    "'25-10-2024',\n",
    "'28-10-2024',\n",
    "'29-10-2024',\n",
    "'30-10-2024',\n",
    "'31-10-2024'\n",
    "]"
   ]
  },
  {
   "cell_type": "markdown",
   "id": "a1ccdb84-95ad-4ba2-8921-7c6b7ebcd9ec",
   "metadata": {
    "id": "a1ccdb84-95ad-4ba2-8921-7c6b7ebcd9ec"
   },
   "source": [
    "#### Indentificando as colunas que Eu quero manter em meu dataframe"
   ]
  },
  {
   "cell_type": "code",
   "execution_count": 671,
   "id": "f913b8ec-d91a-4e2d-af4f-cfe8fff735b3",
   "metadata": {
    "id": "f913b8ec-d91a-4e2d-af4f-cfe8fff735b3"
   },
   "outputs": [],
   "source": [
    "# Identifica as colunas que você quer manter como identificadoras (id_vars)\n",
    "# São as colunas que não serão \"unpivoted\"\n",
    "id_vars_cols = [columns for columns in dataMPE.columns if columns not in colunas_para_melt]"
   ]
  },
  {
   "cell_type": "code",
   "execution_count": 672,
   "id": "4646691b-bff0-4100-b5a5-37b7f745d1c8",
   "metadata": {
    "id": "4646691b-bff0-4100-b5a5-37b7f745d1c8"
   },
   "outputs": [],
   "source": [
    "dataMPE_melted = pd.melt(dataMPE,\n",
    "                      id_vars=id_vars_cols, #colunas que Eu deixei, que ficaram.\n",
    "                      value_vars=colunas_para_melt, #colunas que vão se transformar.\n",
    "                      var_name='Dias de Aulas', # nome da coluna categorica\n",
    "                      value_name='Frequencia de Alunos') # nome da coluna de valores"
   ]
  },
  {
   "cell_type": "code",
   "execution_count": 673,
   "id": "a8aa274d-0083-43d9-969d-4873e83c5b43",
   "metadata": {
    "colab": {
     "base_uri": "https://localhost:8080/",
     "height": 216
    },
    "id": "a8aa274d-0083-43d9-969d-4873e83c5b43",
    "outputId": "5d190479-4968-46d9-9792-60c41b58a899"
   },
   "outputs": [
    {
     "data": {
      "text/html": [
       "<div>\n",
       "<style scoped>\n",
       "    .dataframe tbody tr th:only-of-type {\n",
       "        vertical-align: middle;\n",
       "    }\n",
       "\n",
       "    .dataframe tbody tr th {\n",
       "        vertical-align: top;\n",
       "    }\n",
       "\n",
       "    .dataframe thead th {\n",
       "        text-align: right;\n",
       "    }\n",
       "</style>\n",
       "<table border=\"1\" class=\"dataframe\">\n",
       "  <thead>\n",
       "    <tr style=\"text-align: right;\">\n",
       "      <th></th>\n",
       "      <th>CATEGORIA</th>\n",
       "      <th>MODALIDADE</th>\n",
       "      <th>DIA DA SEMANA</th>\n",
       "      <th>HORÁRIO</th>\n",
       "      <th>TURNO</th>\n",
       "      <th>PROFESSOR</th>\n",
       "      <th>Aulas/mês</th>\n",
       "      <th>Média</th>\n",
       "      <th>Alunos/professor</th>\n",
       "      <th>Ocupação Máxima</th>\n",
       "      <th>Professor</th>\n",
       "      <th>Dias de Aulas</th>\n",
       "      <th>Frequencia de Alunos</th>\n",
       "    </tr>\n",
       "  </thead>\n",
       "  <tbody>\n",
       "    <tr>\n",
       "      <th>0</th>\n",
       "      <td>MUSC - C/P</td>\n",
       "      <td>A - MUSCULAÇÃO COM PERSONAL</td>\n",
       "      <td>seg, ter, qua, qui, sex</td>\n",
       "      <td>06:00</td>\n",
       "      <td>MANHÃ</td>\n",
       "      <td>NELSON</td>\n",
       "      <td>23</td>\n",
       "      <td>12.652174</td>\n",
       "      <td>NaN</td>\n",
       "      <td>NaN</td>\n",
       "      <td>0.0</td>\n",
       "      <td>01-10-2024</td>\n",
       "      <td>12</td>\n",
       "    </tr>\n",
       "    <tr>\n",
       "      <th>1</th>\n",
       "      <td>MUSC - S/P</td>\n",
       "      <td>A - MUSCULAÇÃO SEM PERSONAL</td>\n",
       "      <td>seg, ter, qua, qui, sex</td>\n",
       "      <td>06:00</td>\n",
       "      <td>MANHÃ</td>\n",
       "      <td>NELSON</td>\n",
       "      <td>23</td>\n",
       "      <td>49.565217</td>\n",
       "      <td>24.782609</td>\n",
       "      <td>NaN</td>\n",
       "      <td>2.0</td>\n",
       "      <td>01-10-2024</td>\n",
       "      <td>56</td>\n",
       "    </tr>\n",
       "  </tbody>\n",
       "</table>\n",
       "</div>"
      ],
      "text/plain": [
       "    CATEGORIA                   MODALIDADE            DIA DA SEMANA HORÁRIO  \\\n",
       "0  MUSC - C/P  A - MUSCULAÇÃO COM PERSONAL  seg, ter, qua, qui, sex   06:00   \n",
       "1  MUSC - S/P  A - MUSCULAÇÃO SEM PERSONAL  seg, ter, qua, qui, sex   06:00   \n",
       "\n",
       "   TURNO PROFESSOR  Aulas/mês      Média  Alunos/professor  Ocupação Máxima  \\\n",
       "0  MANHÃ    NELSON         23  12.652174               NaN              NaN   \n",
       "1  MANHÃ    NELSON         23  49.565217         24.782609              NaN   \n",
       "\n",
       "   Professor Dias de Aulas  Frequencia de Alunos  \n",
       "0        0.0    01-10-2024                    12  \n",
       "1        2.0    01-10-2024                    56  "
      ]
     },
     "execution_count": 673,
     "metadata": {},
     "output_type": "execute_result"
    }
   ],
   "source": [
    "dataMPE_melted.head(2)"
   ]
  },
  {
   "cell_type": "code",
   "execution_count": 674,
   "id": "20407cf2-fc31-4a6f-9f08-67f0fa3ea375",
   "metadata": {
    "colab": {
     "base_uri": "https://localhost:8080/"
    },
    "id": "20407cf2-fc31-4a6f-9f08-67f0fa3ea375",
    "outputId": "7c3a373e-4cdd-4a06-f0d6-3535f778b1e6"
   },
   "outputs": [
    {
     "data": {
      "text/plain": [
       "np.int64(26108)"
      ]
     },
     "execution_count": 674,
     "metadata": {},
     "output_type": "execute_result"
    }
   ],
   "source": [
    "dataMPE_melted['Frequencia de Alunos'].sum()"
   ]
  },
  {
   "cell_type": "markdown",
   "id": "1454e142-6bd6-4b90-b683-249d4cdd4e1c",
   "metadata": {
    "id": "1454e142-6bd6-4b90-b683-249d4cdd4e1c"
   },
   "source": [
    "# MARAPONGA [MAR] - PREPROCESSING 10"
   ]
  },
  {
   "cell_type": "code",
   "execution_count": 675,
   "id": "a90a506c-4d35-46cc-9114-ff7bbed4d4c6",
   "metadata": {
    "id": "a90a506c-4d35-46cc-9114-ff7bbed4d4c6"
   },
   "outputs": [],
   "source": [
    "data10 = pd.read_excel('base_de_frequencias_green_life_academias_dados_brutos.xlsx', sheet_name='MAR', skiprows=1, nrows=86)"
   ]
  },
  {
   "cell_type": "code",
   "execution_count": 676,
   "id": "34c515c8-43f3-4288-bc07-aca8c452d1ec",
   "metadata": {
    "id": "34c515c8-43f3-4288-bc07-aca8c452d1ec"
   },
   "outputs": [],
   "source": [
    "dataMAR = data10.copy()"
   ]
  },
  {
   "cell_type": "markdown",
   "id": "28ce4492-2dc0-4b13-854c-7e583595688f",
   "metadata": {
    "id": "28ce4492-2dc0-4b13-854c-7e583595688f"
   },
   "source": [
    "### 1 PASSO: Removendo colunas desnecessárias"
   ]
  },
  {
   "cell_type": "code",
   "execution_count": 677,
   "id": "210a7736-27ae-4861-b935-b48f24c1bbb3",
   "metadata": {
    "colab": {
     "base_uri": "https://localhost:8080/",
     "height": 435
    },
    "id": "210a7736-27ae-4861-b935-b48f24c1bbb3",
    "outputId": "b84ba3df-a8df-4571-a53e-5d419d075ac1"
   },
   "outputs": [
    {
     "data": {
      "text/html": [
       "<div>\n",
       "<style scoped>\n",
       "    .dataframe tbody tr th:only-of-type {\n",
       "        vertical-align: middle;\n",
       "    }\n",
       "\n",
       "    .dataframe tbody tr th {\n",
       "        vertical-align: top;\n",
       "    }\n",
       "\n",
       "    .dataframe thead th {\n",
       "        text-align: right;\n",
       "    }\n",
       "</style>\n",
       "<table border=\"1\" class=\"dataframe\">\n",
       "  <thead>\n",
       "    <tr style=\"text-align: right;\">\n",
       "      <th></th>\n",
       "      <th>Unnamed: 0</th>\n",
       "      <th>Unnamed: 1</th>\n",
       "      <th>Unnamed: 2</th>\n",
       "      <th>CATEGORIA</th>\n",
       "      <th>MODALIDADE</th>\n",
       "      <th>DIA DA SEMANA</th>\n",
       "      <th>HORÁRIO</th>\n",
       "      <th>AUX.1</th>\n",
       "      <th>TURNO</th>\n",
       "      <th>AUX 2</th>\n",
       "      <th>...</th>\n",
       "      <th>2024-10-25 00:00:00</th>\n",
       "      <th>2024-10-28 00:00:00</th>\n",
       "      <th>2024-10-29 00:00:00</th>\n",
       "      <th>2024-10-30 00:00:00</th>\n",
       "      <th>2024-10-31 00:00:00</th>\n",
       "      <th>Média alunos p/ professor</th>\n",
       "      <th>Média</th>\n",
       "      <th>Alunos/professor</th>\n",
       "      <th>Ocupação Máxima</th>\n",
       "      <th>Professor</th>\n",
       "    </tr>\n",
       "  </thead>\n",
       "  <tbody>\n",
       "    <tr>\n",
       "      <th>83</th>\n",
       "      <td>NaN</td>\n",
       "      <td>NaN</td>\n",
       "      <td>NaN</td>\n",
       "      <td>QUADRA</td>\n",
       "      <td>BEACH TENIS</td>\n",
       "      <td>seg, ter, qua, qui, sex</td>\n",
       "      <td>21:00:00</td>\n",
       "      <td>21:00</td>\n",
       "      <td>NOITE</td>\n",
       "      <td>BEACH TENIS  - 21:00</td>\n",
       "      <td>...</td>\n",
       "      <td>7</td>\n",
       "      <td>8</td>\n",
       "      <td>14</td>\n",
       "      <td>NaN</td>\n",
       "      <td>NaN</td>\n",
       "      <td>18</td>\n",
       "      <td>9.444444</td>\n",
       "      <td>NaN</td>\n",
       "      <td>NaN</td>\n",
       "      <td>NaN</td>\n",
       "    </tr>\n",
       "    <tr>\n",
       "      <th>84</th>\n",
       "      <td>NaN</td>\n",
       "      <td>NaN</td>\n",
       "      <td>NaN</td>\n",
       "      <td>MUSC - C/P</td>\n",
       "      <td>A - MUSCULAÇÃO COM PERSONAL</td>\n",
       "      <td>seg, ter, qua, qui, sex</td>\n",
       "      <td>22:00:00</td>\n",
       "      <td>22:00</td>\n",
       "      <td>NOITE</td>\n",
       "      <td>A - MUSCULAÇÃO COM PERSONAL - 22:00</td>\n",
       "      <td>...</td>\n",
       "      <td>2</td>\n",
       "      <td>0</td>\n",
       "      <td>NaN</td>\n",
       "      <td>NaN</td>\n",
       "      <td>NaN</td>\n",
       "      <td>20</td>\n",
       "      <td>1.950000</td>\n",
       "      <td>NaN</td>\n",
       "      <td>NaN</td>\n",
       "      <td>NaN</td>\n",
       "    </tr>\n",
       "    <tr>\n",
       "      <th>85</th>\n",
       "      <td>NaN</td>\n",
       "      <td>NaN</td>\n",
       "      <td>NaN</td>\n",
       "      <td>MUSC - S/P</td>\n",
       "      <td>A - MUSCULAÇÃO SEM PERSONAL</td>\n",
       "      <td>seg, ter, qua, qui, sex</td>\n",
       "      <td>22:00:00</td>\n",
       "      <td>22:00</td>\n",
       "      <td>NOITE</td>\n",
       "      <td>A - MUSCULAÇÃO SEM PERSONAL - 22:00</td>\n",
       "      <td>...</td>\n",
       "      <td>35</td>\n",
       "      <td>32</td>\n",
       "      <td>NaN</td>\n",
       "      <td>NaN</td>\n",
       "      <td>NaN</td>\n",
       "      <td>20</td>\n",
       "      <td>43.750000</td>\n",
       "      <td>21.875</td>\n",
       "      <td>NaN</td>\n",
       "      <td>2.0</td>\n",
       "    </tr>\n",
       "  </tbody>\n",
       "</table>\n",
       "<p>3 rows × 40 columns</p>\n",
       "</div>"
      ],
      "text/plain": [
       "    Unnamed: 0  Unnamed: 1  Unnamed: 2   CATEGORIA  \\\n",
       "83         NaN         NaN         NaN      QUADRA   \n",
       "84         NaN         NaN         NaN  MUSC - C/P   \n",
       "85         NaN         NaN         NaN  MUSC - S/P   \n",
       "\n",
       "                     MODALIDADE            DIA DA SEMANA   HORÁRIO  AUX.1  \\\n",
       "83                 BEACH TENIS   seg, ter, qua, qui, sex  21:00:00  21:00   \n",
       "84  A - MUSCULAÇÃO COM PERSONAL  seg, ter, qua, qui, sex  22:00:00  22:00   \n",
       "85  A - MUSCULAÇÃO SEM PERSONAL  seg, ter, qua, qui, sex  22:00:00  22:00   \n",
       "\n",
       "    TURNO                                AUX 2  ... 2024-10-25 00:00:00  \\\n",
       "83  NOITE                 BEACH TENIS  - 21:00  ...                   7   \n",
       "84  NOITE  A - MUSCULAÇÃO COM PERSONAL - 22:00  ...                   2   \n",
       "85  NOITE  A - MUSCULAÇÃO SEM PERSONAL - 22:00  ...                  35   \n",
       "\n",
       "   2024-10-28 00:00:00 2024-10-29 00:00:00 2024-10-30 00:00:00  \\\n",
       "83                   8                  14                 NaN   \n",
       "84                   0                 NaN                 NaN   \n",
       "85                  32                 NaN                 NaN   \n",
       "\n",
       "   2024-10-31 00:00:00 Média alunos p/ professor      Média Alunos/professor  \\\n",
       "83                 NaN                        18   9.444444              NaN   \n",
       "84                 NaN                        20   1.950000              NaN   \n",
       "85                 NaN                        20  43.750000           21.875   \n",
       "\n",
       "   Ocupação Máxima Professor  \n",
       "83             NaN       NaN  \n",
       "84             NaN       NaN  \n",
       "85             NaN       2.0  \n",
       "\n",
       "[3 rows x 40 columns]"
      ]
     },
     "execution_count": 677,
     "metadata": {},
     "output_type": "execute_result"
    }
   ],
   "source": [
    "dataMAR.tail(3)"
   ]
  },
  {
   "cell_type": "code",
   "execution_count": 678,
   "id": "0f404dff-4584-4fcc-8fac-558547655519",
   "metadata": {
    "colab": {
     "base_uri": "https://localhost:8080/",
     "height": 1000
    },
    "id": "0f404dff-4584-4fcc-8fac-558547655519",
    "outputId": "d7f82106-fc97-4da0-cc44-c3f9a7e170d6"
   },
   "outputs": [
    {
     "data": {
      "text/plain": [
       "Unnamed: 0                                                   NaN\n",
       "Unnamed: 1                                                   NaN\n",
       "Unnamed: 2                                                   NaN\n",
       "CATEGORIA                                             MUSC - S/P\n",
       "MODALIDADE                           A - MUSCULAÇÃO SEM PERSONAL\n",
       "DIA DA SEMANA                            seg, ter, qua, qui, sex\n",
       "HORÁRIO                                                 22:00:00\n",
       "AUX.1                                                      22:00\n",
       "TURNO                                                      NOITE\n",
       "AUX 2                        A - MUSCULAÇÃO SEM PERSONAL - 22:00\n",
       "PROFESSOR                                                  ALCEU\n",
       "AUX 3                        A - MUSCULAÇÃO SEM PERSONAL - ALCEU\n",
       "2024-10-01 00:00:00                                           46\n",
       "2024-10-02 00:00:00                                           37\n",
       "2024-10-03 00:00:00                                           29\n",
       "2024-10-04 00:00:00                                           39\n",
       "2024-10-07 00:00:00                                           61\n",
       "2024-10-08 00:00:00                                           58\n",
       "2024-10-09 00:00:00                                           49\n",
       "2024-10-10 00:00:00                                           38\n",
       "2024-10-11 00:00:00                                           30\n",
       "2024-10-14 00:00:00                                           45\n",
       "2024-10-15 00:00:00                                           38\n",
       "2024-10-16 00:00:00                                           50\n",
       "2024-10-17 00:00:00                                           45\n",
       "2024-10-18 00:00:00                                           40\n",
       "2024-10-21 00:00:00                                           62\n",
       "2024-10-22 00:00:00                                           53\n",
       "2024-10-23 00:00:00                                           48\n",
       "2024-10-24 00:00:00                                           40\n",
       "2024-10-25 00:00:00                                           35\n",
       "2024-10-28 00:00:00                                           32\n",
       "2024-10-29 00:00:00                                          NaN\n",
       "2024-10-30 00:00:00                                          NaN\n",
       "2024-10-31 00:00:00                                          NaN\n",
       "Média alunos p/ professor                                     20\n",
       "Média                                                      43.75\n",
       "Alunos/professor                                          21.875\n",
       "Ocupação Máxima                                              NaN\n",
       "Professor                                                    2.0\n",
       "Name: 85, dtype: object"
      ]
     },
     "execution_count": 678,
     "metadata": {},
     "output_type": "execute_result"
    }
   ],
   "source": [
    "dataMAR.iloc[-1]"
   ]
  },
  {
   "cell_type": "code",
   "execution_count": 679,
   "id": "d1bf5177-aa34-46af-8304-479000ed5109",
   "metadata": {
    "id": "d1bf5177-aa34-46af-8304-479000ed5109"
   },
   "outputs": [],
   "source": [
    "dropColumns = ['Unnamed: 0', 'Unnamed: 1', 'Unnamed: 2', 'AUX 2', 'AUX 3', 'HORÁRIO']"
   ]
  },
  {
   "cell_type": "code",
   "execution_count": 680,
   "id": "65544420-b383-4037-a61d-c61fe72677ee",
   "metadata": {
    "id": "65544420-b383-4037-a61d-c61fe72677ee"
   },
   "outputs": [],
   "source": [
    "dataMAR.drop(columns=dropColumns, inplace=True)"
   ]
  },
  {
   "cell_type": "markdown",
   "id": "7681432d-223f-4ba0-90f1-c16d481b586c",
   "metadata": {
    "id": "7681432d-223f-4ba0-90f1-c16d481b586c"
   },
   "source": [
    "- PRECISAMOS RENOMEAR A COLUNA AUX.1 COMO HORARIO"
   ]
  },
  {
   "cell_type": "code",
   "execution_count": 681,
   "id": "0ba4927e-40c3-47f7-94dd-1833bc0c25cb",
   "metadata": {
    "id": "0ba4927e-40c3-47f7-94dd-1833bc0c25cb"
   },
   "outputs": [],
   "source": [
    "dataMAR.rename(columns={'AUX.1': 'HORÁRIO'}, inplace=True)"
   ]
  },
  {
   "cell_type": "code",
   "execution_count": 682,
   "id": "1960aeaa-8fd4-4749-9446-48451d02a0bf",
   "metadata": {
    "colab": {
     "base_uri": "https://localhost:8080/",
     "height": 335
    },
    "id": "1960aeaa-8fd4-4749-9446-48451d02a0bf",
    "outputId": "940ba11d-6248-416d-a635-4408dccbd685"
   },
   "outputs": [
    {
     "data": {
      "text/html": [
       "<div>\n",
       "<style scoped>\n",
       "    .dataframe tbody tr th:only-of-type {\n",
       "        vertical-align: middle;\n",
       "    }\n",
       "\n",
       "    .dataframe tbody tr th {\n",
       "        vertical-align: top;\n",
       "    }\n",
       "\n",
       "    .dataframe thead th {\n",
       "        text-align: right;\n",
       "    }\n",
       "</style>\n",
       "<table border=\"1\" class=\"dataframe\">\n",
       "  <thead>\n",
       "    <tr style=\"text-align: right;\">\n",
       "      <th></th>\n",
       "      <th>CATEGORIA</th>\n",
       "      <th>MODALIDADE</th>\n",
       "      <th>DIA DA SEMANA</th>\n",
       "      <th>HORÁRIO</th>\n",
       "      <th>TURNO</th>\n",
       "      <th>PROFESSOR</th>\n",
       "      <th>2024-10-01 00:00:00</th>\n",
       "      <th>2024-10-02 00:00:00</th>\n",
       "      <th>2024-10-03 00:00:00</th>\n",
       "      <th>2024-10-04 00:00:00</th>\n",
       "      <th>...</th>\n",
       "      <th>2024-10-25 00:00:00</th>\n",
       "      <th>2024-10-28 00:00:00</th>\n",
       "      <th>2024-10-29 00:00:00</th>\n",
       "      <th>2024-10-30 00:00:00</th>\n",
       "      <th>2024-10-31 00:00:00</th>\n",
       "      <th>Média alunos p/ professor</th>\n",
       "      <th>Média</th>\n",
       "      <th>Alunos/professor</th>\n",
       "      <th>Ocupação Máxima</th>\n",
       "      <th>Professor</th>\n",
       "    </tr>\n",
       "  </thead>\n",
       "  <tbody>\n",
       "    <tr>\n",
       "      <th>0</th>\n",
       "      <td>MUSC - C/P</td>\n",
       "      <td>A - MUSCULAÇÃO COM PERSONAL</td>\n",
       "      <td>seg, ter, qua, qui, sex</td>\n",
       "      <td>06:00</td>\n",
       "      <td>MANHÃ</td>\n",
       "      <td>SEBASTIAN</td>\n",
       "      <td>12</td>\n",
       "      <td>19</td>\n",
       "      <td>16</td>\n",
       "      <td>15</td>\n",
       "      <td>...</td>\n",
       "      <td>18</td>\n",
       "      <td>16</td>\n",
       "      <td>14</td>\n",
       "      <td>19</td>\n",
       "      <td>NaN</td>\n",
       "      <td>22</td>\n",
       "      <td>17.272727</td>\n",
       "      <td>NaN</td>\n",
       "      <td>NaN</td>\n",
       "      <td>0.0</td>\n",
       "    </tr>\n",
       "    <tr>\n",
       "      <th>1</th>\n",
       "      <td>ADULTO</td>\n",
       "      <td>CROSSFIT</td>\n",
       "      <td>seg, ter, qua, qui, sex</td>\n",
       "      <td>06:00</td>\n",
       "      <td>MANHÃ</td>\n",
       "      <td>PETTERSON</td>\n",
       "      <td>11</td>\n",
       "      <td>11</td>\n",
       "      <td>10</td>\n",
       "      <td>10</td>\n",
       "      <td>...</td>\n",
       "      <td>6</td>\n",
       "      <td>6</td>\n",
       "      <td>6</td>\n",
       "      <td>7</td>\n",
       "      <td>NaN</td>\n",
       "      <td>22</td>\n",
       "      <td>8.863636</td>\n",
       "      <td>NaN</td>\n",
       "      <td>NaN</td>\n",
       "      <td>0.0</td>\n",
       "    </tr>\n",
       "  </tbody>\n",
       "</table>\n",
       "<p>2 rows × 34 columns</p>\n",
       "</div>"
      ],
      "text/plain": [
       "    CATEGORIA                   MODALIDADE            DIA DA SEMANA HORÁRIO  \\\n",
       "0  MUSC - C/P  A - MUSCULAÇÃO COM PERSONAL  seg, ter, qua, qui, sex   06:00   \n",
       "1      ADULTO                     CROSSFIT  seg, ter, qua, qui, sex   06:00   \n",
       "\n",
       "   TURNO   PROFESSOR 2024-10-01 00:00:00 2024-10-02 00:00:00  \\\n",
       "0  MANHÃ  SEBASTIAN                   12                  19   \n",
       "1  MANHÃ   PETTERSON                  11                  11   \n",
       "\n",
       "  2024-10-03 00:00:00 2024-10-04 00:00:00  ... 2024-10-25 00:00:00  \\\n",
       "0                  16                  15  ...                  18   \n",
       "1                  10                  10  ...                   6   \n",
       "\n",
       "  2024-10-28 00:00:00 2024-10-29 00:00:00 2024-10-30 00:00:00  \\\n",
       "0                  16                  14                  19   \n",
       "1                   6                   6                   7   \n",
       "\n",
       "  2024-10-31 00:00:00 Média alunos p/ professor      Média Alunos/professor  \\\n",
       "0                 NaN                        22  17.272727              NaN   \n",
       "1                 NaN                        22   8.863636              NaN   \n",
       "\n",
       "  Ocupação Máxima Professor  \n",
       "0             NaN       0.0  \n",
       "1             NaN       0.0  \n",
       "\n",
       "[2 rows x 34 columns]"
      ]
     },
     "execution_count": 682,
     "metadata": {},
     "output_type": "execute_result"
    }
   ],
   "source": [
    "dataMAR.head(2)"
   ]
  },
  {
   "cell_type": "markdown",
   "id": "c8daca21-b982-4ac3-a468-2e4f0df949c2",
   "metadata": {
    "id": "c8daca21-b982-4ac3-a468-2e4f0df949c2"
   },
   "source": [
    "### 2 PASSO: Renomeando strings de datas, para que o pandas possa aceitar como colunas"
   ]
  },
  {
   "cell_type": "code",
   "execution_count": 683,
   "id": "3b2d7180-f74b-4aac-b010-edee2663143b",
   "metadata": {
    "colab": {
     "base_uri": "https://localhost:8080/"
    },
    "id": "3b2d7180-f74b-4aac-b010-edee2663143b",
    "outputId": "003501e6-8023-4b46-9840-47d5eccce528"
   },
   "outputs": [
    {
     "name": "stdout",
     "output_type": "stream",
     "text": [
      "CATEGORIA\n",
      "MODALIDADE\n",
      "DIA DA SEMANA\n",
      "HORÁRIO\n",
      "TURNO\n",
      "PROFESSOR\n",
      "2024-10-01 00:00:00\n",
      "2024-10-02 00:00:00\n",
      "2024-10-03 00:00:00\n",
      "2024-10-04 00:00:00\n",
      "2024-10-07 00:00:00\n",
      "2024-10-08 00:00:00\n",
      "2024-10-09 00:00:00\n",
      "2024-10-10 00:00:00\n",
      "2024-10-11 00:00:00\n",
      "2024-10-14 00:00:00\n",
      "2024-10-15 00:00:00\n",
      "2024-10-16 00:00:00\n",
      "2024-10-17 00:00:00\n",
      "2024-10-18 00:00:00\n",
      "2024-10-21 00:00:00\n",
      "2024-10-22 00:00:00\n",
      "2024-10-23 00:00:00\n",
      "2024-10-24 00:00:00\n",
      "2024-10-25 00:00:00\n",
      "2024-10-28 00:00:00\n",
      "2024-10-29 00:00:00\n",
      "2024-10-30 00:00:00\n",
      "2024-10-31 00:00:00\n",
      "Média alunos p/ professor\n",
      "Média\n",
      "Alunos/professor\n",
      "Ocupação Máxima\n",
      "Professor\n"
     ]
    }
   ],
   "source": [
    "for columns in dataMAR.columns:\n",
    "    print(columns)"
   ]
  },
  {
   "cell_type": "code",
   "execution_count": 684,
   "id": "79556fe0-c035-4290-ba60-1714287f7367",
   "metadata": {
    "id": "79556fe0-c035-4290-ba60-1714287f7367"
   },
   "outputs": [],
   "source": [
    "dataMAR.columns = [\n",
    "'CATEGORIA',\n",
    "'MODALIDADE',\n",
    "'DIA DA SEMANA',\n",
    "'HORÁRIO',\n",
    "'TURNO',\n",
    "'PROFESSOR',\n",
    "'2024-10-01 00:00:00',\n",
    "'2024-10-02 00:00:00',\n",
    "'2024-10-03 00:00:00',\n",
    "'2024-10-04 00:00:00',\n",
    "'2024-10-07 00:00:00',\n",
    "'2024-10-08 00:00:00',\n",
    "'2024-10-09 00:00:00',\n",
    "'2024-10-10 00:00:00',\n",
    "'2024-10-11 00:00:00',\n",
    "'2024-10-14 00:00:00',\n",
    "'2024-10-15 00:00:00',\n",
    "'2024-10-16 00:00:00',\n",
    "'2024-10-17 00:00:00',\n",
    "'2024-10-18 00:00:00',\n",
    "'2024-10-21 00:00:00',\n",
    "'2024-10-22 00:00:00',\n",
    "'2024-10-23 00:00:00',\n",
    "'2024-10-24 00:00:00',\n",
    "'2024-10-25 00:00:00',\n",
    "'2024-10-28 00:00:00',\n",
    "'2024-10-29 00:00:00',\n",
    "'2024-10-30 00:00:00',\n",
    "'2024-10-31 00:00:00',\n",
    "'Média alunos p/ professor',\n",
    "'Média',\n",
    "'Alunos/professor',\n",
    "'Ocupação Máxima',\n",
    "'Professor',\n",
    "]"
   ]
  },
  {
   "cell_type": "code",
   "execution_count": 685,
   "id": "2e847c3c-1c7e-47ac-832b-095235f4ef01",
   "metadata": {
    "colab": {
     "base_uri": "https://localhost:8080/"
    },
    "id": "2e847c3c-1c7e-47ac-832b-095235f4ef01",
    "outputId": "e2e699ef-c132-46ff-cc4d-0ef49078db4e"
   },
   "outputs": [
    {
     "data": {
      "text/plain": [
       "Index(['CATEGORIA', 'MODALIDADE', 'DIA DA SEMANA', 'HORÁRIO', 'TURNO',\n",
       "       'PROFESSOR', '2024-10-01 00:00:00', '2024-10-02 00:00:00',\n",
       "       '2024-10-03 00:00:00', '2024-10-04 00:00:00', '2024-10-07 00:00:00',\n",
       "       '2024-10-08 00:00:00', '2024-10-09 00:00:00', '2024-10-10 00:00:00',\n",
       "       '2024-10-11 00:00:00', '2024-10-14 00:00:00', '2024-10-15 00:00:00',\n",
       "       '2024-10-16 00:00:00', '2024-10-17 00:00:00', '2024-10-18 00:00:00',\n",
       "       '2024-10-21 00:00:00', '2024-10-22 00:00:00', '2024-10-23 00:00:00',\n",
       "       '2024-10-24 00:00:00', '2024-10-25 00:00:00', '2024-10-28 00:00:00',\n",
       "       '2024-10-29 00:00:00', '2024-10-30 00:00:00', '2024-10-31 00:00:00',\n",
       "       'Média alunos p/ professor', 'Média', 'Alunos/professor',\n",
       "       'Ocupação Máxima', 'Professor'],\n",
       "      dtype='object')"
      ]
     },
     "execution_count": 685,
     "metadata": {},
     "output_type": "execute_result"
    }
   ],
   "source": [
    "dataMAR.columns"
   ]
  },
  {
   "cell_type": "markdown",
   "id": "7dfc596a-5b4c-44a3-8602-80b5a8c494d6",
   "metadata": {
    "id": "7dfc596a-5b4c-44a3-8602-80b5a8c494d6"
   },
   "source": [
    "### PASSO 3: Escolhendo colunas com o nome de 'datas', para renomear pelo o tipo dia, mês e ano. e removendo os 00 de horas"
   ]
  },
  {
   "cell_type": "code",
   "execution_count": 686,
   "id": "6f27fd88-6a87-4d0a-a7c4-07b20a56e98c",
   "metadata": {
    "id": "6f27fd88-6a87-4d0a-a7c4-07b20a56e98c"
   },
   "outputs": [],
   "source": [
    "colunas = [\n",
    "'2024-10-01 00:00:00',\n",
    "'2024-10-02 00:00:00',\n",
    "'2024-10-03 00:00:00',\n",
    "'2024-10-04 00:00:00',\n",
    "'2024-10-07 00:00:00',\n",
    "'2024-10-08 00:00:00',\n",
    "'2024-10-09 00:00:00',\n",
    "'2024-10-10 00:00:00',\n",
    "'2024-10-11 00:00:00',\n",
    "'2024-10-14 00:00:00',\n",
    "'2024-10-15 00:00:00',\n",
    "'2024-10-16 00:00:00',\n",
    "'2024-10-17 00:00:00',\n",
    "'2024-10-18 00:00:00',\n",
    "'2024-10-21 00:00:00',\n",
    "'2024-10-22 00:00:00',\n",
    "'2024-10-23 00:00:00',\n",
    "'2024-10-24 00:00:00',\n",
    "'2024-10-25 00:00:00',\n",
    "'2024-10-28 00:00:00',\n",
    "'2024-10-29 00:00:00',\n",
    "'2024-10-30 00:00:00',\n",
    "'2024-10-31 00:00:00',\n",
    "]"
   ]
  },
  {
   "cell_type": "code",
   "execution_count": 687,
   "id": "0ead7c07-2133-4ead-9cb8-30c0bf1ac2e9",
   "metadata": {
    "id": "0ead7c07-2133-4ead-9cb8-30c0bf1ac2e9"
   },
   "outputs": [],
   "source": [
    "novas_colunas_MAR = []"
   ]
  },
  {
   "cell_type": "code",
   "execution_count": 688,
   "id": "37b87a5e-cf7a-44ec-a73e-bf1b6afd8f20",
   "metadata": {
    "id": "37b87a5e-cf7a-44ec-a73e-bf1b6afd8f20"
   },
   "outputs": [],
   "source": [
    "for columns in colunas:\n",
    "    # Remove a parte da hora\n",
    "    data_sem_hora = columns.split(' ')[0]\n",
    "\n",
    "    # Formata para o formato DD-MM-YYYY\n",
    "    ano, mes, dia = data_sem_hora.split('-')\n",
    "    novo_nome = f'{dia}-{mes}-{ano}'\n",
    "    novas_colunas_MAR.append(novo_nome)"
   ]
  },
  {
   "cell_type": "code",
   "execution_count": 689,
   "id": "d8728430-6b37-46f6-b753-3012f16b3d9c",
   "metadata": {
    "colab": {
     "base_uri": "https://localhost:8080/"
    },
    "id": "d8728430-6b37-46f6-b753-3012f16b3d9c",
    "outputId": "deba81b3-c76c-46a0-b67b-161eac5d04d7"
   },
   "outputs": [
    {
     "data": {
      "text/plain": [
       "['01-10-2024',\n",
       " '02-10-2024',\n",
       " '03-10-2024',\n",
       " '04-10-2024',\n",
       " '07-10-2024',\n",
       " '08-10-2024',\n",
       " '09-10-2024',\n",
       " '10-10-2024',\n",
       " '11-10-2024',\n",
       " '14-10-2024',\n",
       " '15-10-2024',\n",
       " '16-10-2024',\n",
       " '17-10-2024',\n",
       " '18-10-2024',\n",
       " '21-10-2024',\n",
       " '22-10-2024',\n",
       " '23-10-2024',\n",
       " '24-10-2024',\n",
       " '25-10-2024',\n",
       " '28-10-2024',\n",
       " '29-10-2024',\n",
       " '30-10-2024',\n",
       " '31-10-2024']"
      ]
     },
     "execution_count": 689,
     "metadata": {},
     "output_type": "execute_result"
    }
   ],
   "source": [
    "novas_colunas_MAR"
   ]
  },
  {
   "cell_type": "markdown",
   "id": "4ff0d392-c23e-47f2-a246-cef8a7f5e2ae",
   "metadata": {
    "id": "4ff0d392-c23e-47f2-a246-cef8a7f5e2ae"
   },
   "source": [
    "### PASSO 4 renomeando colunas e acrescentando o novo formato"
   ]
  },
  {
   "cell_type": "markdown",
   "id": "4d376d8a-8b01-4a34-9111-e9ff3af484d7",
   "metadata": {
    "id": "4d376d8a-8b01-4a34-9111-e9ff3af484d7"
   },
   "source": [
    "copie as colunas que escolheu para renomear, e cole o formato novo no lugar das velhas"
   ]
  },
  {
   "cell_type": "code",
   "execution_count": 690,
   "id": "6fde1834-fd84-4f38-8ff1-4a576a6f39a2",
   "metadata": {
    "id": "6fde1834-fd84-4f38-8ff1-4a576a6f39a2"
   },
   "outputs": [],
   "source": [
    "# Adicionando as datas formatadas as colunas, copiando e colando"
   ]
  },
  {
   "cell_type": "code",
   "execution_count": 691,
   "id": "04638f70-5ce3-4740-a85b-1a88eee7a7d9",
   "metadata": {
    "colab": {
     "base_uri": "https://localhost:8080/"
    },
    "id": "04638f70-5ce3-4740-a85b-1a88eee7a7d9",
    "outputId": "eb463b66-0b4d-4d3c-fff9-c766fe86a5d9"
   },
   "outputs": [
    {
     "name": "stdout",
     "output_type": "stream",
     "text": [
      "CATEGORIA\n",
      "MODALIDADE\n",
      "DIA DA SEMANA\n",
      "HORÁRIO\n",
      "TURNO\n",
      "PROFESSOR\n",
      "2024-10-01 00:00:00\n",
      "2024-10-02 00:00:00\n",
      "2024-10-03 00:00:00\n",
      "2024-10-04 00:00:00\n",
      "2024-10-07 00:00:00\n",
      "2024-10-08 00:00:00\n",
      "2024-10-09 00:00:00\n",
      "2024-10-10 00:00:00\n",
      "2024-10-11 00:00:00\n",
      "2024-10-14 00:00:00\n",
      "2024-10-15 00:00:00\n",
      "2024-10-16 00:00:00\n",
      "2024-10-17 00:00:00\n",
      "2024-10-18 00:00:00\n",
      "2024-10-21 00:00:00\n",
      "2024-10-22 00:00:00\n",
      "2024-10-23 00:00:00\n",
      "2024-10-24 00:00:00\n",
      "2024-10-25 00:00:00\n",
      "2024-10-28 00:00:00\n",
      "2024-10-29 00:00:00\n",
      "2024-10-30 00:00:00\n",
      "2024-10-31 00:00:00\n",
      "Média alunos p/ professor\n",
      "Média\n",
      "Alunos/professor\n",
      "Ocupação Máxima\n",
      "Professor\n"
     ]
    }
   ],
   "source": [
    "for columns in dataMAR.columns:\n",
    "    print (columns)"
   ]
  },
  {
   "cell_type": "code",
   "execution_count": 692,
   "id": "39b0b1ca-5d66-40b0-9523-064ebba0070e",
   "metadata": {
    "id": "39b0b1ca-5d66-40b0-9523-064ebba0070e"
   },
   "outputs": [],
   "source": [
    "dataMAR.columns = [\n",
    "'CATEGORIA',\n",
    "'MODALIDADE',\n",
    "'DIA DA SEMANA',\n",
    "'HORÁRIO',\n",
    "'TURNO',\n",
    "'PROFESSOR',\n",
    "'01-10-2024',\n",
    "'02-10-2024',\n",
    "'03-10-2024',\n",
    "'04-10-2024',\n",
    "'07-10-2024',\n",
    "'08-10-2024',\n",
    "'09-10-2024',\n",
    "'10-10-2024',\n",
    "'11-10-2024',\n",
    "'14-10-2024',\n",
    "'15-10-2024',\n",
    "'16-10-2024',\n",
    "'17-10-2024',\n",
    "'18-10-2024',\n",
    "'21-10-2024',\n",
    "'22-10-2024',\n",
    "'23-10-2024',\n",
    "'24-10-2024',\n",
    "'25-10-2024',\n",
    "'28-10-2024',\n",
    "'29-10-2024',\n",
    "'30-10-2024',\n",
    "'31-10-2024',\n",
    "'Média alunos p/ professor',\n",
    "'Média',\n",
    "'Alunos/professor',\n",
    "'Ocupação Máxima',\n",
    "'Professor'\n",
    "]"
   ]
  },
  {
   "cell_type": "markdown",
   "id": "cd8a5b52-091b-408f-b0f0-fcadf206b279",
   "metadata": {
    "id": "cd8a5b52-091b-408f-b0f0-fcadf206b279"
   },
   "source": [
    "### 5 PASSO: Usar o Loop for para substitituir os valores das frequencia de 'x' e 'X' por zero, com o método do pd.to_numeric)"
   ]
  },
  {
   "cell_type": "code",
   "execution_count": 693,
   "id": "e2b6a51d-842f-44ea-b8b3-e7e6ee7883bf",
   "metadata": {
    "id": "e2b6a51d-842f-44ea-b8b3-e7e6ee7883bf"
   },
   "outputs": [],
   "source": [
    "colunas = [\n",
    "'01-10-2024',\n",
    "'02-10-2024',\n",
    "'03-10-2024',\n",
    "'04-10-2024',\n",
    "'07-10-2024',\n",
    "'08-10-2024',\n",
    "'09-10-2024',\n",
    "'10-10-2024',\n",
    "'11-10-2024',\n",
    "'14-10-2024',\n",
    "'15-10-2024',\n",
    "'16-10-2024',\n",
    "'17-10-2024',\n",
    "'18-10-2024',\n",
    "'21-10-2024',\n",
    "'22-10-2024',\n",
    "'23-10-2024',\n",
    "'24-10-2024',\n",
    "'25-10-2024',\n",
    "'28-10-2024',\n",
    "'29-10-2024',\n",
    "'30-10-2024',\n",
    "'31-10-2024'\n",
    "]"
   ]
  },
  {
   "cell_type": "markdown",
   "id": "66776ee9-7cf8-4937-893d-88cd7072ad5f",
   "metadata": {
    "id": "66776ee9-7cf8-4937-893d-88cd7072ad5f"
   },
   "source": [
    "Fazendo a limpeza profunda, formatando valores para numeros, preenchendo com zeros os nulos e transformando em inteiros"
   ]
  },
  {
   "cell_type": "code",
   "execution_count": 694,
   "id": "5ab20093-a2aa-42fc-ac0b-c76af301f7de",
   "metadata": {
    "id": "5ab20093-a2aa-42fc-ac0b-c76af301f7de"
   },
   "outputs": [],
   "source": [
    "for columns in colunas:\n",
    "    # dataMES[columns] = pd.to_numeric(dataMES[columns], errors='coerce')\n",
    "    dataMAR[columns] = pd.to_numeric(dataMAR[columns], errors='coerce').fillna(0).astype(int)"
   ]
  },
  {
   "cell_type": "markdown",
   "id": "f93cbebd-04bb-4cfa-a06a-f6a8c623ecce",
   "metadata": {
    "id": "f93cbebd-04bb-4cfa-a06a-f6a8c623ecce"
   },
   "source": [
    "### PASSO 6: MELT derretendo as colunas em formato de datas"
   ]
  },
  {
   "cell_type": "markdown",
   "id": "b1e85dda-23d4-45cb-b916-a506db6b1474",
   "metadata": {
    "id": "b1e85dda-23d4-45cb-b916-a506db6b1474"
   },
   "source": [
    "o MELT ele pega as colunas que estão na horizontal e cria uma coluna de categorias, e depois ele cria outra coluna com os valores dessas colunas que foram transformadas em dados categóricos"
   ]
  },
  {
   "cell_type": "code",
   "execution_count": 695,
   "id": "ce31849e-e2e1-4c63-babd-7a02f2c08027",
   "metadata": {
    "id": "ce31849e-e2e1-4c63-babd-7a02f2c08027"
   },
   "outputs": [],
   "source": [
    "colunas_para_melt = [\n",
    "'01-10-2024',\n",
    "'02-10-2024',\n",
    "'03-10-2024',\n",
    "'04-10-2024',\n",
    "'07-10-2024',\n",
    "'08-10-2024',\n",
    "'09-10-2024',\n",
    "'10-10-2024',\n",
    "'11-10-2024',\n",
    "'14-10-2024',\n",
    "'15-10-2024',\n",
    "'16-10-2024',\n",
    "'17-10-2024',\n",
    "'18-10-2024',\n",
    "'21-10-2024',\n",
    "'22-10-2024',\n",
    "'23-10-2024',\n",
    "'24-10-2024',\n",
    "'25-10-2024',\n",
    "'28-10-2024',\n",
    "'29-10-2024',\n",
    "'30-10-2024',\n",
    "'31-10-2024'\n",
    "]"
   ]
  },
  {
   "cell_type": "markdown",
   "id": "3f7e9a15-5ae8-4a73-b88e-5417dfa924d9",
   "metadata": {
    "id": "3f7e9a15-5ae8-4a73-b88e-5417dfa924d9"
   },
   "source": [
    "#### Indentificando as colunas que Eu quero manter em meu dataframe"
   ]
  },
  {
   "cell_type": "code",
   "execution_count": 696,
   "id": "af4046cf-771c-4663-9ee0-6272c0bc5149",
   "metadata": {
    "id": "af4046cf-771c-4663-9ee0-6272c0bc5149"
   },
   "outputs": [],
   "source": [
    "# Identifica as colunas que você quer manter como identificadoras (id_vars)\n",
    "# São as colunas que não serão \"unpivoted\"\n",
    "id_vars_cols = [columns for columns in dataMAR.columns if columns not in colunas_para_melt]"
   ]
  },
  {
   "cell_type": "code",
   "execution_count": 697,
   "id": "740a299f-cbed-4911-8637-b43ec2da943e",
   "metadata": {
    "id": "740a299f-cbed-4911-8637-b43ec2da943e"
   },
   "outputs": [],
   "source": [
    "dataMAR_melted = pd.melt(dataMAR,\n",
    "                      id_vars=id_vars_cols, #colunas que Eu deixei, que ficaram.\n",
    "                      value_vars=colunas_para_melt, #colunas que vão se transformar.\n",
    "                      var_name='Dias de Aulas', # nome da coluna categorica\n",
    "                      value_name='Frequencia de Alunos') # nome da coluna de valores"
   ]
  },
  {
   "cell_type": "code",
   "execution_count": 698,
   "id": "dafd7345-4f4b-48a0-abd8-dc2cfd172e13",
   "metadata": {
    "colab": {
     "base_uri": "https://localhost:8080/",
     "height": 216
    },
    "id": "dafd7345-4f4b-48a0-abd8-dc2cfd172e13",
    "outputId": "bbbdd493-2e92-463b-f66d-d3c036fde197"
   },
   "outputs": [
    {
     "data": {
      "text/html": [
       "<div>\n",
       "<style scoped>\n",
       "    .dataframe tbody tr th:only-of-type {\n",
       "        vertical-align: middle;\n",
       "    }\n",
       "\n",
       "    .dataframe tbody tr th {\n",
       "        vertical-align: top;\n",
       "    }\n",
       "\n",
       "    .dataframe thead th {\n",
       "        text-align: right;\n",
       "    }\n",
       "</style>\n",
       "<table border=\"1\" class=\"dataframe\">\n",
       "  <thead>\n",
       "    <tr style=\"text-align: right;\">\n",
       "      <th></th>\n",
       "      <th>CATEGORIA</th>\n",
       "      <th>MODALIDADE</th>\n",
       "      <th>DIA DA SEMANA</th>\n",
       "      <th>HORÁRIO</th>\n",
       "      <th>TURNO</th>\n",
       "      <th>PROFESSOR</th>\n",
       "      <th>Média alunos p/ professor</th>\n",
       "      <th>Média</th>\n",
       "      <th>Alunos/professor</th>\n",
       "      <th>Ocupação Máxima</th>\n",
       "      <th>Professor</th>\n",
       "      <th>Dias de Aulas</th>\n",
       "      <th>Frequencia de Alunos</th>\n",
       "    </tr>\n",
       "  </thead>\n",
       "  <tbody>\n",
       "    <tr>\n",
       "      <th>0</th>\n",
       "      <td>MUSC - C/P</td>\n",
       "      <td>A - MUSCULAÇÃO COM PERSONAL</td>\n",
       "      <td>seg, ter, qua, qui, sex</td>\n",
       "      <td>06:00</td>\n",
       "      <td>MANHÃ</td>\n",
       "      <td>SEBASTIAN</td>\n",
       "      <td>22</td>\n",
       "      <td>17.272727</td>\n",
       "      <td>NaN</td>\n",
       "      <td>NaN</td>\n",
       "      <td>0.0</td>\n",
       "      <td>01-10-2024</td>\n",
       "      <td>12</td>\n",
       "    </tr>\n",
       "    <tr>\n",
       "      <th>1</th>\n",
       "      <td>ADULTO</td>\n",
       "      <td>CROSSFIT</td>\n",
       "      <td>seg, ter, qua, qui, sex</td>\n",
       "      <td>06:00</td>\n",
       "      <td>MANHÃ</td>\n",
       "      <td>PETTERSON</td>\n",
       "      <td>22</td>\n",
       "      <td>8.863636</td>\n",
       "      <td>NaN</td>\n",
       "      <td>NaN</td>\n",
       "      <td>0.0</td>\n",
       "      <td>01-10-2024</td>\n",
       "      <td>11</td>\n",
       "    </tr>\n",
       "  </tbody>\n",
       "</table>\n",
       "</div>"
      ],
      "text/plain": [
       "    CATEGORIA                   MODALIDADE            DIA DA SEMANA HORÁRIO  \\\n",
       "0  MUSC - C/P  A - MUSCULAÇÃO COM PERSONAL  seg, ter, qua, qui, sex   06:00   \n",
       "1      ADULTO                     CROSSFIT  seg, ter, qua, qui, sex   06:00   \n",
       "\n",
       "   TURNO   PROFESSOR  Média alunos p/ professor      Média  Alunos/professor  \\\n",
       "0  MANHÃ  SEBASTIAN                          22  17.272727               NaN   \n",
       "1  MANHÃ   PETTERSON                         22   8.863636               NaN   \n",
       "\n",
       "   Ocupação Máxima  Professor Dias de Aulas  Frequencia de Alunos  \n",
       "0              NaN        0.0    01-10-2024                    12  \n",
       "1              NaN        0.0    01-10-2024                    11  "
      ]
     },
     "execution_count": 698,
     "metadata": {},
     "output_type": "execute_result"
    }
   ],
   "source": [
    "dataMAR_melted.head(2)"
   ]
  },
  {
   "cell_type": "code",
   "execution_count": 699,
   "id": "a95125fa-5f84-47ff-84f9-6e781c14fd45",
   "metadata": {
    "colab": {
     "base_uri": "https://localhost:8080/"
    },
    "id": "a95125fa-5f84-47ff-84f9-6e781c14fd45",
    "outputId": "c6d98b0c-5b5e-4f0d-85dc-d43f22b497de"
   },
   "outputs": [
    {
     "data": {
      "text/plain": [
       "np.int64(31364)"
      ]
     },
     "execution_count": 699,
     "metadata": {},
     "output_type": "execute_result"
    }
   ],
   "source": [
    "dataMAR_melted['Frequencia de Alunos'].sum()"
   ]
  },
  {
   "cell_type": "markdown",
   "id": "ef54b813-11b2-4165-a044-544b55c60a78",
   "metadata": {
    "id": "ef54b813-11b2-4165-a044-544b55c60a78"
   },
   "source": [
    "# SUL [SUL] - PREPROCESSING 11"
   ]
  },
  {
   "cell_type": "code",
   "execution_count": 700,
   "id": "ef5c8c83-c602-4200-b0fa-4e153037d716",
   "metadata": {
    "id": "ef5c8c83-c602-4200-b0fa-4e153037d716"
   },
   "outputs": [],
   "source": [
    "data11 = pd.read_excel('base_de_frequencias_green_life_academias_dados_brutos.xlsx', sheet_name='SUL', skiprows=1, nrows=110)"
   ]
  },
  {
   "cell_type": "code",
   "execution_count": 701,
   "id": "60736a25-c9a8-4ab6-b4a0-545aa2d35ac4",
   "metadata": {
    "id": "60736a25-c9a8-4ab6-b4a0-545aa2d35ac4"
   },
   "outputs": [],
   "source": [
    "dataSUL = data11.copy()"
   ]
  },
  {
   "cell_type": "markdown",
   "id": "39db6959-0158-46da-8034-04cb705ea12e",
   "metadata": {
    "id": "39db6959-0158-46da-8034-04cb705ea12e"
   },
   "source": [
    "### 1 PASSO: Removendo colunas desnecessárias"
   ]
  },
  {
   "cell_type": "code",
   "execution_count": 702,
   "id": "7d47efe5-cb50-497b-a09b-14e09fc58ab3",
   "metadata": {
    "colab": {
     "base_uri": "https://localhost:8080/",
     "height": 335
    },
    "id": "7d47efe5-cb50-497b-a09b-14e09fc58ab3",
    "outputId": "71cdd8de-b46d-46af-dd23-66d8c4583b96"
   },
   "outputs": [
    {
     "data": {
      "text/html": [
       "<div>\n",
       "<style scoped>\n",
       "    .dataframe tbody tr th:only-of-type {\n",
       "        vertical-align: middle;\n",
       "    }\n",
       "\n",
       "    .dataframe tbody tr th {\n",
       "        vertical-align: top;\n",
       "    }\n",
       "\n",
       "    .dataframe thead th {\n",
       "        text-align: right;\n",
       "    }\n",
       "</style>\n",
       "<table border=\"1\" class=\"dataframe\">\n",
       "  <thead>\n",
       "    <tr style=\"text-align: right;\">\n",
       "      <th></th>\n",
       "      <th>Unnamed: 0</th>\n",
       "      <th>Unnamed: 1</th>\n",
       "      <th>Unnamed: 2</th>\n",
       "      <th>CATEGORIA</th>\n",
       "      <th>MODALIDADE</th>\n",
       "      <th>DIA DA SEMANA</th>\n",
       "      <th>HORÁRIO</th>\n",
       "      <th>AUX.1</th>\n",
       "      <th>TURNO</th>\n",
       "      <th>AUX 2</th>\n",
       "      <th>...</th>\n",
       "      <th>2024-10-28 00:00:00</th>\n",
       "      <th>2024-10-29 00:00:00</th>\n",
       "      <th>2024-10-30 00:00:00</th>\n",
       "      <th>2024-10-31 00:00:00</th>\n",
       "      <th>Média alunos p/ professor</th>\n",
       "      <th>Média</th>\n",
       "      <th>Alunos/professor</th>\n",
       "      <th>Ocupação Máxima</th>\n",
       "      <th>Professor</th>\n",
       "      <th>Unnamed: 40</th>\n",
       "    </tr>\n",
       "  </thead>\n",
       "  <tbody>\n",
       "    <tr>\n",
       "      <th>108</th>\n",
       "      <td>NaN</td>\n",
       "      <td>NaN</td>\n",
       "      <td>NaN</td>\n",
       "      <td>MUSC - S/P</td>\n",
       "      <td>A - MUSCULAÇÃO SEM PERSONAL</td>\n",
       "      <td>seg, ter, qua, qui, sex</td>\n",
       "      <td>21:00:00</td>\n",
       "      <td>21:00</td>\n",
       "      <td>NOITE</td>\n",
       "      <td>A - MUSCULAÇÃO SEM PERSONAL - 21:00</td>\n",
       "      <td>...</td>\n",
       "      <td>36</td>\n",
       "      <td>35</td>\n",
       "      <td>26</td>\n",
       "      <td>NaN</td>\n",
       "      <td>22</td>\n",
       "      <td>31.363636</td>\n",
       "      <td>NaN</td>\n",
       "      <td>NaN</td>\n",
       "      <td>NaN</td>\n",
       "      <td>NaN</td>\n",
       "    </tr>\n",
       "    <tr>\n",
       "      <th>109</th>\n",
       "      <td>NaN</td>\n",
       "      <td>NaN</td>\n",
       "      <td>NaN</td>\n",
       "      <td>MUSC - S/P</td>\n",
       "      <td>A - MUSCULAÇÃO SEM PERSONAL</td>\n",
       "      <td>seg, ter, qua, qui, sex</td>\n",
       "      <td>22:00:00</td>\n",
       "      <td>22:00</td>\n",
       "      <td>NOITE</td>\n",
       "      <td>A - MUSCULAÇÃO SEM PERSONAL - 22:00</td>\n",
       "      <td>...</td>\n",
       "      <td>15</td>\n",
       "      <td>NaN</td>\n",
       "      <td>18</td>\n",
       "      <td>NaN</td>\n",
       "      <td>21</td>\n",
       "      <td>10.952381</td>\n",
       "      <td>NaN</td>\n",
       "      <td>NaN</td>\n",
       "      <td>NaN</td>\n",
       "      <td>NaN</td>\n",
       "    </tr>\n",
       "  </tbody>\n",
       "</table>\n",
       "<p>2 rows × 41 columns</p>\n",
       "</div>"
      ],
      "text/plain": [
       "     Unnamed: 0  Unnamed: 1  Unnamed: 2   CATEGORIA  \\\n",
       "108         NaN         NaN         NaN  MUSC - S/P   \n",
       "109         NaN         NaN         NaN  MUSC - S/P   \n",
       "\n",
       "                      MODALIDADE            DIA DA SEMANA   HORÁRIO  AUX.1  \\\n",
       "108  A - MUSCULAÇÃO SEM PERSONAL  seg, ter, qua, qui, sex  21:00:00  21:00   \n",
       "109  A - MUSCULAÇÃO SEM PERSONAL  seg, ter, qua, qui, sex  22:00:00  22:00   \n",
       "\n",
       "     TURNO                                AUX 2  ... 2024-10-28 00:00:00  \\\n",
       "108  NOITE  A - MUSCULAÇÃO SEM PERSONAL - 21:00  ...                  36   \n",
       "109  NOITE  A - MUSCULAÇÃO SEM PERSONAL - 22:00  ...                  15   \n",
       "\n",
       "    2024-10-29 00:00:00 2024-10-30 00:00:00 2024-10-31 00:00:00  \\\n",
       "108                  35                  26                 NaN   \n",
       "109                 NaN                  18                 NaN   \n",
       "\n",
       "    Média alunos p/ professor      Média Alunos/professor Ocupação Máxima  \\\n",
       "108                        22  31.363636              NaN             NaN   \n",
       "109                        21  10.952381              NaN             NaN   \n",
       "\n",
       "    Professor Unnamed: 40  \n",
       "108       NaN         NaN  \n",
       "109       NaN         NaN  \n",
       "\n",
       "[2 rows x 41 columns]"
      ]
     },
     "execution_count": 702,
     "metadata": {},
     "output_type": "execute_result"
    }
   ],
   "source": [
    "dataSUL.tail(2)"
   ]
  },
  {
   "cell_type": "code",
   "execution_count": 703,
   "id": "652c5a34-18b4-4018-9756-383520a0331c",
   "metadata": {
    "colab": {
     "base_uri": "https://localhost:8080/",
     "height": 1000
    },
    "id": "652c5a34-18b4-4018-9756-383520a0331c",
    "outputId": "531e4ee1-fd8e-48b1-a7de-188376e53211"
   },
   "outputs": [
    {
     "data": {
      "text/plain": [
       "Unnamed: 0                                                        NaN\n",
       "Unnamed: 1                                                        NaN\n",
       "Unnamed: 2                                                        NaN\n",
       "CATEGORIA                                                  MUSC - S/P\n",
       "MODALIDADE                                A - MUSCULAÇÃO SEM PERSONAL\n",
       "DIA DA SEMANA                                 seg, ter, qua, qui, sex\n",
       "HORÁRIO                                                      22:00:00\n",
       "AUX.1                                                           22:00\n",
       "TURNO                                                           NOITE\n",
       "AUX 2                             A - MUSCULAÇÃO SEM PERSONAL - 22:00\n",
       "PROFESSOR                                                  JOÃO PEDRO\n",
       "AUX 3                        A - MUSCULAÇÃO SEM PERSONAL - JOÃO PEDRO\n",
       "2024-10-01 00:00:00                                                 1\n",
       "2024-10-02 00:00:00                                                 2\n",
       "2024-10-03 00:00:00                                                 3\n",
       "2024-10-04 00:00:00                                                 3\n",
       "2024-10-07 00:00:00                                                11\n",
       "2024-10-08 00:00:00                                                11\n",
       "2024-10-09 00:00:00                                                11\n",
       "2024-10-10 00:00:00                                                11\n",
       "2024-10-11 00:00:00                                                10\n",
       "2024-10-14 00:00:00                                                10\n",
       "2024-10-15 00:00:00                                                10\n",
       "2024-10-16 00:00:00                                                10\n",
       "2024-10-17 00:00:00                                                 9\n",
       "2024-10-18 00:00:00                                                10\n",
       "2024-10-21 00:00:00                                                22\n",
       "2024-10-22 00:00:00                                                18\n",
       "2024-10-23 00:00:00                                                15\n",
       "2024-10-24 00:00:00                                                15\n",
       "2024-10-25 00:00:00                                                15\n",
       "2024-10-28 00:00:00                                                15\n",
       "2024-10-29 00:00:00                                               NaN\n",
       "2024-10-30 00:00:00                                                18\n",
       "2024-10-31 00:00:00                                               NaN\n",
       "Média alunos p/ professor                                          21\n",
       "Média                                                       10.952381\n",
       "Alunos/professor                                                  NaN\n",
       "Ocupação Máxima                                                   NaN\n",
       "Professor                                                         NaN\n",
       "Unnamed: 40                                                       NaN\n",
       "Name: 109, dtype: object"
      ]
     },
     "execution_count": 703,
     "metadata": {},
     "output_type": "execute_result"
    }
   ],
   "source": [
    "dataSUL.iloc[-1]"
   ]
  },
  {
   "cell_type": "code",
   "execution_count": 704,
   "id": "6953782f-d688-4985-9d91-38d2b7b9cf4e",
   "metadata": {
    "colab": {
     "base_uri": "https://localhost:8080/",
     "height": 1000
    },
    "id": "6953782f-d688-4985-9d91-38d2b7b9cf4e",
    "outputId": "c4bed11c-f410-40e9-efe3-13ec853c91d7"
   },
   "outputs": [
    {
     "data": {
      "text/plain": [
       "Unnamed: 0                                                         NaN\n",
       "Unnamed: 1                                                         NaN\n",
       "Unnamed: 2                                                         NaN\n",
       "CATEGORIA                                                       QUADRA\n",
       "MODALIDADE                                    BEACH TENNIS - INICIANTE\n",
       "DIA DA SEMANA                                              seg,qua,sex\n",
       "HORÁRIO                                                       05:30:00\n",
       "AUX.1                                                            05:30\n",
       "TURNO                                                            MANHÃ\n",
       "AUX 2                                 BEACH TENNIS - INICIANTE - 05:30\n",
       "PROFESSOR                                               ELIAS OLIVEIRA\n",
       "AUX 3                        BEACH TENNIS - INICIANTE - ELIAS OLIVEIRA\n",
       "2024-10-01 00:00:00                                                  x\n",
       "2024-10-02 00:00:00                                                  5\n",
       "2024-10-03 00:00:00                                                  x\n",
       "2024-10-04 00:00:00                                                  7\n",
       "2024-10-07 00:00:00                                                  4\n",
       "2024-10-08 00:00:00                                                  x\n",
       "2024-10-09 00:00:00                                                  7\n",
       "2024-10-10 00:00:00                                                  x\n",
       "2024-10-11 00:00:00                                                  7\n",
       "2024-10-14 00:00:00                                                  5\n",
       "2024-10-15 00:00:00                                                  x\n",
       "2024-10-16 00:00:00                                                 10\n",
       "2024-10-17 00:00:00                                                  x\n",
       "2024-10-18 00:00:00                                                  9\n",
       "2024-10-21 00:00:00                                                 10\n",
       "2024-10-22 00:00:00                                                  x\n",
       "2024-10-23 00:00:00                                                  9\n",
       "2024-10-24 00:00:00                                                  x\n",
       "2024-10-25 00:00:00                                                 25\n",
       "2024-10-28 00:00:00                                                  4\n",
       "2024-10-29 00:00:00                                                  x\n",
       "2024-10-30 00:00:00                                                  8\n",
       "2024-10-31 00:00:00                                                  x\n",
       "Média alunos p/ professor                                           13\n",
       "Média                                                         8.461538\n",
       "Alunos/professor                                                   NaN\n",
       "Ocupação Máxima                                                    NaN\n",
       "Professor                                                          0.0\n",
       "Unnamed: 40                                                        NaN\n",
       "Name: 0, dtype: object"
      ]
     },
     "execution_count": 704,
     "metadata": {},
     "output_type": "execute_result"
    }
   ],
   "source": [
    "dataSUL.iloc[0]"
   ]
  },
  {
   "cell_type": "code",
   "execution_count": 705,
   "id": "2a46382f-bdc0-4a43-9a80-1dcd2121885d",
   "metadata": {
    "id": "2a46382f-bdc0-4a43-9a80-1dcd2121885d"
   },
   "outputs": [],
   "source": [
    "dropColumns = ['Unnamed: 0' , 'Unnamed: 1', 'Unnamed: 2', 'Unnamed: 40',\n",
    "               'HORÁRIO', 'AUX 2', 'AUX 3']"
   ]
  },
  {
   "cell_type": "code",
   "execution_count": 706,
   "id": "44cc3378-05b1-49d1-9f3e-d6dc627bf82f",
   "metadata": {
    "id": "44cc3378-05b1-49d1-9f3e-d6dc627bf82f"
   },
   "outputs": [],
   "source": [
    "dataSUL.drop(columns=dropColumns, inplace=True)"
   ]
  },
  {
   "cell_type": "markdown",
   "id": "efbe09b1-ac5e-41fb-b3ec-153c6f81ffa2",
   "metadata": {
    "id": "efbe09b1-ac5e-41fb-b3ec-153c6f81ffa2"
   },
   "source": [
    "- PRECISAMOS RENOMEAR A COLUNA AUX.1 COMO HORARIO"
   ]
  },
  {
   "cell_type": "code",
   "execution_count": 707,
   "id": "eff114f7-c4e7-43d7-9f6b-15d63189c37f",
   "metadata": {
    "id": "eff114f7-c4e7-43d7-9f6b-15d63189c37f"
   },
   "outputs": [],
   "source": [
    "dataSUL.rename(columns={'AUX.1': 'HORÁRIO'}, inplace=True)"
   ]
  },
  {
   "cell_type": "markdown",
   "id": "d4c73b8d-0877-4e91-a0b2-e3a6fa8ec129",
   "metadata": {
    "id": "d4c73b8d-0877-4e91-a0b2-e3a6fa8ec129"
   },
   "source": [
    "### 2 PASSO: Renomeando strings de datas, para que o pandas possa aceitar como colunas"
   ]
  },
  {
   "cell_type": "code",
   "execution_count": 708,
   "id": "c79c8479-b73a-4798-8b03-f67661522507",
   "metadata": {
    "colab": {
     "base_uri": "https://localhost:8080/"
    },
    "id": "c79c8479-b73a-4798-8b03-f67661522507",
    "outputId": "b1b7b513-dbd1-4c1c-eac3-b3e014efd17c"
   },
   "outputs": [
    {
     "name": "stdout",
     "output_type": "stream",
     "text": [
      "CATEGORIA\n",
      "MODALIDADE\n",
      "DIA DA SEMANA\n",
      "HORÁRIO\n",
      "TURNO\n",
      "PROFESSOR\n",
      "2024-10-01 00:00:00\n",
      "2024-10-02 00:00:00\n",
      "2024-10-03 00:00:00\n",
      "2024-10-04 00:00:00\n",
      "2024-10-07 00:00:00\n",
      "2024-10-08 00:00:00\n",
      "2024-10-09 00:00:00\n",
      "2024-10-10 00:00:00\n",
      "2024-10-11 00:00:00\n",
      "2024-10-14 00:00:00\n",
      "2024-10-15 00:00:00\n",
      "2024-10-16 00:00:00\n",
      "2024-10-17 00:00:00\n",
      "2024-10-18 00:00:00\n",
      "2024-10-21 00:00:00\n",
      "2024-10-22 00:00:00\n",
      "2024-10-23 00:00:00\n",
      "2024-10-24 00:00:00\n",
      "2024-10-25 00:00:00\n",
      "2024-10-28 00:00:00\n",
      "2024-10-29 00:00:00\n",
      "2024-10-30 00:00:00\n",
      "2024-10-31 00:00:00\n",
      "Média alunos p/ professor\n",
      "Média\n",
      "Alunos/professor\n",
      "Ocupação Máxima\n",
      "Professor\n"
     ]
    }
   ],
   "source": [
    "for columns in dataSUL.columns:\n",
    "    print(columns)"
   ]
  },
  {
   "cell_type": "code",
   "execution_count": 709,
   "id": "98d907c7-fb3a-45c7-9a6e-0fbdc13a024a",
   "metadata": {
    "id": "98d907c7-fb3a-45c7-9a6e-0fbdc13a024a"
   },
   "outputs": [],
   "source": [
    "dataSUL.columns = [\n",
    "'CATEGORIA',\n",
    "'MODALIDADE',\n",
    "'DIA DA SEMANA',\n",
    "'HORÁRIO',\n",
    "'TURNO',\n",
    "'PROFESSOR',\n",
    "'2024-10-01 00:00:00',\n",
    "'2024-10-02 00:00:00',\n",
    "'2024-10-03 00:00:00',\n",
    "'2024-10-04 00:00:00',\n",
    "'2024-10-07 00:00:00',\n",
    "'2024-10-08 00:00:00',\n",
    "'2024-10-09 00:00:00',\n",
    "'2024-10-10 00:00:00',\n",
    "'2024-10-11 00:00:00',\n",
    "'2024-10-14 00:00:00',\n",
    "'2024-10-15 00:00:00',\n",
    "'2024-10-16 00:00:00',\n",
    "'2024-10-17 00:00:00',\n",
    "'2024-10-18 00:00:00',\n",
    "'2024-10-21 00:00:00',\n",
    "'2024-10-22 00:00:00',\n",
    "'2024-10-23 00:00:00',\n",
    "'2024-10-24 00:00:00',\n",
    "'2024-10-25 00:00:00',\n",
    "'2024-10-28 00:00:00',\n",
    "'2024-10-29 00:00:00',\n",
    "'2024-10-30 00:00:00',\n",
    "'2024-10-31 00:00:00',\n",
    "'Média alunos p/ professor',\n",
    "'Média',\n",
    "'Alunos/professor',\n",
    "'Ocupação Máxima',\n",
    "'Professor'\n",
    "]"
   ]
  },
  {
   "cell_type": "code",
   "execution_count": 710,
   "id": "8834a11c-41a4-4d53-88b3-bd63d2137dbb",
   "metadata": {
    "colab": {
     "base_uri": "https://localhost:8080/"
    },
    "id": "8834a11c-41a4-4d53-88b3-bd63d2137dbb",
    "outputId": "e42137c0-20dc-44b4-84d4-81debc42632c"
   },
   "outputs": [
    {
     "data": {
      "text/plain": [
       "Index(['CATEGORIA', 'MODALIDADE', 'DIA DA SEMANA', 'HORÁRIO', 'TURNO',\n",
       "       'PROFESSOR', '2024-10-01 00:00:00', '2024-10-02 00:00:00',\n",
       "       '2024-10-03 00:00:00', '2024-10-04 00:00:00', '2024-10-07 00:00:00',\n",
       "       '2024-10-08 00:00:00', '2024-10-09 00:00:00', '2024-10-10 00:00:00',\n",
       "       '2024-10-11 00:00:00', '2024-10-14 00:00:00', '2024-10-15 00:00:00',\n",
       "       '2024-10-16 00:00:00', '2024-10-17 00:00:00', '2024-10-18 00:00:00',\n",
       "       '2024-10-21 00:00:00', '2024-10-22 00:00:00', '2024-10-23 00:00:00',\n",
       "       '2024-10-24 00:00:00', '2024-10-25 00:00:00', '2024-10-28 00:00:00',\n",
       "       '2024-10-29 00:00:00', '2024-10-30 00:00:00', '2024-10-31 00:00:00',\n",
       "       'Média alunos p/ professor', 'Média', 'Alunos/professor',\n",
       "       'Ocupação Máxima', 'Professor'],\n",
       "      dtype='object')"
      ]
     },
     "execution_count": 710,
     "metadata": {},
     "output_type": "execute_result"
    }
   ],
   "source": [
    "dataSUL.columns"
   ]
  },
  {
   "cell_type": "code",
   "execution_count": 711,
   "id": "7695777c-4708-414c-b75f-631dea359d72",
   "metadata": {
    "id": "7695777c-4708-414c-b75f-631dea359d72"
   },
   "outputs": [],
   "source": [
    "colunas = [\n",
    "'2024-10-01 00:00:00',\n",
    "'2024-10-02 00:00:00',\n",
    "'2024-10-03 00:00:00',\n",
    "'2024-10-04 00:00:00',\n",
    "'2024-10-07 00:00:00',\n",
    "'2024-10-08 00:00:00',\n",
    "'2024-10-09 00:00:00',\n",
    "'2024-10-10 00:00:00',\n",
    "'2024-10-11 00:00:00',\n",
    "'2024-10-14 00:00:00',\n",
    "'2024-10-15 00:00:00',\n",
    "'2024-10-16 00:00:00',\n",
    "'2024-10-17 00:00:00',\n",
    "'2024-10-18 00:00:00',\n",
    "'2024-10-21 00:00:00',\n",
    "'2024-10-22 00:00:00',\n",
    "'2024-10-23 00:00:00',\n",
    "'2024-10-24 00:00:00',\n",
    "'2024-10-25 00:00:00',\n",
    "'2024-10-28 00:00:00',\n",
    "'2024-10-29 00:00:00',\n",
    "'2024-10-30 00:00:00',\n",
    "'2024-10-31 00:00:00',\n",
    "]"
   ]
  },
  {
   "cell_type": "code",
   "execution_count": 712,
   "id": "63ebb360-29f7-4e28-913a-d6981c77080b",
   "metadata": {
    "id": "63ebb360-29f7-4e28-913a-d6981c77080b"
   },
   "outputs": [],
   "source": [
    "novas_colunas_SUL = []"
   ]
  },
  {
   "cell_type": "code",
   "execution_count": 713,
   "id": "654e2034-b903-47f4-ac1a-4b9997074719",
   "metadata": {
    "id": "654e2034-b903-47f4-ac1a-4b9997074719"
   },
   "outputs": [],
   "source": [
    "for columns in colunas:\n",
    "    # Remove a parte da hora\n",
    "    data_sem_hora = columns.split(' ')[0]\n",
    "\n",
    "    # Formata para o formato DD-MM-YYYY\n",
    "    ano, mes, dia = data_sem_hora.split('-')\n",
    "    novo_nome = f'{dia}-{mes}-{ano}'\n",
    "    novas_colunas_SUL.append(novo_nome)"
   ]
  },
  {
   "cell_type": "code",
   "execution_count": 714,
   "id": "6dc7c337-e432-4e09-8aa0-7c735c9bd034",
   "metadata": {
    "colab": {
     "base_uri": "https://localhost:8080/"
    },
    "id": "6dc7c337-e432-4e09-8aa0-7c735c9bd034",
    "outputId": "7b5de24d-13e5-4ed2-ea40-9be8b3a85fb7"
   },
   "outputs": [
    {
     "data": {
      "text/plain": [
       "['01-10-2024',\n",
       " '02-10-2024',\n",
       " '03-10-2024',\n",
       " '04-10-2024',\n",
       " '07-10-2024',\n",
       " '08-10-2024',\n",
       " '09-10-2024',\n",
       " '10-10-2024',\n",
       " '11-10-2024',\n",
       " '14-10-2024',\n",
       " '15-10-2024',\n",
       " '16-10-2024',\n",
       " '17-10-2024',\n",
       " '18-10-2024',\n",
       " '21-10-2024',\n",
       " '22-10-2024',\n",
       " '23-10-2024',\n",
       " '24-10-2024',\n",
       " '25-10-2024',\n",
       " '28-10-2024',\n",
       " '29-10-2024',\n",
       " '30-10-2024',\n",
       " '31-10-2024']"
      ]
     },
     "execution_count": 714,
     "metadata": {},
     "output_type": "execute_result"
    }
   ],
   "source": [
    "novas_colunas_SUL"
   ]
  },
  {
   "cell_type": "markdown",
   "id": "87228fb7-b386-4520-b487-54ab727c3bc3",
   "metadata": {
    "id": "87228fb7-b386-4520-b487-54ab727c3bc3"
   },
   "source": [
    "### PASSO 4 renomeando colunas e acrescentando o novo formato"
   ]
  },
  {
   "cell_type": "markdown",
   "id": "b74e7efd-3c38-4239-af94-c5863b0353a6",
   "metadata": {
    "id": "b74e7efd-3c38-4239-af94-c5863b0353a6"
   },
   "source": [
    "copie as colunas que escolheu para renomear, e cole o formato novo no lugar das velhas"
   ]
  },
  {
   "cell_type": "code",
   "execution_count": 715,
   "id": "494aca86-eea0-49d0-9f82-10b7c3f6e561",
   "metadata": {
    "id": "494aca86-eea0-49d0-9f82-10b7c3f6e561"
   },
   "outputs": [],
   "source": [
    "# Adicionando as datas formatadas as colunas, copiando e colando"
   ]
  },
  {
   "cell_type": "code",
   "execution_count": 716,
   "id": "d5747728-4a6f-43b8-8b22-45c940b1435e",
   "metadata": {
    "colab": {
     "base_uri": "https://localhost:8080/"
    },
    "id": "d5747728-4a6f-43b8-8b22-45c940b1435e",
    "outputId": "abc24000-48ec-49cf-e960-8f6bbc862911"
   },
   "outputs": [
    {
     "name": "stdout",
     "output_type": "stream",
     "text": [
      "CATEGORIA\n",
      "MODALIDADE\n",
      "DIA DA SEMANA\n",
      "HORÁRIO\n",
      "TURNO\n",
      "PROFESSOR\n",
      "2024-10-01 00:00:00\n",
      "2024-10-02 00:00:00\n",
      "2024-10-03 00:00:00\n",
      "2024-10-04 00:00:00\n",
      "2024-10-07 00:00:00\n",
      "2024-10-08 00:00:00\n",
      "2024-10-09 00:00:00\n",
      "2024-10-10 00:00:00\n",
      "2024-10-11 00:00:00\n",
      "2024-10-14 00:00:00\n",
      "2024-10-15 00:00:00\n",
      "2024-10-16 00:00:00\n",
      "2024-10-17 00:00:00\n",
      "2024-10-18 00:00:00\n",
      "2024-10-21 00:00:00\n",
      "2024-10-22 00:00:00\n",
      "2024-10-23 00:00:00\n",
      "2024-10-24 00:00:00\n",
      "2024-10-25 00:00:00\n",
      "2024-10-28 00:00:00\n",
      "2024-10-29 00:00:00\n",
      "2024-10-30 00:00:00\n",
      "2024-10-31 00:00:00\n",
      "Média alunos p/ professor\n",
      "Média\n",
      "Alunos/professor\n",
      "Ocupação Máxima\n",
      "Professor\n"
     ]
    }
   ],
   "source": [
    "for columns in dataSUL.columns:\n",
    "    print (columns)"
   ]
  },
  {
   "cell_type": "code",
   "execution_count": 717,
   "id": "a510990e-1b6a-430f-8a8e-ff0884eef0d6",
   "metadata": {
    "id": "a510990e-1b6a-430f-8a8e-ff0884eef0d6"
   },
   "outputs": [],
   "source": [
    "dataSUL.columns = [\n",
    "'CATEGORIA',\n",
    "'MODALIDADE',\n",
    "'DIA DA SEMANA',\n",
    "'HORÁRIO',\n",
    "'TURNO',\n",
    "'PROFESSOR',\n",
    "'01-10-2024',\n",
    "'02-10-2024',\n",
    "'03-10-2024',\n",
    "'04-10-2024',\n",
    "'07-10-2024',\n",
    "'08-10-2024',\n",
    "'09-10-2024',\n",
    "'10-10-2024',\n",
    "'11-10-2024',\n",
    "'14-10-2024',\n",
    "'15-10-2024',\n",
    "'16-10-2024',\n",
    "'17-10-2024',\n",
    "'18-10-2024',\n",
    "'21-10-2024',\n",
    "'22-10-2024',\n",
    "'23-10-2024',\n",
    "'24-10-2024',\n",
    "'25-10-2024',\n",
    "'28-10-2024',\n",
    "'29-10-2024',\n",
    "'30-10-2024',\n",
    "'31-10-2024',\n",
    "'Média alunos p/ professor',\n",
    "'Média',\n",
    "'Alunos/professor',\n",
    "'Ocupação Máxima',\n",
    "'Professor',\n",
    "]"
   ]
  },
  {
   "cell_type": "markdown",
   "id": "8e42a6fc-96e6-4a36-8154-f543ae5d1dd3",
   "metadata": {
    "id": "8e42a6fc-96e6-4a36-8154-f543ae5d1dd3"
   },
   "source": [
    "### 5 PASSO: Usar o Loop for para substitituir os valores das frequencia de 'x' e 'X' por zero, com o método do pd.to_numeric)"
   ]
  },
  {
   "cell_type": "code",
   "execution_count": 718,
   "id": "6f2390ab-5833-4ecd-bf03-072881e3b7f6",
   "metadata": {
    "id": "6f2390ab-5833-4ecd-bf03-072881e3b7f6"
   },
   "outputs": [],
   "source": [
    "colunas = [\n",
    "'01-10-2024',\n",
    "'02-10-2024',\n",
    "'03-10-2024',\n",
    "'04-10-2024',\n",
    "'07-10-2024',\n",
    "'08-10-2024',\n",
    "'09-10-2024',\n",
    "'10-10-2024',\n",
    "'11-10-2024',\n",
    "'14-10-2024',\n",
    "'15-10-2024',\n",
    "'16-10-2024',\n",
    "'17-10-2024',\n",
    "'18-10-2024',\n",
    "'21-10-2024',\n",
    "'22-10-2024',\n",
    "'23-10-2024',\n",
    "'24-10-2024',\n",
    "'25-10-2024',\n",
    "'28-10-2024',\n",
    "'29-10-2024',\n",
    "'30-10-2024',\n",
    "'31-10-2024',\n",
    "]"
   ]
  },
  {
   "cell_type": "markdown",
   "id": "13200922-80c3-4cd0-b467-5ec95fdd5e81",
   "metadata": {
    "id": "13200922-80c3-4cd0-b467-5ec95fdd5e81"
   },
   "source": [
    "Fazendo a limpeza profunda, formatando valores para numeros, preenchendo com zeros os nulos e transformando em inteiros"
   ]
  },
  {
   "cell_type": "code",
   "execution_count": 719,
   "id": "c6b742bc-c460-4d4c-a34f-32a3ba6460dc",
   "metadata": {
    "id": "c6b742bc-c460-4d4c-a34f-32a3ba6460dc"
   },
   "outputs": [],
   "source": [
    "for columns in colunas:\n",
    "    # dataMES[columns] = pd.to_numeric(dataMES[columns], errors='coerce')\n",
    "    dataSUL[columns] = pd.to_numeric(dataSUL[columns], errors='coerce').fillna(0).astype(int)"
   ]
  },
  {
   "cell_type": "markdown",
   "id": "e9441a64-62d2-4a1e-9b0b-d0d82567437a",
   "metadata": {
    "id": "e9441a64-62d2-4a1e-9b0b-d0d82567437a"
   },
   "source": [
    "### PASSO 6: MELT derretendo as colunas em formato de datas"
   ]
  },
  {
   "cell_type": "markdown",
   "id": "4c37bb8d-0f2c-4abd-919b-16a8054a6f1a",
   "metadata": {
    "id": "4c37bb8d-0f2c-4abd-919b-16a8054a6f1a"
   },
   "source": [
    "o MELT ele pega as colunas que estão na horizontal e cria uma coluna de categorias, e depois ele cria outra coluna com os valores dessas colunas que foram transformadas em dados categóricos"
   ]
  },
  {
   "cell_type": "code",
   "execution_count": 720,
   "id": "0ae0c93f-86a1-41b4-93b3-b2fa704c6d45",
   "metadata": {
    "id": "0ae0c93f-86a1-41b4-93b3-b2fa704c6d45"
   },
   "outputs": [],
   "source": [
    "colunas_para_melt = [\n",
    "'01-10-2024',\n",
    "'02-10-2024',\n",
    "'03-10-2024',\n",
    "'04-10-2024',\n",
    "'07-10-2024',\n",
    "'08-10-2024',\n",
    "'09-10-2024',\n",
    "'10-10-2024',\n",
    "'11-10-2024',\n",
    "'14-10-2024',\n",
    "'15-10-2024',\n",
    "'16-10-2024',\n",
    "'17-10-2024',\n",
    "'18-10-2024',\n",
    "'21-10-2024',\n",
    "'22-10-2024',\n",
    "'23-10-2024',\n",
    "'24-10-2024',\n",
    "'25-10-2024',\n",
    "'28-10-2024',\n",
    "'29-10-2024',\n",
    "'30-10-2024',\n",
    "'31-10-2024',\n",
    "]"
   ]
  },
  {
   "cell_type": "markdown",
   "id": "9d566f92-c311-4b4d-a08e-8118d194e78c",
   "metadata": {
    "id": "9d566f92-c311-4b4d-a08e-8118d194e78c"
   },
   "source": [
    "#### Indentificando as colunas que Eu quero manter em meu dataframe"
   ]
  },
  {
   "cell_type": "code",
   "execution_count": 721,
   "id": "9f929b9a-8fef-49b3-9587-6c85091904e6",
   "metadata": {
    "id": "9f929b9a-8fef-49b3-9587-6c85091904e6"
   },
   "outputs": [],
   "source": [
    "# Identifica as colunas que você quer manter como identificadoras (id_vars)\n",
    "# São as colunas que não serão \"unpivoted\"\n",
    "id_vars_cols = [columns for columns in dataSUL.columns if columns not in colunas_para_melt]"
   ]
  },
  {
   "cell_type": "code",
   "execution_count": 722,
   "id": "c8bd3a95-7d99-41d3-a586-cd8edaa15825",
   "metadata": {
    "id": "c8bd3a95-7d99-41d3-a586-cd8edaa15825"
   },
   "outputs": [],
   "source": [
    "dataSUL_melted = pd.melt(dataSUL,\n",
    "                      id_vars=id_vars_cols, #colunas que Eu deixei, que ficaram.\n",
    "                      value_vars=colunas_para_melt, #colunas que vão se transformar.\n",
    "                      var_name='Dias de Aulas', # nome da coluna categorica\n",
    "                      value_name='Frequencia de Alunos') # nome da coluna de valores"
   ]
  },
  {
   "cell_type": "code",
   "execution_count": 723,
   "id": "1ada7234-9473-40d0-abe4-f4f9f9e9f297",
   "metadata": {
    "colab": {
     "base_uri": "https://localhost:8080/",
     "height": 181
    },
    "id": "1ada7234-9473-40d0-abe4-f4f9f9e9f297",
    "outputId": "4fdcd76a-95f2-42d5-8104-6b68e7a05f10"
   },
   "outputs": [
    {
     "data": {
      "text/html": [
       "<div>\n",
       "<style scoped>\n",
       "    .dataframe tbody tr th:only-of-type {\n",
       "        vertical-align: middle;\n",
       "    }\n",
       "\n",
       "    .dataframe tbody tr th {\n",
       "        vertical-align: top;\n",
       "    }\n",
       "\n",
       "    .dataframe thead th {\n",
       "        text-align: right;\n",
       "    }\n",
       "</style>\n",
       "<table border=\"1\" class=\"dataframe\">\n",
       "  <thead>\n",
       "    <tr style=\"text-align: right;\">\n",
       "      <th></th>\n",
       "      <th>CATEGORIA</th>\n",
       "      <th>MODALIDADE</th>\n",
       "      <th>DIA DA SEMANA</th>\n",
       "      <th>HORÁRIO</th>\n",
       "      <th>TURNO</th>\n",
       "      <th>PROFESSOR</th>\n",
       "      <th>Média alunos p/ professor</th>\n",
       "      <th>Média</th>\n",
       "      <th>Alunos/professor</th>\n",
       "      <th>Ocupação Máxima</th>\n",
       "      <th>Professor</th>\n",
       "      <th>Dias de Aulas</th>\n",
       "      <th>Frequencia de Alunos</th>\n",
       "    </tr>\n",
       "  </thead>\n",
       "  <tbody>\n",
       "    <tr>\n",
       "      <th>0</th>\n",
       "      <td>QUADRA</td>\n",
       "      <td>BEACH TENNIS - INICIANTE</td>\n",
       "      <td>seg,qua,sex</td>\n",
       "      <td>05:30</td>\n",
       "      <td>MANHÃ</td>\n",
       "      <td>ELIAS OLIVEIRA</td>\n",
       "      <td>13</td>\n",
       "      <td>8.461538</td>\n",
       "      <td>NaN</td>\n",
       "      <td>NaN</td>\n",
       "      <td>0.0</td>\n",
       "      <td>01-10-2024</td>\n",
       "      <td>0</td>\n",
       "    </tr>\n",
       "    <tr>\n",
       "      <th>1</th>\n",
       "      <td>QUADRA</td>\n",
       "      <td>BEACH TENNIS - INTERMEDIÁRIO</td>\n",
       "      <td>ter, qui</td>\n",
       "      <td>05:30</td>\n",
       "      <td>MANHÃ</td>\n",
       "      <td>ELIAS OLIVEIRA</td>\n",
       "      <td>9</td>\n",
       "      <td>5.111111</td>\n",
       "      <td>NaN</td>\n",
       "      <td>NaN</td>\n",
       "      <td>NaN</td>\n",
       "      <td>01-10-2024</td>\n",
       "      <td>4</td>\n",
       "    </tr>\n",
       "  </tbody>\n",
       "</table>\n",
       "</div>"
      ],
      "text/plain": [
       "  CATEGORIA                    MODALIDADE DIA DA SEMANA HORÁRIO  TURNO  \\\n",
       "0    QUADRA      BEACH TENNIS - INICIANTE   seg,qua,sex   05:30  MANHÃ   \n",
       "1    QUADRA  BEACH TENNIS - INTERMEDIÁRIO      ter, qui   05:30  MANHÃ   \n",
       "\n",
       "        PROFESSOR Média alunos p/ professor     Média  Alunos/professor  \\\n",
       "0  ELIAS OLIVEIRA                        13  8.461538               NaN   \n",
       "1  ELIAS OLIVEIRA                         9  5.111111               NaN   \n",
       "\n",
       "   Ocupação Máxima  Professor Dias de Aulas  Frequencia de Alunos  \n",
       "0              NaN        0.0    01-10-2024                     0  \n",
       "1              NaN        NaN    01-10-2024                     4  "
      ]
     },
     "execution_count": 723,
     "metadata": {},
     "output_type": "execute_result"
    }
   ],
   "source": [
    "dataSUL_melted.head(2)"
   ]
  },
  {
   "cell_type": "code",
   "execution_count": 724,
   "id": "9f2baba1-a305-487d-af0b-841913e62213",
   "metadata": {
    "colab": {
     "base_uri": "https://localhost:8080/"
    },
    "id": "9f2baba1-a305-487d-af0b-841913e62213",
    "outputId": "59f329d5-c4d8-415c-f59a-7869ca77d832"
   },
   "outputs": [
    {
     "data": {
      "text/plain": [
       "np.int64(34269)"
      ]
     },
     "execution_count": 724,
     "metadata": {},
     "output_type": "execute_result"
    }
   ],
   "source": [
    "dataSUL_melted['Frequencia de Alunos'].sum()"
   ]
  },
  {
   "cell_type": "markdown",
   "id": "94f6b094-2f9f-4ae7-9120-5d045990b584",
   "metadata": {
    "id": "94f6b094-2f9f-4ae7-9120-5d045990b584",
    "tags": []
   },
   "source": [
    "# RUI BARBOSA [RUI] - PREPROCESSING 12"
   ]
  },
  {
   "cell_type": "code",
   "execution_count": 725,
   "id": "b8051bed-5d61-4692-8304-2fd048eb2b7d",
   "metadata": {
    "id": "b8051bed-5d61-4692-8304-2fd048eb2b7d"
   },
   "outputs": [],
   "source": [
    "data12 = pd.read_excel('base_de_frequencias_green_life_academias_dados_brutos.xlsx', sheet_name='RUI', skiprows=1, nrows=88)"
   ]
  },
  {
   "cell_type": "code",
   "execution_count": 726,
   "id": "b63f8c8e-e3e7-4339-b7c2-d344fd1fcd43",
   "metadata": {
    "id": "b63f8c8e-e3e7-4339-b7c2-d344fd1fcd43"
   },
   "outputs": [],
   "source": [
    "dataRUI = data12.copy()"
   ]
  },
  {
   "cell_type": "markdown",
   "id": "6a71630d-9137-40e9-a588-f3ff7e3f93b9",
   "metadata": {
    "id": "6a71630d-9137-40e9-a588-f3ff7e3f93b9"
   },
   "source": [
    "### 1 PASSO: Removendo colunas desnecessárias"
   ]
  },
  {
   "cell_type": "code",
   "execution_count": 727,
   "id": "ee95a500-7e54-4fca-a291-d084a38b8a6e",
   "metadata": {
    "colab": {
     "base_uri": "https://localhost:8080/",
     "height": 335
    },
    "id": "ee95a500-7e54-4fca-a291-d084a38b8a6e",
    "outputId": "c381c7c1-3b00-478a-c36b-0600c3fb1bc2"
   },
   "outputs": [
    {
     "data": {
      "text/html": [
       "<div>\n",
       "<style scoped>\n",
       "    .dataframe tbody tr th:only-of-type {\n",
       "        vertical-align: middle;\n",
       "    }\n",
       "\n",
       "    .dataframe tbody tr th {\n",
       "        vertical-align: top;\n",
       "    }\n",
       "\n",
       "    .dataframe thead th {\n",
       "        text-align: right;\n",
       "    }\n",
       "</style>\n",
       "<table border=\"1\" class=\"dataframe\">\n",
       "  <thead>\n",
       "    <tr style=\"text-align: right;\">\n",
       "      <th></th>\n",
       "      <th>Unnamed: 0</th>\n",
       "      <th>Unnamed: 1</th>\n",
       "      <th>Unnamed: 2</th>\n",
       "      <th>CATEGORIA</th>\n",
       "      <th>MODALIDADE</th>\n",
       "      <th>DIA DA SEMANA</th>\n",
       "      <th>HORÁRIO</th>\n",
       "      <th>AUX.1</th>\n",
       "      <th>TURNO</th>\n",
       "      <th>AUX 2</th>\n",
       "      <th>...</th>\n",
       "      <th>2024-10-25 00:00:00</th>\n",
       "      <th>2024-10-28 00:00:00</th>\n",
       "      <th>2024-10-29 00:00:00</th>\n",
       "      <th>2024-10-30 00:00:00</th>\n",
       "      <th>2024-10-31 00:00:00</th>\n",
       "      <th>Média alunos p/ professor</th>\n",
       "      <th>Média</th>\n",
       "      <th>Alunos/professor</th>\n",
       "      <th>Ocupação Máxima</th>\n",
       "      <th>Professor</th>\n",
       "    </tr>\n",
       "  </thead>\n",
       "  <tbody>\n",
       "    <tr>\n",
       "      <th>0</th>\n",
       "      <td>NaN</td>\n",
       "      <td>NaN</td>\n",
       "      <td>NaN</td>\n",
       "      <td>MUSC - C/P</td>\n",
       "      <td>A - MUSCULAÇÃO COM PERSONAL</td>\n",
       "      <td>seg, ter, qua, qui, sex</td>\n",
       "      <td>06:00:00</td>\n",
       "      <td>06:00</td>\n",
       "      <td>MANHÃ</td>\n",
       "      <td>A - MUSCULAÇÃO COM PERSONAL - 06:00</td>\n",
       "      <td>...</td>\n",
       "      <td>42</td>\n",
       "      <td>54</td>\n",
       "      <td>54</td>\n",
       "      <td>50</td>\n",
       "      <td>52</td>\n",
       "      <td>23</td>\n",
       "      <td>54.130435</td>\n",
       "      <td>NaN</td>\n",
       "      <td>NaN</td>\n",
       "      <td>0.0</td>\n",
       "    </tr>\n",
       "    <tr>\n",
       "      <th>1</th>\n",
       "      <td>NaN</td>\n",
       "      <td>NaN</td>\n",
       "      <td>NaN</td>\n",
       "      <td>MUSC - S/P</td>\n",
       "      <td>A - MUSCULAÇÃO SEM PERSONAL</td>\n",
       "      <td>seg, ter, qua, qui, sex</td>\n",
       "      <td>06:00:00</td>\n",
       "      <td>06:00</td>\n",
       "      <td>MANHÃ</td>\n",
       "      <td>A - MUSCULAÇÃO SEM PERSONAL - 06:00</td>\n",
       "      <td>...</td>\n",
       "      <td>45</td>\n",
       "      <td>48</td>\n",
       "      <td>65</td>\n",
       "      <td>59</td>\n",
       "      <td>51</td>\n",
       "      <td>23</td>\n",
       "      <td>49.043478</td>\n",
       "      <td>7.666667</td>\n",
       "      <td>NaN</td>\n",
       "      <td>3.0</td>\n",
       "    </tr>\n",
       "  </tbody>\n",
       "</table>\n",
       "<p>2 rows × 40 columns</p>\n",
       "</div>"
      ],
      "text/plain": [
       "   Unnamed: 0  Unnamed: 1 Unnamed: 2   CATEGORIA                   MODALIDADE  \\\n",
       "0         NaN         NaN        NaN  MUSC - C/P  A - MUSCULAÇÃO COM PERSONAL   \n",
       "1         NaN         NaN        NaN  MUSC - S/P  A - MUSCULAÇÃO SEM PERSONAL   \n",
       "\n",
       "             DIA DA SEMANA   HORÁRIO  AUX.1  TURNO  \\\n",
       "0  seg, ter, qua, qui, sex  06:00:00  06:00  MANHÃ   \n",
       "1  seg, ter, qua, qui, sex  06:00:00  06:00  MANHÃ   \n",
       "\n",
       "                                 AUX 2  ... 2024-10-25 00:00:00  \\\n",
       "0  A - MUSCULAÇÃO COM PERSONAL - 06:00  ...                  42   \n",
       "1  A - MUSCULAÇÃO SEM PERSONAL - 06:00  ...                  45   \n",
       "\n",
       "  2024-10-28 00:00:00 2024-10-29 00:00:00 2024-10-30 00:00:00  \\\n",
       "0                  54                  54                  50   \n",
       "1                  48                  65                  59   \n",
       "\n",
       "  2024-10-31 00:00:00 Média alunos p/ professor      Média Alunos/professor  \\\n",
       "0                  52                        23  54.130435              NaN   \n",
       "1                  51                        23  49.043478         7.666667   \n",
       "\n",
       "  Ocupação Máxima Professor  \n",
       "0             NaN       0.0  \n",
       "1             NaN       3.0  \n",
       "\n",
       "[2 rows x 40 columns]"
      ]
     },
     "execution_count": 727,
     "metadata": {},
     "output_type": "execute_result"
    }
   ],
   "source": [
    "dataRUI.head(2)"
   ]
  },
  {
   "cell_type": "code",
   "execution_count": 728,
   "id": "4d8f73fe-4a11-4b2f-873a-2a11b9fdf5e5",
   "metadata": {
    "colab": {
     "base_uri": "https://localhost:8080/",
     "height": 1000
    },
    "id": "4d8f73fe-4a11-4b2f-873a-2a11b9fdf5e5",
    "outputId": "364c7b45-27a8-4bad-d482-d52b7d73a587"
   },
   "outputs": [
    {
     "data": {
      "text/plain": [
       "Unnamed: 0                                                   NaN\n",
       "Unnamed: 1                                                   NaN\n",
       "Unnamed: 2                                                   NaN\n",
       "CATEGORIA                                             MUSC - C/P\n",
       "MODALIDADE                           A - MUSCULAÇÃO COM PERSONAL\n",
       "DIA DA SEMANA                            seg, ter, qua, qui, sex\n",
       "HORÁRIO                                                 06:00:00\n",
       "AUX.1                                                      06:00\n",
       "TURNO                                                      MANHÃ\n",
       "AUX 2                        A - MUSCULAÇÃO COM PERSONAL - 06:00\n",
       "PROFESSOR                                                  PABLO\n",
       "AUX 3                        A - MUSCULAÇÃO COM PERSONAL - PABLO\n",
       "2024-10-01 00:00:00                                           66\n",
       "2024-10-02 00:00:00                                           40\n",
       "2024-10-03 00:00:00                                           40\n",
       "2024-10-04 00:00:00                                           52\n",
       "2024-10-07 00:00:00                                           54\n",
       "2024-10-08 00:00:00                                           48\n",
       "2024-10-09 00:00:00                                           54\n",
       "2024-10-10 00:00:00                                           74\n",
       "2024-10-11 00:00:00                                           48\n",
       "2024-10-14 00:00:00                                           70\n",
       "2024-10-15 00:00:00                                           53\n",
       "2024-10-16 00:00:00                                           60\n",
       "2024-10-17 00:00:00                                           52\n",
       "2024-10-18 00:00:00                                           62\n",
       "2024-10-21 00:00:00                                           68\n",
       "2024-10-22 00:00:00                                           47\n",
       "2024-10-23 00:00:00                                           51\n",
       "2024-10-24 00:00:00                                           54\n",
       "2024-10-25 00:00:00                                           42\n",
       "2024-10-28 00:00:00                                           54\n",
       "2024-10-29 00:00:00                                           54\n",
       "2024-10-30 00:00:00                                           50\n",
       "2024-10-31 00:00:00                                           52\n",
       "Média alunos p/ professor                                     23\n",
       "Média                                                  54.130435\n",
       "Alunos/professor                                             NaN\n",
       "Ocupação Máxima                                              NaN\n",
       "Professor                                                    0.0\n",
       "Name: 0, dtype: object"
      ]
     },
     "execution_count": 728,
     "metadata": {},
     "output_type": "execute_result"
    }
   ],
   "source": [
    "dataRUI.iloc[0]"
   ]
  },
  {
   "cell_type": "code",
   "execution_count": 729,
   "id": "07cfc068-58e1-4a5e-9c64-119d29938145",
   "metadata": {
    "colab": {
     "base_uri": "https://localhost:8080/",
     "height": 1000
    },
    "id": "07cfc068-58e1-4a5e-9c64-119d29938145",
    "outputId": "fc69b56c-e8dc-4430-b7b7-b9201a5eb5c0"
   },
   "outputs": [
    {
     "data": {
      "text/plain": [
       "Unnamed: 0                                                    NaN\n",
       "Unnamed: 1                                                    NaN\n",
       "Unnamed: 2                                                    NaN\n",
       "CATEGORIA                                              MUSC - S/P\n",
       "MODALIDADE                            A - MUSCULAÇÃO SEM PERSONAL\n",
       "DIA DA SEMANA                             seg, ter, qua, qui, sex\n",
       "HORÁRIO                                                  22:00:00\n",
       "AUX.1                                                       22:00\n",
       "TURNO                                                       NOITE\n",
       "AUX 2                         A - MUSCULAÇÃO SEM PERSONAL - 22:00\n",
       "PROFESSOR                                                  JAMARA\n",
       "AUX 3                        A - MUSCULAÇÃO SEM PERSONAL - JAMARA\n",
       "2024-10-01 00:00:00                                           NaN\n",
       "2024-10-02 00:00:00                                           NaN\n",
       "2024-10-03 00:00:00                                           NaN\n",
       "2024-10-04 00:00:00                                             3\n",
       "2024-10-07 00:00:00                                           NaN\n",
       "2024-10-08 00:00:00                                           NaN\n",
       "2024-10-09 00:00:00                                           NaN\n",
       "2024-10-10 00:00:00                                           NaN\n",
       "2024-10-11 00:00:00                                           NaN\n",
       "2024-10-14 00:00:00                                           NaN\n",
       "2024-10-15 00:00:00                                           NaN\n",
       "2024-10-16 00:00:00                                           NaN\n",
       "2024-10-17 00:00:00                                           NaN\n",
       "2024-10-18 00:00:00                                           NaN\n",
       "2024-10-21 00:00:00                                           NaN\n",
       "2024-10-22 00:00:00                                           NaN\n",
       "2024-10-23 00:00:00                                           NaN\n",
       "2024-10-24 00:00:00                                           NaN\n",
       "2024-10-25 00:00:00                                           NaN\n",
       "2024-10-28 00:00:00                                           NaN\n",
       "2024-10-29 00:00:00                                           NaN\n",
       "2024-10-30 00:00:00                                           NaN\n",
       "2024-10-31 00:00:00                                           NaN\n",
       "Média alunos p/ professor                                       1\n",
       "Média                                                         3.0\n",
       "Alunos/professor                                              NaN\n",
       "Ocupação Máxima                                               NaN\n",
       "Professor                                                     NaN\n",
       "Name: 87, dtype: object"
      ]
     },
     "execution_count": 729,
     "metadata": {},
     "output_type": "execute_result"
    }
   ],
   "source": [
    "dataRUI.iloc[-1]"
   ]
  },
  {
   "cell_type": "code",
   "execution_count": 730,
   "id": "c9ea1f22-45c2-49b6-bbaf-7fb28b9fdacf",
   "metadata": {
    "id": "c9ea1f22-45c2-49b6-bbaf-7fb28b9fdacf"
   },
   "outputs": [],
   "source": [
    "dropColumns = ['Unnamed: 0', 'Unnamed: 1', 'Unnamed: 2', 'AUX 2',\n",
    "               'AUX 3', 'HORÁRIO']"
   ]
  },
  {
   "cell_type": "code",
   "execution_count": 731,
   "id": "8ef36fb9-c9eb-4908-87d8-ccc6597b72eb",
   "metadata": {
    "id": "8ef36fb9-c9eb-4908-87d8-ccc6597b72eb"
   },
   "outputs": [],
   "source": [
    "dataRUI.drop(columns=dropColumns, inplace=True)"
   ]
  },
  {
   "cell_type": "markdown",
   "id": "dbf99fd3-d110-4132-bd2d-d5addfad5f93",
   "metadata": {
    "id": "dbf99fd3-d110-4132-bd2d-d5addfad5f93"
   },
   "source": [
    "- PRECISAMOS RENOMEAR A COLUNA AUX.1 COMO HORARIO"
   ]
  },
  {
   "cell_type": "code",
   "execution_count": 732,
   "id": "67580531-0a1a-4ea2-a24b-e8852739ceb0",
   "metadata": {
    "id": "67580531-0a1a-4ea2-a24b-e8852739ceb0"
   },
   "outputs": [],
   "source": [
    "dataRUI.rename(columns={'AUX.1': 'HORÁRIO'}, inplace=True)"
   ]
  },
  {
   "cell_type": "markdown",
   "id": "ce8410c2-d07b-4d78-9c85-72d441aac201",
   "metadata": {
    "id": "ce8410c2-d07b-4d78-9c85-72d441aac201"
   },
   "source": [
    "### 2 PASSO: Renomeando strings de datas, para que o pandas possa aceitar como colunas"
   ]
  },
  {
   "cell_type": "code",
   "execution_count": 733,
   "id": "8bd01326-18f7-4c71-80f2-79e5ce0f22ce",
   "metadata": {
    "colab": {
     "base_uri": "https://localhost:8080/"
    },
    "id": "8bd01326-18f7-4c71-80f2-79e5ce0f22ce",
    "outputId": "1df97a9e-a21e-4d85-eb89-2cbbc1825549"
   },
   "outputs": [
    {
     "name": "stdout",
     "output_type": "stream",
     "text": [
      "CATEGORIA\n",
      "MODALIDADE\n",
      "DIA DA SEMANA\n",
      "HORÁRIO\n",
      "TURNO\n",
      "PROFESSOR\n",
      "2024-10-01 00:00:00\n",
      "2024-10-02 00:00:00\n",
      "2024-10-03 00:00:00\n",
      "2024-10-04 00:00:00\n",
      "2024-10-07 00:00:00\n",
      "2024-10-08 00:00:00\n",
      "2024-10-09 00:00:00\n",
      "2024-10-10 00:00:00\n",
      "2024-10-11 00:00:00\n",
      "2024-10-14 00:00:00\n",
      "2024-10-15 00:00:00\n",
      "2024-10-16 00:00:00\n",
      "2024-10-17 00:00:00\n",
      "2024-10-18 00:00:00\n",
      "2024-10-21 00:00:00\n",
      "2024-10-22 00:00:00\n",
      "2024-10-23 00:00:00\n",
      "2024-10-24 00:00:00\n",
      "2024-10-25 00:00:00\n",
      "2024-10-28 00:00:00\n",
      "2024-10-29 00:00:00\n",
      "2024-10-30 00:00:00\n",
      "2024-10-31 00:00:00\n",
      "Média alunos p/ professor\n",
      "Média\n",
      "Alunos/professor\n",
      "Ocupação Máxima\n",
      "Professor\n"
     ]
    }
   ],
   "source": [
    "for columns in dataRUI.columns:\n",
    "    print(columns)"
   ]
  },
  {
   "cell_type": "code",
   "execution_count": 734,
   "id": "819ced85-36f5-409a-9462-f1a7c2e87616",
   "metadata": {
    "id": "819ced85-36f5-409a-9462-f1a7c2e87616"
   },
   "outputs": [],
   "source": [
    "dataRUI.columns=[\n",
    "'CATEGORIA',\n",
    "'MODALIDADE',\n",
    "'DIA DA SEMANA',\n",
    "'HORÁRIO',\n",
    "'TURNO',\n",
    "'PROFESSOR',\n",
    "'2024-10-01 00:00:00',\n",
    "'2024-10-02 00:00:00',\n",
    "'2024-10-03 00:00:00',\n",
    "'2024-10-04 00:00:00',\n",
    "'2024-10-07 00:00:00',\n",
    "'2024-10-08 00:00:00',\n",
    "'2024-10-09 00:00:00',\n",
    "'2024-10-10 00:00:00',\n",
    "'2024-10-11 00:00:00',\n",
    "'2024-10-14 00:00:00',\n",
    "'2024-10-15 00:00:00',\n",
    "'2024-10-16 00:00:00',\n",
    "'2024-10-17 00:00:00',\n",
    "'2024-10-18 00:00:00',\n",
    "'2024-10-21 00:00:00',\n",
    "'2024-10-22 00:00:00',\n",
    "'2024-10-23 00:00:00',\n",
    "'2024-10-24 00:00:00',\n",
    "'2024-10-25 00:00:00',\n",
    "'2024-10-28 00:00:00',\n",
    "'2024-10-29 00:00:00',\n",
    "'2024-10-30 00:00:00',\n",
    "'2024-10-31 00:00:00',\n",
    "'Média alunos p/ professor',\n",
    "'Média',\n",
    "'Alunos/professor',\n",
    "'Ocupação Máxima',\n",
    "'Professor',\n",
    "]"
   ]
  },
  {
   "cell_type": "code",
   "execution_count": 735,
   "id": "f58a5cec-47d2-4a0d-8e87-7419e55d362f",
   "metadata": {
    "colab": {
     "base_uri": "https://localhost:8080/"
    },
    "id": "f58a5cec-47d2-4a0d-8e87-7419e55d362f",
    "outputId": "3b0119f6-eb64-439d-8dc4-b9e6e88093f9"
   },
   "outputs": [
    {
     "data": {
      "text/plain": [
       "Index(['CATEGORIA', 'MODALIDADE', 'DIA DA SEMANA', 'HORÁRIO', 'TURNO',\n",
       "       'PROFESSOR', '2024-10-01 00:00:00', '2024-10-02 00:00:00',\n",
       "       '2024-10-03 00:00:00', '2024-10-04 00:00:00', '2024-10-07 00:00:00',\n",
       "       '2024-10-08 00:00:00', '2024-10-09 00:00:00', '2024-10-10 00:00:00',\n",
       "       '2024-10-11 00:00:00', '2024-10-14 00:00:00', '2024-10-15 00:00:00',\n",
       "       '2024-10-16 00:00:00', '2024-10-17 00:00:00', '2024-10-18 00:00:00',\n",
       "       '2024-10-21 00:00:00', '2024-10-22 00:00:00', '2024-10-23 00:00:00',\n",
       "       '2024-10-24 00:00:00', '2024-10-25 00:00:00', '2024-10-28 00:00:00',\n",
       "       '2024-10-29 00:00:00', '2024-10-30 00:00:00', '2024-10-31 00:00:00',\n",
       "       'Média alunos p/ professor', 'Média', 'Alunos/professor',\n",
       "       'Ocupação Máxima', 'Professor'],\n",
       "      dtype='object')"
      ]
     },
     "execution_count": 735,
     "metadata": {},
     "output_type": "execute_result"
    }
   ],
   "source": [
    "dataRUI.columns"
   ]
  },
  {
   "cell_type": "markdown",
   "id": "4cf708f7-0e2f-49e2-bf0f-d9a5ef9255a5",
   "metadata": {
    "id": "4cf708f7-0e2f-49e2-bf0f-d9a5ef9255a5"
   },
   "source": [
    "### PASSO 3: Escolhendo colunas com o nome de 'datas', para renomear pelo o tipo dia, mês e ano. e removendo os 00 de horas"
   ]
  },
  {
   "cell_type": "code",
   "execution_count": 736,
   "id": "e541b703-b6de-43ca-9623-8e2e8ca2e13d",
   "metadata": {
    "id": "e541b703-b6de-43ca-9623-8e2e8ca2e13d"
   },
   "outputs": [],
   "source": [
    "colunas = [\n",
    "'2024-10-01 00:00:00',\n",
    "'2024-10-02 00:00:00',\n",
    "'2024-10-03 00:00:00',\n",
    "'2024-10-04 00:00:00',\n",
    "'2024-10-07 00:00:00',\n",
    "'2024-10-08 00:00:00',\n",
    "'2024-10-09 00:00:00',\n",
    "'2024-10-10 00:00:00',\n",
    "'2024-10-11 00:00:00',\n",
    "'2024-10-14 00:00:00',\n",
    "'2024-10-15 00:00:00',\n",
    "'2024-10-16 00:00:00',\n",
    "'2024-10-17 00:00:00',\n",
    "'2024-10-18 00:00:00',\n",
    "'2024-10-21 00:00:00',\n",
    "'2024-10-22 00:00:00',\n",
    "'2024-10-23 00:00:00',\n",
    "'2024-10-24 00:00:00',\n",
    "'2024-10-25 00:00:00',\n",
    "'2024-10-28 00:00:00',\n",
    "'2024-10-29 00:00:00',\n",
    "'2024-10-30 00:00:00',\n",
    "'2024-10-31 00:00:00',\n",
    "]\n"
   ]
  },
  {
   "cell_type": "code",
   "execution_count": 737,
   "id": "a5300ca5-10ba-413c-8836-9898850b6a40",
   "metadata": {
    "id": "a5300ca5-10ba-413c-8836-9898850b6a40"
   },
   "outputs": [],
   "source": [
    "novas_colunas_RUI = []"
   ]
  },
  {
   "cell_type": "code",
   "execution_count": 738,
   "id": "674a1c68-4ac5-473a-838a-34fa1670412b",
   "metadata": {
    "id": "674a1c68-4ac5-473a-838a-34fa1670412b"
   },
   "outputs": [],
   "source": [
    "for columns in colunas:\n",
    "    # Remove a parte da hora\n",
    "    data_sem_hora = columns.split(' ')[0]\n",
    "\n",
    "    # Formata para o formato DD-MM-YYYY\n",
    "    ano, mes, dia = data_sem_hora.split('-')\n",
    "    novo_nome = f'{dia}-{mes}-{ano}'\n",
    "    novas_colunas_RUI.append(novo_nome)"
   ]
  },
  {
   "cell_type": "code",
   "execution_count": 739,
   "id": "3d27b139-3e10-47ff-a68d-8fd27f336a81",
   "metadata": {
    "colab": {
     "base_uri": "https://localhost:8080/"
    },
    "id": "3d27b139-3e10-47ff-a68d-8fd27f336a81",
    "outputId": "7680ea6b-ede8-4f52-9579-91560155472a"
   },
   "outputs": [
    {
     "data": {
      "text/plain": [
       "['01-10-2024',\n",
       " '02-10-2024',\n",
       " '03-10-2024',\n",
       " '04-10-2024',\n",
       " '07-10-2024',\n",
       " '08-10-2024',\n",
       " '09-10-2024',\n",
       " '10-10-2024',\n",
       " '11-10-2024',\n",
       " '14-10-2024',\n",
       " '15-10-2024',\n",
       " '16-10-2024',\n",
       " '17-10-2024',\n",
       " '18-10-2024',\n",
       " '21-10-2024',\n",
       " '22-10-2024',\n",
       " '23-10-2024',\n",
       " '24-10-2024',\n",
       " '25-10-2024',\n",
       " '28-10-2024',\n",
       " '29-10-2024',\n",
       " '30-10-2024',\n",
       " '31-10-2024']"
      ]
     },
     "execution_count": 739,
     "metadata": {},
     "output_type": "execute_result"
    }
   ],
   "source": [
    "novas_colunas_RUI"
   ]
  },
  {
   "cell_type": "markdown",
   "id": "a11c3d32-20aa-4875-95ae-9dde460e4898",
   "metadata": {
    "id": "a11c3d32-20aa-4875-95ae-9dde460e4898"
   },
   "source": [
    "### PASSO 4 renomeando colunas e acrescentando o novo formato"
   ]
  },
  {
   "cell_type": "markdown",
   "id": "6193652a-629e-42eb-90e6-91dc1802852a",
   "metadata": {
    "id": "6193652a-629e-42eb-90e6-91dc1802852a"
   },
   "source": [
    "copie as colunas que escolheu para renomear, e cole o formato novo no lugar das velhas"
   ]
  },
  {
   "cell_type": "code",
   "execution_count": 740,
   "id": "e2967f6e-e8bc-44c8-b058-97f3cee30906",
   "metadata": {
    "id": "e2967f6e-e8bc-44c8-b058-97f3cee30906"
   },
   "outputs": [],
   "source": [
    "# Adicionando as datas formatadas as colunas, copiando e colando"
   ]
  },
  {
   "cell_type": "code",
   "execution_count": 741,
   "id": "64c3736f-8090-4063-a0c0-3a9a52dced32",
   "metadata": {
    "colab": {
     "base_uri": "https://localhost:8080/"
    },
    "id": "64c3736f-8090-4063-a0c0-3a9a52dced32",
    "outputId": "fc2c9f8f-dcaf-452b-c218-9b6a6cc62326"
   },
   "outputs": [
    {
     "name": "stdout",
     "output_type": "stream",
     "text": [
      "CATEGORIA\n",
      "MODALIDADE\n",
      "DIA DA SEMANA\n",
      "HORÁRIO\n",
      "TURNO\n",
      "PROFESSOR\n",
      "2024-10-01 00:00:00\n",
      "2024-10-02 00:00:00\n",
      "2024-10-03 00:00:00\n",
      "2024-10-04 00:00:00\n",
      "2024-10-07 00:00:00\n",
      "2024-10-08 00:00:00\n",
      "2024-10-09 00:00:00\n",
      "2024-10-10 00:00:00\n",
      "2024-10-11 00:00:00\n",
      "2024-10-14 00:00:00\n",
      "2024-10-15 00:00:00\n",
      "2024-10-16 00:00:00\n",
      "2024-10-17 00:00:00\n",
      "2024-10-18 00:00:00\n",
      "2024-10-21 00:00:00\n",
      "2024-10-22 00:00:00\n",
      "2024-10-23 00:00:00\n",
      "2024-10-24 00:00:00\n",
      "2024-10-25 00:00:00\n",
      "2024-10-28 00:00:00\n",
      "2024-10-29 00:00:00\n",
      "2024-10-30 00:00:00\n",
      "2024-10-31 00:00:00\n",
      "Média alunos p/ professor\n",
      "Média\n",
      "Alunos/professor\n",
      "Ocupação Máxima\n",
      "Professor\n"
     ]
    }
   ],
   "source": [
    "for columns in dataRUI.columns:\n",
    "    print (columns)"
   ]
  },
  {
   "cell_type": "code",
   "execution_count": 742,
   "id": "1421d029-0a62-4227-b904-511a90b87260",
   "metadata": {
    "id": "1421d029-0a62-4227-b904-511a90b87260"
   },
   "outputs": [],
   "source": [
    "dataRUI.columns = [\n",
    "'CATEGORIA',\n",
    "'MODALIDADE',\n",
    "'DIA DA SEMANA',\n",
    "'HORÁRIO',\n",
    "'TURNO',\n",
    "'PROFESSOR',\n",
    "'01-10-2024',\n",
    "'02-10-2024',\n",
    "'03-10-2024',\n",
    "'04-10-2024',\n",
    "'07-10-2024',\n",
    "'08-10-2024',\n",
    "'09-10-2024',\n",
    "'10-10-2024',\n",
    "'11-10-2024',\n",
    "'14-10-2024',\n",
    "'15-10-2024',\n",
    "'16-10-2024',\n",
    "'17-10-2024',\n",
    "'18-10-2024',\n",
    "'21-10-2024',\n",
    "'22-10-2024',\n",
    "'23-10-2024',\n",
    "'24-10-2024',\n",
    "'25-10-2024',\n",
    "'28-10-2024',\n",
    "'29-10-2024',\n",
    "'30-10-2024',\n",
    "'31-10-2024',\n",
    "'Média alunos p/ professor',\n",
    "'Média',\n",
    "'Alunos/professor',\n",
    "'Ocupação Máxima',\n",
    "'Professor'\n",
    "]"
   ]
  },
  {
   "cell_type": "markdown",
   "id": "1b64dfa6-232c-4948-81fb-0fc3b8d2c60f",
   "metadata": {
    "id": "1b64dfa6-232c-4948-81fb-0fc3b8d2c60f"
   },
   "source": [
    "### 5 PASSO: Usar o Loop for para substitituir os valores das frequencia de 'x' e 'X' por zero, com o método do pd.to_numeric)"
   ]
  },
  {
   "cell_type": "code",
   "execution_count": 743,
   "id": "67ca2212-4613-4108-ade7-7b3d4e6962d8",
   "metadata": {
    "id": "67ca2212-4613-4108-ade7-7b3d4e6962d8"
   },
   "outputs": [],
   "source": [
    "colunas = [\n",
    "'01-10-2024',\n",
    "'02-10-2024',\n",
    "'03-10-2024',\n",
    "'04-10-2024',\n",
    "'07-10-2024',\n",
    "'08-10-2024',\n",
    "'09-10-2024',\n",
    "'10-10-2024',\n",
    "'11-10-2024',\n",
    "'14-10-2024',\n",
    "'15-10-2024',\n",
    "'16-10-2024',\n",
    "'17-10-2024',\n",
    "'18-10-2024',\n",
    "'21-10-2024',\n",
    "'22-10-2024',\n",
    "'23-10-2024',\n",
    "'24-10-2024',\n",
    "'25-10-2024',\n",
    "'28-10-2024',\n",
    "'29-10-2024',\n",
    "'30-10-2024',\n",
    "'31-10-2024',\n",
    "]"
   ]
  },
  {
   "cell_type": "markdown",
   "id": "6e4881bd-49ec-4d0d-bfc8-8ee71e129d80",
   "metadata": {
    "id": "6e4881bd-49ec-4d0d-bfc8-8ee71e129d80"
   },
   "source": [
    "Fazendo a limpeza profunda, formatando valores para numeros, preenchendo com zeros os nulos e transformando em inteiros"
   ]
  },
  {
   "cell_type": "code",
   "execution_count": 744,
   "id": "a5366c49-5102-4f48-8386-da9be49b10b4",
   "metadata": {
    "id": "a5366c49-5102-4f48-8386-da9be49b10b4"
   },
   "outputs": [],
   "source": [
    "for columns in colunas:\n",
    "    # dataMES[columns] = pd.to_numeric(dataMES[columns], errors='coerce')\n",
    "    dataRUI[columns] = pd.to_numeric(dataRUI[columns], errors='coerce').fillna(0).astype(int)"
   ]
  },
  {
   "cell_type": "markdown",
   "id": "4d0ec9eb-f417-4ff1-a47e-9c0f0632b4b5",
   "metadata": {
    "id": "4d0ec9eb-f417-4ff1-a47e-9c0f0632b4b5"
   },
   "source": [
    "### PASSO 6: MELT derretendo as colunas em formato de datas"
   ]
  },
  {
   "cell_type": "markdown",
   "id": "bc5e9170-400a-4f6e-a7aa-8783486f5d8d",
   "metadata": {
    "id": "bc5e9170-400a-4f6e-a7aa-8783486f5d8d"
   },
   "source": [
    "o MELT ele pega as colunas que estão na horizontal e cria uma coluna de categorias, e depois ele cria outra coluna com os valores dessas colunas que foram transformadas em dados categóricos"
   ]
  },
  {
   "cell_type": "code",
   "execution_count": 745,
   "id": "88194eec-c6f4-49a4-a15f-b5ef53ae301d",
   "metadata": {
    "id": "88194eec-c6f4-49a4-a15f-b5ef53ae301d"
   },
   "outputs": [],
   "source": [
    "colunas_para_melt = [\n",
    "'01-10-2024',\n",
    "'02-10-2024',\n",
    "'03-10-2024',\n",
    "'04-10-2024',\n",
    "'07-10-2024',\n",
    "'08-10-2024',\n",
    "'09-10-2024',\n",
    "'10-10-2024',\n",
    "'11-10-2024',\n",
    "'14-10-2024',\n",
    "'15-10-2024',\n",
    "'16-10-2024',\n",
    "'17-10-2024',\n",
    "'18-10-2024',\n",
    "'21-10-2024',\n",
    "'22-10-2024',\n",
    "'23-10-2024',\n",
    "'24-10-2024',\n",
    "'25-10-2024',\n",
    "'28-10-2024',\n",
    "'29-10-2024',\n",
    "'30-10-2024',\n",
    "'31-10-2024',\n",
    "]"
   ]
  },
  {
   "cell_type": "markdown",
   "id": "3c6e888f-aac8-4abb-8712-b1dd596e181c",
   "metadata": {
    "id": "3c6e888f-aac8-4abb-8712-b1dd596e181c"
   },
   "source": [
    "#### Indentificando as colunas que Eu quero manter em meu dataframe"
   ]
  },
  {
   "cell_type": "code",
   "execution_count": 746,
   "id": "4d43519f-96c3-4b40-a8a2-7bfb788a2bd8",
   "metadata": {
    "id": "4d43519f-96c3-4b40-a8a2-7bfb788a2bd8"
   },
   "outputs": [],
   "source": [
    "# Identifica as colunas que você quer manter como identificadoras (id_vars)\n",
    "# São as colunas que não serão \"unpivoted\"\n",
    "id_vars_cols = [columns for columns in dataRUI.columns if columns not in colunas_para_melt]"
   ]
  },
  {
   "cell_type": "code",
   "execution_count": 747,
   "id": "4ce7dd98-d8ba-49c8-b386-94a0a0bee4d2",
   "metadata": {
    "id": "4ce7dd98-d8ba-49c8-b386-94a0a0bee4d2"
   },
   "outputs": [],
   "source": [
    "dataRUI_melted = pd.melt(dataRUI,\n",
    "                      id_vars=id_vars_cols, #colunas que Eu deixei, que ficaram.\n",
    "                      value_vars=colunas_para_melt, #colunas que vão se transformar.\n",
    "                      var_name='Dias de Aulas', # nome da coluna categorica\n",
    "                      value_name='Frequencia de Alunos') # nome da coluna de valores"
   ]
  },
  {
   "cell_type": "code",
   "execution_count": 748,
   "id": "901209dc-6913-4af3-b329-48e9ead438db",
   "metadata": {
    "colab": {
     "base_uri": "https://localhost:8080/",
     "height": 216
    },
    "id": "901209dc-6913-4af3-b329-48e9ead438db",
    "outputId": "4e750eb6-b25f-4096-b878-8228fba353e9"
   },
   "outputs": [
    {
     "data": {
      "text/html": [
       "<div>\n",
       "<style scoped>\n",
       "    .dataframe tbody tr th:only-of-type {\n",
       "        vertical-align: middle;\n",
       "    }\n",
       "\n",
       "    .dataframe tbody tr th {\n",
       "        vertical-align: top;\n",
       "    }\n",
       "\n",
       "    .dataframe thead th {\n",
       "        text-align: right;\n",
       "    }\n",
       "</style>\n",
       "<table border=\"1\" class=\"dataframe\">\n",
       "  <thead>\n",
       "    <tr style=\"text-align: right;\">\n",
       "      <th></th>\n",
       "      <th>CATEGORIA</th>\n",
       "      <th>MODALIDADE</th>\n",
       "      <th>DIA DA SEMANA</th>\n",
       "      <th>HORÁRIO</th>\n",
       "      <th>TURNO</th>\n",
       "      <th>PROFESSOR</th>\n",
       "      <th>Média alunos p/ professor</th>\n",
       "      <th>Média</th>\n",
       "      <th>Alunos/professor</th>\n",
       "      <th>Ocupação Máxima</th>\n",
       "      <th>Professor</th>\n",
       "      <th>Dias de Aulas</th>\n",
       "      <th>Frequencia de Alunos</th>\n",
       "    </tr>\n",
       "  </thead>\n",
       "  <tbody>\n",
       "    <tr>\n",
       "      <th>0</th>\n",
       "      <td>MUSC - C/P</td>\n",
       "      <td>A - MUSCULAÇÃO COM PERSONAL</td>\n",
       "      <td>seg, ter, qua, qui, sex</td>\n",
       "      <td>06:00</td>\n",
       "      <td>MANHÃ</td>\n",
       "      <td>PABLO</td>\n",
       "      <td>23</td>\n",
       "      <td>54.130435</td>\n",
       "      <td>NaN</td>\n",
       "      <td>NaN</td>\n",
       "      <td>0.0</td>\n",
       "      <td>01-10-2024</td>\n",
       "      <td>66</td>\n",
       "    </tr>\n",
       "    <tr>\n",
       "      <th>1</th>\n",
       "      <td>MUSC - S/P</td>\n",
       "      <td>A - MUSCULAÇÃO SEM PERSONAL</td>\n",
       "      <td>seg, ter, qua, qui, sex</td>\n",
       "      <td>06:00</td>\n",
       "      <td>MANHÃ</td>\n",
       "      <td>PABLO</td>\n",
       "      <td>23</td>\n",
       "      <td>49.043478</td>\n",
       "      <td>7.666667</td>\n",
       "      <td>NaN</td>\n",
       "      <td>3.0</td>\n",
       "      <td>01-10-2024</td>\n",
       "      <td>62</td>\n",
       "    </tr>\n",
       "  </tbody>\n",
       "</table>\n",
       "</div>"
      ],
      "text/plain": [
       "    CATEGORIA                   MODALIDADE            DIA DA SEMANA HORÁRIO  \\\n",
       "0  MUSC - C/P  A - MUSCULAÇÃO COM PERSONAL  seg, ter, qua, qui, sex   06:00   \n",
       "1  MUSC - S/P  A - MUSCULAÇÃO SEM PERSONAL  seg, ter, qua, qui, sex   06:00   \n",
       "\n",
       "   TURNO PROFESSOR  Média alunos p/ professor      Média  Alunos/professor  \\\n",
       "0  MANHÃ     PABLO                         23  54.130435               NaN   \n",
       "1  MANHÃ     PABLO                         23  49.043478          7.666667   \n",
       "\n",
       "   Ocupação Máxima  Professor Dias de Aulas  Frequencia de Alunos  \n",
       "0              NaN        0.0    01-10-2024                    66  \n",
       "1              NaN        3.0    01-10-2024                    62  "
      ]
     },
     "execution_count": 748,
     "metadata": {},
     "output_type": "execute_result"
    }
   ],
   "source": [
    "dataRUI_melted.head(2)"
   ]
  },
  {
   "cell_type": "code",
   "execution_count": 749,
   "id": "35ba4435-eca7-4a6e-8f2a-5d25b7b86b85",
   "metadata": {
    "colab": {
     "base_uri": "https://localhost:8080/"
    },
    "id": "35ba4435-eca7-4a6e-8f2a-5d25b7b86b85",
    "outputId": "927438b5-9edb-406f-8935-3f290df88833"
   },
   "outputs": [
    {
     "data": {
      "text/plain": [
       "np.int64(27373)"
      ]
     },
     "execution_count": 749,
     "metadata": {},
     "output_type": "execute_result"
    }
   ],
   "source": [
    "dataRUI_melted['Frequencia de Alunos'].sum()"
   ]
  },
  {
   "cell_type": "markdown",
   "id": "a12552fa-bef3-449c-b0bf-2d9055bcc922",
   "metadata": {
    "id": "a12552fa-bef3-449c-b0bf-2d9055bcc922",
    "tags": []
   },
   "source": [
    "# PASSARÉ [PAS] - PREPROCESSING 13"
   ]
  },
  {
   "cell_type": "code",
   "execution_count": 750,
   "id": "e2a11cd7-8519-4177-9744-c59f0317fe40",
   "metadata": {
    "id": "e2a11cd7-8519-4177-9744-c59f0317fe40"
   },
   "outputs": [],
   "source": [
    "data13 = pd.read_excel('base_de_frequencias_green_life_academias_dados_brutos.xlsx', sheet_name='PAS', skiprows=1, nrows=89)"
   ]
  },
  {
   "cell_type": "code",
   "execution_count": 751,
   "id": "4651b873-bac1-4909-b167-a4ce03237134",
   "metadata": {
    "id": "4651b873-bac1-4909-b167-a4ce03237134"
   },
   "outputs": [],
   "source": [
    "dataPAS = data13.copy()"
   ]
  },
  {
   "cell_type": "markdown",
   "id": "864185ac-3d65-4233-8d9f-13070f85cb4c",
   "metadata": {
    "id": "864185ac-3d65-4233-8d9f-13070f85cb4c"
   },
   "source": [
    "### 1 PASSO: Removendo colunas desnecessárias"
   ]
  },
  {
   "cell_type": "code",
   "execution_count": 752,
   "id": "c5d04c06-ca8a-4a0f-9461-4a43221650dc",
   "metadata": {
    "colab": {
     "base_uri": "https://localhost:8080/",
     "height": 335
    },
    "id": "c5d04c06-ca8a-4a0f-9461-4a43221650dc",
    "outputId": "091645ea-a521-456b-eec7-ed1ea1c0d327"
   },
   "outputs": [
    {
     "data": {
      "text/html": [
       "<div>\n",
       "<style scoped>\n",
       "    .dataframe tbody tr th:only-of-type {\n",
       "        vertical-align: middle;\n",
       "    }\n",
       "\n",
       "    .dataframe tbody tr th {\n",
       "        vertical-align: top;\n",
       "    }\n",
       "\n",
       "    .dataframe thead th {\n",
       "        text-align: right;\n",
       "    }\n",
       "</style>\n",
       "<table border=\"1\" class=\"dataframe\">\n",
       "  <thead>\n",
       "    <tr style=\"text-align: right;\">\n",
       "      <th></th>\n",
       "      <th>Unnamed: 0</th>\n",
       "      <th>Unnamed: 1</th>\n",
       "      <th>Unnamed: 2</th>\n",
       "      <th>CATEGORIA</th>\n",
       "      <th>MODALIDADE</th>\n",
       "      <th>DIA DA SEMANA</th>\n",
       "      <th>HORÁRIO</th>\n",
       "      <th>AUX.1</th>\n",
       "      <th>TURNO</th>\n",
       "      <th>AUX 2</th>\n",
       "      <th>...</th>\n",
       "      <th>2024-10-28 00:00:00</th>\n",
       "      <th>2024-10-29 00:00:00</th>\n",
       "      <th>2024-10-30 00:00:00</th>\n",
       "      <th>2024-10-31 00:00:00</th>\n",
       "      <th>Média alunos p/ professor</th>\n",
       "      <th>Média</th>\n",
       "      <th>Alunos/professor</th>\n",
       "      <th>Ocupação Máxima</th>\n",
       "      <th>Professor</th>\n",
       "      <th>Unnamed: 40</th>\n",
       "    </tr>\n",
       "  </thead>\n",
       "  <tbody>\n",
       "    <tr>\n",
       "      <th>0</th>\n",
       "      <td>NaN</td>\n",
       "      <td>NaN</td>\n",
       "      <td>NaN</td>\n",
       "      <td>MUSC - C/P</td>\n",
       "      <td>A - MUSCULAÇÃO COM PERSONAL</td>\n",
       "      <td>seg, ter, qua, qui, sex</td>\n",
       "      <td>06:00:00</td>\n",
       "      <td>06:00</td>\n",
       "      <td>MANHÃ</td>\n",
       "      <td>A - MUSCULAÇÃO COM PERSONAL - 06:00</td>\n",
       "      <td>...</td>\n",
       "      <td>19</td>\n",
       "      <td>16</td>\n",
       "      <td>24</td>\n",
       "      <td>10</td>\n",
       "      <td>19</td>\n",
       "      <td>19.263158</td>\n",
       "      <td>NaN</td>\n",
       "      <td>NaN</td>\n",
       "      <td>0.0</td>\n",
       "      <td>NaN</td>\n",
       "    </tr>\n",
       "    <tr>\n",
       "      <th>1</th>\n",
       "      <td>NaN</td>\n",
       "      <td>NaN</td>\n",
       "      <td>NaN</td>\n",
       "      <td>MUSC - S/P</td>\n",
       "      <td>A - MUSCULAÇÃO SEM PERSONAL</td>\n",
       "      <td>seg, ter, qua, qui, sex</td>\n",
       "      <td>06:00:00</td>\n",
       "      <td>06:00</td>\n",
       "      <td>MANHÃ</td>\n",
       "      <td>A - MUSCULAÇÃO SEM PERSONAL - 06:00</td>\n",
       "      <td>...</td>\n",
       "      <td>68</td>\n",
       "      <td>90</td>\n",
       "      <td>85</td>\n",
       "      <td>50</td>\n",
       "      <td>19</td>\n",
       "      <td>77.894737</td>\n",
       "      <td>6.333333</td>\n",
       "      <td>NaN</td>\n",
       "      <td>3.0</td>\n",
       "      <td>NaN</td>\n",
       "    </tr>\n",
       "  </tbody>\n",
       "</table>\n",
       "<p>2 rows × 41 columns</p>\n",
       "</div>"
      ],
      "text/plain": [
       "   Unnamed: 0  Unnamed: 1  Unnamed: 2   CATEGORIA  \\\n",
       "0         NaN         NaN         NaN  MUSC - C/P   \n",
       "1         NaN         NaN         NaN  MUSC - S/P   \n",
       "\n",
       "                    MODALIDADE            DIA DA SEMANA   HORÁRIO  AUX.1  \\\n",
       "0  A - MUSCULAÇÃO COM PERSONAL  seg, ter, qua, qui, sex  06:00:00  06:00   \n",
       "1  A - MUSCULAÇÃO SEM PERSONAL  seg, ter, qua, qui, sex  06:00:00  06:00   \n",
       "\n",
       "   TURNO                                AUX 2  ... 2024-10-28 00:00:00  \\\n",
       "0  MANHÃ  A - MUSCULAÇÃO COM PERSONAL - 06:00  ...                  19   \n",
       "1  MANHÃ  A - MUSCULAÇÃO SEM PERSONAL - 06:00  ...                  68   \n",
       "\n",
       "  2024-10-29 00:00:00 2024-10-30 00:00:00 2024-10-31 00:00:00  \\\n",
       "0                  16                  24                  10   \n",
       "1                  90                  85                  50   \n",
       "\n",
       "  Média alunos p/ professor      Média Alunos/professor Ocupação Máxima  \\\n",
       "0                        19  19.263158              NaN             NaN   \n",
       "1                        19  77.894737         6.333333             NaN   \n",
       "\n",
       "  Professor Unnamed: 40  \n",
       "0       0.0         NaN  \n",
       "1       3.0         NaN  \n",
       "\n",
       "[2 rows x 41 columns]"
      ]
     },
     "execution_count": 752,
     "metadata": {},
     "output_type": "execute_result"
    }
   ],
   "source": [
    "dataPAS.head(2)"
   ]
  },
  {
   "cell_type": "code",
   "execution_count": 753,
   "id": "4c483f7b-ec80-416b-bea0-c19740f729b3",
   "metadata": {
    "colab": {
     "base_uri": "https://localhost:8080/",
     "height": 1000
    },
    "id": "4c483f7b-ec80-416b-bea0-c19740f729b3",
    "outputId": "96f6b1d6-1497-42a1-c4b8-66a9936d909e"
   },
   "outputs": [
    {
     "data": {
      "text/plain": [
       "Unnamed: 0                                                    NaN\n",
       "Unnamed: 1                                                    NaN\n",
       "Unnamed: 2                                                    NaN\n",
       "CATEGORIA                                              MUSC - C/P\n",
       "MODALIDADE                            A - MUSCULAÇÃO COM PERSONAL\n",
       "DIA DA SEMANA                             seg, ter, qua, qui, sex\n",
       "HORÁRIO                                                  06:00:00\n",
       "AUX.1                                                       06:00\n",
       "TURNO                                                       MANHÃ\n",
       "AUX 2                         A - MUSCULAÇÃO COM PERSONAL - 06:00\n",
       "PROFESSOR                                                  MARCOS\n",
       "AUX 3                        A - MUSCULAÇÃO COM PERSONAL - MARCOS\n",
       "2024-10-01 00:00:00                                           NaN\n",
       "2024-10-02 00:00:00                                            12\n",
       "2024-10-03 00:00:00                                            22\n",
       "2024-10-04 00:00:00                                            18\n",
       "2024-10-07 00:00:00                                            22\n",
       "2024-10-08 00:00:00                                            18\n",
       "2024-10-09 00:00:00                                            18\n",
       "2024-10-10 00:00:00                                            20\n",
       "2024-10-11 00:00:00                                            22\n",
       "2024-10-14 00:00:00                                            20\n",
       "2024-10-15 00:00:00                                           NaN\n",
       "2024-10-16 00:00:00                                           NaN\n",
       "2024-10-17 00:00:00                                            26\n",
       "2024-10-18 00:00:00                                           NaN\n",
       "2024-10-21 00:00:00                                            23\n",
       "2024-10-22 00:00:00                                            23\n",
       "2024-10-23 00:00:00                                            18\n",
       "2024-10-24 00:00:00                                            16\n",
       "2024-10-25 00:00:00                                            19\n",
       "2024-10-28 00:00:00                                            19\n",
       "2024-10-29 00:00:00                                            16\n",
       "2024-10-30 00:00:00                                            24\n",
       "2024-10-31 00:00:00                                            10\n",
       "Média alunos p/ professor                                      19\n",
       "Média                                                   19.263158\n",
       "Alunos/professor                                              NaN\n",
       "Ocupação Máxima                                               NaN\n",
       "Professor                                                     0.0\n",
       "Unnamed: 40                                                   NaN\n",
       "Name: 0, dtype: object"
      ]
     },
     "execution_count": 753,
     "metadata": {},
     "output_type": "execute_result"
    }
   ],
   "source": [
    "dataPAS.iloc[0]"
   ]
  },
  {
   "cell_type": "code",
   "execution_count": 754,
   "id": "03459142-e188-405c-9e7d-f93bfc7dde90",
   "metadata": {
    "colab": {
     "base_uri": "https://localhost:8080/",
     "height": 1000
    },
    "id": "03459142-e188-405c-9e7d-f93bfc7dde90",
    "outputId": "cc3b6502-25c3-4380-8108-455650e00d78"
   },
   "outputs": [
    {
     "data": {
      "text/plain": [
       "Unnamed: 0                                                   NaN\n",
       "Unnamed: 1                                                   NaN\n",
       "Unnamed: 2                                                   NaN\n",
       "CATEGORIA                                             MUSC - S/P\n",
       "MODALIDADE                           A - MUSCULAÇÃO SEM PERSONAL\n",
       "DIA DA SEMANA                            seg, ter, qua, qui, sex\n",
       "HORÁRIO                                                 22:00:00\n",
       "AUX.1                                                      22:00\n",
       "TURNO                                                      NOITE\n",
       "AUX 2                        A - MUSCULAÇÃO SEM PERSONAL - 22:00\n",
       "PROFESSOR                                                    ANA\n",
       "AUX 3                                                        NaN\n",
       "2024-10-01 00:00:00                                           37\n",
       "2024-10-02 00:00:00                                           39\n",
       "2024-10-03 00:00:00                                           34\n",
       "2024-10-04 00:00:00                                           17\n",
       "2024-10-07 00:00:00                                           37\n",
       "2024-10-08 00:00:00                                           44\n",
       "2024-10-09 00:00:00                                           39\n",
       "2024-10-10 00:00:00                                           38\n",
       "2024-10-11 00:00:00                                           30\n",
       "2024-10-14 00:00:00                                           44\n",
       "2024-10-15 00:00:00                                           38\n",
       "2024-10-16 00:00:00                                           32\n",
       "2024-10-17 00:00:00                                          NaN\n",
       "2024-10-18 00:00:00                                          NaN\n",
       "2024-10-21 00:00:00                                           46\n",
       "2024-10-22 00:00:00                                           38\n",
       "2024-10-23 00:00:00                                           44\n",
       "2024-10-24 00:00:00                                          NaN\n",
       "2024-10-25 00:00:00                                            x\n",
       "2024-10-28 00:00:00                                          NaN\n",
       "2024-10-29 00:00:00                                          NaN\n",
       "2024-10-30 00:00:00                                           22\n",
       "2024-10-31 00:00:00                                          NaN\n",
       "Média alunos p/ professor                                     16\n",
       "Média                                                    36.1875\n",
       "Alunos/professor                                             NaN\n",
       "Ocupação Máxima                                              NaN\n",
       "Professor                                                    NaN\n",
       "Unnamed: 40                                                  NaN\n",
       "Name: 88, dtype: object"
      ]
     },
     "execution_count": 754,
     "metadata": {},
     "output_type": "execute_result"
    }
   ],
   "source": [
    "dataPAS.iloc[-1]"
   ]
  },
  {
   "cell_type": "code",
   "execution_count": 755,
   "id": "9ef3ea06-70bf-4f58-b25e-fcb8b3fe86f1",
   "metadata": {
    "id": "9ef3ea06-70bf-4f58-b25e-fcb8b3fe86f1"
   },
   "outputs": [],
   "source": [
    "dropColumns = ['Unnamed: 0', 'Unnamed: 1', 'Unnamed: 2', 'HORÁRIO',\n",
    "               'AUX 2', 'AUX 3', 'Unnamed: 40']"
   ]
  },
  {
   "cell_type": "code",
   "execution_count": 756,
   "id": "ec716c7a-4cc8-4d0c-86e1-0c2ac6e59609",
   "metadata": {
    "id": "ec716c7a-4cc8-4d0c-86e1-0c2ac6e59609"
   },
   "outputs": [],
   "source": [
    "dataPAS.drop(columns=dropColumns, inplace=True)"
   ]
  },
  {
   "cell_type": "markdown",
   "id": "1ba6a6a1-cc59-49b0-b6d8-b796c378760c",
   "metadata": {
    "id": "1ba6a6a1-cc59-49b0-b6d8-b796c378760c"
   },
   "source": [
    "- PRECISAMOS RENOMEAR A COLUNA AUX.1 COMO HORARIO"
   ]
  },
  {
   "cell_type": "code",
   "execution_count": 757,
   "id": "fa3c448c-cf4c-4e3b-8d8e-b95e4ec66748",
   "metadata": {
    "id": "fa3c448c-cf4c-4e3b-8d8e-b95e4ec66748"
   },
   "outputs": [],
   "source": [
    "dataPAS.rename(columns={'AUX.1': 'HORÁRIO'}, inplace=True)"
   ]
  },
  {
   "cell_type": "markdown",
   "id": "82321486-ba76-4f40-aa59-04ff727f75ff",
   "metadata": {
    "id": "82321486-ba76-4f40-aa59-04ff727f75ff"
   },
   "source": [
    "### 2 PASSO: Renomeando strings de datas, para que o pandas possa aceitar como colunas"
   ]
  },
  {
   "cell_type": "code",
   "execution_count": 758,
   "id": "0b8b834c-cd4a-4692-af05-b8a600664e57",
   "metadata": {
    "colab": {
     "base_uri": "https://localhost:8080/"
    },
    "id": "0b8b834c-cd4a-4692-af05-b8a600664e57",
    "outputId": "e56cbfd1-364c-4f5c-f805-91c6deebf16a"
   },
   "outputs": [
    {
     "name": "stdout",
     "output_type": "stream",
     "text": [
      "CATEGORIA\n",
      "MODALIDADE\n",
      "DIA DA SEMANA\n",
      "HORÁRIO\n",
      "TURNO\n",
      "PROFESSOR\n",
      "2024-10-01 00:00:00\n",
      "2024-10-02 00:00:00\n",
      "2024-10-03 00:00:00\n",
      "2024-10-04 00:00:00\n",
      "2024-10-07 00:00:00\n",
      "2024-10-08 00:00:00\n",
      "2024-10-09 00:00:00\n",
      "2024-10-10 00:00:00\n",
      "2024-10-11 00:00:00\n",
      "2024-10-14 00:00:00\n",
      "2024-10-15 00:00:00\n",
      "2024-10-16 00:00:00\n",
      "2024-10-17 00:00:00\n",
      "2024-10-18 00:00:00\n",
      "2024-10-21 00:00:00\n",
      "2024-10-22 00:00:00\n",
      "2024-10-23 00:00:00\n",
      "2024-10-24 00:00:00\n",
      "2024-10-25 00:00:00\n",
      "2024-10-28 00:00:00\n",
      "2024-10-29 00:00:00\n",
      "2024-10-30 00:00:00\n",
      "2024-10-31 00:00:00\n",
      "Média alunos p/ professor\n",
      "Média\n",
      "Alunos/professor\n",
      "Ocupação Máxima\n",
      "Professor\n"
     ]
    }
   ],
   "source": [
    "for columns in dataPAS.columns:\n",
    "    print(columns)"
   ]
  },
  {
   "cell_type": "code",
   "execution_count": 759,
   "id": "c088bf37-8164-4128-b182-7d833c788818",
   "metadata": {
    "id": "c088bf37-8164-4128-b182-7d833c788818"
   },
   "outputs": [],
   "source": [
    "dataPAS.columns = [\n",
    "'CATEGORIA',\n",
    "'MODALIDADE',\n",
    "'DIA DA SEMANA',\n",
    "'HORÁRIO',\n",
    "'TURNO',\n",
    "'PROFESSOR',\n",
    "'2024-10-01 00:00:00',\n",
    "'2024-10-02 00:00:00',\n",
    "'2024-10-03 00:00:00',\n",
    "'2024-10-04 00:00:00',\n",
    "'2024-10-07 00:00:00',\n",
    "'2024-10-08 00:00:00',\n",
    "'2024-10-09 00:00:00',\n",
    "'2024-10-10 00:00:00',\n",
    "'2024-10-11 00:00:00',\n",
    "'2024-10-14 00:00:00',\n",
    "'2024-10-15 00:00:00',\n",
    "'2024-10-16 00:00:00',\n",
    "'2024-10-17 00:00:00',\n",
    "'2024-10-18 00:00:00',\n",
    "'2024-10-21 00:00:00',\n",
    "'2024-10-22 00:00:00',\n",
    "'2024-10-23 00:00:00',\n",
    "'2024-10-24 00:00:00',\n",
    "'2024-10-25 00:00:00',\n",
    "'2024-10-28 00:00:00',\n",
    "'2024-10-29 00:00:00',\n",
    "'2024-10-30 00:00:00',\n",
    "'2024-10-31 00:00:00',\n",
    "'Média alunos p/ professor',\n",
    "'Média',\n",
    "'Alunos/professor',\n",
    "'Ocupação Máxima',\n",
    "'Professor'\n",
    "]"
   ]
  },
  {
   "cell_type": "code",
   "execution_count": 760,
   "id": "46ffb681-aa6e-43c9-a3b5-1fbddb0c3368",
   "metadata": {
    "colab": {
     "base_uri": "https://localhost:8080/"
    },
    "id": "46ffb681-aa6e-43c9-a3b5-1fbddb0c3368",
    "outputId": "8d6ed74e-c8b0-4ade-8c39-6979d2a60a02"
   },
   "outputs": [
    {
     "data": {
      "text/plain": [
       "Index(['CATEGORIA', 'MODALIDADE', 'DIA DA SEMANA', 'HORÁRIO', 'TURNO',\n",
       "       'PROFESSOR', '2024-10-01 00:00:00', '2024-10-02 00:00:00',\n",
       "       '2024-10-03 00:00:00', '2024-10-04 00:00:00', '2024-10-07 00:00:00',\n",
       "       '2024-10-08 00:00:00', '2024-10-09 00:00:00', '2024-10-10 00:00:00',\n",
       "       '2024-10-11 00:00:00', '2024-10-14 00:00:00', '2024-10-15 00:00:00',\n",
       "       '2024-10-16 00:00:00', '2024-10-17 00:00:00', '2024-10-18 00:00:00',\n",
       "       '2024-10-21 00:00:00', '2024-10-22 00:00:00', '2024-10-23 00:00:00',\n",
       "       '2024-10-24 00:00:00', '2024-10-25 00:00:00', '2024-10-28 00:00:00',\n",
       "       '2024-10-29 00:00:00', '2024-10-30 00:00:00', '2024-10-31 00:00:00',\n",
       "       'Média alunos p/ professor', 'Média', 'Alunos/professor',\n",
       "       'Ocupação Máxima', 'Professor'],\n",
       "      dtype='object')"
      ]
     },
     "execution_count": 760,
     "metadata": {},
     "output_type": "execute_result"
    }
   ],
   "source": [
    "dataPAS.columns"
   ]
  },
  {
   "cell_type": "markdown",
   "id": "d171e464-ea19-4af0-9e48-f298b650abf5",
   "metadata": {
    "id": "d171e464-ea19-4af0-9e48-f298b650abf5"
   },
   "source": [
    "### PASSO 3: Escolhendo colunas com o nome de 'datas', para renomear pelo o tipo dia, mês e ano. e removendo os 00 de horas"
   ]
  },
  {
   "cell_type": "code",
   "execution_count": 761,
   "id": "fab8646c-2da0-4dbd-8659-0e8bd4bb3ad2",
   "metadata": {
    "id": "fab8646c-2da0-4dbd-8659-0e8bd4bb3ad2"
   },
   "outputs": [],
   "source": [
    "colunas = [\n",
    "'2024-10-01 00:00:00',\n",
    "'2024-10-02 00:00:00',\n",
    "'2024-10-03 00:00:00',\n",
    "'2024-10-04 00:00:00',\n",
    "'2024-10-07 00:00:00',\n",
    "'2024-10-08 00:00:00',\n",
    "'2024-10-09 00:00:00',\n",
    "'2024-10-10 00:00:00',\n",
    "'2024-10-11 00:00:00',\n",
    "'2024-10-14 00:00:00',\n",
    "'2024-10-15 00:00:00',\n",
    "'2024-10-16 00:00:00',\n",
    "'2024-10-17 00:00:00',\n",
    "'2024-10-18 00:00:00',\n",
    "'2024-10-21 00:00:00',\n",
    "'2024-10-22 00:00:00',\n",
    "'2024-10-23 00:00:00',\n",
    "'2024-10-24 00:00:00',\n",
    "'2024-10-25 00:00:00',\n",
    "'2024-10-28 00:00:00',\n",
    "'2024-10-29 00:00:00',\n",
    "'2024-10-30 00:00:00',\n",
    "'2024-10-31 00:00:00'\n",
    "]"
   ]
  },
  {
   "cell_type": "code",
   "execution_count": 762,
   "id": "3d4e9bfe-3b4e-4b38-951d-4f14f129e9bc",
   "metadata": {
    "id": "3d4e9bfe-3b4e-4b38-951d-4f14f129e9bc"
   },
   "outputs": [],
   "source": [
    "novas_colunas_PAS = []"
   ]
  },
  {
   "cell_type": "code",
   "execution_count": 763,
   "id": "b52ae172-1769-49e2-b645-25a622554084",
   "metadata": {
    "id": "b52ae172-1769-49e2-b645-25a622554084"
   },
   "outputs": [],
   "source": [
    "for columns in colunas:\n",
    "    # Remove a parte da hora\n",
    "    data_sem_hora = columns.split(' ')[0]\n",
    "\n",
    "    # Formata para o formato DD-MM-YYYY\n",
    "    ano, mes, dia = data_sem_hora.split('-')\n",
    "    novo_nome = f'{dia}-{mes}-{ano}'\n",
    "    novas_colunas_PAS.append(novo_nome)"
   ]
  },
  {
   "cell_type": "code",
   "execution_count": 764,
   "id": "00ff2e3a-6a8d-4d75-a966-ea9a4bfa2226",
   "metadata": {
    "colab": {
     "base_uri": "https://localhost:8080/"
    },
    "id": "00ff2e3a-6a8d-4d75-a966-ea9a4bfa2226",
    "outputId": "59aec60d-fc59-4922-a2bf-2ee5803c8ccd"
   },
   "outputs": [
    {
     "data": {
      "text/plain": [
       "['01-10-2024',\n",
       " '02-10-2024',\n",
       " '03-10-2024',\n",
       " '04-10-2024',\n",
       " '07-10-2024',\n",
       " '08-10-2024',\n",
       " '09-10-2024',\n",
       " '10-10-2024',\n",
       " '11-10-2024',\n",
       " '14-10-2024',\n",
       " '15-10-2024',\n",
       " '16-10-2024',\n",
       " '17-10-2024',\n",
       " '18-10-2024',\n",
       " '21-10-2024',\n",
       " '22-10-2024',\n",
       " '23-10-2024',\n",
       " '24-10-2024',\n",
       " '25-10-2024',\n",
       " '28-10-2024',\n",
       " '29-10-2024',\n",
       " '30-10-2024',\n",
       " '31-10-2024']"
      ]
     },
     "execution_count": 764,
     "metadata": {},
     "output_type": "execute_result"
    }
   ],
   "source": [
    "novas_colunas_PAS"
   ]
  },
  {
   "cell_type": "markdown",
   "id": "9ddf481e-d398-4590-b432-7513b99372f3",
   "metadata": {
    "id": "9ddf481e-d398-4590-b432-7513b99372f3"
   },
   "source": [
    "### PASSO 4 renomeando colunas e acrescentando o novo formato"
   ]
  },
  {
   "cell_type": "markdown",
   "id": "15f1daf9-3be4-4e9e-819a-23a4d0164f8d",
   "metadata": {
    "id": "15f1daf9-3be4-4e9e-819a-23a4d0164f8d"
   },
   "source": [
    "copie as colunas que escolheu para renomear, e cole o formato novo no lugar das velhas"
   ]
  },
  {
   "cell_type": "code",
   "execution_count": 765,
   "id": "52b64b30-25b3-43a7-ae0d-c4f5eaa52b12",
   "metadata": {
    "id": "52b64b30-25b3-43a7-ae0d-c4f5eaa52b12"
   },
   "outputs": [],
   "source": [
    "# Adicionando as datas formatadas as colunas, copiando e colando"
   ]
  },
  {
   "cell_type": "code",
   "execution_count": 766,
   "id": "3d69f992-1ba1-4c74-b805-139c7dac3580",
   "metadata": {
    "colab": {
     "base_uri": "https://localhost:8080/"
    },
    "id": "3d69f992-1ba1-4c74-b805-139c7dac3580",
    "outputId": "12fea646-eb2d-44b2-bcb2-507c598ff1f7"
   },
   "outputs": [
    {
     "name": "stdout",
     "output_type": "stream",
     "text": [
      "CATEGORIA\n",
      "MODALIDADE\n",
      "DIA DA SEMANA\n",
      "HORÁRIO\n",
      "TURNO\n",
      "PROFESSOR\n",
      "2024-10-01 00:00:00\n",
      "2024-10-02 00:00:00\n",
      "2024-10-03 00:00:00\n",
      "2024-10-04 00:00:00\n",
      "2024-10-07 00:00:00\n",
      "2024-10-08 00:00:00\n",
      "2024-10-09 00:00:00\n",
      "2024-10-10 00:00:00\n",
      "2024-10-11 00:00:00\n",
      "2024-10-14 00:00:00\n",
      "2024-10-15 00:00:00\n",
      "2024-10-16 00:00:00\n",
      "2024-10-17 00:00:00\n",
      "2024-10-18 00:00:00\n",
      "2024-10-21 00:00:00\n",
      "2024-10-22 00:00:00\n",
      "2024-10-23 00:00:00\n",
      "2024-10-24 00:00:00\n",
      "2024-10-25 00:00:00\n",
      "2024-10-28 00:00:00\n",
      "2024-10-29 00:00:00\n",
      "2024-10-30 00:00:00\n",
      "2024-10-31 00:00:00\n",
      "Média alunos p/ professor\n",
      "Média\n",
      "Alunos/professor\n",
      "Ocupação Máxima\n",
      "Professor\n"
     ]
    }
   ],
   "source": [
    "for columns in dataPAS.columns:\n",
    "    print (columns)"
   ]
  },
  {
   "cell_type": "code",
   "execution_count": 767,
   "id": "b9917b9d-1337-40e1-9062-703e9127a63c",
   "metadata": {
    "id": "b9917b9d-1337-40e1-9062-703e9127a63c"
   },
   "outputs": [],
   "source": [
    "dataPAS.columns = [\n",
    "'CATEGORIA',\n",
    "'MODALIDADE',\n",
    "'DIA DA SEMANA',\n",
    "'HORÁRIO',\n",
    "'TURNO',\n",
    "'PROFESSOR',\n",
    "'01-10-2024',\n",
    "'02-10-2024',\n",
    "'03-10-2024',\n",
    "'04-10-2024',\n",
    "'07-10-2024',\n",
    "'08-10-2024',\n",
    "'09-10-2024',\n",
    "'10-10-2024',\n",
    "'11-10-2024',\n",
    "'14-10-2024',\n",
    "'15-10-2024',\n",
    "'16-10-2024',\n",
    "'17-10-2024',\n",
    "'18-10-2024',\n",
    "'21-10-2024',\n",
    "'22-10-2024',\n",
    "'23-10-2024',\n",
    "'24-10-2024',\n",
    "'25-10-2024',\n",
    "'28-10-2024',\n",
    "'29-10-2024',\n",
    "'30-10-2024',\n",
    "'31-10-2024',\n",
    "'Média alunos p/ professor',\n",
    "'Média',\n",
    "'Alunos/professor',\n",
    "'Ocupação Máxima',\n",
    "'Professor']"
   ]
  },
  {
   "cell_type": "markdown",
   "id": "9b8b7b06-a61b-4f31-af15-cf81043f9032",
   "metadata": {
    "id": "9b8b7b06-a61b-4f31-af15-cf81043f9032"
   },
   "source": [
    "### 5 PASSO: Usar o Loop for para substitituir os valores das frequencia de 'x' e 'X' por zero, com o método do pd.to_numeric)"
   ]
  },
  {
   "cell_type": "code",
   "execution_count": 768,
   "id": "42f622ae-048f-4bb1-adb0-acf10c22c044",
   "metadata": {
    "id": "42f622ae-048f-4bb1-adb0-acf10c22c044"
   },
   "outputs": [],
   "source": [
    "colunas = [\n",
    "'01-10-2024',\n",
    "'02-10-2024',\n",
    "'03-10-2024',\n",
    "'04-10-2024',\n",
    "'07-10-2024',\n",
    "'08-10-2024',\n",
    "'09-10-2024',\n",
    "'10-10-2024',\n",
    "'11-10-2024',\n",
    "'14-10-2024',\n",
    "'15-10-2024',\n",
    "'16-10-2024',\n",
    "'17-10-2024',\n",
    "'18-10-2024',\n",
    "'21-10-2024',\n",
    "'22-10-2024',\n",
    "'23-10-2024',\n",
    "'24-10-2024',\n",
    "'25-10-2024',\n",
    "'28-10-2024',\n",
    "'29-10-2024',\n",
    "'30-10-2024',\n",
    "'31-10-2024',\n",
    "]"
   ]
  },
  {
   "cell_type": "markdown",
   "id": "1afa8135-f57d-4d32-96b9-c879e4abe165",
   "metadata": {
    "id": "1afa8135-f57d-4d32-96b9-c879e4abe165"
   },
   "source": [
    "Fazendo a limpeza profunda, formatando valores para numeros, preenchendo com zeros os nulos e transformando em inteiros"
   ]
  },
  {
   "cell_type": "code",
   "execution_count": 769,
   "id": "957e4152-cbb1-4c5d-a302-21ca49b72e27",
   "metadata": {
    "id": "957e4152-cbb1-4c5d-a302-21ca49b72e27"
   },
   "outputs": [],
   "source": [
    "for columns in colunas:\n",
    "    # dataMES[columns] = pd.to_numeric(dataMES[columns], errors='coerce')\n",
    "    dataPAS[columns] = pd.to_numeric(dataPAS[columns], errors='coerce').fillna(0).astype(int)"
   ]
  },
  {
   "cell_type": "markdown",
   "id": "b1c78c71-931d-4e11-b01f-0a5fc9f1991f",
   "metadata": {
    "id": "b1c78c71-931d-4e11-b01f-0a5fc9f1991f"
   },
   "source": [
    "### PASSO 6: MELT derretendo as colunas em formato de datas"
   ]
  },
  {
   "cell_type": "markdown",
   "id": "e0dc5dee-12a7-43fd-b4ba-79027800c0a6",
   "metadata": {
    "id": "e0dc5dee-12a7-43fd-b4ba-79027800c0a6"
   },
   "source": [
    "o MELT ele pega as colunas que estão na horizontal e cria uma coluna de categorias, e depois ele cria outra coluna com os valores dessas colunas que foram transformadas em dados categóricos"
   ]
  },
  {
   "cell_type": "code",
   "execution_count": 770,
   "id": "5991a45b-8348-45ce-8c41-dd12891bd7b0",
   "metadata": {
    "id": "5991a45b-8348-45ce-8c41-dd12891bd7b0"
   },
   "outputs": [],
   "source": [
    "colunas_para_melt = [\n",
    "'01-10-2024',\n",
    "'02-10-2024',\n",
    "'03-10-2024',\n",
    "'04-10-2024',\n",
    "'07-10-2024',\n",
    "'08-10-2024',\n",
    "'09-10-2024',\n",
    "'10-10-2024',\n",
    "'11-10-2024',\n",
    "'14-10-2024',\n",
    "'15-10-2024',\n",
    "'16-10-2024',\n",
    "'17-10-2024',\n",
    "'18-10-2024',\n",
    "'21-10-2024',\n",
    "'22-10-2024',\n",
    "'23-10-2024',\n",
    "'24-10-2024',\n",
    "'25-10-2024',\n",
    "'28-10-2024',\n",
    "'29-10-2024',\n",
    "'30-10-2024',\n",
    "'31-10-2024'\n",
    "]"
   ]
  },
  {
   "cell_type": "markdown",
   "id": "dc717f14-e735-4560-a45e-69b2afbcd3b0",
   "metadata": {
    "id": "dc717f14-e735-4560-a45e-69b2afbcd3b0"
   },
   "source": [
    "#### Indentificando as colunas que Eu quero manter em meu dataframe"
   ]
  },
  {
   "cell_type": "code",
   "execution_count": 771,
   "id": "e2257ef9-592d-4caf-bc4a-92b0ceb025a4",
   "metadata": {
    "id": "e2257ef9-592d-4caf-bc4a-92b0ceb025a4"
   },
   "outputs": [],
   "source": [
    "# Identifica as colunas que você quer manter como identificadoras (id_vars)\n",
    "# São as colunas que não serão \"unpivoted\"\n",
    "id_vars_cols = [columns for columns in dataPAS.columns if columns not in colunas_para_melt]"
   ]
  },
  {
   "cell_type": "code",
   "execution_count": 772,
   "id": "3f17423e-df3b-46f6-89b7-27c6a5a01d69",
   "metadata": {
    "id": "3f17423e-df3b-46f6-89b7-27c6a5a01d69"
   },
   "outputs": [],
   "source": [
    "dataPAS_melted = pd.melt(dataPAS,\n",
    "                      id_vars=id_vars_cols, #colunas que Eu deixei, que ficaram.\n",
    "                      value_vars=colunas_para_melt, #colunas que vão se transformar.\n",
    "                      var_name='Dias de Aulas', # nome da coluna categorica\n",
    "                      value_name='Frequencia de Alunos') # nome da coluna de valores"
   ]
  },
  {
   "cell_type": "code",
   "execution_count": 773,
   "id": "0f3f1681-fac2-4009-9b4d-12567b6a9672",
   "metadata": {
    "colab": {
     "base_uri": "https://localhost:8080/",
     "height": 216
    },
    "id": "0f3f1681-fac2-4009-9b4d-12567b6a9672",
    "outputId": "bfd1f55c-caac-4aca-803f-4471e8430a49"
   },
   "outputs": [
    {
     "data": {
      "text/html": [
       "<div>\n",
       "<style scoped>\n",
       "    .dataframe tbody tr th:only-of-type {\n",
       "        vertical-align: middle;\n",
       "    }\n",
       "\n",
       "    .dataframe tbody tr th {\n",
       "        vertical-align: top;\n",
       "    }\n",
       "\n",
       "    .dataframe thead th {\n",
       "        text-align: right;\n",
       "    }\n",
       "</style>\n",
       "<table border=\"1\" class=\"dataframe\">\n",
       "  <thead>\n",
       "    <tr style=\"text-align: right;\">\n",
       "      <th></th>\n",
       "      <th>CATEGORIA</th>\n",
       "      <th>MODALIDADE</th>\n",
       "      <th>DIA DA SEMANA</th>\n",
       "      <th>HORÁRIO</th>\n",
       "      <th>TURNO</th>\n",
       "      <th>PROFESSOR</th>\n",
       "      <th>Média alunos p/ professor</th>\n",
       "      <th>Média</th>\n",
       "      <th>Alunos/professor</th>\n",
       "      <th>Ocupação Máxima</th>\n",
       "      <th>Professor</th>\n",
       "      <th>Dias de Aulas</th>\n",
       "      <th>Frequencia de Alunos</th>\n",
       "    </tr>\n",
       "  </thead>\n",
       "  <tbody>\n",
       "    <tr>\n",
       "      <th>0</th>\n",
       "      <td>MUSC - C/P</td>\n",
       "      <td>A - MUSCULAÇÃO COM PERSONAL</td>\n",
       "      <td>seg, ter, qua, qui, sex</td>\n",
       "      <td>06:00</td>\n",
       "      <td>MANHÃ</td>\n",
       "      <td>MARCOS</td>\n",
       "      <td>19</td>\n",
       "      <td>19.263158</td>\n",
       "      <td>NaN</td>\n",
       "      <td>NaN</td>\n",
       "      <td>0.0</td>\n",
       "      <td>01-10-2024</td>\n",
       "      <td>0</td>\n",
       "    </tr>\n",
       "    <tr>\n",
       "      <th>1</th>\n",
       "      <td>MUSC - S/P</td>\n",
       "      <td>A - MUSCULAÇÃO SEM PERSONAL</td>\n",
       "      <td>seg, ter, qua, qui, sex</td>\n",
       "      <td>06:00</td>\n",
       "      <td>MANHÃ</td>\n",
       "      <td>MARCOS</td>\n",
       "      <td>19</td>\n",
       "      <td>77.894737</td>\n",
       "      <td>6.333333</td>\n",
       "      <td>NaN</td>\n",
       "      <td>3.0</td>\n",
       "      <td>01-10-2024</td>\n",
       "      <td>0</td>\n",
       "    </tr>\n",
       "  </tbody>\n",
       "</table>\n",
       "</div>"
      ],
      "text/plain": [
       "    CATEGORIA                   MODALIDADE            DIA DA SEMANA HORÁRIO  \\\n",
       "0  MUSC - C/P  A - MUSCULAÇÃO COM PERSONAL  seg, ter, qua, qui, sex   06:00   \n",
       "1  MUSC - S/P  A - MUSCULAÇÃO SEM PERSONAL  seg, ter, qua, qui, sex   06:00   \n",
       "\n",
       "   TURNO PROFESSOR  Média alunos p/ professor      Média  Alunos/professor  \\\n",
       "0  MANHÃ    MARCOS                         19  19.263158               NaN   \n",
       "1  MANHÃ    MARCOS                         19  77.894737          6.333333   \n",
       "\n",
       "   Ocupação Máxima  Professor Dias de Aulas  Frequencia de Alunos  \n",
       "0              NaN        0.0    01-10-2024                     0  \n",
       "1              NaN        3.0    01-10-2024                     0  "
      ]
     },
     "execution_count": 773,
     "metadata": {},
     "output_type": "execute_result"
    }
   ],
   "source": [
    "dataPAS_melted.head(2)"
   ]
  },
  {
   "cell_type": "code",
   "execution_count": 774,
   "id": "b670a7d3-5f74-40f2-8bdc-a302c623a287",
   "metadata": {
    "colab": {
     "base_uri": "https://localhost:8080/"
    },
    "id": "b670a7d3-5f74-40f2-8bdc-a302c623a287",
    "outputId": "1de533a0-8659-4085-dce3-6e7c9ca37251"
   },
   "outputs": [
    {
     "data": {
      "text/plain": [
       "np.int64(25667)"
      ]
     },
     "execution_count": 774,
     "metadata": {},
     "output_type": "execute_result"
    }
   ],
   "source": [
    "dataPAS_melted['Frequencia de Alunos'].sum()"
   ]
  },
  {
   "cell_type": "markdown",
   "id": "7f9c1f71-7e0a-42c8-91ad-86d67dc1059a",
   "metadata": {
    "id": "7f9c1f71-7e0a-42c8-91ad-86d67dc1059a"
   },
   "source": [
    "# PARQUELÂNDIA [PARQ] - PREPROCESSING 14"
   ]
  },
  {
   "cell_type": "code",
   "execution_count": 775,
   "id": "18de50cc-6156-49cd-a85e-1ff9dfd25fa6",
   "metadata": {
    "id": "18de50cc-6156-49cd-a85e-1ff9dfd25fa6"
   },
   "outputs": [],
   "source": [
    "data14 = pd.read_excel('base_de_frequencias_green_life_academias_dados_brutos.xlsx', sheet_name='PARQ', skiprows=1, nrows=66)"
   ]
  },
  {
   "cell_type": "code",
   "execution_count": 776,
   "id": "b4003c18-ab57-4e5b-b0be-c47a628071e4",
   "metadata": {
    "id": "b4003c18-ab57-4e5b-b0be-c47a628071e4"
   },
   "outputs": [],
   "source": [
    "dataPARQ = data14.copy()"
   ]
  },
  {
   "cell_type": "markdown",
   "id": "344cab16-6bd6-4345-a16e-ad0d284a6a7d",
   "metadata": {
    "id": "344cab16-6bd6-4345-a16e-ad0d284a6a7d"
   },
   "source": [
    "### 1 PASSO: Removendo colunas desnecessárias"
   ]
  },
  {
   "cell_type": "code",
   "execution_count": 777,
   "id": "93276041-d1d4-4fd0-9e60-d5b4cf2cb2b3",
   "metadata": {
    "colab": {
     "base_uri": "https://localhost:8080/",
     "height": 317
    },
    "id": "93276041-d1d4-4fd0-9e60-d5b4cf2cb2b3",
    "outputId": "85865112-3044-40af-efc1-7423a5a48c2f"
   },
   "outputs": [
    {
     "data": {
      "text/html": [
       "<div>\n",
       "<style scoped>\n",
       "    .dataframe tbody tr th:only-of-type {\n",
       "        vertical-align: middle;\n",
       "    }\n",
       "\n",
       "    .dataframe tbody tr th {\n",
       "        vertical-align: top;\n",
       "    }\n",
       "\n",
       "    .dataframe thead th {\n",
       "        text-align: right;\n",
       "    }\n",
       "</style>\n",
       "<table border=\"1\" class=\"dataframe\">\n",
       "  <thead>\n",
       "    <tr style=\"text-align: right;\">\n",
       "      <th></th>\n",
       "      <th>Unnamed: 0</th>\n",
       "      <th>Unnamed: 1</th>\n",
       "      <th>Unnamed: 2</th>\n",
       "      <th>Unnamed: 3</th>\n",
       "      <th>CATEGORIA</th>\n",
       "      <th>MODALIDADE</th>\n",
       "      <th>DIA DA SEMANA</th>\n",
       "      <th>HORÁRIO</th>\n",
       "      <th>AUX.1</th>\n",
       "      <th>TURNO</th>\n",
       "      <th>...</th>\n",
       "      <th>Ocupação Máxima</th>\n",
       "      <th>Professor</th>\n",
       "      <th>Unnamed: 41</th>\n",
       "      <th>Unnamed: 42</th>\n",
       "      <th>Unnamed: 43</th>\n",
       "      <th>Unnamed: 44</th>\n",
       "      <th>Unnamed: 45</th>\n",
       "      <th>Unnamed: 46</th>\n",
       "      <th>Unnamed: 47</th>\n",
       "      <th>Unnamed: 48</th>\n",
       "    </tr>\n",
       "  </thead>\n",
       "  <tbody>\n",
       "    <tr>\n",
       "      <th>0</th>\n",
       "      <td>NaN</td>\n",
       "      <td>NaN</td>\n",
       "      <td>NaN</td>\n",
       "      <td>NaN</td>\n",
       "      <td>MUSC - C/P</td>\n",
       "      <td>A - MUSCULAÇÃO COM PERSONAL</td>\n",
       "      <td>seg, ter, qua, qui, sex</td>\n",
       "      <td>06:00:00</td>\n",
       "      <td>06:00</td>\n",
       "      <td>MANHÃ</td>\n",
       "      <td>...</td>\n",
       "      <td>NaN</td>\n",
       "      <td>0.0</td>\n",
       "      <td>NaN</td>\n",
       "      <td>NaN</td>\n",
       "      <td>NaN</td>\n",
       "      <td>NaN</td>\n",
       "      <td>NaN</td>\n",
       "      <td>NaN</td>\n",
       "      <td>NaN</td>\n",
       "      <td>NaN</td>\n",
       "    </tr>\n",
       "    <tr>\n",
       "      <th>1</th>\n",
       "      <td>NaN</td>\n",
       "      <td>NaN</td>\n",
       "      <td>NaN</td>\n",
       "      <td>NaN</td>\n",
       "      <td>MUSC - S/P</td>\n",
       "      <td>A - MUSCULAÇÃO SEM PERSONAL</td>\n",
       "      <td>seg, ter, qua, qui, sex</td>\n",
       "      <td>06:00:00</td>\n",
       "      <td>06:00</td>\n",
       "      <td>MANHÃ</td>\n",
       "      <td>...</td>\n",
       "      <td>NaN</td>\n",
       "      <td>3.0</td>\n",
       "      <td>NaN</td>\n",
       "      <td>NaN</td>\n",
       "      <td>NaN</td>\n",
       "      <td>NaN</td>\n",
       "      <td>NaN</td>\n",
       "      <td>NaN</td>\n",
       "      <td>NaN</td>\n",
       "      <td>NaN</td>\n",
       "    </tr>\n",
       "  </tbody>\n",
       "</table>\n",
       "<p>2 rows × 49 columns</p>\n",
       "</div>"
      ],
      "text/plain": [
       "   Unnamed: 0 Unnamed: 1  Unnamed: 2  Unnamed: 3   CATEGORIA  \\\n",
       "0         NaN        NaN         NaN         NaN  MUSC - C/P   \n",
       "1         NaN        NaN         NaN         NaN  MUSC - S/P   \n",
       "\n",
       "                    MODALIDADE            DIA DA SEMANA   HORÁRIO  AUX.1  \\\n",
       "0  A - MUSCULAÇÃO COM PERSONAL  seg, ter, qua, qui, sex  06:00:00  06:00   \n",
       "1  A - MUSCULAÇÃO SEM PERSONAL  seg, ter, qua, qui, sex  06:00:00  06:00   \n",
       "\n",
       "   TURNO  ... Ocupação Máxima Professor Unnamed: 41 Unnamed: 42 Unnamed: 43  \\\n",
       "0  MANHÃ  ...             NaN       0.0         NaN         NaN         NaN   \n",
       "1  MANHÃ  ...             NaN       3.0         NaN         NaN         NaN   \n",
       "\n",
       "  Unnamed: 44 Unnamed: 45 Unnamed: 46 Unnamed: 47 Unnamed: 48  \n",
       "0         NaN         NaN         NaN         NaN         NaN  \n",
       "1         NaN         NaN         NaN         NaN         NaN  \n",
       "\n",
       "[2 rows x 49 columns]"
      ]
     },
     "execution_count": 777,
     "metadata": {},
     "output_type": "execute_result"
    }
   ],
   "source": [
    "dataPARQ.head(2)"
   ]
  },
  {
   "cell_type": "code",
   "execution_count": 778,
   "id": "5ef6148a-14c7-40aa-a2e9-1955a42de649",
   "metadata": {
    "colab": {
     "base_uri": "https://localhost:8080/",
     "height": 1000
    },
    "id": "5ef6148a-14c7-40aa-a2e9-1955a42de649",
    "outputId": "01818c75-0c70-43b9-81ad-df514c15a8c1"
   },
   "outputs": [
    {
     "data": {
      "text/plain": [
       "Unnamed: 0                                                           NaN\n",
       "Unnamed: 1                                                           NaN\n",
       "Unnamed: 2                                                           NaN\n",
       "Unnamed: 3                                                           NaN\n",
       "CATEGORIA                                                     MUSC - C/P\n",
       "MODALIDADE                                   A - MUSCULAÇÃO COM PERSONAL\n",
       "DIA DA SEMANA                                    seg, ter, qua, qui, sex\n",
       "HORÁRIO                                                         06:00:00\n",
       "AUX.1                                                              06:00\n",
       "TURNO                                                              MANHÃ\n",
       "AUX 2                                A - MUSCULAÇÃO COM PERSONAL - 06:00\n",
       "PROFESSOR                                                  DANIEL CHAVES\n",
       "AUX 3                        A - MUSCULAÇÃO COM PERSONAL - DANIEL CHAVES\n",
       "2024-10-01 00:00:00                                                   21\n",
       "2024-10-02 00:00:00                                                   32\n",
       "2024-10-03 00:00:00                                                   23\n",
       "2024-10-04 00:00:00                                                   24\n",
       "2024-10-07 00:00:00                                                   23\n",
       "2024-10-08 00:00:00                                                   26\n",
       "2024-10-09 00:00:00                                                   30\n",
       "2024-10-10 00:00:00                                                   18\n",
       "2024-10-11 00:00:00                                                   25\n",
       "2024-10-14 00:00:00                                                   30\n",
       "2024-10-15 00:00:00                                                   23\n",
       "2024-10-16 00:00:00                                                   30\n",
       "2024-10-17 00:00:00                                                   28\n",
       "2024-10-18 00:00:00                                                   18\n",
       "2024-10-21 00:00:00                                                   26\n",
       "2024-10-22 00:00:00                                                   17\n",
       "2024-10-23 00:00:00                                                   30\n",
       "2024-10-24 00:00:00                                                   28\n",
       "2024-10-25 00:00:00                                                   23\n",
       "2024-10-28 00:00:00                                                    8\n",
       "2024-10-29 00:00:00                                                   21\n",
       "2024-10-30 00:00:00                                                   25\n",
       "2024-10-31 00:00:00                                                   20\n",
       "Média alunos p/ professor                                             23\n",
       "Média                                                          23.869565\n",
       "Alunos/professor                                                     NaN\n",
       "Ocupação Máxima                                                      NaN\n",
       "Professor                                                            0.0\n",
       "Unnamed: 41                                                          NaN\n",
       "Unnamed: 42                                                          NaN\n",
       "Unnamed: 43                                                          NaN\n",
       "Unnamed: 44                                                          NaN\n",
       "Unnamed: 45                                                          NaN\n",
       "Unnamed: 46                                                          NaN\n",
       "Unnamed: 47                                                          NaN\n",
       "Unnamed: 48                                                          NaN\n",
       "Name: 0, dtype: object"
      ]
     },
     "execution_count": 778,
     "metadata": {},
     "output_type": "execute_result"
    }
   ],
   "source": [
    "dataPARQ.iloc[0]"
   ]
  },
  {
   "cell_type": "code",
   "execution_count": 779,
   "id": "b00bf0d0-bad7-4095-9f7e-c4517a8f724e",
   "metadata": {
    "colab": {
     "base_uri": "https://localhost:8080/",
     "height": 1000
    },
    "id": "b00bf0d0-bad7-4095-9f7e-c4517a8f724e",
    "outputId": "735f51ea-fa8e-4d37-c3d6-880296588906"
   },
   "outputs": [
    {
     "data": {
      "text/plain": [
       "Unnamed: 0                                                             NaN\n",
       "Unnamed: 1                                                             NaN\n",
       "Unnamed: 2                                                             NaN\n",
       "Unnamed: 3                                                             NaN\n",
       "CATEGORIA                                                       MUSC - S/P\n",
       "MODALIDADE                                     A - MUSCULAÇÃO SEM PERSONAL\n",
       "DIA DA SEMANA                                      seg, ter, qua, qui, sex\n",
       "HORÁRIO                                                           22:00:00\n",
       "AUX.1                                                                22:00\n",
       "TURNO                                                                NOITE\n",
       "AUX 2                                  A - MUSCULAÇÃO SEM PERSONAL - 22:00\n",
       "PROFESSOR                                                  ALEXANDRE SALES\n",
       "AUX 3                        A - MUSCULAÇÃO SEM PERSONAL - ALEXANDRE SALES\n",
       "2024-10-01 00:00:00                                                     15\n",
       "2024-10-02 00:00:00                                                     12\n",
       "2024-10-03 00:00:00                                                     26\n",
       "2024-10-04 00:00:00                                                      6\n",
       "2024-10-07 00:00:00                                                     12\n",
       "2024-10-08 00:00:00                                                     15\n",
       "2024-10-09 00:00:00                                                     13\n",
       "2024-10-10 00:00:00                                                     14\n",
       "2024-10-11 00:00:00                                                      9\n",
       "2024-10-14 00:00:00                                                      8\n",
       "2024-10-15 00:00:00                                                      5\n",
       "2024-10-16 00:00:00                                                      9\n",
       "2024-10-17 00:00:00                                                     12\n",
       "2024-10-18 00:00:00                                                      8\n",
       "2024-10-21 00:00:00                                                      3\n",
       "2024-10-22 00:00:00                                                      8\n",
       "2024-10-23 00:00:00                                                     14\n",
       "2024-10-24 00:00:00                                                      8\n",
       "2024-10-25 00:00:00                                                      8\n",
       "2024-10-28 00:00:00                                                      9\n",
       "2024-10-29 00:00:00                                                    NaN\n",
       "2024-10-30 00:00:00                                                    NaN\n",
       "2024-10-31 00:00:00                                                    NaN\n",
       "Média alunos p/ professor                                               20\n",
       "Média                                                                 10.7\n",
       "Alunos/professor                                                      10.0\n",
       "Ocupação Máxima                                                        NaN\n",
       "Professor                                                              2.0\n",
       "Unnamed: 41                                                            NaN\n",
       "Unnamed: 42                                                            NaN\n",
       "Unnamed: 43                                                            NaN\n",
       "Unnamed: 44                                                            NaN\n",
       "Unnamed: 45                                                            NaN\n",
       "Unnamed: 46                                                            NaN\n",
       "Unnamed: 47                                                            NaN\n",
       "Unnamed: 48                                                            NaN\n",
       "Name: 65, dtype: object"
      ]
     },
     "execution_count": 779,
     "metadata": {},
     "output_type": "execute_result"
    }
   ],
   "source": [
    "dataPARQ.iloc[-1]"
   ]
  },
  {
   "cell_type": "code",
   "execution_count": 780,
   "id": "e61e5421-c2b6-4cdf-8b46-2460f61c8835",
   "metadata": {
    "id": "e61e5421-c2b6-4cdf-8b46-2460f61c8835"
   },
   "outputs": [],
   "source": [
    "dropColumns = ['Unnamed: 0', 'Unnamed: 1', 'Unnamed: 2', 'Unnamed: 3',\n",
    " 'HORÁRIO', 'AUX 2', 'AUX 3', 'Unnamed: 41', 'Unnamed: 42',\n",
    " 'Unnamed: 43', 'Unnamed: 44', 'Unnamed: 45', 'Unnamed: 46',\n",
    " 'Unnamed: 47', 'Unnamed: 48']"
   ]
  },
  {
   "cell_type": "code",
   "execution_count": 781,
   "id": "2492dd98-9569-4c4d-8f0e-5a5b36ad4722",
   "metadata": {
    "id": "2492dd98-9569-4c4d-8f0e-5a5b36ad4722"
   },
   "outputs": [],
   "source": [
    "dataPARQ.drop(columns=dropColumns, inplace=True)"
   ]
  },
  {
   "cell_type": "markdown",
   "id": "e62e2861-cab7-4fc8-835b-f098c23e72f9",
   "metadata": {
    "id": "e62e2861-cab7-4fc8-835b-f098c23e72f9"
   },
   "source": [
    "- PRECISAMOS RENOMEAR A COLUNA AUX.1 COMO HORARIO"
   ]
  },
  {
   "cell_type": "code",
   "execution_count": 782,
   "id": "0d8c2cc7-a281-404b-bbdb-223b0aadad74",
   "metadata": {
    "id": "0d8c2cc7-a281-404b-bbdb-223b0aadad74"
   },
   "outputs": [],
   "source": [
    "dataPARQ.rename(columns={'AUX.1': 'HORÁRIO'}, inplace=True)"
   ]
  },
  {
   "cell_type": "markdown",
   "id": "65bcbc70-6295-403f-b28f-5f1fb3131c7f",
   "metadata": {
    "id": "65bcbc70-6295-403f-b28f-5f1fb3131c7f"
   },
   "source": [
    "### 2 PASSO: Renomeando strings de datas, para que o pandas possa aceitar como colunas"
   ]
  },
  {
   "cell_type": "code",
   "execution_count": 783,
   "id": "f8bd9f05-379b-415b-8c93-3aa2f1a8c151",
   "metadata": {
    "colab": {
     "base_uri": "https://localhost:8080/"
    },
    "id": "f8bd9f05-379b-415b-8c93-3aa2f1a8c151",
    "outputId": "350a067b-2b2a-4cf7-ab30-fbdeaab150a8"
   },
   "outputs": [
    {
     "name": "stdout",
     "output_type": "stream",
     "text": [
      "CATEGORIA\n",
      "MODALIDADE\n",
      "DIA DA SEMANA\n",
      "HORÁRIO\n",
      "TURNO\n",
      "PROFESSOR\n",
      "2024-10-01 00:00:00\n",
      "2024-10-02 00:00:00\n",
      "2024-10-03 00:00:00\n",
      "2024-10-04 00:00:00\n",
      "2024-10-07 00:00:00\n",
      "2024-10-08 00:00:00\n",
      "2024-10-09 00:00:00\n",
      "2024-10-10 00:00:00\n",
      "2024-10-11 00:00:00\n",
      "2024-10-14 00:00:00\n",
      "2024-10-15 00:00:00\n",
      "2024-10-16 00:00:00\n",
      "2024-10-17 00:00:00\n",
      "2024-10-18 00:00:00\n",
      "2024-10-21 00:00:00\n",
      "2024-10-22 00:00:00\n",
      "2024-10-23 00:00:00\n",
      "2024-10-24 00:00:00\n",
      "2024-10-25 00:00:00\n",
      "2024-10-28 00:00:00\n",
      "2024-10-29 00:00:00\n",
      "2024-10-30 00:00:00\n",
      "2024-10-31 00:00:00\n",
      "Média alunos p/ professor\n",
      "Média\n",
      "Alunos/professor\n",
      "Ocupação Máxima\n",
      "Professor\n"
     ]
    }
   ],
   "source": [
    "for columns in dataPARQ.columns:\n",
    "    print(columns)"
   ]
  },
  {
   "cell_type": "code",
   "execution_count": 784,
   "id": "18627a58-aaab-4390-a9bd-ceb1f9f4ad76",
   "metadata": {
    "id": "18627a58-aaab-4390-a9bd-ceb1f9f4ad76"
   },
   "outputs": [],
   "source": [
    "dataPARQ.columns = [\n",
    "'CATEGORIA',\n",
    "'MODALIDADE',\n",
    "'DIA DA SEMANA',\n",
    "'HORÁRIO',\n",
    "'TURNO',\n",
    "'PROFESSOR',\n",
    "'2024-10-01 00:00:00',\n",
    "'2024-10-02 00:00:00',\n",
    "'2024-10-03 00:00:00',\n",
    "'2024-10-04 00:00:00',\n",
    "'2024-10-07 00:00:00',\n",
    "'2024-10-08 00:00:00',\n",
    "'2024-10-09 00:00:00',\n",
    "'2024-10-10 00:00:00',\n",
    "'2024-10-11 00:00:00',\n",
    "'2024-10-14 00:00:00',\n",
    "'2024-10-15 00:00:00',\n",
    "'2024-10-16 00:00:00',\n",
    "'2024-10-17 00:00:00',\n",
    "'2024-10-18 00:00:00',\n",
    "'2024-10-21 00:00:00',\n",
    "'2024-10-22 00:00:00',\n",
    "'2024-10-23 00:00:00',\n",
    "'2024-10-24 00:00:00',\n",
    "'2024-10-25 00:00:00',\n",
    "'2024-10-28 00:00:00',\n",
    "'2024-10-29 00:00:00',\n",
    "'2024-10-30 00:00:00',\n",
    "'2024-10-31 00:00:00',\n",
    "'Média alunos p/ professor',\n",
    "'Média',\n",
    "'Alunos/professor',\n",
    "'Ocupação Máxima',\n",
    "'Professor']"
   ]
  },
  {
   "cell_type": "code",
   "execution_count": 785,
   "id": "6634ce6d-c3ab-44a5-b2c1-d2b5f4a4e1a7",
   "metadata": {
    "colab": {
     "base_uri": "https://localhost:8080/"
    },
    "id": "6634ce6d-c3ab-44a5-b2c1-d2b5f4a4e1a7",
    "outputId": "0a555bd0-6c21-4196-a33d-86bcadd6ee94"
   },
   "outputs": [
    {
     "data": {
      "text/plain": [
       "Index(['CATEGORIA', 'MODALIDADE', 'DIA DA SEMANA', 'HORÁRIO', 'TURNO',\n",
       "       'PROFESSOR', '2024-10-01 00:00:00', '2024-10-02 00:00:00',\n",
       "       '2024-10-03 00:00:00', '2024-10-04 00:00:00', '2024-10-07 00:00:00',\n",
       "       '2024-10-08 00:00:00', '2024-10-09 00:00:00', '2024-10-10 00:00:00',\n",
       "       '2024-10-11 00:00:00', '2024-10-14 00:00:00', '2024-10-15 00:00:00',\n",
       "       '2024-10-16 00:00:00', '2024-10-17 00:00:00', '2024-10-18 00:00:00',\n",
       "       '2024-10-21 00:00:00', '2024-10-22 00:00:00', '2024-10-23 00:00:00',\n",
       "       '2024-10-24 00:00:00', '2024-10-25 00:00:00', '2024-10-28 00:00:00',\n",
       "       '2024-10-29 00:00:00', '2024-10-30 00:00:00', '2024-10-31 00:00:00',\n",
       "       'Média alunos p/ professor', 'Média', 'Alunos/professor',\n",
       "       'Ocupação Máxima', 'Professor'],\n",
       "      dtype='object')"
      ]
     },
     "execution_count": 785,
     "metadata": {},
     "output_type": "execute_result"
    }
   ],
   "source": [
    "dataPARQ.columns"
   ]
  },
  {
   "cell_type": "markdown",
   "id": "6e244ab1-f0c2-45c3-a85a-329e6fdabdfd",
   "metadata": {
    "id": "6e244ab1-f0c2-45c3-a85a-329e6fdabdfd"
   },
   "source": [
    "### PASSO 3: Escolhendo colunas com o nome de 'datas', para renomear pelo o tipo dia, mês e ano. e removendo os 00 de horas"
   ]
  },
  {
   "cell_type": "code",
   "execution_count": 786,
   "id": "ef6dc480-97ea-498c-a4cd-b7f910364ad8",
   "metadata": {
    "id": "ef6dc480-97ea-498c-a4cd-b7f910364ad8"
   },
   "outputs": [],
   "source": [
    "colunas = [\n",
    "'2024-10-01 00:00:00',\n",
    "'2024-10-02 00:00:00',\n",
    "'2024-10-03 00:00:00',\n",
    "'2024-10-04 00:00:00',\n",
    "'2024-10-07 00:00:00',\n",
    "'2024-10-08 00:00:00',\n",
    "'2024-10-09 00:00:00',\n",
    "'2024-10-10 00:00:00',\n",
    "'2024-10-11 00:00:00',\n",
    "'2024-10-14 00:00:00',\n",
    "'2024-10-15 00:00:00',\n",
    "'2024-10-16 00:00:00',\n",
    "'2024-10-17 00:00:00',\n",
    "'2024-10-18 00:00:00',\n",
    "'2024-10-21 00:00:00',\n",
    "'2024-10-22 00:00:00',\n",
    "'2024-10-23 00:00:00',\n",
    "'2024-10-24 00:00:00',\n",
    "'2024-10-25 00:00:00',\n",
    "'2024-10-28 00:00:00',\n",
    "'2024-10-29 00:00:00',\n",
    "'2024-10-30 00:00:00',\n",
    "'2024-10-31 00:00:00',]"
   ]
  },
  {
   "cell_type": "code",
   "execution_count": 787,
   "id": "a53ee76d-db32-4796-9d4e-1f9d40795f48",
   "metadata": {
    "id": "a53ee76d-db32-4796-9d4e-1f9d40795f48"
   },
   "outputs": [],
   "source": [
    "novas_colunas_PARQ = []"
   ]
  },
  {
   "cell_type": "code",
   "execution_count": 788,
   "id": "8e1817ac-b760-4ee6-b53d-060c32982912",
   "metadata": {
    "id": "8e1817ac-b760-4ee6-b53d-060c32982912"
   },
   "outputs": [],
   "source": [
    "for columns in colunas:\n",
    "    # Remove a parte da hora\n",
    "    data_sem_hora = columns.split(' ')[0]\n",
    "\n",
    "    # Formata para o formato DD-MM-YYYY\n",
    "    ano, mes, dia = data_sem_hora.split('-')\n",
    "    novo_nome = f'{dia}-{mes}-{ano}'\n",
    "    novas_colunas_PARQ.append(novo_nome)"
   ]
  },
  {
   "cell_type": "code",
   "execution_count": 789,
   "id": "1c39deff-f9b9-445b-ac02-4888d4843f2e",
   "metadata": {
    "colab": {
     "base_uri": "https://localhost:8080/"
    },
    "id": "1c39deff-f9b9-445b-ac02-4888d4843f2e",
    "outputId": "16c55076-540d-483b-d962-639709b2b84f"
   },
   "outputs": [
    {
     "data": {
      "text/plain": [
       "['01-10-2024',\n",
       " '02-10-2024',\n",
       " '03-10-2024',\n",
       " '04-10-2024',\n",
       " '07-10-2024',\n",
       " '08-10-2024',\n",
       " '09-10-2024',\n",
       " '10-10-2024',\n",
       " '11-10-2024',\n",
       " '14-10-2024',\n",
       " '15-10-2024',\n",
       " '16-10-2024',\n",
       " '17-10-2024',\n",
       " '18-10-2024',\n",
       " '21-10-2024',\n",
       " '22-10-2024',\n",
       " '23-10-2024',\n",
       " '24-10-2024',\n",
       " '25-10-2024',\n",
       " '28-10-2024',\n",
       " '29-10-2024',\n",
       " '30-10-2024',\n",
       " '31-10-2024']"
      ]
     },
     "execution_count": 789,
     "metadata": {},
     "output_type": "execute_result"
    }
   ],
   "source": [
    "novas_colunas_PARQ"
   ]
  },
  {
   "cell_type": "markdown",
   "id": "871f9bb1-b101-4a44-81f2-175710626857",
   "metadata": {
    "id": "871f9bb1-b101-4a44-81f2-175710626857"
   },
   "source": [
    "### PASSO 4 renomeando colunas e acrescentando o novo formato"
   ]
  },
  {
   "cell_type": "markdown",
   "id": "06d5d582-7dbe-4d57-8efc-482073b5e4d3",
   "metadata": {
    "id": "06d5d582-7dbe-4d57-8efc-482073b5e4d3"
   },
   "source": [
    "copie as colunas que escolheu para renomear, e cole o formato novo no lugar das velhas"
   ]
  },
  {
   "cell_type": "code",
   "execution_count": 790,
   "id": "26decd53-a536-403d-83f7-1f2ffcad98a3",
   "metadata": {
    "id": "26decd53-a536-403d-83f7-1f2ffcad98a3"
   },
   "outputs": [],
   "source": [
    "# Adicionando as datas formatadas as colunas, copiando e colando"
   ]
  },
  {
   "cell_type": "code",
   "execution_count": 791,
   "id": "f9b0ae20-fa64-4624-8563-940bdc06c63c",
   "metadata": {
    "colab": {
     "base_uri": "https://localhost:8080/"
    },
    "id": "f9b0ae20-fa64-4624-8563-940bdc06c63c",
    "outputId": "0534e284-ce6b-46a3-ab96-e25990b15c27"
   },
   "outputs": [
    {
     "name": "stdout",
     "output_type": "stream",
     "text": [
      "CATEGORIA\n",
      "MODALIDADE\n",
      "DIA DA SEMANA\n",
      "HORÁRIO\n",
      "TURNO\n",
      "PROFESSOR\n",
      "2024-10-01 00:00:00\n",
      "2024-10-02 00:00:00\n",
      "2024-10-03 00:00:00\n",
      "2024-10-04 00:00:00\n",
      "2024-10-07 00:00:00\n",
      "2024-10-08 00:00:00\n",
      "2024-10-09 00:00:00\n",
      "2024-10-10 00:00:00\n",
      "2024-10-11 00:00:00\n",
      "2024-10-14 00:00:00\n",
      "2024-10-15 00:00:00\n",
      "2024-10-16 00:00:00\n",
      "2024-10-17 00:00:00\n",
      "2024-10-18 00:00:00\n",
      "2024-10-21 00:00:00\n",
      "2024-10-22 00:00:00\n",
      "2024-10-23 00:00:00\n",
      "2024-10-24 00:00:00\n",
      "2024-10-25 00:00:00\n",
      "2024-10-28 00:00:00\n",
      "2024-10-29 00:00:00\n",
      "2024-10-30 00:00:00\n",
      "2024-10-31 00:00:00\n",
      "Média alunos p/ professor\n",
      "Média\n",
      "Alunos/professor\n",
      "Ocupação Máxima\n",
      "Professor\n"
     ]
    }
   ],
   "source": [
    "for columns in dataPARQ.columns:\n",
    "    print (columns)"
   ]
  },
  {
   "cell_type": "code",
   "execution_count": 792,
   "id": "feb2215c-0a14-4f80-bb76-8d4ecaf8af83",
   "metadata": {
    "id": "feb2215c-0a14-4f80-bb76-8d4ecaf8af83"
   },
   "outputs": [],
   "source": [
    "dataPARQ.columns = [\n",
    "'CATEGORIA',\n",
    "'MODALIDADE',\n",
    "'DIA DA SEMANA',\n",
    "'HORÁRIO',\n",
    "'TURNO',\n",
    "'PROFESSOR',\n",
    "'01-10-2024',\n",
    "'02-10-2024',\n",
    "'03-10-2024',\n",
    "'04-10-2024',\n",
    "'07-10-2024',\n",
    "'08-10-2024',\n",
    "'09-10-2024',\n",
    "'10-10-2024',\n",
    "'11-10-2024',\n",
    "'14-10-2024',\n",
    "'15-10-2024',\n",
    "'16-10-2024',\n",
    "'17-10-2024',\n",
    "'18-10-2024',\n",
    "'21-10-2024',\n",
    "'22-10-2024',\n",
    "'23-10-2024',\n",
    "'24-10-2024',\n",
    "'25-10-2024',\n",
    "'28-10-2024',\n",
    "'29-10-2024',\n",
    "'30-10-2024',\n",
    "'31-10-2024',\n",
    "'Média alunos p/ professor',\n",
    "'Média',\n",
    "'Alunos/professor',\n",
    "'Ocupação Máxima',\n",
    "'Professor',\n",
    "]"
   ]
  },
  {
   "cell_type": "markdown",
   "id": "7a78d8ca-6e7c-469c-bea1-2c481870e9b6",
   "metadata": {
    "id": "7a78d8ca-6e7c-469c-bea1-2c481870e9b6"
   },
   "source": [
    "### 5 PASSO: Usar o Loop for para substitituir os valores das frequencia de 'x' e 'X' por zero, com o método do pd.to_numeric)"
   ]
  },
  {
   "cell_type": "code",
   "execution_count": 793,
   "id": "f4a2eb5e-974d-4783-9861-a6fa32e138de",
   "metadata": {
    "id": "f4a2eb5e-974d-4783-9861-a6fa32e138de"
   },
   "outputs": [],
   "source": [
    "colunas = [\n",
    "'01-10-2024',\n",
    "'02-10-2024',\n",
    "'03-10-2024',\n",
    "'04-10-2024',\n",
    "'07-10-2024',\n",
    "'08-10-2024',\n",
    "'09-10-2024',\n",
    "'10-10-2024',\n",
    "'11-10-2024',\n",
    "'14-10-2024',\n",
    "'15-10-2024',\n",
    "'16-10-2024',\n",
    "'17-10-2024',\n",
    "'18-10-2024',\n",
    "'21-10-2024',\n",
    "'22-10-2024',\n",
    "'23-10-2024',\n",
    "'24-10-2024',\n",
    "'25-10-2024',\n",
    "'28-10-2024',\n",
    "'29-10-2024',\n",
    "'30-10-2024',\n",
    "'31-10-2024',\n",
    "]"
   ]
  },
  {
   "cell_type": "markdown",
   "id": "7a375f21-0d9f-4a68-afff-18144013efc8",
   "metadata": {
    "id": "7a375f21-0d9f-4a68-afff-18144013efc8"
   },
   "source": [
    "Fazendo a limpeza profunda, formatando valores para numeros, preenchendo com zeros os nulos e transformando em inteiros"
   ]
  },
  {
   "cell_type": "code",
   "execution_count": 794,
   "id": "20e1c344-c1ad-4e71-bbe7-a4100dd5fdce",
   "metadata": {
    "id": "20e1c344-c1ad-4e71-bbe7-a4100dd5fdce"
   },
   "outputs": [],
   "source": [
    "for columns in colunas:\n",
    "    # dataMES[columns] = pd.to_numeric(dataMES[columns], errors='coerce')\n",
    "    dataPARQ[columns] = pd.to_numeric(dataPARQ[columns], errors='coerce').fillna(0).astype(int)"
   ]
  },
  {
   "cell_type": "markdown",
   "id": "ef37bf80-721d-4303-ab9b-e59a25c4a8df",
   "metadata": {
    "id": "ef37bf80-721d-4303-ab9b-e59a25c4a8df"
   },
   "source": [
    "### PASSO 6: MELT derretendo as colunas em formato de datas"
   ]
  },
  {
   "cell_type": "markdown",
   "id": "12fb2186-32e7-4b26-b6d7-ce4f1f3dd0ee",
   "metadata": {
    "id": "12fb2186-32e7-4b26-b6d7-ce4f1f3dd0ee"
   },
   "source": [
    "o MELT ele pega as colunas que estão na horizontal e cria uma coluna de categorias, e depois ele cria outra coluna com os valores dessas colunas que foram transformadas em dados categóricosM"
   ]
  },
  {
   "cell_type": "code",
   "execution_count": 795,
   "id": "2d349980-7868-4fb2-b20c-bacc1d72db29",
   "metadata": {
    "id": "2d349980-7868-4fb2-b20c-bacc1d72db29"
   },
   "outputs": [],
   "source": [
    "colunas_para_melt = [\n",
    "'01-10-2024',\n",
    "'02-10-2024',\n",
    "'03-10-2024',\n",
    "'04-10-2024',\n",
    "'07-10-2024',\n",
    "'08-10-2024',\n",
    "'09-10-2024',\n",
    "'10-10-2024',\n",
    "'11-10-2024',\n",
    "'14-10-2024',\n",
    "'15-10-2024',\n",
    "'16-10-2024',\n",
    "'17-10-2024',\n",
    "'18-10-2024',\n",
    "'21-10-2024',\n",
    "'22-10-2024',\n",
    "'23-10-2024',\n",
    "'24-10-2024',\n",
    "'25-10-2024',\n",
    "'28-10-2024',\n",
    "'29-10-2024',\n",
    "'30-10-2024',\n",
    "'31-10-2024',\n",
    "]"
   ]
  },
  {
   "cell_type": "markdown",
   "id": "e06a6393-8d79-4c1a-b1ed-ceafe40230bd",
   "metadata": {
    "id": "e06a6393-8d79-4c1a-b1ed-ceafe40230bd"
   },
   "source": [
    "#### Indentificando as colunas que Eu quero manter em meu dataframe"
   ]
  },
  {
   "cell_type": "code",
   "execution_count": 796,
   "id": "a98c09a9-97c1-4ac7-accb-264d90cf28f9",
   "metadata": {
    "id": "a98c09a9-97c1-4ac7-accb-264d90cf28f9"
   },
   "outputs": [],
   "source": [
    "# Identifica as colunas que você quer manter como identificadoras (id_vars)\n",
    "# São as colunas que não serão \"unpivoted\"\n",
    "id_vars_cols = [columns for columns in dataPARQ.columns if columns not in colunas_para_melt]"
   ]
  },
  {
   "cell_type": "code",
   "execution_count": 797,
   "id": "3f30476e-fd10-4b65-bfc3-6f7dc2b4d08d",
   "metadata": {
    "id": "3f30476e-fd10-4b65-bfc3-6f7dc2b4d08d"
   },
   "outputs": [],
   "source": [
    "dataPARQ_melted = pd.melt(dataPARQ,\n",
    "                      id_vars=id_vars_cols, #colunas que Eu deixei, que ficaram.\n",
    "                      value_vars=colunas_para_melt, #colunas que vão se transformar.\n",
    "                      var_name='Dias de Aulas', # nome da coluna categorica\n",
    "                      value_name='Frequencia de Alunos') # nome da coluna de valores"
   ]
  },
  {
   "cell_type": "code",
   "execution_count": 798,
   "id": "15270e3c-1cf8-4161-b386-047a727938e6",
   "metadata": {
    "colab": {
     "base_uri": "https://localhost:8080/",
     "height": 216
    },
    "id": "15270e3c-1cf8-4161-b386-047a727938e6",
    "outputId": "90c71208-8224-40dd-aca9-01e7093f22ef"
   },
   "outputs": [
    {
     "data": {
      "text/html": [
       "<div>\n",
       "<style scoped>\n",
       "    .dataframe tbody tr th:only-of-type {\n",
       "        vertical-align: middle;\n",
       "    }\n",
       "\n",
       "    .dataframe tbody tr th {\n",
       "        vertical-align: top;\n",
       "    }\n",
       "\n",
       "    .dataframe thead th {\n",
       "        text-align: right;\n",
       "    }\n",
       "</style>\n",
       "<table border=\"1\" class=\"dataframe\">\n",
       "  <thead>\n",
       "    <tr style=\"text-align: right;\">\n",
       "      <th></th>\n",
       "      <th>CATEGORIA</th>\n",
       "      <th>MODALIDADE</th>\n",
       "      <th>DIA DA SEMANA</th>\n",
       "      <th>HORÁRIO</th>\n",
       "      <th>TURNO</th>\n",
       "      <th>PROFESSOR</th>\n",
       "      <th>Média alunos p/ professor</th>\n",
       "      <th>Média</th>\n",
       "      <th>Alunos/professor</th>\n",
       "      <th>Ocupação Máxima</th>\n",
       "      <th>Professor</th>\n",
       "      <th>Dias de Aulas</th>\n",
       "      <th>Frequencia de Alunos</th>\n",
       "    </tr>\n",
       "  </thead>\n",
       "  <tbody>\n",
       "    <tr>\n",
       "      <th>0</th>\n",
       "      <td>MUSC - C/P</td>\n",
       "      <td>A - MUSCULAÇÃO COM PERSONAL</td>\n",
       "      <td>seg, ter, qua, qui, sex</td>\n",
       "      <td>06:00</td>\n",
       "      <td>MANHÃ</td>\n",
       "      <td>DANIEL CHAVES</td>\n",
       "      <td>23</td>\n",
       "      <td>23.869565</td>\n",
       "      <td>NaN</td>\n",
       "      <td>NaN</td>\n",
       "      <td>0.0</td>\n",
       "      <td>01-10-2024</td>\n",
       "      <td>21</td>\n",
       "    </tr>\n",
       "    <tr>\n",
       "      <th>1</th>\n",
       "      <td>MUSC - S/P</td>\n",
       "      <td>A - MUSCULAÇÃO SEM PERSONAL</td>\n",
       "      <td>seg, ter, qua, qui, sex</td>\n",
       "      <td>06:00</td>\n",
       "      <td>MANHÃ</td>\n",
       "      <td>DANIEL CHAVES</td>\n",
       "      <td>23</td>\n",
       "      <td>31.043478</td>\n",
       "      <td>7.666667</td>\n",
       "      <td>NaN</td>\n",
       "      <td>3.0</td>\n",
       "      <td>01-10-2024</td>\n",
       "      <td>31</td>\n",
       "    </tr>\n",
       "  </tbody>\n",
       "</table>\n",
       "</div>"
      ],
      "text/plain": [
       "    CATEGORIA                   MODALIDADE            DIA DA SEMANA HORÁRIO  \\\n",
       "0  MUSC - C/P  A - MUSCULAÇÃO COM PERSONAL  seg, ter, qua, qui, sex   06:00   \n",
       "1  MUSC - S/P  A - MUSCULAÇÃO SEM PERSONAL  seg, ter, qua, qui, sex   06:00   \n",
       "\n",
       "   TURNO      PROFESSOR  Média alunos p/ professor      Média  \\\n",
       "0  MANHÃ  DANIEL CHAVES                         23  23.869565   \n",
       "1  MANHÃ  DANIEL CHAVES                         23  31.043478   \n",
       "\n",
       "   Alunos/professor  Ocupação Máxima  Professor Dias de Aulas  \\\n",
       "0               NaN              NaN        0.0    01-10-2024   \n",
       "1          7.666667              NaN        3.0    01-10-2024   \n",
       "\n",
       "   Frequencia de Alunos  \n",
       "0                    21  \n",
       "1                    31  "
      ]
     },
     "execution_count": 798,
     "metadata": {},
     "output_type": "execute_result"
    }
   ],
   "source": [
    "dataPARQ_melted.head(2)"
   ]
  },
  {
   "cell_type": "code",
   "execution_count": 799,
   "id": "8ac02773-187d-49dd-951d-f7bf1249b7fb",
   "metadata": {
    "colab": {
     "base_uri": "https://localhost:8080/"
    },
    "id": "8ac02773-187d-49dd-951d-f7bf1249b7fb",
    "outputId": "77c92af5-ddc2-4a4a-96f9-281f69e27b43"
   },
   "outputs": [
    {
     "data": {
      "text/plain": [
       "np.int64(19982)"
      ]
     },
     "execution_count": 799,
     "metadata": {},
     "output_type": "execute_result"
    }
   ],
   "source": [
    "dataPARQ_melted['Frequencia de Alunos'].sum()"
   ]
  },
  {
   "cell_type": "markdown",
   "id": "795ff8c9-343a-4efc-b89f-d93902c785bd",
   "metadata": {
    "id": "795ff8c9-343a-4efc-b89f-d93902c785bd"
   },
   "source": [
    "# PERSONAL [PERS] - PREPROCESSING 15"
   ]
  },
  {
   "cell_type": "code",
   "execution_count": 800,
   "id": "b9f6ca55-9f56-4b6d-afa3-dc5d09aa1a85",
   "metadata": {
    "id": "b9f6ca55-9f56-4b6d-afa3-dc5d09aa1a85"
   },
   "outputs": [],
   "source": [
    "data15 = pd.read_excel('base_de_frequencias_green_life_academias_dados_brutos.xlsx', sheet_name='PERS', skiprows=2, nrows=180)"
   ]
  },
  {
   "cell_type": "code",
   "execution_count": 801,
   "id": "16d7e117-11af-4abc-87da-ad17efcfbe77",
   "metadata": {
    "id": "16d7e117-11af-4abc-87da-ad17efcfbe77"
   },
   "outputs": [],
   "source": [
    "dataPERS = data15.copy()"
   ]
  },
  {
   "cell_type": "markdown",
   "id": "787ebf13-e80d-4dc5-9a81-edb0b1d1cb6b",
   "metadata": {
    "id": "787ebf13-e80d-4dc5-9a81-edb0b1d1cb6b"
   },
   "source": [
    "### 1 PASSO: Removendo colunas desnecessárias"
   ]
  },
  {
   "cell_type": "code",
   "execution_count": 802,
   "id": "c4f30753-877a-40e8-8f80-d0986b129c37",
   "metadata": {
    "colab": {
     "base_uri": "https://localhost:8080/",
     "height": 335
    },
    "id": "c4f30753-877a-40e8-8f80-d0986b129c37",
    "outputId": "2e1e995c-6df1-4ed0-8610-e15e9e6f2195"
   },
   "outputs": [
    {
     "data": {
      "text/html": [
       "<div>\n",
       "<style scoped>\n",
       "    .dataframe tbody tr th:only-of-type {\n",
       "        vertical-align: middle;\n",
       "    }\n",
       "\n",
       "    .dataframe tbody tr th {\n",
       "        vertical-align: top;\n",
       "    }\n",
       "\n",
       "    .dataframe thead th {\n",
       "        text-align: right;\n",
       "    }\n",
       "</style>\n",
       "<table border=\"1\" class=\"dataframe\">\n",
       "  <thead>\n",
       "    <tr style=\"text-align: right;\">\n",
       "      <th></th>\n",
       "      <th>Unnamed: 0</th>\n",
       "      <th>Unnamed: 1</th>\n",
       "      <th>Unnamed: 2</th>\n",
       "      <th>CATEGORIA</th>\n",
       "      <th>MODALIDADE</th>\n",
       "      <th>DIA DA SEMANA</th>\n",
       "      <th>HORÁRIO</th>\n",
       "      <th>AUX.1</th>\n",
       "      <th>TURNO</th>\n",
       "      <th>AUX 2</th>\n",
       "      <th>...</th>\n",
       "      <th>2024-10-25 00:00:00</th>\n",
       "      <th>2024-10-28 00:00:00</th>\n",
       "      <th>2024-10-29 00:00:00</th>\n",
       "      <th>2024-10-30 00:00:00</th>\n",
       "      <th>2024-10-31 00:00:00</th>\n",
       "      <th>Média alunos p/ professor</th>\n",
       "      <th>Média</th>\n",
       "      <th>Unnamed: 37</th>\n",
       "      <th>Unnamed: 38</th>\n",
       "      <th>0</th>\n",
       "    </tr>\n",
       "  </thead>\n",
       "  <tbody>\n",
       "    <tr>\n",
       "      <th>0</th>\n",
       "      <td>NaN</td>\n",
       "      <td>NaN</td>\n",
       "      <td>NaN</td>\n",
       "      <td>MUSC</td>\n",
       "      <td>A - MUSCULAÇÃO</td>\n",
       "      <td>seg, ter, qua, qui, sex</td>\n",
       "      <td>07:00:00</td>\n",
       "      <td>07:00</td>\n",
       "      <td>MANHÃ</td>\n",
       "      <td>A - MUSCULAÇÃO - 07:00</td>\n",
       "      <td>...</td>\n",
       "      <td>NaN</td>\n",
       "      <td>1</td>\n",
       "      <td>3</td>\n",
       "      <td>2.0</td>\n",
       "      <td>NaN</td>\n",
       "      <td>19</td>\n",
       "      <td>1.631579</td>\n",
       "      <td>NaN</td>\n",
       "      <td>NaN</td>\n",
       "      <td>NaN</td>\n",
       "    </tr>\n",
       "    <tr>\n",
       "      <th>1</th>\n",
       "      <td>NaN</td>\n",
       "      <td>NaN</td>\n",
       "      <td>NaN</td>\n",
       "      <td>MUSC</td>\n",
       "      <td>A - MUSCULAÇÃO</td>\n",
       "      <td>seg, ter, qua, qui, sex</td>\n",
       "      <td>08:00:00</td>\n",
       "      <td>08:00</td>\n",
       "      <td>MANHÃ</td>\n",
       "      <td>A - MUSCULAÇÃO - 08:00</td>\n",
       "      <td>...</td>\n",
       "      <td>S\\P</td>\n",
       "      <td>1</td>\n",
       "      <td>3</td>\n",
       "      <td>2.0</td>\n",
       "      <td>NaN</td>\n",
       "      <td>20</td>\n",
       "      <td>1.800000</td>\n",
       "      <td>NaN</td>\n",
       "      <td>NaN</td>\n",
       "      <td>NaN</td>\n",
       "    </tr>\n",
       "  </tbody>\n",
       "</table>\n",
       "<p>2 rows × 40 columns</p>\n",
       "</div>"
      ],
      "text/plain": [
       "   Unnamed: 0  Unnamed: 1  Unnamed: 2 CATEGORIA      MODALIDADE  \\\n",
       "0         NaN         NaN         NaN      MUSC  A - MUSCULAÇÃO   \n",
       "1         NaN         NaN         NaN      MUSC  A - MUSCULAÇÃO   \n",
       "\n",
       "             DIA DA SEMANA   HORÁRIO  AUX.1  TURNO                   AUX 2  \\\n",
       "0  seg, ter, qua, qui, sex  07:00:00  07:00  MANHÃ  A - MUSCULAÇÃO - 07:00   \n",
       "1  seg, ter, qua, qui, sex  08:00:00  08:00  MANHÃ  A - MUSCULAÇÃO - 08:00   \n",
       "\n",
       "   ... 2024-10-25 00:00:00 2024-10-28 00:00:00 2024-10-29 00:00:00  \\\n",
       "0  ...                 NaN                   1                   3   \n",
       "1  ...                 S\\P                   1                   3   \n",
       "\n",
       "  2024-10-30 00:00:00 2024-10-31 00:00:00 Média alunos p/ professor     Média  \\\n",
       "0                 2.0                 NaN                        19  1.631579   \n",
       "1                 2.0                 NaN                        20  1.800000   \n",
       "\n",
       "  Unnamed: 37 Unnamed: 38    0  \n",
       "0         NaN         NaN  NaN  \n",
       "1         NaN         NaN  NaN  \n",
       "\n",
       "[2 rows x 40 columns]"
      ]
     },
     "execution_count": 802,
     "metadata": {},
     "output_type": "execute_result"
    }
   ],
   "source": [
    "dataPERS.head(2)"
   ]
  },
  {
   "cell_type": "code",
   "execution_count": 803,
   "id": "46e76a84-4ab7-4664-b879-3ea4c768cc8e",
   "metadata": {
    "colab": {
     "base_uri": "https://localhost:8080/",
     "height": 1000
    },
    "id": "46e76a84-4ab7-4664-b879-3ea4c768cc8e",
    "outputId": "2aa95a6e-be1d-433e-b354-237327dce23f"
   },
   "outputs": [
    {
     "data": {
      "text/plain": [
       "Unnamed: 0                                                  NaN\n",
       "Unnamed: 1                                                  NaN\n",
       "Unnamed: 2                                                  NaN\n",
       "CATEGORIA                                                  MUSC\n",
       "MODALIDADE                                       A - MUSCULAÇÃO\n",
       "DIA DA SEMANA                           seg, ter, qua, qui, sex\n",
       "HORÁRIO                                                07:00:00\n",
       "AUX.1                                                     07:00\n",
       "TURNO                                                     MANHÃ\n",
       "AUX 2                                    A - MUSCULAÇÃO - 07:00\n",
       "PROFESSOR                                             AGOSTINHO\n",
       "AUX 3                        A - MUSCULAÇÃO - AGOSTINHO - 07:00\n",
       "2024-10-01 00:00:00                                           4\n",
       "2024-10-02 00:00:00                                         NaN\n",
       "2024-10-03 00:00:00                                           1\n",
       "2024-10-04 00:00:00                                           1\n",
       "2024-10-07 00:00:00                                           1\n",
       "2024-10-08 00:00:00                                           1\n",
       "2024-10-09 00:00:00                                           1\n",
       "2024-10-10 00:00:00                                           1\n",
       "2024-10-11 00:00:00                                           3\n",
       "2024-10-14 00:00:00                                           1\n",
       "2024-10-15 00:00:00                                           3\n",
       "2024-10-16 00:00:00                                           1\n",
       "2024-10-17 00:00:00                                         NaN\n",
       "2024-10-18 00:00:00                                         2.0\n",
       "2024-10-21 00:00:00                                           1\n",
       "2024-10-22 00:00:00                                         1.0\n",
       "2024-10-23 00:00:00                                         1.0\n",
       "2024-10-24 00:00:00                                         2.0\n",
       "2024-10-25 00:00:00                                         NaN\n",
       "2024-10-28 00:00:00                                           1\n",
       "2024-10-29 00:00:00                                           3\n",
       "2024-10-30 00:00:00                                         2.0\n",
       "2024-10-31 00:00:00                                         NaN\n",
       "Média alunos p/ professor                                    19\n",
       "Média                                                  1.631579\n",
       "Unnamed: 37                                                 NaN\n",
       "Unnamed: 38                                                 NaN\n",
       "0                                                           NaN\n",
       "Name: 0, dtype: object"
      ]
     },
     "execution_count": 803,
     "metadata": {},
     "output_type": "execute_result"
    }
   ],
   "source": [
    "dataPERS.iloc[0]"
   ]
  },
  {
   "cell_type": "code",
   "execution_count": 804,
   "id": "518f55c1-7eef-4b6b-a32b-a0efa44b9b3d",
   "metadata": {
    "colab": {
     "base_uri": "https://localhost:8080/",
     "height": 1000
    },
    "id": "518f55c1-7eef-4b6b-a32b-a0efa44b9b3d",
    "outputId": "f3122bb7-ca3a-47b5-8627-df36e18cacaf"
   },
   "outputs": [
    {
     "data": {
      "text/plain": [
       "Unnamed: 0                                       NaN\n",
       "Unnamed: 1                                       NaN\n",
       "Unnamed: 2                                       NaN\n",
       "CATEGORIA                                       MUSC\n",
       "MODALIDADE                               ALONGAMENTO\n",
       "DIA DA SEMANA                seg, ter, qua, qui, sex\n",
       "HORÁRIO                                     20:00:00\n",
       "AUX.1                                          20:00\n",
       "TURNO                                          NOITE\n",
       "AUX 2                            ALONGAMENTO - 20:00\n",
       "PROFESSOR                                        NaN\n",
       "AUX 3                         ALONGAMENTO -  - 20:00\n",
       "2024-10-01 00:00:00                                2\n",
       "2024-10-02 00:00:00                              NaN\n",
       "2024-10-03 00:00:00                              NaN\n",
       "2024-10-04 00:00:00                                1\n",
       "2024-10-07 00:00:00                                4\n",
       "2024-10-08 00:00:00                                4\n",
       "2024-10-09 00:00:00                              NaN\n",
       "2024-10-10 00:00:00                              NaN\n",
       "2024-10-11 00:00:00                              NaN\n",
       "2024-10-14 00:00:00                              NaN\n",
       "2024-10-15 00:00:00                              NaN\n",
       "2024-10-16 00:00:00                              NaN\n",
       "2024-10-17 00:00:00                              NaN\n",
       "2024-10-18 00:00:00                              NaN\n",
       "2024-10-21 00:00:00                              NaN\n",
       "2024-10-22 00:00:00                              NaN\n",
       "2024-10-23 00:00:00                              NaN\n",
       "2024-10-24 00:00:00                              NaN\n",
       "2024-10-25 00:00:00                              NaN\n",
       "2024-10-28 00:00:00                              NaN\n",
       "2024-10-29 00:00:00                              NaN\n",
       "2024-10-30 00:00:00                              NaN\n",
       "2024-10-31 00:00:00                              NaN\n",
       "Média alunos p/ professor                          4\n",
       "Média                                           2.75\n",
       "Unnamed: 37                                      NaN\n",
       "Unnamed: 38                                      NaN\n",
       "0                                                NaN\n",
       "Name: 178, dtype: object"
      ]
     },
     "execution_count": 804,
     "metadata": {},
     "output_type": "execute_result"
    }
   ],
   "source": [
    "dataPERS.iloc[-1]"
   ]
  },
  {
   "cell_type": "code",
   "execution_count": 805,
   "id": "57269a3a-25ea-4912-a076-92da688919f0",
   "metadata": {
    "id": "57269a3a-25ea-4912-a076-92da688919f0"
   },
   "outputs": [],
   "source": [
    "dropColumns = [\n",
    "'Unnamed: 0', 'Unnamed: 1', 'Unnamed: 2', 'HORÁRIO',\n",
    "'AUX 2', 'AUX 3', 'Unnamed: 37', 'Unnamed: 38']"
   ]
  },
  {
   "cell_type": "code",
   "execution_count": 806,
   "id": "9cd13579-d36a-47d7-b349-e27128c6ac70",
   "metadata": {
    "id": "9cd13579-d36a-47d7-b349-e27128c6ac70"
   },
   "outputs": [],
   "source": [
    "dataPERS.drop(columns=dropColumns, inplace=True)"
   ]
  },
  {
   "cell_type": "markdown",
   "id": "3b84b0c2-8199-4ee2-ab02-9222817d176b",
   "metadata": {
    "id": "3b84b0c2-8199-4ee2-ab02-9222817d176b"
   },
   "source": [
    "- PRECISAMOS RENOMEAR A COLUNA AUX.1 COMO HORARIO"
   ]
  },
  {
   "cell_type": "code",
   "execution_count": 807,
   "id": "7b8a7008-8582-449a-aaa1-ee77e00e7844",
   "metadata": {
    "id": "7b8a7008-8582-449a-aaa1-ee77e00e7844"
   },
   "outputs": [],
   "source": [
    "dataPERS.rename(columns={'AUX.1': 'HORÁRIO'}, inplace=True)"
   ]
  },
  {
   "cell_type": "markdown",
   "id": "f273833c-dbdb-4a79-a699-b8d82c3795c1",
   "metadata": {
    "id": "f273833c-dbdb-4a79-a699-b8d82c3795c1"
   },
   "source": [
    "### 2 PASSO: Renomeando strings de datas, para que o pandas possa aceitar como colunas"
   ]
  },
  {
   "cell_type": "code",
   "execution_count": 808,
   "id": "f552ae2f-aca2-4c3b-ba0c-18fb803ee6df",
   "metadata": {
    "colab": {
     "base_uri": "https://localhost:8080/"
    },
    "id": "f552ae2f-aca2-4c3b-ba0c-18fb803ee6df",
    "outputId": "789dc4e4-6cc5-4c2f-e5db-fe13a72cbda2"
   },
   "outputs": [
    {
     "name": "stdout",
     "output_type": "stream",
     "text": [
      "CATEGORIA\n",
      "MODALIDADE\n",
      "DIA DA SEMANA\n",
      "HORÁRIO\n",
      "TURNO\n",
      "PROFESSOR\n",
      "2024-10-01 00:00:00\n",
      "2024-10-02 00:00:00\n",
      "2024-10-03 00:00:00\n",
      "2024-10-04 00:00:00\n",
      "2024-10-07 00:00:00\n",
      "2024-10-08 00:00:00\n",
      "2024-10-09 00:00:00\n",
      "2024-10-10 00:00:00\n",
      "2024-10-11 00:00:00\n",
      "2024-10-14 00:00:00\n",
      "2024-10-15 00:00:00\n",
      "2024-10-16 00:00:00\n",
      "2024-10-17 00:00:00\n",
      "2024-10-18 00:00:00\n",
      "2024-10-21 00:00:00\n",
      "2024-10-22 00:00:00\n",
      "2024-10-23 00:00:00\n",
      "2024-10-24 00:00:00\n",
      "2024-10-25 00:00:00\n",
      "2024-10-28 00:00:00\n",
      "2024-10-29 00:00:00\n",
      "2024-10-30 00:00:00\n",
      "2024-10-31 00:00:00\n",
      "Média alunos p/ professor\n",
      "Média\n",
      "0\n"
     ]
    }
   ],
   "source": [
    "for columns in dataPERS.columns:\n",
    "    print(columns)"
   ]
  },
  {
   "cell_type": "code",
   "execution_count": 809,
   "id": "f94cd533-5958-4673-8b72-1b7559a0baed",
   "metadata": {
    "id": "f94cd533-5958-4673-8b72-1b7559a0baed"
   },
   "outputs": [],
   "source": [
    "dataPERS.columns = [\n",
    "'CATEGORIA',\n",
    "'MODALIDADE',\n",
    "'DIA DA SEMANA',\n",
    "'HORÁRIO',\n",
    "'TURNO',\n",
    "'PROFESSOR',\n",
    "'2024-10-01 00:00:00',\n",
    "'2024-10-02 00:00:00',\n",
    "'2024-10-03 00:00:00',\n",
    "'2024-10-04 00:00:00',\n",
    "'2024-10-07 00:00:00',\n",
    "'2024-10-08 00:00:00',\n",
    "'2024-10-09 00:00:00',\n",
    "'2024-10-10 00:00:00',\n",
    "'2024-10-11 00:00:00',\n",
    "'2024-10-14 00:00:00',\n",
    "'2024-10-15 00:00:00',\n",
    "'2024-10-16 00:00:00',\n",
    "'2024-10-17 00:00:00',\n",
    "'2024-10-18 00:00:00',\n",
    "'2024-10-21 00:00:00',\n",
    "'2024-10-22 00:00:00',\n",
    "'2024-10-23 00:00:00',\n",
    "'2024-10-24 00:00:00',\n",
    "'2024-10-25 00:00:00',\n",
    "'2024-10-28 00:00:00',\n",
    "'2024-10-29 00:00:00',\n",
    "'2024-10-30 00:00:00',\n",
    "'2024-10-31 00:00:00',\n",
    "'Média alunos p/ professor',\n",
    "'Média',\n",
    "'0']"
   ]
  },
  {
   "cell_type": "code",
   "execution_count": 810,
   "id": "d3b72894-620b-438f-9e74-5523e12730ec",
   "metadata": {
    "colab": {
     "base_uri": "https://localhost:8080/"
    },
    "id": "d3b72894-620b-438f-9e74-5523e12730ec",
    "outputId": "99560d5a-b81c-45e7-e54b-65ed2c9e54a7"
   },
   "outputs": [
    {
     "data": {
      "text/plain": [
       "array([nan, 0, 'Professor'], dtype=object)"
      ]
     },
     "execution_count": 810,
     "metadata": {},
     "output_type": "execute_result"
    }
   ],
   "source": [
    "dataPERS['0'].unique()"
   ]
  },
  {
   "cell_type": "code",
   "execution_count": 811,
   "id": "15fb079a-4c90-404a-b665-433afe4cc752",
   "metadata": {
    "colab": {
     "base_uri": "https://localhost:8080/"
    },
    "id": "15fb079a-4c90-404a-b665-433afe4cc752",
    "outputId": "cd577b82-f201-48c2-b143-45b56274792c"
   },
   "outputs": [
    {
     "data": {
      "text/plain": [
       "Index(['CATEGORIA', 'MODALIDADE', 'DIA DA SEMANA', 'HORÁRIO', 'TURNO',\n",
       "       'PROFESSOR', '2024-10-01 00:00:00', '2024-10-02 00:00:00',\n",
       "       '2024-10-03 00:00:00', '2024-10-04 00:00:00', '2024-10-07 00:00:00',\n",
       "       '2024-10-08 00:00:00', '2024-10-09 00:00:00', '2024-10-10 00:00:00',\n",
       "       '2024-10-11 00:00:00', '2024-10-14 00:00:00', '2024-10-15 00:00:00',\n",
       "       '2024-10-16 00:00:00', '2024-10-17 00:00:00', '2024-10-18 00:00:00',\n",
       "       '2024-10-21 00:00:00', '2024-10-22 00:00:00', '2024-10-23 00:00:00',\n",
       "       '2024-10-24 00:00:00', '2024-10-25 00:00:00', '2024-10-28 00:00:00',\n",
       "       '2024-10-29 00:00:00', '2024-10-30 00:00:00', '2024-10-31 00:00:00',\n",
       "       'Média alunos p/ professor', 'Média', '0'],\n",
       "      dtype='object')"
      ]
     },
     "execution_count": 811,
     "metadata": {},
     "output_type": "execute_result"
    }
   ],
   "source": [
    "dataPERS.columns"
   ]
  },
  {
   "cell_type": "code",
   "execution_count": 812,
   "id": "876c57e7-3e20-49da-a46f-534bd283368f",
   "metadata": {
    "colab": {
     "base_uri": "https://localhost:8080/",
     "height": 234
    },
    "id": "876c57e7-3e20-49da-a46f-534bd283368f",
    "outputId": "fca49828-225c-4721-9d06-425f361df719"
   },
   "outputs": [
    {
     "data": {
      "text/html": [
       "<div>\n",
       "<style scoped>\n",
       "    .dataframe tbody tr th:only-of-type {\n",
       "        vertical-align: middle;\n",
       "    }\n",
       "\n",
       "    .dataframe tbody tr th {\n",
       "        vertical-align: top;\n",
       "    }\n",
       "\n",
       "    .dataframe thead th {\n",
       "        text-align: right;\n",
       "    }\n",
       "</style>\n",
       "<table border=\"1\" class=\"dataframe\">\n",
       "  <thead>\n",
       "    <tr style=\"text-align: right;\">\n",
       "      <th></th>\n",
       "      <th>CATEGORIA</th>\n",
       "      <th>MODALIDADE</th>\n",
       "      <th>DIA DA SEMANA</th>\n",
       "      <th>HORÁRIO</th>\n",
       "      <th>TURNO</th>\n",
       "      <th>PROFESSOR</th>\n",
       "      <th>2024-10-01 00:00:00</th>\n",
       "      <th>2024-10-02 00:00:00</th>\n",
       "      <th>2024-10-03 00:00:00</th>\n",
       "      <th>2024-10-04 00:00:00</th>\n",
       "      <th>...</th>\n",
       "      <th>2024-10-23 00:00:00</th>\n",
       "      <th>2024-10-24 00:00:00</th>\n",
       "      <th>2024-10-25 00:00:00</th>\n",
       "      <th>2024-10-28 00:00:00</th>\n",
       "      <th>2024-10-29 00:00:00</th>\n",
       "      <th>2024-10-30 00:00:00</th>\n",
       "      <th>2024-10-31 00:00:00</th>\n",
       "      <th>Média alunos p/ professor</th>\n",
       "      <th>Média</th>\n",
       "      <th>0</th>\n",
       "    </tr>\n",
       "  </thead>\n",
       "  <tbody>\n",
       "    <tr>\n",
       "      <th>102</th>\n",
       "      <td>MUSC</td>\n",
       "      <td>A - MUSCULAÇÃO</td>\n",
       "      <td>seg, ter, qua, qui, sex</td>\n",
       "      <td>12:00</td>\n",
       "      <td>MANHÃ</td>\n",
       "      <td>LINCOLN</td>\n",
       "      <td>2</td>\n",
       "      <td>1</td>\n",
       "      <td>NaN</td>\n",
       "      <td>1</td>\n",
       "      <td>...</td>\n",
       "      <td>1.0</td>\n",
       "      <td>NaN</td>\n",
       "      <td>1</td>\n",
       "      <td>2</td>\n",
       "      <td>1</td>\n",
       "      <td>1.0</td>\n",
       "      <td>NaN</td>\n",
       "      <td>17</td>\n",
       "      <td>1.411765</td>\n",
       "      <td>Professor</td>\n",
       "    </tr>\n",
       "  </tbody>\n",
       "</table>\n",
       "<p>1 rows × 32 columns</p>\n",
       "</div>"
      ],
      "text/plain": [
       "    CATEGORIA      MODALIDADE            DIA DA SEMANA HORÁRIO  TURNO  \\\n",
       "102      MUSC  A - MUSCULAÇÃO  seg, ter, qua, qui, sex   12:00  MANHÃ   \n",
       "\n",
       "    PROFESSOR 2024-10-01 00:00:00 2024-10-02 00:00:00 2024-10-03 00:00:00  \\\n",
       "102   LINCOLN                   2                   1                 NaN   \n",
       "\n",
       "    2024-10-04 00:00:00  ... 2024-10-23 00:00:00 2024-10-24 00:00:00  \\\n",
       "102                   1  ...                 1.0                 NaN   \n",
       "\n",
       "    2024-10-25 00:00:00 2024-10-28 00:00:00 2024-10-29 00:00:00  \\\n",
       "102                   1                   2                   1   \n",
       "\n",
       "    2024-10-30 00:00:00 2024-10-31 00:00:00 Média alunos p/ professor  \\\n",
       "102                 1.0                 NaN                        17   \n",
       "\n",
       "        Média          0  \n",
       "102  1.411765  Professor  \n",
       "\n",
       "[1 rows x 32 columns]"
      ]
     },
     "execution_count": 812,
     "metadata": {},
     "output_type": "execute_result"
    }
   ],
   "source": [
    "search = (dataPERS['0'] == 'Professor')\n",
    "dataPERS[search]"
   ]
  },
  {
   "cell_type": "markdown",
   "id": "da306cf2-6f95-447e-99d6-1e15bc1e54ab",
   "metadata": {
    "id": "da306cf2-6f95-447e-99d6-1e15bc1e54ab"
   },
   "source": [
    "### PASSO 3: Escolhendo colunas com o nome de 'datas', para renomear pelo o tipo dia, mês e ano. e removendo os 00 de horas"
   ]
  },
  {
   "cell_type": "code",
   "execution_count": 813,
   "id": "f46f4e58-fadc-4314-bfeb-57322dd305ca",
   "metadata": {
    "id": "f46f4e58-fadc-4314-bfeb-57322dd305ca"
   },
   "outputs": [],
   "source": [
    "colunas = [\n",
    "'2024-10-01 00:00:00',\n",
    "'2024-10-02 00:00:00',\n",
    "'2024-10-03 00:00:00',\n",
    "'2024-10-04 00:00:00',\n",
    "'2024-10-07 00:00:00',\n",
    "'2024-10-08 00:00:00',\n",
    "'2024-10-09 00:00:00',\n",
    "'2024-10-10 00:00:00',\n",
    "'2024-10-11 00:00:00',\n",
    "'2024-10-14 00:00:00',\n",
    "'2024-10-15 00:00:00',\n",
    "'2024-10-16 00:00:00',\n",
    "'2024-10-17 00:00:00',\n",
    "'2024-10-18 00:00:00',\n",
    "'2024-10-21 00:00:00',\n",
    "'2024-10-22 00:00:00',\n",
    "'2024-10-23 00:00:00',\n",
    "'2024-10-24 00:00:00',\n",
    "'2024-10-25 00:00:00',\n",
    "'2024-10-28 00:00:00',\n",
    "'2024-10-29 00:00:00',\n",
    "'2024-10-30 00:00:00',\n",
    "'2024-10-31 00:00:00',\n",
    "]"
   ]
  },
  {
   "cell_type": "code",
   "execution_count": 814,
   "id": "c148f10f-1b95-41e1-be0d-39a753c113b5",
   "metadata": {
    "id": "c148f10f-1b95-41e1-be0d-39a753c113b5"
   },
   "outputs": [],
   "source": [
    "novas_colunas_PERS = []"
   ]
  },
  {
   "cell_type": "code",
   "execution_count": 815,
   "id": "aece2886-bfe7-4d35-881a-323b6e51c091",
   "metadata": {
    "id": "aece2886-bfe7-4d35-881a-323b6e51c091"
   },
   "outputs": [],
   "source": [
    "for columns in colunas:\n",
    "    # Remove a parte da hora\n",
    "    data_sem_hora = columns.split(' ')[0]\n",
    "\n",
    "    # Formata para o formato DD-MM-YYYY\n",
    "    ano, mes, dia = data_sem_hora.split('-')\n",
    "    novo_nome = f'{dia}-{mes}-{ano}'\n",
    "    novas_colunas_PERS.append(novo_nome)"
   ]
  },
  {
   "cell_type": "code",
   "execution_count": 816,
   "id": "c5aae134-54cc-4637-a2b5-740ae9a1889e",
   "metadata": {
    "colab": {
     "base_uri": "https://localhost:8080/"
    },
    "id": "c5aae134-54cc-4637-a2b5-740ae9a1889e",
    "outputId": "bb087e4c-2792-40e0-df89-05cc8d15e164"
   },
   "outputs": [
    {
     "data": {
      "text/plain": [
       "['01-10-2024',\n",
       " '02-10-2024',\n",
       " '03-10-2024',\n",
       " '04-10-2024',\n",
       " '07-10-2024',\n",
       " '08-10-2024',\n",
       " '09-10-2024',\n",
       " '10-10-2024',\n",
       " '11-10-2024',\n",
       " '14-10-2024',\n",
       " '15-10-2024',\n",
       " '16-10-2024',\n",
       " '17-10-2024',\n",
       " '18-10-2024',\n",
       " '21-10-2024',\n",
       " '22-10-2024',\n",
       " '23-10-2024',\n",
       " '24-10-2024',\n",
       " '25-10-2024',\n",
       " '28-10-2024',\n",
       " '29-10-2024',\n",
       " '30-10-2024',\n",
       " '31-10-2024']"
      ]
     },
     "execution_count": 816,
     "metadata": {},
     "output_type": "execute_result"
    }
   ],
   "source": [
    "novas_colunas_PERS"
   ]
  },
  {
   "cell_type": "markdown",
   "id": "a0f83893-1856-4760-9c2f-cf6c0b90ff11",
   "metadata": {
    "id": "a0f83893-1856-4760-9c2f-cf6c0b90ff11"
   },
   "source": [
    "### PASSO 4 renomeando colunas e acrescentando o novo formato"
   ]
  },
  {
   "cell_type": "markdown",
   "id": "9fc54169-5185-4bc2-ac41-472722fa715c",
   "metadata": {
    "id": "9fc54169-5185-4bc2-ac41-472722fa715c"
   },
   "source": [
    "copie as colunas que escolheu para renomear, e cole o formato novo no lugar das velhas"
   ]
  },
  {
   "cell_type": "code",
   "execution_count": 817,
   "id": "cf16fb1a-00b9-423b-868f-2bf10e782e5a",
   "metadata": {
    "id": "cf16fb1a-00b9-423b-868f-2bf10e782e5a"
   },
   "outputs": [],
   "source": [
    "# Adicionando as datas formatadas as colunas, copiando e colando"
   ]
  },
  {
   "cell_type": "code",
   "execution_count": 818,
   "id": "011f403b-d798-4b9a-9817-d944050ad63a",
   "metadata": {
    "colab": {
     "base_uri": "https://localhost:8080/"
    },
    "id": "011f403b-d798-4b9a-9817-d944050ad63a",
    "outputId": "788d10f6-0779-4fbc-c6e5-ca571c48d818"
   },
   "outputs": [
    {
     "name": "stdout",
     "output_type": "stream",
     "text": [
      "CATEGORIA\n",
      "MODALIDADE\n",
      "DIA DA SEMANA\n",
      "HORÁRIO\n",
      "TURNO\n",
      "PROFESSOR\n",
      "2024-10-01 00:00:00\n",
      "2024-10-02 00:00:00\n",
      "2024-10-03 00:00:00\n",
      "2024-10-04 00:00:00\n",
      "2024-10-07 00:00:00\n",
      "2024-10-08 00:00:00\n",
      "2024-10-09 00:00:00\n",
      "2024-10-10 00:00:00\n",
      "2024-10-11 00:00:00\n",
      "2024-10-14 00:00:00\n",
      "2024-10-15 00:00:00\n",
      "2024-10-16 00:00:00\n",
      "2024-10-17 00:00:00\n",
      "2024-10-18 00:00:00\n",
      "2024-10-21 00:00:00\n",
      "2024-10-22 00:00:00\n",
      "2024-10-23 00:00:00\n",
      "2024-10-24 00:00:00\n",
      "2024-10-25 00:00:00\n",
      "2024-10-28 00:00:00\n",
      "2024-10-29 00:00:00\n",
      "2024-10-30 00:00:00\n",
      "2024-10-31 00:00:00\n",
      "Média alunos p/ professor\n",
      "Média\n",
      "0\n"
     ]
    }
   ],
   "source": [
    "for columns in dataPERS.columns:\n",
    "    print (columns)"
   ]
  },
  {
   "cell_type": "code",
   "execution_count": 819,
   "id": "5df988a5-cca8-4003-9b94-6369fd3cc85e",
   "metadata": {
    "id": "5df988a5-cca8-4003-9b94-6369fd3cc85e"
   },
   "outputs": [],
   "source": [
    "dataPERS.columns = [\n",
    "'CATEGORIA',\n",
    "'MODALIDADE',\n",
    "'DIA DA SEMANA',\n",
    "'HORÁRIO',\n",
    "'TURNO',\n",
    "'PROFESSOR',\n",
    "'2024-10-01',\n",
    "'2024-10-02',\n",
    "'2024-10-03',\n",
    "'2024-10-04',\n",
    "'2024-10-07',\n",
    "'2024-10-08',\n",
    "'2024-10-09',\n",
    "'2024-10-10',\n",
    "'2024-10-11',\n",
    "'2024-10-14',\n",
    "'2024-10-15',\n",
    "'2024-10-16',\n",
    "'2024-10-17',\n",
    "'2024-10-18',\n",
    "'2024-10-21',\n",
    "'2024-10-22',\n",
    "'2024-10-23',\n",
    "'2024-10-24',\n",
    "'2024-10-25',\n",
    "'2024-10-28',\n",
    "'2024-10-29',\n",
    "'2024-10-30',\n",
    "'2024-10-31',\n",
    "'Média alunos p/ professor',\n",
    "'Média',\n",
    "'0']"
   ]
  },
  {
   "cell_type": "markdown",
   "id": "0fcb0cab-7e6e-42c8-ac31-d43fbc17c14c",
   "metadata": {
    "id": "0fcb0cab-7e6e-42c8-ac31-d43fbc17c14c"
   },
   "source": [
    "### 5 PASSO: Usar o Loop for para substitituir os valores das frequencia de 'x' e 'X' por zero, com o método do pd.to_numeric)"
   ]
  },
  {
   "cell_type": "code",
   "execution_count": 820,
   "id": "d6314e42-282d-47c4-afd4-e597eecf6df0",
   "metadata": {
    "id": "d6314e42-282d-47c4-afd4-e597eecf6df0"
   },
   "outputs": [],
   "source": [
    "colunas = [\n",
    "'2024-10-01',\n",
    "'2024-10-02',\n",
    "'2024-10-03',\n",
    "'2024-10-04',\n",
    "'2024-10-07',\n",
    "'2024-10-08',\n",
    "'2024-10-09',\n",
    "'2024-10-10',\n",
    "'2024-10-11',\n",
    "'2024-10-14',\n",
    "'2024-10-15',\n",
    "'2024-10-16',\n",
    "'2024-10-17',\n",
    "'2024-10-18',\n",
    "'2024-10-21',\n",
    "'2024-10-22',\n",
    "'2024-10-23',\n",
    "'2024-10-24',\n",
    "'2024-10-25',\n",
    "'2024-10-28',\n",
    "'2024-10-29',\n",
    "'2024-10-30',\n",
    "'2024-10-31',\n",
    "]"
   ]
  },
  {
   "cell_type": "markdown",
   "id": "bcf9414d-3f3a-4f9a-86b2-0bb9a46b0a22",
   "metadata": {
    "id": "bcf9414d-3f3a-4f9a-86b2-0bb9a46b0a22"
   },
   "source": [
    "Fazendo a limpeza profunda, formatando valores para numeros, preenchendo com zeros os nulos e transformando em inteiros"
   ]
  },
  {
   "cell_type": "code",
   "execution_count": 821,
   "id": "92be3ff4-5045-4a7f-8506-9829bf42566b",
   "metadata": {
    "id": "92be3ff4-5045-4a7f-8506-9829bf42566b"
   },
   "outputs": [],
   "source": [
    "for columns in colunas:\n",
    "    # dataMES[columns] = pd.to_numeric(dataMES[columns], errors='coerce')\n",
    "    dataPERS[columns] = pd.to_numeric(dataPERS[columns], errors='coerce').fillna(0).astype(int)"
   ]
  },
  {
   "cell_type": "markdown",
   "id": "bf836b6c-0aad-4b63-a3c5-64f2cc316df0",
   "metadata": {
    "id": "bf836b6c-0aad-4b63-a3c5-64f2cc316df0"
   },
   "source": [
    "### PASSO 6: MELT derretendo as colunas em formato de datas"
   ]
  },
  {
   "cell_type": "markdown",
   "id": "0b40de59-6186-4f99-9577-7a9815225133",
   "metadata": {
    "id": "0b40de59-6186-4f99-9577-7a9815225133"
   },
   "source": [
    "o MELT ele pega as colunas que estão na horizontal e cria uma coluna de categorias, e depois ele cria outra coluna com os valores dessas colunas que foram transformadas em dados categóricos"
   ]
  },
  {
   "cell_type": "code",
   "execution_count": 822,
   "id": "8bff8264-4e6c-4828-b15c-a7c05a523aa1",
   "metadata": {
    "id": "8bff8264-4e6c-4828-b15c-a7c05a523aa1"
   },
   "outputs": [],
   "source": [
    "colunas_para_melt = [\n",
    "'2024-10-01',\n",
    "'2024-10-02',\n",
    "'2024-10-03',\n",
    "'2024-10-04',\n",
    "'2024-10-07',\n",
    "'2024-10-08',\n",
    "'2024-10-09',\n",
    "'2024-10-10',\n",
    "'2024-10-11',\n",
    "'2024-10-14',\n",
    "'2024-10-15',\n",
    "'2024-10-16',\n",
    "'2024-10-17',\n",
    "'2024-10-18',\n",
    "'2024-10-21',\n",
    "'2024-10-22',\n",
    "'2024-10-23',\n",
    "'2024-10-24',\n",
    "'2024-10-25',\n",
    "'2024-10-28',\n",
    "'2024-10-29',\n",
    "'2024-10-30',\n",
    "'2024-10-31',\n",
    "]"
   ]
  },
  {
   "cell_type": "markdown",
   "id": "8d1025ae-4de4-4de9-89b0-7d854f9ab09d",
   "metadata": {
    "id": "8d1025ae-4de4-4de9-89b0-7d854f9ab09d"
   },
   "source": [
    "#### Indentificando as colunas que Eu quero manter em meu dataframe"
   ]
  },
  {
   "cell_type": "code",
   "execution_count": 823,
   "id": "857d1ad0-933c-487b-b689-402f7b41fc7b",
   "metadata": {
    "id": "857d1ad0-933c-487b-b689-402f7b41fc7b"
   },
   "outputs": [],
   "source": [
    "# Identifica as colunas que você quer manter como identificadoras (id_vars)\n",
    "# São as colunas que não serão \"unpivoted\"\n",
    "id_vars_cols = [columns for columns in dataPERS.columns if columns not in colunas_para_melt]"
   ]
  },
  {
   "cell_type": "code",
   "execution_count": 824,
   "id": "5cdbf96e-59c8-4ade-9cd4-1d78bac4c49e",
   "metadata": {
    "id": "5cdbf96e-59c8-4ade-9cd4-1d78bac4c49e"
   },
   "outputs": [],
   "source": [
    "dataPERS_melted = pd.melt(dataPERS,\n",
    "                      id_vars=id_vars_cols, #colunas que Eu deixei, que ficaram.\n",
    "                      value_vars=colunas_para_melt, #colunas que vão se transformar.\n",
    "                      var_name='Dias de Aulas', # nome da coluna categorica\n",
    "                      value_name='Frequencia de Alunos') # nome da coluna de valores"
   ]
  },
  {
   "cell_type": "code",
   "execution_count": 825,
   "id": "c620486a-89bc-4eaf-b7a6-4080d95cb4bb",
   "metadata": {
    "colab": {
     "base_uri": "https://localhost:8080/",
     "height": 164
    },
    "id": "c620486a-89bc-4eaf-b7a6-4080d95cb4bb",
    "outputId": "839c40a7-223f-4229-d858-ee5a335f42ef"
   },
   "outputs": [
    {
     "data": {
      "text/html": [
       "<div>\n",
       "<style scoped>\n",
       "    .dataframe tbody tr th:only-of-type {\n",
       "        vertical-align: middle;\n",
       "    }\n",
       "\n",
       "    .dataframe tbody tr th {\n",
       "        vertical-align: top;\n",
       "    }\n",
       "\n",
       "    .dataframe thead th {\n",
       "        text-align: right;\n",
       "    }\n",
       "</style>\n",
       "<table border=\"1\" class=\"dataframe\">\n",
       "  <thead>\n",
       "    <tr style=\"text-align: right;\">\n",
       "      <th></th>\n",
       "      <th>CATEGORIA</th>\n",
       "      <th>MODALIDADE</th>\n",
       "      <th>DIA DA SEMANA</th>\n",
       "      <th>HORÁRIO</th>\n",
       "      <th>TURNO</th>\n",
       "      <th>PROFESSOR</th>\n",
       "      <th>Média alunos p/ professor</th>\n",
       "      <th>Média</th>\n",
       "      <th>0</th>\n",
       "      <th>Dias de Aulas</th>\n",
       "      <th>Frequencia de Alunos</th>\n",
       "    </tr>\n",
       "  </thead>\n",
       "  <tbody>\n",
       "    <tr>\n",
       "      <th>0</th>\n",
       "      <td>MUSC</td>\n",
       "      <td>A - MUSCULAÇÃO</td>\n",
       "      <td>seg, ter, qua, qui, sex</td>\n",
       "      <td>07:00</td>\n",
       "      <td>MANHÃ</td>\n",
       "      <td>AGOSTINHO</td>\n",
       "      <td>19</td>\n",
       "      <td>1.631579</td>\n",
       "      <td>NaN</td>\n",
       "      <td>2024-10-01</td>\n",
       "      <td>4</td>\n",
       "    </tr>\n",
       "    <tr>\n",
       "      <th>1</th>\n",
       "      <td>MUSC</td>\n",
       "      <td>A - MUSCULAÇÃO</td>\n",
       "      <td>seg, ter, qua, qui, sex</td>\n",
       "      <td>08:00</td>\n",
       "      <td>MANHÃ</td>\n",
       "      <td>AGOSTINHO</td>\n",
       "      <td>20</td>\n",
       "      <td>1.800000</td>\n",
       "      <td>NaN</td>\n",
       "      <td>2024-10-01</td>\n",
       "      <td>1</td>\n",
       "    </tr>\n",
       "  </tbody>\n",
       "</table>\n",
       "</div>"
      ],
      "text/plain": [
       "  CATEGORIA      MODALIDADE            DIA DA SEMANA HORÁRIO  TURNO  \\\n",
       "0      MUSC  A - MUSCULAÇÃO  seg, ter, qua, qui, sex   07:00  MANHÃ   \n",
       "1      MUSC  A - MUSCULAÇÃO  seg, ter, qua, qui, sex   08:00  MANHÃ   \n",
       "\n",
       "   PROFESSOR Média alunos p/ professor     Média    0 Dias de Aulas  \\\n",
       "0  AGOSTINHO                        19  1.631579  NaN    2024-10-01   \n",
       "1  AGOSTINHO                        20  1.800000  NaN    2024-10-01   \n",
       "\n",
       "   Frequencia de Alunos  \n",
       "0                     4  \n",
       "1                     1  "
      ]
     },
     "execution_count": 825,
     "metadata": {},
     "output_type": "execute_result"
    }
   ],
   "source": [
    "dataPERS_melted.head(2)"
   ]
  },
  {
   "cell_type": "code",
   "execution_count": 826,
   "id": "6a7d800c-fc02-4e51-bfc0-30f8da2ac1be",
   "metadata": {
    "id": "6a7d800c-fc02-4e51-bfc0-30f8da2ac1be"
   },
   "outputs": [],
   "source": [
    "del dataPERS_melted['0']"
   ]
  },
  {
   "cell_type": "code",
   "execution_count": 827,
   "id": "bc3795b3-6e3c-4cbb-bfa7-357e3e03ce47",
   "metadata": {
    "colab": {
     "base_uri": "https://localhost:8080/"
    },
    "id": "bc3795b3-6e3c-4cbb-bfa7-357e3e03ce47",
    "outputId": "d391f3aa-cacd-443f-9315-d98bbacf21af"
   },
   "outputs": [
    {
     "data": {
      "text/plain": [
       "np.int64(4990)"
      ]
     },
     "execution_count": 827,
     "metadata": {},
     "output_type": "execute_result"
    }
   ],
   "source": [
    "dataPERS_melted['Frequencia de Alunos'].sum()"
   ]
  },
  {
   "cell_type": "markdown",
   "id": "f43fc27a-6abc-4287-800f-f1c6f3757a6b",
   "metadata": {
    "id": "f43fc27a-6abc-4287-800f-f1c6f3757a6b"
   },
   "source": [
    "# JÓQUEI [JÓQ] - PREPROCESSING 16"
   ]
  },
  {
   "cell_type": "code",
   "execution_count": 828,
   "id": "4807ade6-b18b-4d13-9431-0d107576b3a7",
   "metadata": {
    "id": "4807ade6-b18b-4d13-9431-0d107576b3a7"
   },
   "outputs": [],
   "source": [
    "data16 = pd.read_excel('base_de_frequencias_green_life_academias_dados_brutos.xlsx', sheet_name='JÓQ', skiprows=1, nrows=106)"
   ]
  },
  {
   "cell_type": "code",
   "execution_count": 829,
   "id": "e9d40ecc-e7db-45d4-9719-101619e5407a",
   "metadata": {
    "id": "e9d40ecc-e7db-45d4-9719-101619e5407a"
   },
   "outputs": [],
   "source": [
    "dataJOQ = data16.copy()"
   ]
  },
  {
   "cell_type": "markdown",
   "id": "cb6f9ddb-3362-408e-a5b3-c83e5b1d7681",
   "metadata": {
    "id": "cb6f9ddb-3362-408e-a5b3-c83e5b1d7681"
   },
   "source": [
    "### 1 PASSO: Removendo colunas desnecessárias"
   ]
  },
  {
   "cell_type": "code",
   "execution_count": 830,
   "id": "c636f94c-e8b4-461b-9047-69467861c811",
   "metadata": {
    "colab": {
     "base_uri": "https://localhost:8080/",
     "height": 335
    },
    "id": "c636f94c-e8b4-461b-9047-69467861c811",
    "outputId": "66728f18-0e0c-44f2-9ea5-d37f24a8b6c1"
   },
   "outputs": [
    {
     "data": {
      "text/html": [
       "<div>\n",
       "<style scoped>\n",
       "    .dataframe tbody tr th:only-of-type {\n",
       "        vertical-align: middle;\n",
       "    }\n",
       "\n",
       "    .dataframe tbody tr th {\n",
       "        vertical-align: top;\n",
       "    }\n",
       "\n",
       "    .dataframe thead th {\n",
       "        text-align: right;\n",
       "    }\n",
       "</style>\n",
       "<table border=\"1\" class=\"dataframe\">\n",
       "  <thead>\n",
       "    <tr style=\"text-align: right;\">\n",
       "      <th></th>\n",
       "      <th>Unnamed: 0</th>\n",
       "      <th>Unnamed: 1</th>\n",
       "      <th>Unnamed: 2</th>\n",
       "      <th>CATEGORIA</th>\n",
       "      <th>MODALIDADE</th>\n",
       "      <th>DIA DA SEMANA</th>\n",
       "      <th>HORÁRIO</th>\n",
       "      <th>AUX.1</th>\n",
       "      <th>TURNO</th>\n",
       "      <th>AUX 2</th>\n",
       "      <th>...</th>\n",
       "      <th>2024-10-25 00:00:00</th>\n",
       "      <th>2024-10-28 00:00:00</th>\n",
       "      <th>2024-10-29 00:00:00</th>\n",
       "      <th>2024-10-30 00:00:00</th>\n",
       "      <th>2024-10-31 00:00:00</th>\n",
       "      <th>Aulas/mês</th>\n",
       "      <th>Média</th>\n",
       "      <th>Alunos/professor</th>\n",
       "      <th>Ocupação Máxima</th>\n",
       "      <th>Professor</th>\n",
       "    </tr>\n",
       "  </thead>\n",
       "  <tbody>\n",
       "    <tr>\n",
       "      <th>0</th>\n",
       "      <td>NaN</td>\n",
       "      <td>NaN</td>\n",
       "      <td>NaN</td>\n",
       "      <td>QUADRA</td>\n",
       "      <td>BEACH TENIS INICIANTE</td>\n",
       "      <td>seg, ter, qua, qui, sex</td>\n",
       "      <td>06:00:00</td>\n",
       "      <td>06:00</td>\n",
       "      <td>MANHÃ</td>\n",
       "      <td>BEACH TENIS INICIANTE - 06:00</td>\n",
       "      <td>...</td>\n",
       "      <td>1</td>\n",
       "      <td>1</td>\n",
       "      <td>0</td>\n",
       "      <td>1</td>\n",
       "      <td>0</td>\n",
       "      <td>23</td>\n",
       "      <td>0.391304</td>\n",
       "      <td>NaN</td>\n",
       "      <td>NaN</td>\n",
       "      <td>0.0</td>\n",
       "    </tr>\n",
       "    <tr>\n",
       "      <th>1</th>\n",
       "      <td>NaN</td>\n",
       "      <td>NaN</td>\n",
       "      <td>NaN</td>\n",
       "      <td>ADULTO</td>\n",
       "      <td>CROSSFIT</td>\n",
       "      <td>seg, ter, qua, qui, sex</td>\n",
       "      <td>06:00:00</td>\n",
       "      <td>06:00</td>\n",
       "      <td>MANHÃ</td>\n",
       "      <td>CROSSFIT - 06:00</td>\n",
       "      <td>...</td>\n",
       "      <td>9</td>\n",
       "      <td>7</td>\n",
       "      <td>6</td>\n",
       "      <td>7</td>\n",
       "      <td>5</td>\n",
       "      <td>23</td>\n",
       "      <td>6.826087</td>\n",
       "      <td>NaN</td>\n",
       "      <td>NaN</td>\n",
       "      <td>0.0</td>\n",
       "    </tr>\n",
       "  </tbody>\n",
       "</table>\n",
       "<p>2 rows × 40 columns</p>\n",
       "</div>"
      ],
      "text/plain": [
       "   Unnamed: 0  Unnamed: 1  Unnamed: 2 CATEGORIA             MODALIDADE  \\\n",
       "0         NaN         NaN         NaN    QUADRA  BEACH TENIS INICIANTE   \n",
       "1         NaN         NaN         NaN    ADULTO               CROSSFIT   \n",
       "\n",
       "             DIA DA SEMANA   HORÁRIO  AUX.1  TURNO  \\\n",
       "0  seg, ter, qua, qui, sex  06:00:00  06:00  MANHÃ   \n",
       "1  seg, ter, qua, qui, sex  06:00:00  06:00  MANHÃ   \n",
       "\n",
       "                           AUX 2  ... 2024-10-25 00:00:00 2024-10-28 00:00:00  \\\n",
       "0  BEACH TENIS INICIANTE - 06:00  ...                   1                   1   \n",
       "1               CROSSFIT - 06:00  ...                   9                   7   \n",
       "\n",
       "  2024-10-29 00:00:00 2024-10-30 00:00:00 2024-10-31 00:00:00 Aulas/mês  \\\n",
       "0                   0                   1                   0        23   \n",
       "1                   6                   7                   5        23   \n",
       "\n",
       "      Média Alunos/professor Ocupação Máxima Professor  \n",
       "0  0.391304              NaN             NaN       0.0  \n",
       "1  6.826087              NaN             NaN       0.0  \n",
       "\n",
       "[2 rows x 40 columns]"
      ]
     },
     "execution_count": 830,
     "metadata": {},
     "output_type": "execute_result"
    }
   ],
   "source": [
    "dataJOQ.head(2)"
   ]
  },
  {
   "cell_type": "code",
   "execution_count": 831,
   "id": "f5f744ab-2e9c-4230-b191-822afc6b2976",
   "metadata": {
    "colab": {
     "base_uri": "https://localhost:8080/",
     "height": 1000
    },
    "id": "f5f744ab-2e9c-4230-b191-822afc6b2976",
    "outputId": "99c768be-76e8-4b6d-f538-b8888f820c12"
   },
   "outputs": [
    {
     "data": {
      "text/plain": [
       "Unnamed: 0                                              NaN\n",
       "Unnamed: 1                                              NaN\n",
       "Unnamed: 2                                              NaN\n",
       "CATEGORIA                                            QUADRA\n",
       "MODALIDADE                            BEACH TENIS INICIANTE\n",
       "DIA DA SEMANA                       seg, ter, qua, qui, sex\n",
       "HORÁRIO                                            06:00:00\n",
       "AUX.1                                                 06:00\n",
       "TURNO                                                 MANHÃ\n",
       "AUX 2                         BEACH TENIS INICIANTE - 06:00\n",
       "PROFESSOR                                      ANTONIO RYAN\n",
       "AUX 3                  BEACH TENIS INICIANTE - ANTONIO RYAN\n",
       "2024-10-01 00:00:00                                       0\n",
       "2024-10-02 00:00:00                                       0\n",
       "2024-10-03 00:00:00                                       1\n",
       "2024-10-04 00:00:00                                       1\n",
       "2024-10-07 00:00:00                                       1\n",
       "2024-10-08 00:00:00                                       0\n",
       "2024-10-09 00:00:00                                       1\n",
       "2024-10-10 00:00:00                                       0\n",
       "2024-10-11 00:00:00                                       0\n",
       "2024-10-14 00:00:00                                       0\n",
       "2024-10-15 00:00:00                                       0\n",
       "2024-10-16 00:00:00                                       1\n",
       "2024-10-17 00:00:00                                       0\n",
       "2024-10-18 00:00:00                                       0\n",
       "2024-10-21 00:00:00                                       0\n",
       "2024-10-22 00:00:00                                       1\n",
       "2024-10-23 00:00:00                                       0\n",
       "2024-10-24 00:00:00                                       0\n",
       "2024-10-25 00:00:00                                       1\n",
       "2024-10-28 00:00:00                                       1\n",
       "2024-10-29 00:00:00                                       0\n",
       "2024-10-30 00:00:00                                       1\n",
       "2024-10-31 00:00:00                                       0\n",
       "Aulas/mês                                                23\n",
       "Média                                              0.391304\n",
       "Alunos/professor                                        NaN\n",
       "Ocupação Máxima                                         NaN\n",
       "Professor                                               0.0\n",
       "Name: 0, dtype: object"
      ]
     },
     "execution_count": 831,
     "metadata": {},
     "output_type": "execute_result"
    }
   ],
   "source": [
    "dataJOQ.iloc[0]"
   ]
  },
  {
   "cell_type": "code",
   "execution_count": 832,
   "id": "53226c97-62d7-459e-8686-829b30e09ea3",
   "metadata": {
    "colab": {
     "base_uri": "https://localhost:8080/",
     "height": 1000
    },
    "id": "53226c97-62d7-459e-8686-829b30e09ea3",
    "outputId": "0682f979-c813-4daa-a0d3-803e9bd6ede2"
   },
   "outputs": [
    {
     "data": {
      "text/plain": [
       "Unnamed: 0                                             NaN\n",
       "Unnamed: 1                                             NaN\n",
       "Unnamed: 2                                             NaN\n",
       "CATEGORIA                                       MUSC - C/P\n",
       "MODALIDADE                     A - MUSCULAÇÃO COM PERSONAL\n",
       "DIA DA SEMANA                      seg, ter, qua, qui, sex\n",
       "HORÁRIO                                           22:00:00\n",
       "AUX.1                                                22:00\n",
       "TURNO                                                NOITE\n",
       "AUX 2                  A - MUSCULAÇÃO COM PERSONAL - 22:00\n",
       "PROFESSOR                                            LUCAS\n",
       "AUX 3                  A - MUSCULAÇÃO COM PERSONAL - LUCAS\n",
       "2024-10-01 00:00:00                                      0\n",
       "2024-10-02 00:00:00                                      0\n",
       "2024-10-03 00:00:00                                      0\n",
       "2024-10-04 00:00:00                                      0\n",
       "2024-10-07 00:00:00                                      0\n",
       "2024-10-08 00:00:00                                      1\n",
       "2024-10-09 00:00:00                                    NaN\n",
       "2024-10-10 00:00:00                                      1\n",
       "2024-10-11 00:00:00                                      0\n",
       "2024-10-14 00:00:00                                      0\n",
       "2024-10-15 00:00:00                                      1\n",
       "2024-10-16 00:00:00                                      0\n",
       "2024-10-17 00:00:00                                      2\n",
       "2024-10-18 00:00:00                                    NaN\n",
       "2024-10-21 00:00:00                                      2\n",
       "2024-10-22 00:00:00                                      1\n",
       "2024-10-23 00:00:00                                      0\n",
       "2024-10-24 00:00:00                                      1\n",
       "2024-10-25 00:00:00                                      0\n",
       "2024-10-28 00:00:00                                      0\n",
       "2024-10-29 00:00:00                                      1\n",
       "2024-10-30 00:00:00                                      0\n",
       "2024-10-31 00:00:00                                    NaN\n",
       "Aulas/mês                                               20\n",
       "Média                                                  0.5\n",
       "Alunos/professor                                       NaN\n",
       "Ocupação Máxima                                        NaN\n",
       "Professor                                              0.0\n",
       "Name: 105, dtype: object"
      ]
     },
     "execution_count": 832,
     "metadata": {},
     "output_type": "execute_result"
    }
   ],
   "source": [
    "dataJOQ.iloc[-1]"
   ]
  },
  {
   "cell_type": "code",
   "execution_count": 833,
   "id": "92e2bcf6-885c-4fec-8eac-2b8f85b45237",
   "metadata": {
    "id": "92e2bcf6-885c-4fec-8eac-2b8f85b45237"
   },
   "outputs": [],
   "source": [
    "dropColumns = [\n",
    "'Unnamed: 0', 'Unnamed: 1', 'Unnamed: 2', 'HORÁRIO',\n",
    "'AUX 2', 'AUX 3']"
   ]
  },
  {
   "cell_type": "code",
   "execution_count": 834,
   "id": "912a9410-6018-4448-994b-b1b1be21aac3",
   "metadata": {
    "id": "912a9410-6018-4448-994b-b1b1be21aac3"
   },
   "outputs": [],
   "source": [
    "dataJOQ.drop(columns=dropColumns, inplace=True)"
   ]
  },
  {
   "cell_type": "markdown",
   "id": "00dfa1f9-a414-44e4-b708-d9f76b869d09",
   "metadata": {
    "id": "00dfa1f9-a414-44e4-b708-d9f76b869d09"
   },
   "source": [
    "- PRECISAMOS RENOMEAR A COLUNA AUX.1 COMO HORARIO"
   ]
  },
  {
   "cell_type": "code",
   "execution_count": 835,
   "id": "ab90ead4-2019-4d16-af6d-d95fa9e0408c",
   "metadata": {
    "id": "ab90ead4-2019-4d16-af6d-d95fa9e0408c"
   },
   "outputs": [],
   "source": [
    "dataJOQ.rename(columns={'AUX.1': 'HORÁRIO'}, inplace=True)"
   ]
  },
  {
   "cell_type": "markdown",
   "id": "2306cda3-0107-4917-834a-f4bec797792b",
   "metadata": {
    "id": "2306cda3-0107-4917-834a-f4bec797792b"
   },
   "source": [
    "### 2 PASSO: Renomeando strings de datas, para que o pandas possa aceitar como colunas"
   ]
  },
  {
   "cell_type": "code",
   "execution_count": 836,
   "id": "796a0d24-356a-49a7-90f2-0950fc9c63ee",
   "metadata": {
    "colab": {
     "base_uri": "https://localhost:8080/"
    },
    "id": "796a0d24-356a-49a7-90f2-0950fc9c63ee",
    "outputId": "26eb0e9f-345d-49cf-9e78-d3567e83d177"
   },
   "outputs": [
    {
     "name": "stdout",
     "output_type": "stream",
     "text": [
      "CATEGORIA\n",
      "MODALIDADE\n",
      "DIA DA SEMANA\n",
      "HORÁRIO\n",
      "TURNO\n",
      "PROFESSOR\n",
      "2024-10-01 00:00:00\n",
      "2024-10-02 00:00:00\n",
      "2024-10-03 00:00:00\n",
      "2024-10-04 00:00:00\n",
      "2024-10-07 00:00:00\n",
      "2024-10-08 00:00:00\n",
      "2024-10-09 00:00:00\n",
      "2024-10-10 00:00:00\n",
      "2024-10-11 00:00:00\n",
      "2024-10-14 00:00:00\n",
      "2024-10-15 00:00:00\n",
      "2024-10-16 00:00:00\n",
      "2024-10-17 00:00:00\n",
      "2024-10-18 00:00:00\n",
      "2024-10-21 00:00:00\n",
      "2024-10-22 00:00:00\n",
      "2024-10-23 00:00:00\n",
      "2024-10-24 00:00:00\n",
      "2024-10-25 00:00:00\n",
      "2024-10-28 00:00:00\n",
      "2024-10-29 00:00:00\n",
      "2024-10-30 00:00:00\n",
      "2024-10-31 00:00:00\n",
      "Aulas/mês\n",
      "Média\n",
      "Alunos/professor\n",
      "Ocupação Máxima\n",
      "Professor\n"
     ]
    }
   ],
   "source": [
    "for columns in dataJOQ.columns:\n",
    "    print(columns)"
   ]
  },
  {
   "cell_type": "code",
   "execution_count": 837,
   "id": "a5222e6b-d9cb-4baa-bf7d-e331e73118bf",
   "metadata": {
    "id": "a5222e6b-d9cb-4baa-bf7d-e331e73118bf"
   },
   "outputs": [],
   "source": [
    "dataJOQ.columns = [\n",
    "'CATEGORIA',\n",
    "'MODALIDADE',\n",
    "'DIA DA SEMANA',\n",
    "'HORÁRIO',\n",
    "'TURNO',\n",
    "'PROFESSOR',\n",
    "'2024-10-01 00:00:00',\n",
    "'2024-10-02 00:00:00',\n",
    "'2024-10-03 00:00:00',\n",
    "'2024-10-04 00:00:00',\n",
    "'2024-10-07 00:00:00',\n",
    "'2024-10-08 00:00:00',\n",
    "'2024-10-09 00:00:00',\n",
    "'2024-10-10 00:00:00',\n",
    "'2024-10-11 00:00:00',\n",
    "'2024-10-14 00:00:00',\n",
    "'2024-10-15 00:00:00',\n",
    "'2024-10-16 00:00:00',\n",
    "'2024-10-17 00:00:00',\n",
    "'2024-10-18 00:00:00',\n",
    "'2024-10-21 00:00:00',\n",
    "'2024-10-22 00:00:00',\n",
    "'2024-10-23 00:00:00',\n",
    "'2024-10-24 00:00:00',\n",
    "'2024-10-25 00:00:00',\n",
    "'2024-10-28 00:00:00',\n",
    "'2024-10-29 00:00:00',\n",
    "'2024-10-30 00:00:00',\n",
    "'2024-10-31 00:00:00',\n",
    "'Aulas/mês',\n",
    "'Média',\n",
    "'Alunos/professor',\n",
    "'Ocupação Máxima',\n",
    "'Professor']"
   ]
  },
  {
   "cell_type": "code",
   "execution_count": 838,
   "id": "a42278d6-e062-4d7d-976c-04c9c2888613",
   "metadata": {
    "colab": {
     "base_uri": "https://localhost:8080/"
    },
    "id": "a42278d6-e062-4d7d-976c-04c9c2888613",
    "outputId": "ab83801e-8345-469a-bb21-cc5935a4d7d3"
   },
   "outputs": [
    {
     "data": {
      "text/plain": [
       "Index(['CATEGORIA', 'MODALIDADE', 'DIA DA SEMANA', 'HORÁRIO', 'TURNO',\n",
       "       'PROFESSOR', '2024-10-01 00:00:00', '2024-10-02 00:00:00',\n",
       "       '2024-10-03 00:00:00', '2024-10-04 00:00:00', '2024-10-07 00:00:00',\n",
       "       '2024-10-08 00:00:00', '2024-10-09 00:00:00', '2024-10-10 00:00:00',\n",
       "       '2024-10-11 00:00:00', '2024-10-14 00:00:00', '2024-10-15 00:00:00',\n",
       "       '2024-10-16 00:00:00', '2024-10-17 00:00:00', '2024-10-18 00:00:00',\n",
       "       '2024-10-21 00:00:00', '2024-10-22 00:00:00', '2024-10-23 00:00:00',\n",
       "       '2024-10-24 00:00:00', '2024-10-25 00:00:00', '2024-10-28 00:00:00',\n",
       "       '2024-10-29 00:00:00', '2024-10-30 00:00:00', '2024-10-31 00:00:00',\n",
       "       'Aulas/mês', 'Média', 'Alunos/professor', 'Ocupação Máxima',\n",
       "       'Professor'],\n",
       "      dtype='object')"
      ]
     },
     "execution_count": 838,
     "metadata": {},
     "output_type": "execute_result"
    }
   ],
   "source": [
    "dataJOQ.columns"
   ]
  },
  {
   "cell_type": "markdown",
   "id": "69fe6524-1172-4228-97ca-231413366491",
   "metadata": {
    "id": "69fe6524-1172-4228-97ca-231413366491"
   },
   "source": [
    "### PASSO 3: Escolhendo colunas com o nome de 'datas', para renomear pelo o tipo dia, mês e ano. e removendo os 00 de horas"
   ]
  },
  {
   "cell_type": "code",
   "execution_count": 839,
   "id": "8c696286-c244-4869-b3f6-98b5877ff45e",
   "metadata": {
    "id": "8c696286-c244-4869-b3f6-98b5877ff45e"
   },
   "outputs": [],
   "source": [
    "colunas = [\n",
    "'2024-10-01 00:00:00',\n",
    "'2024-10-02 00:00:00',\n",
    "'2024-10-03 00:00:00',\n",
    "'2024-10-04 00:00:00',\n",
    "'2024-10-07 00:00:00',\n",
    "'2024-10-08 00:00:00',\n",
    "'2024-10-09 00:00:00',\n",
    "'2024-10-10 00:00:00',\n",
    "'2024-10-11 00:00:00',\n",
    "'2024-10-14 00:00:00',\n",
    "'2024-10-15 00:00:00',\n",
    "'2024-10-16 00:00:00',\n",
    "'2024-10-17 00:00:00',\n",
    "'2024-10-18 00:00:00',\n",
    "'2024-10-21 00:00:00',\n",
    "'2024-10-22 00:00:00',\n",
    "'2024-10-23 00:00:00',\n",
    "'2024-10-24 00:00:00',\n",
    "'2024-10-25 00:00:00',\n",
    "'2024-10-28 00:00:00',\n",
    "'2024-10-29 00:00:00',\n",
    "'2024-10-30 00:00:00',\n",
    "'2024-10-31 00:00:00']"
   ]
  },
  {
   "cell_type": "code",
   "execution_count": 840,
   "id": "5c1196a1-026e-45e7-8532-98e2abcd1786",
   "metadata": {
    "id": "5c1196a1-026e-45e7-8532-98e2abcd1786"
   },
   "outputs": [],
   "source": [
    "novas_colunas_JOQ = []"
   ]
  },
  {
   "cell_type": "code",
   "execution_count": 841,
   "id": "c62f0018-0c31-43da-b814-de0ff3bbb15c",
   "metadata": {
    "id": "c62f0018-0c31-43da-b814-de0ff3bbb15c"
   },
   "outputs": [],
   "source": [
    "for columns in colunas:\n",
    "    # Remove a parte da hora\n",
    "    data_sem_hora = columns.split(' ')[0]\n",
    "\n",
    "    # Formata para o formato DD-MM-YYYY\n",
    "    ano, mes, dia = data_sem_hora.split('-')\n",
    "    novo_nome = f'{dia}-{mes}-{ano}'\n",
    "    novas_colunas_JOQ.append(novo_nome)"
   ]
  },
  {
   "cell_type": "code",
   "execution_count": 842,
   "id": "1adada7c-bd57-4f53-8d02-d7f510db173f",
   "metadata": {
    "colab": {
     "base_uri": "https://localhost:8080/"
    },
    "id": "1adada7c-bd57-4f53-8d02-d7f510db173f",
    "outputId": "5a51d022-2a31-4f1d-f4c8-7670dbc620b4"
   },
   "outputs": [
    {
     "data": {
      "text/plain": [
       "['01-10-2024',\n",
       " '02-10-2024',\n",
       " '03-10-2024',\n",
       " '04-10-2024',\n",
       " '07-10-2024',\n",
       " '08-10-2024',\n",
       " '09-10-2024',\n",
       " '10-10-2024',\n",
       " '11-10-2024',\n",
       " '14-10-2024',\n",
       " '15-10-2024',\n",
       " '16-10-2024',\n",
       " '17-10-2024',\n",
       " '18-10-2024',\n",
       " '21-10-2024',\n",
       " '22-10-2024',\n",
       " '23-10-2024',\n",
       " '24-10-2024',\n",
       " '25-10-2024',\n",
       " '28-10-2024',\n",
       " '29-10-2024',\n",
       " '30-10-2024',\n",
       " '31-10-2024']"
      ]
     },
     "execution_count": 842,
     "metadata": {},
     "output_type": "execute_result"
    }
   ],
   "source": [
    "novas_colunas_JOQ"
   ]
  },
  {
   "cell_type": "markdown",
   "id": "8ed72960-8494-4a65-929c-00050a481e16",
   "metadata": {
    "id": "8ed72960-8494-4a65-929c-00050a481e16"
   },
   "source": [
    "### PASSO 4 renomeando colunas e acrescentando o novo formato"
   ]
  },
  {
   "cell_type": "markdown",
   "id": "c5b4c990-7327-4deb-aa18-0a1e132e48f0",
   "metadata": {
    "id": "c5b4c990-7327-4deb-aa18-0a1e132e48f0"
   },
   "source": [
    "copie as colunas que escolheu para renomear, e cole o formato novo no lugar das velhas"
   ]
  },
  {
   "cell_type": "code",
   "execution_count": 843,
   "id": "1c612b77-4cfa-482f-87e2-1b14000e3650",
   "metadata": {
    "id": "1c612b77-4cfa-482f-87e2-1b14000e3650"
   },
   "outputs": [],
   "source": [
    "# Adicionando as datas formatadas as colunas, copiando e colando"
   ]
  },
  {
   "cell_type": "code",
   "execution_count": 844,
   "id": "2aba338d-2d30-4ed6-ab91-37c14cad33bc",
   "metadata": {
    "colab": {
     "base_uri": "https://localhost:8080/"
    },
    "id": "2aba338d-2d30-4ed6-ab91-37c14cad33bc",
    "outputId": "0712fd99-eeaf-44f4-8191-7e5c44e2a40f"
   },
   "outputs": [
    {
     "name": "stdout",
     "output_type": "stream",
     "text": [
      "CATEGORIA\n",
      "MODALIDADE\n",
      "DIA DA SEMANA\n",
      "HORÁRIO\n",
      "TURNO\n",
      "PROFESSOR\n",
      "2024-10-01 00:00:00\n",
      "2024-10-02 00:00:00\n",
      "2024-10-03 00:00:00\n",
      "2024-10-04 00:00:00\n",
      "2024-10-07 00:00:00\n",
      "2024-10-08 00:00:00\n",
      "2024-10-09 00:00:00\n",
      "2024-10-10 00:00:00\n",
      "2024-10-11 00:00:00\n",
      "2024-10-14 00:00:00\n",
      "2024-10-15 00:00:00\n",
      "2024-10-16 00:00:00\n",
      "2024-10-17 00:00:00\n",
      "2024-10-18 00:00:00\n",
      "2024-10-21 00:00:00\n",
      "2024-10-22 00:00:00\n",
      "2024-10-23 00:00:00\n",
      "2024-10-24 00:00:00\n",
      "2024-10-25 00:00:00\n",
      "2024-10-28 00:00:00\n",
      "2024-10-29 00:00:00\n",
      "2024-10-30 00:00:00\n",
      "2024-10-31 00:00:00\n",
      "Aulas/mês\n",
      "Média\n",
      "Alunos/professor\n",
      "Ocupação Máxima\n",
      "Professor\n"
     ]
    }
   ],
   "source": [
    "for columns in dataJOQ.columns:\n",
    "    print (columns)"
   ]
  },
  {
   "cell_type": "code",
   "execution_count": 845,
   "id": "55b044e6-8227-44c6-9bd3-bb67efd721c6",
   "metadata": {
    "id": "55b044e6-8227-44c6-9bd3-bb67efd721c6"
   },
   "outputs": [],
   "source": [
    "dataJOQ.columns = [\n",
    "'CATEGORIA',\n",
    "'MODALIDADE',\n",
    "'DIA DA SEMANA',\n",
    "'HORÁRIO',\n",
    "'TURNO',\n",
    "'PROFESSOR',\n",
    "'01-10-2024',\n",
    "'02-10-2024',\n",
    "'03-10-2024',\n",
    "'04-10-2024',\n",
    "'07-10-2024',\n",
    "'08-10-2024',\n",
    "'09-10-2024',\n",
    "'10-10-2024',\n",
    "'11-10-2024',\n",
    "'14-10-2024',\n",
    "'15-10-2024',\n",
    "'16-10-2024',\n",
    "'17-10-2024',\n",
    "'18-10-2024',\n",
    "'21-10-2024',\n",
    "'22-10-2024',\n",
    "'23-10-2024',\n",
    "'24-10-2024',\n",
    "'25-10-2024',\n",
    "'28-10-2024',\n",
    "'29-10-2024',\n",
    "'30-10-2024',\n",
    "'31-10-2024',\n",
    "'Aulas/mês',\n",
    "'Média',\n",
    "'Alunos/professor',\n",
    "'Ocupação Máxima',\n",
    "'Professor']"
   ]
  },
  {
   "cell_type": "code",
   "execution_count": 846,
   "id": "7fdc1de4-7a0a-44bd-8100-51de1087849e",
   "metadata": {
    "colab": {
     "base_uri": "https://localhost:8080/"
    },
    "id": "7fdc1de4-7a0a-44bd-8100-51de1087849e",
    "outputId": "f4e17635-4d1f-4e64-8254-b2721bbd6160"
   },
   "outputs": [
    {
     "data": {
      "text/plain": [
       "Index(['CATEGORIA', 'MODALIDADE', 'DIA DA SEMANA', 'HORÁRIO', 'TURNO',\n",
       "       'PROFESSOR', '01-10-2024', '02-10-2024', '03-10-2024', '04-10-2024',\n",
       "       '07-10-2024', '08-10-2024', '09-10-2024', '10-10-2024', '11-10-2024',\n",
       "       '14-10-2024', '15-10-2024', '16-10-2024', '17-10-2024', '18-10-2024',\n",
       "       '21-10-2024', '22-10-2024', '23-10-2024', '24-10-2024', '25-10-2024',\n",
       "       '28-10-2024', '29-10-2024', '30-10-2024', '31-10-2024', 'Aulas/mês',\n",
       "       'Média', 'Alunos/professor', 'Ocupação Máxima', 'Professor'],\n",
       "      dtype='object')"
      ]
     },
     "execution_count": 846,
     "metadata": {},
     "output_type": "execute_result"
    }
   ],
   "source": [
    "dataJOQ.columns"
   ]
  },
  {
   "cell_type": "markdown",
   "id": "abc5638b-e9b9-481d-bd4d-c47e1514f28e",
   "metadata": {
    "id": "abc5638b-e9b9-481d-bd4d-c47e1514f28e"
   },
   "source": [
    "### 5 PASSO: Usar o Loop for para substitituir os valores das frequencia de 'x' e 'X' por zero, com o método do pd.to_numeric)"
   ]
  },
  {
   "cell_type": "code",
   "execution_count": 847,
   "id": "5c7fe218-040d-43bf-be0c-f477ae4b51ea",
   "metadata": {
    "id": "5c7fe218-040d-43bf-be0c-f477ae4b51ea"
   },
   "outputs": [],
   "source": [
    "colunas = [\n",
    "'01-10-2024',\n",
    "'02-10-2024',\n",
    "'03-10-2024',\n",
    "'04-10-2024',\n",
    "'07-10-2024',\n",
    "'08-10-2024',\n",
    "'09-10-2024',\n",
    "'10-10-2024',\n",
    "'11-10-2024',\n",
    "'14-10-2024',\n",
    "'15-10-2024',\n",
    "'16-10-2024',\n",
    "'17-10-2024',\n",
    "'18-10-2024',\n",
    "'21-10-2024',\n",
    "'22-10-2024',\n",
    "'23-10-2024',\n",
    "'24-10-2024',\n",
    "'25-10-2024',\n",
    "'28-10-2024',\n",
    "'29-10-2024',\n",
    "'30-10-2024',\n",
    "'31-10-2024'\n",
    "]"
   ]
  },
  {
   "cell_type": "markdown",
   "id": "d2173535-9672-4e4e-8827-7a8b6c203c21",
   "metadata": {
    "id": "d2173535-9672-4e4e-8827-7a8b6c203c21"
   },
   "source": [
    "Fazendo a limpeza profunda, formatando valores para numeros, preenchendo com zeros os nulos e transformando em inteiros"
   ]
  },
  {
   "cell_type": "code",
   "execution_count": 848,
   "id": "bbc0bd3b-90ca-4168-b069-bda40504372b",
   "metadata": {
    "id": "bbc0bd3b-90ca-4168-b069-bda40504372b"
   },
   "outputs": [],
   "source": [
    "for columns in colunas:\n",
    "    # dataMES[columns] = pd.to_numeric(dataMES[columns], errors='coerce')\n",
    "    dataJOQ[columns] = pd.to_numeric(dataJOQ[columns], errors='coerce').fillna(0).astype(int)"
   ]
  },
  {
   "cell_type": "markdown",
   "id": "55748776-8f69-4728-9ae5-76306b817bb1",
   "metadata": {
    "id": "55748776-8f69-4728-9ae5-76306b817bb1"
   },
   "source": [
    "### PASSO 6: MELT derretendo as colunas em formato de datas"
   ]
  },
  {
   "cell_type": "markdown",
   "id": "ead0a981-c46a-409c-af7b-dfed4df7c68d",
   "metadata": {
    "id": "ead0a981-c46a-409c-af7b-dfed4df7c68d"
   },
   "source": [
    "o MELT ele pega as colunas que estão na horizontal e cria uma coluna de categorias, e depois ele cria outra coluna com os valores dessas colunas que foram transformadas em dados categóricos"
   ]
  },
  {
   "cell_type": "code",
   "execution_count": 849,
   "id": "66c4ec3e-38bd-40ca-92f8-e9178d1e11f4",
   "metadata": {
    "id": "66c4ec3e-38bd-40ca-92f8-e9178d1e11f4"
   },
   "outputs": [],
   "source": [
    "colunas_para_melt = [\n",
    "'01-10-2024',\n",
    "'02-10-2024',\n",
    "'03-10-2024',\n",
    "'04-10-2024',\n",
    "'07-10-2024',\n",
    "'08-10-2024',\n",
    "'09-10-2024',\n",
    "'10-10-2024',\n",
    "'11-10-2024',\n",
    "'14-10-2024',\n",
    "'15-10-2024',\n",
    "'16-10-2024',\n",
    "'17-10-2024',\n",
    "'18-10-2024',\n",
    "'21-10-2024',\n",
    "'22-10-2024',\n",
    "'23-10-2024',\n",
    "'24-10-2024',\n",
    "'25-10-2024',\n",
    "'28-10-2024',\n",
    "'29-10-2024',\n",
    "'30-10-2024',\n",
    "'31-10-2024']"
   ]
  },
  {
   "cell_type": "markdown",
   "id": "1a9b335a-135d-4754-a04d-6bdb44a7e42e",
   "metadata": {
    "id": "1a9b335a-135d-4754-a04d-6bdb44a7e42e"
   },
   "source": [
    "#### Indentificando as colunas que Eu quero manter em meu dataframe"
   ]
  },
  {
   "cell_type": "code",
   "execution_count": 850,
   "id": "2e8b8bb4-5784-42a9-8ed5-513c743772fa",
   "metadata": {
    "id": "2e8b8bb4-5784-42a9-8ed5-513c743772fa"
   },
   "outputs": [],
   "source": [
    "# Identifica as colunas que você quer manter como identificadoras (id_vars)\n",
    "# São as colunas que não serão \"unpivoted\"\n",
    "id_vars_cols = [columns for columns in dataJOQ.columns if columns not in colunas_para_melt]"
   ]
  },
  {
   "cell_type": "code",
   "execution_count": 851,
   "id": "58bbf645-809b-4401-bab0-4539870b9674",
   "metadata": {
    "id": "58bbf645-809b-4401-bab0-4539870b9674"
   },
   "outputs": [],
   "source": [
    "dataJOQ_melted = pd.melt(dataJOQ,\n",
    "                      id_vars=id_vars_cols, #colunas que Eu deixei, que ficaram.\n",
    "                      value_vars=colunas_para_melt, #colunas que vão se transformar.\n",
    "                      var_name='Dias de Aulas', # nome da coluna categorica\n",
    "                      value_name='Frequencia de Alunos') # nome da coluna de valores"
   ]
  },
  {
   "cell_type": "code",
   "execution_count": 852,
   "id": "1b918c16-c3c5-47ad-834c-aafced5850aa",
   "metadata": {
    "colab": {
     "base_uri": "https://localhost:8080/",
     "height": 199
    },
    "id": "1b918c16-c3c5-47ad-834c-aafced5850aa",
    "outputId": "506eb30c-04da-4d04-890a-74947df327c2"
   },
   "outputs": [
    {
     "data": {
      "text/html": [
       "<div>\n",
       "<style scoped>\n",
       "    .dataframe tbody tr th:only-of-type {\n",
       "        vertical-align: middle;\n",
       "    }\n",
       "\n",
       "    .dataframe tbody tr th {\n",
       "        vertical-align: top;\n",
       "    }\n",
       "\n",
       "    .dataframe thead th {\n",
       "        text-align: right;\n",
       "    }\n",
       "</style>\n",
       "<table border=\"1\" class=\"dataframe\">\n",
       "  <thead>\n",
       "    <tr style=\"text-align: right;\">\n",
       "      <th></th>\n",
       "      <th>CATEGORIA</th>\n",
       "      <th>MODALIDADE</th>\n",
       "      <th>DIA DA SEMANA</th>\n",
       "      <th>HORÁRIO</th>\n",
       "      <th>TURNO</th>\n",
       "      <th>PROFESSOR</th>\n",
       "      <th>Aulas/mês</th>\n",
       "      <th>Média</th>\n",
       "      <th>Alunos/professor</th>\n",
       "      <th>Ocupação Máxima</th>\n",
       "      <th>Professor</th>\n",
       "      <th>Dias de Aulas</th>\n",
       "      <th>Frequencia de Alunos</th>\n",
       "    </tr>\n",
       "  </thead>\n",
       "  <tbody>\n",
       "    <tr>\n",
       "      <th>0</th>\n",
       "      <td>QUADRA</td>\n",
       "      <td>BEACH TENIS INICIANTE</td>\n",
       "      <td>seg, ter, qua, qui, sex</td>\n",
       "      <td>06:00</td>\n",
       "      <td>MANHÃ</td>\n",
       "      <td>ANTONIO RYAN</td>\n",
       "      <td>23</td>\n",
       "      <td>0.391304</td>\n",
       "      <td>NaN</td>\n",
       "      <td>NaN</td>\n",
       "      <td>0.0</td>\n",
       "      <td>01-10-2024</td>\n",
       "      <td>0</td>\n",
       "    </tr>\n",
       "    <tr>\n",
       "      <th>1</th>\n",
       "      <td>ADULTO</td>\n",
       "      <td>CROSSFIT</td>\n",
       "      <td>seg, ter, qua, qui, sex</td>\n",
       "      <td>06:00</td>\n",
       "      <td>MANHÃ</td>\n",
       "      <td>GERALDO</td>\n",
       "      <td>23</td>\n",
       "      <td>6.826087</td>\n",
       "      <td>NaN</td>\n",
       "      <td>NaN</td>\n",
       "      <td>0.0</td>\n",
       "      <td>01-10-2024</td>\n",
       "      <td>5</td>\n",
       "    </tr>\n",
       "  </tbody>\n",
       "</table>\n",
       "</div>"
      ],
      "text/plain": [
       "  CATEGORIA             MODALIDADE            DIA DA SEMANA HORÁRIO  TURNO  \\\n",
       "0    QUADRA  BEACH TENIS INICIANTE  seg, ter, qua, qui, sex   06:00  MANHÃ   \n",
       "1    ADULTO               CROSSFIT  seg, ter, qua, qui, sex   06:00  MANHÃ   \n",
       "\n",
       "      PROFESSOR  Aulas/mês     Média  Alunos/professor  Ocupação Máxima  \\\n",
       "0  ANTONIO RYAN         23  0.391304               NaN              NaN   \n",
       "1       GERALDO         23  6.826087               NaN              NaN   \n",
       "\n",
       "   Professor Dias de Aulas  Frequencia de Alunos  \n",
       "0        0.0    01-10-2024                     0  \n",
       "1        0.0    01-10-2024                     5  "
      ]
     },
     "execution_count": 852,
     "metadata": {},
     "output_type": "execute_result"
    }
   ],
   "source": [
    "dataJOQ_melted.head(2)"
   ]
  },
  {
   "cell_type": "code",
   "execution_count": 853,
   "id": "d03ee4b9-6d9a-465a-983d-028cca3c7d7d",
   "metadata": {
    "colab": {
     "base_uri": "https://localhost:8080/"
    },
    "id": "d03ee4b9-6d9a-465a-983d-028cca3c7d7d",
    "outputId": "4c9429b7-75ae-4a28-bb16-d8f8242eb2ae"
   },
   "outputs": [
    {
     "data": {
      "text/plain": [
       "np.int64(27836)"
      ]
     },
     "execution_count": 853,
     "metadata": {},
     "output_type": "execute_result"
    }
   ],
   "source": [
    "dataJOQ_melted['Frequencia de Alunos'].sum()"
   ]
  },
  {
   "cell_type": "markdown",
   "id": "4b690f6f-10ef-4fdb-9a39-c280e5526444",
   "metadata": {
    "id": "4b690f6f-10ef-4fdb-9a39-c280e5526444"
   },
   "source": [
    "## RIOMAR [RIOMAR] - PREPROCESSING 17"
   ]
  },
  {
   "cell_type": "code",
   "execution_count": 854,
   "id": "0894e763-8420-4ce2-8e93-a767a96add40",
   "metadata": {
    "id": "0894e763-8420-4ce2-8e93-a767a96add40"
   },
   "outputs": [],
   "source": [
    "data17 = pd.read_excel('base_de_frequencias_green_life_academias_dados_brutos.xlsx', sheet_name='RIOMAR', skiprows=1, nrows=211)"
   ]
  },
  {
   "cell_type": "code",
   "execution_count": 855,
   "id": "44e5fb58-520e-4cd1-9b3a-a92cf75361cf",
   "metadata": {
    "id": "44e5fb58-520e-4cd1-9b3a-a92cf75361cf"
   },
   "outputs": [],
   "source": [
    "dataRIOMAR = data17.copy()"
   ]
  },
  {
   "cell_type": "markdown",
   "id": "4d470aee-46ed-44c7-bd21-4759d6516e20",
   "metadata": {
    "id": "4d470aee-46ed-44c7-bd21-4759d6516e20"
   },
   "source": [
    "### 1 PASSO: Removendo colunas desnecessárias"
   ]
  },
  {
   "cell_type": "code",
   "execution_count": 856,
   "id": "68f56be1-7d6e-4f82-8a9c-be41d7e1bd60",
   "metadata": {
    "colab": {
     "base_uri": "https://localhost:8080/",
     "height": 283
    },
    "id": "68f56be1-7d6e-4f82-8a9c-be41d7e1bd60",
    "outputId": "c3653883-0d3c-4ed2-cb14-284a6ffadd3b"
   },
   "outputs": [
    {
     "data": {
      "text/html": [
       "<div>\n",
       "<style scoped>\n",
       "    .dataframe tbody tr th:only-of-type {\n",
       "        vertical-align: middle;\n",
       "    }\n",
       "\n",
       "    .dataframe tbody tr th {\n",
       "        vertical-align: top;\n",
       "    }\n",
       "\n",
       "    .dataframe thead th {\n",
       "        text-align: right;\n",
       "    }\n",
       "</style>\n",
       "<table border=\"1\" class=\"dataframe\">\n",
       "  <thead>\n",
       "    <tr style=\"text-align: right;\">\n",
       "      <th></th>\n",
       "      <th>Unnamed: 0</th>\n",
       "      <th>CATEGORIA</th>\n",
       "      <th>MODALIDADE</th>\n",
       "      <th>DIA DA SEMANA</th>\n",
       "      <th>HORÁRIO</th>\n",
       "      <th>TURNO</th>\n",
       "      <th>AUX 1</th>\n",
       "      <th>AUX 2</th>\n",
       "      <th>PROFESSOR</th>\n",
       "      <th>AUX 3</th>\n",
       "      <th>...</th>\n",
       "      <th>2024-10-25 00:00:00</th>\n",
       "      <th>2024-10-28 00:00:00</th>\n",
       "      <th>2024-10-29 00:00:00</th>\n",
       "      <th>2024-10-30 00:00:00</th>\n",
       "      <th>2024-10-31 00:00:00</th>\n",
       "      <th>Média alunos p/ professor</th>\n",
       "      <th>Média</th>\n",
       "      <th>Alunos/professor</th>\n",
       "      <th>Ocupação Máxima</th>\n",
       "      <th>Professor</th>\n",
       "    </tr>\n",
       "  </thead>\n",
       "  <tbody>\n",
       "    <tr>\n",
       "      <th>0</th>\n",
       "      <td>NaN</td>\n",
       "      <td>ADULTO</td>\n",
       "      <td>GREENBIKE</td>\n",
       "      <td>ter, qui</td>\n",
       "      <td>06:00:00</td>\n",
       "      <td>06:00</td>\n",
       "      <td>MANHÃ</td>\n",
       "      <td>GREENBIKE - 06:00</td>\n",
       "      <td>ALEXIS</td>\n",
       "      <td>GREENBIKE - ALEXIS</td>\n",
       "      <td>...</td>\n",
       "      <td>x</td>\n",
       "      <td>x</td>\n",
       "      <td>5</td>\n",
       "      <td>x</td>\n",
       "      <td>7</td>\n",
       "      <td>9.0</td>\n",
       "      <td>5.111111</td>\n",
       "      <td>NaN</td>\n",
       "      <td>NaN</td>\n",
       "      <td>0.0</td>\n",
       "    </tr>\n",
       "    <tr>\n",
       "      <th>1</th>\n",
       "      <td>NaN</td>\n",
       "      <td>ADULTO</td>\n",
       "      <td>CROSSFIT</td>\n",
       "      <td>seg, ter, qua, qui, sex</td>\n",
       "      <td>06:00:00</td>\n",
       "      <td>06:00</td>\n",
       "      <td>MANHÃ</td>\n",
       "      <td>CROSSFIT - 06:00</td>\n",
       "      <td>VICTOR</td>\n",
       "      <td>CROSSFIT - VICTOR</td>\n",
       "      <td>...</td>\n",
       "      <td>3</td>\n",
       "      <td>3</td>\n",
       "      <td>9</td>\n",
       "      <td>4</td>\n",
       "      <td>8</td>\n",
       "      <td>21.0</td>\n",
       "      <td>5.333333</td>\n",
       "      <td>NaN</td>\n",
       "      <td>NaN</td>\n",
       "      <td>0.0</td>\n",
       "    </tr>\n",
       "  </tbody>\n",
       "</table>\n",
       "<p>2 rows × 38 columns</p>\n",
       "</div>"
      ],
      "text/plain": [
       "  Unnamed: 0 CATEGORIA MODALIDADE            DIA DA SEMANA   HORÁRIO  TURNO  \\\n",
       "0        NaN    ADULTO  GREENBIKE                 ter, qui  06:00:00  06:00   \n",
       "1        NaN    ADULTO   CROSSFIT  seg, ter, qua, qui, sex  06:00:00  06:00   \n",
       "\n",
       "   AUX 1              AUX 2 PROFESSOR               AUX 3  ...  \\\n",
       "0  MANHÃ  GREENBIKE - 06:00    ALEXIS  GREENBIKE - ALEXIS  ...   \n",
       "1  MANHÃ   CROSSFIT - 06:00    VICTOR   CROSSFIT - VICTOR  ...   \n",
       "\n",
       "  2024-10-25 00:00:00 2024-10-28 00:00:00 2024-10-29 00:00:00  \\\n",
       "0                   x                   x                   5   \n",
       "1                   3                   3                   9   \n",
       "\n",
       "  2024-10-30 00:00:00 2024-10-31 00:00:00 Média alunos p/ professor     Média  \\\n",
       "0                   x                   7                       9.0  5.111111   \n",
       "1                   4                   8                      21.0  5.333333   \n",
       "\n",
       "  Alunos/professor Ocupação Máxima Professor  \n",
       "0              NaN             NaN       0.0  \n",
       "1              NaN             NaN       0.0  \n",
       "\n",
       "[2 rows x 38 columns]"
      ]
     },
     "execution_count": 856,
     "metadata": {},
     "output_type": "execute_result"
    }
   ],
   "source": [
    "dataRIOMAR.head(2)"
   ]
  },
  {
   "cell_type": "code",
   "execution_count": 857,
   "id": "55bd06d8-179b-406a-9ebb-ae64528dbf4a",
   "metadata": {
    "colab": {
     "base_uri": "https://localhost:8080/",
     "height": 1000
    },
    "id": "55bd06d8-179b-406a-9ebb-ae64528dbf4a",
    "outputId": "ba39093d-41a4-466a-aacf-66108659bdd3"
   },
   "outputs": [
    {
     "data": {
      "text/plain": [
       "Unnamed: 0                                  NaN\n",
       "CATEGORIA                                ADULTO\n",
       "MODALIDADE                            GREENBIKE\n",
       "DIA DA SEMANA                          ter, qui\n",
       "HORÁRIO                                06:00:00\n",
       "TURNO                                     06:00\n",
       "AUX 1                                     MANHÃ\n",
       "AUX 2                         GREENBIKE - 06:00\n",
       "PROFESSOR                                ALEXIS\n",
       "AUX 3                        GREENBIKE - ALEXIS\n",
       "2024-10-01 00:00:00                           5\n",
       "2024-10-02 00:00:00                           x\n",
       "2024-10-03 00:00:00                           3\n",
       "2024-10-04 00:00:00                           x\n",
       "2024-10-07 00:00:00                           x\n",
       "2024-10-08 00:00:00                           5\n",
       "2024-10-09 00:00:00                           x\n",
       "2024-10-10 00:00:00                           5\n",
       "2024-10-11 00:00:00                           x\n",
       "2024-10-14 00:00:00                           x\n",
       "2024-10-15 00:00:00                           x\n",
       "2024-10-16 00:00:00                           x\n",
       "2024-10-17 00:00:00                           5\n",
       "2024-10-18 00:00:00                           x\n",
       "2024-10-21 00:00:00                           x\n",
       "2024-10-22 00:00:00                           5\n",
       "2024-10-23 00:00:00                           x\n",
       "2024-10-24 00:00:00                           6\n",
       "2024-10-25 00:00:00                           x\n",
       "2024-10-28 00:00:00                           x\n",
       "2024-10-29 00:00:00                           5\n",
       "2024-10-30 00:00:00                           x\n",
       "2024-10-31 00:00:00                           7\n",
       "Média alunos p/ professor                   9.0\n",
       "Média                                  5.111111\n",
       "Alunos/professor                            NaN\n",
       "Ocupação Máxima                             NaN\n",
       "Professor                                   0.0\n",
       "Name: 0, dtype: object"
      ]
     },
     "execution_count": 857,
     "metadata": {},
     "output_type": "execute_result"
    }
   ],
   "source": [
    "dataRIOMAR.iloc[0]"
   ]
  },
  {
   "cell_type": "code",
   "execution_count": 858,
   "id": "d690b78d-d570-4174-a24e-38a7c72aa208",
   "metadata": {
    "colab": {
     "base_uri": "https://localhost:8080/",
     "height": 1000
    },
    "id": "d690b78d-d570-4174-a24e-38a7c72aa208",
    "outputId": "78053a1a-bf1d-4e4d-f8f1-191666f9e702"
   },
   "outputs": [
    {
     "data": {
      "text/plain": [
       "Unnamed: 0                                                    NaN\n",
       "CATEGORIA                                              MUSC - S/P\n",
       "MODALIDADE                            A - MUSCULAÇÃO SEM PERSONAL\n",
       "DIA DA SEMANA                             seg, ter, qua, qui, sex\n",
       "HORÁRIO                                                  22:00:00\n",
       "TURNO                                                       22:00\n",
       "AUX 1                                                       NOITE\n",
       "AUX 2                         A - MUSCULAÇÃO SEM PERSONAL - 22:00\n",
       "PROFESSOR                                                  RENATO\n",
       "AUX 3                        A - MUSCULAÇÃO SEM PERSONAL - RENATO\n",
       "2024-10-01 00:00:00                                            10\n",
       "2024-10-02 00:00:00                                            12\n",
       "2024-10-03 00:00:00                                             8\n",
       "2024-10-04 00:00:00                                            10\n",
       "2024-10-07 00:00:00                                            10\n",
       "2024-10-08 00:00:00                                            12\n",
       "2024-10-09 00:00:00                                            14\n",
       "2024-10-10 00:00:00                                            10\n",
       "2024-10-11 00:00:00                                            12\n",
       "2024-10-14 00:00:00                                            15\n",
       "2024-10-15 00:00:00                                            10\n",
       "2024-10-16 00:00:00                                            10\n",
       "2024-10-17 00:00:00                                            12\n",
       "2024-10-18 00:00:00                                            10\n",
       "2024-10-21 00:00:00                                            10\n",
       "2024-10-22 00:00:00                                             8\n",
       "2024-10-23 00:00:00                                             8\n",
       "2024-10-24 00:00:00                                             8\n",
       "2024-10-25 00:00:00                                             5\n",
       "2024-10-28 00:00:00                                             5\n",
       "2024-10-29 00:00:00                                           NaN\n",
       "2024-10-30 00:00:00                                           NaN\n",
       "2024-10-31 00:00:00                                           NaN\n",
       "Média alunos p/ professor                                    20.0\n",
       "Média                                                        9.95\n",
       "Alunos/professor                                              NaN\n",
       "Ocupação Máxima                                               NaN\n",
       "Professor                                                     NaN\n",
       "Name: 210, dtype: object"
      ]
     },
     "execution_count": 858,
     "metadata": {},
     "output_type": "execute_result"
    }
   ],
   "source": [
    "dataRIOMAR.iloc[-1]"
   ]
  },
  {
   "cell_type": "code",
   "execution_count": 859,
   "id": "6aba4f5f-d7d1-4abf-9f82-6dd43bde65b9",
   "metadata": {
    "id": "6aba4f5f-d7d1-4abf-9f82-6dd43bde65b9"
   },
   "outputs": [],
   "source": [
    "dropColumns = ['Unnamed: 0', 'AUX 2', 'AUX 3', 'HORÁRIO']"
   ]
  },
  {
   "cell_type": "code",
   "execution_count": 860,
   "id": "69ff4456-4a7e-4a07-bb92-fd7a10b84bd5",
   "metadata": {
    "id": "69ff4456-4a7e-4a07-bb92-fd7a10b84bd5"
   },
   "outputs": [],
   "source": [
    "dataRIOMAR.drop(columns=dropColumns, inplace=True)"
   ]
  },
  {
   "cell_type": "markdown",
   "id": "4f01c08e-f5ba-4d15-87f2-5b8dbc2dd040",
   "metadata": {
    "id": "4f01c08e-f5ba-4d15-87f2-5b8dbc2dd040"
   },
   "source": [
    "- PRECISAMOS RENOMEAR A COLUNA AUX.1 COMO HORARIO"
   ]
  },
  {
   "cell_type": "code",
   "execution_count": 861,
   "id": "ff71b8d9-a778-49b8-b4f2-986bb6b82f1c",
   "metadata": {
    "id": "ff71b8d9-a778-49b8-b4f2-986bb6b82f1c"
   },
   "outputs": [],
   "source": [
    "dataRIOMAR.rename(columns={'TURNO': 'HORÁRIO'}, inplace=True)\n",
    "dataRIOMAR.rename(columns={'AUX 1': 'TURNO'}, inplace=True)"
   ]
  },
  {
   "cell_type": "code",
   "execution_count": 862,
   "id": "bec0d82f-c85d-4953-9658-cb776aeb31d9",
   "metadata": {
    "colab": {
     "base_uri": "https://localhost:8080/",
     "height": 112
    },
    "id": "bec0d82f-c85d-4953-9658-cb776aeb31d9",
    "outputId": "07adbc71-0238-4d25-980c-2d224a551e30"
   },
   "outputs": [
    {
     "data": {
      "text/html": [
       "<div>\n",
       "<style scoped>\n",
       "    .dataframe tbody tr th:only-of-type {\n",
       "        vertical-align: middle;\n",
       "    }\n",
       "\n",
       "    .dataframe tbody tr th {\n",
       "        vertical-align: top;\n",
       "    }\n",
       "\n",
       "    .dataframe thead th {\n",
       "        text-align: right;\n",
       "    }\n",
       "</style>\n",
       "<table border=\"1\" class=\"dataframe\">\n",
       "  <thead>\n",
       "    <tr style=\"text-align: right;\">\n",
       "      <th></th>\n",
       "      <th>TURNO</th>\n",
       "      <th>HORÁRIO</th>\n",
       "    </tr>\n",
       "  </thead>\n",
       "  <tbody>\n",
       "    <tr>\n",
       "      <th>0</th>\n",
       "      <td>MANHÃ</td>\n",
       "      <td>06:00</td>\n",
       "    </tr>\n",
       "    <tr>\n",
       "      <th>1</th>\n",
       "      <td>MANHÃ</td>\n",
       "      <td>06:00</td>\n",
       "    </tr>\n",
       "  </tbody>\n",
       "</table>\n",
       "</div>"
      ],
      "text/plain": [
       "   TURNO HORÁRIO\n",
       "0  MANHÃ   06:00\n",
       "1  MANHÃ   06:00"
      ]
     },
     "execution_count": 862,
     "metadata": {},
     "output_type": "execute_result"
    }
   ],
   "source": [
    "dataRIOMAR[['TURNO', 'HORÁRIO']].head(2)"
   ]
  },
  {
   "cell_type": "markdown",
   "id": "fa865c0c-fbed-471d-8f92-6865a7ecc86d",
   "metadata": {
    "id": "fa865c0c-fbed-471d-8f92-6865a7ecc86d"
   },
   "source": [
    "### 2 PASSO: Renomeando strings de datas, para que o pandas possa aceitar como colunas"
   ]
  },
  {
   "cell_type": "code",
   "execution_count": 863,
   "id": "75baa022-728e-496f-bbb1-5fabef435d8a",
   "metadata": {
    "colab": {
     "base_uri": "https://localhost:8080/"
    },
    "id": "75baa022-728e-496f-bbb1-5fabef435d8a",
    "outputId": "21541efb-580c-4bc5-ac5f-c8602eefffd2"
   },
   "outputs": [
    {
     "name": "stdout",
     "output_type": "stream",
     "text": [
      "CATEGORIA\n",
      "MODALIDADE\n",
      "DIA DA SEMANA\n",
      "HORÁRIO\n",
      "TURNO\n",
      "PROFESSOR\n",
      "2024-10-01 00:00:00\n",
      "2024-10-02 00:00:00\n",
      "2024-10-03 00:00:00\n",
      "2024-10-04 00:00:00\n",
      "2024-10-07 00:00:00\n",
      "2024-10-08 00:00:00\n",
      "2024-10-09 00:00:00\n",
      "2024-10-10 00:00:00\n",
      "2024-10-11 00:00:00\n",
      "2024-10-14 00:00:00\n",
      "2024-10-15 00:00:00\n",
      "2024-10-16 00:00:00\n",
      "2024-10-17 00:00:00\n",
      "2024-10-18 00:00:00\n",
      "2024-10-21 00:00:00\n",
      "2024-10-22 00:00:00\n",
      "2024-10-23 00:00:00\n",
      "2024-10-24 00:00:00\n",
      "2024-10-25 00:00:00\n",
      "2024-10-28 00:00:00\n",
      "2024-10-29 00:00:00\n",
      "2024-10-30 00:00:00\n",
      "2024-10-31 00:00:00\n",
      "Média alunos p/ professor\n",
      "Média\n",
      "Alunos/professor\n",
      "Ocupação Máxima\n",
      "Professor\n"
     ]
    }
   ],
   "source": [
    "for columns in dataRIOMAR.columns:\n",
    "    print(columns)"
   ]
  },
  {
   "cell_type": "code",
   "execution_count": 864,
   "id": "4d4d95f3-a8e0-4a79-9c2f-424b904831b6",
   "metadata": {
    "id": "4d4d95f3-a8e0-4a79-9c2f-424b904831b6"
   },
   "outputs": [],
   "source": [
    "dataRIOMAR.columns = [\n",
    "'CATEGORIA',\n",
    "'MODALIDADE',\n",
    "'DIA DA SEMANA',\n",
    "'HORÁRIO',\n",
    "'TURNO',\n",
    "'PROFESSOR',\n",
    "'2024-10-01 00:00:00',\n",
    "'2024-10-02 00:00:00',\n",
    "'2024-10-03 00:00:00',\n",
    "'2024-10-04 00:00:00',\n",
    "'2024-10-07 00:00:00',\n",
    "'2024-10-08 00:00:00',\n",
    "'2024-10-09 00:00:00',\n",
    "'2024-10-10 00:00:00',\n",
    "'2024-10-11 00:00:00',\n",
    "'2024-10-14 00:00:00',\n",
    "'2024-10-15 00:00:00',\n",
    "'2024-10-16 00:00:00',\n",
    "'2024-10-17 00:00:00',\n",
    "'2024-10-18 00:00:00',\n",
    "'2024-10-21 00:00:00',\n",
    "'2024-10-22 00:00:00',\n",
    "'2024-10-23 00:00:00',\n",
    "'2024-10-24 00:00:00',\n",
    "'2024-10-25 00:00:00',\n",
    "'2024-10-28 00:00:00',\n",
    "'2024-10-29 00:00:00',\n",
    "'2024-10-30 00:00:00',\n",
    "'2024-10-31 00:00:00',\n",
    "'Média alunos p/ professor',\n",
    "'Média',\n",
    "'Alunos/professor',\n",
    "'Ocupação Máxima',\n",
    "'Professor']"
   ]
  },
  {
   "cell_type": "markdown",
   "id": "f835483d-6e7e-4fd0-80ec-d6c7a9929193",
   "metadata": {
    "id": "f835483d-6e7e-4fd0-80ec-d6c7a9929193"
   },
   "source": [
    "### PASSO 3: Escolhendo colunas com o nome de 'datas', para renomear pelo o tipo dia, mês e ano. e removendo os 00 de horas"
   ]
  },
  {
   "cell_type": "code",
   "execution_count": 865,
   "id": "698899c5-c605-4cd7-a833-d99a55afa219",
   "metadata": {
    "id": "698899c5-c605-4cd7-a833-d99a55afa219"
   },
   "outputs": [],
   "source": [
    "colunas = [\n",
    "'2024-10-01 00:00:00',\n",
    "'2024-10-02 00:00:00',\n",
    "'2024-10-03 00:00:00',\n",
    "'2024-10-04 00:00:00',\n",
    "'2024-10-07 00:00:00',\n",
    "'2024-10-08 00:00:00',\n",
    "'2024-10-09 00:00:00',\n",
    "'2024-10-10 00:00:00',\n",
    "'2024-10-11 00:00:00',\n",
    "'2024-10-14 00:00:00',\n",
    "'2024-10-15 00:00:00',\n",
    "'2024-10-16 00:00:00',\n",
    "'2024-10-17 00:00:00',\n",
    "'2024-10-18 00:00:00',\n",
    "'2024-10-21 00:00:00',\n",
    "'2024-10-22 00:00:00',\n",
    "'2024-10-23 00:00:00',\n",
    "'2024-10-24 00:00:00',\n",
    "'2024-10-25 00:00:00',\n",
    "'2024-10-28 00:00:00',\n",
    "'2024-10-29 00:00:00',\n",
    "'2024-10-30 00:00:00',\n",
    "'2024-10-31 00:00:00']"
   ]
  },
  {
   "cell_type": "code",
   "execution_count": 866,
   "id": "19df6af5-c3c2-4b35-a6c8-7f67d641f74f",
   "metadata": {
    "id": "19df6af5-c3c2-4b35-a6c8-7f67d641f74f"
   },
   "outputs": [],
   "source": [
    "novas_colunas_RIOMAR = []"
   ]
  },
  {
   "cell_type": "code",
   "execution_count": 867,
   "id": "6f4bc09c-a844-45fb-8bf8-aa4e3fb5d042",
   "metadata": {
    "id": "6f4bc09c-a844-45fb-8bf8-aa4e3fb5d042"
   },
   "outputs": [],
   "source": [
    "for columns in colunas:\n",
    "    # Remove a parte da hora\n",
    "    data_sem_hora = columns.split(' ')[0]\n",
    "\n",
    "    # Formata para o formato DD-MM-YYYY\n",
    "    ano, mes, dia = data_sem_hora.split('-')\n",
    "    novo_nome = f'{dia}-{mes}-{ano}'\n",
    "    novas_colunas_RIOMAR.append(novo_nome)"
   ]
  },
  {
   "cell_type": "code",
   "execution_count": 868,
   "id": "4bfc3881-17f4-41e9-9885-626f35d4d71d",
   "metadata": {
    "colab": {
     "base_uri": "https://localhost:8080/"
    },
    "id": "4bfc3881-17f4-41e9-9885-626f35d4d71d",
    "outputId": "91006787-9c9b-415f-ce69-3a5d3b8f880c"
   },
   "outputs": [
    {
     "data": {
      "text/plain": [
       "['01-10-2024',\n",
       " '02-10-2024',\n",
       " '03-10-2024',\n",
       " '04-10-2024',\n",
       " '07-10-2024',\n",
       " '08-10-2024',\n",
       " '09-10-2024',\n",
       " '10-10-2024',\n",
       " '11-10-2024',\n",
       " '14-10-2024',\n",
       " '15-10-2024',\n",
       " '16-10-2024',\n",
       " '17-10-2024',\n",
       " '18-10-2024',\n",
       " '21-10-2024',\n",
       " '22-10-2024',\n",
       " '23-10-2024',\n",
       " '24-10-2024',\n",
       " '25-10-2024',\n",
       " '28-10-2024',\n",
       " '29-10-2024',\n",
       " '30-10-2024',\n",
       " '31-10-2024']"
      ]
     },
     "execution_count": 868,
     "metadata": {},
     "output_type": "execute_result"
    }
   ],
   "source": [
    "novas_colunas_RIOMAR"
   ]
  },
  {
   "cell_type": "markdown",
   "id": "f96c9a60-97f6-4ff2-88c6-2baebde9c865",
   "metadata": {
    "id": "f96c9a60-97f6-4ff2-88c6-2baebde9c865"
   },
   "source": [
    "### PASSO 4 renomeando colunas e acrescentando o novo formato"
   ]
  },
  {
   "cell_type": "markdown",
   "id": "4647b12a-4a14-4315-b4f3-5d535a8e2d2e",
   "metadata": {
    "id": "4647b12a-4a14-4315-b4f3-5d535a8e2d2e"
   },
   "source": [
    "copie as colunas que escolheu para renomear, e cole o formato novo no lugar das velhas"
   ]
  },
  {
   "cell_type": "code",
   "execution_count": 869,
   "id": "f21955d9-9890-4c20-ac9b-79019713b86b",
   "metadata": {
    "id": "f21955d9-9890-4c20-ac9b-79019713b86b"
   },
   "outputs": [],
   "source": [
    "# Adicionando as datas formatadas as colunas, copiando e colando"
   ]
  },
  {
   "cell_type": "code",
   "execution_count": 870,
   "id": "6067ebf1-e86d-488a-a054-da22c4e78cc9",
   "metadata": {
    "colab": {
     "base_uri": "https://localhost:8080/"
    },
    "id": "6067ebf1-e86d-488a-a054-da22c4e78cc9",
    "outputId": "afe93b66-86e1-4354-c16d-573f33d8de44"
   },
   "outputs": [
    {
     "name": "stdout",
     "output_type": "stream",
     "text": [
      "CATEGORIA\n",
      "MODALIDADE\n",
      "DIA DA SEMANA\n",
      "HORÁRIO\n",
      "TURNO\n",
      "PROFESSOR\n",
      "2024-10-01 00:00:00\n",
      "2024-10-02 00:00:00\n",
      "2024-10-03 00:00:00\n",
      "2024-10-04 00:00:00\n",
      "2024-10-07 00:00:00\n",
      "2024-10-08 00:00:00\n",
      "2024-10-09 00:00:00\n",
      "2024-10-10 00:00:00\n",
      "2024-10-11 00:00:00\n",
      "2024-10-14 00:00:00\n",
      "2024-10-15 00:00:00\n",
      "2024-10-16 00:00:00\n",
      "2024-10-17 00:00:00\n",
      "2024-10-18 00:00:00\n",
      "2024-10-21 00:00:00\n",
      "2024-10-22 00:00:00\n",
      "2024-10-23 00:00:00\n",
      "2024-10-24 00:00:00\n",
      "2024-10-25 00:00:00\n",
      "2024-10-28 00:00:00\n",
      "2024-10-29 00:00:00\n",
      "2024-10-30 00:00:00\n",
      "2024-10-31 00:00:00\n",
      "Média alunos p/ professor\n",
      "Média\n",
      "Alunos/professor\n",
      "Ocupação Máxima\n",
      "Professor\n"
     ]
    }
   ],
   "source": [
    "for columns in dataRIOMAR.columns:\n",
    "    print (columns)"
   ]
  },
  {
   "cell_type": "code",
   "execution_count": 871,
   "id": "358ff8b4-960f-4a9a-9bcf-aa7711ecf798",
   "metadata": {
    "id": "358ff8b4-960f-4a9a-9bcf-aa7711ecf798"
   },
   "outputs": [],
   "source": [
    "dataRIOMAR.columns = [\n",
    "'CATEGORIA',\n",
    "'MODALIDADE',\n",
    "'DIA DA SEMANA',\n",
    "'HORÁRIO',\n",
    "'TURNO',\n",
    "'PROFESSOR',\n",
    "'01-10-2024',\n",
    "'02-10-2024',\n",
    "'03-10-2024',\n",
    "'04-10-2024',\n",
    "'07-10-2024',\n",
    "'08-10-2024',\n",
    "'09-10-2024',\n",
    "'10-10-2024',\n",
    "'11-10-2024',\n",
    "'14-10-2024',\n",
    "'15-10-2024',\n",
    "'16-10-2024',\n",
    "'17-10-2024',\n",
    "'18-10-2024',\n",
    "'21-10-2024',\n",
    "'22-10-2024',\n",
    "'23-10-2024',\n",
    "'24-10-2024',\n",
    "'25-10-2024',\n",
    "'28-10-2024',\n",
    "'29-10-2024',\n",
    "'30-10-2024',\n",
    "'31-10-2024',\n",
    "'Média alunos p/ professor',\n",
    "'Média',\n",
    "'Alunos/professor',\n",
    "'Ocupação Máxima',\n",
    "'Professor']"
   ]
  },
  {
   "cell_type": "code",
   "execution_count": 872,
   "id": "751af0be-3168-49c9-b9d1-3d0d10e38996",
   "metadata": {
    "colab": {
     "base_uri": "https://localhost:8080/"
    },
    "id": "751af0be-3168-49c9-b9d1-3d0d10e38996",
    "outputId": "744c5b9d-8110-4408-8e57-2f5d044ba0ca"
   },
   "outputs": [
    {
     "data": {
      "text/plain": [
       "Index(['CATEGORIA', 'MODALIDADE', 'DIA DA SEMANA', 'HORÁRIO', 'TURNO',\n",
       "       'PROFESSOR', '01-10-2024', '02-10-2024', '03-10-2024', '04-10-2024',\n",
       "       '07-10-2024', '08-10-2024', '09-10-2024', '10-10-2024', '11-10-2024',\n",
       "       '14-10-2024', '15-10-2024', '16-10-2024', '17-10-2024', '18-10-2024',\n",
       "       '21-10-2024', '22-10-2024', '23-10-2024', '24-10-2024', '25-10-2024',\n",
       "       '28-10-2024', '29-10-2024', '30-10-2024', '31-10-2024',\n",
       "       'Média alunos p/ professor', 'Média', 'Alunos/professor',\n",
       "       'Ocupação Máxima', 'Professor'],\n",
       "      dtype='object')"
      ]
     },
     "execution_count": 872,
     "metadata": {},
     "output_type": "execute_result"
    }
   ],
   "source": [
    "dataRIOMAR.columns"
   ]
  },
  {
   "cell_type": "markdown",
   "id": "79553492-dd46-437c-b249-6bf1cc850b5b",
   "metadata": {
    "id": "79553492-dd46-437c-b249-6bf1cc850b5b"
   },
   "source": [
    "### 5 PASSO: Usar o Loop for para substitituir os valores das frequencia de 'x' e 'X' por zero, com o método do pd.to_numeric)"
   ]
  },
  {
   "cell_type": "code",
   "execution_count": 873,
   "id": "47f040e7-63b7-4d5f-ad78-5986499de671",
   "metadata": {
    "id": "47f040e7-63b7-4d5f-ad78-5986499de671"
   },
   "outputs": [],
   "source": [
    "colunas = [\n",
    "'01-10-2024',\n",
    "'02-10-2024',\n",
    "'03-10-2024',\n",
    "'04-10-2024',\n",
    "'07-10-2024',\n",
    "'08-10-2024',\n",
    "'09-10-2024',\n",
    "'10-10-2024',\n",
    "'11-10-2024',\n",
    "'14-10-2024',\n",
    "'15-10-2024',\n",
    "'16-10-2024',\n",
    "'17-10-2024',\n",
    "'18-10-2024',\n",
    "'21-10-2024',\n",
    "'22-10-2024',\n",
    "'23-10-2024',\n",
    "'24-10-2024',\n",
    "'25-10-2024',\n",
    "'28-10-2024',\n",
    "'29-10-2024',\n",
    "'30-10-2024',\n",
    "'31-10-2024']"
   ]
  },
  {
   "cell_type": "markdown",
   "id": "dfde3f66-6887-4921-b4a3-0fce43470c08",
   "metadata": {
    "id": "dfde3f66-6887-4921-b4a3-0fce43470c08"
   },
   "source": [
    "Fazendo a limpeza profunda, formatando valores para numeros, preenchendo com zeros os nulos e transformando em inteiros"
   ]
  },
  {
   "cell_type": "code",
   "execution_count": 874,
   "id": "66134cd8-37f3-4a46-89f3-fc3498114a2d",
   "metadata": {
    "id": "66134cd8-37f3-4a46-89f3-fc3498114a2d"
   },
   "outputs": [],
   "source": [
    "for columns in colunas:\n",
    "    # dataMES[columns] = pd.to_numeric(dataMES[columns], errors='coerce')\n",
    "    dataRIOMAR[columns] = pd.to_numeric(dataRIOMAR[columns], errors='coerce').fillna(0).astype(int)"
   ]
  },
  {
   "cell_type": "markdown",
   "id": "34575361-6df5-4824-ab7c-1c19731e38f5",
   "metadata": {
    "id": "34575361-6df5-4824-ab7c-1c19731e38f5"
   },
   "source": [
    "### PASSO 6: MELT derretendo as colunas em formato de datas"
   ]
  },
  {
   "cell_type": "markdown",
   "id": "0d6557cf-3e1d-408a-8127-29e63d8a345d",
   "metadata": {
    "id": "0d6557cf-3e1d-408a-8127-29e63d8a345d"
   },
   "source": [
    "o MELT ele pega as colunas que estão na horizontal e cria uma coluna de categorias, e depois ele cria outra coluna com os valores dessas colunas que foram transformadas em dados categóricos"
   ]
  },
  {
   "cell_type": "code",
   "execution_count": 875,
   "id": "377040b6-d05e-4a1f-92b2-55d7324e54b1",
   "metadata": {
    "id": "377040b6-d05e-4a1f-92b2-55d7324e54b1"
   },
   "outputs": [],
   "source": [
    "colunas_para_melt = [\n",
    "'01-10-2024',\n",
    "'02-10-2024',\n",
    "'03-10-2024',\n",
    "'04-10-2024',\n",
    "'07-10-2024',\n",
    "'08-10-2024',\n",
    "'09-10-2024',\n",
    "'10-10-2024',\n",
    "'11-10-2024',\n",
    "'14-10-2024',\n",
    "'15-10-2024',\n",
    "'16-10-2024',\n",
    "'17-10-2024',\n",
    "'18-10-2024',\n",
    "'21-10-2024',\n",
    "'22-10-2024',\n",
    "'23-10-2024',\n",
    "'24-10-2024',\n",
    "'25-10-2024',\n",
    "'28-10-2024',\n",
    "'29-10-2024',\n",
    "'30-10-2024',\n",
    "'31-10-2024']"
   ]
  },
  {
   "cell_type": "markdown",
   "id": "d130e519-15f7-4e83-a6b6-9c81cf600f26",
   "metadata": {
    "id": "d130e519-15f7-4e83-a6b6-9c81cf600f26"
   },
   "source": [
    "#### Indentificando as colunas que Eu quero manter em meu dataframe"
   ]
  },
  {
   "cell_type": "code",
   "execution_count": 876,
   "id": "e4ba6011-8301-458e-a461-37802ca9b814",
   "metadata": {
    "id": "e4ba6011-8301-458e-a461-37802ca9b814"
   },
   "outputs": [],
   "source": [
    "# Identifica as colunas que você quer manter como identificadoras (id_vars)\n",
    "# São as colunas que não serão \"unpivoted\"\n",
    "id_vars_cols = [columns for columns in dataRIOMAR.columns if columns not in colunas_para_melt]"
   ]
  },
  {
   "cell_type": "code",
   "execution_count": 877,
   "id": "948a8954-c3ab-42b4-939b-38b4046530d1",
   "metadata": {
    "id": "948a8954-c3ab-42b4-939b-38b4046530d1"
   },
   "outputs": [],
   "source": [
    "dataRIOMAR_melted = pd.melt(dataRIOMAR,\n",
    "                      id_vars=id_vars_cols, #colunas que Eu deixei, que ficaram.\n",
    "                      value_vars=colunas_para_melt, #colunas que vão se transformar.\n",
    "                      var_name='Dias de Aulas', # nome da coluna categorica\n",
    "                      value_name='Frequencia de Alunos') # nome da coluna de valores"
   ]
  },
  {
   "cell_type": "code",
   "execution_count": 878,
   "id": "efe809d2-f5db-4961-8b71-aec734b8bc8a",
   "metadata": {
    "colab": {
     "base_uri": "https://localhost:8080/",
     "height": 181
    },
    "id": "efe809d2-f5db-4961-8b71-aec734b8bc8a",
    "outputId": "b3af3577-a755-4946-d670-ab4e7b2ec89f"
   },
   "outputs": [
    {
     "data": {
      "text/html": [
       "<div>\n",
       "<style scoped>\n",
       "    .dataframe tbody tr th:only-of-type {\n",
       "        vertical-align: middle;\n",
       "    }\n",
       "\n",
       "    .dataframe tbody tr th {\n",
       "        vertical-align: top;\n",
       "    }\n",
       "\n",
       "    .dataframe thead th {\n",
       "        text-align: right;\n",
       "    }\n",
       "</style>\n",
       "<table border=\"1\" class=\"dataframe\">\n",
       "  <thead>\n",
       "    <tr style=\"text-align: right;\">\n",
       "      <th></th>\n",
       "      <th>CATEGORIA</th>\n",
       "      <th>MODALIDADE</th>\n",
       "      <th>DIA DA SEMANA</th>\n",
       "      <th>HORÁRIO</th>\n",
       "      <th>TURNO</th>\n",
       "      <th>PROFESSOR</th>\n",
       "      <th>Média alunos p/ professor</th>\n",
       "      <th>Média</th>\n",
       "      <th>Alunos/professor</th>\n",
       "      <th>Ocupação Máxima</th>\n",
       "      <th>Professor</th>\n",
       "      <th>Dias de Aulas</th>\n",
       "      <th>Frequencia de Alunos</th>\n",
       "    </tr>\n",
       "  </thead>\n",
       "  <tbody>\n",
       "    <tr>\n",
       "      <th>0</th>\n",
       "      <td>ADULTO</td>\n",
       "      <td>GREENBIKE</td>\n",
       "      <td>ter, qui</td>\n",
       "      <td>06:00</td>\n",
       "      <td>MANHÃ</td>\n",
       "      <td>ALEXIS</td>\n",
       "      <td>9.0</td>\n",
       "      <td>5.111111</td>\n",
       "      <td>NaN</td>\n",
       "      <td>NaN</td>\n",
       "      <td>0.0</td>\n",
       "      <td>01-10-2024</td>\n",
       "      <td>5</td>\n",
       "    </tr>\n",
       "    <tr>\n",
       "      <th>1</th>\n",
       "      <td>ADULTO</td>\n",
       "      <td>CROSSFIT</td>\n",
       "      <td>seg, ter, qua, qui, sex</td>\n",
       "      <td>06:00</td>\n",
       "      <td>MANHÃ</td>\n",
       "      <td>VICTOR</td>\n",
       "      <td>21.0</td>\n",
       "      <td>5.333333</td>\n",
       "      <td>NaN</td>\n",
       "      <td>NaN</td>\n",
       "      <td>0.0</td>\n",
       "      <td>01-10-2024</td>\n",
       "      <td>11</td>\n",
       "    </tr>\n",
       "  </tbody>\n",
       "</table>\n",
       "</div>"
      ],
      "text/plain": [
       "  CATEGORIA MODALIDADE            DIA DA SEMANA HORÁRIO  TURNO PROFESSOR  \\\n",
       "0    ADULTO  GREENBIKE                 ter, qui   06:00  MANHÃ    ALEXIS   \n",
       "1    ADULTO   CROSSFIT  seg, ter, qua, qui, sex   06:00  MANHÃ    VICTOR   \n",
       "\n",
       "   Média alunos p/ professor     Média Alunos/professor  Ocupação Máxima  \\\n",
       "0                        9.0  5.111111              NaN              NaN   \n",
       "1                       21.0  5.333333              NaN              NaN   \n",
       "\n",
       "   Professor Dias de Aulas  Frequencia de Alunos  \n",
       "0        0.0    01-10-2024                     5  \n",
       "1        0.0    01-10-2024                    11  "
      ]
     },
     "execution_count": 878,
     "metadata": {},
     "output_type": "execute_result"
    }
   ],
   "source": [
    "dataRIOMAR_melted.head(2)"
   ]
  },
  {
   "cell_type": "code",
   "execution_count": 879,
   "id": "3df37f63-0244-40e9-a039-fa070768acd3",
   "metadata": {
    "colab": {
     "base_uri": "https://localhost:8080/"
    },
    "id": "3df37f63-0244-40e9-a039-fa070768acd3",
    "outputId": "49286041-db1d-4b20-d59c-9e65de4429f2"
   },
   "outputs": [
    {
     "data": {
      "text/plain": [
       "np.int64(30839)"
      ]
     },
     "execution_count": 879,
     "metadata": {},
     "output_type": "execute_result"
    }
   ],
   "source": [
    "dataRIOMAR_melted['Frequencia de Alunos'].sum()"
   ]
  },
  {
   "cell_type": "markdown",
   "id": "3d3c1bf7-49fc-4f45-903b-540a673b4ec6",
   "metadata": {
    "id": "3d3c1bf7-49fc-4f45-903b-540a673b4ec6"
   },
   "source": [
    "# ULTIMOS AJUSTES PARA CONCATENÇÃO E EXPORTAÇÃO"
   ]
  },
  {
   "cell_type": "markdown",
   "id": "8b01afc2-c321-4965-86d7-d163fac58a4a",
   "metadata": {
    "id": "8b01afc2-c321-4965-86d7-d163fac58a4a"
   },
   "source": [
    "checando, são as todas as colunas e as quantidades das frequencias\n",
    "- CATEGORIA\n",
    "- MODALIDADE\n",
    "- DIA DA SEMANA\n",
    "- HORÁRIO\n",
    "- TURNO\n",
    "- PROFESSOR\n",
    "\n"
   ]
  },
  {
   "cell_type": "markdown",
   "id": "00e377b6-ee39-4597-ae6b-94dff2311f94",
   "metadata": {
    "id": "00e377b6-ee39-4597-ae6b-94dff2311f94"
   },
   "source": [
    "1. MESSAJANA [MES]\n",
    "- Colunas: OK\n",
    "- Soma das Frequencias: OK"
   ]
  },
  {
   "cell_type": "markdown",
   "id": "1e5cd0d8-9192-48e0-8cd9-a08a974ca2bc",
   "metadata": {
    "id": "1e5cd0d8-9192-48e0-8cd9-a08a974ca2bc"
   },
   "source": [
    "### Concatenação Final"
   ]
  },
  {
   "cell_type": "code",
   "execution_count": 880,
   "id": "99647cd7-b33d-4e13-ad83-bcfe98076aa6",
   "metadata": {
    "id": "99647cd7-b33d-4e13-ad83-bcfe98076aa6"
   },
   "outputs": [],
   "source": [
    "# Suponha que seus DataFrames (dataMES_melted, etc.) já estejam definidos\n",
    "\n",
    "lista_de_dataframes = [\n",
    "    dataMES_melted, dataALD_melted, dataFAT_melted, dataBOOT_melted, dataCAMB_melted,\n",
    "    dataEUS_melted, dataGUA_melted, dataKEN_melted, dataMPE_melted, dataMAR_melted,\n",
    "    dataSUL_melted, dataRUI_melted, dataPAS_melted, dataPARQ_melted, dataPERS_melted,\n",
    "    dataJOQ_melted, dataRIOMAR_melted]"
   ]
  },
  {
   "cell_type": "code",
   "execution_count": 881,
   "id": "ece330e9-174f-494f-b89d-69061775cf4f",
   "metadata": {
    "id": "ece330e9-174f-494f-b89d-69061775cf4f"
   },
   "outputs": [],
   "source": [
    "nomes_unidades = [\n",
    "    'MESSEJANA', 'ALDEOTA', 'FATIMA', 'BOOTCAMP', 'CAMBEBA',\n",
    "    'EUSÉBIO', 'GUARARÁPES', 'KENNEDY', 'MARANGUAPE', 'MARAPONGA',\n",
    "    'SUL', 'RUI BARBOSA', 'PASSARÉ', 'PARQUELÂNDIA', 'PERSONAL',\n",
    "    'JÓQUEI', 'RIOMAR'\n",
    "]"
   ]
  },
  {
   "cell_type": "code",
   "execution_count": 882,
   "id": "61af807a-a1ac-4ab2-bd6b-6a18e8aad6c0",
   "metadata": {
    "id": "61af807a-a1ac-4ab2-bd6b-6a18e8aad6c0"
   },
   "outputs": [],
   "source": [
    "dataframe_concatenado = pd.concat(lista_de_dataframes, keys=nomes_unidades, names=['Unidade'], ignore_index=False)\n"
   ]
  },
  {
   "cell_type": "code",
   "execution_count": 883,
   "id": "8c10bda3-a579-43f4-a14d-799d66cf7e4d",
   "metadata": {
    "id": "8c10bda3-a579-43f4-a14d-799d66cf7e4d"
   },
   "outputs": [],
   "source": [
    "dataframe_concatenado = dataframe_concatenado.reset_index(level='Unidade')"
   ]
  },
  {
   "cell_type": "code",
   "execution_count": 884,
   "id": "e2d6c963-9d47-4bd0-862b-21ea578777b6",
   "metadata": {
    "colab": {
     "base_uri": "https://localhost:8080/",
     "height": 236
    },
    "id": "e2d6c963-9d47-4bd0-862b-21ea578777b6",
    "outputId": "798b08d1-e3cb-4dd6-8cfe-b76d9341146f"
   },
   "outputs": [
    {
     "data": {
      "text/html": [
       "<div>\n",
       "<style scoped>\n",
       "    .dataframe tbody tr th:only-of-type {\n",
       "        vertical-align: middle;\n",
       "    }\n",
       "\n",
       "    .dataframe tbody tr th {\n",
       "        vertical-align: top;\n",
       "    }\n",
       "\n",
       "    .dataframe thead th {\n",
       "        text-align: right;\n",
       "    }\n",
       "</style>\n",
       "<table border=\"1\" class=\"dataframe\">\n",
       "  <thead>\n",
       "    <tr style=\"text-align: right;\">\n",
       "      <th></th>\n",
       "      <th>Unidade</th>\n",
       "      <th>CATEGORIA</th>\n",
       "      <th>MODALIDADE</th>\n",
       "      <th>DIA DA SEMANA</th>\n",
       "      <th>HORÁRIO</th>\n",
       "      <th>TURNO</th>\n",
       "      <th>PROFESSOR</th>\n",
       "      <th>Média alunos p/ professor</th>\n",
       "      <th>Média</th>\n",
       "      <th>Alunos/professor</th>\n",
       "      <th>Ocupação Máxima</th>\n",
       "      <th>Professor</th>\n",
       "      <th>Dias de Aulas</th>\n",
       "      <th>Frequencia de Alunos</th>\n",
       "      <th>Aulas/mês</th>\n",
       "      <th>Ocupação Máxima0</th>\n",
       "    </tr>\n",
       "  </thead>\n",
       "  <tbody>\n",
       "    <tr>\n",
       "      <th>0</th>\n",
       "      <td>MESSEJANA</td>\n",
       "      <td>QUADRA</td>\n",
       "      <td>BEACH TENNIS - INICIANTE</td>\n",
       "      <td>seg, qua, sex</td>\n",
       "      <td>05:30</td>\n",
       "      <td>MANHÃ</td>\n",
       "      <td>KELY</td>\n",
       "      <td>13.0</td>\n",
       "      <td>0.923077</td>\n",
       "      <td>NaN</td>\n",
       "      <td>NaN</td>\n",
       "      <td>NaN</td>\n",
       "      <td>01-10-2024</td>\n",
       "      <td>0</td>\n",
       "      <td>NaN</td>\n",
       "      <td>NaN</td>\n",
       "    </tr>\n",
       "    <tr>\n",
       "      <th>1</th>\n",
       "      <td>MESSEJANA</td>\n",
       "      <td>QUADRA</td>\n",
       "      <td>BEACH TENNIS - INTERMEDIÁRIO</td>\n",
       "      <td>ter, qui</td>\n",
       "      <td>05:30</td>\n",
       "      <td>MANHÃ</td>\n",
       "      <td>KELY</td>\n",
       "      <td>11.0</td>\n",
       "      <td>4.636364</td>\n",
       "      <td>NaN</td>\n",
       "      <td>NaN</td>\n",
       "      <td>NaN</td>\n",
       "      <td>01-10-2024</td>\n",
       "      <td>4</td>\n",
       "      <td>NaN</td>\n",
       "      <td>NaN</td>\n",
       "    </tr>\n",
       "  </tbody>\n",
       "</table>\n",
       "</div>"
      ],
      "text/plain": [
       "     Unidade CATEGORIA                    MODALIDADE  DIA DA SEMANA HORÁRIO  \\\n",
       "0  MESSEJANA    QUADRA      BEACH TENNIS - INICIANTE  seg, qua, sex   05:30   \n",
       "1  MESSEJANA    QUADRA  BEACH TENNIS - INTERMEDIÁRIO       ter, qui   05:30   \n",
       "\n",
       "   TURNO PROFESSOR Média alunos p/ professor     Média Alunos/professor  \\\n",
       "0  MANHÃ      KELY                      13.0  0.923077              NaN   \n",
       "1  MANHÃ      KELY                      11.0  4.636364              NaN   \n",
       "\n",
       "   Ocupação Máxima  Professor Dias de Aulas  Frequencia de Alunos  Aulas/mês  \\\n",
       "0              NaN        NaN    01-10-2024                     0        NaN   \n",
       "1              NaN        NaN    01-10-2024                     4        NaN   \n",
       "\n",
       "   Ocupação Máxima0  \n",
       "0               NaN  \n",
       "1               NaN  "
      ]
     },
     "execution_count": 884,
     "metadata": {},
     "output_type": "execute_result"
    }
   ],
   "source": [
    "dataframe_concatenado.head(2)"
   ]
  },
  {
   "cell_type": "markdown",
   "id": "66a26abb-5679-4a4a-9195-d19551e445e0",
   "metadata": {
    "id": "66a26abb-5679-4a4a-9195-d19551e445e0"
   },
   "source": [
    "#### Exportando"
   ]
  },
  {
   "cell_type": "code",
   "execution_count": 885,
   "id": "3fd25f41-b421-4960-907b-c0d8f6d5d3b2",
   "metadata": {
    "id": "3fd25f41-b421-4960-907b-c0d8f6d5d3b2"
   },
   "outputs": [],
   "source": [
    "dataframe_concatenado.to_excel('base_tratada_de_frequencias_green_life_academias_dados_brutos.xlsx', index=False)"
   ]
  },
  {
   "cell_type": "code",
   "execution_count": null,
   "id": "04cecb95-67d8-4732-8890-7a6dfb051050",
   "metadata": {
    "id": "04cecb95-67d8-4732-8890-7a6dfb051050"
   },
   "outputs": [],
   "source": []
  }
 ],
 "metadata": {
  "colab": {
   "provenance": []
  },
  "kernelspec": {
   "display_name": "Python [conda env:base] *",
   "language": "python",
   "name": "conda-base-py"
  },
  "language_info": {
   "codemirror_mode": {
    "name": "ipython",
    "version": 3
   },
   "file_extension": ".py",
   "mimetype": "text/x-python",
   "name": "python",
   "nbconvert_exporter": "python",
   "pygments_lexer": "ipython3",
   "version": "3.13.5"
  },
  "toc-autonumbering": false,
  "toc-showcode": false,
  "toc-showtags": true
 },
 "nbformat": 4,
 "nbformat_minor": 5
}
